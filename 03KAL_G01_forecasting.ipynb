{
 "cells": [
  {
   "cell_type": "markdown",
   "id": "18606e67-7539-4c58-8a00-f44bb3293f33",
   "metadata": {},
   "source": [
    "# Preliminaries"
   ]
  },
  {
   "cell_type": "code",
   "execution_count": 2,
   "id": "253d1f02-fed4-4b83-9bec-bad80857c2b7",
   "metadata": {},
   "outputs": [
    {
     "name": "stdout",
     "output_type": "stream",
     "text": [
      "Collecting statsmodels\n",
      "  Downloading statsmodels-0.14.0-cp39-cp39-win_amd64.whl (9.4 MB)\n",
      "     ---------------------------------------- 9.4/9.4 MB 3.6 MB/s eta 0:00:00\n",
      "Requirement already satisfied: numpy>=1.18 in c:\\users\\mancy036\\anaconda3\\lib\\site-packages (from statsmodels) (1.26.1)\n",
      "Requirement already satisfied: packaging>=21.3 in c:\\users\\mancy036\\anaconda3\\lib\\site-packages (from statsmodels) (22.0)\n",
      "Requirement already satisfied: scipy!=1.9.2,>=1.4 in c:\\users\\mancy036\\anaconda3\\lib\\site-packages (from statsmodels) (1.10.1)\n",
      "Requirement already satisfied: patsy>=0.5.2 in c:\\users\\mancy036\\anaconda3\\lib\\site-packages (from statsmodels) (0.5.3)\n",
      "Requirement already satisfied: pandas>=1.0 in c:\\users\\mancy036\\anaconda3\\lib\\site-packages (from statsmodels) (2.1.3)\n",
      "Requirement already satisfied: python-dateutil>=2.8.2 in c:\\users\\mancy036\\anaconda3\\lib\\site-packages (from pandas>=1.0->statsmodels) (2.8.2)\n",
      "Requirement already satisfied: tzdata>=2022.1 in c:\\users\\mancy036\\anaconda3\\lib\\site-packages (from pandas>=1.0->statsmodels) (2023.3)\n",
      "Requirement already satisfied: pytz>=2020.1 in c:\\users\\mancy036\\anaconda3\\lib\\site-packages (from pandas>=1.0->statsmodels) (2022.7)\n",
      "Requirement already satisfied: six in c:\\users\\mancy036\\anaconda3\\lib\\site-packages (from patsy>=0.5.2->statsmodels) (1.16.0)\n",
      "Installing collected packages: statsmodels\n",
      "Successfully installed statsmodels-0.14.0\n"
     ]
    }
   ],
   "source": [
    "!pip install statsmodels"
   ]
  },
  {
   "cell_type": "code",
   "execution_count": 3,
   "id": "2eac082d-7488-4dd9-aa74-37818a5fae6c",
   "metadata": {
    "tags": []
   },
   "outputs": [],
   "source": [
    "import numpy as np\n",
    "import pandas as pd\n",
    "import matplotlib.pyplot as plt\n",
    "\n",
    "import statsmodels.api as sm\n",
    "from statsmodels import datasets\n",
    "from statsmodels.graphics.tsaplots import plot_acf, plot_pacf\n",
    "\n",
    "from sklearn.ensemble import IsolationForest\n",
    "from statsmodels.tsa.stattools import adfuller"
   ]
  },
  {
   "cell_type": "code",
   "execution_count": 4,
   "id": "40de20d6-4e27-473b-a002-99d3691e4e90",
   "metadata": {
    "tags": []
   },
   "outputs": [
    {
     "data": {
      "text/html": [
       "<div>\n",
       "<style scoped>\n",
       "    .dataframe tbody tr th:only-of-type {\n",
       "        vertical-align: middle;\n",
       "    }\n",
       "\n",
       "    .dataframe tbody tr th {\n",
       "        vertical-align: top;\n",
       "    }\n",
       "\n",
       "    .dataframe thead th {\n",
       "        text-align: right;\n",
       "    }\n",
       "</style>\n",
       "<table border=\"1\" class=\"dataframe\">\n",
       "  <thead>\n",
       "    <tr style=\"text-align: right;\">\n",
       "      <th></th>\n",
       "      <th>RUN_TIME</th>\n",
       "      <th>MKT_TYPE</th>\n",
       "      <th>REGION_NAME</th>\n",
       "      <th>ZONE_NAME</th>\n",
       "      <th>RESOURCE_NAME</th>\n",
       "      <th>TIME_INTERVAL</th>\n",
       "      <th>START_TIME</th>\n",
       "      <th>END_TIME</th>\n",
       "      <th>MP_NAME</th>\n",
       "      <th>SELF_SCHED_MW</th>\n",
       "      <th>Unnamed: 10</th>\n",
       "    </tr>\n",
       "  </thead>\n",
       "  <tbody>\n",
       "    <tr>\n",
       "      <th>0</th>\n",
       "      <td>07/29/2021 10:00:00 PM</td>\n",
       "      <td>RTD</td>\n",
       "      <td>CLUZ</td>\n",
       "      <td>SLUZON</td>\n",
       "      <td>03KAL_G01</td>\n",
       "      <td>07/29/2021 10:05:00 PM</td>\n",
       "      <td>07/29/2021 10:00:00 PM</td>\n",
       "      <td>07/29/2021 10:05:00 PM</td>\n",
       "      <td>PSALM</td>\n",
       "      <td>-160.0</td>\n",
       "      <td>NaN</td>\n",
       "    </tr>\n",
       "    <tr>\n",
       "      <th>1</th>\n",
       "      <td>07/29/2021 10:05:00 PM</td>\n",
       "      <td>RTD</td>\n",
       "      <td>CLUZ</td>\n",
       "      <td>SLUZON</td>\n",
       "      <td>03KAL_G01</td>\n",
       "      <td>07/29/2021 10:10:00 PM</td>\n",
       "      <td>07/29/2021 10:05:00 PM</td>\n",
       "      <td>07/29/2021 10:10:00 PM</td>\n",
       "      <td>PSALM</td>\n",
       "      <td>-160.0</td>\n",
       "      <td>NaN</td>\n",
       "    </tr>\n",
       "    <tr>\n",
       "      <th>2</th>\n",
       "      <td>07/29/2021 10:10:00 PM</td>\n",
       "      <td>RTD</td>\n",
       "      <td>CLUZ</td>\n",
       "      <td>SLUZON</td>\n",
       "      <td>03KAL_G01</td>\n",
       "      <td>07/29/2021 10:15:00 PM</td>\n",
       "      <td>07/29/2021 10:10:00 PM</td>\n",
       "      <td>07/29/2021 10:15:00 PM</td>\n",
       "      <td>PSALM</td>\n",
       "      <td>-160.0</td>\n",
       "      <td>NaN</td>\n",
       "    </tr>\n",
       "    <tr>\n",
       "      <th>3</th>\n",
       "      <td>07/29/2021 10:15:00 PM</td>\n",
       "      <td>RTD</td>\n",
       "      <td>CLUZ</td>\n",
       "      <td>SLUZON</td>\n",
       "      <td>03KAL_G01</td>\n",
       "      <td>07/29/2021 10:20:00 PM</td>\n",
       "      <td>07/29/2021 10:15:00 PM</td>\n",
       "      <td>07/29/2021 10:20:00 PM</td>\n",
       "      <td>PSALM</td>\n",
       "      <td>-160.0</td>\n",
       "      <td>NaN</td>\n",
       "    </tr>\n",
       "    <tr>\n",
       "      <th>4</th>\n",
       "      <td>07/29/2021 10:20:00 PM</td>\n",
       "      <td>RTD</td>\n",
       "      <td>CLUZ</td>\n",
       "      <td>SLUZON</td>\n",
       "      <td>03KAL_G01</td>\n",
       "      <td>07/29/2021 10:25:00 PM</td>\n",
       "      <td>07/29/2021 10:20:00 PM</td>\n",
       "      <td>07/29/2021 10:25:00 PM</td>\n",
       "      <td>PSALM</td>\n",
       "      <td>-160.0</td>\n",
       "      <td>NaN</td>\n",
       "    </tr>\n",
       "  </tbody>\n",
       "</table>\n",
       "</div>"
      ],
      "text/plain": [
       "                 RUN_TIME MKT_TYPE REGION_NAME ZONE_NAME RESOURCE_NAME  \\\n",
       "0  07/29/2021 10:00:00 PM      RTD        CLUZ    SLUZON     03KAL_G01   \n",
       "1  07/29/2021 10:05:00 PM      RTD        CLUZ    SLUZON     03KAL_G01   \n",
       "2  07/29/2021 10:10:00 PM      RTD        CLUZ    SLUZON     03KAL_G01   \n",
       "3  07/29/2021 10:15:00 PM      RTD        CLUZ    SLUZON     03KAL_G01   \n",
       "4  07/29/2021 10:20:00 PM      RTD        CLUZ    SLUZON     03KAL_G01   \n",
       "\n",
       "            TIME_INTERVAL              START_TIME                END_TIME  \\\n",
       "0  07/29/2021 10:05:00 PM  07/29/2021 10:00:00 PM  07/29/2021 10:05:00 PM   \n",
       "1  07/29/2021 10:10:00 PM  07/29/2021 10:05:00 PM  07/29/2021 10:10:00 PM   \n",
       "2  07/29/2021 10:15:00 PM  07/29/2021 10:10:00 PM  07/29/2021 10:15:00 PM   \n",
       "3  07/29/2021 10:20:00 PM  07/29/2021 10:15:00 PM  07/29/2021 10:20:00 PM   \n",
       "4  07/29/2021 10:25:00 PM  07/29/2021 10:20:00 PM  07/29/2021 10:25:00 PM   \n",
       "\n",
       "  MP_NAME  SELF_SCHED_MW  Unnamed: 10  \n",
       "0   PSALM         -160.0          NaN  \n",
       "1   PSALM         -160.0          NaN  \n",
       "2   PSALM         -160.0          NaN  \n",
       "3   PSALM         -160.0          NaN  \n",
       "4   PSALM         -160.0          NaN  "
      ]
     },
     "execution_count": 4,
     "metadata": {},
     "output_type": "execute_result"
    }
   ],
   "source": [
    "df = pd.read_csv('C:/Users/MANCY036/Downloads/Eskwelabs/consolidated_csv_selfsched_03KAL_G01.csv')\n",
    "df.head()"
   ]
  },
  {
   "cell_type": "markdown",
   "id": "4c98a98d-d509-4d25-831a-b5f4568a03c2",
   "metadata": {
    "tags": []
   },
   "source": [
    "# Data Preprocessing"
   ]
  },
  {
   "cell_type": "code",
   "execution_count": 5,
   "id": "7da0b576-e2df-4c2f-8df0-9cc0d7afd6aa",
   "metadata": {
    "tags": []
   },
   "outputs": [
    {
     "data": {
      "text/html": [
       "<div>\n",
       "<style scoped>\n",
       "    .dataframe tbody tr th:only-of-type {\n",
       "        vertical-align: middle;\n",
       "    }\n",
       "\n",
       "    .dataframe tbody tr th {\n",
       "        vertical-align: top;\n",
       "    }\n",
       "\n",
       "    .dataframe thead th {\n",
       "        text-align: right;\n",
       "    }\n",
       "</style>\n",
       "<table border=\"1\" class=\"dataframe\">\n",
       "  <thead>\n",
       "    <tr style=\"text-align: right;\">\n",
       "      <th></th>\n",
       "      <th>RUN_TIME</th>\n",
       "      <th>MKT_TYPE</th>\n",
       "      <th>REGION_NAME</th>\n",
       "      <th>ZONE_NAME</th>\n",
       "      <th>RESOURCE_NAME</th>\n",
       "      <th>TIME_INTERVAL</th>\n",
       "      <th>START_TIME</th>\n",
       "      <th>END_TIME</th>\n",
       "      <th>MP_NAME</th>\n",
       "      <th>SELF_SCHED_MW</th>\n",
       "      <th>Unnamed: 10</th>\n",
       "    </tr>\n",
       "  </thead>\n",
       "  <tbody>\n",
       "    <tr>\n",
       "      <th>0</th>\n",
       "      <td>2021-07-29 22:00:00</td>\n",
       "      <td>RTD</td>\n",
       "      <td>CLUZ</td>\n",
       "      <td>SLUZON</td>\n",
       "      <td>03KAL_G01</td>\n",
       "      <td>07/29/2021 10:05:00 PM</td>\n",
       "      <td>07/29/2021 10:00:00 PM</td>\n",
       "      <td>07/29/2021 10:05:00 PM</td>\n",
       "      <td>PSALM</td>\n",
       "      <td>-160.0</td>\n",
       "      <td>NaN</td>\n",
       "    </tr>\n",
       "    <tr>\n",
       "      <th>1</th>\n",
       "      <td>2021-07-29 22:05:00</td>\n",
       "      <td>RTD</td>\n",
       "      <td>CLUZ</td>\n",
       "      <td>SLUZON</td>\n",
       "      <td>03KAL_G01</td>\n",
       "      <td>07/29/2021 10:10:00 PM</td>\n",
       "      <td>07/29/2021 10:05:00 PM</td>\n",
       "      <td>07/29/2021 10:10:00 PM</td>\n",
       "      <td>PSALM</td>\n",
       "      <td>-160.0</td>\n",
       "      <td>NaN</td>\n",
       "    </tr>\n",
       "    <tr>\n",
       "      <th>2</th>\n",
       "      <td>2021-07-29 22:10:00</td>\n",
       "      <td>RTD</td>\n",
       "      <td>CLUZ</td>\n",
       "      <td>SLUZON</td>\n",
       "      <td>03KAL_G01</td>\n",
       "      <td>07/29/2021 10:15:00 PM</td>\n",
       "      <td>07/29/2021 10:10:00 PM</td>\n",
       "      <td>07/29/2021 10:15:00 PM</td>\n",
       "      <td>PSALM</td>\n",
       "      <td>-160.0</td>\n",
       "      <td>NaN</td>\n",
       "    </tr>\n",
       "    <tr>\n",
       "      <th>3</th>\n",
       "      <td>2021-07-29 22:15:00</td>\n",
       "      <td>RTD</td>\n",
       "      <td>CLUZ</td>\n",
       "      <td>SLUZON</td>\n",
       "      <td>03KAL_G01</td>\n",
       "      <td>07/29/2021 10:20:00 PM</td>\n",
       "      <td>07/29/2021 10:15:00 PM</td>\n",
       "      <td>07/29/2021 10:20:00 PM</td>\n",
       "      <td>PSALM</td>\n",
       "      <td>-160.0</td>\n",
       "      <td>NaN</td>\n",
       "    </tr>\n",
       "    <tr>\n",
       "      <th>4</th>\n",
       "      <td>2021-07-29 22:20:00</td>\n",
       "      <td>RTD</td>\n",
       "      <td>CLUZ</td>\n",
       "      <td>SLUZON</td>\n",
       "      <td>03KAL_G01</td>\n",
       "      <td>07/29/2021 10:25:00 PM</td>\n",
       "      <td>07/29/2021 10:20:00 PM</td>\n",
       "      <td>07/29/2021 10:25:00 PM</td>\n",
       "      <td>PSALM</td>\n",
       "      <td>-160.0</td>\n",
       "      <td>NaN</td>\n",
       "    </tr>\n",
       "  </tbody>\n",
       "</table>\n",
       "</div>"
      ],
      "text/plain": [
       "             RUN_TIME MKT_TYPE REGION_NAME ZONE_NAME RESOURCE_NAME  \\\n",
       "0 2021-07-29 22:00:00      RTD        CLUZ    SLUZON     03KAL_G01   \n",
       "1 2021-07-29 22:05:00      RTD        CLUZ    SLUZON     03KAL_G01   \n",
       "2 2021-07-29 22:10:00      RTD        CLUZ    SLUZON     03KAL_G01   \n",
       "3 2021-07-29 22:15:00      RTD        CLUZ    SLUZON     03KAL_G01   \n",
       "4 2021-07-29 22:20:00      RTD        CLUZ    SLUZON     03KAL_G01   \n",
       "\n",
       "            TIME_INTERVAL              START_TIME                END_TIME  \\\n",
       "0  07/29/2021 10:05:00 PM  07/29/2021 10:00:00 PM  07/29/2021 10:05:00 PM   \n",
       "1  07/29/2021 10:10:00 PM  07/29/2021 10:05:00 PM  07/29/2021 10:10:00 PM   \n",
       "2  07/29/2021 10:15:00 PM  07/29/2021 10:10:00 PM  07/29/2021 10:15:00 PM   \n",
       "3  07/29/2021 10:20:00 PM  07/29/2021 10:15:00 PM  07/29/2021 10:20:00 PM   \n",
       "4  07/29/2021 10:25:00 PM  07/29/2021 10:20:00 PM  07/29/2021 10:25:00 PM   \n",
       "\n",
       "  MP_NAME  SELF_SCHED_MW  Unnamed: 10  \n",
       "0   PSALM         -160.0          NaN  \n",
       "1   PSALM         -160.0          NaN  \n",
       "2   PSALM         -160.0          NaN  \n",
       "3   PSALM         -160.0          NaN  \n",
       "4   PSALM         -160.0          NaN  "
      ]
     },
     "execution_count": 5,
     "metadata": {},
     "output_type": "execute_result"
    }
   ],
   "source": [
    "# transform date column into a datetime column\n",
    "df['RUN_TIME'] = pd.to_datetime(df['RUN_TIME'], format='%m/%d/%Y %I:%M:%S %p', errors='coerce')\n",
    "df.head()"
   ]
  },
  {
   "cell_type": "code",
   "execution_count": 151,
   "id": "b62c5113-9e98-46c5-962c-37d985e6d6a0",
   "metadata": {
    "tags": []
   },
   "outputs": [
    {
     "data": {
      "text/html": [
       "<div>\n",
       "<style scoped>\n",
       "    .dataframe tbody tr th:only-of-type {\n",
       "        vertical-align: middle;\n",
       "    }\n",
       "\n",
       "    .dataframe tbody tr th {\n",
       "        vertical-align: top;\n",
       "    }\n",
       "\n",
       "    .dataframe thead th {\n",
       "        text-align: right;\n",
       "    }\n",
       "</style>\n",
       "<table border=\"1\" class=\"dataframe\">\n",
       "  <thead>\n",
       "    <tr style=\"text-align: right;\">\n",
       "      <th></th>\n",
       "      <th>RUN_TIME</th>\n",
       "      <th>MKT_TYPE</th>\n",
       "      <th>REGION_NAME</th>\n",
       "      <th>ZONE_NAME</th>\n",
       "      <th>RESOURCE_NAME</th>\n",
       "      <th>TIME_INTERVAL</th>\n",
       "      <th>START_TIME</th>\n",
       "      <th>END_TIME</th>\n",
       "      <th>MP_NAME</th>\n",
       "      <th>SELF_SCHED_MW</th>\n",
       "      <th>Unnamed: 10</th>\n",
       "    </tr>\n",
       "  </thead>\n",
       "  <tbody>\n",
       "    <tr>\n",
       "      <th>162973</th>\n",
       "      <td>2023-01-01 00:05:00</td>\n",
       "      <td>RTD</td>\n",
       "      <td>CVIS</td>\n",
       "      <td>PANAY</td>\n",
       "      <td>08SLWIND_G01</td>\n",
       "      <td>1/1/2023 12:10:00 AM</td>\n",
       "      <td>1/1/2023 12:05:00 AM</td>\n",
       "      <td>1/1/2023 12:10:00 AM</td>\n",
       "      <td>TAREC</td>\n",
       "      <td>9.7</td>\n",
       "      <td>NaN</td>\n",
       "    </tr>\n",
       "    <tr>\n",
       "      <th>162974</th>\n",
       "      <td>2023-01-01 00:10:00</td>\n",
       "      <td>RTD</td>\n",
       "      <td>CVIS</td>\n",
       "      <td>PANAY</td>\n",
       "      <td>08SLWIND_G01</td>\n",
       "      <td>1/1/2023 12:15:00 AM</td>\n",
       "      <td>1/1/2023 12:10:00 AM</td>\n",
       "      <td>1/1/2023 12:15:00 AM</td>\n",
       "      <td>TAREC</td>\n",
       "      <td>9.7</td>\n",
       "      <td>NaN</td>\n",
       "    </tr>\n",
       "    <tr>\n",
       "      <th>162975</th>\n",
       "      <td>2023-01-01 00:15:00</td>\n",
       "      <td>RTD</td>\n",
       "      <td>CVIS</td>\n",
       "      <td>PANAY</td>\n",
       "      <td>08SLWIND_G01</td>\n",
       "      <td>1/1/2023 12:20:00 AM</td>\n",
       "      <td>1/1/2023 12:15:00 AM</td>\n",
       "      <td>1/1/2023 12:20:00 AM</td>\n",
       "      <td>TAREC</td>\n",
       "      <td>9.7</td>\n",
       "      <td>NaN</td>\n",
       "    </tr>\n",
       "    <tr>\n",
       "      <th>162976</th>\n",
       "      <td>2023-01-01 00:20:00</td>\n",
       "      <td>RTD</td>\n",
       "      <td>CVIS</td>\n",
       "      <td>PANAY</td>\n",
       "      <td>08SLWIND_G01</td>\n",
       "      <td>1/1/2023 12:25:00 AM</td>\n",
       "      <td>1/1/2023 12:20:00 AM</td>\n",
       "      <td>1/1/2023 12:25:00 AM</td>\n",
       "      <td>TAREC</td>\n",
       "      <td>9.7</td>\n",
       "      <td>NaN</td>\n",
       "    </tr>\n",
       "    <tr>\n",
       "      <th>162977</th>\n",
       "      <td>2023-01-01 00:25:00</td>\n",
       "      <td>RTD</td>\n",
       "      <td>CVIS</td>\n",
       "      <td>PANAY</td>\n",
       "      <td>08SLWIND_G01</td>\n",
       "      <td>1/1/2023 12:30:00 AM</td>\n",
       "      <td>1/1/2023 12:25:00 AM</td>\n",
       "      <td>1/1/2023 12:30:00 AM</td>\n",
       "      <td>TAREC</td>\n",
       "      <td>9.7</td>\n",
       "      <td>NaN</td>\n",
       "    </tr>\n",
       "  </tbody>\n",
       "</table>\n",
       "</div>"
      ],
      "text/plain": [
       "                  RUN_TIME MKT_TYPE REGION_NAME ZONE_NAME RESOURCE_NAME  \\\n",
       "162973 2023-01-01 00:05:00      RTD        CVIS     PANAY  08SLWIND_G01   \n",
       "162974 2023-01-01 00:10:00      RTD        CVIS     PANAY  08SLWIND_G01   \n",
       "162975 2023-01-01 00:15:00      RTD        CVIS     PANAY  08SLWIND_G01   \n",
       "162976 2023-01-01 00:20:00      RTD        CVIS     PANAY  08SLWIND_G01   \n",
       "162977 2023-01-01 00:25:00      RTD        CVIS     PANAY  08SLWIND_G01   \n",
       "\n",
       "               TIME_INTERVAL            START_TIME              END_TIME  \\\n",
       "162973  1/1/2023 12:10:00 AM  1/1/2023 12:05:00 AM  1/1/2023 12:10:00 AM   \n",
       "162974  1/1/2023 12:15:00 AM  1/1/2023 12:10:00 AM  1/1/2023 12:15:00 AM   \n",
       "162975  1/1/2023 12:20:00 AM  1/1/2023 12:15:00 AM  1/1/2023 12:20:00 AM   \n",
       "162976  1/1/2023 12:25:00 AM  1/1/2023 12:20:00 AM  1/1/2023 12:25:00 AM   \n",
       "162977  1/1/2023 12:30:00 AM  1/1/2023 12:25:00 AM  1/1/2023 12:30:00 AM   \n",
       "\n",
       "       MP_NAME  SELF_SCHED_MW  Unnamed: 10  \n",
       "162973   TAREC            9.7          NaN  \n",
       "162974   TAREC            9.7          NaN  \n",
       "162975   TAREC            9.7          NaN  \n",
       "162976   TAREC            9.7          NaN  \n",
       "162977   TAREC            9.7          NaN  "
      ]
     },
     "execution_count": 151,
     "metadata": {},
     "output_type": "execute_result"
    }
   ],
   "source": [
    "# # Filtering the dataset to see 2023\n",
    "# df = df[(df['RUN_TIME'].dt.year == 2023)]\n",
    "# df.head()"
   ]
  },
  {
   "cell_type": "code",
   "execution_count": 6,
   "id": "6bf1047d-4ed9-4e82-9d6f-6c05fba893e5",
   "metadata": {
    "tags": []
   },
   "outputs": [
    {
     "name": "stdout",
     "output_type": "stream",
     "text": [
      "Duplicate Labels: Index([], dtype='int64')\n"
     ]
    }
   ],
   "source": [
    "duplicate_labels = df.index[df.index.duplicated()]\n",
    "print(\"Duplicate Labels:\", duplicate_labels)"
   ]
  },
  {
   "cell_type": "code",
   "execution_count": 7,
   "id": "419ef299-4b2c-415c-8466-336cd542b4dd",
   "metadata": {
    "tags": []
   },
   "outputs": [
    {
     "data": {
      "text/html": [
       "<div>\n",
       "<style scoped>\n",
       "    .dataframe tbody tr th:only-of-type {\n",
       "        vertical-align: middle;\n",
       "    }\n",
       "\n",
       "    .dataframe tbody tr th {\n",
       "        vertical-align: top;\n",
       "    }\n",
       "\n",
       "    .dataframe thead th {\n",
       "        text-align: right;\n",
       "    }\n",
       "</style>\n",
       "<table border=\"1\" class=\"dataframe\">\n",
       "  <thead>\n",
       "    <tr style=\"text-align: right;\">\n",
       "      <th></th>\n",
       "      <th>RUN_TIME</th>\n",
       "      <th>MKT_TYPE</th>\n",
       "      <th>REGION_NAME</th>\n",
       "      <th>ZONE_NAME</th>\n",
       "      <th>RESOURCE_NAME</th>\n",
       "      <th>TIME_INTERVAL</th>\n",
       "      <th>START_TIME</th>\n",
       "      <th>END_TIME</th>\n",
       "      <th>MP_NAME</th>\n",
       "      <th>SELF_SCHED_MW</th>\n",
       "      <th>Unnamed: 10</th>\n",
       "    </tr>\n",
       "  </thead>\n",
       "  <tbody>\n",
       "    <tr>\n",
       "      <th>0</th>\n",
       "      <td>2021-07-29 22:00:00</td>\n",
       "      <td>RTD</td>\n",
       "      <td>CLUZ</td>\n",
       "      <td>SLUZON</td>\n",
       "      <td>03KAL_G01</td>\n",
       "      <td>07/29/2021 10:05:00 PM</td>\n",
       "      <td>07/29/2021 10:00:00 PM</td>\n",
       "      <td>07/29/2021 10:05:00 PM</td>\n",
       "      <td>PSALM</td>\n",
       "      <td>-160.0</td>\n",
       "      <td>NaN</td>\n",
       "    </tr>\n",
       "    <tr>\n",
       "      <th>1</th>\n",
       "      <td>2021-07-29 22:05:00</td>\n",
       "      <td>RTD</td>\n",
       "      <td>CLUZ</td>\n",
       "      <td>SLUZON</td>\n",
       "      <td>03KAL_G01</td>\n",
       "      <td>07/29/2021 10:10:00 PM</td>\n",
       "      <td>07/29/2021 10:05:00 PM</td>\n",
       "      <td>07/29/2021 10:10:00 PM</td>\n",
       "      <td>PSALM</td>\n",
       "      <td>-160.0</td>\n",
       "      <td>NaN</td>\n",
       "    </tr>\n",
       "    <tr>\n",
       "      <th>2</th>\n",
       "      <td>2021-07-29 22:10:00</td>\n",
       "      <td>RTD</td>\n",
       "      <td>CLUZ</td>\n",
       "      <td>SLUZON</td>\n",
       "      <td>03KAL_G01</td>\n",
       "      <td>07/29/2021 10:15:00 PM</td>\n",
       "      <td>07/29/2021 10:10:00 PM</td>\n",
       "      <td>07/29/2021 10:15:00 PM</td>\n",
       "      <td>PSALM</td>\n",
       "      <td>-160.0</td>\n",
       "      <td>NaN</td>\n",
       "    </tr>\n",
       "    <tr>\n",
       "      <th>3</th>\n",
       "      <td>2021-07-29 22:15:00</td>\n",
       "      <td>RTD</td>\n",
       "      <td>CLUZ</td>\n",
       "      <td>SLUZON</td>\n",
       "      <td>03KAL_G01</td>\n",
       "      <td>07/29/2021 10:20:00 PM</td>\n",
       "      <td>07/29/2021 10:15:00 PM</td>\n",
       "      <td>07/29/2021 10:20:00 PM</td>\n",
       "      <td>PSALM</td>\n",
       "      <td>-160.0</td>\n",
       "      <td>NaN</td>\n",
       "    </tr>\n",
       "    <tr>\n",
       "      <th>4</th>\n",
       "      <td>2021-07-29 22:20:00</td>\n",
       "      <td>RTD</td>\n",
       "      <td>CLUZ</td>\n",
       "      <td>SLUZON</td>\n",
       "      <td>03KAL_G01</td>\n",
       "      <td>07/29/2021 10:25:00 PM</td>\n",
       "      <td>07/29/2021 10:20:00 PM</td>\n",
       "      <td>07/29/2021 10:25:00 PM</td>\n",
       "      <td>PSALM</td>\n",
       "      <td>-160.0</td>\n",
       "      <td>NaN</td>\n",
       "    </tr>\n",
       "  </tbody>\n",
       "</table>\n",
       "</div>"
      ],
      "text/plain": [
       "             RUN_TIME MKT_TYPE REGION_NAME ZONE_NAME RESOURCE_NAME  \\\n",
       "0 2021-07-29 22:00:00      RTD        CLUZ    SLUZON     03KAL_G01   \n",
       "1 2021-07-29 22:05:00      RTD        CLUZ    SLUZON     03KAL_G01   \n",
       "2 2021-07-29 22:10:00      RTD        CLUZ    SLUZON     03KAL_G01   \n",
       "3 2021-07-29 22:15:00      RTD        CLUZ    SLUZON     03KAL_G01   \n",
       "4 2021-07-29 22:20:00      RTD        CLUZ    SLUZON     03KAL_G01   \n",
       "\n",
       "            TIME_INTERVAL              START_TIME                END_TIME  \\\n",
       "0  07/29/2021 10:05:00 PM  07/29/2021 10:00:00 PM  07/29/2021 10:05:00 PM   \n",
       "1  07/29/2021 10:10:00 PM  07/29/2021 10:05:00 PM  07/29/2021 10:10:00 PM   \n",
       "2  07/29/2021 10:15:00 PM  07/29/2021 10:10:00 PM  07/29/2021 10:15:00 PM   \n",
       "3  07/29/2021 10:20:00 PM  07/29/2021 10:15:00 PM  07/29/2021 10:20:00 PM   \n",
       "4  07/29/2021 10:25:00 PM  07/29/2021 10:20:00 PM  07/29/2021 10:25:00 PM   \n",
       "\n",
       "  MP_NAME  SELF_SCHED_MW  Unnamed: 10  \n",
       "0   PSALM         -160.0          NaN  \n",
       "1   PSALM         -160.0          NaN  \n",
       "2   PSALM         -160.0          NaN  \n",
       "3   PSALM         -160.0          NaN  \n",
       "4   PSALM         -160.0          NaN  "
      ]
     },
     "execution_count": 7,
     "metadata": {},
     "output_type": "execute_result"
    }
   ],
   "source": [
    "df = df[~df.index.duplicated(keep='first')]\n",
    "df.head()"
   ]
  },
  {
   "cell_type": "code",
   "execution_count": 8,
   "id": "45597589-cbfc-4ef1-873a-3e282e67ff95",
   "metadata": {
    "tags": []
   },
   "outputs": [],
   "source": [
    "df = df[['RUN_TIME', 'SELF_SCHED_MW']]"
   ]
  },
  {
   "cell_type": "code",
   "execution_count": 9,
   "id": "e790428f-032e-4a69-9f51-c6ffa440dcb2",
   "metadata": {
    "tags": []
   },
   "outputs": [
    {
     "data": {
      "text/html": [
       "<div>\n",
       "<style scoped>\n",
       "    .dataframe tbody tr th:only-of-type {\n",
       "        vertical-align: middle;\n",
       "    }\n",
       "\n",
       "    .dataframe tbody tr th {\n",
       "        vertical-align: top;\n",
       "    }\n",
       "\n",
       "    .dataframe thead th {\n",
       "        text-align: right;\n",
       "    }\n",
       "</style>\n",
       "<table border=\"1\" class=\"dataframe\">\n",
       "  <thead>\n",
       "    <tr style=\"text-align: right;\">\n",
       "      <th></th>\n",
       "      <th>max_SELF_SCHED_MW</th>\n",
       "    </tr>\n",
       "    <tr>\n",
       "      <th>Date</th>\n",
       "      <th></th>\n",
       "    </tr>\n",
       "  </thead>\n",
       "  <tbody>\n",
       "    <tr>\n",
       "      <th>2021-07-29</th>\n",
       "      <td>-160.0</td>\n",
       "    </tr>\n",
       "    <tr>\n",
       "      <th>2021-07-30</th>\n",
       "      <td>-160.0</td>\n",
       "    </tr>\n",
       "    <tr>\n",
       "      <th>2021-07-31</th>\n",
       "      <td>-160.0</td>\n",
       "    </tr>\n",
       "    <tr>\n",
       "      <th>2021-08-01</th>\n",
       "      <td>-160.0</td>\n",
       "    </tr>\n",
       "    <tr>\n",
       "      <th>2021-08-02</th>\n",
       "      <td>-160.0</td>\n",
       "    </tr>\n",
       "  </tbody>\n",
       "</table>\n",
       "</div>"
      ],
      "text/plain": [
       "            max_SELF_SCHED_MW\n",
       "Date                         \n",
       "2021-07-29             -160.0\n",
       "2021-07-30             -160.0\n",
       "2021-07-31             -160.0\n",
       "2021-08-01             -160.0\n",
       "2021-08-02             -160.0"
      ]
     },
     "execution_count": 9,
     "metadata": {},
     "output_type": "execute_result"
    }
   ],
   "source": [
    "# Get max value per day\n",
    "data_max = df.groupby(df['RUN_TIME'].dt.date)['SELF_SCHED_MW'].agg(['max']).reset_index()\n",
    "data_max.columns = ['Date', 'max_SELF_SCHED_MW']\n",
    "data_max['Date'] = pd.to_datetime(data_max['Date'])\n",
    "data_max.set_index('Date', inplace=True)\n",
    "data_max.head()"
   ]
  },
  {
   "cell_type": "code",
   "execution_count": 10,
   "id": "38511125-3de5-4938-9aed-721c82b0e88a",
   "metadata": {
    "tags": []
   },
   "outputs": [
    {
     "data": {
      "text/plain": [
       "max_SELF_SCHED_MW    False\n",
       "dtype: bool"
      ]
     },
     "execution_count": 10,
     "metadata": {},
     "output_type": "execute_result"
    }
   ],
   "source": [
    "data_max.isnull().any()"
   ]
  },
  {
   "cell_type": "code",
   "execution_count": 11,
   "id": "93e252c4-f9db-4589-84b9-2bf8f813c11b",
   "metadata": {
    "tags": []
   },
   "outputs": [
    {
     "data": {
      "image/png": "[encoded data removed]",
      "text/plain": [
       "<Figure size 1000x600 with 1 Axes>"
      ]
     },
     "metadata": {},
     "output_type": "display_data"
    }
   ],
   "source": [
    "# Plot the time series as a line plot\n",
    "plt.figure(figsize=(10, 6))\n",
    "plt.plot(data_max, linestyle='-', color='b', label='Max Quantity')\n",
    "plt.title('Max Quantity Per Day in 2023')\n",
    "plt.xlabel('Bidding Intervals')\n",
    "plt.ylabel('Max Quantity')\n",
    "plt.grid(True)\n",
    "plt.show()"
   ]
  },
  {
   "cell_type": "markdown",
   "id": "96e971e3-2815-48ae-9e45-e029733582e1",
   "metadata": {},
   "source": [
    "# Stationarity Test"
   ]
  },
  {
   "cell_type": "code",
   "execution_count": 12,
   "id": "30446704-ade4-4bc9-a90f-42722362af26",
   "metadata": {
    "tags": []
   },
   "outputs": [],
   "source": [
    "def adf_test(data):\n",
    "    adf_test = adfuller(data)\n",
    "    adf_result = pd.Series(adf_test[0:4], index=['Test Statistic','p-value','N Lags Used',\\\n",
    "                                                'N Observations Used'])\n",
    "    for key,value in adf_test[4].items():\n",
    "            adf_result['Critical Value (%s)'%key] = value\n",
    "\n",
    "    return adf_result"
   ]
  },
  {
   "cell_type": "code",
   "execution_count": 13,
   "id": "1d12ff9e-5701-4ee0-989a-71a6d1ad09d5",
   "metadata": {
    "tags": []
   },
   "outputs": [
    {
     "data": {
      "text/plain": [
       "Test Statistic         -1.744071e+01\n",
       "p-value                 4.711085e-30\n",
       "N Lags Used             5.000000e+00\n",
       "N Observations Used     4.760000e+02\n",
       "Critical Value (1%)    -3.444163e+00\n",
       "Critical Value (5%)    -2.867631e+00\n",
       "Critical Value (10%)   -2.570014e+00\n",
       "dtype: float64"
      ]
     },
     "execution_count": 13,
     "metadata": {},
     "output_type": "execute_result"
    }
   ],
   "source": [
    "adf_test(data_max.diff()[1:])"
   ]
  },
  {
   "cell_type": "code",
   "execution_count": null,
   "id": "45c79869-9cef-490e-b1df-553a2b6dc0e2",
   "metadata": {},
   "outputs": [],
   "source": [
    "# final_df_daily passed the test. Conlusion: Stationary"
   ]
  },
  {
   "cell_type": "markdown",
   "id": "f1a44e52-2ee7-4497-a120-6c93eb05141a",
   "metadata": {},
   "source": [
    "# Checking Trend"
   ]
  },
  {
   "cell_type": "code",
   "execution_count": 16,
   "id": "653e38bb-6052-4b39-b6cb-cbd77d37fc3f",
   "metadata": {
    "tags": []
   },
   "outputs": [
    {
     "data": {
      "text/html": [
       "<div>\n",
       "<style scoped>\n",
       "    .dataframe tbody tr th:only-of-type {\n",
       "        vertical-align: middle;\n",
       "    }\n",
       "\n",
       "    .dataframe tbody tr th {\n",
       "        vertical-align: top;\n",
       "    }\n",
       "\n",
       "    .dataframe thead th {\n",
       "        text-align: right;\n",
       "    }\n",
       "</style>\n",
       "<table border=\"1\" class=\"dataframe\">\n",
       "  <thead>\n",
       "    <tr style=\"text-align: right;\">\n",
       "      <th></th>\n",
       "      <th>max_SELF_SCHED_MW</th>\n",
       "    </tr>\n",
       "    <tr>\n",
       "      <th>Date</th>\n",
       "      <th></th>\n",
       "    </tr>\n",
       "  </thead>\n",
       "  <tbody>\n",
       "    <tr>\n",
       "      <th>2021-07-29</th>\n",
       "      <td>NaN</td>\n",
       "    </tr>\n",
       "    <tr>\n",
       "      <th>2021-07-30</th>\n",
       "      <td>NaN</td>\n",
       "    </tr>\n",
       "    <tr>\n",
       "      <th>2021-07-31</th>\n",
       "      <td>NaN</td>\n",
       "    </tr>\n",
       "    <tr>\n",
       "      <th>2021-08-01</th>\n",
       "      <td>NaN</td>\n",
       "    </tr>\n",
       "    <tr>\n",
       "      <th>2021-08-02</th>\n",
       "      <td>NaN</td>\n",
       "    </tr>\n",
       "    <tr>\n",
       "      <th>...</th>\n",
       "      <td>...</td>\n",
       "    </tr>\n",
       "    <tr>\n",
       "      <th>2023-09-21</th>\n",
       "      <td>-158.0</td>\n",
       "    </tr>\n",
       "    <tr>\n",
       "      <th>2023-09-22</th>\n",
       "      <td>-158.0</td>\n",
       "    </tr>\n",
       "    <tr>\n",
       "      <th>2023-09-23</th>\n",
       "      <td>-158.0</td>\n",
       "    </tr>\n",
       "    <tr>\n",
       "      <th>2023-09-24</th>\n",
       "      <td>-158.0</td>\n",
       "    </tr>\n",
       "    <tr>\n",
       "      <th>2023-09-25</th>\n",
       "      <td>-158.0</td>\n",
       "    </tr>\n",
       "  </tbody>\n",
       "</table>\n",
       "<p>483 rows × 1 columns</p>\n",
       "</div>"
      ],
      "text/plain": [
       "            max_SELF_SCHED_MW\n",
       "Date                         \n",
       "2021-07-29                NaN\n",
       "2021-07-30                NaN\n",
       "2021-07-31                NaN\n",
       "2021-08-01                NaN\n",
       "2021-08-02                NaN\n",
       "...                       ...\n",
       "2023-09-21             -158.0\n",
       "2023-09-22             -158.0\n",
       "2023-09-23             -158.0\n",
       "2023-09-24             -158.0\n",
       "2023-09-25             -158.0\n",
       "\n",
       "[483 rows x 1 columns]"
      ]
     },
     "execution_count": 16,
     "metadata": {},
     "output_type": "execute_result"
    }
   ],
   "source": [
    "# Set window (the higher the window value, the smoother the graph)\n",
    "WINDOW = 30\n",
    "rolling_df = data_max.rolling(WINDOW).mean().shift(1)\n",
    "rolling_df"
   ]
  },
  {
   "cell_type": "code",
   "execution_count": 18,
   "id": "012418de-05e4-498d-85a7-8dc95c2d1877",
   "metadata": {
    "tags": []
   },
   "outputs": [
    {
     "data": {
      "text/plain": [
       "Text(0, 0.5, 'Maximum Capacity')"
      ]
     },
     "execution_count": 18,
     "metadata": {},
     "output_type": "execute_result"
    },
    {
     "data": {
      "image/png": "[encoded data removed]",
      "text/plain": [
       "<Figure size 1500x300 with 1 Axes>"
      ]
     },
     "metadata": {},
     "output_type": "display_data"
    }
   ],
   "source": [
    "# plot the forecast\n",
    "fig = plt.figure(figsize=(15,3))\n",
    "plt.plot(rolling_df, color='C1', label='windowed average')\n",
    "plt.legend()\n",
    "plt.ylabel(\"Maximum Capacity\")"
   ]
  },
  {
   "cell_type": "code",
   "execution_count": 19,
   "id": "540ee9a4-53cf-4f64-9901-c9918a0cc5d0",
   "metadata": {
    "tags": []
   },
   "outputs": [
    {
     "data": {
      "text/html": [
       "<div>\n",
       "<style scoped>\n",
       "    .dataframe tbody tr th:only-of-type {\n",
       "        vertical-align: middle;\n",
       "    }\n",
       "\n",
       "    .dataframe tbody tr th {\n",
       "        vertical-align: top;\n",
       "    }\n",
       "\n",
       "    .dataframe thead th {\n",
       "        text-align: right;\n",
       "    }\n",
       "</style>\n",
       "<table border=\"1\" class=\"dataframe\">\n",
       "  <thead>\n",
       "    <tr style=\"text-align: right;\">\n",
       "      <th></th>\n",
       "      <th>max_SELF_SCHED_MW</th>\n",
       "    </tr>\n",
       "    <tr>\n",
       "      <th>Date</th>\n",
       "      <th></th>\n",
       "    </tr>\n",
       "  </thead>\n",
       "  <tbody>\n",
       "    <tr>\n",
       "      <th>2021-07-29</th>\n",
       "      <td>NaN</td>\n",
       "    </tr>\n",
       "    <tr>\n",
       "      <th>2021-07-30</th>\n",
       "      <td>NaN</td>\n",
       "    </tr>\n",
       "    <tr>\n",
       "      <th>2021-07-31</th>\n",
       "      <td>NaN</td>\n",
       "    </tr>\n",
       "    <tr>\n",
       "      <th>2021-08-01</th>\n",
       "      <td>NaN</td>\n",
       "    </tr>\n",
       "    <tr>\n",
       "      <th>2021-08-02</th>\n",
       "      <td>NaN</td>\n",
       "    </tr>\n",
       "    <tr>\n",
       "      <th>...</th>\n",
       "      <td>...</td>\n",
       "    </tr>\n",
       "    <tr>\n",
       "      <th>2023-09-21</th>\n",
       "      <td>-158.0</td>\n",
       "    </tr>\n",
       "    <tr>\n",
       "      <th>2023-09-22</th>\n",
       "      <td>-158.0</td>\n",
       "    </tr>\n",
       "    <tr>\n",
       "      <th>2023-09-23</th>\n",
       "      <td>-158.0</td>\n",
       "    </tr>\n",
       "    <tr>\n",
       "      <th>2023-09-24</th>\n",
       "      <td>-158.0</td>\n",
       "    </tr>\n",
       "    <tr>\n",
       "      <th>2023-09-25</th>\n",
       "      <td>-158.0</td>\n",
       "    </tr>\n",
       "  </tbody>\n",
       "</table>\n",
       "<p>483 rows × 1 columns</p>\n",
       "</div>"
      ],
      "text/plain": [
       "            max_SELF_SCHED_MW\n",
       "Date                         \n",
       "2021-07-29                NaN\n",
       "2021-07-30                NaN\n",
       "2021-07-31                NaN\n",
       "2021-08-01                NaN\n",
       "2021-08-02                NaN\n",
       "...                       ...\n",
       "2023-09-21             -158.0\n",
       "2023-09-22             -158.0\n",
       "2023-09-23             -158.0\n",
       "2023-09-24             -158.0\n",
       "2023-09-25             -158.0\n",
       "\n",
       "[483 rows x 1 columns]"
      ]
     },
     "execution_count": 19,
     "metadata": {},
     "output_type": "execute_result"
    }
   ],
   "source": [
    "WINDOW = 7\n",
    "rolling_df2 = rolling_df.rolling(WINDOW).mean().shift(1)\n",
    "rolling_df2"
   ]
  },
  {
   "cell_type": "code",
   "execution_count": 20,
   "id": "eaf533ab-ef6d-4e8b-baae-e496c2c32855",
   "metadata": {
    "tags": []
   },
   "outputs": [
    {
     "data": {
      "text/plain": [
       "Text(0, 0.5, 'Maximum Capacity')"
      ]
     },
     "execution_count": 20,
     "metadata": {},
     "output_type": "execute_result"
    },
    {
     "data": {
      "image/png": "[encoded data removed]",
      "text/plain": [
       "<Figure size 1500x300 with 1 Axes>"
      ]
     },
     "metadata": {},
     "output_type": "display_data"
    }
   ],
   "source": [
    "# plot the forecast\n",
    "fig = plt.figure(figsize=(15,3))\n",
    "plt.plot(rolling_df2, color='C1', label='windowed average')\n",
    "plt.legend()\n",
    "plt.ylabel(\"Maximum Capacity\")"
   ]
  },
  {
   "cell_type": "markdown",
   "id": "b1fb90ca-41cc-44b8-aa23-e011f8bb6660",
   "metadata": {},
   "source": [
    "# Forecasting (Prophet)"
   ]
  },
  {
   "cell_type": "code",
   "execution_count": 21,
   "id": "7a5e9ce0-6894-43ac-a23b-05f53d1a51f5",
   "metadata": {
    "tags": []
   },
   "outputs": [],
   "source": [
    "#split dataset to training and test sets\n",
    "train_df = data_max['2021-01-01':'2023-06-30']\n",
    "test_df = data_max['2023-07-01':'2023-09-25']"
   ]
  },
  {
   "cell_type": "code",
   "execution_count": 22,
   "id": "93a416e1-5203-4a3a-a567-cb1cbb49ef69",
   "metadata": {
    "tags": []
   },
   "outputs": [],
   "source": [
    "from sklearn.metrics import mean_absolute_error, mean_squared_error\n",
    "def mean_absolute_percentage_error(y_true, y_pred):\n",
    "    y_true, y_pred = np.array(y_true), np.array(y_pred)\n",
    "    return np.mean(np.abs((y_true - y_pred) / y_true)) * 100\n",
    "\n",
    "def root_mean_squared_error(y_true, y_pred):\n",
    "    return np.sqrt(mean_squared_error(y_true, y_pred))\n",
    "\n",
    "def show_errors(y_true, y_pred):\n",
    "    return pd.DataFrame({'RMSE': root_mean_squared_error(y_true,y_pred),\\\n",
    "                                            'MAE':mean_absolute_error(y_true,y_pred),\\\n",
    "                                            'MAPE': mean_absolute_percentage_error(y_true,y_pred)}, index=[0])"
   ]
  },
  {
   "cell_type": "code",
   "execution_count": 23,
   "id": "04558ce7-a9fa-4234-8308-53c55ca99592",
   "metadata": {
    "tags": []
   },
   "outputs": [
    {
     "name": "stdout",
     "output_type": "stream",
     "text": [
      "Collecting prophet\n",
      "  Downloading prophet-1.1.5-py3-none-win_amd64.whl (13.3 MB)\n",
      "     ---------------------------------------- 13.3/13.3 MB 3.6 MB/s eta 0:00:00\n",
      "Collecting cmdstanpy>=1.0.4\n",
      "  Downloading cmdstanpy-1.2.0-py3-none-any.whl (93 kB)\n",
      "     ---------------------------------------- 93.0/93.0 kB 5.2 MB/s eta 0:00:00\n",
      "Collecting holidays>=0.25\n",
      "  Downloading holidays-0.38-py3-none-any.whl (854 kB)\n",
      "     -------------------------------------- 854.3/854.3 kB 3.9 MB/s eta 0:00:00\n",
      "Requirement already satisfied: tqdm>=4.36.1 in c:\\users\\mancy036\\anaconda3\\lib\\site-packages (from prophet) (4.64.1)\n",
      "Requirement already satisfied: numpy>=1.15.4 in c:\\users\\mancy036\\anaconda3\\lib\\site-packages (from prophet) (1.26.1)\n",
      "Requirement already satisfied: matplotlib>=2.0.0 in c:\\users\\mancy036\\anaconda3\\lib\\site-packages (from prophet) (3.7.2)\n",
      "Requirement already satisfied: pandas>=1.0.4 in c:\\users\\mancy036\\anaconda3\\lib\\site-packages (from prophet) (2.1.3)\n",
      "Requirement already satisfied: importlib-resources in c:\\users\\mancy036\\anaconda3\\lib\\site-packages (from prophet) (5.2.0)\n",
      "Collecting stanio~=0.3.0\n",
      "  Downloading stanio-0.3.0-py3-none-any.whl (6.2 kB)\n",
      "Requirement already satisfied: python-dateutil in c:\\users\\mancy036\\anaconda3\\lib\\site-packages (from holidays>=0.25->prophet) (2.8.2)\n",
      "Requirement already satisfied: cycler>=0.10 in c:\\users\\mancy036\\anaconda3\\lib\\site-packages (from matplotlib>=2.0.0->prophet) (0.11.0)\n",
      "Requirement already satisfied: pillow>=6.2.0 in c:\\users\\mancy036\\anaconda3\\lib\\site-packages (from matplotlib>=2.0.0->prophet) (9.3.0)\n",
      "Requirement already satisfied: contourpy>=1.0.1 in c:\\users\\mancy036\\anaconda3\\lib\\site-packages (from matplotlib>=2.0.0->prophet) (1.0.5)\n",
      "Requirement already satisfied: fonttools>=4.22.0 in c:\\users\\mancy036\\anaconda3\\lib\\site-packages (from matplotlib>=2.0.0->prophet) (4.25.0)\n",
      "Requirement already satisfied: pyparsing<3.1,>=2.3.1 in c:\\users\\mancy036\\anaconda3\\lib\\site-packages (from matplotlib>=2.0.0->prophet) (3.0.9)\n",
      "Requirement already satisfied: packaging>=20.0 in c:\\users\\mancy036\\anaconda3\\lib\\site-packages (from matplotlib>=2.0.0->prophet) (22.0)\n",
      "Requirement already satisfied: kiwisolver>=1.0.1 in c:\\users\\mancy036\\anaconda3\\lib\\site-packages (from matplotlib>=2.0.0->prophet) (1.4.4)\n",
      "Requirement already satisfied: zipp>=3.1.0 in c:\\users\\mancy036\\anaconda3\\lib\\site-packages (from importlib-resources->prophet) (3.11.0)\n",
      "Requirement already satisfied: pytz>=2020.1 in c:\\users\\mancy036\\anaconda3\\lib\\site-packages (from pandas>=1.0.4->prophet) (2022.7)\n",
      "Requirement already satisfied: tzdata>=2022.1 in c:\\users\\mancy036\\anaconda3\\lib\\site-packages (from pandas>=1.0.4->prophet) (2023.3)\n",
      "Requirement already satisfied: colorama in c:\\users\\mancy036\\anaconda3\\lib\\site-packages (from tqdm>=4.36.1->prophet) (0.4.6)\n",
      "Requirement already satisfied: six>=1.5 in c:\\users\\mancy036\\anaconda3\\lib\\site-packages (from python-dateutil->holidays>=0.25->prophet) (1.16.0)\n",
      "Installing collected packages: stanio, holidays, cmdstanpy, prophet\n",
      "Successfully installed cmdstanpy-1.2.0 holidays-0.38 prophet-1.1.5 stanio-0.3.0\n"
     ]
    }
   ],
   "source": [
    "!pip install prophet"
   ]
  },
  {
   "cell_type": "code",
   "execution_count": 256,
   "id": "9ecbfdbd-ca7b-44fa-acb3-d5680e9ed7f6",
   "metadata": {
    "tags": []
   },
   "outputs": [],
   "source": [
    "from prophet import Prophet"
   ]
  },
  {
   "cell_type": "code",
   "execution_count": 257,
   "id": "89cd444b-b329-48b3-8810-2cdc621e14b8",
   "metadata": {
    "tags": []
   },
   "outputs": [
    {
     "name": "stderr",
     "output_type": "stream",
     "text": [
      "20:25:58 - cmdstanpy - INFO - Chain [1] start processing\n",
      "20:25:58 - cmdstanpy - INFO - Chain [1] done processing\n"
     ]
    },
    {
     "data": {
      "text/plain": [
       "<prophet.forecaster.Prophet at 0x24673947790>"
      ]
     },
     "execution_count": 257,
     "metadata": {},
     "output_type": "execute_result"
    }
   ],
   "source": [
    "# Create Prophet model\n",
    "model = Prophet()\n",
    "\n",
    "# Rename the columns to fit Prophet's requirements\n",
    "input_df = train_df.copy().reset_index()\n",
    "input_df = input_df.rename(columns={'Date': 'ds', 'max_SELF_SCHED_MW': 'y'})\n",
    "\n",
    "# Fit model to data\n",
    "model.fit(input_df)"
   ]
  },
  {
   "cell_type": "code",
   "execution_count": 258,
   "id": "a612baed-fdb8-4c30-b83b-96cba4b1987c",
   "metadata": {
    "tags": []
   },
   "outputs": [
    {
     "data": {
      "text/html": [
       "<div>\n",
       "<style scoped>\n",
       "    .dataframe tbody tr th:only-of-type {\n",
       "        vertical-align: middle;\n",
       "    }\n",
       "\n",
       "    .dataframe tbody tr th {\n",
       "        vertical-align: top;\n",
       "    }\n",
       "\n",
       "    .dataframe thead th {\n",
       "        text-align: right;\n",
       "    }\n",
       "</style>\n",
       "<table border=\"1\" class=\"dataframe\">\n",
       "  <thead>\n",
       "    <tr style=\"text-align: right;\">\n",
       "      <th></th>\n",
       "      <th>ds</th>\n",
       "      <th>trend</th>\n",
       "      <th>yhat_lower</th>\n",
       "      <th>yhat_upper</th>\n",
       "      <th>trend_lower</th>\n",
       "      <th>trend_upper</th>\n",
       "      <th>additive_terms</th>\n",
       "      <th>additive_terms_lower</th>\n",
       "      <th>additive_terms_upper</th>\n",
       "      <th>weekly</th>\n",
       "      <th>weekly_lower</th>\n",
       "      <th>weekly_upper</th>\n",
       "      <th>yearly</th>\n",
       "      <th>yearly_lower</th>\n",
       "      <th>yearly_upper</th>\n",
       "      <th>multiplicative_terms</th>\n",
       "      <th>multiplicative_terms_lower</th>\n",
       "      <th>multiplicative_terms_upper</th>\n",
       "      <th>yhat</th>\n",
       "    </tr>\n",
       "  </thead>\n",
       "  <tbody>\n",
       "    <tr>\n",
       "      <th>0</th>\n",
       "      <td>2021-06-26</td>\n",
       "      <td>19.560744</td>\n",
       "      <td>-10.478342</td>\n",
       "      <td>18.522506</td>\n",
       "      <td>19.560744</td>\n",
       "      <td>19.560744</td>\n",
       "      <td>-15.288939</td>\n",
       "      <td>-15.288939</td>\n",
       "      <td>-15.288939</td>\n",
       "      <td>-0.667983</td>\n",
       "      <td>-0.667983</td>\n",
       "      <td>-0.667983</td>\n",
       "      <td>-14.620956</td>\n",
       "      <td>-14.620956</td>\n",
       "      <td>-14.620956</td>\n",
       "      <td>0.0</td>\n",
       "      <td>0.0</td>\n",
       "      <td>0.0</td>\n",
       "      <td>4.271805</td>\n",
       "    </tr>\n",
       "    <tr>\n",
       "      <th>1</th>\n",
       "      <td>2021-06-27</td>\n",
       "      <td>19.566355</td>\n",
       "      <td>-8.617718</td>\n",
       "      <td>18.078118</td>\n",
       "      <td>19.566355</td>\n",
       "      <td>19.566355</td>\n",
       "      <td>-14.973672</td>\n",
       "      <td>-14.973672</td>\n",
       "      <td>-14.973672</td>\n",
       "      <td>-0.597252</td>\n",
       "      <td>-0.597252</td>\n",
       "      <td>-0.597252</td>\n",
       "      <td>-14.376419</td>\n",
       "      <td>-14.376419</td>\n",
       "      <td>-14.376419</td>\n",
       "      <td>0.0</td>\n",
       "      <td>0.0</td>\n",
       "      <td>0.0</td>\n",
       "      <td>4.592683</td>\n",
       "    </tr>\n",
       "    <tr>\n",
       "      <th>2</th>\n",
       "      <td>2021-06-28</td>\n",
       "      <td>19.571966</td>\n",
       "      <td>-9.397878</td>\n",
       "      <td>19.017599</td>\n",
       "      <td>19.571966</td>\n",
       "      <td>19.571966</td>\n",
       "      <td>-14.835302</td>\n",
       "      <td>-14.835302</td>\n",
       "      <td>-14.835302</td>\n",
       "      <td>-0.782002</td>\n",
       "      <td>-0.782002</td>\n",
       "      <td>-0.782002</td>\n",
       "      <td>-14.053300</td>\n",
       "      <td>-14.053300</td>\n",
       "      <td>-14.053300</td>\n",
       "      <td>0.0</td>\n",
       "      <td>0.0</td>\n",
       "      <td>0.0</td>\n",
       "      <td>4.736664</td>\n",
       "    </tr>\n",
       "    <tr>\n",
       "      <th>3</th>\n",
       "      <td>2021-06-29</td>\n",
       "      <td>19.577577</td>\n",
       "      <td>-6.810161</td>\n",
       "      <td>22.395238</td>\n",
       "      <td>19.577577</td>\n",
       "      <td>19.577577</td>\n",
       "      <td>-12.285765</td>\n",
       "      <td>-12.285765</td>\n",
       "      <td>-12.285765</td>\n",
       "      <td>1.365846</td>\n",
       "      <td>1.365846</td>\n",
       "      <td>1.365846</td>\n",
       "      <td>-13.651611</td>\n",
       "      <td>-13.651611</td>\n",
       "      <td>-13.651611</td>\n",
       "      <td>0.0</td>\n",
       "      <td>0.0</td>\n",
       "      <td>0.0</td>\n",
       "      <td>7.291812</td>\n",
       "    </tr>\n",
       "    <tr>\n",
       "      <th>4</th>\n",
       "      <td>2021-06-30</td>\n",
       "      <td>19.583187</td>\n",
       "      <td>-7.218708</td>\n",
       "      <td>20.423399</td>\n",
       "      <td>19.583187</td>\n",
       "      <td>19.583187</td>\n",
       "      <td>-13.133597</td>\n",
       "      <td>-13.133597</td>\n",
       "      <td>-13.133597</td>\n",
       "      <td>0.039209</td>\n",
       "      <td>0.039209</td>\n",
       "      <td>0.039209</td>\n",
       "      <td>-13.172806</td>\n",
       "      <td>-13.172806</td>\n",
       "      <td>-13.172806</td>\n",
       "      <td>0.0</td>\n",
       "      <td>0.0</td>\n",
       "      <td>0.0</td>\n",
       "      <td>6.449591</td>\n",
       "    </tr>\n",
       "    <tr>\n",
       "      <th>...</th>\n",
       "      <td>...</td>\n",
       "      <td>...</td>\n",
       "      <td>...</td>\n",
       "      <td>...</td>\n",
       "      <td>...</td>\n",
       "      <td>...</td>\n",
       "      <td>...</td>\n",
       "      <td>...</td>\n",
       "      <td>...</td>\n",
       "      <td>...</td>\n",
       "      <td>...</td>\n",
       "      <td>...</td>\n",
       "      <td>...</td>\n",
       "      <td>...</td>\n",
       "      <td>...</td>\n",
       "      <td>...</td>\n",
       "      <td>...</td>\n",
       "      <td>...</td>\n",
       "      <td>...</td>\n",
       "    </tr>\n",
       "    <tr>\n",
       "      <th>816</th>\n",
       "      <td>2023-09-21</td>\n",
       "      <td>25.601785</td>\n",
       "      <td>5.112629</td>\n",
       "      <td>32.911236</td>\n",
       "      <td>25.587387</td>\n",
       "      <td>25.615929</td>\n",
       "      <td>-6.920286</td>\n",
       "      <td>-6.920286</td>\n",
       "      <td>-6.920286</td>\n",
       "      <td>0.212715</td>\n",
       "      <td>0.212715</td>\n",
       "      <td>0.212715</td>\n",
       "      <td>-7.133001</td>\n",
       "      <td>-7.133001</td>\n",
       "      <td>-7.133001</td>\n",
       "      <td>0.0</td>\n",
       "      <td>0.0</td>\n",
       "      <td>0.0</td>\n",
       "      <td>18.681499</td>\n",
       "    </tr>\n",
       "    <tr>\n",
       "      <th>817</th>\n",
       "      <td>2023-09-22</td>\n",
       "      <td>25.610284</td>\n",
       "      <td>4.548329</td>\n",
       "      <td>34.530977</td>\n",
       "      <td>25.595652</td>\n",
       "      <td>25.624667</td>\n",
       "      <td>-6.539470</td>\n",
       "      <td>-6.539470</td>\n",
       "      <td>-6.539470</td>\n",
       "      <td>0.429467</td>\n",
       "      <td>0.429467</td>\n",
       "      <td>0.429467</td>\n",
       "      <td>-6.968938</td>\n",
       "      <td>-6.968938</td>\n",
       "      <td>-6.968938</td>\n",
       "      <td>0.0</td>\n",
       "      <td>0.0</td>\n",
       "      <td>0.0</td>\n",
       "      <td>19.070813</td>\n",
       "    </tr>\n",
       "    <tr>\n",
       "      <th>818</th>\n",
       "      <td>2023-09-23</td>\n",
       "      <td>25.618782</td>\n",
       "      <td>3.711291</td>\n",
       "      <td>33.037807</td>\n",
       "      <td>25.603743</td>\n",
       "      <td>25.633406</td>\n",
       "      <td>-7.481911</td>\n",
       "      <td>-7.481911</td>\n",
       "      <td>-7.481911</td>\n",
       "      <td>-0.667983</td>\n",
       "      <td>-0.667983</td>\n",
       "      <td>-0.667983</td>\n",
       "      <td>-6.813928</td>\n",
       "      <td>-6.813928</td>\n",
       "      <td>-6.813928</td>\n",
       "      <td>0.0</td>\n",
       "      <td>0.0</td>\n",
       "      <td>0.0</td>\n",
       "      <td>18.136871</td>\n",
       "    </tr>\n",
       "    <tr>\n",
       "      <th>819</th>\n",
       "      <td>2023-09-24</td>\n",
       "      <td>25.627281</td>\n",
       "      <td>3.581758</td>\n",
       "      <td>33.295465</td>\n",
       "      <td>25.611937</td>\n",
       "      <td>25.642168</td>\n",
       "      <td>-7.266897</td>\n",
       "      <td>-7.266897</td>\n",
       "      <td>-7.266897</td>\n",
       "      <td>-0.597252</td>\n",
       "      <td>-0.597252</td>\n",
       "      <td>-0.597252</td>\n",
       "      <td>-6.669645</td>\n",
       "      <td>-6.669645</td>\n",
       "      <td>-6.669645</td>\n",
       "      <td>0.0</td>\n",
       "      <td>0.0</td>\n",
       "      <td>0.0</td>\n",
       "      <td>18.360384</td>\n",
       "    </tr>\n",
       "    <tr>\n",
       "      <th>820</th>\n",
       "      <td>2023-09-25</td>\n",
       "      <td>25.635780</td>\n",
       "      <td>4.191092</td>\n",
       "      <td>33.136658</td>\n",
       "      <td>25.620211</td>\n",
       "      <td>25.650936</td>\n",
       "      <td>-7.319338</td>\n",
       "      <td>-7.319338</td>\n",
       "      <td>-7.319338</td>\n",
       "      <td>-0.782002</td>\n",
       "      <td>-0.782002</td>\n",
       "      <td>-0.782002</td>\n",
       "      <td>-6.537336</td>\n",
       "      <td>-6.537336</td>\n",
       "      <td>-6.537336</td>\n",
       "      <td>0.0</td>\n",
       "      <td>0.0</td>\n",
       "      <td>0.0</td>\n",
       "      <td>18.316442</td>\n",
       "    </tr>\n",
       "  </tbody>\n",
       "</table>\n",
       "<p>821 rows × 19 columns</p>\n",
       "</div>"
      ],
      "text/plain": [
       "            ds      trend  yhat_lower  yhat_upper  trend_lower  trend_upper  \\\n",
       "0   2021-06-26  19.560744  -10.478342   18.522506    19.560744    19.560744   \n",
       "1   2021-06-27  19.566355   -8.617718   18.078118    19.566355    19.566355   \n",
       "2   2021-06-28  19.571966   -9.397878   19.017599    19.571966    19.571966   \n",
       "3   2021-06-29  19.577577   -6.810161   22.395238    19.577577    19.577577   \n",
       "4   2021-06-30  19.583187   -7.218708   20.423399    19.583187    19.583187   \n",
       "..         ...        ...         ...         ...          ...          ...   \n",
       "816 2023-09-21  25.601785    5.112629   32.911236    25.587387    25.615929   \n",
       "817 2023-09-22  25.610284    4.548329   34.530977    25.595652    25.624667   \n",
       "818 2023-09-23  25.618782    3.711291   33.037807    25.603743    25.633406   \n",
       "819 2023-09-24  25.627281    3.581758   33.295465    25.611937    25.642168   \n",
       "820 2023-09-25  25.635780    4.191092   33.136658    25.620211    25.650936   \n",
       "\n",
       "     additive_terms  additive_terms_lower  additive_terms_upper    weekly  \\\n",
       "0        -15.288939            -15.288939            -15.288939 -0.667983   \n",
       "1        -14.973672            -14.973672            -14.973672 -0.597252   \n",
       "2        -14.835302            -14.835302            -14.835302 -0.782002   \n",
       "3        -12.285765            -12.285765            -12.285765  1.365846   \n",
       "4        -13.133597            -13.133597            -13.133597  0.039209   \n",
       "..              ...                   ...                   ...       ...   \n",
       "816       -6.920286             -6.920286             -6.920286  0.212715   \n",
       "817       -6.539470             -6.539470             -6.539470  0.429467   \n",
       "818       -7.481911             -7.481911             -7.481911 -0.667983   \n",
       "819       -7.266897             -7.266897             -7.266897 -0.597252   \n",
       "820       -7.319338             -7.319338             -7.319338 -0.782002   \n",
       "\n",
       "     weekly_lower  weekly_upper     yearly  yearly_lower  yearly_upper  \\\n",
       "0       -0.667983     -0.667983 -14.620956    -14.620956    -14.620956   \n",
       "1       -0.597252     -0.597252 -14.376419    -14.376419    -14.376419   \n",
       "2       -0.782002     -0.782002 -14.053300    -14.053300    -14.053300   \n",
       "3        1.365846      1.365846 -13.651611    -13.651611    -13.651611   \n",
       "4        0.039209      0.039209 -13.172806    -13.172806    -13.172806   \n",
       "..            ...           ...        ...           ...           ...   \n",
       "816      0.212715      0.212715  -7.133001     -7.133001     -7.133001   \n",
       "817      0.429467      0.429467  -6.968938     -6.968938     -6.968938   \n",
       "818     -0.667983     -0.667983  -6.813928     -6.813928     -6.813928   \n",
       "819     -0.597252     -0.597252  -6.669645     -6.669645     -6.669645   \n",
       "820     -0.782002     -0.782002  -6.537336     -6.537336     -6.537336   \n",
       "\n",
       "     multiplicative_terms  multiplicative_terms_lower  \\\n",
       "0                     0.0                         0.0   \n",
       "1                     0.0                         0.0   \n",
       "2                     0.0                         0.0   \n",
       "3                     0.0                         0.0   \n",
       "4                     0.0                         0.0   \n",
       "..                    ...                         ...   \n",
       "816                   0.0                         0.0   \n",
       "817                   0.0                         0.0   \n",
       "818                   0.0                         0.0   \n",
       "819                   0.0                         0.0   \n",
       "820                   0.0                         0.0   \n",
       "\n",
       "     multiplicative_terms_upper       yhat  \n",
       "0                           0.0   4.271805  \n",
       "1                           0.0   4.592683  \n",
       "2                           0.0   4.736664  \n",
       "3                           0.0   7.291812  \n",
       "4                           0.0   6.449591  \n",
       "..                          ...        ...  \n",
       "816                         0.0  18.681499  \n",
       "817                         0.0  19.070813  \n",
       "818                         0.0  18.136871  \n",
       "819                         0.0  18.360384  \n",
       "820                         0.0  18.316442  \n",
       "\n",
       "[821 rows x 19 columns]"
      ]
     },
     "execution_count": 258,
     "metadata": {},
     "output_type": "execute_result"
    }
   ],
   "source": [
    "# Generate future predictions\n",
    "future = model.make_future_dataframe(periods=len(test_df))\n",
    "\n",
    "# Make predictions\n",
    "forecast = model.predict(future)\n",
    "forecast"
   ]
  },
  {
   "cell_type": "code",
   "execution_count": 259,
   "id": "67de474f-004b-4f36-ba26-3fa0782e1891",
   "metadata": {
    "tags": []
   },
   "outputs": [
    {
     "data": {
      "text/html": [
       "<div>\n",
       "<style scoped>\n",
       "    .dataframe tbody tr th:only-of-type {\n",
       "        vertical-align: middle;\n",
       "    }\n",
       "\n",
       "    .dataframe tbody tr th {\n",
       "        vertical-align: top;\n",
       "    }\n",
       "\n",
       "    .dataframe thead th {\n",
       "        text-align: right;\n",
       "    }\n",
       "</style>\n",
       "<table border=\"1\" class=\"dataframe\">\n",
       "  <thead>\n",
       "    <tr style=\"text-align: right;\">\n",
       "      <th></th>\n",
       "      <th>yhat</th>\n",
       "    </tr>\n",
       "    <tr>\n",
       "      <th>date</th>\n",
       "      <th></th>\n",
       "    </tr>\n",
       "  </thead>\n",
       "  <tbody>\n",
       "    <tr>\n",
       "      <th>2023-07-01</th>\n",
       "      <td>11.331562</td>\n",
       "    </tr>\n",
       "    <tr>\n",
       "      <th>2023-07-02</th>\n",
       "      <td>11.999377</td>\n",
       "    </tr>\n",
       "    <tr>\n",
       "      <th>2023-07-03</th>\n",
       "      <td>12.478909</td>\n",
       "    </tr>\n",
       "    <tr>\n",
       "      <th>2023-07-04</th>\n",
       "      <td>15.351876</td>\n",
       "    </tr>\n",
       "    <tr>\n",
       "      <th>2023-07-05</th>\n",
       "      <td>14.803608</td>\n",
       "    </tr>\n",
       "    <tr>\n",
       "      <th>...</th>\n",
       "      <td>...</td>\n",
       "    </tr>\n",
       "    <tr>\n",
       "      <th>2023-09-21</th>\n",
       "      <td>18.681499</td>\n",
       "    </tr>\n",
       "    <tr>\n",
       "      <th>2023-09-22</th>\n",
       "      <td>19.070813</td>\n",
       "    </tr>\n",
       "    <tr>\n",
       "      <th>2023-09-23</th>\n",
       "      <td>18.136871</td>\n",
       "    </tr>\n",
       "    <tr>\n",
       "      <th>2023-09-24</th>\n",
       "      <td>18.360384</td>\n",
       "    </tr>\n",
       "    <tr>\n",
       "      <th>2023-09-25</th>\n",
       "      <td>18.316442</td>\n",
       "    </tr>\n",
       "  </tbody>\n",
       "</table>\n",
       "<p>87 rows × 1 columns</p>\n",
       "</div>"
      ],
      "text/plain": [
       "                 yhat\n",
       "date                 \n",
       "2023-07-01  11.331562\n",
       "2023-07-02  11.999377\n",
       "2023-07-03  12.478909\n",
       "2023-07-04  15.351876\n",
       "2023-07-05  14.803608\n",
       "...               ...\n",
       "2023-09-21  18.681499\n",
       "2023-09-22  19.070813\n",
       "2023-09-23  18.136871\n",
       "2023-09-24  18.360384\n",
       "2023-09-25  18.316442\n",
       "\n",
       "[87 rows x 1 columns]"
      ]
     },
     "execution_count": 259,
     "metadata": {},
     "output_type": "execute_result"
    }
   ],
   "source": [
    "forecast_df = forecast[['ds','yhat']].rename(columns={'ds':'date','yhat1':'streams'}).set_index('date')['2023-07-01':]\n",
    "forecast_df"
   ]
  },
  {
   "cell_type": "code",
   "execution_count": 265,
   "id": "bdb1e95b-a5e1-4613-a4d2-c895189d6d29",
   "metadata": {
    "tags": []
   },
   "outputs": [
    {
     "data": {
      "text/plain": [
       "Text(0, 0.5, 'Daily Max Capacity')"
      ]
     },
     "execution_count": 265,
     "metadata": {},
     "output_type": "execute_result"
    },
    {
     "data": {
      "image/png": "[encoded data removed]",
      "text/plain": [
       "<Figure size 1500x300 with 1 Axes>"
      ]
     },
     "metadata": {},
     "output_type": "display_data"
    }
   ],
   "source": [
    "# plot the forecast results\n",
    "fig = plt.figure(figsize=(15,3))\n",
    "\n",
    "plt.plot(train_df, color='C0', label='train')\n",
    "plt.plot(test_df, color='C7', label='test')\n",
    "plt.plot(forecast_df, color='C1', label='forecast')\n",
    "plt.legend()\n",
    "plt.ylabel(\"Daily Max Capacity\")"
   ]
  },
  {
   "cell_type": "code",
   "execution_count": 264,
   "id": "aaa01281-96d2-4193-8df9-93a60b7f01f1",
   "metadata": {
    "tags": []
   },
   "outputs": [
    {
     "data": {
      "text/html": [
       "<div>\n",
       "<style scoped>\n",
       "    .dataframe tbody tr th:only-of-type {\n",
       "        vertical-align: middle;\n",
       "    }\n",
       "\n",
       "    .dataframe tbody tr th {\n",
       "        vertical-align: top;\n",
       "    }\n",
       "\n",
       "    .dataframe thead th {\n",
       "        text-align: right;\n",
       "    }\n",
       "</style>\n",
       "<table border=\"1\" class=\"dataframe\">\n",
       "  <thead>\n",
       "    <tr style=\"text-align: right;\">\n",
       "      <th></th>\n",
       "      <th>RMSE</th>\n",
       "      <th>MAE</th>\n",
       "      <th>MAPE</th>\n",
       "    </tr>\n",
       "  </thead>\n",
       "  <tbody>\n",
       "    <tr>\n",
       "      <th>0</th>\n",
       "      <td>11.135918</td>\n",
       "      <td>9.566935</td>\n",
       "      <td>125.327551</td>\n",
       "    </tr>\n",
       "  </tbody>\n",
       "</table>\n",
       "</div>"
      ],
      "text/plain": [
       "        RMSE       MAE        MAPE\n",
       "0  11.135918  9.566935  125.327551"
      ]
     },
     "execution_count": 264,
     "metadata": {},
     "output_type": "execute_result"
    }
   ],
   "source": [
    "show_errors(test_df,forecast_df)"
   ]
  },
  {
   "cell_type": "code",
   "execution_count": 268,
   "id": "5b9bf232-758b-4470-b333-44ef7d7159f5",
   "metadata": {
    "tags": []
   },
   "outputs": [
    {
     "data": {
      "image/png": "[encoded data removed]",
      "text/plain": [
       "<Figure size 900x900 with 3 Axes>"
      ]
     },
     "metadata": {},
     "output_type": "display_data"
    }
   ],
   "source": [
    "fig_components = model.plot_components(forecast)"
   ]
  },
  {
   "cell_type": "markdown",
   "id": "f8359cb7-a476-43e0-be48-7aedd41a94b8",
   "metadata": {},
   "source": [
    "# Final approach"
   ]
  },
  {
   "cell_type": "code",
   "execution_count": 222,
   "id": "f428c72b-a2c2-473c-972b-e41c8cd9f4e5",
   "metadata": {
    "tags": []
   },
   "outputs": [],
   "source": [
    "# Drop columns\n",
    "# Fill NaNs\n",
    "# Filter to 2023 data\n",
    "# Normalize quantity values\n",
    "# Get max capacity per bidding interval\n",
    "# Daily aggregation\n",
    "# TSL decomposition\n",
    "# Stationary test\n",
    "# Train-test split\n",
    "# Neural netrok approach"
   ]
  }
 ],
 "metadata": {
  "kernelspec": {
   "display_name": "Python 3 (ipykernel)",
   "language": "python",
   "name": "python3"
  },
  "language_info": {
   "codemirror_mode": {
    "name": "ipython",
    "version": 3
   },
   "file_extension": ".py",
   "mimetype": "text/x-python",
   "name": "python",
   "nbconvert_exporter": "python",
   "pygments_lexer": "ipython3",
   "version": "3.11.5"
  }
 },
 "nbformat": 4,
 "nbformat_minor": 5
}
