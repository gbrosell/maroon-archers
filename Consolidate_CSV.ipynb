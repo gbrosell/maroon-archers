{
 "cells": [
  {
   "cell_type": "code",
   "execution_count": 3,
   "id": "b6f6960c-8ff8-4a8e-8c25-d5467fe1e484",
   "metadata": {
    "tags": []
   },
   "outputs": [],
   "source": [
    "import pandas as pd\n",
    "import os\n",
    "from tqdm.notebook import tqdm"
   ]
  },
  {
   "cell_type": "markdown",
   "id": "163f6cbc-d37b-4e2f-9a6e-fd09a6f81e66",
   "metadata": {},
   "source": [
    "# Consolidate 1 Power plant to 1 csv"
   ]
  },
  {
   "cell_type": "markdown",
   "id": "9ec228b0-72a0-4682-a355-c76aa2d7fabe",
   "metadata": {},
   "source": [
    "## Specify powerplant IDs"
   ]
  },
  {
   "cell_type": "code",
   "execution_count": 28,
   "id": "f15a47e9-fadd-4941-af55-6c11cb1ef8e9",
   "metadata": {
    "tags": []
   },
   "outputs": [],
   "source": [
    "# Specify the IDs you're interested in\n",
    "target_ids = ['01ANGAT_M']\n",
    "# target_ids = ['06SACASL_G01']\n",
    "# target_ids = ['06SACSUN_G01']\n",
    "# target_ids = ['01ARAYSOL_G01', '01ARAYSOL_G02', '01ARMSOL_G01', '01BOSUNG_G01', '01BTNSOL_G01', '01BTSOLEN_G01', '01BULSOL_G01', '01BURGOS_G02', '01BURGOS_G03', '01CABSOL_G01', '01CLASOL_G01', '01CONSOL_G01', '01CURSOL_G02', '01DALSOL_G01', '01GIGSOL_G01', '01MAEC_G01', '01MARSOL_G01', '01PASQSOL_G01', '01PETSOL_G01', '01PETSOL_G02', '01RASLAG_G01', '01RASLAG_G02', '01RASLAG_G03', '01SPABUL_G01', '01SUBSOL_G01', '01TERASU_G01', '01TRUSTSOL_G01', '01YHGRN_G01', '01ZAMSOL_G01', '02ECOPRK_G01', '02ECOTAGA_G01', '02PNGYSOL_G01', '02SMNRTH_G01', '02VALSOL_G01', '03ADISOL_G01', '03CALSOL_G01', '03MEC_G01', '03SOLACE_G01', '04PHSOL_G01', '04SEPSOL_G01', '05TOLSOL_G01', '06CARSOL_G01', '06HELIOS_G01', '06MANSOL_G01', '06MNTSOL_G01', \n",
    "#  '06SACASL_G01', '06SACASL_G02', '06SACSUN_G01', '06SLYSOL_G01', '08COSMO_G01', '11KBSOL_G01', '11KIRAS_G01', '13DIGSOL_G01', '14ASTROSOL_G01', '14NVSOL_G01']"
   ]
  },
  {
   "cell_type": "markdown",
   "id": "bd1899e1-f7fb-4c04-a401-049982531203",
   "metadata": {},
   "source": [
    "## Specify the path to your base folder \"RTD Generation Offers\""
   ]
  },
  {
   "cell_type": "code",
   "execution_count": 29,
   "id": "793fda2d-1abe-4c27-a0e0-d9be3b8d01be",
   "metadata": {
    "tags": []
   },
   "outputs": [],
   "source": [
    "# Specify the base folder\n",
    "base_folder = r'C:\\Users\\berna\\Documents\\Eskwelabs\\Capstone Project\\RTD Generation Offers'"
   ]
  },
  {
   "cell_type": "markdown",
   "id": "e375885f-cfdf-4da9-83da-9cbf6ea2b084",
   "metadata": {},
   "source": [
    "## Begin for loop"
   ]
  },
  {
   "cell_type": "code",
   "execution_count": 30,
   "id": "303a360d-0e40-4022-9a5a-8f215a3c32b1",
   "metadata": {
    "tags": []
   },
   "outputs": [
    {
     "data": {
      "application/vnd.jupyter.widget-view+json": {
       "model_id": "",
       "version_major": 2,
       "version_minor": 0
      },
      "text/plain": [
       "Processing Years:   0%|          | 0/7 [00:00<?, ?it/s]"
      ]
     },
     "metadata": {},
     "output_type": "display_data"
    },
    {
     "data": {
      "application/vnd.jupyter.widget-view+json": {
       "model_id": "",
       "version_major": 2,
       "version_minor": 0
      },
      "text/plain": [
       "Processing Months:   0%|          | 0/672 [00:00<?, ?it/s]"
      ]
     },
     "metadata": {},
     "output_type": "display_data"
    },
    {
     "data": {
      "application/vnd.jupyter.widget-view+json": {
       "model_id": "",
       "version_major": 2,
       "version_minor": 0
      },
      "text/plain": [
       "Processing Months:   0%|          | 0/744 [00:00<?, ?it/s]"
      ]
     },
     "metadata": {},
     "output_type": "display_data"
    },
    {
     "data": {
      "application/vnd.jupyter.widget-view+json": {
       "model_id": "",
       "version_major": 2,
       "version_minor": 0
      },
      "text/plain": [
       "Processing Months:   0%|          | 0/720 [00:00<?, ?it/s]"
      ]
     },
     "metadata": {},
     "output_type": "display_data"
    },
    {
     "name": "stdout",
     "output_type": "stream",
     "text": [
      "CPU times: total: 78.1 ms\n",
      "Wall time: 228 ms\n"
     ]
    },
    {
     "data": {
      "text/html": [
       "<div>\n",
       "<style scoped>\n",
       "    .dataframe tbody tr th:only-of-type {\n",
       "        vertical-align: middle;\n",
       "    }\n",
       "\n",
       "    .dataframe tbody tr th {\n",
       "        vertical-align: top;\n",
       "    }\n",
       "\n",
       "    .dataframe thead th {\n",
       "        text-align: right;\n",
       "    }\n",
       "</style>\n",
       "<table border=\"1\" class=\"dataframe\">\n",
       "  <thead>\n",
       "    <tr style=\"text-align: right;\">\n",
       "      <th></th>\n",
       "    </tr>\n",
       "  </thead>\n",
       "  <tbody>\n",
       "  </tbody>\n",
       "</table>\n",
       "</div>"
      ],
      "text/plain": [
       "Empty DataFrame\n",
       "Columns: []\n",
       "Index: []"
      ]
     },
     "execution_count": 30,
     "metadata": {},
     "output_type": "execute_result"
    }
   ],
   "source": [
    "%%time\n",
    "# Initialize an empty DataFrame to store the consolidated data\n",
    "consolidated_df = pd.DataFrame()\n",
    "\n",
    "# Loop through the overall folder, first year, and first month\n",
    "for year_folder in tqdm(os.listdir(base_folder), desc=\"Processing Years\", leave=False):\n",
    "    year_path = os.path.join(base_folder, year_folder)\n",
    "    \n",
    "    if os.path.isdir(year_path):\n",
    "        for month_folder in tqdm(os.listdir(year_path), desc=\"Processing Months\", leave=False):\n",
    "            month_path = os.path.join(year_path, month_folder)\n",
    "            \n",
    "            if os.path.isdir(month_path):\n",
    "                # Initialize an empty DataFrame for the current month\n",
    "                month_df = pd.DataFrame()\n",
    "\n",
    "                # Loop through hourly CSV files in the current month\n",
    "                for file_name in tqdm(os.listdir(month_path), desc=\"Processing CSVs\", leave=False):\n",
    "                    if file_name.endswith('.csv'):\n",
    "                        file_path = os.path.join(month_path, file_name)\n",
    "\n",
    "                        # Read the CSV file\n",
    "                        current_df = pd.read_csv(file_path)\n",
    "\n",
    "                        # Filter rows with specific IDs\n",
    "                        current_df = current_df[current_df['RESOURCE_NAME'].isin(target_ids)]\n",
    "\n",
    "                        # Concatenate with the month DataFrame\n",
    "                        month_df = pd.concat([month_df, current_df], ignore_index=True)\n",
    "\n",
    "                # Concatenate with the overall DataFrame\n",
    "                consolidated_df = pd.concat([consolidated_df, month_df], ignore_index=True)\n",
    "\n",
    "# Display or further process the consolidated DataFrame\n",
    "consolidated_df"
   ]
  },
  {
   "cell_type": "markdown",
   "id": "5e848330-3f46-483b-bf19-3217a207fd02",
   "metadata": {},
   "source": [
    "## Output to consolidated_data_{targetID}.csv"
   ]
  },
  {
   "cell_type": "code",
   "execution_count": 31,
   "id": "3216028b-0985-4564-826c-43225274311f",
   "metadata": {
    "tags": []
   },
   "outputs": [
    {
     "name": "stdout",
     "output_type": "stream",
     "text": [
      "Consolidated data has been exported to C:\\Users\\berna\\Documents\\Eskwelabs\\Capstone Project\\RTD Generation Offers\\consolidated_csv_01ANGAT_M.csv\n"
     ]
    }
   ],
   "source": [
    "# Specify the output CSV file path\n",
    "output_csv_filename = f'consolidated_csv_{target_ids[0]}.csv'\n",
    "output_csv_path = os.path.join(base_folder, output_csv_filename)\n",
    "\n",
    "# Export the consolidated DataFrame to a CSV file\n",
    "consolidated_df.to_csv(output_csv_path, index=False)\n",
    "\n",
    "print(f\"Consolidated data has been exported to {output_csv_path}\")\n"
   ]
  },
  {
   "cell_type": "code",
   "execution_count": 32,
   "id": "fb57ed1e-00cc-4021-9ba1-0c659c1e6e9d",
   "metadata": {
    "tags": []
   },
   "outputs": [
    {
     "name": "stdout",
     "output_type": "stream",
     "text": [
      "C:\\Users\\berna\\Documents\\Eskwelabs\\Capstone Project\\RTD Generation Offers\n"
     ]
    }
   ],
   "source": [
    "%cd C:\\Users\\berna\\Documents\\Eskwelabs\\Capstone Project\\RTD Generation Offers"
   ]
  },
  {
   "cell_type": "code",
   "execution_count": 13,
   "id": "8d568b47-dc16-420b-8061-f7a1a2a127be",
   "metadata": {
    "tags": []
   },
   "outputs": [
    {
     "ename": "EmptyDataError",
     "evalue": "No columns to parse from file",
     "output_type": "error",
     "traceback": [
      "\u001b[1;31m---------------------------------------------------------------------------\u001b[0m",
      "\u001b[1;31mEmptyDataError\u001b[0m                            Traceback (most recent call last)",
      "Cell \u001b[1;32mIn[13], line 1\u001b[0m\n\u001b[1;32m----> 1\u001b[0m consolidated_df \u001b[38;5;241m=\u001b[39m pd\u001b[38;5;241m.\u001b[39mread_csv(\u001b[38;5;124m'\u001b[39m\u001b[38;5;124mconsolidated_csv_01BTSOLEN_BAT.csv\u001b[39m\u001b[38;5;124m'\u001b[39m)\n",
      "File \u001b[1;32m~\\anaconda3\\Lib\\site-packages\\pandas\\io\\parsers\\readers.py:912\u001b[0m, in \u001b[0;36mread_csv\u001b[1;34m(filepath_or_buffer, sep, delimiter, header, names, index_col, usecols, dtype, engine, converters, true_values, false_values, skipinitialspace, skiprows, skipfooter, nrows, na_values, keep_default_na, na_filter, verbose, skip_blank_lines, parse_dates, infer_datetime_format, keep_date_col, date_parser, date_format, dayfirst, cache_dates, iterator, chunksize, compression, thousands, decimal, lineterminator, quotechar, quoting, doublequote, escapechar, comment, encoding, encoding_errors, dialect, on_bad_lines, delim_whitespace, low_memory, memory_map, float_precision, storage_options, dtype_backend)\u001b[0m\n\u001b[0;32m    899\u001b[0m kwds_defaults \u001b[38;5;241m=\u001b[39m _refine_defaults_read(\n\u001b[0;32m    900\u001b[0m     dialect,\n\u001b[0;32m    901\u001b[0m     delimiter,\n\u001b[1;32m   (...)\u001b[0m\n\u001b[0;32m    908\u001b[0m     dtype_backend\u001b[38;5;241m=\u001b[39mdtype_backend,\n\u001b[0;32m    909\u001b[0m )\n\u001b[0;32m    910\u001b[0m kwds\u001b[38;5;241m.\u001b[39mupdate(kwds_defaults)\n\u001b[1;32m--> 912\u001b[0m \u001b[38;5;28;01mreturn\u001b[39;00m _read(filepath_or_buffer, kwds)\n",
      "File \u001b[1;32m~\\anaconda3\\Lib\\site-packages\\pandas\\io\\parsers\\readers.py:577\u001b[0m, in \u001b[0;36m_read\u001b[1;34m(filepath_or_buffer, kwds)\u001b[0m\n\u001b[0;32m    574\u001b[0m _validate_names(kwds\u001b[38;5;241m.\u001b[39mget(\u001b[38;5;124m\"\u001b[39m\u001b[38;5;124mnames\u001b[39m\u001b[38;5;124m\"\u001b[39m, \u001b[38;5;28;01mNone\u001b[39;00m))\n\u001b[0;32m    576\u001b[0m \u001b[38;5;66;03m# Create the parser.\u001b[39;00m\n\u001b[1;32m--> 577\u001b[0m parser \u001b[38;5;241m=\u001b[39m TextFileReader(filepath_or_buffer, \u001b[38;5;241m*\u001b[39m\u001b[38;5;241m*\u001b[39mkwds)\n\u001b[0;32m    579\u001b[0m \u001b[38;5;28;01mif\u001b[39;00m chunksize \u001b[38;5;129;01mor\u001b[39;00m iterator:\n\u001b[0;32m    580\u001b[0m     \u001b[38;5;28;01mreturn\u001b[39;00m parser\n",
      "File \u001b[1;32m~\\anaconda3\\Lib\\site-packages\\pandas\\io\\parsers\\readers.py:1407\u001b[0m, in \u001b[0;36mTextFileReader.__init__\u001b[1;34m(self, f, engine, **kwds)\u001b[0m\n\u001b[0;32m   1404\u001b[0m     \u001b[38;5;28mself\u001b[39m\u001b[38;5;241m.\u001b[39moptions[\u001b[38;5;124m\"\u001b[39m\u001b[38;5;124mhas_index_names\u001b[39m\u001b[38;5;124m\"\u001b[39m] \u001b[38;5;241m=\u001b[39m kwds[\u001b[38;5;124m\"\u001b[39m\u001b[38;5;124mhas_index_names\u001b[39m\u001b[38;5;124m\"\u001b[39m]\n\u001b[0;32m   1406\u001b[0m \u001b[38;5;28mself\u001b[39m\u001b[38;5;241m.\u001b[39mhandles: IOHandles \u001b[38;5;241m|\u001b[39m \u001b[38;5;28;01mNone\u001b[39;00m \u001b[38;5;241m=\u001b[39m \u001b[38;5;28;01mNone\u001b[39;00m\n\u001b[1;32m-> 1407\u001b[0m \u001b[38;5;28mself\u001b[39m\u001b[38;5;241m.\u001b[39m_engine \u001b[38;5;241m=\u001b[39m \u001b[38;5;28mself\u001b[39m\u001b[38;5;241m.\u001b[39m_make_engine(f, \u001b[38;5;28mself\u001b[39m\u001b[38;5;241m.\u001b[39mengine)\n",
      "File \u001b[1;32m~\\anaconda3\\Lib\\site-packages\\pandas\\io\\parsers\\readers.py:1679\u001b[0m, in \u001b[0;36mTextFileReader._make_engine\u001b[1;34m(self, f, engine)\u001b[0m\n\u001b[0;32m   1676\u001b[0m     \u001b[38;5;28;01mraise\u001b[39;00m \u001b[38;5;167;01mValueError\u001b[39;00m(msg)\n\u001b[0;32m   1678\u001b[0m \u001b[38;5;28;01mtry\u001b[39;00m:\n\u001b[1;32m-> 1679\u001b[0m     \u001b[38;5;28;01mreturn\u001b[39;00m mapping[engine](f, \u001b[38;5;241m*\u001b[39m\u001b[38;5;241m*\u001b[39m\u001b[38;5;28mself\u001b[39m\u001b[38;5;241m.\u001b[39moptions)\n\u001b[0;32m   1680\u001b[0m \u001b[38;5;28;01mexcept\u001b[39;00m \u001b[38;5;167;01mException\u001b[39;00m:\n\u001b[0;32m   1681\u001b[0m     \u001b[38;5;28;01mif\u001b[39;00m \u001b[38;5;28mself\u001b[39m\u001b[38;5;241m.\u001b[39mhandles \u001b[38;5;129;01mis\u001b[39;00m \u001b[38;5;129;01mnot\u001b[39;00m \u001b[38;5;28;01mNone\u001b[39;00m:\n",
      "File \u001b[1;32m~\\anaconda3\\Lib\\site-packages\\pandas\\io\\parsers\\c_parser_wrapper.py:93\u001b[0m, in \u001b[0;36mCParserWrapper.__init__\u001b[1;34m(self, src, **kwds)\u001b[0m\n\u001b[0;32m     90\u001b[0m \u001b[38;5;28;01mif\u001b[39;00m kwds[\u001b[38;5;124m\"\u001b[39m\u001b[38;5;124mdtype_backend\u001b[39m\u001b[38;5;124m\"\u001b[39m] \u001b[38;5;241m==\u001b[39m \u001b[38;5;124m\"\u001b[39m\u001b[38;5;124mpyarrow\u001b[39m\u001b[38;5;124m\"\u001b[39m:\n\u001b[0;32m     91\u001b[0m     \u001b[38;5;66;03m# Fail here loudly instead of in cython after reading\u001b[39;00m\n\u001b[0;32m     92\u001b[0m     import_optional_dependency(\u001b[38;5;124m\"\u001b[39m\u001b[38;5;124mpyarrow\u001b[39m\u001b[38;5;124m\"\u001b[39m)\n\u001b[1;32m---> 93\u001b[0m \u001b[38;5;28mself\u001b[39m\u001b[38;5;241m.\u001b[39m_reader \u001b[38;5;241m=\u001b[39m parsers\u001b[38;5;241m.\u001b[39mTextReader(src, \u001b[38;5;241m*\u001b[39m\u001b[38;5;241m*\u001b[39mkwds)\n\u001b[0;32m     95\u001b[0m \u001b[38;5;28mself\u001b[39m\u001b[38;5;241m.\u001b[39munnamed_cols \u001b[38;5;241m=\u001b[39m \u001b[38;5;28mself\u001b[39m\u001b[38;5;241m.\u001b[39m_reader\u001b[38;5;241m.\u001b[39munnamed_cols\n\u001b[0;32m     97\u001b[0m \u001b[38;5;66;03m# error: Cannot determine type of 'names'\u001b[39;00m\n",
      "File \u001b[1;32m~\\anaconda3\\Lib\\site-packages\\pandas\\_libs\\parsers.pyx:557\u001b[0m, in \u001b[0;36mpandas._libs.parsers.TextReader.__cinit__\u001b[1;34m()\u001b[0m\n",
      "\u001b[1;31mEmptyDataError\u001b[0m: No columns to parse from file"
     ]
    }
   ],
   "source": [
    "consolidated_df = pd.read_csv('consolidated_csv_01BTSOLEN_BAT.csv')"
   ]
  },
  {
   "cell_type": "code",
   "execution_count": 15,
   "id": "a6f4b8e3-97ba-4d58-afe2-3eab0612510b",
   "metadata": {
    "tags": []
   },
   "outputs": [
    {
     "data": {
      "application/vnd.jupyter.widget-view+json": {
       "model_id": "",
       "version_major": 2,
       "version_minor": 0
      },
      "text/plain": [
       "Processing Years:   0%|          | 0/3 [00:00<?, ?it/s]"
      ]
     },
     "metadata": {},
     "output_type": "display_data"
    },
    {
     "data": {
      "application/vnd.jupyter.widget-view+json": {
       "model_id": "",
       "version_major": 2,
       "version_minor": 0
      },
      "text/plain": [
       "Processing Months:   0%|          | 0/6 [00:00<?, ?it/s]"
      ]
     },
     "metadata": {},
     "output_type": "display_data"
    },
    {
     "data": {
      "application/vnd.jupyter.widget-view+json": {
       "model_id": "",
       "version_major": 2,
       "version_minor": 0
      },
      "text/plain": [
       "Processing CSVs:   0%|          | 0/720 [00:00<?, ?it/s]"
      ]
     },
     "metadata": {},
     "output_type": "display_data"
    },
    {
     "data": {
      "application/vnd.jupyter.widget-view+json": {
       "model_id": "",
       "version_major": 2,
       "version_minor": 0
      },
      "text/plain": [
       "Processing CSVs:   0%|          | 0/744 [00:00<?, ?it/s]"
      ]
     },
     "metadata": {},
     "output_type": "display_data"
    },
    {
     "data": {
      "application/vnd.jupyter.widget-view+json": {
       "model_id": "",
       "version_major": 2,
       "version_minor": 0
      },
      "text/plain": [
       "Processing CSVs:   0%|          | 0/744 [00:00<?, ?it/s]"
      ]
     },
     "metadata": {},
     "output_type": "display_data"
    },
    {
     "data": {
      "application/vnd.jupyter.widget-view+json": {
       "model_id": "",
       "version_major": 2,
       "version_minor": 0
      },
      "text/plain": [
       "Processing CSVs:   0%|          | 0/720 [00:00<?, ?it/s]"
      ]
     },
     "metadata": {},
     "output_type": "display_data"
    },
    {
     "data": {
      "application/vnd.jupyter.widget-view+json": {
       "model_id": "",
       "version_major": 2,
       "version_minor": 0
      },
      "text/plain": [
       "Processing CSVs:   0%|          | 0/744 [00:00<?, ?it/s]"
      ]
     },
     "metadata": {},
     "output_type": "display_data"
    },
    {
     "data": {
      "application/vnd.jupyter.widget-view+json": {
       "model_id": "",
       "version_major": 2,
       "version_minor": 0
      },
      "text/plain": [
       "Processing CSVs:   0%|          | 0/720 [00:00<?, ?it/s]"
      ]
     },
     "metadata": {},
     "output_type": "display_data"
    },
    {
     "data": {
      "application/vnd.jupyter.widget-view+json": {
       "model_id": "",
       "version_major": 2,
       "version_minor": 0
      },
      "text/plain": [
       "Processing Months:   0%|          | 0/12 [00:00<?, ?it/s]"
      ]
     },
     "metadata": {},
     "output_type": "display_data"
    },
    {
     "data": {
      "application/vnd.jupyter.widget-view+json": {
       "model_id": "",
       "version_major": 2,
       "version_minor": 0
      },
      "text/plain": [
       "Processing CSVs:   0%|          | 0/744 [00:00<?, ?it/s]"
      ]
     },
     "metadata": {},
     "output_type": "display_data"
    },
    {
     "data": {
      "application/vnd.jupyter.widget-view+json": {
       "model_id": "",
       "version_major": 2,
       "version_minor": 0
      },
      "text/plain": [
       "Processing CSVs:   0%|          | 0/744 [00:00<?, ?it/s]"
      ]
     },
     "metadata": {},
     "output_type": "display_data"
    },
    {
     "data": {
      "application/vnd.jupyter.widget-view+json": {
       "model_id": "",
       "version_major": 2,
       "version_minor": 0
      },
      "text/plain": [
       "Processing CSVs:   0%|          | 0/672 [00:00<?, ?it/s]"
      ]
     },
     "metadata": {},
     "output_type": "display_data"
    },
    {
     "data": {
      "application/vnd.jupyter.widget-view+json": {
       "model_id": "",
       "version_major": 2,
       "version_minor": 0
      },
      "text/plain": [
       "Processing CSVs:   0%|          | 0/744 [00:00<?, ?it/s]"
      ]
     },
     "metadata": {},
     "output_type": "display_data"
    },
    {
     "data": {
      "application/vnd.jupyter.widget-view+json": {
       "model_id": "",
       "version_major": 2,
       "version_minor": 0
      },
      "text/plain": [
       "Processing CSVs:   0%|          | 0/720 [00:00<?, ?it/s]"
      ]
     },
     "metadata": {},
     "output_type": "display_data"
    },
    {
     "data": {
      "application/vnd.jupyter.widget-view+json": {
       "model_id": "",
       "version_major": 2,
       "version_minor": 0
      },
      "text/plain": [
       "Processing CSVs:   0%|          | 0/744 [00:00<?, ?it/s]"
      ]
     },
     "metadata": {},
     "output_type": "display_data"
    },
    {
     "data": {
      "application/vnd.jupyter.widget-view+json": {
       "model_id": "",
       "version_major": 2,
       "version_minor": 0
      },
      "text/plain": [
       "Processing CSVs:   0%|          | 0/720 [00:00<?, ?it/s]"
      ]
     },
     "metadata": {},
     "output_type": "display_data"
    },
    {
     "data": {
      "application/vnd.jupyter.widget-view+json": {
       "model_id": "",
       "version_major": 2,
       "version_minor": 0
      },
      "text/plain": [
       "Processing CSVs:   0%|          | 0/744 [00:00<?, ?it/s]"
      ]
     },
     "metadata": {},
     "output_type": "display_data"
    },
    {
     "data": {
      "application/vnd.jupyter.widget-view+json": {
       "model_id": "",
       "version_major": 2,
       "version_minor": 0
      },
      "text/plain": [
       "Processing CSVs:   0%|          | 0/744 [00:00<?, ?it/s]"
      ]
     },
     "metadata": {},
     "output_type": "display_data"
    },
    {
     "data": {
      "application/vnd.jupyter.widget-view+json": {
       "model_id": "",
       "version_major": 2,
       "version_minor": 0
      },
      "text/plain": [
       "Processing CSVs:   0%|          | 0/720 [00:00<?, ?it/s]"
      ]
     },
     "metadata": {},
     "output_type": "display_data"
    },
    {
     "data": {
      "application/vnd.jupyter.widget-view+json": {
       "model_id": "",
       "version_major": 2,
       "version_minor": 0
      },
      "text/plain": [
       "Processing CSVs:   0%|          | 0/744 [00:00<?, ?it/s]"
      ]
     },
     "metadata": {},
     "output_type": "display_data"
    },
    {
     "data": {
      "application/vnd.jupyter.widget-view+json": {
       "model_id": "",
       "version_major": 2,
       "version_minor": 0
      },
      "text/plain": [
       "Processing CSVs:   0%|          | 0/720 [00:00<?, ?it/s]"
      ]
     },
     "metadata": {},
     "output_type": "display_data"
    },
    {
     "data": {
      "application/vnd.jupyter.widget-view+json": {
       "model_id": "",
       "version_major": 2,
       "version_minor": 0
      },
      "text/plain": [
       "Processing Months:   0%|          | 0/9 [00:00<?, ?it/s]"
      ]
     },
     "metadata": {},
     "output_type": "display_data"
    },
    {
     "data": {
      "application/vnd.jupyter.widget-view+json": {
       "model_id": "",
       "version_major": 2,
       "version_minor": 0
      },
      "text/plain": [
       "Processing CSVs:   0%|          | 0/744 [00:00<?, ?it/s]"
      ]
     },
     "metadata": {},
     "output_type": "display_data"
    },
    {
     "data": {
      "application/vnd.jupyter.widget-view+json": {
       "model_id": "",
       "version_major": 2,
       "version_minor": 0
      },
      "text/plain": [
       "Processing CSVs:   0%|          | 0/744 [00:00<?, ?it/s]"
      ]
     },
     "metadata": {},
     "output_type": "display_data"
    },
    {
     "data": {
      "application/vnd.jupyter.widget-view+json": {
       "model_id": "",
       "version_major": 2,
       "version_minor": 0
      },
      "text/plain": [
       "Processing CSVs:   0%|          | 0/655 [00:00<?, ?it/s]"
      ]
     },
     "metadata": {},
     "output_type": "display_data"
    },
    {
     "data": {
      "application/vnd.jupyter.widget-view+json": {
       "model_id": "",
       "version_major": 2,
       "version_minor": 0
      },
      "text/plain": [
       "Processing CSVs:   0%|          | 0/744 [00:00<?, ?it/s]"
      ]
     },
     "metadata": {},
     "output_type": "display_data"
    },
    {
     "data": {
      "application/vnd.jupyter.widget-view+json": {
       "model_id": "",
       "version_major": 2,
       "version_minor": 0
      },
      "text/plain": [
       "Processing CSVs:   0%|          | 0/720 [00:00<?, ?it/s]"
      ]
     },
     "metadata": {},
     "output_type": "display_data"
    },
    {
     "data": {
      "application/vnd.jupyter.widget-view+json": {
       "model_id": "",
       "version_major": 2,
       "version_minor": 0
      },
      "text/plain": [
       "Processing CSVs:   0%|          | 0/744 [00:00<?, ?it/s]"
      ]
     },
     "metadata": {},
     "output_type": "display_data"
    },
    {
     "data": {
      "application/vnd.jupyter.widget-view+json": {
       "model_id": "",
       "version_major": 2,
       "version_minor": 0
      },
      "text/plain": [
       "Processing CSVs:   0%|          | 0/720 [00:00<?, ?it/s]"
      ]
     },
     "metadata": {},
     "output_type": "display_data"
    },
    {
     "data": {
      "application/vnd.jupyter.widget-view+json": {
       "model_id": "",
       "version_major": 2,
       "version_minor": 0
      },
      "text/plain": [
       "Processing CSVs:   0%|          | 0/744 [00:00<?, ?it/s]"
      ]
     },
     "metadata": {},
     "output_type": "display_data"
    },
    {
     "data": {
      "application/vnd.jupyter.widget-view+json": {
       "model_id": "",
       "version_major": 2,
       "version_minor": 0
      },
      "text/plain": [
       "Processing CSVs:   0%|          | 0/744 [00:00<?, ?it/s]"
      ]
     },
     "metadata": {},
     "output_type": "display_data"
    },
    {
     "name": "stdout",
     "output_type": "stream",
     "text": [
      "{'13DCPP_U01', '11KEGMAR_G01', '07BDPP_U04', '03AVION_U01', '01CIP2_G01', '03MKBN_E', '01ANGAT_A', '10AGUS1_U01', '10GNPK_U04', '12KEGGIN_G01', '12PKSFRA_U01', '06PAL1A_G01', '09WMPC_U07', '08PDPP3_C', '07TPLPB4_U04', '01LIMAY_U06', '03RCBMI_G01', '03ORMAT_G01', '13SMCPC_U02', '01BINGA_U01', '03MKBN_A', '01ANGAT_M', '03MKBN_D', '01AMBUK_U02', '06PAL2A_U03', '03PAGBIL_G01', '03KAL_G04', '03STA-RI_G01', '11FDC_U01', '14PKPSOC_G01', '05TPVI_U01', '03INGRID_GS6', '07BDPP_U01', '03QPPL_G01', '13MAGDBNK_G01', '01MSINLO_G02', '09WMPC_U06', '01BAUANG_GS1', '01MAGAT_U01', '05EAUC_U02', '10AGUS4_U03', '04IASMOD_G03', '08STBPB1_U04', '01MSINLO_G03', '12TM2_U01', '01AMBUK_U01', '01SUAL_G02', '03SLPGC_G04', '08PPC_G02', '10AGUS4_U01', '01PNTBNG_U02', '03SNGAB_G01', '03PAGBIL_G03', '08PPC1_A', '01LIMAY_U05', '01LIMAY_U08', '01SNMAN_BAT', '09WMPC_U02', '10AGUS6_U05', '11STEAG_U02', '03CALACA_G02', '03ALMNOS_BAT', '06NASULO_G01', '09WMPC_U09', '11STEAG_U01', '01LIMAY_U02', '08PDPP3_G', '05CPPC_U02', '07TAPAL_PB4', '10AGUS4_U02', '02TMOBIL_G02', '11MNRGY_G02', '08STBPB1_U03', '05TPVI_U02', '03RCBMI_G02', '13DCPP_U02', '01MSINLO_BAT', '03MKBN_C', '02TMOBIL_G03', '01SMC_G02', '10AGUS5_U02', '03BACMAN_U01', '01SMC_G03', '12PKSFRA_G01', '10AGUS7_U01', '01LIMAY_U03', '05THVI_U02', '08PDPP3_G01', '09KEGJIM_G01', '05CPPC_U04', '04LGPP_G01', '14SARANG_U02', '03SBPL_G01', '03ALMNOS_BAT2', '01BINGA_U02', '03ILIJAN_G01', '05CPPC_G01', '11PULA4_U01', '07TPLPB4_U03', '05CPPC_U06', '05TPVI_U06', '01T_ASIA_G01', '04IASMOD_G05', '08PDPP_G01', '03STA-RI_G02', '14MTAPO_U02', '01LIMAY_U04', '01S_ENRO_G01', '03KAL_G02', '08PDPP1_U05', '09PANABNK_U02', '09WMPC_U10', '01MAGAT_U02', '03STA-RI_G05', '01SROQUE_U01', '03SLTEC_G02', '01SROQUE_U02', '09WMPC_U04', '03INGRID_GS1', '12NACSUR_G01', '11PULA4_U02', '03BACMAN_U02', '01SMC_G01', '08PDPP3_E', '05EAUC_U01', '14MTAPO_U01', '09WMPC_U08', '12TM2_U02', '03CALACA_G01', '01BAUANG_GS2', '01BAUANG_GS3', '09KEGPN_G01', '13TM1_U01', '05CEDC_U01', '05CEDC_U02', '10AGUS6_U03', '11NBPC_G01', '06SCBIOP_G01', '03SLPGC_G02', '02MILLEN_G01', '05CPPC_U01', '05TPC_G02', '01MAGAT_U04', '09WMPC_U01', '01MARVEL_G01', '05CPPC_U05', '03SLPGC_G01', '08PPC1_B', '13MATIBNK_G01', '01LAMAO_BAT', '11PULA4_U03', '03KAL_G03', '03BACMAN_U03', '05TPVI_U04', '10AGUS2_U01', '11FDC_U03', '01CASECN_G01', '07BDPP_U03', '06STNEGB_G01', '05CPPC_U08', '01LIMAY_BAT', '11FDC_U02', '05KSPC_G02', '07TPLPB4_U01', '10AGUS2_U03', '03INGRID_GS5', '14SUPKOR_G01', '13SMCPC_U01', '11PKBUK_G01', '10PPEI_U01', '09PANABNK_U01', '01LIMAY_U07', '08PEDC_U01', '08STBAR_PB', '10GNPK_U02', '03BOTOCA_G01', '03PAGBIL_G02', '08PEDC_U02', '06KABAN_BAT', '05EAUC_U03', '10AGUS6_U01', '05CEDC_U03', '13SMC_U01', '01SROQUE_U03', '07BDPP_U02', '10AGUS7_U02', '01HYPGRN_G01', '08STBPB1_U02', '08PDPP1_U03', '10GNPK_U03', '06NTNEGB_G01', '03STA-RI_G04', '06CENPRI_U02', '13MACO_BAT', '05EAUC_G01', '01ANDA_G01', '05TPVI_U05', '12KEGSUR_G01', '10AGUS6_U04', '04IASMOD_G04', '06CENPRI_U05', '03AVION_U02', '04LEYTE_A', '03KAL_G01', '03MGPP_G01', '11MINBAL_G01', '14MTAPO_U03', '08PEDC_U03', '01APEC_G01', '01BINGA_U03', '01PNTBNG_U01', '03TIWI_C', '05TPVI_U03', '01AMBUK_U03', '03STA-RI_G03', '14SARANG_U01', '09WMPC_U05', nan, '06CENPRI_U01', '01MASIWA_G01', '01GNPD_U01', '01SMC_G04', '03STA-RI_G06', '02TMOBIL_G04', '08PDPP3_H', '07BDPP_G01', '06CENPRI_U03', '05TOLEDO_BAT', '07TPLPB4_U02', '13TM1_U02', '05TPC_G01', '01BINGA_U04', '12PKSFRA_U02', '03ILIJAN_G02', '08GLOBAL_G01', '01PETRON_G01', '06PAL2A_U01', '03INGRID_GS3', '06CENPRI_U04', '05CPPC_U03', nan, '03MKBN_B', '03SLPGC_G03', '05THVI_U01', '10GNPK_U01', '04IASMOD_G01', '01MAGAT_U03', '01MSINLO_G01', '12KEGMIS_G01', '10MEGC_G01', '10AGUS2_U02', '05CPPC_U09', '05KSPC_G01', '10AGUS5_U01', '03INGRID_GS4', '10AGUS6_U02', '04IASMOD_G02', '03CALIRY_G01', '13SMC_U02', '08PALM_G01', '08STBPB1_U01', '08PDPP1_U02', '13MPCDIG_G01', '03ALMNOS_BAT1', '04IASMOD_G06', '01MARVEL_G02', '01GNPD_U02', '03INGRID_GS2', '05CPPC_U10', '01LIMAY_U01', '05EAUC_U04', '10IDPP_G01', '01SUAL_G01', '02TMOBIL_G01', '11MNRGY_G01', '03SLTEC_G01', '05CPPC_U07', '06PAL2A_U02', '09WMPC_U03', '11PACERM_G01', '12KEGTAN_G01', '03TIWI_A', '03MGI_G02', '10AGUS1_U02'}\n"
     ]
    }
   ],
   "source": [
    "# %%time\n",
    "# # Specify the base folder\n",
    "# base_folder = r'F:\\WESM_data\\RTD_Generation_Offers'\n",
    "\n",
    "# # Initialize an empty set to store unique RESOURCE_ID values\n",
    "# unique_resource_ids = set()\n",
    "\n",
    "# # Loop through the overall folder, first year, and first month\n",
    "# for year_folder in tqdm(os.listdir(base_folder), desc=\"Processing Years\", leave=False):\n",
    "#     year_path = os.path.join(base_folder, year_folder)\n",
    "    \n",
    "#     if os.path.isdir(year_path):\n",
    "#         for month_folder in tqdm(os.listdir(year_path), desc=\"Processing Months\", leave=False):\n",
    "#             month_path = os.path.join(year_path, month_folder)\n",
    "            \n",
    "#             if os.path.isdir(month_path):\n",
    "#                 # Loop through hourly CSV files in the current month\n",
    "#                 for file_name in tqdm(os.listdir(month_path), desc=\"Processing CSVs\", leave=False):\n",
    "#                     if file_name.endswith('.csv'):\n",
    "#                         file_path = os.path.join(month_path, file_name)\n",
    "\n",
    "#                         # Read the CSV file\n",
    "#                         current_df = pd.read_csv(file_path)\n",
    "\n",
    "#                         # Extract unique RESOURCE_ID values\n",
    "#                         unique_resource_ids.update(current_df['RESOURCE_NAME'].unique())\n",
    "\n",
    "# # Display or further process the unique RESOURCE_ID values\n",
    "# print(unique_resource_ids)"
   ]
  },
  {
   "cell_type": "code",
   "execution_count": 9,
   "id": "e95708ee-b74d-4baa-8417-2fef23dffa32",
   "metadata": {
    "tags": []
   },
   "outputs": [
    {
     "ename": "NameError",
     "evalue": "name 'unique_resource_ids' is not defined",
     "output_type": "error",
     "traceback": [
      "\u001b[1;31m---------------------------------------------------------------------------\u001b[0m",
      "\u001b[1;31mNameError\u001b[0m                                 Traceback (most recent call last)",
      "Cell \u001b[1;32mIn[9], line 2\u001b[0m\n\u001b[0;32m      1\u001b[0m \u001b[38;5;66;03m# Convert the set to a list and then to a pandas Series\u001b[39;00m\n\u001b[1;32m----> 2\u001b[0m unique_resource_ids_series \u001b[38;5;241m=\u001b[39m pd\u001b[38;5;241m.\u001b[39mSeries(\u001b[38;5;28mlist\u001b[39m(unique_resource_ids), name\u001b[38;5;241m=\u001b[39m\u001b[38;5;124m'\u001b[39m\u001b[38;5;124mRESOURCE_ID\u001b[39m\u001b[38;5;124m'\u001b[39m, dtype\u001b[38;5;241m=\u001b[39m\u001b[38;5;28mstr\u001b[39m)\n",
      "\u001b[1;31mNameError\u001b[0m: name 'unique_resource_ids' is not defined"
     ]
    }
   ],
   "source": [
    "# Convert the set to a list and then to a pandas Series\n",
    "unique_resource_ids_series = pd.Series(list(unique_resource_ids), name='RESOURCE_ID', dtype=str)"
   ]
  },
  {
   "cell_type": "code",
   "execution_count": null,
   "id": "c44631dd-4ed3-4233-9100-6a4cbc0733ef",
   "metadata": {},
   "outputs": [],
   "source": [
    "unique_resource_ids_series.to_csv(unique_resource_ids_path, index=False)"
   ]
  },
  {
   "cell_type": "code",
   "execution_count": 18,
   "id": "cd510df4-cefd-47cd-81bf-4660808e8afe",
   "metadata": {
    "tags": []
   },
   "outputs": [
    {
     "ename": "NameError",
     "evalue": "name 'nan' is not defined",
     "output_type": "error",
     "traceback": [
      "\u001b[1;31m---------------------------------------------------------------------------\u001b[0m",
      "\u001b[1;31mNameError\u001b[0m                                 Traceback (most recent call last)",
      "Cell \u001b[1;32mIn[18], line 1\u001b[0m\n\u001b[1;32m----> 1\u001b[0m unique_resource_ids_list \u001b[38;5;241m=\u001b[39m [\u001b[38;5;124m'\u001b[39m\u001b[38;5;124m13DCPP_U01\u001b[39m\u001b[38;5;124m'\u001b[39m, \u001b[38;5;124m'\u001b[39m\u001b[38;5;124m11KEGMAR_G01\u001b[39m\u001b[38;5;124m'\u001b[39m, \u001b[38;5;124m'\u001b[39m\u001b[38;5;124m07BDPP_U04\u001b[39m\u001b[38;5;124m'\u001b[39m, \u001b[38;5;124m'\u001b[39m\u001b[38;5;124m03AVION_U01\u001b[39m\u001b[38;5;124m'\u001b[39m, \u001b[38;5;124m'\u001b[39m\u001b[38;5;124m01CIP2_G01\u001b[39m\u001b[38;5;124m'\u001b[39m, \u001b[38;5;124m'\u001b[39m\u001b[38;5;124m03MKBN_E\u001b[39m\u001b[38;5;124m'\u001b[39m, \u001b[38;5;124m'\u001b[39m\u001b[38;5;124m01ANGAT_A\u001b[39m\u001b[38;5;124m'\u001b[39m, \u001b[38;5;124m'\u001b[39m\u001b[38;5;124m10AGUS1_U01\u001b[39m\u001b[38;5;124m'\u001b[39m, \u001b[38;5;124m'\u001b[39m\u001b[38;5;124m10GNPK_U04\u001b[39m\u001b[38;5;124m'\u001b[39m, \u001b[38;5;124m'\u001b[39m\u001b[38;5;124m12KEGGIN_G01\u001b[39m\u001b[38;5;124m'\u001b[39m, \u001b[38;5;124m'\u001b[39m\u001b[38;5;124m12PKSFRA_U01\u001b[39m\u001b[38;5;124m'\u001b[39m, \u001b[38;5;124m'\u001b[39m\u001b[38;5;124m06PAL1A_G01\u001b[39m\u001b[38;5;124m'\u001b[39m, \u001b[38;5;124m'\u001b[39m\u001b[38;5;124m09WMPC_U07\u001b[39m\u001b[38;5;124m'\u001b[39m, \u001b[38;5;124m'\u001b[39m\u001b[38;5;124m08PDPP3_C\u001b[39m\u001b[38;5;124m'\u001b[39m, \u001b[38;5;124m'\u001b[39m\u001b[38;5;124m07TPLPB4_U04\u001b[39m\u001b[38;5;124m'\u001b[39m, \u001b[38;5;124m'\u001b[39m\u001b[38;5;124m01LIMAY_U06\u001b[39m\u001b[38;5;124m'\u001b[39m, \u001b[38;5;124m'\u001b[39m\u001b[38;5;124m03RCBMI_G01\u001b[39m\u001b[38;5;124m'\u001b[39m, \u001b[38;5;124m'\u001b[39m\u001b[38;5;124m03ORMAT_G01\u001b[39m\u001b[38;5;124m'\u001b[39m, \u001b[38;5;124m'\u001b[39m\u001b[38;5;124m13SMCPC_U02\u001b[39m\u001b[38;5;124m'\u001b[39m, \u001b[38;5;124m'\u001b[39m\u001b[38;5;124m01BINGA_U01\u001b[39m\u001b[38;5;124m'\u001b[39m, \u001b[38;5;124m'\u001b[39m\u001b[38;5;124m03MKBN_A\u001b[39m\u001b[38;5;124m'\u001b[39m, \u001b[38;5;124m'\u001b[39m\u001b[38;5;124m01ANGAT_M\u001b[39m\u001b[38;5;124m'\u001b[39m, \u001b[38;5;124m'\u001b[39m\u001b[38;5;124m03MKBN_D\u001b[39m\u001b[38;5;124m'\u001b[39m, \u001b[38;5;124m'\u001b[39m\u001b[38;5;124m01AMBUK_U02\u001b[39m\u001b[38;5;124m'\u001b[39m, \u001b[38;5;124m'\u001b[39m\u001b[38;5;124m06PAL2A_U03\u001b[39m\u001b[38;5;124m'\u001b[39m, \u001b[38;5;124m'\u001b[39m\u001b[38;5;124m03PAGBIL_G01\u001b[39m\u001b[38;5;124m'\u001b[39m, \u001b[38;5;124m'\u001b[39m\u001b[38;5;124m03KAL_G04\u001b[39m\u001b[38;5;124m'\u001b[39m, \u001b[38;5;124m'\u001b[39m\u001b[38;5;124m03STA-RI_G01\u001b[39m\u001b[38;5;124m'\u001b[39m, \u001b[38;5;124m'\u001b[39m\u001b[38;5;124m11FDC_U01\u001b[39m\u001b[38;5;124m'\u001b[39m, \u001b[38;5;124m'\u001b[39m\u001b[38;5;124m14PKPSOC_G01\u001b[39m\u001b[38;5;124m'\u001b[39m, \u001b[38;5;124m'\u001b[39m\u001b[38;5;124m05TPVI_U01\u001b[39m\u001b[38;5;124m'\u001b[39m, \u001b[38;5;124m'\u001b[39m\u001b[38;5;124m03INGRID_GS6\u001b[39m\u001b[38;5;124m'\u001b[39m, \u001b[38;5;124m'\u001b[39m\u001b[38;5;124m07BDPP_U01\u001b[39m\u001b[38;5;124m'\u001b[39m, \u001b[38;5;124m'\u001b[39m\u001b[38;5;124m03QPPL_G01\u001b[39m\u001b[38;5;124m'\u001b[39m, \u001b[38;5;124m'\u001b[39m\u001b[38;5;124m13MAGDBNK_G01\u001b[39m\u001b[38;5;124m'\u001b[39m, \u001b[38;5;124m'\u001b[39m\u001b[38;5;124m01MSINLO_G02\u001b[39m\u001b[38;5;124m'\u001b[39m, \u001b[38;5;124m'\u001b[39m\u001b[38;5;124m09WMPC_U06\u001b[39m\u001b[38;5;124m'\u001b[39m, \u001b[38;5;124m'\u001b[39m\u001b[38;5;124m01BAUANG_GS1\u001b[39m\u001b[38;5;124m'\u001b[39m, \u001b[38;5;124m'\u001b[39m\u001b[38;5;124m01MAGAT_U01\u001b[39m\u001b[38;5;124m'\u001b[39m, \u001b[38;5;124m'\u001b[39m\u001b[38;5;124m05EAUC_U02\u001b[39m\u001b[38;5;124m'\u001b[39m, \u001b[38;5;124m'\u001b[39m\u001b[38;5;124m10AGUS4_U03\u001b[39m\u001b[38;5;124m'\u001b[39m, \u001b[38;5;124m'\u001b[39m\u001b[38;5;124m04IASMOD_G03\u001b[39m\u001b[38;5;124m'\u001b[39m, \u001b[38;5;124m'\u001b[39m\u001b[38;5;124m08STBPB1_U04\u001b[39m\u001b[38;5;124m'\u001b[39m, \u001b[38;5;124m'\u001b[39m\u001b[38;5;124m01MSINLO_G03\u001b[39m\u001b[38;5;124m'\u001b[39m, \u001b[38;5;124m'\u001b[39m\u001b[38;5;124m12TM2_U01\u001b[39m\u001b[38;5;124m'\u001b[39m, \u001b[38;5;124m'\u001b[39m\u001b[38;5;124m01AMBUK_U01\u001b[39m\u001b[38;5;124m'\u001b[39m, \u001b[38;5;124m'\u001b[39m\u001b[38;5;124m01SUAL_G02\u001b[39m\u001b[38;5;124m'\u001b[39m, \u001b[38;5;124m'\u001b[39m\u001b[38;5;124m03SLPGC_G04\u001b[39m\u001b[38;5;124m'\u001b[39m, \u001b[38;5;124m'\u001b[39m\u001b[38;5;124m08PPC_G02\u001b[39m\u001b[38;5;124m'\u001b[39m, \u001b[38;5;124m'\u001b[39m\u001b[38;5;124m10AGUS4_U01\u001b[39m\u001b[38;5;124m'\u001b[39m, \u001b[38;5;124m'\u001b[39m\u001b[38;5;124m01PNTBNG_U02\u001b[39m\u001b[38;5;124m'\u001b[39m, \u001b[38;5;124m'\u001b[39m\u001b[38;5;124m03SNGAB_G01\u001b[39m\u001b[38;5;124m'\u001b[39m, \u001b[38;5;124m'\u001b[39m\u001b[38;5;124m03PAGBIL_G03\u001b[39m\u001b[38;5;124m'\u001b[39m, \u001b[38;5;124m'\u001b[39m\u001b[38;5;124m08PPC1_A\u001b[39m\u001b[38;5;124m'\u001b[39m, \u001b[38;5;124m'\u001b[39m\u001b[38;5;124m01LIMAY_U05\u001b[39m\u001b[38;5;124m'\u001b[39m, \u001b[38;5;124m'\u001b[39m\u001b[38;5;124m01LIMAY_U08\u001b[39m\u001b[38;5;124m'\u001b[39m, \u001b[38;5;124m'\u001b[39m\u001b[38;5;124m01SNMAN_BAT\u001b[39m\u001b[38;5;124m'\u001b[39m, \u001b[38;5;124m'\u001b[39m\u001b[38;5;124m09WMPC_U02\u001b[39m\u001b[38;5;124m'\u001b[39m, \u001b[38;5;124m'\u001b[39m\u001b[38;5;124m10AGUS6_U05\u001b[39m\u001b[38;5;124m'\u001b[39m, \u001b[38;5;124m'\u001b[39m\u001b[38;5;124m11STEAG_U02\u001b[39m\u001b[38;5;124m'\u001b[39m, \u001b[38;5;124m'\u001b[39m\u001b[38;5;124m03CALACA_G02\u001b[39m\u001b[38;5;124m'\u001b[39m, \u001b[38;5;124m'\u001b[39m\u001b[38;5;124m03ALMNOS_BAT\u001b[39m\u001b[38;5;124m'\u001b[39m, \u001b[38;5;124m'\u001b[39m\u001b[38;5;124m06NASULO_G01\u001b[39m\u001b[38;5;124m'\u001b[39m, \u001b[38;5;124m'\u001b[39m\u001b[38;5;124m09WMPC_U09\u001b[39m\u001b[38;5;124m'\u001b[39m, \u001b[38;5;124m'\u001b[39m\u001b[38;5;124m11STEAG_U01\u001b[39m\u001b[38;5;124m'\u001b[39m, \u001b[38;5;124m'\u001b[39m\u001b[38;5;124m01LIMAY_U02\u001b[39m\u001b[38;5;124m'\u001b[39m, \u001b[38;5;124m'\u001b[39m\u001b[38;5;124m08PDPP3_G\u001b[39m\u001b[38;5;124m'\u001b[39m, \u001b[38;5;124m'\u001b[39m\u001b[38;5;124m05CPPC_U02\u001b[39m\u001b[38;5;124m'\u001b[39m, \u001b[38;5;124m'\u001b[39m\u001b[38;5;124m07TAPAL_PB4\u001b[39m\u001b[38;5;124m'\u001b[39m, \u001b[38;5;124m'\u001b[39m\u001b[38;5;124m10AGUS4_U02\u001b[39m\u001b[38;5;124m'\u001b[39m, \u001b[38;5;124m'\u001b[39m\u001b[38;5;124m02TMOBIL_G02\u001b[39m\u001b[38;5;124m'\u001b[39m, \u001b[38;5;124m'\u001b[39m\u001b[38;5;124m11MNRGY_G02\u001b[39m\u001b[38;5;124m'\u001b[39m, \u001b[38;5;124m'\u001b[39m\u001b[38;5;124m08STBPB1_U03\u001b[39m\u001b[38;5;124m'\u001b[39m, \u001b[38;5;124m'\u001b[39m\u001b[38;5;124m05TPVI_U02\u001b[39m\u001b[38;5;124m'\u001b[39m, \u001b[38;5;124m'\u001b[39m\u001b[38;5;124m03RCBMI_G02\u001b[39m\u001b[38;5;124m'\u001b[39m, \u001b[38;5;124m'\u001b[39m\u001b[38;5;124m13DCPP_U02\u001b[39m\u001b[38;5;124m'\u001b[39m, \u001b[38;5;124m'\u001b[39m\u001b[38;5;124m01MSINLO_BAT\u001b[39m\u001b[38;5;124m'\u001b[39m, \u001b[38;5;124m'\u001b[39m\u001b[38;5;124m03MKBN_C\u001b[39m\u001b[38;5;124m'\u001b[39m, \u001b[38;5;124m'\u001b[39m\u001b[38;5;124m02TMOBIL_G03\u001b[39m\u001b[38;5;124m'\u001b[39m, \u001b[38;5;124m'\u001b[39m\u001b[38;5;124m01SMC_G02\u001b[39m\u001b[38;5;124m'\u001b[39m, \u001b[38;5;124m'\u001b[39m\u001b[38;5;124m10AGUS5_U02\u001b[39m\u001b[38;5;124m'\u001b[39m, \u001b[38;5;124m'\u001b[39m\u001b[38;5;124m03BACMAN_U01\u001b[39m\u001b[38;5;124m'\u001b[39m, \u001b[38;5;124m'\u001b[39m\u001b[38;5;124m01SMC_G03\u001b[39m\u001b[38;5;124m'\u001b[39m, \u001b[38;5;124m'\u001b[39m\u001b[38;5;124m12PKSFRA_G01\u001b[39m\u001b[38;5;124m'\u001b[39m, \u001b[38;5;124m'\u001b[39m\u001b[38;5;124m10AGUS7_U01\u001b[39m\u001b[38;5;124m'\u001b[39m, \u001b[38;5;124m'\u001b[39m\u001b[38;5;124m01LIMAY_U03\u001b[39m\u001b[38;5;124m'\u001b[39m, \u001b[38;5;124m'\u001b[39m\u001b[38;5;124m05THVI_U02\u001b[39m\u001b[38;5;124m'\u001b[39m, \u001b[38;5;124m'\u001b[39m\u001b[38;5;124m08PDPP3_G01\u001b[39m\u001b[38;5;124m'\u001b[39m, \u001b[38;5;124m'\u001b[39m\u001b[38;5;124m09KEGJIM_G01\u001b[39m\u001b[38;5;124m'\u001b[39m, \u001b[38;5;124m'\u001b[39m\u001b[38;5;124m05CPPC_U04\u001b[39m\u001b[38;5;124m'\u001b[39m, \u001b[38;5;124m'\u001b[39m\u001b[38;5;124m04LGPP_G01\u001b[39m\u001b[38;5;124m'\u001b[39m, \u001b[38;5;124m'\u001b[39m\u001b[38;5;124m14SARANG_U02\u001b[39m\u001b[38;5;124m'\u001b[39m, \u001b[38;5;124m'\u001b[39m\u001b[38;5;124m03SBPL_G01\u001b[39m\u001b[38;5;124m'\u001b[39m, \u001b[38;5;124m'\u001b[39m\u001b[38;5;124m03ALMNOS_BAT2\u001b[39m\u001b[38;5;124m'\u001b[39m, \u001b[38;5;124m'\u001b[39m\u001b[38;5;124m01BINGA_U02\u001b[39m\u001b[38;5;124m'\u001b[39m, \u001b[38;5;124m'\u001b[39m\u001b[38;5;124m03ILIJAN_G01\u001b[39m\u001b[38;5;124m'\u001b[39m, \u001b[38;5;124m'\u001b[39m\u001b[38;5;124m05CPPC_G01\u001b[39m\u001b[38;5;124m'\u001b[39m, \u001b[38;5;124m'\u001b[39m\u001b[38;5;124m11PULA4_U01\u001b[39m\u001b[38;5;124m'\u001b[39m, \u001b[38;5;124m'\u001b[39m\u001b[38;5;124m07TPLPB4_U03\u001b[39m\u001b[38;5;124m'\u001b[39m, \u001b[38;5;124m'\u001b[39m\u001b[38;5;124m05CPPC_U06\u001b[39m\u001b[38;5;124m'\u001b[39m, \u001b[38;5;124m'\u001b[39m\u001b[38;5;124m05TPVI_U06\u001b[39m\u001b[38;5;124m'\u001b[39m, \u001b[38;5;124m'\u001b[39m\u001b[38;5;124m01T_ASIA_G01\u001b[39m\u001b[38;5;124m'\u001b[39m, \u001b[38;5;124m'\u001b[39m\u001b[38;5;124m04IASMOD_G05\u001b[39m\u001b[38;5;124m'\u001b[39m, \u001b[38;5;124m'\u001b[39m\u001b[38;5;124m08PDPP_G01\u001b[39m\u001b[38;5;124m'\u001b[39m, \u001b[38;5;124m'\u001b[39m\u001b[38;5;124m03STA-RI_G02\u001b[39m\u001b[38;5;124m'\u001b[39m, \u001b[38;5;124m'\u001b[39m\u001b[38;5;124m14MTAPO_U02\u001b[39m\u001b[38;5;124m'\u001b[39m, \u001b[38;5;124m'\u001b[39m\u001b[38;5;124m01LIMAY_U04\u001b[39m\u001b[38;5;124m'\u001b[39m, \u001b[38;5;124m'\u001b[39m\u001b[38;5;124m01S_ENRO_G01\u001b[39m\u001b[38;5;124m'\u001b[39m, \u001b[38;5;124m'\u001b[39m\u001b[38;5;124m03KAL_G02\u001b[39m\u001b[38;5;124m'\u001b[39m, \u001b[38;5;124m'\u001b[39m\u001b[38;5;124m08PDPP1_U05\u001b[39m\u001b[38;5;124m'\u001b[39m, \u001b[38;5;124m'\u001b[39m\u001b[38;5;124m09PANABNK_U02\u001b[39m\u001b[38;5;124m'\u001b[39m, \u001b[38;5;124m'\u001b[39m\u001b[38;5;124m09WMPC_U10\u001b[39m\u001b[38;5;124m'\u001b[39m, \u001b[38;5;124m'\u001b[39m\u001b[38;5;124m01MAGAT_U02\u001b[39m\u001b[38;5;124m'\u001b[39m, \u001b[38;5;124m'\u001b[39m\u001b[38;5;124m03STA-RI_G05\u001b[39m\u001b[38;5;124m'\u001b[39m, \u001b[38;5;124m'\u001b[39m\u001b[38;5;124m01SROQUE_U01\u001b[39m\u001b[38;5;124m'\u001b[39m, \u001b[38;5;124m'\u001b[39m\u001b[38;5;124m03SLTEC_G02\u001b[39m\u001b[38;5;124m'\u001b[39m, \u001b[38;5;124m'\u001b[39m\u001b[38;5;124m01SROQUE_U02\u001b[39m\u001b[38;5;124m'\u001b[39m, \u001b[38;5;124m'\u001b[39m\u001b[38;5;124m09WMPC_U04\u001b[39m\u001b[38;5;124m'\u001b[39m, \u001b[38;5;124m'\u001b[39m\u001b[38;5;124m03INGRID_GS1\u001b[39m\u001b[38;5;124m'\u001b[39m, \u001b[38;5;124m'\u001b[39m\u001b[38;5;124m12NACSUR_G01\u001b[39m\u001b[38;5;124m'\u001b[39m, \u001b[38;5;124m'\u001b[39m\u001b[38;5;124m11PULA4_U02\u001b[39m\u001b[38;5;124m'\u001b[39m, \u001b[38;5;124m'\u001b[39m\u001b[38;5;124m03BACMAN_U02\u001b[39m\u001b[38;5;124m'\u001b[39m, \u001b[38;5;124m'\u001b[39m\u001b[38;5;124m01SMC_G01\u001b[39m\u001b[38;5;124m'\u001b[39m, \u001b[38;5;124m'\u001b[39m\u001b[38;5;124m08PDPP3_E\u001b[39m\u001b[38;5;124m'\u001b[39m, \u001b[38;5;124m'\u001b[39m\u001b[38;5;124m05EAUC_U01\u001b[39m\u001b[38;5;124m'\u001b[39m, \u001b[38;5;124m'\u001b[39m\u001b[38;5;124m14MTAPO_U01\u001b[39m\u001b[38;5;124m'\u001b[39m, \u001b[38;5;124m'\u001b[39m\u001b[38;5;124m09WMPC_U08\u001b[39m\u001b[38;5;124m'\u001b[39m, \u001b[38;5;124m'\u001b[39m\u001b[38;5;124m12TM2_U02\u001b[39m\u001b[38;5;124m'\u001b[39m, \u001b[38;5;124m'\u001b[39m\u001b[38;5;124m03CALACA_G01\u001b[39m\u001b[38;5;124m'\u001b[39m, \u001b[38;5;124m'\u001b[39m\u001b[38;5;124m01BAUANG_GS2\u001b[39m\u001b[38;5;124m'\u001b[39m, \u001b[38;5;124m'\u001b[39m\u001b[38;5;124m01BAUANG_GS3\u001b[39m\u001b[38;5;124m'\u001b[39m, \u001b[38;5;124m'\u001b[39m\u001b[38;5;124m09KEGPN_G01\u001b[39m\u001b[38;5;124m'\u001b[39m, \u001b[38;5;124m'\u001b[39m\u001b[38;5;124m13TM1_U01\u001b[39m\u001b[38;5;124m'\u001b[39m, \u001b[38;5;124m'\u001b[39m\u001b[38;5;124m05CEDC_U01\u001b[39m\u001b[38;5;124m'\u001b[39m, \u001b[38;5;124m'\u001b[39m\u001b[38;5;124m05CEDC_U02\u001b[39m\u001b[38;5;124m'\u001b[39m, \u001b[38;5;124m'\u001b[39m\u001b[38;5;124m10AGUS6_U03\u001b[39m\u001b[38;5;124m'\u001b[39m, \u001b[38;5;124m'\u001b[39m\u001b[38;5;124m11NBPC_G01\u001b[39m\u001b[38;5;124m'\u001b[39m, \u001b[38;5;124m'\u001b[39m\u001b[38;5;124m06SCBIOP_G01\u001b[39m\u001b[38;5;124m'\u001b[39m, \u001b[38;5;124m'\u001b[39m\u001b[38;5;124m03SLPGC_G02\u001b[39m\u001b[38;5;124m'\u001b[39m, \u001b[38;5;124m'\u001b[39m\u001b[38;5;124m02MILLEN_G01\u001b[39m\u001b[38;5;124m'\u001b[39m, \u001b[38;5;124m'\u001b[39m\u001b[38;5;124m05CPPC_U01\u001b[39m\u001b[38;5;124m'\u001b[39m, \u001b[38;5;124m'\u001b[39m\u001b[38;5;124m05TPC_G02\u001b[39m\u001b[38;5;124m'\u001b[39m, \u001b[38;5;124m'\u001b[39m\u001b[38;5;124m01MAGAT_U04\u001b[39m\u001b[38;5;124m'\u001b[39m, \u001b[38;5;124m'\u001b[39m\u001b[38;5;124m09WMPC_U01\u001b[39m\u001b[38;5;124m'\u001b[39m, \u001b[38;5;124m'\u001b[39m\u001b[38;5;124m01MARVEL_G01\u001b[39m\u001b[38;5;124m'\u001b[39m, \u001b[38;5;124m'\u001b[39m\u001b[38;5;124m05CPPC_U05\u001b[39m\u001b[38;5;124m'\u001b[39m, \u001b[38;5;124m'\u001b[39m\u001b[38;5;124m03SLPGC_G01\u001b[39m\u001b[38;5;124m'\u001b[39m, \u001b[38;5;124m'\u001b[39m\u001b[38;5;124m08PPC1_B\u001b[39m\u001b[38;5;124m'\u001b[39m, \u001b[38;5;124m'\u001b[39m\u001b[38;5;124m13MATIBNK_G01\u001b[39m\u001b[38;5;124m'\u001b[39m, \u001b[38;5;124m'\u001b[39m\u001b[38;5;124m01LAMAO_BAT\u001b[39m\u001b[38;5;124m'\u001b[39m, \u001b[38;5;124m'\u001b[39m\u001b[38;5;124m11PULA4_U03\u001b[39m\u001b[38;5;124m'\u001b[39m, \u001b[38;5;124m'\u001b[39m\u001b[38;5;124m03KAL_G03\u001b[39m\u001b[38;5;124m'\u001b[39m, \u001b[38;5;124m'\u001b[39m\u001b[38;5;124m03BACMAN_U03\u001b[39m\u001b[38;5;124m'\u001b[39m, \u001b[38;5;124m'\u001b[39m\u001b[38;5;124m05TPVI_U04\u001b[39m\u001b[38;5;124m'\u001b[39m, \u001b[38;5;124m'\u001b[39m\u001b[38;5;124m10AGUS2_U01\u001b[39m\u001b[38;5;124m'\u001b[39m, \u001b[38;5;124m'\u001b[39m\u001b[38;5;124m11FDC_U03\u001b[39m\u001b[38;5;124m'\u001b[39m, \u001b[38;5;124m'\u001b[39m\u001b[38;5;124m01CASECN_G01\u001b[39m\u001b[38;5;124m'\u001b[39m, \u001b[38;5;124m'\u001b[39m\u001b[38;5;124m07BDPP_U03\u001b[39m\u001b[38;5;124m'\u001b[39m, \u001b[38;5;124m'\u001b[39m\u001b[38;5;124m06STNEGB_G01\u001b[39m\u001b[38;5;124m'\u001b[39m, \u001b[38;5;124m'\u001b[39m\u001b[38;5;124m05CPPC_U08\u001b[39m\u001b[38;5;124m'\u001b[39m, \u001b[38;5;124m'\u001b[39m\u001b[38;5;124m01LIMAY_BAT\u001b[39m\u001b[38;5;124m'\u001b[39m, \u001b[38;5;124m'\u001b[39m\u001b[38;5;124m11FDC_U02\u001b[39m\u001b[38;5;124m'\u001b[39m, \u001b[38;5;124m'\u001b[39m\u001b[38;5;124m05KSPC_G02\u001b[39m\u001b[38;5;124m'\u001b[39m, \u001b[38;5;124m'\u001b[39m\u001b[38;5;124m07TPLPB4_U01\u001b[39m\u001b[38;5;124m'\u001b[39m, \u001b[38;5;124m'\u001b[39m\u001b[38;5;124m10AGUS2_U03\u001b[39m\u001b[38;5;124m'\u001b[39m, \u001b[38;5;124m'\u001b[39m\u001b[38;5;124m03INGRID_GS5\u001b[39m\u001b[38;5;124m'\u001b[39m, \u001b[38;5;124m'\u001b[39m\u001b[38;5;124m14SUPKOR_G01\u001b[39m\u001b[38;5;124m'\u001b[39m, \u001b[38;5;124m'\u001b[39m\u001b[38;5;124m13SMCPC_U01\u001b[39m\u001b[38;5;124m'\u001b[39m, \u001b[38;5;124m'\u001b[39m\u001b[38;5;124m11PKBUK_G01\u001b[39m\u001b[38;5;124m'\u001b[39m, \u001b[38;5;124m'\u001b[39m\u001b[38;5;124m10PPEI_U01\u001b[39m\u001b[38;5;124m'\u001b[39m, \u001b[38;5;124m'\u001b[39m\u001b[38;5;124m09PANABNK_U01\u001b[39m\u001b[38;5;124m'\u001b[39m, \u001b[38;5;124m'\u001b[39m\u001b[38;5;124m01LIMAY_U07\u001b[39m\u001b[38;5;124m'\u001b[39m, \u001b[38;5;124m'\u001b[39m\u001b[38;5;124m08PEDC_U01\u001b[39m\u001b[38;5;124m'\u001b[39m, \u001b[38;5;124m'\u001b[39m\u001b[38;5;124m08STBAR_PB\u001b[39m\u001b[38;5;124m'\u001b[39m, \u001b[38;5;124m'\u001b[39m\u001b[38;5;124m10GNPK_U02\u001b[39m\u001b[38;5;124m'\u001b[39m, \u001b[38;5;124m'\u001b[39m\u001b[38;5;124m03BOTOCA_G01\u001b[39m\u001b[38;5;124m'\u001b[39m, \u001b[38;5;124m'\u001b[39m\u001b[38;5;124m03PAGBIL_G02\u001b[39m\u001b[38;5;124m'\u001b[39m, \u001b[38;5;124m'\u001b[39m\u001b[38;5;124m08PEDC_U02\u001b[39m\u001b[38;5;124m'\u001b[39m, \u001b[38;5;124m'\u001b[39m\u001b[38;5;124m06KABAN_BAT\u001b[39m\u001b[38;5;124m'\u001b[39m, \u001b[38;5;124m'\u001b[39m\u001b[38;5;124m05EAUC_U03\u001b[39m\u001b[38;5;124m'\u001b[39m, \u001b[38;5;124m'\u001b[39m\u001b[38;5;124m10AGUS6_U01\u001b[39m\u001b[38;5;124m'\u001b[39m, \u001b[38;5;124m'\u001b[39m\u001b[38;5;124m05CEDC_U03\u001b[39m\u001b[38;5;124m'\u001b[39m, \u001b[38;5;124m'\u001b[39m\u001b[38;5;124m13SMC_U01\u001b[39m\u001b[38;5;124m'\u001b[39m, \u001b[38;5;124m'\u001b[39m\u001b[38;5;124m01SROQUE_U03\u001b[39m\u001b[38;5;124m'\u001b[39m, \u001b[38;5;124m'\u001b[39m\u001b[38;5;124m07BDPP_U02\u001b[39m\u001b[38;5;124m'\u001b[39m, \u001b[38;5;124m'\u001b[39m\u001b[38;5;124m10AGUS7_U02\u001b[39m\u001b[38;5;124m'\u001b[39m, \u001b[38;5;124m'\u001b[39m\u001b[38;5;124m01HYPGRN_G01\u001b[39m\u001b[38;5;124m'\u001b[39m, \u001b[38;5;124m'\u001b[39m\u001b[38;5;124m08STBPB1_U02\u001b[39m\u001b[38;5;124m'\u001b[39m, \u001b[38;5;124m'\u001b[39m\u001b[38;5;124m08PDPP1_U03\u001b[39m\u001b[38;5;124m'\u001b[39m, \u001b[38;5;124m'\u001b[39m\u001b[38;5;124m10GNPK_U03\u001b[39m\u001b[38;5;124m'\u001b[39m, \u001b[38;5;124m'\u001b[39m\u001b[38;5;124m06NTNEGB_G01\u001b[39m\u001b[38;5;124m'\u001b[39m, \u001b[38;5;124m'\u001b[39m\u001b[38;5;124m03STA-RI_G04\u001b[39m\u001b[38;5;124m'\u001b[39m, \u001b[38;5;124m'\u001b[39m\u001b[38;5;124m06CENPRI_U02\u001b[39m\u001b[38;5;124m'\u001b[39m, \u001b[38;5;124m'\u001b[39m\u001b[38;5;124m13MACO_BAT\u001b[39m\u001b[38;5;124m'\u001b[39m, \u001b[38;5;124m'\u001b[39m\u001b[38;5;124m05EAUC_G01\u001b[39m\u001b[38;5;124m'\u001b[39m, \u001b[38;5;124m'\u001b[39m\u001b[38;5;124m01ANDA_G01\u001b[39m\u001b[38;5;124m'\u001b[39m, \u001b[38;5;124m'\u001b[39m\u001b[38;5;124m05TPVI_U05\u001b[39m\u001b[38;5;124m'\u001b[39m, \u001b[38;5;124m'\u001b[39m\u001b[38;5;124m12KEGSUR_G01\u001b[39m\u001b[38;5;124m'\u001b[39m, \u001b[38;5;124m'\u001b[39m\u001b[38;5;124m10AGUS6_U04\u001b[39m\u001b[38;5;124m'\u001b[39m, \u001b[38;5;124m'\u001b[39m\u001b[38;5;124m04IASMOD_G04\u001b[39m\u001b[38;5;124m'\u001b[39m, \u001b[38;5;124m'\u001b[39m\u001b[38;5;124m06CENPRI_U05\u001b[39m\u001b[38;5;124m'\u001b[39m, \u001b[38;5;124m'\u001b[39m\u001b[38;5;124m03AVION_U02\u001b[39m\u001b[38;5;124m'\u001b[39m, \u001b[38;5;124m'\u001b[39m\u001b[38;5;124m04LEYTE_A\u001b[39m\u001b[38;5;124m'\u001b[39m, \u001b[38;5;124m'\u001b[39m\u001b[38;5;124m03KAL_G01\u001b[39m\u001b[38;5;124m'\u001b[39m, \u001b[38;5;124m'\u001b[39m\u001b[38;5;124m03MGPP_G01\u001b[39m\u001b[38;5;124m'\u001b[39m, \u001b[38;5;124m'\u001b[39m\u001b[38;5;124m11MINBAL_G01\u001b[39m\u001b[38;5;124m'\u001b[39m, \u001b[38;5;124m'\u001b[39m\u001b[38;5;124m14MTAPO_U03\u001b[39m\u001b[38;5;124m'\u001b[39m, \u001b[38;5;124m'\u001b[39m\u001b[38;5;124m08PEDC_U03\u001b[39m\u001b[38;5;124m'\u001b[39m, \u001b[38;5;124m'\u001b[39m\u001b[38;5;124m01APEC_G01\u001b[39m\u001b[38;5;124m'\u001b[39m, \u001b[38;5;124m'\u001b[39m\u001b[38;5;124m01BINGA_U03\u001b[39m\u001b[38;5;124m'\u001b[39m, \u001b[38;5;124m'\u001b[39m\u001b[38;5;124m01PNTBNG_U01\u001b[39m\u001b[38;5;124m'\u001b[39m, \u001b[38;5;124m'\u001b[39m\u001b[38;5;124m03TIWI_C\u001b[39m\u001b[38;5;124m'\u001b[39m, \u001b[38;5;124m'\u001b[39m\u001b[38;5;124m05TPVI_U03\u001b[39m\u001b[38;5;124m'\u001b[39m, \u001b[38;5;124m'\u001b[39m\u001b[38;5;124m01AMBUK_U03\u001b[39m\u001b[38;5;124m'\u001b[39m, \u001b[38;5;124m'\u001b[39m\u001b[38;5;124m03STA-RI_G03\u001b[39m\u001b[38;5;124m'\u001b[39m, \u001b[38;5;124m'\u001b[39m\u001b[38;5;124m14SARANG_U01\u001b[39m\u001b[38;5;124m'\u001b[39m, \u001b[38;5;124m'\u001b[39m\u001b[38;5;124m09WMPC_U05\u001b[39m\u001b[38;5;124m'\u001b[39m, nan, \u001b[38;5;124m'\u001b[39m\u001b[38;5;124m06CENPRI_U01\u001b[39m\u001b[38;5;124m'\u001b[39m, \u001b[38;5;124m'\u001b[39m\u001b[38;5;124m01MASIWA_G01\u001b[39m\u001b[38;5;124m'\u001b[39m, \u001b[38;5;124m'\u001b[39m\u001b[38;5;124m01GNPD_U01\u001b[39m\u001b[38;5;124m'\u001b[39m, \u001b[38;5;124m'\u001b[39m\u001b[38;5;124m01SMC_G04\u001b[39m\u001b[38;5;124m'\u001b[39m, \u001b[38;5;124m'\u001b[39m\u001b[38;5;124m03STA-RI_G06\u001b[39m\u001b[38;5;124m'\u001b[39m, \u001b[38;5;124m'\u001b[39m\u001b[38;5;124m02TMOBIL_G04\u001b[39m\u001b[38;5;124m'\u001b[39m, \u001b[38;5;124m'\u001b[39m\u001b[38;5;124m08PDPP3_H\u001b[39m\u001b[38;5;124m'\u001b[39m, \u001b[38;5;124m'\u001b[39m\u001b[38;5;124m07BDPP_G01\u001b[39m\u001b[38;5;124m'\u001b[39m, \u001b[38;5;124m'\u001b[39m\u001b[38;5;124m06CENPRI_U03\u001b[39m\u001b[38;5;124m'\u001b[39m, \u001b[38;5;124m'\u001b[39m\u001b[38;5;124m05TOLEDO_BAT\u001b[39m\u001b[38;5;124m'\u001b[39m, \u001b[38;5;124m'\u001b[39m\u001b[38;5;124m07TPLPB4_U02\u001b[39m\u001b[38;5;124m'\u001b[39m, \u001b[38;5;124m'\u001b[39m\u001b[38;5;124m13TM1_U02\u001b[39m\u001b[38;5;124m'\u001b[39m, \u001b[38;5;124m'\u001b[39m\u001b[38;5;124m05TPC_G01\u001b[39m\u001b[38;5;124m'\u001b[39m, \u001b[38;5;124m'\u001b[39m\u001b[38;5;124m01BINGA_U04\u001b[39m\u001b[38;5;124m'\u001b[39m, \u001b[38;5;124m'\u001b[39m\u001b[38;5;124m12PKSFRA_U02\u001b[39m\u001b[38;5;124m'\u001b[39m, \u001b[38;5;124m'\u001b[39m\u001b[38;5;124m03ILIJAN_G02\u001b[39m\u001b[38;5;124m'\u001b[39m, \u001b[38;5;124m'\u001b[39m\u001b[38;5;124m08GLOBAL_G01\u001b[39m\u001b[38;5;124m'\u001b[39m, \u001b[38;5;124m'\u001b[39m\u001b[38;5;124m01PETRON_G01\u001b[39m\u001b[38;5;124m'\u001b[39m, \u001b[38;5;124m'\u001b[39m\u001b[38;5;124m06PAL2A_U01\u001b[39m\u001b[38;5;124m'\u001b[39m, \u001b[38;5;124m'\u001b[39m\u001b[38;5;124m03INGRID_GS3\u001b[39m\u001b[38;5;124m'\u001b[39m, \u001b[38;5;124m'\u001b[39m\u001b[38;5;124m06CENPRI_U04\u001b[39m\u001b[38;5;124m'\u001b[39m, \u001b[38;5;124m'\u001b[39m\u001b[38;5;124m05CPPC_U03\u001b[39m\u001b[38;5;124m'\u001b[39m, nan, \u001b[38;5;124m'\u001b[39m\u001b[38;5;124m03MKBN_B\u001b[39m\u001b[38;5;124m'\u001b[39m, \u001b[38;5;124m'\u001b[39m\u001b[38;5;124m03SLPGC_G03\u001b[39m\u001b[38;5;124m'\u001b[39m, \u001b[38;5;124m'\u001b[39m\u001b[38;5;124m05THVI_U01\u001b[39m\u001b[38;5;124m'\u001b[39m, \u001b[38;5;124m'\u001b[39m\u001b[38;5;124m10GNPK_U01\u001b[39m\u001b[38;5;124m'\u001b[39m, \u001b[38;5;124m'\u001b[39m\u001b[38;5;124m04IASMOD_G01\u001b[39m\u001b[38;5;124m'\u001b[39m, \u001b[38;5;124m'\u001b[39m\u001b[38;5;124m01MAGAT_U03\u001b[39m\u001b[38;5;124m'\u001b[39m, \u001b[38;5;124m'\u001b[39m\u001b[38;5;124m01MSINLO_G01\u001b[39m\u001b[38;5;124m'\u001b[39m, \u001b[38;5;124m'\u001b[39m\u001b[38;5;124m12KEGMIS_G01\u001b[39m\u001b[38;5;124m'\u001b[39m, \u001b[38;5;124m'\u001b[39m\u001b[38;5;124m10MEGC_G01\u001b[39m\u001b[38;5;124m'\u001b[39m, \u001b[38;5;124m'\u001b[39m\u001b[38;5;124m10AGUS2_U02\u001b[39m\u001b[38;5;124m'\u001b[39m, \u001b[38;5;124m'\u001b[39m\u001b[38;5;124m05CPPC_U09\u001b[39m\u001b[38;5;124m'\u001b[39m, \u001b[38;5;124m'\u001b[39m\u001b[38;5;124m05KSPC_G01\u001b[39m\u001b[38;5;124m'\u001b[39m, \u001b[38;5;124m'\u001b[39m\u001b[38;5;124m10AGUS5_U01\u001b[39m\u001b[38;5;124m'\u001b[39m, \u001b[38;5;124m'\u001b[39m\u001b[38;5;124m03INGRID_GS4\u001b[39m\u001b[38;5;124m'\u001b[39m, \u001b[38;5;124m'\u001b[39m\u001b[38;5;124m10AGUS6_U02\u001b[39m\u001b[38;5;124m'\u001b[39m, \u001b[38;5;124m'\u001b[39m\u001b[38;5;124m04IASMOD_G02\u001b[39m\u001b[38;5;124m'\u001b[39m, \u001b[38;5;124m'\u001b[39m\u001b[38;5;124m03CALIRY_G01\u001b[39m\u001b[38;5;124m'\u001b[39m, \u001b[38;5;124m'\u001b[39m\u001b[38;5;124m13SMC_U02\u001b[39m\u001b[38;5;124m'\u001b[39m, \u001b[38;5;124m'\u001b[39m\u001b[38;5;124m08PALM_G01\u001b[39m\u001b[38;5;124m'\u001b[39m, \u001b[38;5;124m'\u001b[39m\u001b[38;5;124m08STBPB1_U01\u001b[39m\u001b[38;5;124m'\u001b[39m, \u001b[38;5;124m'\u001b[39m\u001b[38;5;124m08PDPP1_U02\u001b[39m\u001b[38;5;124m'\u001b[39m, \u001b[38;5;124m'\u001b[39m\u001b[38;5;124m13MPCDIG_G01\u001b[39m\u001b[38;5;124m'\u001b[39m, \u001b[38;5;124m'\u001b[39m\u001b[38;5;124m03ALMNOS_BAT1\u001b[39m\u001b[38;5;124m'\u001b[39m, \u001b[38;5;124m'\u001b[39m\u001b[38;5;124m04IASMOD_G06\u001b[39m\u001b[38;5;124m'\u001b[39m, \u001b[38;5;124m'\u001b[39m\u001b[38;5;124m01MARVEL_G02\u001b[39m\u001b[38;5;124m'\u001b[39m, \u001b[38;5;124m'\u001b[39m\u001b[38;5;124m01GNPD_U02\u001b[39m\u001b[38;5;124m'\u001b[39m, \u001b[38;5;124m'\u001b[39m\u001b[38;5;124m03INGRID_GS2\u001b[39m\u001b[38;5;124m'\u001b[39m, \u001b[38;5;124m'\u001b[39m\u001b[38;5;124m05CPPC_U10\u001b[39m\u001b[38;5;124m'\u001b[39m, \u001b[38;5;124m'\u001b[39m\u001b[38;5;124m01LIMAY_U01\u001b[39m\u001b[38;5;124m'\u001b[39m, \u001b[38;5;124m'\u001b[39m\u001b[38;5;124m05EAUC_U04\u001b[39m\u001b[38;5;124m'\u001b[39m, \u001b[38;5;124m'\u001b[39m\u001b[38;5;124m10IDPP_G01\u001b[39m\u001b[38;5;124m'\u001b[39m, \u001b[38;5;124m'\u001b[39m\u001b[38;5;124m01SUAL_G01\u001b[39m\u001b[38;5;124m'\u001b[39m, \u001b[38;5;124m'\u001b[39m\u001b[38;5;124m02TMOBIL_G01\u001b[39m\u001b[38;5;124m'\u001b[39m, \u001b[38;5;124m'\u001b[39m\u001b[38;5;124m11MNRGY_G01\u001b[39m\u001b[38;5;124m'\u001b[39m, \u001b[38;5;124m'\u001b[39m\u001b[38;5;124m03SLTEC_G01\u001b[39m\u001b[38;5;124m'\u001b[39m, \u001b[38;5;124m'\u001b[39m\u001b[38;5;124m05CPPC_U07\u001b[39m\u001b[38;5;124m'\u001b[39m, \u001b[38;5;124m'\u001b[39m\u001b[38;5;124m06PAL2A_U02\u001b[39m\u001b[38;5;124m'\u001b[39m, \u001b[38;5;124m'\u001b[39m\u001b[38;5;124m09WMPC_U03\u001b[39m\u001b[38;5;124m'\u001b[39m, \u001b[38;5;124m'\u001b[39m\u001b[38;5;124m11PACERM_G01\u001b[39m\u001b[38;5;124m'\u001b[39m, \u001b[38;5;124m'\u001b[39m\u001b[38;5;124m12KEGTAN_G01\u001b[39m\u001b[38;5;124m'\u001b[39m, \u001b[38;5;124m'\u001b[39m\u001b[38;5;124m03TIWI_A\u001b[39m\u001b[38;5;124m'\u001b[39m, \u001b[38;5;124m'\u001b[39m\u001b[38;5;124m03MGI_G02\u001b[39m\u001b[38;5;124m'\u001b[39m, \u001b[38;5;124m'\u001b[39m\u001b[38;5;124m10AGUS1_U02\u001b[39m\u001b[38;5;124m'\u001b[39m]\n",
      "\u001b[1;31mNameError\u001b[0m: name 'nan' is not defined"
     ]
    }
   ],
   "source": [
    "unique_resource_ids_list = ['13DCPP_U01', '11KEGMAR_G01', '07BDPP_U04', '03AVION_U01', '01CIP2_G01', '03MKBN_E', '01ANGAT_A', '10AGUS1_U01', '10GNPK_U04', '12KEGGIN_G01', '12PKSFRA_U01', '06PAL1A_G01', '09WMPC_U07', '08PDPP3_C', '07TPLPB4_U04', '01LIMAY_U06', '03RCBMI_G01', '03ORMAT_G01', '13SMCPC_U02', '01BINGA_U01', '03MKBN_A', '01ANGAT_M', '03MKBN_D', '01AMBUK_U02', '06PAL2A_U03', '03PAGBIL_G01', '03KAL_G04', '03STA-RI_G01', '11FDC_U01', '14PKPSOC_G01', '05TPVI_U01', '03INGRID_GS6', '07BDPP_U01', '03QPPL_G01', '13MAGDBNK_G01', '01MSINLO_G02', '09WMPC_U06', '01BAUANG_GS1', '01MAGAT_U01', '05EAUC_U02', '10AGUS4_U03', '04IASMOD_G03', '08STBPB1_U04', '01MSINLO_G03', '12TM2_U01', '01AMBUK_U01', '01SUAL_G02', '03SLPGC_G04', '08PPC_G02', '10AGUS4_U01', '01PNTBNG_U02', '03SNGAB_G01', '03PAGBIL_G03', '08PPC1_A', '01LIMAY_U05', '01LIMAY_U08', '01SNMAN_BAT', '09WMPC_U02', '10AGUS6_U05', '11STEAG_U02', '03CALACA_G02', '03ALMNOS_BAT', '06NASULO_G01', '09WMPC_U09', '11STEAG_U01', '01LIMAY_U02', '08PDPP3_G', '05CPPC_U02', '07TAPAL_PB4', '10AGUS4_U02', '02TMOBIL_G02', '11MNRGY_G02', '08STBPB1_U03', '05TPVI_U02', '03RCBMI_G02', '13DCPP_U02', '01MSINLO_BAT', '03MKBN_C', '02TMOBIL_G03', '01SMC_G02', '10AGUS5_U02', '03BACMAN_U01', '01SMC_G03', '12PKSFRA_G01', '10AGUS7_U01', '01LIMAY_U03', '05THVI_U02', '08PDPP3_G01', '09KEGJIM_G01', '05CPPC_U04', '04LGPP_G01', '14SARANG_U02', '03SBPL_G01', '03ALMNOS_BAT2', '01BINGA_U02', '03ILIJAN_G01', '05CPPC_G01', '11PULA4_U01', '07TPLPB4_U03', '05CPPC_U06', '05TPVI_U06', '01T_ASIA_G01', '04IASMOD_G05', '08PDPP_G01', '03STA-RI_G02', '14MTAPO_U02', '01LIMAY_U04', '01S_ENRO_G01', '03KAL_G02', '08PDPP1_U05', '09PANABNK_U02', '09WMPC_U10', '01MAGAT_U02', '03STA-RI_G05', '01SROQUE_U01', '03SLTEC_G02', '01SROQUE_U02', '09WMPC_U04', '03INGRID_GS1', '12NACSUR_G01', '11PULA4_U02', '03BACMAN_U02', '01SMC_G01', '08PDPP3_E', '05EAUC_U01', '14MTAPO_U01', '09WMPC_U08', '12TM2_U02', '03CALACA_G01', '01BAUANG_GS2', '01BAUANG_GS3', '09KEGPN_G01', '13TM1_U01', '05CEDC_U01', '05CEDC_U02', '10AGUS6_U03', '11NBPC_G01', '06SCBIOP_G01', '03SLPGC_G02', '02MILLEN_G01', '05CPPC_U01', '05TPC_G02', '01MAGAT_U04', '09WMPC_U01', '01MARVEL_G01', '05CPPC_U05', '03SLPGC_G01', '08PPC1_B', '13MATIBNK_G01', '01LAMAO_BAT', '11PULA4_U03', '03KAL_G03', '03BACMAN_U03', '05TPVI_U04', '10AGUS2_U01', '11FDC_U03', '01CASECN_G01', '07BDPP_U03', '06STNEGB_G01', '05CPPC_U08', '01LIMAY_BAT', '11FDC_U02', '05KSPC_G02', '07TPLPB4_U01', '10AGUS2_U03', '03INGRID_GS5', '14SUPKOR_G01', '13SMCPC_U01', '11PKBUK_G01', '10PPEI_U01', '09PANABNK_U01', '01LIMAY_U07', '08PEDC_U01', '08STBAR_PB', '10GNPK_U02', '03BOTOCA_G01', '03PAGBIL_G02', '08PEDC_U02', '06KABAN_BAT', '05EAUC_U03', '10AGUS6_U01', '05CEDC_U03', '13SMC_U01', '01SROQUE_U03', '07BDPP_U02', '10AGUS7_U02', '01HYPGRN_G01', '08STBPB1_U02', '08PDPP1_U03', '10GNPK_U03', '06NTNEGB_G01', '03STA-RI_G04', '06CENPRI_U02', '13MACO_BAT', '05EAUC_G01', '01ANDA_G01', '05TPVI_U05', '12KEGSUR_G01', '10AGUS6_U04', '04IASMOD_G04', '06CENPRI_U05', '03AVION_U02', '04LEYTE_A', '03KAL_G01', '03MGPP_G01', '11MINBAL_G01', '14MTAPO_U03', '08PEDC_U03', '01APEC_G01', '01BINGA_U03', '01PNTBNG_U01', '03TIWI_C', '05TPVI_U03', '01AMBUK_U03', '03STA-RI_G03', '14SARANG_U01', '09WMPC_U05', nan, '06CENPRI_U01', '01MASIWA_G01', '01GNPD_U01', '01SMC_G04', '03STA-RI_G06', '02TMOBIL_G04', '08PDPP3_H', '07BDPP_G01', '06CENPRI_U03', '05TOLEDO_BAT', '07TPLPB4_U02', '13TM1_U02', '05TPC_G01', '01BINGA_U04', '12PKSFRA_U02', '03ILIJAN_G02', '08GLOBAL_G01', '01PETRON_G01', '06PAL2A_U01', '03INGRID_GS3', '06CENPRI_U04', '05CPPC_U03', nan, '03MKBN_B', '03SLPGC_G03', '05THVI_U01', '10GNPK_U01', '04IASMOD_G01', '01MAGAT_U03', '01MSINLO_G01', '12KEGMIS_G01', '10MEGC_G01', '10AGUS2_U02', '05CPPC_U09', '05KSPC_G01', '10AGUS5_U01', '03INGRID_GS4', '10AGUS6_U02', '04IASMOD_G02', '03CALIRY_G01', '13SMC_U02', '08PALM_G01', '08STBPB1_U01', '08PDPP1_U02', '13MPCDIG_G01', '03ALMNOS_BAT1', '04IASMOD_G06', '01MARVEL_G02', '01GNPD_U02', '03INGRID_GS2', '05CPPC_U10', '01LIMAY_U01', '05EAUC_U04', '10IDPP_G01', '01SUAL_G01', '02TMOBIL_G01', '11MNRGY_G01', '03SLTEC_G01', '05CPPC_U07', '06PAL2A_U02', '09WMPC_U03', '11PACERM_G01', '12KEGTAN_G01', '03TIWI_A', '03MGI_G02', '10AGUS1_U02']"
   ]
  },
  {
   "cell_type": "code",
   "execution_count": null,
   "id": "88e13ba3-f4fa-426a-90a5-7e3bc7a3aa95",
   "metadata": {},
   "outputs": [],
   "source": []
  },
  {
   "cell_type": "markdown",
   "id": "d3af086d-cd77-4074-84fb-33ad2a785fe2",
   "metadata": {},
   "source": [
    "# [Old code, non-tqdm]"
   ]
  },
  {
   "cell_type": "code",
   "execution_count": 5,
   "id": "c8451789-190c-4723-a0f9-01d41ce0e805",
   "metadata": {
    "tags": []
   },
   "outputs": [],
   "source": [
    "# %%time\n",
    "# # Initialize an empty DataFrame to store the consolidated data\n",
    "# consolidated_df = pd.DataFrame()\n",
    "\n",
    "# # Loop through the overall folder, first year, and first month\n",
    "# for year_folder in os.listdir(base_folder):\n",
    "#     year_path = os.path.join(base_folder, year_folder)\n",
    "    \n",
    "#     if os.path.isdir(year_path):\n",
    "#         for month_folder in os.listdir(year_path):\n",
    "#             month_path = os.path.join(year_path, month_folder)\n",
    "            \n",
    "#             if os.path.isdir(month_path):\n",
    "#                 # Initialize an empty DataFrame for the current month\n",
    "#                 month_df = pd.DataFrame()\n",
    "\n",
    "#                 # Loop through hourly CSV files in the current month\n",
    "#                 for file_name in os.listdir(month_path):\n",
    "#                     if file_name.endswith('.csv'):\n",
    "#                         file_path = os.path.join(month_path, file_name)\n",
    "\n",
    "#                         # Read the CSV file\n",
    "#                         current_df = pd.read_csv(file_path)\n",
    "\n",
    "#                         # Filter rows with specific IDs\n",
    "#                         current_df = current_df[current_df['RESOURCE_NAME'].isin(target_ids)]\n",
    "\n",
    "#                         # Concatenate with the month DataFrame\n",
    "#                         month_df = pd.concat([month_df, current_df], ignore_index=True)\n",
    "\n",
    "#                 # Concatenate with the overall DataFrame\n",
    "#                 consolidated_df = pd.concat([consolidated_df, month_df], ignore_index=True)\n",
    "\n",
    "# # Display or further process the consolidated DataFrame\n",
    "# consolidated_df"
   ]
  }
 ],
 "metadata": {
  "kernelspec": {
   "display_name": "Python 3 (ipykernel)",
   "language": "python",
   "name": "python3"
  },
  "language_info": {
   "codemirror_mode": {
    "name": "ipython",
    "version": 3
   },
   "file_extension": ".py",
   "mimetype": "text/x-python",
   "name": "python",
   "nbconvert_exporter": "python",
   "pygments_lexer": "ipython3",
   "version": "3.11.5"
  },
  "widgets": {
   "application/vnd.jupyter.widget-state+json": {
    "state": {
     "00b0b73090a647459c3c6490dc529945": {
      "model_module": "@jupyter-widgets/base",
      "model_module_version": "2.0.0",
      "model_name": "LayoutModel",
      "state": {}
     },
     "00efcf829ed64f45b428d82d5997e67f": {
      "model_module": "@jupyter-widgets/controls",
      "model_module_version": "2.0.0",
      "model_name": "HTMLStyleModel",
      "state": {
       "description_width": "",
       "font_size": null,
       "text_color": null
      }
     },
     "00f6291f47654d85810a5b00c35349cf": {
      "model_module": "@jupyter-widgets/base",
      "model_module_version": "2.0.0",
      "model_name": "LayoutModel",
      "state": {
       "visibility": "hidden"
      }
     },
     "00f90959c2b54c8b8977a3d6fa14664d": {
      "model_module": "@jupyter-widgets/base",
      "model_module_version": "2.0.0",
      "model_name": "LayoutModel",
      "state": {}
     },
     "0146b251b1ab424998c8e192cf77855d": {
      "model_module": "@jupyter-widgets/controls",
      "model_module_version": "2.0.0",
      "model_name": "FloatProgressModel",
      "state": {
       "layout": "IPY_MODEL_50a88bbe032a4653bb254e9c618a5ce3",
       "max": 12,
       "style": "IPY_MODEL_5d47c8fb25bd41388a9af745ede93b46",
       "value": 12
      }
     },
     "016a99b21d3044098480996fee56bd1c": {
      "model_module": "@jupyter-widgets/base",
      "model_module_version": "2.0.0",
      "model_name": "LayoutModel",
      "state": {}
     },
     "0175e28935d64e10b06ae769969d0e23": {
      "model_module": "@jupyter-widgets/base",
      "model_module_version": "2.0.0",
      "model_name": "LayoutModel",
      "state": {}
     },
     "019a26c66f6640f89aa5a2b1eac96964": {
      "model_module": "@jupyter-widgets/controls",
      "model_module_version": "2.0.0",
      "model_name": "HTMLModel",
      "state": {
       "layout": "IPY_MODEL_69b5cceacd624c51aaea82cf7f435511",
       "style": "IPY_MODEL_c62d879eb86e4c869aa61b0ef364634e",
       "value": " 742/744 [00:05&lt;00:00, 132.65it/s]"
      }
     },
     "01f7be0e10734daaa215262a54da66d9": {
      "model_module": "@jupyter-widgets/controls",
      "model_module_version": "2.0.0",
      "model_name": "HTMLModel",
      "state": {
       "layout": "IPY_MODEL_5da88d20c0d145b19ccd99350a5585ea",
       "style": "IPY_MODEL_e972503928bf4a358341d82b5bba60a9",
       "value": " 732/744 [00:05&lt;00:00, 130.87it/s]"
      }
     },
     "022d972467d04b0eb832493704346500": {
      "model_module": "@jupyter-widgets/controls",
      "model_module_version": "2.0.0",
      "model_name": "HTMLModel",
      "state": {
       "layout": "IPY_MODEL_b4b99192bd3546af9556800587f623bf",
       "style": "IPY_MODEL_4a6661f8b9fa4dfa94449e1513811167",
       "value": "Processing CSVs:  99%"
      }
     },
     "02848862ab5e46fa9bec2fee268ca1f5": {
      "model_module": "@jupyter-widgets/controls",
      "model_module_version": "2.0.0",
      "model_name": "HTMLStyleModel",
      "state": {
       "description_width": "",
       "font_size": null,
       "text_color": null
      }
     },
     "0339cedb21c94cb48570551cbd413329": {
      "model_module": "@jupyter-widgets/controls",
      "model_module_version": "2.0.0",
      "model_name": "HTMLModel",
      "state": {
       "layout": "IPY_MODEL_4241388c514b41aaa2fbd755b430391b",
       "style": "IPY_MODEL_97cf3a8bc76d44e69b8eecf09844761c",
       "value": " 731/744 [00:05&lt;00:00, 125.31it/s]"
      }
     },
     "0356733359b94233b4b0c123c7352cd8": {
      "model_module": "@jupyter-widgets/base",
      "model_module_version": "2.0.0",
      "model_name": "LayoutModel",
      "state": {}
     },
     "038224ec09454d6ea116223bee5320ae": {
      "model_module": "@jupyter-widgets/base",
      "model_module_version": "2.0.0",
      "model_name": "LayoutModel",
      "state": {
       "visibility": "hidden"
      }
     },
     "03909e9972f9468a8911b5126f440842": {
      "model_module": "@jupyter-widgets/controls",
      "model_module_version": "2.0.0",
      "model_name": "HTMLModel",
      "state": {
       "layout": "IPY_MODEL_51ccdd26ed094c0880c340a803dd3b92",
       "style": "IPY_MODEL_8ac4f097a59a4c39a71648fc5c1bc1ff",
       "value": "Processing CSVs: 100%"
      }
     },
     "03a889273cdd4456a93ad9ab87a7e28c": {
      "model_module": "@jupyter-widgets/base",
      "model_module_version": "2.0.0",
      "model_name": "LayoutModel",
      "state": {}
     },
     "03f3d49318f74f8eb441f9afe651a82e": {
      "model_module": "@jupyter-widgets/controls",
      "model_module_version": "2.0.0",
      "model_name": "HTMLModel",
      "state": {
       "layout": "IPY_MODEL_1a6add947ba1484b9b9770a446cf357b",
       "style": "IPY_MODEL_9a0daa8347714c038f0bd0efb6b77921",
       "value": " 744/744 [00:05&lt;00:00, 135.11it/s]"
      }
     },
     "04a6bfe32b1442e8a52f0a17993ec432": {
      "model_module": "@jupyter-widgets/controls",
      "model_module_version": "2.0.0",
      "model_name": "HTMLStyleModel",
      "state": {
       "description_width": "",
       "font_size": null,
       "text_color": null
      }
     },
     "04c09e32bc6d4b7eab9164bb2307624d": {
      "model_module": "@jupyter-widgets/base",
      "model_module_version": "2.0.0",
      "model_name": "LayoutModel",
      "state": {
       "visibility": "hidden"
      }
     },
     "04df0d71065c48d6b2fb138a5e5e58aa": {
      "model_module": "@jupyter-widgets/base",
      "model_module_version": "2.0.0",
      "model_name": "LayoutModel",
      "state": {}
     },
     "052f455439fe462ab0de2de555cb9d82": {
      "model_module": "@jupyter-widgets/base",
      "model_module_version": "2.0.0",
      "model_name": "LayoutModel",
      "state": {
       "visibility": "hidden"
      }
     },
     "053a73aa14cb41e89e07721a85ac9ff7": {
      "model_module": "@jupyter-widgets/controls",
      "model_module_version": "2.0.0",
      "model_name": "HTMLModel",
      "state": {
       "layout": "IPY_MODEL_dfd7c1133df44541b59066748e628de8",
       "style": "IPY_MODEL_41b1831128e84c889ccdec8dc0d08397",
       "value": "Processing CSVs:  98%"
      }
     },
     "0594eea2e53b4dc7ba05bcdd42680858": {
      "model_module": "@jupyter-widgets/controls",
      "model_module_version": "2.0.0",
      "model_name": "HTMLModel",
      "state": {
       "layout": "IPY_MODEL_84bb8018f2354a2488b90b4ab72861de",
       "style": "IPY_MODEL_04a6bfe32b1442e8a52f0a17993ec432",
       "value": " 740/744 [00:05&lt;00:00, 140.12it/s]"
      }
     },
     "05a5d2b548504e9f84ba6fbb7753d1a9": {
      "model_module": "@jupyter-widgets/base",
      "model_module_version": "2.0.0",
      "model_name": "LayoutModel",
      "state": {}
     },
     "05a9ed72569d47678e7a3b5cc80a16aa": {
      "model_module": "@jupyter-widgets/base",
      "model_module_version": "2.0.0",
      "model_name": "LayoutModel",
      "state": {}
     },
     "05f064e9ae5a4d7a9a8216d898b1705a": {
      "model_module": "@jupyter-widgets/base",
      "model_module_version": "2.0.0",
      "model_name": "LayoutModel",
      "state": {}
     },
     "062ff2188d8c4517915beab6968f2712": {
      "model_module": "@jupyter-widgets/controls",
      "model_module_version": "2.0.0",
      "model_name": "HTMLStyleModel",
      "state": {
       "description_width": "",
       "font_size": null,
       "text_color": null
      }
     },
     "0637c91f0a2a481c8690be73b9d67064": {
      "model_module": "@jupyter-widgets/base",
      "model_module_version": "2.0.0",
      "model_name": "LayoutModel",
      "state": {}
     },
     "066eed14e4214c48bf15b1e5514adf23": {
      "model_module": "@jupyter-widgets/base",
      "model_module_version": "2.0.0",
      "model_name": "LayoutModel",
      "state": {}
     },
     "07110df923e14a5db04c204392b49d81": {
      "model_module": "@jupyter-widgets/base",
      "model_module_version": "2.0.0",
      "model_name": "LayoutModel",
      "state": {}
     },
     "074cc286a0344b80b76f7f2b264b88da": {
      "model_module": "@jupyter-widgets/base",
      "model_module_version": "2.0.0",
      "model_name": "LayoutModel",
      "state": {}
     },
     "074e1ad4d9d645029887f01c3afe5216": {
      "model_module": "@jupyter-widgets/controls",
      "model_module_version": "2.0.0",
      "model_name": "ProgressStyleModel",
      "state": {
       "description_width": ""
      }
     },
     "07554520e2534104b9f393aa16d55fcd": {
      "model_module": "@jupyter-widgets/controls",
      "model_module_version": "2.0.0",
      "model_name": "HTMLModel",
      "state": {
       "layout": "IPY_MODEL_db153c10d1fb42dcb38aa1fc7e926faf",
       "style": "IPY_MODEL_ac8b9d382ab9431aaeda2cdb1212dd80",
       "value": "Processing CSVs:  99%"
      }
     },
     "075b1984dbb44226b5459ce16f522022": {
      "model_module": "@jupyter-widgets/base",
      "model_module_version": "2.0.0",
      "model_name": "LayoutModel",
      "state": {}
     },
     "077bc34a950d40d8b72f389fdf2bb02d": {
      "model_module": "@jupyter-widgets/controls",
      "model_module_version": "2.0.0",
      "model_name": "HTMLStyleModel",
      "state": {
       "description_width": "",
       "font_size": null,
       "text_color": null
      }
     },
     "081b9204bf9a4040914c7f7cbfd41334": {
      "model_module": "@jupyter-widgets/base",
      "model_module_version": "2.0.0",
      "model_name": "LayoutModel",
      "state": {}
     },
     "0825c19fbe0948a1bb3cc5abcd7d3f53": {
      "model_module": "@jupyter-widgets/controls",
      "model_module_version": "2.0.0",
      "model_name": "HTMLModel",
      "state": {
       "layout": "IPY_MODEL_ec656417b1d24cf6841e32644b53c036",
       "style": "IPY_MODEL_6498ea7d008442c3a219d31aedf11094",
       "value": "Processing CSVs: 100%"
      }
     },
     "085401b8898e4d6381bd429a74753b31": {
      "model_module": "@jupyter-widgets/controls",
      "model_module_version": "2.0.0",
      "model_name": "HTMLStyleModel",
      "state": {
       "description_width": "",
       "font_size": null,
       "text_color": null
      }
     },
     "0862886575fa4c4cad46a7ae6dc64755": {
      "model_module": "@jupyter-widgets/controls",
      "model_module_version": "2.0.0",
      "model_name": "HTMLModel",
      "state": {
       "layout": "IPY_MODEL_e39f445c99a24e26a9a065abf9957287",
       "style": "IPY_MODEL_92a94c01c89544f2879dbc65eda3a715",
       "value": "Processing CSVs: 100%"
      }
     },
     "089ba33b2fc64e20a6d97409aa47e857": {
      "model_module": "@jupyter-widgets/base",
      "model_module_version": "2.0.0",
      "model_name": "LayoutModel",
      "state": {}
     },
     "08a329f195db409980349d4bd3d01fa8": {
      "model_module": "@jupyter-widgets/controls",
      "model_module_version": "2.0.0",
      "model_name": "HTMLStyleModel",
      "state": {
       "description_width": "",
       "font_size": null,
       "text_color": null
      }
     },
     "08d2a00516d04e58b4246c60cd9d7d10": {
      "model_module": "@jupyter-widgets/base",
      "model_module_version": "2.0.0",
      "model_name": "LayoutModel",
      "state": {}
     },
     "097429a50b6b426bbfec8e2ef77e8b3d": {
      "model_module": "@jupyter-widgets/controls",
      "model_module_version": "2.0.0",
      "model_name": "HTMLStyleModel",
      "state": {
       "description_width": "",
       "font_size": null,
       "text_color": null
      }
     },
     "09d68196b0514eeebfade35ffa131364": {
      "model_module": "@jupyter-widgets/base",
      "model_module_version": "2.0.0",
      "model_name": "LayoutModel",
      "state": {}
     },
     "09e57a78133c49e7874130054f756d50": {
      "model_module": "@jupyter-widgets/controls",
      "model_module_version": "2.0.0",
      "model_name": "HTMLStyleModel",
      "state": {
       "description_width": "",
       "font_size": null,
       "text_color": null
      }
     },
     "09f586caa79c49baa29eee58dd0ae05d": {
      "model_module": "@jupyter-widgets/controls",
      "model_module_version": "2.0.0",
      "model_name": "HTMLStyleModel",
      "state": {
       "description_width": "",
       "font_size": null,
       "text_color": null
      }
     },
     "0a09c8478af140bab1aac555068011c8": {
      "model_module": "@jupyter-widgets/base",
      "model_module_version": "2.0.0",
      "model_name": "LayoutModel",
      "state": {}
     },
     "0a8c557a1f8a4464a915092aa5e6ecb9": {
      "model_module": "@jupyter-widgets/base",
      "model_module_version": "2.0.0",
      "model_name": "LayoutModel",
      "state": {}
     },
     "0af1195241fc488d941fc3b75afeeba1": {
      "model_module": "@jupyter-widgets/controls",
      "model_module_version": "2.0.0",
      "model_name": "HTMLModel",
      "state": {
       "layout": "IPY_MODEL_05f064e9ae5a4d7a9a8216d898b1705a",
       "style": "IPY_MODEL_6dbda99df29d42769503cfef6d77f8a2",
       "value": " 9/9 [00:50&lt;00:00,  5.66s/it]"
      }
     },
     "0b6ec87bf57544b19b3179454b58c50d": {
      "model_module": "@jupyter-widgets/base",
      "model_module_version": "2.0.0",
      "model_name": "LayoutModel",
      "state": {}
     },
     "0b78198171bb4504bf21ab00debd9d57": {
      "model_module": "@jupyter-widgets/controls",
      "model_module_version": "2.0.0",
      "model_name": "FloatProgressModel",
      "state": {
       "layout": "IPY_MODEL_d11b8b9af5b54693b64260dcd236ff39",
       "max": 9,
       "style": "IPY_MODEL_80b54ecb98f340bd93281ef5fa4d25a5",
       "value": 9
      }
     },
     "0bd4fd73963044e69bf64dc6b8835370": {
      "model_module": "@jupyter-widgets/base",
      "model_module_version": "2.0.0",
      "model_name": "LayoutModel",
      "state": {}
     },
     "0bfd52960e8e48b09bf4e48c3ca76541": {
      "model_module": "@jupyter-widgets/base",
      "model_module_version": "2.0.0",
      "model_name": "LayoutModel",
      "state": {}
     },
     "0c150bb3f0714925a1b65eb0efc4fcce": {
      "model_module": "@jupyter-widgets/base",
      "model_module_version": "2.0.0",
      "model_name": "LayoutModel",
      "state": {}
     },
     "0c2b793d659c4bb683bda880421da8cd": {
      "model_module": "@jupyter-widgets/controls",
      "model_module_version": "2.0.0",
      "model_name": "ProgressStyleModel",
      "state": {
       "description_width": ""
      }
     },
     "0c35637f01114884ac4c7242c8d5adc4": {
      "model_module": "@jupyter-widgets/base",
      "model_module_version": "2.0.0",
      "model_name": "LayoutModel",
      "state": {}
     },
     "0c42856853004d1e90a17c55874b6e21": {
      "model_module": "@jupyter-widgets/controls",
      "model_module_version": "2.0.0",
      "model_name": "FloatProgressModel",
      "state": {
       "layout": "IPY_MODEL_b1021bc833914eedad64f42d41ed54e3",
       "max": 744,
       "style": "IPY_MODEL_aa18fa8bbdf54a3c9cfd7ad0b2ed98a2",
       "value": 744
      }
     },
     "0c61eba4d1574b0984775a3217c6ffa6": {
      "model_module": "@jupyter-widgets/base",
      "model_module_version": "2.0.0",
      "model_name": "LayoutModel",
      "state": {}
     },
     "0cc5ae7713344ecb81325ea8263af316": {
      "model_module": "@jupyter-widgets/controls",
      "model_module_version": "2.0.0",
      "model_name": "FloatProgressModel",
      "state": {
       "layout": "IPY_MODEL_ffbb2e0a475043e7adf44b806f716fbf",
       "max": 672,
       "style": "IPY_MODEL_635b00e885524151bd28fbc7666b134a",
       "value": 672
      }
     },
     "0ce0e73e429d489f99a5be65a5c4d4ca": {
      "model_module": "@jupyter-widgets/base",
      "model_module_version": "2.0.0",
      "model_name": "LayoutModel",
      "state": {}
     },
     "0ce8b5cdc4364531b30311bc1427079e": {
      "model_module": "@jupyter-widgets/controls",
      "model_module_version": "2.0.0",
      "model_name": "HTMLModel",
      "state": {
       "layout": "IPY_MODEL_6ee6fa840f514376a600b93ea3e93bfa",
       "style": "IPY_MODEL_44033244656b4eed8f5013da39f23664",
       "value": "Processing CSVs:  98%"
      }
     },
     "0d0076e9ce174931a096c80f82c3f886": {
      "model_module": "@jupyter-widgets/controls",
      "model_module_version": "2.0.0",
      "model_name": "HTMLStyleModel",
      "state": {
       "description_width": "",
       "font_size": null,
       "text_color": null
      }
     },
     "0d3fc3bd06ad44b3bddd84b09a217198": {
      "model_module": "@jupyter-widgets/controls",
      "model_module_version": "2.0.0",
      "model_name": "HTMLModel",
      "state": {
       "layout": "IPY_MODEL_8407eb66f8484e7a9c05a22fa206a592",
       "style": "IPY_MODEL_c1919c5790ad46d9a334da15e857af36",
       "value": " 733/744 [00:06&lt;00:00, 121.94it/s]"
      }
     },
     "0e4f8ece5af8486cae5a9de38c1b9892": {
      "model_module": "@jupyter-widgets/base",
      "model_module_version": "2.0.0",
      "model_name": "LayoutModel",
      "state": {
       "visibility": "hidden"
      }
     },
     "0e6b4e1f9a3f4bdaa2df5c92e57737cb": {
      "model_module": "@jupyter-widgets/controls",
      "model_module_version": "2.0.0",
      "model_name": "HTMLStyleModel",
      "state": {
       "description_width": "",
       "font_size": null,
       "text_color": null
      }
     },
     "0e8fcdf201cb492da35e26629bb3e0a0": {
      "model_module": "@jupyter-widgets/base",
      "model_module_version": "2.0.0",
      "model_name": "LayoutModel",
      "state": {}
     },
     "0f0a0c6313644b9b85363c69f4e0a68f": {
      "model_module": "@jupyter-widgets/controls",
      "model_module_version": "2.0.0",
      "model_name": "HTMLModel",
      "state": {
       "layout": "IPY_MODEL_d3de3e17245648678100c74e549281e8",
       "style": "IPY_MODEL_1c8d930553494660b7917264508cf2f4",
       "value": "Processing Months: 100%"
      }
     },
     "0f7684dbf499430094b84535fea501ca": {
      "model_module": "@jupyter-widgets/controls",
      "model_module_version": "2.0.0",
      "model_name": "ProgressStyleModel",
      "state": {
       "description_width": ""
      }
     },
     "0f7dd2df28d248adbc2d74082b55c56e": {
      "model_module": "@jupyter-widgets/base",
      "model_module_version": "2.0.0",
      "model_name": "LayoutModel",
      "state": {}
     },
     "0f9e1a567d4c4a94b68677cd44fbe9da": {
      "model_module": "@jupyter-widgets/controls",
      "model_module_version": "2.0.0",
      "model_name": "FloatProgressModel",
      "state": {
       "layout": "IPY_MODEL_cdf83f32dc604eb2916d6fea3408cd0e",
       "max": 720,
       "style": "IPY_MODEL_a9973c79408841e598cb24a0d5c39c6f",
       "value": 720
      }
     },
     "0fc17214957e403a8aec4be70707397c": {
      "model_module": "@jupyter-widgets/base",
      "model_module_version": "2.0.0",
      "model_name": "LayoutModel",
      "state": {}
     },
     "0fd5d34f49b34b4a9933f0e18ea62544": {
      "model_module": "@jupyter-widgets/base",
      "model_module_version": "2.0.0",
      "model_name": "LayoutModel",
      "state": {}
     },
     "0fddb47fc8584b6a963e7c8c5ba7c8c4": {
      "model_module": "@jupyter-widgets/controls",
      "model_module_version": "2.0.0",
      "model_name": "HTMLStyleModel",
      "state": {
       "description_width": "",
       "font_size": null,
       "text_color": null
      }
     },
     "0feb5881bb30484d93496d69d2e97c4c": {
      "model_module": "@jupyter-widgets/controls",
      "model_module_version": "2.0.0",
      "model_name": "FloatProgressModel",
      "state": {
       "layout": "IPY_MODEL_e0d2eba91dee4799920540cc66bbb5f6",
       "max": 744,
       "style": "IPY_MODEL_e1c732a563fe4d57926dec93e7afa820",
       "value": 744
      }
     },
     "0ff4abb6d8924a59a139de881b3b2f99": {
      "model_module": "@jupyter-widgets/base",
      "model_module_version": "2.0.0",
      "model_name": "LayoutModel",
      "state": {}
     },
     "0ff7fce4b3974cf1bf3c01358acba756": {
      "model_module": "@jupyter-widgets/base",
      "model_module_version": "2.0.0",
      "model_name": "LayoutModel",
      "state": {}
     },
     "0ff823b66860489790f4902d869d6b4b": {
      "model_module": "@jupyter-widgets/controls",
      "model_module_version": "2.0.0",
      "model_name": "HTMLStyleModel",
      "state": {
       "description_width": "",
       "font_size": null,
       "text_color": null
      }
     },
     "101064ba3345457d9053498e5565a3d9": {
      "model_module": "@jupyter-widgets/controls",
      "model_module_version": "2.0.0",
      "model_name": "HTMLStyleModel",
      "state": {
       "description_width": "",
       "font_size": null,
       "text_color": null
      }
     },
     "102f7ef309f44c119ecfd16b9c56835b": {
      "model_module": "@jupyter-widgets/controls",
      "model_module_version": "2.0.0",
      "model_name": "HTMLModel",
      "state": {
       "layout": "IPY_MODEL_0f7dd2df28d248adbc2d74082b55c56e",
       "style": "IPY_MODEL_9c2a14d5c0f24a618d37ddf3dceab8c0",
       "value": " 739/744 [00:11&lt;00:00, 59.32it/s]"
      }
     },
     "1033b18e24274a20ac1c6ef8f31b727c": {
      "model_module": "@jupyter-widgets/controls",
      "model_module_version": "2.0.0",
      "model_name": "HTMLStyleModel",
      "state": {
       "description_width": "",
       "font_size": null,
       "text_color": null
      }
     },
     "103484d4ace341ffab1206ec49cdea2b": {
      "model_module": "@jupyter-widgets/controls",
      "model_module_version": "2.0.0",
      "model_name": "FloatProgressModel",
      "state": {
       "layout": "IPY_MODEL_0ff7fce4b3974cf1bf3c01358acba756",
       "max": 720,
       "style": "IPY_MODEL_9cedd83aa5d24b31bc076415cc2b81d9",
       "value": 720
      }
     },
     "103ef3e96a7f4740b83167c17d97c239": {
      "model_module": "@jupyter-widgets/base",
      "model_module_version": "2.0.0",
      "model_name": "LayoutModel",
      "state": {
       "visibility": "hidden"
      }
     },
     "106052e8e87a4a249571bf996cd0c27d": {
      "model_module": "@jupyter-widgets/base",
      "model_module_version": "2.0.0",
      "model_name": "LayoutModel",
      "state": {}
     },
     "10a51568300e40979d414f4f7daf3de2": {
      "model_module": "@jupyter-widgets/base",
      "model_module_version": "2.0.0",
      "model_name": "LayoutModel",
      "state": {
       "visibility": "hidden"
      }
     },
     "10b353e9eb0f4fe4b4bedd84c687b762": {
      "model_module": "@jupyter-widgets/controls",
      "model_module_version": "2.0.0",
      "model_name": "FloatProgressModel",
      "state": {
       "layout": "IPY_MODEL_924a2cf193fa4775b87a613764c60062",
       "max": 720,
       "style": "IPY_MODEL_3b947ece3c8a4fd2abc90032477931c1",
       "value": 720
      }
     },
     "10eb07b7f8714970af1392a7ac27392f": {
      "model_module": "@jupyter-widgets/base",
      "model_module_version": "2.0.0",
      "model_name": "LayoutModel",
      "state": {}
     },
     "11128046fbf84f57a84088590418fab6": {
      "model_module": "@jupyter-widgets/controls",
      "model_module_version": "2.0.0",
      "model_name": "HTMLModel",
      "state": {
       "layout": "IPY_MODEL_388530478dba4b039fae96cb6b385989",
       "style": "IPY_MODEL_c308095f19f54a198724ac395ac373a3",
       "value": " 718/720 [00:11&lt;00:00, 59.98it/s]"
      }
     },
     "116ebddc06664b399a62bc2f55c6e9d3": {
      "model_module": "@jupyter-widgets/controls",
      "model_module_version": "2.0.0",
      "model_name": "HTMLModel",
      "state": {
       "layout": "IPY_MODEL_78affc903de94d5aba19d13ff4fb6c57",
       "style": "IPY_MODEL_a7b47e33795d4dd5bbcd46473778c88b",
       "value": "Processing Years: 100%"
      }
     },
     "117000e1a2d64a39a4be347c7d025a8c": {
      "model_module": "@jupyter-widgets/base",
      "model_module_version": "2.0.0",
      "model_name": "LayoutModel",
      "state": {}
     },
     "11b767a7f212453a943e92cbd9de125e": {
      "model_module": "@jupyter-widgets/base",
      "model_module_version": "2.0.0",
      "model_name": "LayoutModel",
      "state": {}
     },
     "11e20815ad494a1793e4034122e6f662": {
      "model_module": "@jupyter-widgets/base",
      "model_module_version": "2.0.0",
      "model_name": "LayoutModel",
      "state": {
       "visibility": "hidden"
      }
     },
     "11f14da379c241b089c53150c623471c": {
      "model_module": "@jupyter-widgets/base",
      "model_module_version": "2.0.0",
      "model_name": "LayoutModel",
      "state": {}
     },
     "122340d73d3a46d99bd6ff18a92e8bb0": {
      "model_module": "@jupyter-widgets/controls",
      "model_module_version": "2.0.0",
      "model_name": "FloatProgressModel",
      "state": {
       "layout": "IPY_MODEL_6cdfdad838fb4d689f9a66aba5aa24db",
       "max": 744,
       "style": "IPY_MODEL_3f32af9146414112bf505ec6774e70dc",
       "value": 744
      }
     },
     "1275fbc1fe4148c4b346a07683f70e46": {
      "model_module": "@jupyter-widgets/base",
      "model_module_version": "2.0.0",
      "model_name": "LayoutModel",
      "state": {
       "visibility": "hidden"
      }
     },
     "12777615aaac46fba978774e4eee6aec": {
      "model_module": "@jupyter-widgets/base",
      "model_module_version": "2.0.0",
      "model_name": "LayoutModel",
      "state": {}
     },
     "12a0a622acc64eb68c9b6a9ca65afe0c": {
      "model_module": "@jupyter-widgets/controls",
      "model_module_version": "2.0.0",
      "model_name": "HTMLStyleModel",
      "state": {
       "description_width": "",
       "font_size": null,
       "text_color": null
      }
     },
     "12c2235dc86444e5a7c7cfffe6626d85": {
      "model_module": "@jupyter-widgets/base",
      "model_module_version": "2.0.0",
      "model_name": "LayoutModel",
      "state": {}
     },
     "12cded1692934c9d8e7f7bede50227ac": {
      "model_module": "@jupyter-widgets/base",
      "model_module_version": "2.0.0",
      "model_name": "LayoutModel",
      "state": {
       "visibility": "hidden"
      }
     },
     "133370739d5b452685464ba8568342ba": {
      "model_module": "@jupyter-widgets/base",
      "model_module_version": "2.0.0",
      "model_name": "LayoutModel",
      "state": {
       "visibility": "hidden"
      }
     },
     "13b647a2920b44d487878a822746ce3c": {
      "model_module": "@jupyter-widgets/controls",
      "model_module_version": "2.0.0",
      "model_name": "HTMLStyleModel",
      "state": {
       "description_width": "",
       "font_size": null,
       "text_color": null
      }
     },
     "13ed9fd9eb3e4dd69b78a2768b1bfc4a": {
      "model_module": "@jupyter-widgets/controls",
      "model_module_version": "2.0.0",
      "model_name": "HTMLModel",
      "state": {
       "layout": "IPY_MODEL_83cc9110ef194694883cd35a3052091c",
       "style": "IPY_MODEL_206c79cd7c5447aba46edfb4f917bb64",
       "value": " 6/6 [00:36&lt;00:00,  6.14s/it]"
      }
     },
     "1467a038acfd4a908b63ce9235b8c459": {
      "model_module": "@jupyter-widgets/controls",
      "model_module_version": "2.0.0",
      "model_name": "HTMLStyleModel",
      "state": {
       "description_width": "",
       "font_size": null,
       "text_color": null
      }
     },
     "147e4cc2353a4f969db10c62b3ab9734": {
      "model_module": "@jupyter-widgets/controls",
      "model_module_version": "2.0.0",
      "model_name": "FloatProgressModel",
      "state": {
       "layout": "IPY_MODEL_910e47e7a6f34aa1b9c0f15422cfddb2",
       "max": 744,
       "style": "IPY_MODEL_345e9987a2584c728169963c5ce5de4b",
       "value": 744
      }
     },
     "14ae4cf346954563a21aa0e877f10f3a": {
      "model_module": "@jupyter-widgets/controls",
      "model_module_version": "2.0.0",
      "model_name": "HTMLStyleModel",
      "state": {
       "description_width": "",
       "font_size": null,
       "text_color": null
      }
     },
     "14c6cbe3aa174bf0b5ab2e8f81109f3b": {
      "model_module": "@jupyter-widgets/controls",
      "model_module_version": "2.0.0",
      "model_name": "HTMLModel",
      "state": {
       "layout": "IPY_MODEL_68f01952fff64c2f843a21d8be76c12a",
       "style": "IPY_MODEL_a00999122827474b9f00fc892ef388a8",
       "value": " 743/744 [00:11&lt;00:00, 64.78it/s]"
      }
     },
     "14ca1f3222c440579e56b80a3766b26e": {
      "model_module": "@jupyter-widgets/base",
      "model_module_version": "2.0.0",
      "model_name": "LayoutModel",
      "state": {}
     },
     "14d7122de80f4698a9642e98e4bf7e48": {
      "model_module": "@jupyter-widgets/controls",
      "model_module_version": "2.0.0",
      "model_name": "ProgressStyleModel",
      "state": {
       "description_width": ""
      }
     },
     "14f0dba9d98947c7b763b1237bb90642": {
      "model_module": "@jupyter-widgets/controls",
      "model_module_version": "2.0.0",
      "model_name": "HTMLStyleModel",
      "state": {
       "description_width": "",
       "font_size": null,
       "text_color": null
      }
     },
     "14f3083e003445ce98213640a70dbf22": {
      "model_module": "@jupyter-widgets/controls",
      "model_module_version": "2.0.0",
      "model_name": "HTMLModel",
      "state": {
       "layout": "IPY_MODEL_ce083ea03b2e4c55ad35afed8a444e8e",
       "style": "IPY_MODEL_d0c9116b046d42f59cd400c9c8b29d9c",
       "value": "Processing CSVs:  99%"
      }
     },
     "1507cf2bfb0f47b9a789f516d795c72b": {
      "model_module": "@jupyter-widgets/controls",
      "model_module_version": "2.0.0",
      "model_name": "HTMLModel",
      "state": {
       "layout": "IPY_MODEL_7ca3d655a8cf424ab88c40ec07cf0274",
       "style": "IPY_MODEL_74c047132c1d4a878e6299213bec46aa",
       "value": "Processing Months: 100%"
      }
     },
     "1520fa38e7ef4baeb1daf375ff15e21d": {
      "model_module": "@jupyter-widgets/base",
      "model_module_version": "2.0.0",
      "model_name": "LayoutModel",
      "state": {}
     },
     "15f72d4f544f484c8bb28465302c887a": {
      "model_module": "@jupyter-widgets/controls",
      "model_module_version": "2.0.0",
      "model_name": "HTMLModel",
      "state": {
       "layout": "IPY_MODEL_633c6086f8e746e3afdb32ab3a7530d8",
       "style": "IPY_MODEL_1467a038acfd4a908b63ce9235b8c459",
       "value": " 735/744 [00:05&lt;00:00, 137.01it/s]"
      }
     },
     "16699ee8d630410d8c6e69a41485e560": {
      "model_module": "@jupyter-widgets/controls",
      "model_module_version": "2.0.0",
      "model_name": "HTMLStyleModel",
      "state": {
       "description_width": "",
       "font_size": null,
       "text_color": null
      }
     },
     "16762d01275a4b1e89916cd5e0d60966": {
      "model_module": "@jupyter-widgets/base",
      "model_module_version": "2.0.0",
      "model_name": "LayoutModel",
      "state": {}
     },
     "1686117b28a14a358c43c7ed7bbe911a": {
      "model_module": "@jupyter-widgets/base",
      "model_module_version": "2.0.0",
      "model_name": "LayoutModel",
      "state": {}
     },
     "16a6105f95a2460c958f09f93f28c75c": {
      "model_module": "@jupyter-widgets/base",
      "model_module_version": "2.0.0",
      "model_name": "LayoutModel",
      "state": {}
     },
     "16b2d9406bf04627b0c4ea43dfd878db": {
      "model_module": "@jupyter-widgets/controls",
      "model_module_version": "2.0.0",
      "model_name": "HTMLStyleModel",
      "state": {
       "description_width": "",
       "font_size": null,
       "text_color": null
      }
     },
     "16e88859cde34c4481ee111b666058df": {
      "model_module": "@jupyter-widgets/controls",
      "model_module_version": "2.0.0",
      "model_name": "HTMLModel",
      "state": {
       "layout": "IPY_MODEL_d8d6ae85e52a40bd8ffcef316a444069",
       "style": "IPY_MODEL_08a329f195db409980349d4bd3d01fa8",
       "value": " 744/744 [00:11&lt;00:00, 63.54it/s]"
      }
     },
     "1719a95c89d448fb81b84bbf26eb09a2": {
      "model_module": "@jupyter-widgets/base",
      "model_module_version": "2.0.0",
      "model_name": "LayoutModel",
      "state": {}
     },
     "176f1ae006f44f8ca75560803277967c": {
      "model_module": "@jupyter-widgets/base",
      "model_module_version": "2.0.0",
      "model_name": "LayoutModel",
      "state": {}
     },
     "17937d01cb0847e49fefffbe6bd1692d": {
      "model_module": "@jupyter-widgets/controls",
      "model_module_version": "2.0.0",
      "model_name": "ProgressStyleModel",
      "state": {
       "description_width": ""
      }
     },
     "17b7e41184b64046983699e15749ab02": {
      "model_module": "@jupyter-widgets/controls",
      "model_module_version": "2.0.0",
      "model_name": "FloatProgressModel",
      "state": {
       "layout": "IPY_MODEL_b9ca698410c04809b79b5303bd99d4ff",
       "max": 744,
       "style": "IPY_MODEL_f06a4c2e97b14a0991e1fa0d1eb6ec96",
       "value": 744
      }
     },
     "17e9acc753364fe6a6ae8932687e5fc3": {
      "model_module": "@jupyter-widgets/base",
      "model_module_version": "2.0.0",
      "model_name": "LayoutModel",
      "state": {}
     },
     "18031e75ee99471087a0f2b956fa172b": {
      "model_module": "@jupyter-widgets/base",
      "model_module_version": "2.0.0",
      "model_name": "LayoutModel",
      "state": {}
     },
     "186e286d1e204883b8a745d158812bb4": {
      "model_module": "@jupyter-widgets/controls",
      "model_module_version": "2.0.0",
      "model_name": "HTMLModel",
      "state": {
       "layout": "IPY_MODEL_46bc87ee39804d2da2a57459b8610f6d",
       "style": "IPY_MODEL_c297efc0eb9746e3b5ccc26a0e078657",
       "value": " 715/720 [00:11&lt;00:00, 59.04it/s]"
      }
     },
     "18c583002a6a4f87ae1290b22576c6c5": {
      "model_module": "@jupyter-widgets/base",
      "model_module_version": "2.0.0",
      "model_name": "LayoutModel",
      "state": {}
     },
     "18fc04074f5f41448c03ba06749cf9f1": {
      "model_module": "@jupyter-widgets/base",
      "model_module_version": "2.0.0",
      "model_name": "LayoutModel",
      "state": {
       "visibility": "hidden"
      }
     },
     "1964ce498fe4448ea1fbecb819428ed7": {
      "model_module": "@jupyter-widgets/base",
      "model_module_version": "2.0.0",
      "model_name": "LayoutModel",
      "state": {}
     },
     "197ff6233ada41af908cee336596844c": {
      "model_module": "@jupyter-widgets/controls",
      "model_module_version": "2.0.0",
      "model_name": "HTMLStyleModel",
      "state": {
       "description_width": "",
       "font_size": null,
       "text_color": null
      }
     },
     "19ea7625cc654ab59d6edf46f9aaac46": {
      "model_module": "@jupyter-widgets/controls",
      "model_module_version": "2.0.0",
      "model_name": "HTMLModel",
      "state": {
       "layout": "IPY_MODEL_999232e6b8f64ea98f4ed58ad50c14e6",
       "style": "IPY_MODEL_a03848f929504f0093146db33c434658",
       "value": " 666/672 [00:04&lt;00:00, 133.95it/s]"
      }
     },
     "19f4498b4dd14dc5a63d1a2d67b4ce7d": {
      "model_module": "@jupyter-widgets/base",
      "model_module_version": "2.0.0",
      "model_name": "LayoutModel",
      "state": {
       "visibility": "hidden"
      }
     },
     "19fb41d879d74257b6ce62a61f006323": {
      "model_module": "@jupyter-widgets/base",
      "model_module_version": "2.0.0",
      "model_name": "LayoutModel",
      "state": {
       "visibility": "hidden"
      }
     },
     "1a0bc3b2ffb84173bfb50dd84ddc0f4a": {
      "model_module": "@jupyter-widgets/base",
      "model_module_version": "2.0.0",
      "model_name": "LayoutModel",
      "state": {}
     },
     "1a14dd151f0443e09b294a2b84396ef1": {
      "model_module": "@jupyter-widgets/controls",
      "model_module_version": "2.0.0",
      "model_name": "HTMLStyleModel",
      "state": {
       "description_width": "",
       "font_size": null,
       "text_color": null
      }
     },
     "1a3d9606a52f4eee9ba73827bc3ddec0": {
      "model_module": "@jupyter-widgets/base",
      "model_module_version": "2.0.0",
      "model_name": "LayoutModel",
      "state": {
       "visibility": "hidden"
      }
     },
     "1a6add947ba1484b9b9770a446cf357b": {
      "model_module": "@jupyter-widgets/base",
      "model_module_version": "2.0.0",
      "model_name": "LayoutModel",
      "state": {}
     },
     "1acc93ef1d314d98b5221d9ee358b6c9": {
      "model_module": "@jupyter-widgets/controls",
      "model_module_version": "2.0.0",
      "model_name": "FloatProgressModel",
      "state": {
       "layout": "IPY_MODEL_5cb2eefcce5e4f97bcc1d87364a42740",
       "max": 720,
       "style": "IPY_MODEL_a35a9bf58a35436482450d94d5bb141a",
       "value": 720
      }
     },
     "1af54a15a3aa4b7baaa2c36c3e5c3e50": {
      "model_module": "@jupyter-widgets/base",
      "model_module_version": "2.0.0",
      "model_name": "LayoutModel",
      "state": {}
     },
     "1b063261d4234235ba4760d886579eba": {
      "model_module": "@jupyter-widgets/controls",
      "model_module_version": "2.0.0",
      "model_name": "HTMLStyleModel",
      "state": {
       "description_width": "",
       "font_size": null,
       "text_color": null
      }
     },
     "1b62c260a0b14a93bca337d98bcff559": {
      "model_module": "@jupyter-widgets/base",
      "model_module_version": "2.0.0",
      "model_name": "LayoutModel",
      "state": {
       "visibility": "hidden"
      }
     },
     "1b786defb22a4546a0516a3bebffd0ea": {
      "model_module": "@jupyter-widgets/base",
      "model_module_version": "2.0.0",
      "model_name": "LayoutModel",
      "state": {
       "visibility": "hidden"
      }
     },
     "1b8732e533264a85abe1a574f9c147cd": {
      "model_module": "@jupyter-widgets/base",
      "model_module_version": "2.0.0",
      "model_name": "LayoutModel",
      "state": {}
     },
     "1bc7baa6b45e4ffca79c1f2966dbac96": {
      "model_module": "@jupyter-widgets/controls",
      "model_module_version": "2.0.0",
      "model_name": "FloatProgressModel",
      "state": {
       "layout": "IPY_MODEL_87cbca1e53fc496d8c64a9db6e657bdf",
       "max": 720,
       "style": "IPY_MODEL_23272a1149a54f98bf3f9c4ca2e2ff14",
       "value": 720
      }
     },
     "1bf4659a48fe40e0b53d8457d4675c9a": {
      "model_module": "@jupyter-widgets/base",
      "model_module_version": "2.0.0",
      "model_name": "LayoutModel",
      "state": {}
     },
     "1c045a9bd3eb4c0c811f73c32912df7b": {
      "model_module": "@jupyter-widgets/controls",
      "model_module_version": "2.0.0",
      "model_name": "HTMLStyleModel",
      "state": {
       "description_width": "",
       "font_size": null,
       "text_color": null
      }
     },
     "1c181c91d3784952a5231e8e43316074": {
      "model_module": "@jupyter-widgets/controls",
      "model_module_version": "2.0.0",
      "model_name": "HTMLStyleModel",
      "state": {
       "description_width": "",
       "font_size": null,
       "text_color": null
      }
     },
     "1c3cf016076146bb83bd2f05d42c78dc": {
      "model_module": "@jupyter-widgets/base",
      "model_module_version": "2.0.0",
      "model_name": "LayoutModel",
      "state": {
       "visibility": "hidden"
      }
     },
     "1c8d930553494660b7917264508cf2f4": {
      "model_module": "@jupyter-widgets/controls",
      "model_module_version": "2.0.0",
      "model_name": "HTMLStyleModel",
      "state": {
       "description_width": "",
       "font_size": null,
       "text_color": null
      }
     },
     "1cdf50230e7a494ab5faa6f598d83ef1": {
      "model_module": "@jupyter-widgets/controls",
      "model_module_version": "2.0.0",
      "model_name": "HTMLModel",
      "state": {
       "layout": "IPY_MODEL_55ca41818a0245c4853c929d3db18b6a",
       "style": "IPY_MODEL_51a299e34d94469bbda88996d711d771",
       "value": "Processing CSVs:  99%"
      }
     },
     "1cebd97a4f5544acab0e2d85727cbc55": {
      "model_module": "@jupyter-widgets/controls",
      "model_module_version": "2.0.0",
      "model_name": "FloatProgressModel",
      "state": {
       "layout": "IPY_MODEL_11b767a7f212453a943e92cbd9de125e",
       "max": 720,
       "style": "IPY_MODEL_6da87d2d49184c47a36e7a5c3b3986d4",
       "value": 720
      }
     },
     "1d11323f419f488ea883553fd7f7b1c9": {
      "model_module": "@jupyter-widgets/controls",
      "model_module_version": "2.0.0",
      "model_name": "FloatProgressModel",
      "state": {
       "layout": "IPY_MODEL_ac0d40b0b274433b9ab0936c596052ce",
       "max": 744,
       "style": "IPY_MODEL_60f313decce94fb2a4db5b55164ed092",
       "value": 744
      }
     },
     "1d23fb2126ef415987e136a8a8b999d7": {
      "model_module": "@jupyter-widgets/base",
      "model_module_version": "2.0.0",
      "model_name": "LayoutModel",
      "state": {}
     },
     "1d51a5eb85b44549af5bda96f3fb6e0c": {
      "model_module": "@jupyter-widgets/base",
      "model_module_version": "2.0.0",
      "model_name": "LayoutModel",
      "state": {}
     },
     "1d6bd6c397f04f23bd0e7e6073c341f3": {
      "model_module": "@jupyter-widgets/base",
      "model_module_version": "2.0.0",
      "model_name": "LayoutModel",
      "state": {
       "visibility": "hidden"
      }
     },
     "1d73792094f54fe39b5ec9af9c46caec": {
      "model_module": "@jupyter-widgets/controls",
      "model_module_version": "2.0.0",
      "model_name": "HTMLStyleModel",
      "state": {
       "description_width": "",
       "font_size": null,
       "text_color": null
      }
     },
     "1da75ab5fe8c45bc871197d68e802e00": {
      "model_module": "@jupyter-widgets/base",
      "model_module_version": "2.0.0",
      "model_name": "LayoutModel",
      "state": {
       "visibility": "hidden"
      }
     },
     "1dda4a19f2d64199870c3df8206caaac": {
      "model_module": "@jupyter-widgets/base",
      "model_module_version": "2.0.0",
      "model_name": "LayoutModel",
      "state": {
       "visibility": "hidden"
      }
     },
     "1de28496674c47c29a2e668eab597b40": {
      "model_module": "@jupyter-widgets/base",
      "model_module_version": "2.0.0",
      "model_name": "LayoutModel",
      "state": {}
     },
     "1de290cf9ccb4b5f9cb8d142f7e2caf9": {
      "model_module": "@jupyter-widgets/controls",
      "model_module_version": "2.0.0",
      "model_name": "HTMLStyleModel",
      "state": {
       "description_width": "",
       "font_size": null,
       "text_color": null
      }
     },
     "1e24bc2da916452f9f3d73977a2fbd30": {
      "model_module": "@jupyter-widgets/controls",
      "model_module_version": "2.0.0",
      "model_name": "HTMLStyleModel",
      "state": {
       "description_width": "",
       "font_size": null,
       "text_color": null
      }
     },
     "1e5505d1862f4f5e8a232e543aa9690e": {
      "model_module": "@jupyter-widgets/base",
      "model_module_version": "2.0.0",
      "model_name": "LayoutModel",
      "state": {}
     },
     "1e88df76f16c4bb49e2865772b8c92fd": {
      "model_module": "@jupyter-widgets/controls",
      "model_module_version": "2.0.0",
      "model_name": "HTMLModel",
      "state": {
       "layout": "IPY_MODEL_8536675198a24aca8d859e5e08f0be67",
       "style": "IPY_MODEL_992419da9a75408c810cfd6f1b1fa17e",
       "value": " 12/12 [02:21&lt;00:00, 12.04s/it]"
      }
     },
     "1e986a6f1936417eb5e6d1798e0419e9": {
      "model_module": "@jupyter-widgets/controls",
      "model_module_version": "2.0.0",
      "model_name": "HTMLModel",
      "state": {
       "layout": "IPY_MODEL_4441fe5a00874f96b895bb5ae9a28e2f",
       "style": "IPY_MODEL_eba44c8dd76d432d8638e21468d66cf6",
       "value": " 744/744 [00:12&lt;00:00, 55.16it/s]"
      }
     },
     "1e9cb23d9f794c6f911310cc7d76c913": {
      "model_module": "@jupyter-widgets/base",
      "model_module_version": "2.0.0",
      "model_name": "LayoutModel",
      "state": {}
     },
     "1ea1f9288e3b49d0a5a56e557b94e4c3": {
      "model_module": "@jupyter-widgets/controls",
      "model_module_version": "2.0.0",
      "model_name": "HTMLModel",
      "state": {
       "layout": "IPY_MODEL_acdaa9c5a57944ac839e781e01efe0e2",
       "style": "IPY_MODEL_8498fbce517d4f8888d1c8d0758c4794",
       "value": " 732/744 [00:05&lt;00:00, 143.10it/s]"
      }
     },
     "1efbb48ef99946e4b8e344f234dd7963": {
      "model_module": "@jupyter-widgets/base",
      "model_module_version": "2.0.0",
      "model_name": "LayoutModel",
      "state": {}
     },
     "1f05712f399344cab11d4aea2b8a2781": {
      "model_module": "@jupyter-widgets/base",
      "model_module_version": "2.0.0",
      "model_name": "LayoutModel",
      "state": {
       "visibility": "hidden"
      }
     },
     "1f0f5671cedf44ec8e841da55e3753b5": {
      "model_module": "@jupyter-widgets/base",
      "model_module_version": "2.0.0",
      "model_name": "LayoutModel",
      "state": {}
     },
     "1f11953ee7564ccaaf11232b2282fa4d": {
      "model_module": "@jupyter-widgets/base",
      "model_module_version": "2.0.0",
      "model_name": "LayoutModel",
      "state": {
       "visibility": "hidden"
      }
     },
     "1f2d580b31184d7bbb30f81377b92472": {
      "model_module": "@jupyter-widgets/controls",
      "model_module_version": "2.0.0",
      "model_name": "HTMLStyleModel",
      "state": {
       "description_width": "",
       "font_size": null,
       "text_color": null
      }
     },
     "1f63d3e2d6bd40d2a5fbf966a359a48b": {
      "model_module": "@jupyter-widgets/controls",
      "model_module_version": "2.0.0",
      "model_name": "HTMLStyleModel",
      "state": {
       "description_width": "",
       "font_size": null,
       "text_color": null
      }
     },
     "1f78a3a926304665b7dd45929c9314d2": {
      "model_module": "@jupyter-widgets/controls",
      "model_module_version": "2.0.0",
      "model_name": "HTMLStyleModel",
      "state": {
       "description_width": "",
       "font_size": null,
       "text_color": null
      }
     },
     "1f97e9cc739243608ef2d4a19a0072ac": {
      "model_module": "@jupyter-widgets/controls",
      "model_module_version": "2.0.0",
      "model_name": "HTMLModel",
      "state": {
       "layout": "IPY_MODEL_6b5f20ae4da845d4b46a8ad248d00839",
       "style": "IPY_MODEL_690246e87a754e28a8d8f7edafed6af5",
       "value": " 6/6 [00:32&lt;00:00,  5.61s/it]"
      }
     },
     "200e6f880f664acf8ded94d451ddb325": {
      "model_module": "@jupyter-widgets/controls",
      "model_module_version": "2.0.0",
      "model_name": "HTMLModel",
      "state": {
       "layout": "IPY_MODEL_53d8ed2ea0c24223965687d15c50be58",
       "style": "IPY_MODEL_39b990edb1bd43f0903b6d56879f3933",
       "value": "Processing CSVs: 100%"
      }
     },
     "20242f689f0c4c27bc28a56d049bd1d2": {
      "model_module": "@jupyter-widgets/controls",
      "model_module_version": "2.0.0",
      "model_name": "HTMLStyleModel",
      "state": {
       "description_width": "",
       "font_size": null,
       "text_color": null
      }
     },
     "20453f0c24504be4ba47a7006ae4e4e0": {
      "model_module": "@jupyter-widgets/controls",
      "model_module_version": "2.0.0",
      "model_name": "HTMLModel",
      "state": {
       "layout": "IPY_MODEL_ce7edc301d39485fb93e931d951afd0a",
       "style": "IPY_MODEL_1f63d3e2d6bd40d2a5fbf966a359a48b",
       "value": " 717/720 [00:05&lt;00:00, 127.17it/s]"
      }
     },
     "20596be7640d4d4485bf432c99f905ee": {
      "model_module": "@jupyter-widgets/base",
      "model_module_version": "2.0.0",
      "model_name": "LayoutModel",
      "state": {}
     },
     "206c79cd7c5447aba46edfb4f917bb64": {
      "model_module": "@jupyter-widgets/controls",
      "model_module_version": "2.0.0",
      "model_name": "HTMLStyleModel",
      "state": {
       "description_width": "",
       "font_size": null,
       "text_color": null
      }
     },
     "20998774ba8b479991fd259d7bdeb2eb": {
      "model_module": "@jupyter-widgets/controls",
      "model_module_version": "2.0.0",
      "model_name": "FloatProgressModel",
      "state": {
       "bar_style": "danger",
       "layout": "IPY_MODEL_4086c915ba3643a1a6b8c9d837803137",
       "max": 9,
       "style": "IPY_MODEL_5ef250efbc4c4d969fc468cd347e013c",
       "value": 3
      }
     },
     "20ca181c7f3c44aaa0df12a2df0d4a5a": {
      "model_module": "@jupyter-widgets/controls",
      "model_module_version": "2.0.0",
      "model_name": "HTMLModel",
      "state": {
       "layout": "IPY_MODEL_30dc540e94d549509e247b95e97f5483",
       "style": "IPY_MODEL_6c1d594c9dd3409087d3f38fc51f6974",
       "value": "Processing CSVs:  99%"
      }
     },
     "20d47328355344c19939f2b0bb065622": {
      "model_module": "@jupyter-widgets/base",
      "model_module_version": "2.0.0",
      "model_name": "LayoutModel",
      "state": {
       "visibility": "hidden"
      }
     },
     "2173de00b39b4423a6d511ab0bb5983d": {
      "model_module": "@jupyter-widgets/base",
      "model_module_version": "2.0.0",
      "model_name": "LayoutModel",
      "state": {}
     },
     "21908f603d0b4fa89cb70e50d808f676": {
      "model_module": "@jupyter-widgets/controls",
      "model_module_version": "2.0.0",
      "model_name": "HTMLModel",
      "state": {
       "layout": "IPY_MODEL_80e720e468094e41b6a1e3921c43093f",
       "style": "IPY_MODEL_4586a516212e4abfbd028e19b60dc290",
       "value": " 708/720 [00:05&lt;00:00, 119.62it/s]"
      }
     },
     "2191283aaea741b3af1091aa23d9747b": {
      "model_module": "@jupyter-widgets/controls",
      "model_module_version": "2.0.0",
      "model_name": "HTMLModel",
      "state": {
       "layout": "IPY_MODEL_7924df52aec542d6b21a5c7ba7b89949",
       "style": "IPY_MODEL_e6a9491faca84c5a99cf4bc8cc84673b",
       "value": " 3/3 [05:17&lt;00:00, 109.65s/it]"
      }
     },
     "21cba7912ed84bbcba58b9c546bb2583": {
      "model_module": "@jupyter-widgets/base",
      "model_module_version": "2.0.0",
      "model_name": "LayoutModel",
      "state": {
       "visibility": "hidden"
      }
     },
     "21fa2719fcdc4ea2a8a39547c02b6e0c": {
      "model_module": "@jupyter-widgets/base",
      "model_module_version": "2.0.0",
      "model_name": "LayoutModel",
      "state": {}
     },
     "2215960da0ab4e64b4f4172dbb45f20e": {
      "model_module": "@jupyter-widgets/base",
      "model_module_version": "2.0.0",
      "model_name": "LayoutModel",
      "state": {}
     },
     "223741e2cda9416e98c4c69fbedfa74a": {
      "model_module": "@jupyter-widgets/controls",
      "model_module_version": "2.0.0",
      "model_name": "ProgressStyleModel",
      "state": {
       "description_width": ""
      }
     },
     "22468be490dd49e99d757eb00ead04e1": {
      "model_module": "@jupyter-widgets/controls",
      "model_module_version": "2.0.0",
      "model_name": "HTMLStyleModel",
      "state": {
       "description_width": "",
       "font_size": null,
       "text_color": null
      }
     },
     "22b740a6e57f480187dabc140d295bc8": {
      "model_module": "@jupyter-widgets/controls",
      "model_module_version": "2.0.0",
      "model_name": "ProgressStyleModel",
      "state": {
       "description_width": ""
      }
     },
     "22d086a6471f4bc99cf2771a0a36530f": {
      "model_module": "@jupyter-widgets/controls",
      "model_module_version": "2.0.0",
      "model_name": "HTMLStyleModel",
      "state": {
       "description_width": "",
       "font_size": null,
       "text_color": null
      }
     },
     "22e7e6eda85c4ffeb14d120921749780": {
      "model_module": "@jupyter-widgets/controls",
      "model_module_version": "2.0.0",
      "model_name": "HTMLStyleModel",
      "state": {
       "description_width": "",
       "font_size": null,
       "text_color": null
      }
     },
     "22fe5cce3426496abf8b609829f0dc4a": {
      "model_module": "@jupyter-widgets/base",
      "model_module_version": "2.0.0",
      "model_name": "LayoutModel",
      "state": {}
     },
     "23272a1149a54f98bf3f9c4ca2e2ff14": {
      "model_module": "@jupyter-widgets/controls",
      "model_module_version": "2.0.0",
      "model_name": "ProgressStyleModel",
      "state": {
       "description_width": ""
      }
     },
     "2340c28e6a8b42dea8388f64ffaaec02": {
      "model_module": "@jupyter-widgets/controls",
      "model_module_version": "2.0.0",
      "model_name": "HTMLModel",
      "state": {
       "layout": "IPY_MODEL_ab128cb0b5d44d649659599df3c4a426",
       "style": "IPY_MODEL_72c299b9e20e4e0e858ce0a4a1d335c4",
       "value": "Processing CSVs:  99%"
      }
     },
     "23702b3b7bb140a69a5aa2317fb6c859": {
      "model_module": "@jupyter-widgets/base",
      "model_module_version": "2.0.0",
      "model_name": "LayoutModel",
      "state": {}
     },
     "23de6882694c4d0ba2333cf575c60820": {
      "model_module": "@jupyter-widgets/controls",
      "model_module_version": "2.0.0",
      "model_name": "FloatProgressModel",
      "state": {
       "layout": "IPY_MODEL_550fa65a55884394bca4448ae43ba07d",
       "max": 744,
       "style": "IPY_MODEL_9fcfba8c83794da686ae46d7c07a34c3",
       "value": 744
      }
     },
     "24156420fd6a4faabf84c2815d7efa9e": {
      "model_module": "@jupyter-widgets/base",
      "model_module_version": "2.0.0",
      "model_name": "LayoutModel",
      "state": {}
     },
     "247af8a55c1d4dcf81265325cc296876": {
      "model_module": "@jupyter-widgets/controls",
      "model_module_version": "2.0.0",
      "model_name": "HTMLModel",
      "state": {
       "layout": "IPY_MODEL_502b2b88cd1b48aba6a38648d6a1d581",
       "style": "IPY_MODEL_8f106cfe28e84d41a31ea5912c04d3d6",
       "value": " 709/720 [00:05&lt;00:00, 133.87it/s]"
      }
     },
     "24890f00867d4521ae572c1c379ecf9d": {
      "model_module": "@jupyter-widgets/controls",
      "model_module_version": "2.0.0",
      "model_name": "ProgressStyleModel",
      "state": {
       "description_width": ""
      }
     },
     "248a89eb00474340a58c17e1c21809aa": {
      "model_module": "@jupyter-widgets/controls",
      "model_module_version": "2.0.0",
      "model_name": "HTMLModel",
      "state": {
       "layout": "IPY_MODEL_96e43ed99ef24ad5b428bafdba0d0caf",
       "style": "IPY_MODEL_77b9ef63abae4d71b470b0482020926d",
       "value": " 732/744 [00:05&lt;00:00, 126.23it/s]"
      }
     },
     "24babf6ebd094a1d950fe31e1f4c5054": {
      "model_module": "@jupyter-widgets/base",
      "model_module_version": "2.0.0",
      "model_name": "LayoutModel",
      "state": {}
     },
     "2508015ca2994330b80405aa35a1c6f3": {
      "model_module": "@jupyter-widgets/base",
      "model_module_version": "2.0.0",
      "model_name": "LayoutModel",
      "state": {}
     },
     "252aef2593414cb9b20639c011407479": {
      "model_module": "@jupyter-widgets/base",
      "model_module_version": "2.0.0",
      "model_name": "LayoutModel",
      "state": {}
     },
     "253477016ca84612abcd2e08a40a0858": {
      "model_module": "@jupyter-widgets/controls",
      "model_module_version": "2.0.0",
      "model_name": "HTMLStyleModel",
      "state": {
       "description_width": "",
       "font_size": null,
       "text_color": null
      }
     },
     "254ad715ba53408f8d72f233c3c84aa5": {
      "model_module": "@jupyter-widgets/base",
      "model_module_version": "2.0.0",
      "model_name": "LayoutModel",
      "state": {
       "visibility": "hidden"
      }
     },
     "258167e385da4718b7fbc534eb50a623": {
      "model_module": "@jupyter-widgets/base",
      "model_module_version": "2.0.0",
      "model_name": "LayoutModel",
      "state": {}
     },
     "25baa17248d346009847233921d892a2": {
      "model_module": "@jupyter-widgets/controls",
      "model_module_version": "2.0.0",
      "model_name": "ProgressStyleModel",
      "state": {
       "description_width": ""
      }
     },
     "25d639e9c52f483fb997ddcf0e331deb": {
      "model_module": "@jupyter-widgets/controls",
      "model_module_version": "2.0.0",
      "model_name": "HTMLStyleModel",
      "state": {
       "description_width": "",
       "font_size": null,
       "text_color": null
      }
     },
     "2611f28db5134e7a8b29bd59336a793b": {
      "model_module": "@jupyter-widgets/controls",
      "model_module_version": "2.0.0",
      "model_name": "ProgressStyleModel",
      "state": {
       "description_width": ""
      }
     },
     "26202e74f7e4421085eb3bd249c83677": {
      "model_module": "@jupyter-widgets/base",
      "model_module_version": "2.0.0",
      "model_name": "LayoutModel",
      "state": {}
     },
     "263c3cb5138248c08efda1d097a874c4": {
      "model_module": "@jupyter-widgets/base",
      "model_module_version": "2.0.0",
      "model_name": "LayoutModel",
      "state": {
       "visibility": "hidden"
      }
     },
     "26747fbfa9dd4bffa06a2706ae7dde85": {
      "model_module": "@jupyter-widgets/base",
      "model_module_version": "2.0.0",
      "model_name": "LayoutModel",
      "state": {}
     },
     "2683fff363c949838345f93e83fb8ddd": {
      "model_module": "@jupyter-widgets/controls",
      "model_module_version": "2.0.0",
      "model_name": "HTMLStyleModel",
      "state": {
       "description_width": "",
       "font_size": null,
       "text_color": null
      }
     },
     "26ce2f71289943d3ab0c0d16e90ee6b4": {
      "model_module": "@jupyter-widgets/base",
      "model_module_version": "2.0.0",
      "model_name": "LayoutModel",
      "state": {}
     },
     "26e5882b88af46e4bab307bcb81bcac2": {
      "model_module": "@jupyter-widgets/controls",
      "model_module_version": "2.0.0",
      "model_name": "ProgressStyleModel",
      "state": {
       "description_width": ""
      }
     },
     "2727063787f2489bb0655e7f55946648": {
      "model_module": "@jupyter-widgets/base",
      "model_module_version": "2.0.0",
      "model_name": "LayoutModel",
      "state": {}
     },
     "27b9a8ec16704ebd949d54d2d8cd0e12": {
      "model_module": "@jupyter-widgets/base",
      "model_module_version": "2.0.0",
      "model_name": "LayoutModel",
      "state": {
       "visibility": "hidden"
      }
     },
     "27b9c44768fc404da06ec5a6dab5f923": {
      "model_module": "@jupyter-widgets/controls",
      "model_module_version": "2.0.0",
      "model_name": "HTMLModel",
      "state": {
       "layout": "IPY_MODEL_176f1ae006f44f8ca75560803277967c",
       "style": "IPY_MODEL_4d2d6104090946fcbe79b46047dde046",
       "value": " 712/720 [00:05&lt;00:00, 127.51it/s]"
      }
     },
     "27ba08726dd74b848c6ef92826675392": {
      "model_module": "@jupyter-widgets/controls",
      "model_module_version": "2.0.0",
      "model_name": "HTMLModel",
      "state": {
       "layout": "IPY_MODEL_99c5b4f49b7743f1a3d2ff32f98b7ad5",
       "style": "IPY_MODEL_0e6b4e1f9a3f4bdaa2df5c92e57737cb",
       "value": "Processing CSVs:  99%"
      }
     },
     "27f2e954c62c456c8776bd3251f73644": {
      "model_module": "@jupyter-widgets/controls",
      "model_module_version": "2.0.0",
      "model_name": "HTMLModel",
      "state": {
       "layout": "IPY_MODEL_03a889273cdd4456a93ad9ab87a7e28c",
       "style": "IPY_MODEL_d561f9667e1046b0bcce68b7d616256f",
       "value": " 712/720 [00:06&lt;00:00, 107.46it/s]"
      }
     },
     "27f4e25642da422daff45b229ea57518": {
      "model_module": "@jupyter-widgets/controls",
      "model_module_version": "2.0.0",
      "model_name": "HTMLStyleModel",
      "state": {
       "description_width": "",
       "font_size": null,
       "text_color": null
      }
     },
     "287e86e097104daea31793ced1b118ed": {
      "model_module": "@jupyter-widgets/controls",
      "model_module_version": "2.0.0",
      "model_name": "FloatProgressModel",
      "state": {
       "layout": "IPY_MODEL_24156420fd6a4faabf84c2815d7efa9e",
       "max": 672,
       "style": "IPY_MODEL_26e5882b88af46e4bab307bcb81bcac2",
       "value": 672
      }
     },
     "28d025f2066c4d27b5fe4b21d915601d": {
      "model_module": "@jupyter-widgets/controls",
      "model_module_version": "2.0.0",
      "model_name": "HTMLModel",
      "state": {
       "layout": "IPY_MODEL_a43a63bb1f52429b8889a3e41366986e",
       "style": "IPY_MODEL_94167073434649b28940db248ee1dc41",
       "value": "Processing CSVs:  99%"
      }
     },
     "292810da7cd04ef6aefac12e4d211afe": {
      "model_module": "@jupyter-widgets/controls",
      "model_module_version": "2.0.0",
      "model_name": "HTMLStyleModel",
      "state": {
       "description_width": "",
       "font_size": null,
       "text_color": null
      }
     },
     "293cc6e95ea54b0498c55fd89e0d373b": {
      "model_module": "@jupyter-widgets/base",
      "model_module_version": "2.0.0",
      "model_name": "LayoutModel",
      "state": {
       "visibility": "hidden"
      }
     },
     "2961b55e65904d31a56c488c56252da8": {
      "model_module": "@jupyter-widgets/controls",
      "model_module_version": "2.0.0",
      "model_name": "HTMLStyleModel",
      "state": {
       "description_width": "",
       "font_size": null,
       "text_color": null
      }
     },
     "29b8a3aaaa704acf8abb5ad816f058df": {
      "model_module": "@jupyter-widgets/base",
      "model_module_version": "2.0.0",
      "model_name": "LayoutModel",
      "state": {}
     },
     "2a10313812a747489fca2340c4fddab9": {
      "model_module": "@jupyter-widgets/base",
      "model_module_version": "2.0.0",
      "model_name": "LayoutModel",
      "state": {
       "visibility": "hidden"
      }
     },
     "2a5ef53f6f974277a31c6a97560527a0": {
      "model_module": "@jupyter-widgets/controls",
      "model_module_version": "2.0.0",
      "model_name": "FloatProgressModel",
      "state": {
       "layout": "IPY_MODEL_942befa876954883ad92565d95e4c252",
       "max": 744,
       "style": "IPY_MODEL_3800d228b87942fb928896d72536d8ed",
       "value": 744
      }
     },
     "2a66a0cb6699425285891f9467c2a102": {
      "model_module": "@jupyter-widgets/base",
      "model_module_version": "2.0.0",
      "model_name": "LayoutModel",
      "state": {}
     },
     "2a7962baf6004e8f8329d4a6b69f891f": {
      "model_module": "@jupyter-widgets/base",
      "model_module_version": "2.0.0",
      "model_name": "LayoutModel",
      "state": {
       "visibility": "hidden"
      }
     },
     "2aa90242c75e4d2fa64b22e3b32d53e7": {
      "model_module": "@jupyter-widgets/controls",
      "model_module_version": "2.0.0",
      "model_name": "HTMLModel",
      "state": {
       "layout": "IPY_MODEL_410a79358a754641a473109bc54d2240",
       "style": "IPY_MODEL_90a9124483864a708cca47952a17e525",
       "value": "Processing CSVs: 100%"
      }
     },
     "2ab5af287f7844f19466ad45a581d433": {
      "model_module": "@jupyter-widgets/controls",
      "model_module_version": "2.0.0",
      "model_name": "FloatProgressModel",
      "state": {
       "layout": "IPY_MODEL_9ea9327c41864f75b188d61a7efcf206",
       "max": 720,
       "style": "IPY_MODEL_f12e925a63ff4ce4b8bad03a58a2becc",
       "value": 720
      }
     },
     "2ac45b9212a745fdbfe12cdc1e74b484": {
      "model_module": "@jupyter-widgets/base",
      "model_module_version": "2.0.0",
      "model_name": "LayoutModel",
      "state": {}
     },
     "2acd53dc94044b08b5987594c65fd0f0": {
      "model_module": "@jupyter-widgets/controls",
      "model_module_version": "2.0.0",
      "model_name": "HTMLStyleModel",
      "state": {
       "description_width": "",
       "font_size": null,
       "text_color": null
      }
     },
     "2b211212d3c040bab10b805b73d16504": {
      "model_module": "@jupyter-widgets/base",
      "model_module_version": "2.0.0",
      "model_name": "LayoutModel",
      "state": {}
     },
     "2b3962397d714db1b3ca2fb4cc8b7fd0": {
      "model_module": "@jupyter-widgets/base",
      "model_module_version": "2.0.0",
      "model_name": "LayoutModel",
      "state": {}
     },
     "2b43cc4aaf5d40f0998d50e7f85baaa7": {
      "model_module": "@jupyter-widgets/controls",
      "model_module_version": "2.0.0",
      "model_name": "HTMLStyleModel",
      "state": {
       "description_width": "",
       "font_size": null,
       "text_color": null
      }
     },
     "2b5c7063363d4162ababd96206d1576a": {
      "model_module": "@jupyter-widgets/controls",
      "model_module_version": "2.0.0",
      "model_name": "HTMLModel",
      "state": {
       "layout": "IPY_MODEL_f113a09411d0453cb9d599d580c00599",
       "style": "IPY_MODEL_7140fb34c33f477ab443ad516809f46b",
       "value": "Processing CSVs:  99%"
      }
     },
     "2b9592953f0543b1acf98efa84c4e8a3": {
      "model_module": "@jupyter-widgets/controls",
      "model_module_version": "2.0.0",
      "model_name": "ProgressStyleModel",
      "state": {
       "description_width": ""
      }
     },
     "2b9ea0adb2e14cd3af0168aad0adb3f7": {
      "model_module": "@jupyter-widgets/controls",
      "model_module_version": "2.0.0",
      "model_name": "HTMLModel",
      "state": {
       "layout": "IPY_MODEL_b8b70faecba048b68a2a998224e80cbf",
       "style": "IPY_MODEL_cca077f9c409461a985f2dffa1e96c29",
       "value": "Processing CSVs:  98%"
      }
     },
     "2bc84cd430d04701b3dbdb4fd107cf98": {
      "model_module": "@jupyter-widgets/controls",
      "model_module_version": "2.0.0",
      "model_name": "HTMLStyleModel",
      "state": {
       "description_width": "",
       "font_size": null,
       "text_color": null
      }
     },
     "2bf4a2fd2ac647008e15f19a4da8d652": {
      "model_module": "@jupyter-widgets/base",
      "model_module_version": "2.0.0",
      "model_name": "LayoutModel",
      "state": {}
     },
     "2c0787a465fb418ba3dd5a50c0b7997d": {
      "model_module": "@jupyter-widgets/base",
      "model_module_version": "2.0.0",
      "model_name": "LayoutModel",
      "state": {}
     },
     "2c273f6d73494703b1d98c72b15d71e7": {
      "model_module": "@jupyter-widgets/controls",
      "model_module_version": "2.0.0",
      "model_name": "HTMLStyleModel",
      "state": {
       "description_width": "",
       "font_size": null,
       "text_color": null
      }
     },
     "2c43517d89964f579b1d2fbf2d186d77": {
      "model_module": "@jupyter-widgets/controls",
      "model_module_version": "2.0.0",
      "model_name": "ProgressStyleModel",
      "state": {
       "description_width": ""
      }
     },
     "2c6886217e4e46f5a9ba9907c8689f09": {
      "model_module": "@jupyter-widgets/controls",
      "model_module_version": "2.0.0",
      "model_name": "HTMLStyleModel",
      "state": {
       "description_width": "",
       "font_size": null,
       "text_color": null
      }
     },
     "2d1a431a83c8495d968eb3dc34b67cf2": {
      "model_module": "@jupyter-widgets/controls",
      "model_module_version": "2.0.0",
      "model_name": "HTMLStyleModel",
      "state": {
       "description_width": "",
       "font_size": null,
       "text_color": null
      }
     },
     "2d2144829f5544b39e813fd2fab5e670": {
      "model_module": "@jupyter-widgets/base",
      "model_module_version": "2.0.0",
      "model_name": "LayoutModel",
      "state": {}
     },
     "2d3b7b88323b4462ad8f6e668f46d683": {
      "model_module": "@jupyter-widgets/controls",
      "model_module_version": "2.0.0",
      "model_name": "HTMLModel",
      "state": {
       "layout": "IPY_MODEL_73b0d194f74740b987fe0c10edf8ea9a",
       "style": "IPY_MODEL_5e55dfd47e9c4f29a8672c865f6cc595",
       "value": " 714/720 [00:11&lt;00:00, 61.14it/s]"
      }
     },
     "2d3bf7b3a8624d15b733a863c8d5cb20": {
      "model_module": "@jupyter-widgets/controls",
      "model_module_version": "2.0.0",
      "model_name": "FloatProgressModel",
      "state": {
       "layout": "IPY_MODEL_66f3527d7955431085e7c188c97bd019",
       "max": 720,
       "style": "IPY_MODEL_e495d4fc9c5a4357b03fe090c38e97ce",
       "value": 720
      }
     },
     "2d3f92d02c494a3f8d8134ec834ac4a6": {
      "model_module": "@jupyter-widgets/controls",
      "model_module_version": "2.0.0",
      "model_name": "FloatProgressModel",
      "state": {
       "layout": "IPY_MODEL_36a00b255353467a8dabd5bb44cb990b",
       "max": 744,
       "style": "IPY_MODEL_f2656919abe341c4aec5209480e41986",
       "value": 744
      }
     },
     "2d6db15672a145bab0153edf3265ce54": {
      "model_module": "@jupyter-widgets/controls",
      "model_module_version": "2.0.0",
      "model_name": "FloatProgressModel",
      "state": {
       "layout": "IPY_MODEL_809dec791a2440549370b670011f5198",
       "max": 744,
       "style": "IPY_MODEL_223741e2cda9416e98c4c69fbedfa74a",
       "value": 744
      }
     },
     "2da5f245255c422890a2180cb0d6b23d": {
      "model_module": "@jupyter-widgets/base",
      "model_module_version": "2.0.0",
      "model_name": "LayoutModel",
      "state": {
       "visibility": "hidden"
      }
     },
     "2db212c15383422eb52657d44dab62c5": {
      "model_module": "@jupyter-widgets/base",
      "model_module_version": "2.0.0",
      "model_name": "LayoutModel",
      "state": {}
     },
     "2dca4b146b164deb987c7b7f483fa42f": {
      "model_module": "@jupyter-widgets/controls",
      "model_module_version": "2.0.0",
      "model_name": "HTMLStyleModel",
      "state": {
       "description_width": "",
       "font_size": null,
       "text_color": null
      }
     },
     "2ea8e9d09c974d3abd348b0c5c483434": {
      "model_module": "@jupyter-widgets/base",
      "model_module_version": "2.0.0",
      "model_name": "LayoutModel",
      "state": {
       "visibility": "hidden"
      }
     },
     "2f3c3ae5fca041e5a053532d1f4dbf49": {
      "model_module": "@jupyter-widgets/base",
      "model_module_version": "2.0.0",
      "model_name": "LayoutModel",
      "state": {}
     },
     "2f3e33852b074c14be1e9d6812325ef0": {
      "model_module": "@jupyter-widgets/controls",
      "model_module_version": "2.0.0",
      "model_name": "ProgressStyleModel",
      "state": {
       "description_width": ""
      }
     },
     "2ff09b91e0c242d7aa829ef8c17898a8": {
      "model_module": "@jupyter-widgets/controls",
      "model_module_version": "2.0.0",
      "model_name": "HTMLModel",
      "state": {
       "layout": "IPY_MODEL_3e19af22d31a445f9a80c7a2d80290c6",
       "style": "IPY_MODEL_37ca738785dc40a085fb255fe373c04f",
       "value": "Processing CSVs:  99%"
      }
     },
     "2ffdc3b01135404f99c5aee19e82bf05": {
      "model_module": "@jupyter-widgets/controls",
      "model_module_version": "2.0.0",
      "model_name": "HTMLStyleModel",
      "state": {
       "description_width": "",
       "font_size": null,
       "text_color": null
      }
     },
     "300dba8d345a452b91ccae65de11525a": {
      "model_module": "@jupyter-widgets/base",
      "model_module_version": "2.0.0",
      "model_name": "LayoutModel",
      "state": {}
     },
     "304fc9d06012463cbc5e3eee350c8dc4": {
      "model_module": "@jupyter-widgets/controls",
      "model_module_version": "2.0.0",
      "model_name": "ProgressStyleModel",
      "state": {
       "description_width": ""
      }
     },
     "3057fff4dc004030bdabbb47b77ef941": {
      "model_module": "@jupyter-widgets/controls",
      "model_module_version": "2.0.0",
      "model_name": "HTMLStyleModel",
      "state": {
       "description_width": "",
       "font_size": null,
       "text_color": null
      }
     },
     "30620ddd8a5941e6a2a734c22d13eea6": {
      "model_module": "@jupyter-widgets/controls",
      "model_module_version": "2.0.0",
      "model_name": "ProgressStyleModel",
      "state": {
       "description_width": ""
      }
     },
     "30aa70ca94884b16bdfa5281f5619dee": {
      "model_module": "@jupyter-widgets/controls",
      "model_module_version": "2.0.0",
      "model_name": "HTMLModel",
      "state": {
       "layout": "IPY_MODEL_47e0b3a5e77c45f19f7e9f7d8ed26842",
       "style": "IPY_MODEL_a194a392ae014b65ba5fb53e61356eec",
       "value": "Processing CSVs: 100%"
      }
     },
     "30dc540e94d549509e247b95e97f5483": {
      "model_module": "@jupyter-widgets/base",
      "model_module_version": "2.0.0",
      "model_name": "LayoutModel",
      "state": {}
     },
     "315ae9245f9d4c948e04f4cddec3507a": {
      "model_module": "@jupyter-widgets/base",
      "model_module_version": "2.0.0",
      "model_name": "LayoutModel",
      "state": {
       "visibility": "hidden"
      }
     },
     "317cc612550f48ebbe0ba9d5975c4104": {
      "model_module": "@jupyter-widgets/controls",
      "model_module_version": "2.0.0",
      "model_name": "HTMLStyleModel",
      "state": {
       "description_width": "",
       "font_size": null,
       "text_color": null
      }
     },
     "318cc0e9acbd4cc59b3576c46b78df28": {
      "model_module": "@jupyter-widgets/base",
      "model_module_version": "2.0.0",
      "model_name": "LayoutModel",
      "state": {}
     },
     "31cbde9740ee48eea7de79e85ac479c7": {
      "model_module": "@jupyter-widgets/controls",
      "model_module_version": "2.0.0",
      "model_name": "HTMLModel",
      "state": {
       "layout": "IPY_MODEL_0ff4abb6d8924a59a139de881b3b2f99",
       "style": "IPY_MODEL_25d639e9c52f483fb997ddcf0e331deb",
       "value": "Processing CSVs: 100%"
      }
     },
     "31cf6c4f95c147cdbb20a97c02514f34": {
      "model_module": "@jupyter-widgets/base",
      "model_module_version": "2.0.0",
      "model_name": "LayoutModel",
      "state": {}
     },
     "32868c5575d94e1cbb397c94db75e884": {
      "model_module": "@jupyter-widgets/base",
      "model_module_version": "2.0.0",
      "model_name": "LayoutModel",
      "state": {}
     },
     "32ab9b85ed814633a61f350e29b1808f": {
      "model_module": "@jupyter-widgets/controls",
      "model_module_version": "2.0.0",
      "model_name": "HTMLModel",
      "state": {
       "layout": "IPY_MODEL_8a175bb2b6924870b726130bdce8f1d1",
       "style": "IPY_MODEL_16699ee8d630410d8c6e69a41485e560",
       "value": "Processing CSVs:  99%"
      }
     },
     "33141dea9b214afdb0a87a5897b6a2e1": {
      "model_module": "@jupyter-widgets/controls",
      "model_module_version": "2.0.0",
      "model_name": "HTMLStyleModel",
      "state": {
       "description_width": "",
       "font_size": null,
       "text_color": null
      }
     },
     "3354e9f8ef7b49c6be720db87ffc4b66": {
      "model_module": "@jupyter-widgets/controls",
      "model_module_version": "2.0.0",
      "model_name": "FloatProgressModel",
      "state": {
       "layout": "IPY_MODEL_c16276ad27724458be992f3c153d9b69",
       "max": 720,
       "style": "IPY_MODEL_4645e256d5ad4012a7df96c46011bed2",
       "value": 720
      }
     },
     "33630c1d7c894921a0e3578fa282aef3": {
      "model_module": "@jupyter-widgets/base",
      "model_module_version": "2.0.0",
      "model_name": "LayoutModel",
      "state": {}
     },
     "3371c5e0e9084a34914324cf1b1c483f": {
      "model_module": "@jupyter-widgets/controls",
      "model_module_version": "2.0.0",
      "model_name": "HTMLStyleModel",
      "state": {
       "description_width": "",
       "font_size": null,
       "text_color": null
      }
     },
     "337258ff7ddf4fcbb053574c2e20d7b7": {
      "model_module": "@jupyter-widgets/base",
      "model_module_version": "2.0.0",
      "model_name": "LayoutModel",
      "state": {}
     },
     "338f0c3e2b1f4546a0a2ebb299d3ba11": {
      "model_module": "@jupyter-widgets/controls",
      "model_module_version": "2.0.0",
      "model_name": "HTMLStyleModel",
      "state": {
       "description_width": "",
       "font_size": null,
       "text_color": null
      }
     },
     "33ae2eccfd3f45f0a8642c1c4a3991f7": {
      "model_module": "@jupyter-widgets/base",
      "model_module_version": "2.0.0",
      "model_name": "LayoutModel",
      "state": {}
     },
     "33fd71e95b544cd6898b3c99e2ebe9d6": {
      "model_module": "@jupyter-widgets/base",
      "model_module_version": "2.0.0",
      "model_name": "LayoutModel",
      "state": {}
     },
     "3437f120b7b648f5b1bd982a97d54763": {
      "model_module": "@jupyter-widgets/controls",
      "model_module_version": "2.0.0",
      "model_name": "HTMLStyleModel",
      "state": {
       "description_width": "",
       "font_size": null,
       "text_color": null
      }
     },
     "34564540a4dd4aa19719ba7d8c4d574a": {
      "model_module": "@jupyter-widgets/controls",
      "model_module_version": "2.0.0",
      "model_name": "HTMLStyleModel",
      "state": {
       "description_width": "",
       "font_size": null,
       "text_color": null
      }
     },
     "345e9987a2584c728169963c5ce5de4b": {
      "model_module": "@jupyter-widgets/controls",
      "model_module_version": "2.0.0",
      "model_name": "ProgressStyleModel",
      "state": {
       "description_width": ""
      }
     },
     "34ad85b523f24e9d97e9a947e61a9a77": {
      "model_module": "@jupyter-widgets/base",
      "model_module_version": "2.0.0",
      "model_name": "LayoutModel",
      "state": {
       "visibility": "hidden"
      }
     },
     "34d84a4f724d4f479e281905e60da19f": {
      "model_module": "@jupyter-widgets/base",
      "model_module_version": "2.0.0",
      "model_name": "LayoutModel",
      "state": {}
     },
     "34f70132fe884ff88c8a3512ceaf308c": {
      "model_module": "@jupyter-widgets/controls",
      "model_module_version": "2.0.0",
      "model_name": "HTMLStyleModel",
      "state": {
       "description_width": "",
       "font_size": null,
       "text_color": null
      }
     },
     "35117ac9d1c942b9a40fd82297c29df0": {
      "model_module": "@jupyter-widgets/base",
      "model_module_version": "2.0.0",
      "model_name": "LayoutModel",
      "state": {
       "visibility": "hidden"
      }
     },
     "35e34e76fc4e484681819d0fe10774e8": {
      "model_module": "@jupyter-widgets/base",
      "model_module_version": "2.0.0",
      "model_name": "LayoutModel",
      "state": {
       "visibility": "hidden"
      }
     },
     "35ffc54accfc481d8dafdc46be63fd32": {
      "model_module": "@jupyter-widgets/base",
      "model_module_version": "2.0.0",
      "model_name": "LayoutModel",
      "state": {}
     },
     "3612b8ea370b4fc4a84ce0333359c63e": {
      "model_module": "@jupyter-widgets/controls",
      "model_module_version": "2.0.0",
      "model_name": "HTMLStyleModel",
      "state": {
       "description_width": "",
       "font_size": null,
       "text_color": null
      }
     },
     "3660d8561f5d4714862c16d02a978332": {
      "model_module": "@jupyter-widgets/controls",
      "model_module_version": "2.0.0",
      "model_name": "HTMLStyleModel",
      "state": {
       "description_width": "",
       "font_size": null,
       "text_color": null
      }
     },
     "36786d27e1044f39a633ffc5f9830a03": {
      "model_module": "@jupyter-widgets/controls",
      "model_module_version": "2.0.0",
      "model_name": "HTMLStyleModel",
      "state": {
       "description_width": "",
       "font_size": null,
       "text_color": null
      }
     },
     "36a00b255353467a8dabd5bb44cb990b": {
      "model_module": "@jupyter-widgets/base",
      "model_module_version": "2.0.0",
      "model_name": "LayoutModel",
      "state": {}
     },
     "36e6a06dbd6643f282cdb61def4a0104": {
      "model_module": "@jupyter-widgets/controls",
      "model_module_version": "2.0.0",
      "model_name": "HTMLModel",
      "state": {
       "layout": "IPY_MODEL_300dba8d345a452b91ccae65de11525a",
       "style": "IPY_MODEL_5404b21c1db24189a4f66680a47615d2",
       "value": " 743/744 [00:05&lt;00:00, 134.58it/s]"
      }
     },
     "3730695d3d7f4ccdac39ca0563016a6a": {
      "model_module": "@jupyter-widgets/controls",
      "model_module_version": "2.0.0",
      "model_name": "HTMLStyleModel",
      "state": {
       "description_width": "",
       "font_size": null,
       "text_color": null
      }
     },
     "37401a706204453db35eaa349caddf3e": {
      "model_module": "@jupyter-widgets/base",
      "model_module_version": "2.0.0",
      "model_name": "LayoutModel",
      "state": {
       "visibility": "hidden"
      }
     },
     "374f472ba3434268bf2f3ff0a24aa448": {
      "model_module": "@jupyter-widgets/base",
      "model_module_version": "2.0.0",
      "model_name": "LayoutModel",
      "state": {}
     },
     "3750dc989f11429897a4c68e25d800a2": {
      "model_module": "@jupyter-widgets/controls",
      "model_module_version": "2.0.0",
      "model_name": "FloatProgressModel",
      "state": {
       "layout": "IPY_MODEL_33630c1d7c894921a0e3578fa282aef3",
       "max": 744,
       "style": "IPY_MODEL_f819f55c4d7a412ca13dc66083d7a15a",
       "value": 744
      }
     },
     "3754303eb75d4a818fdf26c2d5b3523b": {
      "model_module": "@jupyter-widgets/controls",
      "model_module_version": "2.0.0",
      "model_name": "FloatProgressModel",
      "state": {
       "layout": "IPY_MODEL_9bdfae8ebac941079b9f41dfdf6a28af",
       "max": 720,
       "style": "IPY_MODEL_52ef5508fcd84dbc972d392b2203f421",
       "value": 720
      }
     },
     "37552475c54a46b29dc95a2aeb8a50c2": {
      "model_module": "@jupyter-widgets/base",
      "model_module_version": "2.0.0",
      "model_name": "LayoutModel",
      "state": {}
     },
     "3783ec0c54d349c7bb282dd1404a777e": {
      "model_module": "@jupyter-widgets/controls",
      "model_module_version": "2.0.0",
      "model_name": "HTMLStyleModel",
      "state": {
       "description_width": "",
       "font_size": null,
       "text_color": null
      }
     },
     "37b1ff6dd5ac40c0bda3c8a6c4c81ad1": {
      "model_module": "@jupyter-widgets/controls",
      "model_module_version": "2.0.0",
      "model_name": "FloatProgressModel",
      "state": {
       "layout": "IPY_MODEL_6669255d68d54327b0e26428eb9bbdac",
       "max": 744,
       "style": "IPY_MODEL_30620ddd8a5941e6a2a734c22d13eea6",
       "value": 744
      }
     },
     "37ca738785dc40a085fb255fe373c04f": {
      "model_module": "@jupyter-widgets/controls",
      "model_module_version": "2.0.0",
      "model_name": "HTMLStyleModel",
      "state": {
       "description_width": "",
       "font_size": null,
       "text_color": null
      }
     },
     "3800d228b87942fb928896d72536d8ed": {
      "model_module": "@jupyter-widgets/controls",
      "model_module_version": "2.0.0",
      "model_name": "ProgressStyleModel",
      "state": {
       "description_width": ""
      }
     },
     "380fe96184644334bcc1d8bbc8d78094": {
      "model_module": "@jupyter-widgets/controls",
      "model_module_version": "2.0.0",
      "model_name": "HTMLModel",
      "state": {
       "layout": "IPY_MODEL_474ed6b37b624ea480f562fc019db8eb",
       "style": "IPY_MODEL_9674c2835a3444969e5a5bfea3bd9897",
       "value": "Processing CSVs:  99%"
      }
     },
     "3828f3423ee848c382b90b52623a10c9": {
      "model_module": "@jupyter-widgets/base",
      "model_module_version": "2.0.0",
      "model_name": "LayoutModel",
      "state": {}
     },
     "382936c29e7c44558ce6012d39bc5f73": {
      "model_module": "@jupyter-widgets/base",
      "model_module_version": "2.0.0",
      "model_name": "LayoutModel",
      "state": {}
     },
     "388530478dba4b039fae96cb6b385989": {
      "model_module": "@jupyter-widgets/base",
      "model_module_version": "2.0.0",
      "model_name": "LayoutModel",
      "state": {}
     },
     "38e9b14ff1bc45138b6e7854d47dac53": {
      "model_module": "@jupyter-widgets/controls",
      "model_module_version": "2.0.0",
      "model_name": "HTMLStyleModel",
      "state": {
       "description_width": "",
       "font_size": null,
       "text_color": null
      }
     },
     "390a6e206569429f9ee58cc90b8d88f1": {
      "model_module": "@jupyter-widgets/base",
      "model_module_version": "2.0.0",
      "model_name": "LayoutModel",
      "state": {}
     },
     "395d5a736ccc42d382e1a990f902e610": {
      "model_module": "@jupyter-widgets/base",
      "model_module_version": "2.0.0",
      "model_name": "LayoutModel",
      "state": {
       "visibility": "hidden"
      }
     },
     "398a272852ad47168ef4b622b894f3a3": {
      "model_module": "@jupyter-widgets/controls",
      "model_module_version": "2.0.0",
      "model_name": "HTMLModel",
      "state": {
       "layout": "IPY_MODEL_12c2235dc86444e5a7c7cfffe6626d85",
       "style": "IPY_MODEL_2b43cc4aaf5d40f0998d50e7f85baaa7",
       "value": " 12/12 [01:08&lt;00:00,  5.87s/it]"
      }
     },
     "39b990edb1bd43f0903b6d56879f3933": {
      "model_module": "@jupyter-widgets/controls",
      "model_module_version": "2.0.0",
      "model_name": "HTMLStyleModel",
      "state": {
       "description_width": "",
       "font_size": null,
       "text_color": null
      }
     },
     "39d2e2cc9f7d455182f00f3ad19c11c3": {
      "model_module": "@jupyter-widgets/controls",
      "model_module_version": "2.0.0",
      "model_name": "FloatProgressModel",
      "state": {
       "layout": "IPY_MODEL_baea338e1f484c27aec1842e3d469907",
       "max": 744,
       "style": "IPY_MODEL_eb0e170b8764486681a280b53601d322",
       "value": 744
      }
     },
     "3a23bb0a7d16429baed7167c242db576": {
      "model_module": "@jupyter-widgets/controls",
      "model_module_version": "2.0.0",
      "model_name": "HTMLStyleModel",
      "state": {
       "description_width": "",
       "font_size": null,
       "text_color": null
      }
     },
     "3a314c0a758c4a0d80ac4f926e1c1f26": {
      "model_module": "@jupyter-widgets/controls",
      "model_module_version": "2.0.0",
      "model_name": "HTMLModel",
      "state": {
       "layout": "IPY_MODEL_37552475c54a46b29dc95a2aeb8a50c2",
       "style": "IPY_MODEL_44fba1cfe76142418847df26d5254f68",
       "value": " 716/720 [00:11&lt;00:00, 63.61it/s]"
      }
     },
     "3a4ddce8dba3481295ae563236bef265": {
      "model_module": "@jupyter-widgets/base",
      "model_module_version": "2.0.0",
      "model_name": "LayoutModel",
      "state": {}
     },
     "3a62b8d45c1b4dfda413b8b307e84e2f": {
      "model_module": "@jupyter-widgets/controls",
      "model_module_version": "2.0.0",
      "model_name": "HTMLModel",
      "state": {
       "layout": "IPY_MODEL_2bf4a2fd2ac647008e15f19a4da8d652",
       "style": "IPY_MODEL_e3cfcde12e454c4ab1599b7d43477913",
       "value": "Processing CSVs:  99%"
      }
     },
     "3a7f438a5b694ca68ab6e8a478370cdf": {
      "model_module": "@jupyter-widgets/controls",
      "model_module_version": "2.0.0",
      "model_name": "HTMLStyleModel",
      "state": {
       "description_width": "",
       "font_size": null,
       "text_color": null
      }
     },
     "3a8cd33759874557adac3b382e018a9e": {
      "model_module": "@jupyter-widgets/controls",
      "model_module_version": "2.0.0",
      "model_name": "HTMLModel",
      "state": {
       "layout": "IPY_MODEL_e3e16a63c3824e9f908d06ea3111f876",
       "style": "IPY_MODEL_f8d80af52046448cbd64b49c32262ad3",
       "value": " 740/744 [00:05&lt;00:00, 139.13it/s]"
      }
     },
     "3ac6cdd17ad74b19b62cd61fa107fb36": {
      "model_module": "@jupyter-widgets/controls",
      "model_module_version": "2.0.0",
      "model_name": "FloatProgressModel",
      "state": {
       "layout": "IPY_MODEL_9e46d41ec6e644b8b7d4782bcd15db58",
       "max": 720,
       "style": "IPY_MODEL_92d3d4cd743f42599b8b5ce59342a134",
       "value": 720
      }
     },
     "3ac97361c45a432fbb2a4485021706b0": {
      "model_module": "@jupyter-widgets/controls",
      "model_module_version": "2.0.0",
      "model_name": "HTMLModel",
      "state": {
       "layout": "IPY_MODEL_e70e69e48f604bedbe2076fb4955af4f",
       "style": "IPY_MODEL_8a89932825974d58bebe574cd6879dd2",
       "value": "Processing CSVs:  99%"
      }
     },
     "3ae0976f5e424eada0f72e0f224516c7": {
      "model_module": "@jupyter-widgets/controls",
      "model_module_version": "2.0.0",
      "model_name": "FloatProgressModel",
      "state": {
       "layout": "IPY_MODEL_11f14da379c241b089c53150c623471c",
       "max": 744,
       "style": "IPY_MODEL_b9d40fae56664b4baeafc46b0350080b",
       "value": 744
      }
     },
     "3b947ece3c8a4fd2abc90032477931c1": {
      "model_module": "@jupyter-widgets/controls",
      "model_module_version": "2.0.0",
      "model_name": "ProgressStyleModel",
      "state": {
       "description_width": ""
      }
     },
     "3c1d7599351c45a082463f2fe15fd2b5": {
      "model_module": "@jupyter-widgets/controls",
      "model_module_version": "2.0.0",
      "model_name": "HTMLStyleModel",
      "state": {
       "description_width": "",
       "font_size": null,
       "text_color": null
      }
     },
     "3c35dbdc97564f94ab7735886aa5794b": {
      "model_module": "@jupyter-widgets/controls",
      "model_module_version": "2.0.0",
      "model_name": "HTMLStyleModel",
      "state": {
       "description_width": "",
       "font_size": null,
       "text_color": null
      }
     },
     "3c5d362c018e4b6894c00256008ff09b": {
      "model_module": "@jupyter-widgets/controls",
      "model_module_version": "2.0.0",
      "model_name": "HTMLStyleModel",
      "state": {
       "description_width": "",
       "font_size": null,
       "text_color": null
      }
     },
     "3c6ab1f738ea49beaafeba693ecd6f77": {
      "model_module": "@jupyter-widgets/controls",
      "model_module_version": "2.0.0",
      "model_name": "HTMLStyleModel",
      "state": {
       "description_width": "",
       "font_size": null,
       "text_color": null
      }
     },
     "3cccde9b9aee4e2597324bf81a1edece": {
      "model_module": "@jupyter-widgets/controls",
      "model_module_version": "2.0.0",
      "model_name": "ProgressStyleModel",
      "state": {
       "description_width": ""
      }
     },
     "3cf301c6d706447bba8a6e971c4d282e": {
      "model_module": "@jupyter-widgets/controls",
      "model_module_version": "2.0.0",
      "model_name": "ProgressStyleModel",
      "state": {
       "description_width": ""
      }
     },
     "3d461a6ac14a401aade8896ab79f25e8": {
      "model_module": "@jupyter-widgets/base",
      "model_module_version": "2.0.0",
      "model_name": "LayoutModel",
      "state": {}
     },
     "3d706978db0a42df874104cf5968d466": {
      "model_module": "@jupyter-widgets/controls",
      "model_module_version": "2.0.0",
      "model_name": "FloatProgressModel",
      "state": {
       "layout": "IPY_MODEL_00b0b73090a647459c3c6490dc529945",
       "max": 744,
       "style": "IPY_MODEL_8b90d460f61e40f483049b6eaabd3ff3",
       "value": 744
      }
     },
     "3da7f118bf0d4aae9d3ceeaae5f26e71": {
      "model_module": "@jupyter-widgets/base",
      "model_module_version": "2.0.0",
      "model_name": "LayoutModel",
      "state": {}
     },
     "3dcf8ff9e92046a783272b5c7fb27c97": {
      "model_module": "@jupyter-widgets/base",
      "model_module_version": "2.0.0",
      "model_name": "LayoutModel",
      "state": {
       "visibility": "hidden"
      }
     },
     "3dd90828fad449489a6c70db49bfca1a": {
      "model_module": "@jupyter-widgets/base",
      "model_module_version": "2.0.0",
      "model_name": "LayoutModel",
      "state": {}
     },
     "3e19af22d31a445f9a80c7a2d80290c6": {
      "model_module": "@jupyter-widgets/base",
      "model_module_version": "2.0.0",
      "model_name": "LayoutModel",
      "state": {}
     },
     "3e31a0d317784bd7bd8989585abe3cce": {
      "model_module": "@jupyter-widgets/controls",
      "model_module_version": "2.0.0",
      "model_name": "ProgressStyleModel",
      "state": {
       "description_width": ""
      }
     },
     "3e92196466c042c79345af50f7595797": {
      "model_module": "@jupyter-widgets/base",
      "model_module_version": "2.0.0",
      "model_name": "LayoutModel",
      "state": {
       "visibility": "hidden"
      }
     },
     "3e9fa85eb0b64450bef53b830e744656": {
      "model_module": "@jupyter-widgets/controls",
      "model_module_version": "2.0.0",
      "model_name": "HTMLModel",
      "state": {
       "layout": "IPY_MODEL_f49224abe9eb4492854526dfc8b858c5",
       "style": "IPY_MODEL_d6a16dc8dc9f4ad790a4a30acf5a17ff",
       "value": " 740/744 [00:06&lt;00:00, 102.63it/s]"
      }
     },
     "3efc784e9b08477ca915f1e79a5bd84a": {
      "model_module": "@jupyter-widgets/base",
      "model_module_version": "2.0.0",
      "model_name": "LayoutModel",
      "state": {}
     },
     "3f2938281b4a434091c3478a4489c4e1": {
      "model_module": "@jupyter-widgets/controls",
      "model_module_version": "2.0.0",
      "model_name": "HTMLModel",
      "state": {
       "layout": "IPY_MODEL_b97fe7d591f841169cec158647c34897",
       "style": "IPY_MODEL_09e57a78133c49e7874130054f756d50",
       "value": "Processing CSVs:  99%"
      }
     },
     "3f32af9146414112bf505ec6774e70dc": {
      "model_module": "@jupyter-widgets/controls",
      "model_module_version": "2.0.0",
      "model_name": "ProgressStyleModel",
      "state": {
       "description_width": ""
      }
     },
     "3f5b5b804cb048328bd6ab219c6259cd": {
      "model_module": "@jupyter-widgets/controls",
      "model_module_version": "2.0.0",
      "model_name": "FloatProgressModel",
      "state": {
       "layout": "IPY_MODEL_8fafd37379a64b3189cffcab9ec1049b",
       "max": 672,
       "style": "IPY_MODEL_3e31a0d317784bd7bd8989585abe3cce",
       "value": 672
      }
     },
     "3f60fad30572420ab7edbe1e98bc7529": {
      "model_module": "@jupyter-widgets/controls",
      "model_module_version": "2.0.0",
      "model_name": "HTMLModel",
      "state": {
       "layout": "IPY_MODEL_c611ec2386f7470aa41526a39e758bd5",
       "style": "IPY_MODEL_a8e267486684461aaf2bd10b687656c0",
       "value": "Processing CSVs: 100%"
      }
     },
     "3fa0167d8ed24de7830a7bd020774461": {
      "model_module": "@jupyter-widgets/base",
      "model_module_version": "2.0.0",
      "model_name": "LayoutModel",
      "state": {
       "visibility": "hidden"
      }
     },
     "3fd02344d6f448738166d1e642d84f87": {
      "model_module": "@jupyter-widgets/controls",
      "model_module_version": "2.0.0",
      "model_name": "HTMLModel",
      "state": {
       "layout": "IPY_MODEL_45343b837e9846789920583fb2569d0e",
       "style": "IPY_MODEL_8b95263d56e344d0adab5cf225024d72",
       "value": "Processing CSVs:  99%"
      }
     },
     "3fd82f0573f540fca319fef56346fbe5": {
      "model_module": "@jupyter-widgets/controls",
      "model_module_version": "2.0.0",
      "model_name": "HTMLModel",
      "state": {
       "layout": "IPY_MODEL_d790a50914b54b8ab6ea13168285300e",
       "style": "IPY_MODEL_7104fa2b70bd493ab178b0ecb71970fc",
       "value": "Processing CSVs:  98%"
      }
     },
     "40452e5d9f304f109d7514f7e997ea32": {
      "model_module": "@jupyter-widgets/base",
      "model_module_version": "2.0.0",
      "model_name": "LayoutModel",
      "state": {}
     },
     "40557d6fc38443f4a51a148fed22d24e": {
      "model_module": "@jupyter-widgets/controls",
      "model_module_version": "2.0.0",
      "model_name": "HTMLModel",
      "state": {
       "layout": "IPY_MODEL_0b6ec87bf57544b19b3179454b58c50d",
       "style": "IPY_MODEL_803dcc913a5244c38e6745cdae028f66",
       "value": " 672/672 [00:05&lt;00:00, 131.16it/s]"
      }
     },
     "4061efcceb1e456c890fc52eb3925869": {
      "model_module": "@jupyter-widgets/base",
      "model_module_version": "2.0.0",
      "model_name": "LayoutModel",
      "state": {
       "visibility": "hidden"
      }
     },
     "4086c915ba3643a1a6b8c9d837803137": {
      "model_module": "@jupyter-widgets/base",
      "model_module_version": "2.0.0",
      "model_name": "LayoutModel",
      "state": {}
     },
     "408ae43858f24522a46e221383831d8e": {
      "model_module": "@jupyter-widgets/controls",
      "model_module_version": "2.0.0",
      "model_name": "HTMLModel",
      "state": {
       "layout": "IPY_MODEL_93414b9606074867accc9b03f3437d00",
       "style": "IPY_MODEL_d6358768c44c41749bb13f431f24f96d",
       "value": "Processing CSVs: 100%"
      }
     },
     "40b1223f0c714fb686ab23dca535334d": {
      "model_module": "@jupyter-widgets/controls",
      "model_module_version": "2.0.0",
      "model_name": "HTMLModel",
      "state": {
       "layout": "IPY_MODEL_d26f2ce769204dc6a632b02bd109e969",
       "style": "IPY_MODEL_2c6886217e4e46f5a9ba9907c8689f09",
       "value": "Processing CSVs:  99%"
      }
     },
     "40cc739980d4484a9539662de112a105": {
      "model_module": "@jupyter-widgets/controls",
      "model_module_version": "2.0.0",
      "model_name": "HTMLModel",
      "state": {
       "layout": "IPY_MODEL_9e7e3aeeb2d8472e9d013a4c1eb69351",
       "style": "IPY_MODEL_70b16050faee46e787dafb5daf5841a7",
       "value": " 720/720 [00:05&lt;00:00, 122.80it/s]"
      }
     },
     "410a79358a754641a473109bc54d2240": {
      "model_module": "@jupyter-widgets/base",
      "model_module_version": "2.0.0",
      "model_name": "LayoutModel",
      "state": {}
     },
     "41b1831128e84c889ccdec8dc0d08397": {
      "model_module": "@jupyter-widgets/controls",
      "model_module_version": "2.0.0",
      "model_name": "HTMLStyleModel",
      "state": {
       "description_width": "",
       "font_size": null,
       "text_color": null
      }
     },
     "41f58541bbe046b2aaeeb094cc905a87": {
      "model_module": "@jupyter-widgets/base",
      "model_module_version": "2.0.0",
      "model_name": "LayoutModel",
      "state": {}
     },
     "421eaccaa9c74d3686b9ae44834db044": {
      "model_module": "@jupyter-widgets/controls",
      "model_module_version": "2.0.0",
      "model_name": "FloatProgressModel",
      "state": {
       "layout": "IPY_MODEL_bf6a377a98a54c1da84bdf29afc2de0a",
       "max": 720,
       "style": "IPY_MODEL_6c0c32785af946428900bf3573cb2c94",
       "value": 720
      }
     },
     "4241388c514b41aaa2fbd755b430391b": {
      "model_module": "@jupyter-widgets/base",
      "model_module_version": "2.0.0",
      "model_name": "LayoutModel",
      "state": {}
     },
     "429a74bcf2264c2bacbcf99f256c5c46": {
      "model_module": "@jupyter-widgets/controls",
      "model_module_version": "2.0.0",
      "model_name": "ProgressStyleModel",
      "state": {
       "description_width": ""
      }
     },
     "430f208115a04b9daee933d16d4ec98e": {
      "model_module": "@jupyter-widgets/base",
      "model_module_version": "2.0.0",
      "model_name": "LayoutModel",
      "state": {
       "visibility": "hidden"
      }
     },
     "431de30fc7de4ae59082faa366596bdd": {
      "model_module": "@jupyter-widgets/controls",
      "model_module_version": "2.0.0",
      "model_name": "HTMLModel",
      "state": {
       "layout": "IPY_MODEL_91d2658178cb4227b8e25c7fb627f4d4",
       "style": "IPY_MODEL_3660d8561f5d4714862c16d02a978332",
       "value": "Processing CSVs:  99%"
      }
     },
     "43a6611792db43b28577f3ebd65f70b6": {
      "model_module": "@jupyter-widgets/controls",
      "model_module_version": "2.0.0",
      "model_name": "ProgressStyleModel",
      "state": {
       "description_width": ""
      }
     },
     "43e58e5c603046f9b58d46a3162f33ce": {
      "model_module": "@jupyter-widgets/base",
      "model_module_version": "2.0.0",
      "model_name": "LayoutModel",
      "state": {}
     },
     "44033244656b4eed8f5013da39f23664": {
      "model_module": "@jupyter-widgets/controls",
      "model_module_version": "2.0.0",
      "model_name": "HTMLStyleModel",
      "state": {
       "description_width": "",
       "font_size": null,
       "text_color": null
      }
     },
     "440bc8642bad437cad2c38f76e299f73": {
      "model_module": "@jupyter-widgets/controls",
      "model_module_version": "2.0.0",
      "model_name": "FloatProgressModel",
      "state": {
       "layout": "IPY_MODEL_6fe777966c6b4358b6cf9807012dad86",
       "max": 744,
       "style": "IPY_MODEL_c0f0aedd8afa497f9c66aba59dc23c8f",
       "value": 744
      }
     },
     "4421ecc87a584d6cb522453f203bb502": {
      "model_module": "@jupyter-widgets/base",
      "model_module_version": "2.0.0",
      "model_name": "LayoutModel",
      "state": {}
     },
     "442d0bf3b5924df09b242018cee2a344": {
      "model_module": "@jupyter-widgets/controls",
      "model_module_version": "2.0.0",
      "model_name": "ProgressStyleModel",
      "state": {
       "description_width": ""
      }
     },
     "443fed3813ec4fb2850a299c1ad1dc7b": {
      "model_module": "@jupyter-widgets/controls",
      "model_module_version": "2.0.0",
      "model_name": "HTMLStyleModel",
      "state": {
       "description_width": "",
       "font_size": null,
       "text_color": null
      }
     },
     "4441fe5a00874f96b895bb5ae9a28e2f": {
      "model_module": "@jupyter-widgets/base",
      "model_module_version": "2.0.0",
      "model_name": "LayoutModel",
      "state": {}
     },
     "44b158374ff142e898b2dbb57332ad73": {
      "model_module": "@jupyter-widgets/controls",
      "model_module_version": "2.0.0",
      "model_name": "HTMLStyleModel",
      "state": {
       "description_width": "",
       "font_size": null,
       "text_color": null
      }
     },
     "44bfa88211c44fca90d6f73795eb8001": {
      "model_module": "@jupyter-widgets/base",
      "model_module_version": "2.0.0",
      "model_name": "LayoutModel",
      "state": {}
     },
     "44db6b18e98a49398bcf9e93e7dd7f70": {
      "model_module": "@jupyter-widgets/base",
      "model_module_version": "2.0.0",
      "model_name": "LayoutModel",
      "state": {}
     },
     "44f0e09df28b49128221918c8a308024": {
      "model_module": "@jupyter-widgets/controls",
      "model_module_version": "2.0.0",
      "model_name": "FloatProgressModel",
      "state": {
       "layout": "IPY_MODEL_14ca1f3222c440579e56b80a3766b26e",
       "max": 744,
       "style": "IPY_MODEL_c7a28874f7a64a54a6772a12dc4bfd45",
       "value": 744
      }
     },
     "44fba1cfe76142418847df26d5254f68": {
      "model_module": "@jupyter-widgets/controls",
      "model_module_version": "2.0.0",
      "model_name": "HTMLStyleModel",
      "state": {
       "description_width": "",
       "font_size": null,
       "text_color": null
      }
     },
     "45298565b9984db2bf1e315a52af0c3b": {
      "model_module": "@jupyter-widgets/controls",
      "model_module_version": "2.0.0",
      "model_name": "HTMLStyleModel",
      "state": {
       "description_width": "",
       "font_size": null,
       "text_color": null
      }
     },
     "452998c2564c4de19ec998fb6405750b": {
      "model_module": "@jupyter-widgets/controls",
      "model_module_version": "2.0.0",
      "model_name": "HTMLStyleModel",
      "state": {
       "description_width": "",
       "font_size": null,
       "text_color": null
      }
     },
     "45343b837e9846789920583fb2569d0e": {
      "model_module": "@jupyter-widgets/base",
      "model_module_version": "2.0.0",
      "model_name": "LayoutModel",
      "state": {}
     },
     "4568a027c5b3461a9164bebb13ee7be2": {
      "model_module": "@jupyter-widgets/controls",
      "model_module_version": "2.0.0",
      "model_name": "HTMLStyleModel",
      "state": {
       "description_width": "",
       "font_size": null,
       "text_color": null
      }
     },
     "4586a516212e4abfbd028e19b60dc290": {
      "model_module": "@jupyter-widgets/controls",
      "model_module_version": "2.0.0",
      "model_name": "HTMLStyleModel",
      "state": {
       "description_width": "",
       "font_size": null,
       "text_color": null
      }
     },
     "459bc4597b5b44b9b69d87f8e5f40bc9": {
      "model_module": "@jupyter-widgets/base",
      "model_module_version": "2.0.0",
      "model_name": "LayoutModel",
      "state": {}
     },
     "459bd3693bdb4d30b3c068fe2bdc4fd2": {
      "model_module": "@jupyter-widgets/controls",
      "model_module_version": "2.0.0",
      "model_name": "FloatProgressModel",
      "state": {
       "layout": "IPY_MODEL_a2f6da85fee046b48e8c76eb15fbe7a0",
       "max": 3,
       "style": "IPY_MODEL_304fc9d06012463cbc5e3eee350c8dc4",
       "value": 3
      }
     },
     "45da7109ce934d048b1b4e974d1ee1d3": {
      "model_module": "@jupyter-widgets/controls",
      "model_module_version": "2.0.0",
      "model_name": "FloatProgressModel",
      "state": {
       "layout": "IPY_MODEL_081b9204bf9a4040914c7f7cbfd41334",
       "max": 744,
       "style": "IPY_MODEL_91455e08bd9e4b3891850a29a19605d0",
       "value": 744
      }
     },
     "45e9b4f96f5b4dd3b0616284f037005c": {
      "model_module": "@jupyter-widgets/base",
      "model_module_version": "2.0.0",
      "model_name": "LayoutModel",
      "state": {}
     },
     "4645e256d5ad4012a7df96c46011bed2": {
      "model_module": "@jupyter-widgets/controls",
      "model_module_version": "2.0.0",
      "model_name": "ProgressStyleModel",
      "state": {
       "description_width": ""
      }
     },
     "466d886419204450bebcb03a8530268b": {
      "model_module": "@jupyter-widgets/controls",
      "model_module_version": "2.0.0",
      "model_name": "FloatProgressModel",
      "state": {
       "layout": "IPY_MODEL_789423aae0d34cbdb5bafc03e1962ed1",
       "max": 720,
       "style": "IPY_MODEL_de48d0e2e1964543bb9d5113225db7ff",
       "value": 720
      }
     },
     "46962c6d51ea4b93b5f3ed91867c1d37": {
      "model_module": "@jupyter-widgets/base",
      "model_module_version": "2.0.0",
      "model_name": "LayoutModel",
      "state": {}
     },
     "46bc87ee39804d2da2a57459b8610f6d": {
      "model_module": "@jupyter-widgets/base",
      "model_module_version": "2.0.0",
      "model_name": "LayoutModel",
      "state": {}
     },
     "46c2f1731c8445cdb75580715e10ce90": {
      "model_module": "@jupyter-widgets/controls",
      "model_module_version": "2.0.0",
      "model_name": "HTMLStyleModel",
      "state": {
       "description_width": "",
       "font_size": null,
       "text_color": null
      }
     },
     "46c3ad9d51f34c018d8bfaf3989b4983": {
      "model_module": "@jupyter-widgets/controls",
      "model_module_version": "2.0.0",
      "model_name": "ProgressStyleModel",
      "state": {
       "description_width": ""
      }
     },
     "46f11b5b72b44dcb975eb3848a40ad86": {
      "model_module": "@jupyter-widgets/base",
      "model_module_version": "2.0.0",
      "model_name": "LayoutModel",
      "state": {}
     },
     "4708bf0194e34797ade91d9ec527843b": {
      "model_module": "@jupyter-widgets/base",
      "model_module_version": "2.0.0",
      "model_name": "LayoutModel",
      "state": {}
     },
     "4740b10a7d2746efb5271a1b63bffb96": {
      "model_module": "@jupyter-widgets/controls",
      "model_module_version": "2.0.0",
      "model_name": "HTMLStyleModel",
      "state": {
       "description_width": "",
       "font_size": null,
       "text_color": null
      }
     },
     "474ed6b37b624ea480f562fc019db8eb": {
      "model_module": "@jupyter-widgets/base",
      "model_module_version": "2.0.0",
      "model_name": "LayoutModel",
      "state": {}
     },
     "47845ee2f65540c6b89bb31a2c8f680f": {
      "model_module": "@jupyter-widgets/base",
      "model_module_version": "2.0.0",
      "model_name": "LayoutModel",
      "state": {}
     },
     "47e0b3a5e77c45f19f7e9f7d8ed26842": {
      "model_module": "@jupyter-widgets/base",
      "model_module_version": "2.0.0",
      "model_name": "LayoutModel",
      "state": {}
     },
     "47e2db5234b341138ba00d4044b32b66": {
      "model_module": "@jupyter-widgets/controls",
      "model_module_version": "2.0.0",
      "model_name": "HTMLStyleModel",
      "state": {
       "description_width": "",
       "font_size": null,
       "text_color": null
      }
     },
     "480950b812e54e1e9500acfc32ee4f5a": {
      "model_module": "@jupyter-widgets/controls",
      "model_module_version": "2.0.0",
      "model_name": "HTMLModel",
      "state": {
       "layout": "IPY_MODEL_05a9ed72569d47678e7a3b5cc80a16aa",
       "style": "IPY_MODEL_f279f9518a1b42eb965acf6b7b71232c",
       "value": " 735/744 [00:06&lt;00:00, 113.48it/s]"
      }
     },
     "481a1e8223174782b9915e594d7d150b": {
      "model_module": "@jupyter-widgets/controls",
      "model_module_version": "2.0.0",
      "model_name": "HTMLModel",
      "state": {
       "layout": "IPY_MODEL_07110df923e14a5db04c204392b49d81",
       "style": "IPY_MODEL_77c8c2a701aa42edb9af8603b1ba638b",
       "value": "Processing CSVs:  99%"
      }
     },
     "482cc1a59181469199b6f0048b7d4e67": {
      "model_module": "@jupyter-widgets/controls",
      "model_module_version": "2.0.0",
      "model_name": "ProgressStyleModel",
      "state": {
       "description_width": ""
      }
     },
     "482f6f0e39114ec09f22a2a9ed53bf2e": {
      "model_module": "@jupyter-widgets/base",
      "model_module_version": "2.0.0",
      "model_name": "LayoutModel",
      "state": {}
     },
     "4834323a25ed488184a3acc135fe7837": {
      "model_module": "@jupyter-widgets/controls",
      "model_module_version": "2.0.0",
      "model_name": "HTMLStyleModel",
      "state": {
       "description_width": "",
       "font_size": null,
       "text_color": null
      }
     },
     "4930d2161dfe477080d74a4a3cb2804d": {
      "model_module": "@jupyter-widgets/base",
      "model_module_version": "2.0.0",
      "model_name": "LayoutModel",
      "state": {
       "visibility": "hidden"
      }
     },
     "49562333263444448217bd852714eae7": {
      "model_module": "@jupyter-widgets/base",
      "model_module_version": "2.0.0",
      "model_name": "LayoutModel",
      "state": {}
     },
     "498d9cfb08bb41948e3dcd97bcb3371c": {
      "model_module": "@jupyter-widgets/controls",
      "model_module_version": "2.0.0",
      "model_name": "HTMLStyleModel",
      "state": {
       "description_width": "",
       "font_size": null,
       "text_color": null
      }
     },
     "49b9e81d3f2744ae81f2897bb71fcec5": {
      "model_module": "@jupyter-widgets/controls",
      "model_module_version": "2.0.0",
      "model_name": "HTMLStyleModel",
      "state": {
       "description_width": "",
       "font_size": null,
       "text_color": null
      }
     },
     "49c1fa74d70c4be7bb9a85cc55cc852e": {
      "model_module": "@jupyter-widgets/base",
      "model_module_version": "2.0.0",
      "model_name": "LayoutModel",
      "state": {}
     },
     "49dd5cce1f89400dbce675b000770caf": {
      "model_module": "@jupyter-widgets/controls",
      "model_module_version": "2.0.0",
      "model_name": "FloatProgressModel",
      "state": {
       "layout": "IPY_MODEL_1b8732e533264a85abe1a574f9c147cd",
       "max": 720,
       "style": "IPY_MODEL_a1450235aa404f22b20b818a8bfc4253",
       "value": 720
      }
     },
     "4a0720c5346340738b17ec703241357c": {
      "model_module": "@jupyter-widgets/controls",
      "model_module_version": "2.0.0",
      "model_name": "HTMLStyleModel",
      "state": {
       "description_width": "",
       "font_size": null,
       "text_color": null
      }
     },
     "4a1ef7c19a4d4db4963e0c34aedb2394": {
      "model_module": "@jupyter-widgets/base",
      "model_module_version": "2.0.0",
      "model_name": "LayoutModel",
      "state": {}
     },
     "4a22c9a20d8d4cb080355c344c776b19": {
      "model_module": "@jupyter-widgets/controls",
      "model_module_version": "2.0.0",
      "model_name": "FloatProgressModel",
      "state": {
       "layout": "IPY_MODEL_664f02bfc6bc4b5ca7b34ca4ae645470",
       "max": 720,
       "style": "IPY_MODEL_8a414d877be3438f9ea5c185c8cf05ee",
       "value": 720
      }
     },
     "4a53e4d0ff9145f2a316e919a66ecd3e": {
      "model_module": "@jupyter-widgets/base",
      "model_module_version": "2.0.0",
      "model_name": "LayoutModel",
      "state": {}
     },
     "4a6661f8b9fa4dfa94449e1513811167": {
      "model_module": "@jupyter-widgets/controls",
      "model_module_version": "2.0.0",
      "model_name": "HTMLStyleModel",
      "state": {
       "description_width": "",
       "font_size": null,
       "text_color": null
      }
     },
     "4a92b30771c745de8e7a2bbfa1d05876": {
      "model_module": "@jupyter-widgets/controls",
      "model_module_version": "2.0.0",
      "model_name": "HTMLModel",
      "state": {
       "layout": "IPY_MODEL_0bd4fd73963044e69bf64dc6b8835370",
       "style": "IPY_MODEL_338f0c3e2b1f4546a0a2ebb299d3ba11",
       "value": " 734/744 [00:05&lt;00:00, 122.01it/s]"
      }
     },
     "4ab89f9c93a4487499f02dd4e8953bdb": {
      "model_module": "@jupyter-widgets/controls",
      "model_module_version": "2.0.0",
      "model_name": "HTMLStyleModel",
      "state": {
       "description_width": "",
       "font_size": null,
       "text_color": null
      }
     },
     "4ac3897159d04395a19a95ffdc221131": {
      "model_module": "@jupyter-widgets/base",
      "model_module_version": "2.0.0",
      "model_name": "LayoutModel",
      "state": {}
     },
     "4af636de7e7b4fa9bb03499f3eae246f": {
      "model_module": "@jupyter-widgets/controls",
      "model_module_version": "2.0.0",
      "model_name": "HTMLModel",
      "state": {
       "layout": "IPY_MODEL_2db212c15383422eb52657d44dab62c5",
       "style": "IPY_MODEL_45298565b9984db2bf1e315a52af0c3b",
       "value": "Processing CSVs: 100%"
      }
     },
     "4af69e7de33145cf85f45d37cdbb05d4": {
      "model_module": "@jupyter-widgets/controls",
      "model_module_version": "2.0.0",
      "model_name": "ProgressStyleModel",
      "state": {
       "description_width": ""
      }
     },
     "4b367e90dbc74967b1a4a6d619087a7c": {
      "model_module": "@jupyter-widgets/base",
      "model_module_version": "2.0.0",
      "model_name": "LayoutModel",
      "state": {}
     },
     "4b3b358e84904eae8a9958d787d61111": {
      "model_module": "@jupyter-widgets/controls",
      "model_module_version": "2.0.0",
      "model_name": "FloatProgressModel",
      "state": {
       "layout": "IPY_MODEL_2b211212d3c040bab10b805b73d16504",
       "max": 12,
       "style": "IPY_MODEL_2f3e33852b074c14be1e9d6812325ef0",
       "value": 12
      }
     },
     "4bc28b314462477a913d87a6c4f45968": {
      "model_module": "@jupyter-widgets/controls",
      "model_module_version": "2.0.0",
      "model_name": "ProgressStyleModel",
      "state": {
       "description_width": ""
      }
     },
     "4c617379baf04520aa28f3468775616d": {
      "model_module": "@jupyter-widgets/controls",
      "model_module_version": "2.0.0",
      "model_name": "FloatProgressModel",
      "state": {
       "layout": "IPY_MODEL_9a51e37977ba496b9081d0d5bf6c3bbb",
       "max": 744,
       "style": "IPY_MODEL_9202e2c9f7b54931899bcd921a76c2ae",
       "value": 744
      }
     },
     "4cd5005096274405ad7ad90d979b8268": {
      "model_module": "@jupyter-widgets/controls",
      "model_module_version": "2.0.0",
      "model_name": "HTMLModel",
      "state": {
       "layout": "IPY_MODEL_c321828d9f4b4f7091209feb11892c46",
       "style": "IPY_MODEL_f03f852a006e47c3954472cb6e4c740f",
       "value": " 12/12 [01:10&lt;00:00,  5.98s/it]"
      }
     },
     "4d2cbe11239240f09f86c6f44ccfd2a5": {
      "model_module": "@jupyter-widgets/controls",
      "model_module_version": "2.0.0",
      "model_name": "HTMLStyleModel",
      "state": {
       "description_width": "",
       "font_size": null,
       "text_color": null
      }
     },
     "4d2d6104090946fcbe79b46047dde046": {
      "model_module": "@jupyter-widgets/controls",
      "model_module_version": "2.0.0",
      "model_name": "HTMLStyleModel",
      "state": {
       "description_width": "",
       "font_size": null,
       "text_color": null
      }
     },
     "4d97e80a89814588a09ee99be6658935": {
      "model_module": "@jupyter-widgets/controls",
      "model_module_version": "2.0.0",
      "model_name": "FloatProgressModel",
      "state": {
       "layout": "IPY_MODEL_1d51a5eb85b44549af5bda96f3fb6e0c",
       "max": 744,
       "style": "IPY_MODEL_d682f2faf72942bb93af01fcecbdd794",
       "value": 744
      }
     },
     "4db83a3fcd47428f8ca7d967cd5df1bb": {
      "model_module": "@jupyter-widgets/controls",
      "model_module_version": "2.0.0",
      "model_name": "ProgressStyleModel",
      "state": {
       "description_width": ""
      }
     },
     "4dbda67f61f7462d8fcb0b55703947ba": {
      "model_module": "@jupyter-widgets/base",
      "model_module_version": "2.0.0",
      "model_name": "LayoutModel",
      "state": {}
     },
     "4e391bd1ba284bcb8892a873b4afd8c6": {
      "model_module": "@jupyter-widgets/base",
      "model_module_version": "2.0.0",
      "model_name": "LayoutModel",
      "state": {
       "visibility": "hidden"
      }
     },
     "4e48c94a801e47088f7f872b2b6edd2e": {
      "model_module": "@jupyter-widgets/base",
      "model_module_version": "2.0.0",
      "model_name": "LayoutModel",
      "state": {
       "visibility": "hidden"
      }
     },
     "4e87e83149ec4ab3a814fece6c055c2a": {
      "model_module": "@jupyter-widgets/controls",
      "model_module_version": "2.0.0",
      "model_name": "FloatProgressModel",
      "state": {
       "bar_style": "danger",
       "layout": "IPY_MODEL_60c1b3e16b344068bae34adc6abbf905",
       "max": 744,
       "style": "IPY_MODEL_5a483a733724488fa76a4911bb946884",
       "value": 330
      }
     },
     "4e8936e3ef6548f4a700ae8e0794b5de": {
      "model_module": "@jupyter-widgets/controls",
      "model_module_version": "2.0.0",
      "model_name": "FloatProgressModel",
      "state": {
       "layout": "IPY_MODEL_db6e1168750d4ff79f0ef156910742de",
       "max": 9,
       "style": "IPY_MODEL_c20636f29ded4c32b0a13cdab45cf8d8",
       "value": 9
      }
     },
     "4eaa417f66af4a979d7ffb8eec6b15b8": {
      "model_module": "@jupyter-widgets/controls",
      "model_module_version": "2.0.0",
      "model_name": "FloatProgressModel",
      "state": {
       "layout": "IPY_MODEL_bf149c0ff1544207b7a21bd6500d6ac6",
       "max": 720,
       "style": "IPY_MODEL_6d715bbffcc3416b820b8daaa4b0166b",
       "value": 720
      }
     },
     "4eb8ea0c747e4359a020119bba76fe4a": {
      "model_module": "@jupyter-widgets/controls",
      "model_module_version": "2.0.0",
      "model_name": "FloatProgressModel",
      "state": {
       "layout": "IPY_MODEL_ea6f42a14ad04ed6913bea9b82724a9d",
       "max": 720,
       "style": "IPY_MODEL_665e69182d2840da8c75afc5220a43be",
       "value": 720
      }
     },
     "4eb91e84dec143688ebd7db7365257ce": {
      "model_module": "@jupyter-widgets/controls",
      "model_module_version": "2.0.0",
      "model_name": "HTMLStyleModel",
      "state": {
       "description_width": "",
       "font_size": null,
       "text_color": null
      }
     },
     "501b4acb0f5c42bdbded5b8935caea79": {
      "model_module": "@jupyter-widgets/controls",
      "model_module_version": "2.0.0",
      "model_name": "FloatProgressModel",
      "state": {
       "layout": "IPY_MODEL_d064fdf385d642ff88a87a6241824c59",
       "max": 744,
       "style": "IPY_MODEL_71941a61449b4f7493ac87b9b2ab4abc",
       "value": 744
      }
     },
     "502b2b88cd1b48aba6a38648d6a1d581": {
      "model_module": "@jupyter-widgets/base",
      "model_module_version": "2.0.0",
      "model_name": "LayoutModel",
      "state": {}
     },
     "5040951ef46949af93f420657464dbbe": {
      "model_module": "@jupyter-widgets/controls",
      "model_module_version": "2.0.0",
      "model_name": "HTMLModel",
      "state": {
       "layout": "IPY_MODEL_c0f30df6ab5c4cb5a1c20d2fa1595f94",
       "style": "IPY_MODEL_3c1d7599351c45a082463f2fe15fd2b5",
       "value": " 9/9 [00:58&lt;00:00,  6.55s/it]"
      }
     },
     "50779ce39e4c4ac1af11aa0788558f9e": {
      "model_module": "@jupyter-widgets/controls",
      "model_module_version": "2.0.0",
      "model_name": "ProgressStyleModel",
      "state": {
       "description_width": ""
      }
     },
     "509a3f42e2834884b7a3b74f9e305c8e": {
      "model_module": "@jupyter-widgets/base",
      "model_module_version": "2.0.0",
      "model_name": "LayoutModel",
      "state": {}
     },
     "50a88bbe032a4653bb254e9c618a5ce3": {
      "model_module": "@jupyter-widgets/base",
      "model_module_version": "2.0.0",
      "model_name": "LayoutModel",
      "state": {}
     },
     "50ad10f89fe14f7281d91f5dd3718c1a": {
      "model_module": "@jupyter-widgets/controls",
      "model_module_version": "2.0.0",
      "model_name": "ProgressStyleModel",
      "state": {
       "description_width": ""
      }
     },
     "5120c7ad9fe64a86b3020c83ee548a93": {
      "model_module": "@jupyter-widgets/base",
      "model_module_version": "2.0.0",
      "model_name": "LayoutModel",
      "state": {
       "visibility": "hidden"
      }
     },
     "5178793a05d64da3b57298f29d1091e1": {
      "model_module": "@jupyter-widgets/controls",
      "model_module_version": "2.0.0",
      "model_name": "HTMLModel",
      "state": {
       "layout": "IPY_MODEL_d1543a1bfc7b426cb536656639e7f455",
       "style": "IPY_MODEL_a7245832b2184bc7b2e9d35f6ba333d3",
       "value": "Processing CSVs:  99%"
      }
     },
     "51a299e34d94469bbda88996d711d771": {
      "model_module": "@jupyter-widgets/controls",
      "model_module_version": "2.0.0",
      "model_name": "HTMLStyleModel",
      "state": {
       "description_width": "",
       "font_size": null,
       "text_color": null
      }
     },
     "51ccdd26ed094c0880c340a803dd3b92": {
      "model_module": "@jupyter-widgets/base",
      "model_module_version": "2.0.0",
      "model_name": "LayoutModel",
      "state": {}
     },
     "52677869e97a4ab082a6e9883c13e095": {
      "model_module": "@jupyter-widgets/base",
      "model_module_version": "2.0.0",
      "model_name": "LayoutModel",
      "state": {
       "visibility": "hidden"
      }
     },
     "52a0a76ca49a40ee87ea49a551fa334a": {
      "model_module": "@jupyter-widgets/base",
      "model_module_version": "2.0.0",
      "model_name": "LayoutModel",
      "state": {}
     },
     "52b9c51d21204b739de536bd6d3952fd": {
      "model_module": "@jupyter-widgets/controls",
      "model_module_version": "2.0.0",
      "model_name": "ProgressStyleModel",
      "state": {
       "description_width": ""
      }
     },
     "52cb2e50b1b54619b92380044a564b5e": {
      "model_module": "@jupyter-widgets/controls",
      "model_module_version": "2.0.0",
      "model_name": "FloatProgressModel",
      "state": {
       "layout": "IPY_MODEL_f6fd7d0b476c417eb71704c24381a3f2",
       "max": 744,
       "style": "IPY_MODEL_4bc28b314462477a913d87a6c4f45968",
       "value": 744
      }
     },
     "52ef5508fcd84dbc972d392b2203f421": {
      "model_module": "@jupyter-widgets/controls",
      "model_module_version": "2.0.0",
      "model_name": "ProgressStyleModel",
      "state": {
       "description_width": ""
      }
     },
     "536f3076eb594518927f774a720fbce9": {
      "model_module": "@jupyter-widgets/controls",
      "model_module_version": "2.0.0",
      "model_name": "ProgressStyleModel",
      "state": {
       "description_width": ""
      }
     },
     "538c83ba4bbc42de9fbc9a459ac902c5": {
      "model_module": "@jupyter-widgets/controls",
      "model_module_version": "2.0.0",
      "model_name": "ProgressStyleModel",
      "state": {
       "description_width": ""
      }
     },
     "53b60567ee5244c981dbdc244bd43a0f": {
      "model_module": "@jupyter-widgets/controls",
      "model_module_version": "2.0.0",
      "model_name": "HTMLModel",
      "state": {
       "layout": "IPY_MODEL_21fa2719fcdc4ea2a8a39547c02b6e0c",
       "style": "IPY_MODEL_dd805445b56a42d28fa499ef82f5a4de",
       "value": "Processing CSVs: 100%"
      }
     },
     "53d704f2c90046e0a0a3e12e93924c42": {
      "model_module": "@jupyter-widgets/controls",
      "model_module_version": "2.0.0",
      "model_name": "HTMLStyleModel",
      "state": {
       "description_width": "",
       "font_size": null,
       "text_color": null
      }
     },
     "53d8ed2ea0c24223965687d15c50be58": {
      "model_module": "@jupyter-widgets/base",
      "model_module_version": "2.0.0",
      "model_name": "LayoutModel",
      "state": {}
     },
     "53d9893eb1e14bcc9551a2b97f424524": {
      "model_module": "@jupyter-widgets/base",
      "model_module_version": "2.0.0",
      "model_name": "LayoutModel",
      "state": {}
     },
     "53e06db8ec5642af8de771396d51dd1e": {
      "model_module": "@jupyter-widgets/base",
      "model_module_version": "2.0.0",
      "model_name": "LayoutModel",
      "state": {}
     },
     "5404b21c1db24189a4f66680a47615d2": {
      "model_module": "@jupyter-widgets/controls",
      "model_module_version": "2.0.0",
      "model_name": "HTMLStyleModel",
      "state": {
       "description_width": "",
       "font_size": null,
       "text_color": null
      }
     },
     "540f4056a90a478b9e748c5f6b63ae67": {
      "model_module": "@jupyter-widgets/base",
      "model_module_version": "2.0.0",
      "model_name": "LayoutModel",
      "state": {
       "visibility": "hidden"
      }
     },
     "540f5698c78b427098c34b062453bbd0": {
      "model_module": "@jupyter-widgets/controls",
      "model_module_version": "2.0.0",
      "model_name": "ProgressStyleModel",
      "state": {
       "description_width": ""
      }
     },
     "5423e613750b4cb19df82117bacf6e54": {
      "model_module": "@jupyter-widgets/controls",
      "model_module_version": "2.0.0",
      "model_name": "HTMLModel",
      "state": {
       "layout": "IPY_MODEL_20596be7640d4d4485bf432c99f905ee",
       "style": "IPY_MODEL_7fcef6fa0bd34653987ccdfec5a97a13",
       "value": " 720/720 [00:11&lt;00:00, 61.41it/s]"
      }
     },
     "5444cd8b54c3462a8997fa3726247faf": {
      "model_module": "@jupyter-widgets/base",
      "model_module_version": "2.0.0",
      "model_name": "LayoutModel",
      "state": {}
     },
     "5466f585da8c4a80b68fd75d0c78be13": {
      "model_module": "@jupyter-widgets/base",
      "model_module_version": "2.0.0",
      "model_name": "LayoutModel",
      "state": {}
     },
     "54890be085d741d89d4c2db03b9a97ee": {
      "model_module": "@jupyter-widgets/base",
      "model_module_version": "2.0.0",
      "model_name": "LayoutModel",
      "state": {}
     },
     "54baeb0a4f5f49b0927af47fc4375f80": {
      "model_module": "@jupyter-widgets/controls",
      "model_module_version": "2.0.0",
      "model_name": "FloatProgressModel",
      "state": {
       "layout": "IPY_MODEL_bf0ee36881004f0cae778846f71e27b6",
       "max": 3,
       "style": "IPY_MODEL_17937d01cb0847e49fefffbe6bd1692d",
       "value": 3
      }
     },
     "54c3bd326dc64ca6abaf0a2231ed37d1": {
      "model_module": "@jupyter-widgets/controls",
      "model_module_version": "2.0.0",
      "model_name": "HTMLStyleModel",
      "state": {
       "description_width": "",
       "font_size": null,
       "text_color": null
      }
     },
     "550fa65a55884394bca4448ae43ba07d": {
      "model_module": "@jupyter-widgets/base",
      "model_module_version": "2.0.0",
      "model_name": "LayoutModel",
      "state": {}
     },
     "5513c306ae6248758ed495ac5a32e389": {
      "model_module": "@jupyter-widgets/controls",
      "model_module_version": "2.0.0",
      "model_name": "FloatProgressModel",
      "state": {
       "layout": "IPY_MODEL_fc4e17e1f5ef4ac99bdcd354eb68d235",
       "max": 744,
       "style": "IPY_MODEL_5c4d6dd431f54670aa85d62febc06b36",
       "value": 744
      }
     },
     "553f7227ec0a44d8975cfe71a8ad35e4": {
      "model_module": "@jupyter-widgets/controls",
      "model_module_version": "2.0.0",
      "model_name": "HTMLModel",
      "state": {
       "layout": "IPY_MODEL_c2a82edc0f4249e1a0bd1a4cacf2c8b3",
       "style": "IPY_MODEL_fc900e5df52747679550d4d19bf67487",
       "value": "Processing CSVs: 100%"
      }
     },
     "556545b8b50842229cfca1329f1b845e": {
      "model_module": "@jupyter-widgets/controls",
      "model_module_version": "2.0.0",
      "model_name": "HTMLModel",
      "state": {
       "layout": "IPY_MODEL_716a013a2f634ae198838d57a025d8d1",
       "style": "IPY_MODEL_7e09d34a02004f00a6b4f72ca0eee223",
       "value": " 3/3 [02:52&lt;00:00, 59.50s/it]"
      }
     },
     "557145c8d8354c7e99c4b593fc583df2": {
      "model_module": "@jupyter-widgets/base",
      "model_module_version": "2.0.0",
      "model_name": "LayoutModel",
      "state": {
       "visibility": "hidden"
      }
     },
     "55ca41818a0245c4853c929d3db18b6a": {
      "model_module": "@jupyter-widgets/base",
      "model_module_version": "2.0.0",
      "model_name": "LayoutModel",
      "state": {}
     },
     "55edac4aa82141eea909d4085ac13250": {
      "model_module": "@jupyter-widgets/controls",
      "model_module_version": "2.0.0",
      "model_name": "ProgressStyleModel",
      "state": {
       "description_width": ""
      }
     },
     "5651026f51ff49f6914568b4e10ab3cd": {
      "model_module": "@jupyter-widgets/base",
      "model_module_version": "2.0.0",
      "model_name": "LayoutModel",
      "state": {}
     },
     "567d425d380a4e86aa903828139f5cf4": {
      "model_module": "@jupyter-widgets/base",
      "model_module_version": "2.0.0",
      "model_name": "LayoutModel",
      "state": {}
     },
     "567e3f6d9f274d94a2ff6ff1565bbe3d": {
      "model_module": "@jupyter-widgets/controls",
      "model_module_version": "2.0.0",
      "model_name": "ProgressStyleModel",
      "state": {
       "description_width": ""
      }
     },
     "5689514794e447228f0ac56ca469e4e5": {
      "model_module": "@jupyter-widgets/base",
      "model_module_version": "2.0.0",
      "model_name": "LayoutModel",
      "state": {}
     },
     "56f191d7a98a48a7ab1091228305d141": {
      "model_module": "@jupyter-widgets/controls",
      "model_module_version": "2.0.0",
      "model_name": "HTMLStyleModel",
      "state": {
       "description_width": "",
       "font_size": null,
       "text_color": null
      }
     },
     "570e8cc1d2d040a6989bd1f970c664dc": {
      "model_module": "@jupyter-widgets/controls",
      "model_module_version": "2.0.0",
      "model_name": "HTMLModel",
      "state": {
       "layout": "IPY_MODEL_d4b38bae5a244197887a1cb1b83c743b",
       "style": "IPY_MODEL_85fc8ac21f1d43f0a4481a84f6654519",
       "value": "Processing CSVs: 100%"
      }
     },
     "572075c912524bd8bdcb8d32ee8a2ab1": {
      "model_module": "@jupyter-widgets/controls",
      "model_module_version": "2.0.0",
      "model_name": "HTMLStyleModel",
      "state": {
       "description_width": "",
       "font_size": null,
       "text_color": null
      }
     },
     "578793a1aba24fd99d3e7c617bd81e1e": {
      "model_module": "@jupyter-widgets/controls",
      "model_module_version": "2.0.0",
      "model_name": "HTMLModel",
      "state": {
       "layout": "IPY_MODEL_a8039e15705e4926b0c7424d14eed593",
       "style": "IPY_MODEL_c72c1afc9a2e4ab0820749fb4380b595",
       "value": " 733/744 [00:06&lt;00:00, 118.18it/s]"
      }
     },
     "578f6cb812004ea9b13f0f5b12333f30": {
      "model_module": "@jupyter-widgets/controls",
      "model_module_version": "2.0.0",
      "model_name": "HTMLModel",
      "state": {
       "layout": "IPY_MODEL_d14ee6e897514dc4a89951a4521194c7",
       "style": "IPY_MODEL_f77b48aa13624321af3ac2e09ac31285",
       "value": "Processing CSVs: 100%"
      }
     },
     "579217186e70422982aa874092d32412": {
      "model_module": "@jupyter-widgets/base",
      "model_module_version": "2.0.0",
      "model_name": "LayoutModel",
      "state": {}
     },
     "583deef438894ce7b87b7d6b6c81419b": {
      "model_module": "@jupyter-widgets/controls",
      "model_module_version": "2.0.0",
      "model_name": "HTMLModel",
      "state": {
       "layout": "IPY_MODEL_e4d3cc89b2af41c481093553cf57667e",
       "style": "IPY_MODEL_4ab89f9c93a4487499f02dd4e8953bdb",
       "value": "Processing CSVs: 100%"
      }
     },
     "5874c4994a9a409cad46e2f641692e6c": {
      "model_module": "@jupyter-widgets/base",
      "model_module_version": "2.0.0",
      "model_name": "LayoutModel",
      "state": {}
     },
     "59281f5331f641588fdc6d0009110ad1": {
      "model_module": "@jupyter-widgets/controls",
      "model_module_version": "2.0.0",
      "model_name": "ProgressStyleModel",
      "state": {
       "description_width": ""
      }
     },
     "59420c866841414bbac84ce2e40e4e60": {
      "model_module": "@jupyter-widgets/base",
      "model_module_version": "2.0.0",
      "model_name": "LayoutModel",
      "state": {}
     },
     "5a483a733724488fa76a4911bb946884": {
      "model_module": "@jupyter-widgets/controls",
      "model_module_version": "2.0.0",
      "model_name": "ProgressStyleModel",
      "state": {
       "description_width": ""
      }
     },
     "5a8ecc3a81244348886d41e471bfce3e": {
      "model_module": "@jupyter-widgets/controls",
      "model_module_version": "2.0.0",
      "model_name": "HTMLModel",
      "state": {
       "layout": "IPY_MODEL_c767b68ab71344a095ec9f75a3e07b46",
       "style": "IPY_MODEL_e16697f985644194839779ceae22c32b",
       "value": "Processing CSVs: 100%"
      }
     },
     "5a9b5e0044f14c99a97839b753d0c43a": {
      "model_module": "@jupyter-widgets/controls",
      "model_module_version": "2.0.0",
      "model_name": "HTMLStyleModel",
      "state": {
       "description_width": "",
       "font_size": null,
       "text_color": null
      }
     },
     "5ae108275d234576b6d043336bf4e9c7": {
      "model_module": "@jupyter-widgets/controls",
      "model_module_version": "2.0.0",
      "model_name": "HTMLStyleModel",
      "state": {
       "description_width": "",
       "font_size": null,
       "text_color": null
      }
     },
     "5b88864b923648848f953fb833d228b5": {
      "model_module": "@jupyter-widgets/controls",
      "model_module_version": "2.0.0",
      "model_name": "FloatProgressModel",
      "state": {
       "layout": "IPY_MODEL_1a0bc3b2ffb84173bfb50dd84ddc0f4a",
       "max": 744,
       "style": "IPY_MODEL_482cc1a59181469199b6f0048b7d4e67",
       "value": 744
      }
     },
     "5b925513ae53478480f8287400404b30": {
      "model_module": "@jupyter-widgets/controls",
      "model_module_version": "2.0.0",
      "model_name": "HTMLModel",
      "state": {
       "layout": "IPY_MODEL_509a3f42e2834884b7a3b74f9e305c8e",
       "style": "IPY_MODEL_14ae4cf346954563a21aa0e877f10f3a",
       "value": " 709/720 [00:05&lt;00:00, 125.58it/s]"
      }
     },
     "5bc80889672a4be9aaa7fc52d90b524b": {
      "model_module": "@jupyter-widgets/base",
      "model_module_version": "2.0.0",
      "model_name": "LayoutModel",
      "state": {
       "visibility": "hidden"
      }
     },
     "5bcc1d0b098c403f870c5e5fc334e548": {
      "model_module": "@jupyter-widgets/base",
      "model_module_version": "2.0.0",
      "model_name": "LayoutModel",
      "state": {}
     },
     "5c155978b6bd4d5087cf9374352e40c9": {
      "model_module": "@jupyter-widgets/controls",
      "model_module_version": "2.0.0",
      "model_name": "FloatProgressModel",
      "state": {
       "layout": "IPY_MODEL_d8a705c2cb25457a81dbbe13d35a24a2",
       "max": 744,
       "style": "IPY_MODEL_5f68e9fb3fac4eb0ace0b8122a2c912b",
       "value": 744
      }
     },
     "5c4d6dd431f54670aa85d62febc06b36": {
      "model_module": "@jupyter-widgets/controls",
      "model_module_version": "2.0.0",
      "model_name": "ProgressStyleModel",
      "state": {
       "description_width": ""
      }
     },
     "5ca776891cd144b1ae1ac5bd64307862": {
      "model_module": "@jupyter-widgets/controls",
      "model_module_version": "2.0.0",
      "model_name": "ProgressStyleModel",
      "state": {
       "description_width": ""
      }
     },
     "5cb2eefcce5e4f97bcc1d87364a42740": {
      "model_module": "@jupyter-widgets/base",
      "model_module_version": "2.0.0",
      "model_name": "LayoutModel",
      "state": {}
     },
     "5cb327b79ff7499093bdb31aca2811ff": {
      "model_module": "@jupyter-widgets/base",
      "model_module_version": "2.0.0",
      "model_name": "LayoutModel",
      "state": {
       "visibility": "hidden"
      }
     },
     "5cc3c2e8f8894963b1ec77f2fd63fff0": {
      "model_module": "@jupyter-widgets/controls",
      "model_module_version": "2.0.0",
      "model_name": "HTMLStyleModel",
      "state": {
       "description_width": "",
       "font_size": null,
       "text_color": null
      }
     },
     "5cd36f5b2c9e4bdd947a8db8a18e39fb": {
      "model_module": "@jupyter-widgets/controls",
      "model_module_version": "2.0.0",
      "model_name": "ProgressStyleModel",
      "state": {
       "description_width": ""
      }
     },
     "5d1e213e2b884941904c6e91ac802bfc": {
      "model_module": "@jupyter-widgets/controls",
      "model_module_version": "2.0.0",
      "model_name": "HTMLStyleModel",
      "state": {
       "description_width": "",
       "font_size": null,
       "text_color": null
      }
     },
     "5d47c8fb25bd41388a9af745ede93b46": {
      "model_module": "@jupyter-widgets/controls",
      "model_module_version": "2.0.0",
      "model_name": "ProgressStyleModel",
      "state": {
       "description_width": ""
      }
     },
     "5d8ec6e23fce413eae15dda66aeefb0d": {
      "model_module": "@jupyter-widgets/controls",
      "model_module_version": "2.0.0",
      "model_name": "HTMLStyleModel",
      "state": {
       "description_width": "",
       "font_size": null,
       "text_color": null
      }
     },
     "5da88d20c0d145b19ccd99350a5585ea": {
      "model_module": "@jupyter-widgets/base",
      "model_module_version": "2.0.0",
      "model_name": "LayoutModel",
      "state": {}
     },
     "5df4d25b92bc462996f5bce7aa7d305d": {
      "model_module": "@jupyter-widgets/controls",
      "model_module_version": "2.0.0",
      "model_name": "ProgressStyleModel",
      "state": {
       "description_width": ""
      }
     },
     "5e55dfd47e9c4f29a8672c865f6cc595": {
      "model_module": "@jupyter-widgets/controls",
      "model_module_version": "2.0.0",
      "model_name": "HTMLStyleModel",
      "state": {
       "description_width": "",
       "font_size": null,
       "text_color": null
      }
     },
     "5e76096e628444fdaac12100dc656299": {
      "model_module": "@jupyter-widgets/controls",
      "model_module_version": "2.0.0",
      "model_name": "HTMLStyleModel",
      "state": {
       "description_width": "",
       "font_size": null,
       "text_color": null
      }
     },
     "5ec93843baae4648be3c29e82071cc38": {
      "model_module": "@jupyter-widgets/controls",
      "model_module_version": "2.0.0",
      "model_name": "FloatProgressModel",
      "state": {
       "layout": "IPY_MODEL_be36b1d3759a40d3af0d70281ba57e36",
       "max": 3,
       "style": "IPY_MODEL_aff3c0bedd9341dea535d760d8bda8f6",
       "value": 3
      }
     },
     "5ed3131c380a41c69bb3f9eb9460f351": {
      "model_module": "@jupyter-widgets/base",
      "model_module_version": "2.0.0",
      "model_name": "LayoutModel",
      "state": {}
     },
     "5ef250efbc4c4d969fc468cd347e013c": {
      "model_module": "@jupyter-widgets/controls",
      "model_module_version": "2.0.0",
      "model_name": "ProgressStyleModel",
      "state": {
       "description_width": ""
      }
     },
     "5f252ed9f47b459596edab81f44790d0": {
      "model_module": "@jupyter-widgets/controls",
      "model_module_version": "2.0.0",
      "model_name": "ProgressStyleModel",
      "state": {
       "description_width": ""
      }
     },
     "5f26733d2e964e46ba4634d637d7011e": {
      "model_module": "@jupyter-widgets/controls",
      "model_module_version": "2.0.0",
      "model_name": "HTMLModel",
      "state": {
       "layout": "IPY_MODEL_18c583002a6a4f87ae1290b22576c6c5",
       "style": "IPY_MODEL_7c1f7e59b2654f4ea0b1422e07d4358e",
       "value": " 740/744 [00:11&lt;00:00, 66.53it/s]"
      }
     },
     "5f330447338c4358836531ea2bf990ea": {
      "model_module": "@jupyter-widgets/base",
      "model_module_version": "2.0.0",
      "model_name": "LayoutModel",
      "state": {}
     },
     "5f68e9fb3fac4eb0ace0b8122a2c912b": {
      "model_module": "@jupyter-widgets/controls",
      "model_module_version": "2.0.0",
      "model_name": "ProgressStyleModel",
      "state": {
       "description_width": ""
      }
     },
     "5f6f597af16247d69d205220e314c4ad": {
      "model_module": "@jupyter-widgets/base",
      "model_module_version": "2.0.0",
      "model_name": "LayoutModel",
      "state": {}
     },
     "5f9753cef12e42fb9ac43e83370257c2": {
      "model_module": "@jupyter-widgets/controls",
      "model_module_version": "2.0.0",
      "model_name": "HTMLStyleModel",
      "state": {
       "description_width": "",
       "font_size": null,
       "text_color": null
      }
     },
     "5ffddf881e4e4e3d8f455f3b86db89ff": {
      "model_module": "@jupyter-widgets/controls",
      "model_module_version": "2.0.0",
      "model_name": "ProgressStyleModel",
      "state": {
       "description_width": ""
      }
     },
     "6004b5fd7bdb4be8a72f2c15561e7250": {
      "model_module": "@jupyter-widgets/controls",
      "model_module_version": "2.0.0",
      "model_name": "HTMLModel",
      "state": {
       "layout": "IPY_MODEL_a2721f61737f49da8d3157cbbb1c504e",
       "style": "IPY_MODEL_e0a584e038744a3db74c4d161694c5c1",
       "value": " 3/9 [00:20&lt;00:35,  5.83s/it]"
      }
     },
     "60c1b3e16b344068bae34adc6abbf905": {
      "model_module": "@jupyter-widgets/base",
      "model_module_version": "2.0.0",
      "model_name": "LayoutModel",
      "state": {}
     },
     "60cfc75fd7dc4eeba22dd8bc17177bb9": {
      "model_module": "@jupyter-widgets/base",
      "model_module_version": "2.0.0",
      "model_name": "LayoutModel",
      "state": {}
     },
     "60f313decce94fb2a4db5b55164ed092": {
      "model_module": "@jupyter-widgets/controls",
      "model_module_version": "2.0.0",
      "model_name": "ProgressStyleModel",
      "state": {
       "description_width": ""
      }
     },
     "61187609432f49218c56916a49e84753": {
      "model_module": "@jupyter-widgets/controls",
      "model_module_version": "2.0.0",
      "model_name": "HTMLModel",
      "state": {
       "layout": "IPY_MODEL_de4a672aec5b483bb8c90fccb6746b06",
       "style": "IPY_MODEL_3057fff4dc004030bdabbb47b77ef941",
       "value": " 718/720 [00:05&lt;00:00, 150.33it/s]"
      }
     },
     "6169c0f4f5a242e7871d660e6de24106": {
      "model_module": "@jupyter-widgets/controls",
      "model_module_version": "2.0.0",
      "model_name": "HTMLModel",
      "state": {
       "layout": "IPY_MODEL_34d84a4f724d4f479e281905e60da19f",
       "style": "IPY_MODEL_fce571bf7881423699fc3d7e15028b2d",
       "value": "Processing CSVs:  99%"
      }
     },
     "619078b4a4c64547a5d7a61797ed9b52": {
      "model_module": "@jupyter-widgets/controls",
      "model_module_version": "2.0.0",
      "model_name": "FloatProgressModel",
      "state": {
       "layout": "IPY_MODEL_6397d07cc7f946c19d34a5e36253780a",
       "max": 744,
       "style": "IPY_MODEL_7b027ec812c146a2af4511adfaa2ffd3",
       "value": 744
      }
     },
     "6195491ae2934b64b05990667891a74e": {
      "model_module": "@jupyter-widgets/controls",
      "model_module_version": "2.0.0",
      "model_name": "HTMLStyleModel",
      "state": {
       "description_width": "",
       "font_size": null,
       "text_color": null
      }
     },
     "619715c249e14abdabc4b20d02e25673": {
      "model_module": "@jupyter-widgets/base",
      "model_module_version": "2.0.0",
      "model_name": "LayoutModel",
      "state": {}
     },
     "620e5789d70849dfa090da59b9a6075c": {
      "model_module": "@jupyter-widgets/base",
      "model_module_version": "2.0.0",
      "model_name": "LayoutModel",
      "state": {}
     },
     "62907095d90d4dbd9c6c68578f658838": {
      "model_module": "@jupyter-widgets/base",
      "model_module_version": "2.0.0",
      "model_name": "LayoutModel",
      "state": {}
     },
     "633c6086f8e746e3afdb32ab3a7530d8": {
      "model_module": "@jupyter-widgets/base",
      "model_module_version": "2.0.0",
      "model_name": "LayoutModel",
      "state": {}
     },
     "635b00e885524151bd28fbc7666b134a": {
      "model_module": "@jupyter-widgets/controls",
      "model_module_version": "2.0.0",
      "model_name": "ProgressStyleModel",
      "state": {
       "description_width": ""
      }
     },
     "638f71363d104a999c4327ec7f9aac58": {
      "model_module": "@jupyter-widgets/base",
      "model_module_version": "2.0.0",
      "model_name": "LayoutModel",
      "state": {
       "visibility": "hidden"
      }
     },
     "6392d305a1a5428b8c277fcbe557138e": {
      "model_module": "@jupyter-widgets/controls",
      "model_module_version": "2.0.0",
      "model_name": "FloatProgressModel",
      "state": {
       "layout": "IPY_MODEL_0fc17214957e403a8aec4be70707397c",
       "max": 3,
       "style": "IPY_MODEL_768428808b354694a72a11cfd33a0ffb",
       "value": 3
      }
     },
     "6397d07cc7f946c19d34a5e36253780a": {
      "model_module": "@jupyter-widgets/base",
      "model_module_version": "2.0.0",
      "model_name": "LayoutModel",
      "state": {}
     },
     "63c33fa9dedc452abf41e1ffbbab6f6d": {
      "model_module": "@jupyter-widgets/base",
      "model_module_version": "2.0.0",
      "model_name": "LayoutModel",
      "state": {}
     },
     "63d5045bec7c4745a714461ef8fe4e3f": {
      "model_module": "@jupyter-widgets/base",
      "model_module_version": "2.0.0",
      "model_name": "LayoutModel",
      "state": {
       "visibility": "hidden"
      }
     },
     "6418332b616e4314a05639caae30f3e0": {
      "model_module": "@jupyter-widgets/controls",
      "model_module_version": "2.0.0",
      "model_name": "FloatProgressModel",
      "state": {
       "layout": "IPY_MODEL_c30afce47a034b8fb6fad61e2530fe16",
       "max": 744,
       "style": "IPY_MODEL_e58ae5e197f04556ae41cf9e57a5b137",
       "value": 744
      }
     },
     "6498ea7d008442c3a219d31aedf11094": {
      "model_module": "@jupyter-widgets/controls",
      "model_module_version": "2.0.0",
      "model_name": "HTMLStyleModel",
      "state": {
       "description_width": "",
       "font_size": null,
       "text_color": null
      }
     },
     "64cdf96fd50b4b47911c1df6d7c3707a": {
      "model_module": "@jupyter-widgets/controls",
      "model_module_version": "2.0.0",
      "model_name": "FloatProgressModel",
      "state": {
       "layout": "IPY_MODEL_46f11b5b72b44dcb975eb3848a40ad86",
       "max": 744,
       "style": "IPY_MODEL_f80492107d924bf9a8943ab051fb3517",
       "value": 744
      }
     },
     "64eb3217a147436a9fe3920972f45eaf": {
      "model_module": "@jupyter-widgets/base",
      "model_module_version": "2.0.0",
      "model_name": "LayoutModel",
      "state": {}
     },
     "6528a95364de4caeb60f3f969a1fd97a": {
      "model_module": "@jupyter-widgets/controls",
      "model_module_version": "2.0.0",
      "model_name": "HTMLStyleModel",
      "state": {
       "description_width": "",
       "font_size": null,
       "text_color": null
      }
     },
     "65790d172b2f45218c4c24f87ced2ec2": {
      "model_module": "@jupyter-widgets/controls",
      "model_module_version": "2.0.0",
      "model_name": "ProgressStyleModel",
      "state": {
       "description_width": ""
      }
     },
     "658773233b1d471a85d906da2d065f88": {
      "model_module": "@jupyter-widgets/base",
      "model_module_version": "2.0.0",
      "model_name": "LayoutModel",
      "state": {}
     },
     "658d1dae795d44bcad2670be05e5cb67": {
      "model_module": "@jupyter-widgets/controls",
      "model_module_version": "2.0.0",
      "model_name": "ProgressStyleModel",
      "state": {
       "description_width": ""
      }
     },
     "65e1dfea6b7140ed865835aec2c3f6ef": {
      "model_module": "@jupyter-widgets/controls",
      "model_module_version": "2.0.0",
      "model_name": "ProgressStyleModel",
      "state": {
       "description_width": ""
      }
     },
     "65f5f6f4914a4f129f9186a967ec892c": {
      "model_module": "@jupyter-widgets/base",
      "model_module_version": "2.0.0",
      "model_name": "LayoutModel",
      "state": {
       "visibility": "hidden"
      }
     },
     "65fee5bae84345408784f653b2a49829": {
      "model_module": "@jupyter-widgets/base",
      "model_module_version": "2.0.0",
      "model_name": "LayoutModel",
      "state": {
       "visibility": "hidden"
      }
     },
     "662de6643c58467a94c59c6f061185b1": {
      "model_module": "@jupyter-widgets/controls",
      "model_module_version": "2.0.0",
      "model_name": "FloatProgressModel",
      "state": {
       "layout": "IPY_MODEL_075b1984dbb44226b5459ce16f522022",
       "max": 720,
       "style": "IPY_MODEL_892b50658deb4832a980109677ce733b",
       "value": 720
      }
     },
     "6643396db61e4f35967248ad50137ebf": {
      "model_module": "@jupyter-widgets/controls",
      "model_module_version": "2.0.0",
      "model_name": "HTMLModel",
      "state": {
       "layout": "IPY_MODEL_3d461a6ac14a401aade8896ab79f25e8",
       "style": "IPY_MODEL_f55785a3995c4f7ab3b2c8583b152f17",
       "value": " 740/744 [00:05&lt;00:00, 139.65it/s]"
      }
     },
     "664f02bfc6bc4b5ca7b34ca4ae645470": {
      "model_module": "@jupyter-widgets/base",
      "model_module_version": "2.0.0",
      "model_name": "LayoutModel",
      "state": {}
     },
     "665aec7e63894899bac41940d64d350d": {
      "model_module": "@jupyter-widgets/base",
      "model_module_version": "2.0.0",
      "model_name": "LayoutModel",
      "state": {}
     },
     "665e69182d2840da8c75afc5220a43be": {
      "model_module": "@jupyter-widgets/controls",
      "model_module_version": "2.0.0",
      "model_name": "ProgressStyleModel",
      "state": {
       "description_width": ""
      }
     },
     "6669255d68d54327b0e26428eb9bbdac": {
      "model_module": "@jupyter-widgets/base",
      "model_module_version": "2.0.0",
      "model_name": "LayoutModel",
      "state": {}
     },
     "66b47919e47649e2a8743e9193d3ae66": {
      "model_module": "@jupyter-widgets/controls",
      "model_module_version": "2.0.0",
      "model_name": "HTMLModel",
      "state": {
       "layout": "IPY_MODEL_1719a95c89d448fb81b84bbf26eb09a2",
       "style": "IPY_MODEL_b5bd819df4f2465fa3eccb46b9eadbf2",
       "value": "Processing CSVs:  99%"
      }
     },
     "66f3527d7955431085e7c188c97bd019": {
      "model_module": "@jupyter-widgets/base",
      "model_module_version": "2.0.0",
      "model_name": "LayoutModel",
      "state": {}
     },
     "674fcd9a698d45048569b8da358abd97": {
      "model_module": "@jupyter-widgets/controls",
      "model_module_version": "2.0.0",
      "model_name": "HTMLStyleModel",
      "state": {
       "description_width": "",
       "font_size": null,
       "text_color": null
      }
     },
     "67a1329092dd44019f293b1f0f7e6653": {
      "model_module": "@jupyter-widgets/controls",
      "model_module_version": "2.0.0",
      "model_name": "ProgressStyleModel",
      "state": {
       "description_width": ""
      }
     },
     "67a56ca920c14b43ba84a9f7eb8da3fb": {
      "model_module": "@jupyter-widgets/controls",
      "model_module_version": "2.0.0",
      "model_name": "HTMLModel",
      "state": {
       "layout": "IPY_MODEL_6c109e9e61504430a88b5cecd9cb671d",
       "style": "IPY_MODEL_77de08997c684bd4a65bc85aabbae5de",
       "value": "Processing CSVs:  99%"
      }
     },
     "67e75d7683c347fea00a2266a9b71e81": {
      "model_module": "@jupyter-widgets/base",
      "model_module_version": "2.0.0",
      "model_name": "LayoutModel",
      "state": {}
     },
     "67fded3cc81e41caacf38dbce8acac38": {
      "model_module": "@jupyter-widgets/controls",
      "model_module_version": "2.0.0",
      "model_name": "HTMLModel",
      "state": {
       "layout": "IPY_MODEL_a0a6d462b33d4c9cba2319eab84c192a",
       "style": "IPY_MODEL_22d086a6471f4bc99cf2771a0a36530f",
       "value": " 738/744 [00:12&lt;00:00, 62.14it/s]"
      }
     },
     "68776f1afa4145e1ae7ee30797f229f9": {
      "model_module": "@jupyter-widgets/controls",
      "model_module_version": "2.0.0",
      "model_name": "HTMLModel",
      "state": {
       "layout": "IPY_MODEL_aa741e1fea8e4881a2f65dc7617ffde5",
       "style": "IPY_MODEL_db2a8abf75934b0099208fd8262296f7",
       "value": "Processing Months: 100%"
      }
     },
     "688ff40b164e4d039a0f78ce491142c6": {
      "model_module": "@jupyter-widgets/controls",
      "model_module_version": "2.0.0",
      "model_name": "HTMLStyleModel",
      "state": {
       "description_width": "",
       "font_size": null,
       "text_color": null
      }
     },
     "68abc4370f7c4c3e861a9b46468719e3": {
      "model_module": "@jupyter-widgets/controls",
      "model_module_version": "2.0.0",
      "model_name": "HTMLStyleModel",
      "state": {
       "description_width": "",
       "font_size": null,
       "text_color": null
      }
     },
     "68f01952fff64c2f843a21d8be76c12a": {
      "model_module": "@jupyter-widgets/base",
      "model_module_version": "2.0.0",
      "model_name": "LayoutModel",
      "state": {}
     },
     "690246e87a754e28a8d8f7edafed6af5": {
      "model_module": "@jupyter-widgets/controls",
      "model_module_version": "2.0.0",
      "model_name": "HTMLStyleModel",
      "state": {
       "description_width": "",
       "font_size": null,
       "text_color": null
      }
     },
     "695faf530bee479eb0895ea399422935": {
      "model_module": "@jupyter-widgets/controls",
      "model_module_version": "2.0.0",
      "model_name": "HTMLStyleModel",
      "state": {
       "description_width": "",
       "font_size": null,
       "text_color": null
      }
     },
     "69785c6ed1dd4e02aa8f0f55762b7685": {
      "model_module": "@jupyter-widgets/controls",
      "model_module_version": "2.0.0",
      "model_name": "FloatProgressModel",
      "state": {
       "layout": "IPY_MODEL_6d36b264eb6f4abf8602614ee30a9c06",
       "max": 672,
       "style": "IPY_MODEL_ab975b16e32349948c6017c43d90a67d",
       "value": 672
      }
     },
     "699ce5d8474a444b9225c3064a292272": {
      "model_module": "@jupyter-widgets/controls",
      "model_module_version": "2.0.0",
      "model_name": "HTMLModel",
      "state": {
       "layout": "IPY_MODEL_99fcdb5347fc4bc989a7a6dd2172a77a",
       "style": "IPY_MODEL_d34bfbf06f76421d82e60d393accfea4",
       "value": "Processing Years:  67%"
      }
     },
     "69a641b097774d6a8f014f225c38540d": {
      "model_module": "@jupyter-widgets/controls",
      "model_module_version": "2.0.0",
      "model_name": "HTMLStyleModel",
      "state": {
       "description_width": "",
       "font_size": null,
       "text_color": null
      }
     },
     "69b5cceacd624c51aaea82cf7f435511": {
      "model_module": "@jupyter-widgets/base",
      "model_module_version": "2.0.0",
      "model_name": "LayoutModel",
      "state": {}
     },
     "69ba61144dc14f439b6ae9349f001c14": {
      "model_module": "@jupyter-widgets/controls",
      "model_module_version": "2.0.0",
      "model_name": "HTMLModel",
      "state": {
       "layout": "IPY_MODEL_26747fbfa9dd4bffa06a2706ae7dde85",
       "style": "IPY_MODEL_bf2dbb271f2e473cb98e225f6fbdd82d",
       "value": "Processing CSVs:  99%"
      }
     },
     "69da9b9aa1614cdbafcd5341fac56356": {
      "model_module": "@jupyter-widgets/controls",
      "model_module_version": "2.0.0",
      "model_name": "HTMLModel",
      "state": {
       "layout": "IPY_MODEL_7ab8e6127c36495baf3ce375c7d1e73a",
       "style": "IPY_MODEL_6eaa93efec4d4c189ab1fa2ff2fc0621",
       "value": " 734/744 [00:05&lt;00:00, 118.06it/s]"
      }
     },
     "69ffb5d70c8a4b26a8c853ad0ee403b1": {
      "model_module": "@jupyter-widgets/controls",
      "model_module_version": "2.0.0",
      "model_name": "HTMLStyleModel",
      "state": {
       "description_width": "",
       "font_size": null,
       "text_color": null
      }
     },
     "6a256c9b1e6141f4aa7ed208ab0be55e": {
      "model_module": "@jupyter-widgets/controls",
      "model_module_version": "2.0.0",
      "model_name": "HTMLStyleModel",
      "state": {
       "description_width": "",
       "font_size": null,
       "text_color": null
      }
     },
     "6a74d5dea7dd4ee185ac26a79eaf5f62": {
      "model_module": "@jupyter-widgets/base",
      "model_module_version": "2.0.0",
      "model_name": "LayoutModel",
      "state": {}
     },
     "6a7867eb42454aeaa01f6303162989f7": {
      "model_module": "@jupyter-widgets/base",
      "model_module_version": "2.0.0",
      "model_name": "LayoutModel",
      "state": {}
     },
     "6a9a660592394dbf96b8c329f7a33055": {
      "model_module": "@jupyter-widgets/controls",
      "model_module_version": "2.0.0",
      "model_name": "FloatProgressModel",
      "state": {
       "layout": "IPY_MODEL_4a1ef7c19a4d4db4963e0c34aedb2394",
       "max": 744,
       "style": "IPY_MODEL_c17df8cb5ac2431bb76ec0741040c339",
       "value": 744
      }
     },
     "6ae9b2425b544c8ca8f3ba9d89eceffe": {
      "model_module": "@jupyter-widgets/controls",
      "model_module_version": "2.0.0",
      "model_name": "HTMLStyleModel",
      "state": {
       "description_width": "",
       "font_size": null,
       "text_color": null
      }
     },
     "6b03f44990324599b6a7231455a7df38": {
      "model_module": "@jupyter-widgets/controls",
      "model_module_version": "2.0.0",
      "model_name": "HTMLModel",
      "state": {
       "layout": "IPY_MODEL_23702b3b7bb140a69a5aa2317fb6c859",
       "style": "IPY_MODEL_bc09d31978f74ad6ab5d7661abb79c5f",
       "value": "Processing CSVs:  99%"
      }
     },
     "6b2b731facfc425ea82b15941e25be7f": {
      "model_module": "@jupyter-widgets/controls",
      "model_module_version": "2.0.0",
      "model_name": "ProgressStyleModel",
      "state": {
       "description_width": ""
      }
     },
     "6b5f20ae4da845d4b46a8ad248d00839": {
      "model_module": "@jupyter-widgets/base",
      "model_module_version": "2.0.0",
      "model_name": "LayoutModel",
      "state": {}
     },
     "6b9a3c5a8b8348009085fb52a8ef330a": {
      "model_module": "@jupyter-widgets/base",
      "model_module_version": "2.0.0",
      "model_name": "LayoutModel",
      "state": {}
     },
     "6ba5c67e647c4e198eaace187c2ff97e": {
      "model_module": "@jupyter-widgets/controls",
      "model_module_version": "2.0.0",
      "model_name": "ProgressStyleModel",
      "state": {
       "description_width": ""
      }
     },
     "6c0c32785af946428900bf3573cb2c94": {
      "model_module": "@jupyter-widgets/controls",
      "model_module_version": "2.0.0",
      "model_name": "ProgressStyleModel",
      "state": {
       "description_width": ""
      }
     },
     "6c109e9e61504430a88b5cecd9cb671d": {
      "model_module": "@jupyter-widgets/base",
      "model_module_version": "2.0.0",
      "model_name": "LayoutModel",
      "state": {}
     },
     "6c1d594c9dd3409087d3f38fc51f6974": {
      "model_module": "@jupyter-widgets/controls",
      "model_module_version": "2.0.0",
      "model_name": "HTMLStyleModel",
      "state": {
       "description_width": "",
       "font_size": null,
       "text_color": null
      }
     },
     "6c3e73fefe5d47cc955917d9d353bf03": {
      "model_module": "@jupyter-widgets/base",
      "model_module_version": "2.0.0",
      "model_name": "LayoutModel",
      "state": {}
     },
     "6ca2bf3eef0d4f83aa2d36012bb27bd1": {
      "model_module": "@jupyter-widgets/base",
      "model_module_version": "2.0.0",
      "model_name": "LayoutModel",
      "state": {
       "visibility": "hidden"
      }
     },
     "6cc0d2ee520b4d80bc977c43124c1d7a": {
      "model_module": "@jupyter-widgets/controls",
      "model_module_version": "2.0.0",
      "model_name": "HTMLStyleModel",
      "state": {
       "description_width": "",
       "font_size": null,
       "text_color": null
      }
     },
     "6cddd78f6f1548d8823f06cd37ae67e4": {
      "model_module": "@jupyter-widgets/controls",
      "model_module_version": "2.0.0",
      "model_name": "FloatProgressModel",
      "state": {
       "layout": "IPY_MODEL_6a7867eb42454aeaa01f6303162989f7",
       "max": 744,
       "style": "IPY_MODEL_65e1dfea6b7140ed865835aec2c3f6ef",
       "value": 744
      }
     },
     "6cdfdad838fb4d689f9a66aba5aa24db": {
      "model_module": "@jupyter-widgets/base",
      "model_module_version": "2.0.0",
      "model_name": "LayoutModel",
      "state": {}
     },
     "6d1ef9255039485394f6384a845d5ae2": {
      "model_module": "@jupyter-widgets/controls",
      "model_module_version": "2.0.0",
      "model_name": "HTMLStyleModel",
      "state": {
       "description_width": "",
       "font_size": null,
       "text_color": null
      }
     },
     "6d26b4dd9506424c81a5c64290a31a74": {
      "model_module": "@jupyter-widgets/base",
      "model_module_version": "2.0.0",
      "model_name": "LayoutModel",
      "state": {
       "visibility": "hidden"
      }
     },
     "6d36b264eb6f4abf8602614ee30a9c06": {
      "model_module": "@jupyter-widgets/base",
      "model_module_version": "2.0.0",
      "model_name": "LayoutModel",
      "state": {}
     },
     "6d5236fb390640dfb22106143ca95881": {
      "model_module": "@jupyter-widgets/base",
      "model_module_version": "2.0.0",
      "model_name": "LayoutModel",
      "state": {}
     },
     "6d5658a2a05a490a87a6056d8a39a246": {
      "model_module": "@jupyter-widgets/base",
      "model_module_version": "2.0.0",
      "model_name": "LayoutModel",
      "state": {}
     },
     "6d715bbffcc3416b820b8daaa4b0166b": {
      "model_module": "@jupyter-widgets/controls",
      "model_module_version": "2.0.0",
      "model_name": "ProgressStyleModel",
      "state": {
       "description_width": ""
      }
     },
     "6da87d2d49184c47a36e7a5c3b3986d4": {
      "model_module": "@jupyter-widgets/controls",
      "model_module_version": "2.0.0",
      "model_name": "ProgressStyleModel",
      "state": {
       "description_width": ""
      }
     },
     "6db942f343d448e9b1dbb92c14179b48": {
      "model_module": "@jupyter-widgets/controls",
      "model_module_version": "2.0.0",
      "model_name": "HTMLModel",
      "state": {
       "layout": "IPY_MODEL_6e15c770045b4da79b04acb21041ca66",
       "style": "IPY_MODEL_7fbcff48aa8c4523a789d7af2adfc110",
       "value": " 741/744 [00:06&lt;00:00, 103.38it/s]"
      }
     },
     "6dbda99df29d42769503cfef6d77f8a2": {
      "model_module": "@jupyter-widgets/controls",
      "model_module_version": "2.0.0",
      "model_name": "HTMLStyleModel",
      "state": {
       "description_width": "",
       "font_size": null,
       "text_color": null
      }
     },
     "6dd78de2e3064d40b7df92d11922681b": {
      "model_module": "@jupyter-widgets/controls",
      "model_module_version": "2.0.0",
      "model_name": "FloatProgressModel",
      "state": {
       "layout": "IPY_MODEL_92e248735acd4b5cad9a4c8e39e954b4",
       "max": 744,
       "style": "IPY_MODEL_8710a5f4787549e1846d721ba3d9ff64",
       "value": 744
      }
     },
     "6e15c770045b4da79b04acb21041ca66": {
      "model_module": "@jupyter-widgets/base",
      "model_module_version": "2.0.0",
      "model_name": "LayoutModel",
      "state": {}
     },
     "6e44229f8e644c7688e2c3fc8ebbd89f": {
      "model_module": "@jupyter-widgets/controls",
      "model_module_version": "2.0.0",
      "model_name": "HTMLStyleModel",
      "state": {
       "description_width": "",
       "font_size": null,
       "text_color": null
      }
     },
     "6e8976987ffd431d895584c8765a17f7": {
      "model_module": "@jupyter-widgets/controls",
      "model_module_version": "2.0.0",
      "model_name": "HTMLModel",
      "state": {
       "layout": "IPY_MODEL_d3adb10f11464d2190a67b771390cbfd",
       "style": "IPY_MODEL_22468be490dd49e99d757eb00ead04e1",
       "value": "Processing CSVs:  99%"
      }
     },
     "6eaa93efec4d4c189ab1fa2ff2fc0621": {
      "model_module": "@jupyter-widgets/controls",
      "model_module_version": "2.0.0",
      "model_name": "HTMLStyleModel",
      "state": {
       "description_width": "",
       "font_size": null,
       "text_color": null
      }
     },
     "6eae537bacee4446957aa77b472c691e": {
      "model_module": "@jupyter-widgets/controls",
      "model_module_version": "2.0.0",
      "model_name": "FloatProgressModel",
      "state": {
       "layout": "IPY_MODEL_40452e5d9f304f109d7514f7e997ea32",
       "max": 744,
       "style": "IPY_MODEL_f859b4730f4a4b0da0959ddd18fcf31b",
       "value": 744
      }
     },
     "6ee6fa840f514376a600b93ea3e93bfa": {
      "model_module": "@jupyter-widgets/base",
      "model_module_version": "2.0.0",
      "model_name": "LayoutModel",
      "state": {}
     },
     "6f46e72d057d4e10be6ac98d291ac2a7": {
      "model_module": "@jupyter-widgets/controls",
      "model_module_version": "2.0.0",
      "model_name": "FloatProgressModel",
      "state": {
       "layout": "IPY_MODEL_0a09c8478af140bab1aac555068011c8",
       "max": 720,
       "style": "IPY_MODEL_dfa5e571f62b4c378da246db59ddd21b",
       "value": 720
      }
     },
     "6f9a990855be438da0a43f9b99a79480": {
      "model_module": "@jupyter-widgets/base",
      "model_module_version": "2.0.0",
      "model_name": "LayoutModel",
      "state": {}
     },
     "6fca1c3135854b27b52d997f3ab8638a": {
      "model_module": "@jupyter-widgets/controls",
      "model_module_version": "2.0.0",
      "model_name": "ProgressStyleModel",
      "state": {
       "description_width": ""
      }
     },
     "6fe777966c6b4358b6cf9807012dad86": {
      "model_module": "@jupyter-widgets/base",
      "model_module_version": "2.0.0",
      "model_name": "LayoutModel",
      "state": {}
     },
     "7001b8b126344d4ebf8e216e9fc66fc1": {
      "model_module": "@jupyter-widgets/controls",
      "model_module_version": "2.0.0",
      "model_name": "HTMLModel",
      "state": {
       "layout": "IPY_MODEL_374f472ba3434268bf2f3ff0a24aa448",
       "style": "IPY_MODEL_2d1a431a83c8495d968eb3dc34b67cf2",
       "value": "Processing CSVs:  99%"
      }
     },
     "7099a0a0e474431290528e9e8c817aaa": {
      "model_module": "@jupyter-widgets/controls",
      "model_module_version": "2.0.0",
      "model_name": "FloatProgressModel",
      "state": {
       "layout": "IPY_MODEL_fe70af1993af44d397d9f3787b5efc35",
       "max": 655,
       "style": "IPY_MODEL_f8dfce16198d46ceaadcf456eb379d29",
       "value": 655
      }
     },
     "70b16050faee46e787dafb5daf5841a7": {
      "model_module": "@jupyter-widgets/controls",
      "model_module_version": "2.0.0",
      "model_name": "HTMLStyleModel",
      "state": {
       "description_width": "",
       "font_size": null,
       "text_color": null
      }
     },
     "70c58a1c8fff46eaa68863901cddf641": {
      "model_module": "@jupyter-widgets/controls",
      "model_module_version": "2.0.0",
      "model_name": "HTMLModel",
      "state": {
       "layout": "IPY_MODEL_252aef2593414cb9b20639c011407479",
       "style": "IPY_MODEL_e3a0a969d2274ab8a2bc95cda3782c80",
       "value": "Processing CSVs:  98%"
      }
     },
     "70f3794819cd40f1a7eae5566aefc8dd": {
      "model_module": "@jupyter-widgets/controls",
      "model_module_version": "2.0.0",
      "model_name": "HTMLModel",
      "state": {
       "layout": "IPY_MODEL_cffa33b3cac1429cbff147e72252ada1",
       "style": "IPY_MODEL_c8fc46820cf241aeaa24d9b8de27cb8f",
       "value": "Processing CSVs:  99%"
      }
     },
     "70faab6fcb5449f1b1253d6b239ceb07": {
      "model_module": "@jupyter-widgets/controls",
      "model_module_version": "2.0.0",
      "model_name": "FloatProgressModel",
      "state": {
       "layout": "IPY_MODEL_e2d7fd2c28624ade8fafcb11bc6ea3e1",
       "max": 744,
       "style": "IPY_MODEL_9a26fff3b0ca4f9fa572bdb84bc84cf8",
       "value": 744
      }
     },
     "7104fa2b70bd493ab178b0ecb71970fc": {
      "model_module": "@jupyter-widgets/controls",
      "model_module_version": "2.0.0",
      "model_name": "HTMLStyleModel",
      "state": {
       "description_width": "",
       "font_size": null,
       "text_color": null
      }
     },
     "713f109f6ca74d28ae01a2836d8eaa0e": {
      "model_module": "@jupyter-widgets/base",
      "model_module_version": "2.0.0",
      "model_name": "LayoutModel",
      "state": {
       "visibility": "hidden"
      }
     },
     "7140fb34c33f477ab443ad516809f46b": {
      "model_module": "@jupyter-widgets/controls",
      "model_module_version": "2.0.0",
      "model_name": "HTMLStyleModel",
      "state": {
       "description_width": "",
       "font_size": null,
       "text_color": null
      }
     },
     "716a013a2f634ae198838d57a025d8d1": {
      "model_module": "@jupyter-widgets/base",
      "model_module_version": "2.0.0",
      "model_name": "LayoutModel",
      "state": {}
     },
     "717e9aa4671641119a2fa27642ff742e": {
      "model_module": "@jupyter-widgets/base",
      "model_module_version": "2.0.0",
      "model_name": "LayoutModel",
      "state": {
       "visibility": "hidden"
      }
     },
     "71941a61449b4f7493ac87b9b2ab4abc": {
      "model_module": "@jupyter-widgets/controls",
      "model_module_version": "2.0.0",
      "model_name": "ProgressStyleModel",
      "state": {
       "description_width": ""
      }
     },
     "71d4637dc3ef4d2fba240c6eb65140ef": {
      "model_module": "@jupyter-widgets/controls",
      "model_module_version": "2.0.0",
      "model_name": "HTMLModel",
      "state": {
       "layout": "IPY_MODEL_83ad2a489df448bbbdfa0f1a1b43ae6b",
       "style": "IPY_MODEL_13b647a2920b44d487878a822746ce3c",
       "value": "Processing CSVs:  99%"
      }
     },
     "71d990e02782496bac8619e1ae7def3c": {
      "model_module": "@jupyter-widgets/controls",
      "model_module_version": "2.0.0",
      "model_name": "HTMLStyleModel",
      "state": {
       "description_width": "",
       "font_size": null,
       "text_color": null
      }
     },
     "720c01b3515e44e18b86eb2175ecd6da": {
      "model_module": "@jupyter-widgets/controls",
      "model_module_version": "2.0.0",
      "model_name": "HTMLModel",
      "state": {
       "layout": "IPY_MODEL_45e9b4f96f5b4dd3b0616284f037005c",
       "style": "IPY_MODEL_1f2d580b31184d7bbb30f81377b92472",
       "value": " 737/744 [00:05&lt;00:00, 124.98it/s]"
      }
     },
     "722a17af25524d33bcfb97826c71b39d": {
      "model_module": "@jupyter-widgets/controls",
      "model_module_version": "2.0.0",
      "model_name": "HTMLModel",
      "state": {
       "layout": "IPY_MODEL_c6b48dba6ebd476eaf7c6856573fcdc9",
       "style": "IPY_MODEL_4eb91e84dec143688ebd7db7365257ce",
       "value": " 736/744 [00:06&lt;00:00, 101.84it/s]"
      }
     },
     "72362e7c72e44b1eb822e5ecb785466c": {
      "model_module": "@jupyter-widgets/controls",
      "model_module_version": "2.0.0",
      "model_name": "HTMLStyleModel",
      "state": {
       "description_width": "",
       "font_size": null,
       "text_color": null
      }
     },
     "7239c18f7a6f4d698640d0db0b600008": {
      "model_module": "@jupyter-widgets/controls",
      "model_module_version": "2.0.0",
      "model_name": "HTMLModel",
      "state": {
       "layout": "IPY_MODEL_eb97e7511bac4fd3b436396d6efeedcd",
       "style": "IPY_MODEL_253477016ca84612abcd2e08a40a0858",
       "value": "Processing Months: 100%"
      }
     },
     "7282837f40144f73b4d7b6a88b734d3a": {
      "model_module": "@jupyter-widgets/controls",
      "model_module_version": "2.0.0",
      "model_name": "HTMLModel",
      "state": {
       "layout": "IPY_MODEL_82898f59848745a5bf2a8462f9e1f5e0",
       "style": "IPY_MODEL_56f191d7a98a48a7ab1091228305d141",
       "value": " 738/744 [00:11&lt;00:00, 63.95it/s]"
      }
     },
     "72b37a8dfe554ed0bc9e6c3624d232d9": {
      "model_module": "@jupyter-widgets/base",
      "model_module_version": "2.0.0",
      "model_name": "LayoutModel",
      "state": {}
     },
     "72c299b9e20e4e0e858ce0a4a1d335c4": {
      "model_module": "@jupyter-widgets/controls",
      "model_module_version": "2.0.0",
      "model_name": "HTMLStyleModel",
      "state": {
       "description_width": "",
       "font_size": null,
       "text_color": null
      }
     },
     "732bb19ddf2046e7aa75afc637fedc69": {
      "model_module": "@jupyter-widgets/controls",
      "model_module_version": "2.0.0",
      "model_name": "HTMLModel",
      "state": {
       "layout": "IPY_MODEL_0c61eba4d1574b0984775a3217c6ffa6",
       "style": "IPY_MODEL_452998c2564c4de19ec998fb6405750b",
       "value": " 744/744 [00:06&lt;00:00, 103.57it/s]"
      }
     },
     "734464ec89b044bbb70610a3e44995a8": {
      "model_module": "@jupyter-widgets/controls",
      "model_module_version": "2.0.0",
      "model_name": "FloatProgressModel",
      "state": {
       "layout": "IPY_MODEL_bfca43894c2c43898b191862b2cbc14b",
       "max": 744,
       "style": "IPY_MODEL_074e1ad4d9d645029887f01c3afe5216",
       "value": 744
      }
     },
     "736faa565139475887a29d436ab963ad": {
      "model_module": "@jupyter-widgets/controls",
      "model_module_version": "2.0.0",
      "model_name": "HTMLStyleModel",
      "state": {
       "description_width": "",
       "font_size": null,
       "text_color": null
      }
     },
     "7396f75123ed40f6a22ef8ad264f33f4": {
      "model_module": "@jupyter-widgets/base",
      "model_module_version": "2.0.0",
      "model_name": "LayoutModel",
      "state": {}
     },
     "73a00724bec14c27af9f49b901e65a11": {
      "model_module": "@jupyter-widgets/controls",
      "model_module_version": "2.0.0",
      "model_name": "HTMLStyleModel",
      "state": {
       "description_width": "",
       "font_size": null,
       "text_color": null
      }
     },
     "73acdbafe37d4efdb90ea53f47b6b188": {
      "model_module": "@jupyter-widgets/base",
      "model_module_version": "2.0.0",
      "model_name": "LayoutModel",
      "state": {
       "visibility": "hidden"
      }
     },
     "73afb2cf5c8b4fc7b5183f05b9efe2df": {
      "model_module": "@jupyter-widgets/base",
      "model_module_version": "2.0.0",
      "model_name": "LayoutModel",
      "state": {}
     },
     "73b0d194f74740b987fe0c10edf8ea9a": {
      "model_module": "@jupyter-widgets/base",
      "model_module_version": "2.0.0",
      "model_name": "LayoutModel",
      "state": {}
     },
     "73b62405ede7470bb955bca05cd46500": {
      "model_module": "@jupyter-widgets/base",
      "model_module_version": "2.0.0",
      "model_name": "LayoutModel",
      "state": {
       "visibility": "hidden"
      }
     },
     "73c5642fa16d48baa8a3823c039c9d03": {
      "model_module": "@jupyter-widgets/controls",
      "model_module_version": "2.0.0",
      "model_name": "FloatProgressModel",
      "state": {
       "layout": "IPY_MODEL_18031e75ee99471087a0f2b956fa172b",
       "max": 672,
       "style": "IPY_MODEL_f4d4a6642fd5414abba63eabc6a48fbc",
       "value": 672
      }
     },
     "7426c869bbbf4fb8a3a20db38ec6b39f": {
      "model_module": "@jupyter-widgets/controls",
      "model_module_version": "2.0.0",
      "model_name": "HTMLModel",
      "state": {
       "layout": "IPY_MODEL_258167e385da4718b7fbc534eb50a623",
       "style": "IPY_MODEL_96d511dadd114b6e85e6a9545c101010",
       "value": " 2/3 [02:04&lt;00:55, 55.24s/it]"
      }
     },
     "7432e0f7c4154aff8bde04cc8255be0f": {
      "model_module": "@jupyter-widgets/base",
      "model_module_version": "2.0.0",
      "model_name": "LayoutModel",
      "state": {
       "visibility": "hidden"
      }
     },
     "7463192b42904db98bff6a1485568227": {
      "model_module": "@jupyter-widgets/controls",
      "model_module_version": "2.0.0",
      "model_name": "HTMLStyleModel",
      "state": {
       "description_width": "",
       "font_size": null,
       "text_color": null
      }
     },
     "7469cab5d1ed4a438e56271ec9179797": {
      "model_module": "@jupyter-widgets/base",
      "model_module_version": "2.0.0",
      "model_name": "LayoutModel",
      "state": {
       "visibility": "hidden"
      }
     },
     "74c047132c1d4a878e6299213bec46aa": {
      "model_module": "@jupyter-widgets/controls",
      "model_module_version": "2.0.0",
      "model_name": "HTMLStyleModel",
      "state": {
       "description_width": "",
       "font_size": null,
       "text_color": null
      }
     },
     "74d60bc9b4bd4cab976adab49a004cfa": {
      "model_module": "@jupyter-widgets/controls",
      "model_module_version": "2.0.0",
      "model_name": "FloatProgressModel",
      "state": {
       "layout": "IPY_MODEL_f00399b4e57d40719c5f7a4fb1915f68",
       "max": 720,
       "style": "IPY_MODEL_e24e2b5392a746b4bdf8130ce7db8f64",
       "value": 720
      }
     },
     "752270ce821749f98118874fdf834dea": {
      "model_module": "@jupyter-widgets/controls",
      "model_module_version": "2.0.0",
      "model_name": "FloatProgressModel",
      "state": {
       "layout": "IPY_MODEL_d39010f30f584d3f8b00400133fc3206",
       "max": 744,
       "style": "IPY_MODEL_540f5698c78b427098c34b062453bbd0",
       "value": 744
      }
     },
     "75900092a8a240b58b318f82b3bcad41": {
      "model_module": "@jupyter-widgets/controls",
      "model_module_version": "2.0.0",
      "model_name": "HTMLModel",
      "state": {
       "layout": "IPY_MODEL_f8501c7c0fb54eeeb85d969da2efb7e0",
       "style": "IPY_MODEL_9f544ae10aed4a6b9b51a967908e96e8",
       "value": "Processing CSVs:  99%"
      }
     },
     "7590a3358d544dbcba7cd3cb6b77d4d9": {
      "model_module": "@jupyter-widgets/controls",
      "model_module_version": "2.0.0",
      "model_name": "HTMLModel",
      "state": {
       "layout": "IPY_MODEL_90b14e856cbb4ed9bbdae509539cbc18",
       "style": "IPY_MODEL_da7a29f8de764261892dc2babdf54323",
       "value": " 734/744 [00:05&lt;00:00, 136.19it/s]"
      }
     },
     "7595c3eac2c7405ca1c963e2292ba692": {
      "model_module": "@jupyter-widgets/controls",
      "model_module_version": "2.0.0",
      "model_name": "HTMLModel",
      "state": {
       "layout": "IPY_MODEL_c325825da627475fb06aff65048022f0",
       "style": "IPY_MODEL_d72b8ba96e0947c8b61a298e166d8744",
       "value": " 714/720 [00:06&lt;00:00, 100.12it/s]"
      }
     },
     "763041f52eea496b95b97aa8306d8c8b": {
      "model_module": "@jupyter-widgets/controls",
      "model_module_version": "2.0.0",
      "model_name": "HTMLModel",
      "state": {
       "layout": "IPY_MODEL_d2604111b8d74bb88666bc457163e937",
       "style": "IPY_MODEL_6ae9b2425b544c8ca8f3ba9d89eceffe",
       "value": "Processing Years: 100%"
      }
     },
     "766b06bb3907407bb811aa4d1938712f": {
      "model_module": "@jupyter-widgets/base",
      "model_module_version": "2.0.0",
      "model_name": "LayoutModel",
      "state": {}
     },
     "768428808b354694a72a11cfd33a0ffb": {
      "model_module": "@jupyter-widgets/controls",
      "model_module_version": "2.0.0",
      "model_name": "ProgressStyleModel",
      "state": {
       "description_width": ""
      }
     },
     "76a1fcb963ae44baad9b9199e72cffbc": {
      "model_module": "@jupyter-widgets/controls",
      "model_module_version": "2.0.0",
      "model_name": "HTMLModel",
      "state": {
       "layout": "IPY_MODEL_d0f176df04e646e6b37f271df2249f2c",
       "style": "IPY_MODEL_101064ba3345457d9053498e5565a3d9",
       "value": "Processing CSVs:  99%"
      }
     },
     "76b4e470908d4b77ad9dee113e85703f": {
      "model_module": "@jupyter-widgets/controls",
      "model_module_version": "2.0.0",
      "model_name": "HTMLModel",
      "state": {
       "layout": "IPY_MODEL_7dabc4556cae4d60beb8dd66f5daad75",
       "style": "IPY_MODEL_dcf8ee5b58074fc9915fa92b40450509",
       "value": " 655/655 [00:05&lt;00:00, 127.96it/s]"
      }
     },
     "77b9ef63abae4d71b470b0482020926d": {
      "model_module": "@jupyter-widgets/controls",
      "model_module_version": "2.0.0",
      "model_name": "HTMLStyleModel",
      "state": {
       "description_width": "",
       "font_size": null,
       "text_color": null
      }
     },
     "77c8c2a701aa42edb9af8603b1ba638b": {
      "model_module": "@jupyter-widgets/controls",
      "model_module_version": "2.0.0",
      "model_name": "HTMLStyleModel",
      "state": {
       "description_width": "",
       "font_size": null,
       "text_color": null
      }
     },
     "77cb646af7694d1e9f74a6ce240bcf87": {
      "model_module": "@jupyter-widgets/base",
      "model_module_version": "2.0.0",
      "model_name": "LayoutModel",
      "state": {
       "visibility": "hidden"
      }
     },
     "77de08997c684bd4a65bc85aabbae5de": {
      "model_module": "@jupyter-widgets/controls",
      "model_module_version": "2.0.0",
      "model_name": "HTMLStyleModel",
      "state": {
       "description_width": "",
       "font_size": null,
       "text_color": null
      }
     },
     "7802afa27d35431b8fd54092877d0a8f": {
      "model_module": "@jupyter-widgets/controls",
      "model_module_version": "2.0.0",
      "model_name": "HTMLModel",
      "state": {
       "layout": "IPY_MODEL_a89b935709654e70988b03ba88fb09b6",
       "style": "IPY_MODEL_2bc84cd430d04701b3dbdb4fd107cf98",
       "value": " 740/744 [00:12&lt;00:00, 57.55it/s]"
      }
     },
     "78229edbcdc24deca1e6bb56d3a33375": {
      "model_module": "@jupyter-widgets/controls",
      "model_module_version": "2.0.0",
      "model_name": "HTMLModel",
      "state": {
       "layout": "IPY_MODEL_bfc88e0644384914b60d04a15c67fad1",
       "style": "IPY_MODEL_bb6d2e84bfea4ca5baa5e37156c4749d",
       "value": "Processing CSVs:  99%"
      }
     },
     "782db0e1a68e4e27bf465f641d6220e7": {
      "model_module": "@jupyter-widgets/controls",
      "model_module_version": "2.0.0",
      "model_name": "HTMLModel",
      "state": {
       "layout": "IPY_MODEL_5f330447338c4358836531ea2bf990ea",
       "style": "IPY_MODEL_cf20912a9b0544edb5f625fa3c2fd374",
       "value": " 738/744 [00:06&lt;00:00, 111.54it/s]"
      }
     },
     "789423aae0d34cbdb5bafc03e1962ed1": {
      "model_module": "@jupyter-widgets/base",
      "model_module_version": "2.0.0",
      "model_name": "LayoutModel",
      "state": {}
     },
     "78affc903de94d5aba19d13ff4fb6c57": {
      "model_module": "@jupyter-widgets/base",
      "model_module_version": "2.0.0",
      "model_name": "LayoutModel",
      "state": {}
     },
     "78bb5bc2cc2c417dbbba450872d78508": {
      "model_module": "@jupyter-widgets/controls",
      "model_module_version": "2.0.0",
      "model_name": "HTMLModel",
      "state": {
       "layout": "IPY_MODEL_acf722075e87441b834031cb89bcc7b4",
       "style": "IPY_MODEL_72362e7c72e44b1eb822e5ecb785466c",
       "value": " 645/655 [00:05&lt;00:00, 130.14it/s]"
      }
     },
     "78bcf79ccb9347b48a7b020eee3db947": {
      "model_module": "@jupyter-widgets/base",
      "model_module_version": "2.0.0",
      "model_name": "LayoutModel",
      "state": {}
     },
     "78bf0f0c7c6f4f4bbff09f8f8ca6fc5c": {
      "model_module": "@jupyter-widgets/base",
      "model_module_version": "2.0.0",
      "model_name": "LayoutModel",
      "state": {}
     },
     "7924df52aec542d6b21a5c7ba7b89949": {
      "model_module": "@jupyter-widgets/base",
      "model_module_version": "2.0.0",
      "model_name": "LayoutModel",
      "state": {}
     },
     "7936860d3a3945ad9d09e130f8ae3bb5": {
      "model_module": "@jupyter-widgets/base",
      "model_module_version": "2.0.0",
      "model_name": "LayoutModel",
      "state": {
       "visibility": "hidden"
      }
     },
     "793e885b1a62431c9801ca565874469b": {
      "model_module": "@jupyter-widgets/controls",
      "model_module_version": "2.0.0",
      "model_name": "ProgressStyleModel",
      "state": {
       "description_width": ""
      }
     },
     "795c3cd002ac45339fd0af4785b1876d": {
      "model_module": "@jupyter-widgets/controls",
      "model_module_version": "2.0.0",
      "model_name": "HTMLModel",
      "state": {
       "layout": "IPY_MODEL_5444cd8b54c3462a8997fa3726247faf",
       "style": "IPY_MODEL_38e9b14ff1bc45138b6e7854d47dac53",
       "value": " 710/720 [00:05&lt;00:00, 119.66it/s]"
      }
     },
     "7986dbb22980455fa6fc687d6e9d4d35": {
      "model_module": "@jupyter-widgets/controls",
      "model_module_version": "2.0.0",
      "model_name": "HTMLModel",
      "state": {
       "layout": "IPY_MODEL_c4b6579792154effbcc2f97538248e2b",
       "style": "IPY_MODEL_c5ee9e80b78242d195176f8b8891d13c",
       "value": "Processing Months: 100%"
      }
     },
     "7991de679de948058991669dfd6fc3db": {
      "model_module": "@jupyter-widgets/controls",
      "model_module_version": "2.0.0",
      "model_name": "HTMLModel",
      "state": {
       "layout": "IPY_MODEL_62907095d90d4dbd9c6c68578f658838",
       "style": "IPY_MODEL_dacd7714caae417f93893120b0c24f6c",
       "value": "Processing CSVs: 100%"
      }
     },
     "79e78f7416db4720b2ca7982a357951e": {
      "model_module": "@jupyter-widgets/base",
      "model_module_version": "2.0.0",
      "model_name": "LayoutModel",
      "state": {}
     },
     "7a68c4cfb65a41c48d9aa52f2f76cb3e": {
      "model_module": "@jupyter-widgets/base",
      "model_module_version": "2.0.0",
      "model_name": "LayoutModel",
      "state": {}
     },
     "7a79ebc2b15b44b8b4ec2e253fdcd34f": {
      "model_module": "@jupyter-widgets/base",
      "model_module_version": "2.0.0",
      "model_name": "LayoutModel",
      "state": {}
     },
     "7ab1d3ad939d4ee997dab0b1b192d0eb": {
      "model_module": "@jupyter-widgets/base",
      "model_module_version": "2.0.0",
      "model_name": "LayoutModel",
      "state": {
       "visibility": "hidden"
      }
     },
     "7ab8e6127c36495baf3ce375c7d1e73a": {
      "model_module": "@jupyter-widgets/base",
      "model_module_version": "2.0.0",
      "model_name": "LayoutModel",
      "state": {}
     },
     "7af23cd8af024a68b403201ac76e767d": {
      "model_module": "@jupyter-widgets/base",
      "model_module_version": "2.0.0",
      "model_name": "LayoutModel",
      "state": {
       "visibility": "hidden"
      }
     },
     "7b027ec812c146a2af4511adfaa2ffd3": {
      "model_module": "@jupyter-widgets/controls",
      "model_module_version": "2.0.0",
      "model_name": "ProgressStyleModel",
      "state": {
       "description_width": ""
      }
     },
     "7b10db836f5746f29c48533be82a1839": {
      "model_module": "@jupyter-widgets/controls",
      "model_module_version": "2.0.0",
      "model_name": "FloatProgressModel",
      "state": {
       "layout": "IPY_MODEL_2173de00b39b4423a6d511ab0bb5983d",
       "max": 720,
       "style": "IPY_MODEL_83d1564fd44440c592e21d2f6c434ac0",
       "value": 720
      }
     },
     "7bc51327579645a0a21f7bfe419e0e3b": {
      "model_module": "@jupyter-widgets/base",
      "model_module_version": "2.0.0",
      "model_name": "LayoutModel",
      "state": {}
     },
     "7c1f7e59b2654f4ea0b1422e07d4358e": {
      "model_module": "@jupyter-widgets/controls",
      "model_module_version": "2.0.0",
      "model_name": "HTMLStyleModel",
      "state": {
       "description_width": "",
       "font_size": null,
       "text_color": null
      }
     },
     "7c545186653a48ce9355d14510544ce4": {
      "model_module": "@jupyter-widgets/base",
      "model_module_version": "2.0.0",
      "model_name": "LayoutModel",
      "state": {}
     },
     "7ca3d655a8cf424ab88c40ec07cf0274": {
      "model_module": "@jupyter-widgets/base",
      "model_module_version": "2.0.0",
      "model_name": "LayoutModel",
      "state": {}
     },
     "7cb282c6d4414b778363cf1dcd2b4209": {
      "model_module": "@jupyter-widgets/controls",
      "model_module_version": "2.0.0",
      "model_name": "FloatProgressModel",
      "state": {
       "layout": "IPY_MODEL_4a53e4d0ff9145f2a316e919a66ecd3e",
       "max": 9,
       "style": "IPY_MODEL_5ffddf881e4e4e3d8f455f3b86db89ff",
       "value": 9
      }
     },
     "7ccba16d3db4469b86af95fe8bd76a03": {
      "model_module": "@jupyter-widgets/controls",
      "model_module_version": "2.0.0",
      "model_name": "HTMLModel",
      "state": {
       "layout": "IPY_MODEL_0a8c557a1f8a4464a915092aa5e6ecb9",
       "style": "IPY_MODEL_4834323a25ed488184a3acc135fe7837",
       "value": " 733/744 [00:05&lt;00:00, 126.71it/s]"
      }
     },
     "7da0250027e848bebaf1a2ccba5a15b3": {
      "model_module": "@jupyter-widgets/controls",
      "model_module_version": "2.0.0",
      "model_name": "HTMLStyleModel",
      "state": {
       "description_width": "",
       "font_size": null,
       "text_color": null
      }
     },
     "7da36e0a9b7741e4823533de71b569fe": {
      "model_module": "@jupyter-widgets/controls",
      "model_module_version": "2.0.0",
      "model_name": "HTMLModel",
      "state": {
       "layout": "IPY_MODEL_7a68c4cfb65a41c48d9aa52f2f76cb3e",
       "style": "IPY_MODEL_2dca4b146b164deb987c7b7f483fa42f",
       "value": "Processing CSVs: 100%"
      }
     },
     "7dabc4556cae4d60beb8dd66f5daad75": {
      "model_module": "@jupyter-widgets/base",
      "model_module_version": "2.0.0",
      "model_name": "LayoutModel",
      "state": {}
     },
     "7dcfec6a23cc4f2885075f75b946f3cb": {
      "model_module": "@jupyter-widgets/base",
      "model_module_version": "2.0.0",
      "model_name": "LayoutModel",
      "state": {}
     },
     "7e0799386fbe4faebd4d6b12d1e1621f": {
      "model_module": "@jupyter-widgets/controls",
      "model_module_version": "2.0.0",
      "model_name": "ProgressStyleModel",
      "state": {
       "description_width": ""
      }
     },
     "7e09d34a02004f00a6b4f72ca0eee223": {
      "model_module": "@jupyter-widgets/controls",
      "model_module_version": "2.0.0",
      "model_name": "HTMLStyleModel",
      "state": {
       "description_width": "",
       "font_size": null,
       "text_color": null
      }
     },
     "7e56d33512bf4515b96afe07dcfbb3dd": {
      "model_module": "@jupyter-widgets/base",
      "model_module_version": "2.0.0",
      "model_name": "LayoutModel",
      "state": {}
     },
     "7eb0109a8cb842bda4180e33d475258c": {
      "model_module": "@jupyter-widgets/base",
      "model_module_version": "2.0.0",
      "model_name": "LayoutModel",
      "state": {}
     },
     "7f6ab311a77c49e18f176d3e98de11d9": {
      "model_module": "@jupyter-widgets/base",
      "model_module_version": "2.0.0",
      "model_name": "LayoutModel",
      "state": {
       "visibility": "hidden"
      }
     },
     "7f9e2dc4886d493b8a5559ea736ac7df": {
      "model_module": "@jupyter-widgets/controls",
      "model_module_version": "2.0.0",
      "model_name": "HTMLModel",
      "state": {
       "layout": "IPY_MODEL_ea1fd009960c48e798462b78554ce300",
       "style": "IPY_MODEL_dc6a6d191c5145ad9cef44cade69abe6",
       "value": "Processing CSVs: 100%"
      }
     },
     "7fbcff48aa8c4523a789d7af2adfc110": {
      "model_module": "@jupyter-widgets/controls",
      "model_module_version": "2.0.0",
      "model_name": "HTMLStyleModel",
      "state": {
       "description_width": "",
       "font_size": null,
       "text_color": null
      }
     },
     "7fcef6fa0bd34653987ccdfec5a97a13": {
      "model_module": "@jupyter-widgets/controls",
      "model_module_version": "2.0.0",
      "model_name": "HTMLStyleModel",
      "state": {
       "description_width": "",
       "font_size": null,
       "text_color": null
      }
     },
     "8009cc668f3a48dbb7de0e98bf93838e": {
      "model_module": "@jupyter-widgets/base",
      "model_module_version": "2.0.0",
      "model_name": "LayoutModel",
      "state": {}
     },
     "803dcc913a5244c38e6745cdae028f66": {
      "model_module": "@jupyter-widgets/controls",
      "model_module_version": "2.0.0",
      "model_name": "HTMLStyleModel",
      "state": {
       "description_width": "",
       "font_size": null,
       "text_color": null
      }
     },
     "80770ee59ac0444499b83771695cb3da": {
      "model_module": "@jupyter-widgets/base",
      "model_module_version": "2.0.0",
      "model_name": "LayoutModel",
      "state": {}
     },
     "807dad48e66642de973a433e6f88ee6a": {
      "model_module": "@jupyter-widgets/controls",
      "model_module_version": "2.0.0",
      "model_name": "HTMLModel",
      "state": {
       "layout": "IPY_MODEL_33fd71e95b544cd6898b3c99e2ebe9d6",
       "style": "IPY_MODEL_8156a4f4d998469689f74496501ba1a1",
       "value": " 739/744 [00:06&lt;00:00, 122.03it/s]"
      }
     },
     "809dec791a2440549370b670011f5198": {
      "model_module": "@jupyter-widgets/base",
      "model_module_version": "2.0.0",
      "model_name": "LayoutModel",
      "state": {}
     },
     "80b54ecb98f340bd93281ef5fa4d25a5": {
      "model_module": "@jupyter-widgets/controls",
      "model_module_version": "2.0.0",
      "model_name": "ProgressStyleModel",
      "state": {
       "description_width": ""
      }
     },
     "80bea51130d348d6a398a138d258bbb5": {
      "model_module": "@jupyter-widgets/controls",
      "model_module_version": "2.0.0",
      "model_name": "HTMLModel",
      "state": {
       "layout": "IPY_MODEL_665aec7e63894899bac41940d64d350d",
       "style": "IPY_MODEL_4d2cbe11239240f09f86c6f44ccfd2a5",
       "value": "Processing CSVs:  99%"
      }
     },
     "80bf1f1a24b2415ab1089788dc047667": {
      "model_module": "@jupyter-widgets/controls",
      "model_module_version": "2.0.0",
      "model_name": "HTMLStyleModel",
      "state": {
       "description_width": "",
       "font_size": null,
       "text_color": null
      }
     },
     "80d0e68ac84a42dba8742b63f8b076dd": {
      "model_module": "@jupyter-widgets/base",
      "model_module_version": "2.0.0",
      "model_name": "LayoutModel",
      "state": {
       "visibility": "hidden"
      }
     },
     "80dba39785d84a6481fb3f93ccd18680": {
      "model_module": "@jupyter-widgets/controls",
      "model_module_version": "2.0.0",
      "model_name": "FloatProgressModel",
      "state": {
       "layout": "IPY_MODEL_9567cd70342e449bbddf634700b00743",
       "max": 720,
       "style": "IPY_MODEL_b0e7a626c766442d91277d5543863720",
       "value": 720
      }
     },
     "80e720e468094e41b6a1e3921c43093f": {
      "model_module": "@jupyter-widgets/base",
      "model_module_version": "2.0.0",
      "model_name": "LayoutModel",
      "state": {}
     },
     "80fd893b376e41928bb1dcac0eef72cf": {
      "model_module": "@jupyter-widgets/base",
      "model_module_version": "2.0.0",
      "model_name": "LayoutModel",
      "state": {}
     },
     "8105a36b3bb4449f97c1d5381563e073": {
      "model_module": "@jupyter-widgets/base",
      "model_module_version": "2.0.0",
      "model_name": "LayoutModel",
      "state": {}
     },
     "810dea162c91482fabad9db4fb264b3f": {
      "model_module": "@jupyter-widgets/controls",
      "model_module_version": "2.0.0",
      "model_name": "HTMLStyleModel",
      "state": {
       "description_width": "",
       "font_size": null,
       "text_color": null
      }
     },
     "8156a4f4d998469689f74496501ba1a1": {
      "model_module": "@jupyter-widgets/controls",
      "model_module_version": "2.0.0",
      "model_name": "HTMLStyleModel",
      "state": {
       "description_width": "",
       "font_size": null,
       "text_color": null
      }
     },
     "81633bee03fa442a92a12b88f51ed862": {
      "model_module": "@jupyter-widgets/controls",
      "model_module_version": "2.0.0",
      "model_name": "FloatProgressModel",
      "state": {
       "layout": "IPY_MODEL_9a39ba085f62457bb355a20f1199079a",
       "max": 6,
       "style": "IPY_MODEL_df2a20d44d4f4932a567a6acd7d160a4",
       "value": 6
      }
     },
     "817d7597b2a44ea18ae0d1cdeaf5a02d": {
      "model_module": "@jupyter-widgets/controls",
      "model_module_version": "2.0.0",
      "model_name": "HTMLStyleModel",
      "state": {
       "description_width": "",
       "font_size": null,
       "text_color": null
      }
     },
     "81890f03fa3c4257b7015e640088adf2": {
      "model_module": "@jupyter-widgets/base",
      "model_module_version": "2.0.0",
      "model_name": "LayoutModel",
      "state": {}
     },
     "822b652af33c475a9f806452094ffa5c": {
      "model_module": "@jupyter-widgets/controls",
      "model_module_version": "2.0.0",
      "model_name": "HTMLModel",
      "state": {
       "layout": "IPY_MODEL_c2444f295b4b48309f36e8f6cd20fe01",
       "style": "IPY_MODEL_8ade33ac56844177b3a5f4d765d64aae",
       "value": "Processing Months: 100%"
      }
     },
     "82380fe9efac49539c95685fb60262a5": {
      "model_module": "@jupyter-widgets/base",
      "model_module_version": "2.0.0",
      "model_name": "LayoutModel",
      "state": {}
     },
     "8238ce0a23c840978d12821094f01856": {
      "model_module": "@jupyter-widgets/base",
      "model_module_version": "2.0.0",
      "model_name": "LayoutModel",
      "state": {}
     },
     "827b995723eb4434897e6e26d6af3813": {
      "model_module": "@jupyter-widgets/controls",
      "model_module_version": "2.0.0",
      "model_name": "HTMLStyleModel",
      "state": {
       "description_width": "",
       "font_size": null,
       "text_color": null
      }
     },
     "827d1b25064246029ab5b2f4399f39cb": {
      "model_module": "@jupyter-widgets/controls",
      "model_module_version": "2.0.0",
      "model_name": "FloatProgressModel",
      "state": {
       "layout": "IPY_MODEL_c916646c07f44cf2894be33bc53053c7",
       "max": 655,
       "style": "IPY_MODEL_ea3fd81f8081491893f906d2f74f3bde",
       "value": 655
      }
     },
     "82898f59848745a5bf2a8462f9e1f5e0": {
      "model_module": "@jupyter-widgets/base",
      "model_module_version": "2.0.0",
      "model_name": "LayoutModel",
      "state": {}
     },
     "82b84f37b90e449cb97e69650dcee0b2": {
      "model_module": "@jupyter-widgets/base",
      "model_module_version": "2.0.0",
      "model_name": "LayoutModel",
      "state": {}
     },
     "82fabf60eff74c249e511e08c34d59ba": {
      "model_module": "@jupyter-widgets/controls",
      "model_module_version": "2.0.0",
      "model_name": "HTMLModel",
      "state": {
       "layout": "IPY_MODEL_1f0f5671cedf44ec8e841da55e3753b5",
       "style": "IPY_MODEL_c671c14e38db4cf194d0ba7919aceaa9",
       "value": "Processing CSVs:  99%"
      }
     },
     "8310090dd13845d2b9db61be7f3fa279": {
      "model_module": "@jupyter-widgets/controls",
      "model_module_version": "2.0.0",
      "model_name": "FloatProgressModel",
      "state": {
       "layout": "IPY_MODEL_dd9f051f5fcd468eb6a28d8a99fff488",
       "max": 6,
       "style": "IPY_MODEL_55edac4aa82141eea909d4085ac13250",
       "value": 6
      }
     },
     "8324be62f4364a9798cdb1f7a9684f0c": {
      "model_module": "@jupyter-widgets/controls",
      "model_module_version": "2.0.0",
      "model_name": "HTMLModel",
      "state": {
       "layout": "IPY_MODEL_832a8b5a516541b492ea68a4f725fdd3",
       "style": "IPY_MODEL_69ffb5d70c8a4b26a8c853ad0ee403b1",
       "value": " 737/744 [00:06&lt;00:00, 112.45it/s]"
      }
     },
     "832a8b5a516541b492ea68a4f725fdd3": {
      "model_module": "@jupyter-widgets/base",
      "model_module_version": "2.0.0",
      "model_name": "LayoutModel",
      "state": {}
     },
     "8342380c20634ee084c44546102c706e": {
      "model_module": "@jupyter-widgets/base",
      "model_module_version": "2.0.0",
      "model_name": "LayoutModel",
      "state": {
       "visibility": "hidden"
      }
     },
     "8352c9f65841488997d82fe81065ae61": {
      "model_module": "@jupyter-widgets/controls",
      "model_module_version": "2.0.0",
      "model_name": "HTMLModel",
      "state": {
       "layout": "IPY_MODEL_db23d8f66bf04fb1904152bb73abb4c8",
       "style": "IPY_MODEL_d107c7a4353a41e5bf6fe97f6637b7c8",
       "value": " 743/744 [00:11&lt;00:00, 57.47it/s]"
      }
     },
     "835597646c1d4b688a87383aa1478459": {
      "model_module": "@jupyter-widgets/controls",
      "model_module_version": "2.0.0",
      "model_name": "FloatProgressModel",
      "state": {
       "layout": "IPY_MODEL_a74e7a547b674dccb4b114ba91456520",
       "max": 744,
       "style": "IPY_MODEL_98f23abefae84ead939493fcebe01085",
       "value": 744
      }
     },
     "8386d053e10b4d548984ed22bd8d153b": {
      "model_module": "@jupyter-widgets/base",
      "model_module_version": "2.0.0",
      "model_name": "LayoutModel",
      "state": {}
     },
     "83a3ec09ccbb445aa37001081913a456": {
      "model_module": "@jupyter-widgets/base",
      "model_module_version": "2.0.0",
      "model_name": "LayoutModel",
      "state": {
       "visibility": "hidden"
      }
     },
     "83ad2a489df448bbbdfa0f1a1b43ae6b": {
      "model_module": "@jupyter-widgets/base",
      "model_module_version": "2.0.0",
      "model_name": "LayoutModel",
      "state": {}
     },
     "83b803cecfeb4a9ba7ac77fbe9b6e8c4": {
      "model_module": "@jupyter-widgets/base",
      "model_module_version": "2.0.0",
      "model_name": "LayoutModel",
      "state": {}
     },
     "83cc9110ef194694883cd35a3052091c": {
      "model_module": "@jupyter-widgets/base",
      "model_module_version": "2.0.0",
      "model_name": "LayoutModel",
      "state": {}
     },
     "83d1564fd44440c592e21d2f6c434ac0": {
      "model_module": "@jupyter-widgets/controls",
      "model_module_version": "2.0.0",
      "model_name": "ProgressStyleModel",
      "state": {
       "description_width": ""
      }
     },
     "83d6b0f682334fd9bbe0b5ea9550f6dc": {
      "model_module": "@jupyter-widgets/controls",
      "model_module_version": "2.0.0",
      "model_name": "FloatProgressModel",
      "state": {
       "layout": "IPY_MODEL_1d23fb2126ef415987e136a8a8b999d7",
       "max": 6,
       "style": "IPY_MODEL_7e0799386fbe4faebd4d6b12d1e1621f",
       "value": 6
      }
     },
     "83dd74311d734e8b94ce9224ab0b9317": {
      "model_module": "@jupyter-widgets/controls",
      "model_module_version": "2.0.0",
      "model_name": "ProgressStyleModel",
      "state": {
       "description_width": ""
      }
     },
     "83e045b8a7834675b101e4edce0b34cb": {
      "model_module": "@jupyter-widgets/base",
      "model_module_version": "2.0.0",
      "model_name": "LayoutModel",
      "state": {}
     },
     "83e8fe48af734c7da1ab79a451819778": {
      "model_module": "@jupyter-widgets/base",
      "model_module_version": "2.0.0",
      "model_name": "LayoutModel",
      "state": {}
     },
     "8407eb66f8484e7a9c05a22fa206a592": {
      "model_module": "@jupyter-widgets/base",
      "model_module_version": "2.0.0",
      "model_name": "LayoutModel",
      "state": {}
     },
     "843fe833e6c343dc84974b3a70851d4a": {
      "model_module": "@jupyter-widgets/controls",
      "model_module_version": "2.0.0",
      "model_name": "HTMLModel",
      "state": {
       "layout": "IPY_MODEL_9b2422447f424cf1a4ae8c4b203d7c4e",
       "style": "IPY_MODEL_5e76096e628444fdaac12100dc656299",
       "value": "Processing Years: 100%"
      }
     },
     "846e49c1a624464f9d09c70b6cebc0b0": {
      "model_module": "@jupyter-widgets/controls",
      "model_module_version": "2.0.0",
      "model_name": "HTMLStyleModel",
      "state": {
       "description_width": "",
       "font_size": null,
       "text_color": null
      }
     },
     "847575f1fcb44bb69484e6db1e19e5d9": {
      "model_module": "@jupyter-widgets/controls",
      "model_module_version": "2.0.0",
      "model_name": "HTMLModel",
      "state": {
       "layout": "IPY_MODEL_72b37a8dfe554ed0bc9e6c3624d232d9",
       "style": "IPY_MODEL_d99c4f500d904267ae9f489c981716fa",
       "value": " 9/9 [00:52&lt;00:00,  5.90s/it]"
      }
     },
     "8498819f51a1431e97b00d1d8809b0ab": {
      "model_module": "@jupyter-widgets/controls",
      "model_module_version": "2.0.0",
      "model_name": "HTMLStyleModel",
      "state": {
       "description_width": "",
       "font_size": null,
       "text_color": null
      }
     },
     "8498fbce517d4f8888d1c8d0758c4794": {
      "model_module": "@jupyter-widgets/controls",
      "model_module_version": "2.0.0",
      "model_name": "HTMLStyleModel",
      "state": {
       "description_width": "",
       "font_size": null,
       "text_color": null
      }
     },
     "84a9483d46014436ba26a73fb6e7ce37": {
      "model_module": "@jupyter-widgets/controls",
      "model_module_version": "2.0.0",
      "model_name": "FloatProgressModel",
      "state": {
       "layout": "IPY_MODEL_f6072eafa0c340b5b4de6998b5c71344",
       "max": 744,
       "style": "IPY_MODEL_f8c67dde1f2c4260a4298f084024833d",
       "value": 744
      }
     },
     "84bb8018f2354a2488b90b4ab72861de": {
      "model_module": "@jupyter-widgets/base",
      "model_module_version": "2.0.0",
      "model_name": "LayoutModel",
      "state": {}
     },
     "84f39b9d5ab946be9837c4544b1f2b1e": {
      "model_module": "@jupyter-widgets/base",
      "model_module_version": "2.0.0",
      "model_name": "LayoutModel",
      "state": {}
     },
     "8536675198a24aca8d859e5e08f0be67": {
      "model_module": "@jupyter-widgets/base",
      "model_module_version": "2.0.0",
      "model_name": "LayoutModel",
      "state": {}
     },
     "8569fe5d3c3b46e4b17b4f6b876cf008": {
      "model_module": "@jupyter-widgets/base",
      "model_module_version": "2.0.0",
      "model_name": "LayoutModel",
      "state": {}
     },
     "859f3c30bc4b4592bd59e3b1479fe1e8": {
      "model_module": "@jupyter-widgets/base",
      "model_module_version": "2.0.0",
      "model_name": "LayoutModel",
      "state": {}
     },
     "85fc8ac21f1d43f0a4481a84f6654519": {
      "model_module": "@jupyter-widgets/controls",
      "model_module_version": "2.0.0",
      "model_name": "HTMLStyleModel",
      "state": {
       "description_width": "",
       "font_size": null,
       "text_color": null
      }
     },
     "8609847335f14fd895ff57f3b4b94bec": {
      "model_module": "@jupyter-widgets/controls",
      "model_module_version": "2.0.0",
      "model_name": "HTMLStyleModel",
      "state": {
       "description_width": "",
       "font_size": null,
       "text_color": null
      }
     },
     "863786fa57564baa9ff03598d5832991": {
      "model_module": "@jupyter-widgets/controls",
      "model_module_version": "2.0.0",
      "model_name": "ProgressStyleModel",
      "state": {
       "description_width": ""
      }
     },
     "864ae2ff741f4f15930d6437448dcaac": {
      "model_module": "@jupyter-widgets/controls",
      "model_module_version": "2.0.0",
      "model_name": "HTMLModel",
      "state": {
       "layout": "IPY_MODEL_98b6a1a6b8de4bac838c817a7bb056fe",
       "style": "IPY_MODEL_077bc34a950d40d8b72f389fdf2bb02d",
       "value": "Processing CSVs: 100%"
      }
     },
     "869e67873c804fb9a83cf50ab46e37c4": {
      "model_module": "@jupyter-widgets/base",
      "model_module_version": "2.0.0",
      "model_name": "LayoutModel",
      "state": {
       "visibility": "hidden"
      }
     },
     "869fffb007034db39f05d36df2cc71b8": {
      "model_module": "@jupyter-widgets/base",
      "model_module_version": "2.0.0",
      "model_name": "LayoutModel",
      "state": {}
     },
     "86f53c228d604eaf848fb0f8a8bf92ce": {
      "model_module": "@jupyter-widgets/controls",
      "model_module_version": "2.0.0",
      "model_name": "ProgressStyleModel",
      "state": {
       "description_width": ""
      }
     },
     "8710a5f4787549e1846d721ba3d9ff64": {
      "model_module": "@jupyter-widgets/controls",
      "model_module_version": "2.0.0",
      "model_name": "ProgressStyleModel",
      "state": {
       "description_width": ""
      }
     },
     "872601805a3f4006a968d9fefb02dd16": {
      "model_module": "@jupyter-widgets/controls",
      "model_module_version": "2.0.0",
      "model_name": "ProgressStyleModel",
      "state": {
       "description_width": ""
      }
     },
     "874fc876ea384539b6142d515bd3d101": {
      "model_module": "@jupyter-widgets/base",
      "model_module_version": "2.0.0",
      "model_name": "LayoutModel",
      "state": {}
     },
     "87a56444956c42159b622992a8327ea8": {
      "model_module": "@jupyter-widgets/base",
      "model_module_version": "2.0.0",
      "model_name": "LayoutModel",
      "state": {}
     },
     "87b09b7cf15f4cf3bea76227a30436f0": {
      "model_module": "@jupyter-widgets/controls",
      "model_module_version": "2.0.0",
      "model_name": "HTMLModel",
      "state": {
       "layout": "IPY_MODEL_04df0d71065c48d6b2fb138a5e5e58aa",
       "style": "IPY_MODEL_a5a597c0b3904aa48ff1363897de0d2e",
       "value": " 714/720 [00:11&lt;00:00, 59.09it/s]"
      }
     },
     "87cbca1e53fc496d8c64a9db6e657bdf": {
      "model_module": "@jupyter-widgets/base",
      "model_module_version": "2.0.0",
      "model_name": "LayoutModel",
      "state": {}
     },
     "87d8d4268ddf4537aa9acae4a9e06d9c": {
      "model_module": "@jupyter-widgets/controls",
      "model_module_version": "2.0.0",
      "model_name": "HTMLModel",
      "state": {
       "layout": "IPY_MODEL_78bcf79ccb9347b48a7b020eee3db947",
       "style": "IPY_MODEL_197ff6233ada41af908cee336596844c",
       "value": "Processing Months: 100%"
      }
     },
     "883cfbfaec9f49fca136c67231dc56e6": {
      "model_module": "@jupyter-widgets/controls",
      "model_module_version": "2.0.0",
      "model_name": "HTMLStyleModel",
      "state": {
       "description_width": "",
       "font_size": null,
       "text_color": null
      }
     },
     "889d878c00a84780aa19faaa2fa6728a": {
      "model_module": "@jupyter-widgets/base",
      "model_module_version": "2.0.0",
      "model_name": "LayoutModel",
      "state": {
       "visibility": "hidden"
      }
     },
     "88e72f5edd4f4b57ab2aab39df0ff1fe": {
      "model_module": "@jupyter-widgets/base",
      "model_module_version": "2.0.0",
      "model_name": "LayoutModel",
      "state": {}
     },
     "890221a21a4c469bb085435ad4c9f74e": {
      "model_module": "@jupyter-widgets/controls",
      "model_module_version": "2.0.0",
      "model_name": "HTMLModel",
      "state": {
       "layout": "IPY_MODEL_a27362cf422441cab65e439269975677",
       "style": "IPY_MODEL_1d73792094f54fe39b5ec9af9c46caec",
       "value": " 738/744 [00:05&lt;00:00, 134.59it/s]"
      }
     },
     "892b50658deb4832a980109677ce733b": {
      "model_module": "@jupyter-widgets/controls",
      "model_module_version": "2.0.0",
      "model_name": "ProgressStyleModel",
      "state": {
       "description_width": ""
      }
     },
     "8934150c28534ef08471da479d8b107a": {
      "model_module": "@jupyter-widgets/controls",
      "model_module_version": "2.0.0",
      "model_name": "HTMLStyleModel",
      "state": {
       "description_width": "",
       "font_size": null,
       "text_color": null
      }
     },
     "895aeba9d3b14ee9b080a65f158e1fd2": {
      "model_module": "@jupyter-widgets/controls",
      "model_module_version": "2.0.0",
      "model_name": "ProgressStyleModel",
      "state": {
       "description_width": ""
      }
     },
     "896226819c964965b66a9d57c5f3c742": {
      "model_module": "@jupyter-widgets/controls",
      "model_module_version": "2.0.0",
      "model_name": "ProgressStyleModel",
      "state": {
       "description_width": ""
      }
     },
     "89b9453b4cad42979f5b46a83e7fc570": {
      "model_module": "@jupyter-widgets/base",
      "model_module_version": "2.0.0",
      "model_name": "LayoutModel",
      "state": {
       "visibility": "hidden"
      }
     },
     "89dbc1adb32b40578b5145a86b4f9915": {
      "model_module": "@jupyter-widgets/controls",
      "model_module_version": "2.0.0",
      "model_name": "FloatProgressModel",
      "state": {
       "layout": "IPY_MODEL_0ce0e73e429d489f99a5be65a5c4d4ca",
       "max": 744,
       "style": "IPY_MODEL_2611f28db5134e7a8b29bd59336a793b",
       "value": 744
      }
     },
     "89e7f5384b0743e8a4b466f71d553645": {
      "model_module": "@jupyter-widgets/base",
      "model_module_version": "2.0.0",
      "model_name": "LayoutModel",
      "state": {
       "visibility": "hidden"
      }
     },
     "8a095298fa9e49a89417d60dc049fce3": {
      "model_module": "@jupyter-widgets/controls",
      "model_module_version": "2.0.0",
      "model_name": "HTMLModel",
      "state": {
       "layout": "IPY_MODEL_089ba33b2fc64e20a6d97409aa47e857",
       "style": "IPY_MODEL_cd8cf95956704e749745f38f6ea43807",
       "value": "Processing Months: 100%"
      }
     },
     "8a175bb2b6924870b726130bdce8f1d1": {
      "model_module": "@jupyter-widgets/base",
      "model_module_version": "2.0.0",
      "model_name": "LayoutModel",
      "state": {}
     },
     "8a3373bbd7c243d98fe4e9a721934e45": {
      "model_module": "@jupyter-widgets/base",
      "model_module_version": "2.0.0",
      "model_name": "LayoutModel",
      "state": {
       "visibility": "hidden"
      }
     },
     "8a414d877be3438f9ea5c185c8cf05ee": {
      "model_module": "@jupyter-widgets/controls",
      "model_module_version": "2.0.0",
      "model_name": "ProgressStyleModel",
      "state": {
       "description_width": ""
      }
     },
     "8a89932825974d58bebe574cd6879dd2": {
      "model_module": "@jupyter-widgets/controls",
      "model_module_version": "2.0.0",
      "model_name": "HTMLStyleModel",
      "state": {
       "description_width": "",
       "font_size": null,
       "text_color": null
      }
     },
     "8a92023aacc843f196f732adf5113e9b": {
      "model_module": "@jupyter-widgets/controls",
      "model_module_version": "2.0.0",
      "model_name": "HTMLModel",
      "state": {
       "layout": "IPY_MODEL_d15109e7239e42c6a8b780cd4d5888de",
       "style": "IPY_MODEL_3612b8ea370b4fc4a84ce0333359c63e",
       "value": " 742/744 [00:06&lt;00:00, 104.32it/s]"
      }
     },
     "8ac4f097a59a4c39a71648fc5c1bc1ff": {
      "model_module": "@jupyter-widgets/controls",
      "model_module_version": "2.0.0",
      "model_name": "HTMLStyleModel",
      "state": {
       "description_width": "",
       "font_size": null,
       "text_color": null
      }
     },
     "8ade33ac56844177b3a5f4d765d64aae": {
      "model_module": "@jupyter-widgets/controls",
      "model_module_version": "2.0.0",
      "model_name": "HTMLStyleModel",
      "state": {
       "description_width": "",
       "font_size": null,
       "text_color": null
      }
     },
     "8ae7e358538547d6a5123d90d62e7014": {
      "model_module": "@jupyter-widgets/controls",
      "model_module_version": "2.0.0",
      "model_name": "HTMLModel",
      "state": {
       "layout": "IPY_MODEL_074cc286a0344b80b76f7f2b264b88da",
       "style": "IPY_MODEL_9d1bd8b9194e4aea9757935f048b0279",
       "value": " 667/672 [00:05&lt;00:00, 129.34it/s]"
      }
     },
     "8aea7d684a8c4e7392be19adffc091ca": {
      "model_module": "@jupyter-widgets/controls",
      "model_module_version": "2.0.0",
      "model_name": "ProgressStyleModel",
      "state": {
       "description_width": ""
      }
     },
     "8aea9925605f48d1a56bb4bfab09840c": {
      "model_module": "@jupyter-widgets/controls",
      "model_module_version": "2.0.0",
      "model_name": "ProgressStyleModel",
      "state": {
       "description_width": ""
      }
     },
     "8b03b94e06af411897c1de98657fe363": {
      "model_module": "@jupyter-widgets/controls",
      "model_module_version": "2.0.0",
      "model_name": "HTMLStyleModel",
      "state": {
       "description_width": "",
       "font_size": null,
       "text_color": null
      }
     },
     "8b34e25613c248b1a07c57e0589439a0": {
      "model_module": "@jupyter-widgets/base",
      "model_module_version": "2.0.0",
      "model_name": "LayoutModel",
      "state": {}
     },
     "8b4c44c881654218ba07e371b6f7eaa0": {
      "model_module": "@jupyter-widgets/base",
      "model_module_version": "2.0.0",
      "model_name": "LayoutModel",
      "state": {}
     },
     "8b6b6e91f65e4c2e97a419f44c04de19": {
      "model_module": "@jupyter-widgets/controls",
      "model_module_version": "2.0.0",
      "model_name": "HTMLStyleModel",
      "state": {
       "description_width": "",
       "font_size": null,
       "text_color": null
      }
     },
     "8b7fa342ebb249728470f54747704092": {
      "model_module": "@jupyter-widgets/controls",
      "model_module_version": "2.0.0",
      "model_name": "HTMLModel",
      "state": {
       "layout": "IPY_MODEL_a84af8050af547839402f898a5c4f8ea",
       "style": "IPY_MODEL_3730695d3d7f4ccdac39ca0563016a6a",
       "value": " 732/744 [00:06&lt;00:00, 121.74it/s]"
      }
     },
     "8b8799c960be4d438064a760e3517555": {
      "model_module": "@jupyter-widgets/controls",
      "model_module_version": "2.0.0",
      "model_name": "HTMLModel",
      "state": {
       "layout": "IPY_MODEL_954ace9e104742a68d397b0d56faf5ed",
       "style": "IPY_MODEL_c98563950b2e49f6923332214ac97c26",
       "value": " 742/744 [00:06&lt;00:00, 125.37it/s]"
      }
     },
     "8b8d07bfbda548d585c5ff0307c3f42b": {
      "model_module": "@jupyter-widgets/controls",
      "model_module_version": "2.0.0",
      "model_name": "HTMLStyleModel",
      "state": {
       "description_width": "",
       "font_size": null,
       "text_color": null
      }
     },
     "8b90d460f61e40f483049b6eaabd3ff3": {
      "model_module": "@jupyter-widgets/controls",
      "model_module_version": "2.0.0",
      "model_name": "ProgressStyleModel",
      "state": {
       "description_width": ""
      }
     },
     "8b95263d56e344d0adab5cf225024d72": {
      "model_module": "@jupyter-widgets/controls",
      "model_module_version": "2.0.0",
      "model_name": "HTMLStyleModel",
      "state": {
       "description_width": "",
       "font_size": null,
       "text_color": null
      }
     },
     "8ba7cd866622443c830bb7d001c22065": {
      "model_module": "@jupyter-widgets/controls",
      "model_module_version": "2.0.0",
      "model_name": "FloatProgressModel",
      "state": {
       "layout": "IPY_MODEL_17e9acc753364fe6a6ae8932687e5fc3",
       "max": 744,
       "style": "IPY_MODEL_f94469699084410893686ebd1adb1151",
       "value": 744
      }
     },
     "8bbba82dd3104f7d95615a9fa5c68372": {
      "model_module": "@jupyter-widgets/controls",
      "model_module_version": "2.0.0",
      "model_name": "HTMLModel",
      "state": {
       "layout": "IPY_MODEL_d1348fe16e15419e84d357dbbf06ec1e",
       "style": "IPY_MODEL_c899ad8aa55549b8b6243328d2308b61",
       "value": " 711/720 [00:06&lt;00:00, 104.14it/s]"
      }
     },
     "8c1f3f13737b4547b818dafa5197c284": {
      "model_module": "@jupyter-widgets/controls",
      "model_module_version": "2.0.0",
      "model_name": "HTMLModel",
      "state": {
       "layout": "IPY_MODEL_c4a96e730d48475c8ab2394cef640fd6",
       "style": "IPY_MODEL_1033b18e24274a20ac1c6ef8f31b727c",
       "value": "Processing CSVs:  99%"
      }
     },
     "8cc1364e013a45e2b3453f44d8f98fa4": {
      "model_module": "@jupyter-widgets/controls",
      "model_module_version": "2.0.0",
      "model_name": "ProgressStyleModel",
      "state": {
       "description_width": ""
      }
     },
     "8cd49818d19a4f09ae879e887e07b457": {
      "model_module": "@jupyter-widgets/controls",
      "model_module_version": "2.0.0",
      "model_name": "HTMLStyleModel",
      "state": {
       "description_width": "",
       "font_size": null,
       "text_color": null
      }
     },
     "8d26a2af451a4439be7c8b4df45f3230": {
      "model_module": "@jupyter-widgets/controls",
      "model_module_version": "2.0.0",
      "model_name": "HTMLStyleModel",
      "state": {
       "description_width": "",
       "font_size": null,
       "text_color": null
      }
     },
     "8d78189e0e434f2c98fb79521707a09d": {
      "model_module": "@jupyter-widgets/controls",
      "model_module_version": "2.0.0",
      "model_name": "FloatProgressModel",
      "state": {
       "layout": "IPY_MODEL_5689514794e447228f0ac56ca469e4e5",
       "max": 9,
       "style": "IPY_MODEL_8aea7d684a8c4e7392be19adffc091ca",
       "value": 9
      }
     },
     "8e3ed4fc6c604078bc72668dfd2eb62e": {
      "model_module": "@jupyter-widgets/controls",
      "model_module_version": "2.0.0",
      "model_name": "FloatProgressModel",
      "state": {
       "layout": "IPY_MODEL_d9fa5dbec9c245dcbb1dfd29987243ed",
       "max": 744,
       "style": "IPY_MODEL_6ba5c67e647c4e198eaace187c2ff97e",
       "value": 744
      }
     },
     "8ebb312a26a44a6e894b0b857e18fa77": {
      "model_module": "@jupyter-widgets/controls",
      "model_module_version": "2.0.0",
      "model_name": "HTMLStyleModel",
      "state": {
       "description_width": "",
       "font_size": null,
       "text_color": null
      }
     },
     "8eded780092949b2bbe45785fe3c6fa4": {
      "model_module": "@jupyter-widgets/base",
      "model_module_version": "2.0.0",
      "model_name": "LayoutModel",
      "state": {}
     },
     "8ef7e325d55b49c984d0fea549a17e45": {
      "model_module": "@jupyter-widgets/controls",
      "model_module_version": "2.0.0",
      "model_name": "HTMLModel",
      "state": {
       "layout": "IPY_MODEL_a64f2d146b8945409be1b5411d0a7741",
       "style": "IPY_MODEL_a1bb2529d17f4c3a9c4ceda60ad4f6b1",
       "value": "Processing CSVs: 100%"
      }
     },
     "8f106cfe28e84d41a31ea5912c04d3d6": {
      "model_module": "@jupyter-widgets/controls",
      "model_module_version": "2.0.0",
      "model_name": "HTMLStyleModel",
      "state": {
       "description_width": "",
       "font_size": null,
       "text_color": null
      }
     },
     "8f5418e7613942d3b99d871a86da6e78": {
      "model_module": "@jupyter-widgets/base",
      "model_module_version": "2.0.0",
      "model_name": "LayoutModel",
      "state": {
       "visibility": "hidden"
      }
     },
     "8fa74532182e472f871d222d33ef3abe": {
      "model_module": "@jupyter-widgets/controls",
      "model_module_version": "2.0.0",
      "model_name": "FloatProgressModel",
      "state": {
       "layout": "IPY_MODEL_b53d695467744c23ad8aeea3d8db1f1e",
       "max": 720,
       "style": "IPY_MODEL_5cd36f5b2c9e4bdd947a8db8a18e39fb",
       "value": 720
      }
     },
     "8fafd37379a64b3189cffcab9ec1049b": {
      "model_module": "@jupyter-widgets/base",
      "model_module_version": "2.0.0",
      "model_name": "LayoutModel",
      "state": {}
     },
     "8fb0c0ae43dd4c08b3f77d1db7cc1739": {
      "model_module": "@jupyter-widgets/controls",
      "model_module_version": "2.0.0",
      "model_name": "FloatProgressModel",
      "state": {
       "layout": "IPY_MODEL_9c0b249106784e088672f9d7e6088846",
       "max": 744,
       "style": "IPY_MODEL_fb9ad4b23a404acca3ab72e9eb1f2d50",
       "value": 744
      }
     },
     "8fd7060305ce44ca81a8a8f06b24e169": {
      "model_module": "@jupyter-widgets/base",
      "model_module_version": "2.0.0",
      "model_name": "LayoutModel",
      "state": {
       "visibility": "hidden"
      }
     },
     "9013f5a4178a433482ce4ee5fc963499": {
      "model_module": "@jupyter-widgets/controls",
      "model_module_version": "2.0.0",
      "model_name": "FloatProgressModel",
      "state": {
       "layout": "IPY_MODEL_869fffb007034db39f05d36df2cc71b8",
       "max": 744,
       "style": "IPY_MODEL_a419f2d1fe4544688367e669b978e52d",
       "value": 744
      }
     },
     "9048fbf7fd3f49a99590222432388a25": {
      "model_module": "@jupyter-widgets/controls",
      "model_module_version": "2.0.0",
      "model_name": "HTMLModel",
      "state": {
       "layout": "IPY_MODEL_d48a5591dd1245c49e94026cc147b423",
       "style": "IPY_MODEL_0fddb47fc8584b6a963e7c8c5ba7c8c4",
       "value": " 744/744 [00:06&lt;00:00, 100.93it/s]"
      }
     },
     "909b9e9bb39b418b8b32b096339556a9": {
      "model_module": "@jupyter-widgets/base",
      "model_module_version": "2.0.0",
      "model_name": "LayoutModel",
      "state": {}
     },
     "90a9124483864a708cca47952a17e525": {
      "model_module": "@jupyter-widgets/controls",
      "model_module_version": "2.0.0",
      "model_name": "HTMLStyleModel",
      "state": {
       "description_width": "",
       "font_size": null,
       "text_color": null
      }
     },
     "90aa26743781453e8dd33a9f197f3c6d": {
      "model_module": "@jupyter-widgets/controls",
      "model_module_version": "2.0.0",
      "model_name": "HTMLStyleModel",
      "state": {
       "description_width": "",
       "font_size": null,
       "text_color": null
      }
     },
     "90b14e856cbb4ed9bbdae509539cbc18": {
      "model_module": "@jupyter-widgets/base",
      "model_module_version": "2.0.0",
      "model_name": "LayoutModel",
      "state": {}
     },
     "90cb8eae657d421db05763b08b9d1ebb": {
      "model_module": "@jupyter-widgets/controls",
      "model_module_version": "2.0.0",
      "model_name": "HTMLStyleModel",
      "state": {
       "description_width": "",
       "font_size": null,
       "text_color": null
      }
     },
     "910e47e7a6f34aa1b9c0f15422cfddb2": {
      "model_module": "@jupyter-widgets/base",
      "model_module_version": "2.0.0",
      "model_name": "LayoutModel",
      "state": {}
     },
     "913978a5bbf54b8c9eafeaf93a7eba19": {
      "model_module": "@jupyter-widgets/controls",
      "model_module_version": "2.0.0",
      "model_name": "HTMLStyleModel",
      "state": {
       "description_width": "",
       "font_size": null,
       "text_color": null
      }
     },
     "91455e08bd9e4b3891850a29a19605d0": {
      "model_module": "@jupyter-widgets/controls",
      "model_module_version": "2.0.0",
      "model_name": "ProgressStyleModel",
      "state": {
       "description_width": ""
      }
     },
     "91bd1449b46a49c288c7e785725e709c": {
      "model_module": "@jupyter-widgets/controls",
      "model_module_version": "2.0.0",
      "model_name": "HTMLModel",
      "state": {
       "layout": "IPY_MODEL_2f3c3ae5fca041e5a053532d1f4dbf49",
       "style": "IPY_MODEL_d59c6664db774fdc8bce918e86edcda5",
       "value": " 12/12 [01:05&lt;00:00,  5.60s/it]"
      }
     },
     "91ce3317538841618595d57524931d9c": {
      "model_module": "@jupyter-widgets/base",
      "model_module_version": "2.0.0",
      "model_name": "LayoutModel",
      "state": {
       "visibility": "hidden"
      }
     },
     "91d2658178cb4227b8e25c7fb627f4d4": {
      "model_module": "@jupyter-widgets/base",
      "model_module_version": "2.0.0",
      "model_name": "LayoutModel",
      "state": {}
     },
     "9202e2c9f7b54931899bcd921a76c2ae": {
      "model_module": "@jupyter-widgets/controls",
      "model_module_version": "2.0.0",
      "model_name": "ProgressStyleModel",
      "state": {
       "description_width": ""
      }
     },
     "920ad5a0c23447079a5e7f2785b19dc5": {
      "model_module": "@jupyter-widgets/controls",
      "model_module_version": "2.0.0",
      "model_name": "HTMLModel",
      "state": {
       "layout": "IPY_MODEL_8009cc668f3a48dbb7de0e98bf93838e",
       "style": "IPY_MODEL_ff1a4784c2bc461a807cc7ba069ed341",
       "value": "Processing CSVs: 100%"
      }
     },
     "924a2cf193fa4775b87a613764c60062": {
      "model_module": "@jupyter-widgets/base",
      "model_module_version": "2.0.0",
      "model_name": "LayoutModel",
      "state": {}
     },
     "92a94c01c89544f2879dbc65eda3a715": {
      "model_module": "@jupyter-widgets/controls",
      "model_module_version": "2.0.0",
      "model_name": "HTMLStyleModel",
      "state": {
       "description_width": "",
       "font_size": null,
       "text_color": null
      }
     },
     "92d3d4cd743f42599b8b5ce59342a134": {
      "model_module": "@jupyter-widgets/controls",
      "model_module_version": "2.0.0",
      "model_name": "ProgressStyleModel",
      "state": {
       "description_width": ""
      }
     },
     "92e248735acd4b5cad9a4c8e39e954b4": {
      "model_module": "@jupyter-widgets/base",
      "model_module_version": "2.0.0",
      "model_name": "LayoutModel",
      "state": {}
     },
     "9308f78aa8354182b6fd07249309cfbb": {
      "model_module": "@jupyter-widgets/controls",
      "model_module_version": "2.0.0",
      "model_name": "HTMLModel",
      "state": {
       "layout": "IPY_MODEL_0c150bb3f0714925a1b65eb0efc4fcce",
       "style": "IPY_MODEL_846e49c1a624464f9d09c70b6cebc0b0",
       "value": "Processing CSVs: 100%"
      }
     },
     "93414b9606074867accc9b03f3437d00": {
      "model_module": "@jupyter-widgets/base",
      "model_module_version": "2.0.0",
      "model_name": "LayoutModel",
      "state": {}
     },
     "93695b1d7d51432fb0afc86b6d89f154": {
      "model_module": "@jupyter-widgets/base",
      "model_module_version": "2.0.0",
      "model_name": "LayoutModel",
      "state": {}
     },
     "93d04a4363424ecb8900aa465d59c71d": {
      "model_module": "@jupyter-widgets/base",
      "model_module_version": "2.0.0",
      "model_name": "LayoutModel",
      "state": {}
     },
     "94167073434649b28940db248ee1dc41": {
      "model_module": "@jupyter-widgets/controls",
      "model_module_version": "2.0.0",
      "model_name": "HTMLStyleModel",
      "state": {
       "description_width": "",
       "font_size": null,
       "text_color": null
      }
     },
     "942befa876954883ad92565d95e4c252": {
      "model_module": "@jupyter-widgets/base",
      "model_module_version": "2.0.0",
      "model_name": "LayoutModel",
      "state": {}
     },
     "94875a7d05fa4b9aa3ce26b87aeb0005": {
      "model_module": "@jupyter-widgets/controls",
      "model_module_version": "2.0.0",
      "model_name": "FloatProgressModel",
      "state": {
       "layout": "IPY_MODEL_b5dc8907f4bc49738022759501448674",
       "max": 744,
       "style": "IPY_MODEL_895aeba9d3b14ee9b080a65f158e1fd2",
       "value": 744
      }
     },
     "949dc084491142cc8298dffae7970c70": {
      "model_module": "@jupyter-widgets/base",
      "model_module_version": "2.0.0",
      "model_name": "LayoutModel",
      "state": {
       "visibility": "hidden"
      }
     },
     "94ae3c8aae9948d4a016569118d2e5da": {
      "model_module": "@jupyter-widgets/controls",
      "model_module_version": "2.0.0",
      "model_name": "HTMLModel",
      "state": {
       "layout": "IPY_MODEL_6d5658a2a05a490a87a6056d8a39a246",
       "style": "IPY_MODEL_90aa26743781453e8dd33a9f197f3c6d",
       "value": " 741/744 [00:05&lt;00:00, 128.56it/s]"
      }
     },
     "94e83c80e4e742b98276a4ce8505fa20": {
      "model_module": "@jupyter-widgets/controls",
      "model_module_version": "2.0.0",
      "model_name": "FloatProgressModel",
      "state": {
       "layout": "IPY_MODEL_47845ee2f65540c6b89bb31a2c8f680f",
       "max": 744,
       "style": "IPY_MODEL_fb0a37d288dc4f15a9c2890da44edb3e",
       "value": 744
      }
     },
     "952c31ae9e3145e3bd84f8ec8e19c1d2": {
      "model_module": "@jupyter-widgets/controls",
      "model_module_version": "2.0.0",
      "model_name": "FloatProgressModel",
      "state": {
       "layout": "IPY_MODEL_0bfd52960e8e48b09bf4e48c3ca76541",
       "max": 720,
       "style": "IPY_MODEL_9d84aef8708c45e7b651a8468798ce70",
       "value": 720
      }
     },
     "954ace9e104742a68d397b0d56faf5ed": {
      "model_module": "@jupyter-widgets/base",
      "model_module_version": "2.0.0",
      "model_name": "LayoutModel",
      "state": {}
     },
     "955c8ffa36d745d99781affa2ee57b7c": {
      "model_module": "@jupyter-widgets/controls",
      "model_module_version": "2.0.0",
      "model_name": "HTMLStyleModel",
      "state": {
       "description_width": "",
       "font_size": null,
       "text_color": null
      }
     },
     "9567cd70342e449bbddf634700b00743": {
      "model_module": "@jupyter-widgets/base",
      "model_module_version": "2.0.0",
      "model_name": "LayoutModel",
      "state": {}
     },
     "956e081ca09948dabae5d15aa4512d41": {
      "model_module": "@jupyter-widgets/base",
      "model_module_version": "2.0.0",
      "model_name": "LayoutModel",
      "state": {
       "visibility": "hidden"
      }
     },
     "957a78d159994057b4cf5510f551e14f": {
      "model_module": "@jupyter-widgets/controls",
      "model_module_version": "2.0.0",
      "model_name": "HTMLModel",
      "state": {
       "layout": "IPY_MODEL_10eb07b7f8714970af1392a7ac27392f",
       "style": "IPY_MODEL_02848862ab5e46fa9bec2fee268ca1f5",
       "value": " 713/720 [00:05&lt;00:00, 118.49it/s]"
      }
     },
     "958b75a33041423e98db8571acbc239f": {
      "model_module": "@jupyter-widgets/controls",
      "model_module_version": "2.0.0",
      "model_name": "HTMLStyleModel",
      "state": {
       "description_width": "",
       "font_size": null,
       "text_color": null
      }
     },
     "95c2e8c8bada4919bb5625ad6d7083a8": {
      "model_module": "@jupyter-widgets/controls",
      "model_module_version": "2.0.0",
      "model_name": "FloatProgressModel",
      "state": {
       "layout": "IPY_MODEL_b8d16296d92e4c22bdac223d87c907c3",
       "max": 720,
       "style": "IPY_MODEL_442d0bf3b5924df09b242018cee2a344",
       "value": 720
      }
     },
     "95c9b4e4e48a4ade987d6ee15f7caeaf": {
      "model_module": "@jupyter-widgets/base",
      "model_module_version": "2.0.0",
      "model_name": "LayoutModel",
      "state": {}
     },
     "95fbde70438649848d195c7cf2e3a018": {
      "model_module": "@jupyter-widgets/controls",
      "model_module_version": "2.0.0",
      "model_name": "HTMLModel",
      "state": {
       "layout": "IPY_MODEL_0fd5d34f49b34b4a9933f0e18ea62544",
       "style": "IPY_MODEL_53d704f2c90046e0a0a3e12e93924c42",
       "value": " 708/720 [00:05&lt;00:00, 130.99it/s]"
      }
     },
     "9616942bf93d42d69c01fe91c62ccd5a": {
      "model_module": "@jupyter-widgets/base",
      "model_module_version": "2.0.0",
      "model_name": "LayoutModel",
      "state": {
       "visibility": "hidden"
      }
     },
     "962938cbb3e64feebba8bb10bc5abc91": {
      "model_module": "@jupyter-widgets/controls",
      "model_module_version": "2.0.0",
      "model_name": "HTMLModel",
      "state": {
       "layout": "IPY_MODEL_84f39b9d5ab946be9837c4544b1f2b1e",
       "style": "IPY_MODEL_736faa565139475887a29d436ab963ad",
       "value": " 6/6 [01:08&lt;00:00, 11.50s/it]"
      }
     },
     "964bbb53b8694d8588165deae8393416": {
      "model_module": "@jupyter-widgets/controls",
      "model_module_version": "2.0.0",
      "model_name": "HTMLModel",
      "state": {
       "layout": "IPY_MODEL_80fd893b376e41928bb1dcac0eef72cf",
       "style": "IPY_MODEL_fd62f0b929684527ad784bcfbf97bb59",
       "value": " 741/744 [00:05&lt;00:00, 131.87it/s]"
      }
     },
     "965b2360385b4eb2b47a960ed0ff044b": {
      "model_module": "@jupyter-widgets/controls",
      "model_module_version": "2.0.0",
      "model_name": "HTMLStyleModel",
      "state": {
       "description_width": "",
       "font_size": null,
       "text_color": null
      }
     },
     "9674c2835a3444969e5a5bfea3bd9897": {
      "model_module": "@jupyter-widgets/controls",
      "model_module_version": "2.0.0",
      "model_name": "HTMLStyleModel",
      "state": {
       "description_width": "",
       "font_size": null,
       "text_color": null
      }
     },
     "967656b734b347ccac2a9b50d31c1b2d": {
      "model_module": "@jupyter-widgets/base",
      "model_module_version": "2.0.0",
      "model_name": "LayoutModel",
      "state": {
       "visibility": "hidden"
      }
     },
     "96b051b4b39c4ee780b5c3e34f64c2cd": {
      "model_module": "@jupyter-widgets/controls",
      "model_module_version": "2.0.0",
      "model_name": "HTMLModel",
      "state": {
       "layout": "IPY_MODEL_be3861b4be274b1a8583715e025524d1",
       "style": "IPY_MODEL_aa78a62bfd414be5837e4e879b4c2d28",
       "value": " 738/744 [00:12&lt;00:00, 62.28it/s]"
      }
     },
     "96d511dadd114b6e85e6a9545c101010": {
      "model_module": "@jupyter-widgets/controls",
      "model_module_version": "2.0.0",
      "model_name": "HTMLStyleModel",
      "state": {
       "description_width": "",
       "font_size": null,
       "text_color": null
      }
     },
     "96e43ed99ef24ad5b428bafdba0d0caf": {
      "model_module": "@jupyter-widgets/base",
      "model_module_version": "2.0.0",
      "model_name": "LayoutModel",
      "state": {}
     },
     "97cf3a8bc76d44e69b8eecf09844761c": {
      "model_module": "@jupyter-widgets/controls",
      "model_module_version": "2.0.0",
      "model_name": "HTMLStyleModel",
      "state": {
       "description_width": "",
       "font_size": null,
       "text_color": null
      }
     },
     "97e26a6c18d04456b1e648e0cd33da14": {
      "model_module": "@jupyter-widgets/controls",
      "model_module_version": "2.0.0",
      "model_name": "HTMLModel",
      "state": {
       "layout": "IPY_MODEL_d18de37b25be4f5980231895221df980",
       "style": "IPY_MODEL_22e7e6eda85c4ffeb14d120921749780",
       "value": "Processing CSVs: 100%"
      }
     },
     "9862a59df40d4ea68d27d4cd65722dec": {
      "model_module": "@jupyter-widgets/base",
      "model_module_version": "2.0.0",
      "model_name": "LayoutModel",
      "state": {
       "visibility": "hidden"
      }
     },
     "986a94bb79e7460d8ba5131674de6dad": {
      "model_module": "@jupyter-widgets/controls",
      "model_module_version": "2.0.0",
      "model_name": "FloatProgressModel",
      "state": {
       "layout": "IPY_MODEL_e380a96ecb764291bc96751fa488f5cf",
       "max": 744,
       "style": "IPY_MODEL_46c3ad9d51f34c018d8bfaf3989b4983",
       "value": 744
      }
     },
     "98b6a1a6b8de4bac838c817a7bb056fe": {
      "model_module": "@jupyter-widgets/base",
      "model_module_version": "2.0.0",
      "model_name": "LayoutModel",
      "state": {}
     },
     "98d16ac858b44b54ab2c99843248a189": {
      "model_module": "@jupyter-widgets/controls",
      "model_module_version": "2.0.0",
      "model_name": "ProgressStyleModel",
      "state": {
       "description_width": ""
      }
     },
     "98f23abefae84ead939493fcebe01085": {
      "model_module": "@jupyter-widgets/controls",
      "model_module_version": "2.0.0",
      "model_name": "ProgressStyleModel",
      "state": {
       "description_width": ""
      }
     },
     "992419da9a75408c810cfd6f1b1fa17e": {
      "model_module": "@jupyter-widgets/controls",
      "model_module_version": "2.0.0",
      "model_name": "HTMLStyleModel",
      "state": {
       "description_width": "",
       "font_size": null,
       "text_color": null
      }
     },
     "997b8fca1a6d4d8291212f405ed61974": {
      "model_module": "@jupyter-widgets/controls",
      "model_module_version": "2.0.0",
      "model_name": "HTMLModel",
      "state": {
       "layout": "IPY_MODEL_12777615aaac46fba978774e4eee6aec",
       "style": "IPY_MODEL_dd895d36ed6c41439cbd74283fd41095",
       "value": "Processing Months: 100%"
      }
     },
     "998c91033ba44e1fb46fe393a2f0ee7c": {
      "model_module": "@jupyter-widgets/controls",
      "model_module_version": "2.0.0",
      "model_name": "HTMLModel",
      "state": {
       "layout": "IPY_MODEL_1de28496674c47c29a2e668eab597b40",
       "style": "IPY_MODEL_2c273f6d73494703b1d98c72b15d71e7",
       "value": " 3/3 [02:28&lt;00:00, 51.39s/it]"
      }
     },
     "999232e6b8f64ea98f4ed58ad50c14e6": {
      "model_module": "@jupyter-widgets/base",
      "model_module_version": "2.0.0",
      "model_name": "LayoutModel",
      "state": {}
     },
     "99c5b4f49b7743f1a3d2ff32f98b7ad5": {
      "model_module": "@jupyter-widgets/base",
      "model_module_version": "2.0.0",
      "model_name": "LayoutModel",
      "state": {}
     },
     "99fcdb5347fc4bc989a7a6dd2172a77a": {
      "model_module": "@jupyter-widgets/base",
      "model_module_version": "2.0.0",
      "model_name": "LayoutModel",
      "state": {}
     },
     "9a0daa8347714c038f0bd0efb6b77921": {
      "model_module": "@jupyter-widgets/controls",
      "model_module_version": "2.0.0",
      "model_name": "HTMLStyleModel",
      "state": {
       "description_width": "",
       "font_size": null,
       "text_color": null
      }
     },
     "9a26fff3b0ca4f9fa572bdb84bc84cf8": {
      "model_module": "@jupyter-widgets/controls",
      "model_module_version": "2.0.0",
      "model_name": "ProgressStyleModel",
      "state": {
       "description_width": ""
      }
     },
     "9a39ba085f62457bb355a20f1199079a": {
      "model_module": "@jupyter-widgets/base",
      "model_module_version": "2.0.0",
      "model_name": "LayoutModel",
      "state": {}
     },
     "9a3d4a44424c42e78e4467d6a1adeef4": {
      "model_module": "@jupyter-widgets/base",
      "model_module_version": "2.0.0",
      "model_name": "LayoutModel",
      "state": {}
     },
     "9a50bae346d34aa58877c21d9a684c95": {
      "model_module": "@jupyter-widgets/base",
      "model_module_version": "2.0.0",
      "model_name": "LayoutModel",
      "state": {}
     },
     "9a51e37977ba496b9081d0d5bf6c3bbb": {
      "model_module": "@jupyter-widgets/base",
      "model_module_version": "2.0.0",
      "model_name": "LayoutModel",
      "state": {}
     },
     "9ade54abfcad4f7eba5e4e615f8927ca": {
      "model_module": "@jupyter-widgets/controls",
      "model_module_version": "2.0.0",
      "model_name": "HTMLModel",
      "state": {
       "layout": "IPY_MODEL_e874b995a5f24875b559c014c7d7873c",
       "style": "IPY_MODEL_955c8ffa36d745d99781affa2ee57b7c",
       "value": "Processing CSVs:  98%"
      }
     },
     "9b2422447f424cf1a4ae8c4b203d7c4e": {
      "model_module": "@jupyter-widgets/base",
      "model_module_version": "2.0.0",
      "model_name": "LayoutModel",
      "state": {}
     },
     "9b32e89eeffa4a03b1e7cb7ad69b143f": {
      "model_module": "@jupyter-widgets/controls",
      "model_module_version": "2.0.0",
      "model_name": "FloatProgressModel",
      "state": {
       "layout": "IPY_MODEL_29b8a3aaaa704acf8abb5ad816f058df",
       "max": 720,
       "style": "IPY_MODEL_ba6e536510744c8bb6d4c3c843f49034",
       "value": 720
      }
     },
     "9b45236369664f1aab9b5726b0cf536a": {
      "model_module": "@jupyter-widgets/controls",
      "model_module_version": "2.0.0",
      "model_name": "HTMLModel",
      "state": {
       "layout": "IPY_MODEL_e992847450aa4a3aacc1e1c91b9ecd89",
       "style": "IPY_MODEL_20242f689f0c4c27bc28a56d049bd1d2",
       "value": " 720/720 [00:05&lt;00:00, 133.43it/s]"
      }
     },
     "9b538fc470114d1ea3a159bf0330f3d5": {
      "model_module": "@jupyter-widgets/controls",
      "model_module_version": "2.0.0",
      "model_name": "HTMLStyleModel",
      "state": {
       "description_width": "",
       "font_size": null,
       "text_color": null
      }
     },
     "9ba29deb963748e3909b5b125147db87": {
      "model_module": "@jupyter-widgets/controls",
      "model_module_version": "2.0.0",
      "model_name": "HTMLModel",
      "state": {
       "layout": "IPY_MODEL_bdef6efc19594e2190add9bfc9c0fc51",
       "style": "IPY_MODEL_46c2f1731c8445cdb75580715e10ce90",
       "value": " 646/655 [00:05&lt;00:00, 126.26it/s]"
      }
     },
     "9ba33e3ef4424f3ebbd05dd96ecc8299": {
      "model_module": "@jupyter-widgets/controls",
      "model_module_version": "2.0.0",
      "model_name": "HTMLModel",
      "state": {
       "layout": "IPY_MODEL_7dcfec6a23cc4f2885075f75b946f3cb",
       "style": "IPY_MODEL_1e24bc2da916452f9f3d73977a2fbd30",
       "value": " 740/744 [00:06&lt;00:00, 99.75it/s]"
      }
     },
     "9bdfae8ebac941079b9f41dfdf6a28af": {
      "model_module": "@jupyter-widgets/base",
      "model_module_version": "2.0.0",
      "model_name": "LayoutModel",
      "state": {}
     },
     "9c0b249106784e088672f9d7e6088846": {
      "model_module": "@jupyter-widgets/base",
      "model_module_version": "2.0.0",
      "model_name": "LayoutModel",
      "state": {}
     },
     "9c1032b2346e4eed9c290dba8424e36e": {
      "model_module": "@jupyter-widgets/controls",
      "model_module_version": "2.0.0",
      "model_name": "ProgressStyleModel",
      "state": {
       "description_width": ""
      }
     },
     "9c2a14d5c0f24a618d37ddf3dceab8c0": {
      "model_module": "@jupyter-widgets/controls",
      "model_module_version": "2.0.0",
      "model_name": "HTMLStyleModel",
      "state": {
       "description_width": "",
       "font_size": null,
       "text_color": null
      }
     },
     "9c35e92197ec405687fd8fd4789905ce": {
      "model_module": "@jupyter-widgets/base",
      "model_module_version": "2.0.0",
      "model_name": "LayoutModel",
      "state": {}
     },
     "9cec501df68c44fea92c2b3f4a00bc82": {
      "model_module": "@jupyter-widgets/controls",
      "model_module_version": "2.0.0",
      "model_name": "HTMLStyleModel",
      "state": {
       "description_width": "",
       "font_size": null,
       "text_color": null
      }
     },
     "9cedd83aa5d24b31bc076415cc2b81d9": {
      "model_module": "@jupyter-widgets/controls",
      "model_module_version": "2.0.0",
      "model_name": "ProgressStyleModel",
      "state": {
       "description_width": ""
      }
     },
     "9d1bd8b9194e4aea9757935f048b0279": {
      "model_module": "@jupyter-widgets/controls",
      "model_module_version": "2.0.0",
      "model_name": "HTMLStyleModel",
      "state": {
       "description_width": "",
       "font_size": null,
       "text_color": null
      }
     },
     "9d1e810b2e764b6b90ba1760c9e5fb78": {
      "model_module": "@jupyter-widgets/base",
      "model_module_version": "2.0.0",
      "model_name": "LayoutModel",
      "state": {
       "visibility": "hidden"
      }
     },
     "9d439920c79248c7b95e2b90f16c0359": {
      "model_module": "@jupyter-widgets/base",
      "model_module_version": "2.0.0",
      "model_name": "LayoutModel",
      "state": {
       "visibility": "hidden"
      }
     },
     "9d84aef8708c45e7b651a8468798ce70": {
      "model_module": "@jupyter-widgets/controls",
      "model_module_version": "2.0.0",
      "model_name": "ProgressStyleModel",
      "state": {
       "description_width": ""
      }
     },
     "9ddafdcfe3424586b0795c4d7d20c273": {
      "model_module": "@jupyter-widgets/base",
      "model_module_version": "2.0.0",
      "model_name": "LayoutModel",
      "state": {}
     },
     "9df33e0c26a54237ab2a00ee5100a6e9": {
      "model_module": "@jupyter-widgets/base",
      "model_module_version": "2.0.0",
      "model_name": "LayoutModel",
      "state": {}
     },
     "9e36f0e6fcce4d2992276dbd720e8c1f": {
      "model_module": "@jupyter-widgets/controls",
      "model_module_version": "2.0.0",
      "model_name": "HTMLModel",
      "state": {
       "layout": "IPY_MODEL_83b803cecfeb4a9ba7ac77fbe9b6e8c4",
       "style": "IPY_MODEL_ccdf3c96cf8b42afae32877bdf216bbd",
       "value": "Processing CSVs: 100%"
      }
     },
     "9e46d41ec6e644b8b7d4782bcd15db58": {
      "model_module": "@jupyter-widgets/base",
      "model_module_version": "2.0.0",
      "model_name": "LayoutModel",
      "state": {}
     },
     "9e7e3aeeb2d8472e9d013a4c1eb69351": {
      "model_module": "@jupyter-widgets/base",
      "model_module_version": "2.0.0",
      "model_name": "LayoutModel",
      "state": {}
     },
     "9ea9327c41864f75b188d61a7efcf206": {
      "model_module": "@jupyter-widgets/base",
      "model_module_version": "2.0.0",
      "model_name": "LayoutModel",
      "state": {}
     },
     "9ec3b121f2d1496a9796399e91c3ee7f": {
      "model_module": "@jupyter-widgets/base",
      "model_module_version": "2.0.0",
      "model_name": "LayoutModel",
      "state": {
       "visibility": "hidden"
      }
     },
     "9f26063264794d3fa4b36e45b05cd208": {
      "model_module": "@jupyter-widgets/controls",
      "model_module_version": "2.0.0",
      "model_name": "HTMLStyleModel",
      "state": {
       "description_width": "",
       "font_size": null,
       "text_color": null
      }
     },
     "9f544ae10aed4a6b9b51a967908e96e8": {
      "model_module": "@jupyter-widgets/controls",
      "model_module_version": "2.0.0",
      "model_name": "HTMLStyleModel",
      "state": {
       "description_width": "",
       "font_size": null,
       "text_color": null
      }
     },
     "9f998df6a7cf49d993187d00eddcf980": {
      "model_module": "@jupyter-widgets/controls",
      "model_module_version": "2.0.0",
      "model_name": "FloatProgressModel",
      "state": {
       "layout": "IPY_MODEL_60cfc75fd7dc4eeba22dd8bc17177bb9",
       "max": 744,
       "style": "IPY_MODEL_793e885b1a62431c9801ca565874469b",
       "value": 744
      }
     },
     "9fa41400abce49aba839867fe93ce92a": {
      "model_module": "@jupyter-widgets/controls",
      "model_module_version": "2.0.0",
      "model_name": "HTMLStyleModel",
      "state": {
       "description_width": "",
       "font_size": null,
       "text_color": null
      }
     },
     "9fce97b65063444587878b2b9d7f603b": {
      "model_module": "@jupyter-widgets/base",
      "model_module_version": "2.0.0",
      "model_name": "LayoutModel",
      "state": {}
     },
     "9fcfba8c83794da686ae46d7c07a34c3": {
      "model_module": "@jupyter-widgets/controls",
      "model_module_version": "2.0.0",
      "model_name": "ProgressStyleModel",
      "state": {
       "description_width": ""
      }
     },
     "9fd00731abf04f4c9920370858068306": {
      "model_module": "@jupyter-widgets/controls",
      "model_module_version": "2.0.0",
      "model_name": "HTMLStyleModel",
      "state": {
       "description_width": "",
       "font_size": null,
       "text_color": null
      }
     },
     "a00999122827474b9f00fc892ef388a8": {
      "model_module": "@jupyter-widgets/controls",
      "model_module_version": "2.0.0",
      "model_name": "HTMLStyleModel",
      "state": {
       "description_width": "",
       "font_size": null,
       "text_color": null
      }
     },
     "a00f139085ce41668f6ed89d63f890d2": {
      "model_module": "@jupyter-widgets/controls",
      "model_module_version": "2.0.0",
      "model_name": "FloatProgressModel",
      "state": {
       "layout": "IPY_MODEL_874fc876ea384539b6142d515bd3d101",
       "max": 744,
       "style": "IPY_MODEL_872601805a3f4006a968d9fefb02dd16",
       "value": 744
      }
     },
     "a01343807c164726a09a6baf952df244": {
      "model_module": "@jupyter-widgets/base",
      "model_module_version": "2.0.0",
      "model_name": "LayoutModel",
      "state": {}
     },
     "a03848f929504f0093146db33c434658": {
      "model_module": "@jupyter-widgets/controls",
      "model_module_version": "2.0.0",
      "model_name": "HTMLStyleModel",
      "state": {
       "description_width": "",
       "font_size": null,
       "text_color": null
      }
     },
     "a05f300ad0524978ab5634fcb28b8e15": {
      "model_module": "@jupyter-widgets/controls",
      "model_module_version": "2.0.0",
      "model_name": "HTMLModel",
      "state": {
       "layout": "IPY_MODEL_2ac45b9212a745fdbfe12cdc1e74b484",
       "style": "IPY_MODEL_062ff2188d8c4517915beab6968f2712",
       "value": " 715/720 [00:10&lt;00:00, 69.79it/s]"
      }
     },
     "a0a6d462b33d4c9cba2319eab84c192a": {
      "model_module": "@jupyter-widgets/base",
      "model_module_version": "2.0.0",
      "model_name": "LayoutModel",
      "state": {}
     },
     "a0e766bce81642b49798490328cb1374": {
      "model_module": "@jupyter-widgets/base",
      "model_module_version": "2.0.0",
      "model_name": "LayoutModel",
      "state": {
       "visibility": "hidden"
      }
     },
     "a12fab7cfc014712b118ad7fc15d4f46": {
      "model_module": "@jupyter-widgets/controls",
      "model_module_version": "2.0.0",
      "model_name": "HTMLModel",
      "state": {
       "layout": "IPY_MODEL_2b3962397d714db1b3ca2fb4cc8b7fd0",
       "style": "IPY_MODEL_f12c6a0e858d42739ee5d9dc8c8d68d9",
       "value": "Processing CSVs: 100%"
      }
     },
     "a137eead1ff94824b315a65b630254ab": {
      "model_module": "@jupyter-widgets/controls",
      "model_module_version": "2.0.0",
      "model_name": "HTMLModel",
      "state": {
       "layout": "IPY_MODEL_16762d01275a4b1e89916cd5e0d60966",
       "style": "IPY_MODEL_958b75a33041423e98db8571acbc239f",
       "value": " 3/3 [02:35&lt;00:00, 53.75s/it]"
      }
     },
     "a139b07cbfe04af29e4053f767ba0378": {
      "model_module": "@jupyter-widgets/controls",
      "model_module_version": "2.0.0",
      "model_name": "HTMLModel",
      "state": {
       "layout": "IPY_MODEL_82b84f37b90e449cb97e69650dcee0b2",
       "style": "IPY_MODEL_085401b8898e4d6381bd429a74753b31",
       "value": "Processing CSVs:  99%"
      }
     },
     "a1450235aa404f22b20b818a8bfc4253": {
      "model_module": "@jupyter-widgets/controls",
      "model_module_version": "2.0.0",
      "model_name": "ProgressStyleModel",
      "state": {
       "description_width": ""
      }
     },
     "a16a1c43bda74de49ae7fb23a189c8e7": {
      "model_module": "@jupyter-widgets/base",
      "model_module_version": "2.0.0",
      "model_name": "LayoutModel",
      "state": {}
     },
     "a194a392ae014b65ba5fb53e61356eec": {
      "model_module": "@jupyter-widgets/controls",
      "model_module_version": "2.0.0",
      "model_name": "HTMLStyleModel",
      "state": {
       "description_width": "",
       "font_size": null,
       "text_color": null
      }
     },
     "a1a48d48b22d42f2a7e8857f770b77e7": {
      "model_module": "@jupyter-widgets/controls",
      "model_module_version": "2.0.0",
      "model_name": "HTMLModel",
      "state": {
       "layout": "IPY_MODEL_4708bf0194e34797ade91d9ec527843b",
       "style": "IPY_MODEL_cedcfa16df6a4a13a96829d7b2ae5cef",
       "value": "Processing Months: 100%"
      }
     },
     "a1b554e0072f46ec853e977de996839c": {
      "model_module": "@jupyter-widgets/controls",
      "model_module_version": "2.0.0",
      "model_name": "HTMLStyleModel",
      "state": {
       "description_width": "",
       "font_size": null,
       "text_color": null
      }
     },
     "a1bb2529d17f4c3a9c4ceda60ad4f6b1": {
      "model_module": "@jupyter-widgets/controls",
      "model_module_version": "2.0.0",
      "model_name": "HTMLStyleModel",
      "state": {
       "description_width": "",
       "font_size": null,
       "text_color": null
      }
     },
     "a1d6126aa6aa4b0f82dd5fc6e652d171": {
      "model_module": "@jupyter-widgets/base",
      "model_module_version": "2.0.0",
      "model_name": "LayoutModel",
      "state": {
       "visibility": "hidden"
      }
     },
     "a1fc3dc027974c1e8161c9efaf8192ff": {
      "model_module": "@jupyter-widgets/controls",
      "model_module_version": "2.0.0",
      "model_name": "HTMLModel",
      "state": {
       "layout": "IPY_MODEL_67e75d7683c347fea00a2266a9b71e81",
       "style": "IPY_MODEL_5a9b5e0044f14c99a97839b753d0c43a",
       "value": "Processing CSVs: 100%"
      }
     },
     "a201579842434da78ded9bb5d16a7161": {
      "model_module": "@jupyter-widgets/controls",
      "model_module_version": "2.0.0",
      "model_name": "HTMLModel",
      "state": {
       "layout": "IPY_MODEL_32868c5575d94e1cbb397c94db75e884",
       "style": "IPY_MODEL_5f9753cef12e42fb9ac43e83370257c2",
       "value": " 714/720 [00:05&lt;00:00, 122.43it/s]"
      }
     },
     "a2099cc3259f44c2986852800c6a77a5": {
      "model_module": "@jupyter-widgets/base",
      "model_module_version": "2.0.0",
      "model_name": "LayoutModel",
      "state": {}
     },
     "a20d8eab3bbe4ced8cab78912b58b4b9": {
      "model_module": "@jupyter-widgets/base",
      "model_module_version": "2.0.0",
      "model_name": "LayoutModel",
      "state": {}
     },
     "a236c22e2fd14e8e9ab74ca0d28e7eb1": {
      "model_module": "@jupyter-widgets/base",
      "model_module_version": "2.0.0",
      "model_name": "LayoutModel",
      "state": {
       "visibility": "hidden"
      }
     },
     "a267a3b766004b54927dd38cfd6185a9": {
      "model_module": "@jupyter-widgets/controls",
      "model_module_version": "2.0.0",
      "model_name": "HTMLModel",
      "state": {
       "layout": "IPY_MODEL_83e045b8a7834675b101e4edce0b34cb",
       "style": "IPY_MODEL_cbc3426f17fb4ec2b328cf0f54938692",
       "value": "Processing Months: 100%"
      }
     },
     "a2721f61737f49da8d3157cbbb1c504e": {
      "model_module": "@jupyter-widgets/base",
      "model_module_version": "2.0.0",
      "model_name": "LayoutModel",
      "state": {}
     },
     "a27362cf422441cab65e439269975677": {
      "model_module": "@jupyter-widgets/base",
      "model_module_version": "2.0.0",
      "model_name": "LayoutModel",
      "state": {}
     },
     "a2972fe0998445f7a6ddc643ba1f1c8c": {
      "model_module": "@jupyter-widgets/controls",
      "model_module_version": "2.0.0",
      "model_name": "HTMLModel",
      "state": {
       "layout": "IPY_MODEL_87a56444956c42159b622992a8327ea8",
       "style": "IPY_MODEL_965b2360385b4eb2b47a960ed0ff044b",
       "value": " 720/720 [00:05&lt;00:00, 135.09it/s]"
      }
     },
     "a2dc230122074f458ef59a6836cb1803": {
      "model_module": "@jupyter-widgets/base",
      "model_module_version": "2.0.0",
      "model_name": "LayoutModel",
      "state": {
       "visibility": "hidden"
      }
     },
     "a2ee03b16d2a4d58a35a29e5c5ed7edf": {
      "model_module": "@jupyter-widgets/controls",
      "model_module_version": "2.0.0",
      "model_name": "HTMLStyleModel",
      "state": {
       "description_width": "",
       "font_size": null,
       "text_color": null
      }
     },
     "a2f6da85fee046b48e8c76eb15fbe7a0": {
      "model_module": "@jupyter-widgets/base",
      "model_module_version": "2.0.0",
      "model_name": "LayoutModel",
      "state": {}
     },
     "a35a9bf58a35436482450d94d5bb141a": {
      "model_module": "@jupyter-widgets/controls",
      "model_module_version": "2.0.0",
      "model_name": "ProgressStyleModel",
      "state": {
       "description_width": ""
      }
     },
     "a35fdb2a1dc74497a590240361e8388f": {
      "model_module": "@jupyter-widgets/controls",
      "model_module_version": "2.0.0",
      "model_name": "FloatProgressModel",
      "state": {
       "layout": "IPY_MODEL_066eed14e4214c48bf15b1e5514adf23",
       "max": 720,
       "style": "IPY_MODEL_2c43517d89964f579b1d2fbf2d186d77",
       "value": 720
      }
     },
     "a3d7ac79cf114dada819b40f8cb568a2": {
      "model_module": "@jupyter-widgets/controls",
      "model_module_version": "2.0.0",
      "model_name": "HTMLModel",
      "state": {
       "layout": "IPY_MODEL_2215960da0ab4e64b4f4172dbb45f20e",
       "style": "IPY_MODEL_d6d185c7d4e547e5bfede3e9d98f5d0a",
       "value": "Processing CSVs: 100%"
      }
     },
     "a419f2d1fe4544688367e669b978e52d": {
      "model_module": "@jupyter-widgets/controls",
      "model_module_version": "2.0.0",
      "model_name": "ProgressStyleModel",
      "state": {
       "description_width": ""
      }
     },
     "a43a63bb1f52429b8889a3e41366986e": {
      "model_module": "@jupyter-widgets/base",
      "model_module_version": "2.0.0",
      "model_name": "LayoutModel",
      "state": {}
     },
     "a47f041617d74701acc83b4f8997cfa0": {
      "model_module": "@jupyter-widgets/controls",
      "model_module_version": "2.0.0",
      "model_name": "HTMLModel",
      "state": {
       "layout": "IPY_MODEL_6d5236fb390640dfb22106143ca95881",
       "style": "IPY_MODEL_ef949c92a0e2462d8f50ee9e4d3f447a",
       "value": " 716/720 [00:11&lt;00:00, 61.75it/s]"
      }
     },
     "a4d0f6a6bcc547d584ee1331209f3566": {
      "model_module": "@jupyter-widgets/base",
      "model_module_version": "2.0.0",
      "model_name": "LayoutModel",
      "state": {
       "visibility": "hidden"
      }
     },
     "a4d9eb5e582f420283cc6041af3686a5": {
      "model_module": "@jupyter-widgets/controls",
      "model_module_version": "2.0.0",
      "model_name": "HTMLStyleModel",
      "state": {
       "description_width": "",
       "font_size": null,
       "text_color": null
      }
     },
     "a4e1ab1698cc48febac874a4ac828151": {
      "model_module": "@jupyter-widgets/controls",
      "model_module_version": "2.0.0",
      "model_name": "HTMLModel",
      "state": {
       "layout": "IPY_MODEL_619715c249e14abdabc4b20d02e25673",
       "style": "IPY_MODEL_c3f7a71d913a4699999c67c039fedf23",
       "value": "Processing CSVs: 100%"
      }
     },
     "a4e3961df50047639e4f421d6a2a43b3": {
      "model_module": "@jupyter-widgets/base",
      "model_module_version": "2.0.0",
      "model_name": "LayoutModel",
      "state": {}
     },
     "a5074c0565b9433eb80ea94903baf05f": {
      "model_module": "@jupyter-widgets/controls",
      "model_module_version": "2.0.0",
      "model_name": "HTMLModel",
      "state": {
       "layout": "IPY_MODEL_8569fe5d3c3b46e4b17b4f6b876cf008",
       "style": "IPY_MODEL_8cd49818d19a4f09ae879e887e07b457",
       "value": " 737/744 [00:05&lt;00:00, 119.25it/s]"
      }
     },
     "a5308f6af5d649c48245b33e47037113": {
      "model_module": "@jupyter-widgets/base",
      "model_module_version": "2.0.0",
      "model_name": "LayoutModel",
      "state": {}
     },
     "a5519971703344e9baa1122405f55711": {
      "model_module": "@jupyter-widgets/base",
      "model_module_version": "2.0.0",
      "model_name": "LayoutModel",
      "state": {}
     },
     "a5a597c0b3904aa48ff1363897de0d2e": {
      "model_module": "@jupyter-widgets/controls",
      "model_module_version": "2.0.0",
      "model_name": "HTMLStyleModel",
      "state": {
       "description_width": "",
       "font_size": null,
       "text_color": null
      }
     },
     "a5df21ec0748432d82b83d85fd6a94a7": {
      "model_module": "@jupyter-widgets/controls",
      "model_module_version": "2.0.0",
      "model_name": "FloatProgressModel",
      "state": {
       "layout": "IPY_MODEL_620e5789d70849dfa090da59b9a6075c",
       "max": 744,
       "style": "IPY_MODEL_658d1dae795d44bcad2670be05e5cb67",
       "value": 744
      }
     },
     "a6189b95e1b0494c856a0a69ff08e53a": {
      "model_module": "@jupyter-widgets/controls",
      "model_module_version": "2.0.0",
      "model_name": "HTMLStyleModel",
      "state": {
       "description_width": "",
       "font_size": null,
       "text_color": null
      }
     },
     "a62f342a79a84d51b4180b62dc29de87": {
      "model_module": "@jupyter-widgets/controls",
      "model_module_version": "2.0.0",
      "model_name": "HTMLModel",
      "state": {
       "layout": "IPY_MODEL_cf294a344446489091e5dfc208d66460",
       "style": "IPY_MODEL_69a641b097774d6a8f014f225c38540d",
       "value": "Processing CSVs:  99%"
      }
     },
     "a64f2d146b8945409be1b5411d0a7741": {
      "model_module": "@jupyter-widgets/base",
      "model_module_version": "2.0.0",
      "model_name": "LayoutModel",
      "state": {}
     },
     "a65a6c23d1d64c84a572fc658da3c221": {
      "model_module": "@jupyter-widgets/controls",
      "model_module_version": "2.0.0",
      "model_name": "HTMLModel",
      "state": {
       "layout": "IPY_MODEL_f9743cf186dd4b369a545a9004205cd0",
       "style": "IPY_MODEL_47e2db5234b341138ba00d4044b32b66",
       "value": " 741/744 [00:05&lt;00:00, 122.72it/s]"
      }
     },
     "a6cd2f34e89a4731a47b3419aacb0d4b": {
      "model_module": "@jupyter-widgets/controls",
      "model_module_version": "2.0.0",
      "model_name": "FloatProgressModel",
      "state": {
       "layout": "IPY_MODEL_79e78f7416db4720b2ca7982a357951e",
       "max": 744,
       "style": "IPY_MODEL_3cf301c6d706447bba8a6e971c4d282e",
       "value": 744
      }
     },
     "a6d1562d83924616bdbea4d907732c28": {
      "model_module": "@jupyter-widgets/controls",
      "model_module_version": "2.0.0",
      "model_name": "HTMLStyleModel",
      "state": {
       "description_width": "",
       "font_size": null,
       "text_color": null
      }
     },
     "a7179f2d74514913bf25d0649d08f99b": {
      "model_module": "@jupyter-widgets/controls",
      "model_module_version": "2.0.0",
      "model_name": "HTMLStyleModel",
      "state": {
       "description_width": "",
       "font_size": null,
       "text_color": null
      }
     },
     "a7245832b2184bc7b2e9d35f6ba333d3": {
      "model_module": "@jupyter-widgets/controls",
      "model_module_version": "2.0.0",
      "model_name": "HTMLStyleModel",
      "state": {
       "description_width": "",
       "font_size": null,
       "text_color": null
      }
     },
     "a72babcc51d643b3acdbc4a7fe8ea362": {
      "model_module": "@jupyter-widgets/controls",
      "model_module_version": "2.0.0",
      "model_name": "HTMLModel",
      "state": {
       "layout": "IPY_MODEL_337258ff7ddf4fcbb053574c2e20d7b7",
       "style": "IPY_MODEL_1a14dd151f0443e09b294a2b84396ef1",
       "value": " 737/744 [00:06&lt;00:00, 125.53it/s]"
      }
     },
     "a735a067a3154ac3b29354d349938969": {
      "model_module": "@jupyter-widgets/controls",
      "model_module_version": "2.0.0",
      "model_name": "HTMLModel",
      "state": {
       "layout": "IPY_MODEL_22fe5cce3426496abf8b609829f0dc4a",
       "style": "IPY_MODEL_913978a5bbf54b8c9eafeaf93a7eba19",
       "value": " 714/720 [00:05&lt;00:00, 125.39it/s]"
      }
     },
     "a740640fe85d4b1cac49efa5fe3f3727": {
      "model_module": "@jupyter-widgets/controls",
      "model_module_version": "2.0.0",
      "model_name": "HTMLStyleModel",
      "state": {
       "description_width": "",
       "font_size": null,
       "text_color": null
      }
     },
     "a74e7a547b674dccb4b114ba91456520": {
      "model_module": "@jupyter-widgets/base",
      "model_module_version": "2.0.0",
      "model_name": "LayoutModel",
      "state": {}
     },
     "a75abc4d06a84b6a8f46e600451e5db5": {
      "model_module": "@jupyter-widgets/controls",
      "model_module_version": "2.0.0",
      "model_name": "HTMLModel",
      "state": {
       "layout": "IPY_MODEL_ceb7953d506b475096aeddca6e6a047a",
       "style": "IPY_MODEL_2683fff363c949838345f93e83fb8ddd",
       "value": "Processing CSVs: 100%"
      }
     },
     "a787c623aa504effa3a53f07de90948e": {
      "model_module": "@jupyter-widgets/base",
      "model_module_version": "2.0.0",
      "model_name": "LayoutModel",
      "state": {
       "visibility": "hidden"
      }
     },
     "a7b47e33795d4dd5bbcd46473778c88b": {
      "model_module": "@jupyter-widgets/controls",
      "model_module_version": "2.0.0",
      "model_name": "HTMLStyleModel",
      "state": {
       "description_width": "",
       "font_size": null,
       "text_color": null
      }
     },
     "a7dd0cfe9a2e4979adf3f49f48fcefff": {
      "model_module": "@jupyter-widgets/base",
      "model_module_version": "2.0.0",
      "model_name": "LayoutModel",
      "state": {
       "visibility": "hidden"
      }
     },
     "a8039e15705e4926b0c7424d14eed593": {
      "model_module": "@jupyter-widgets/base",
      "model_module_version": "2.0.0",
      "model_name": "LayoutModel",
      "state": {}
     },
     "a84af8050af547839402f898a5c4f8ea": {
      "model_module": "@jupyter-widgets/base",
      "model_module_version": "2.0.0",
      "model_name": "LayoutModel",
      "state": {}
     },
     "a85a3990d1514b7ba391d0ea53767553": {
      "model_module": "@jupyter-widgets/controls",
      "model_module_version": "2.0.0",
      "model_name": "HTMLModel",
      "state": {
       "layout": "IPY_MODEL_9ddafdcfe3424586b0795c4d7d20c273",
       "style": "IPY_MODEL_a6189b95e1b0494c856a0a69ff08e53a",
       "value": " 716/720 [00:05&lt;00:00, 135.00it/s]"
      }
     },
     "a861a64663e5436f80a6a1da284e4b1d": {
      "model_module": "@jupyter-widgets/base",
      "model_module_version": "2.0.0",
      "model_name": "LayoutModel",
      "state": {
       "visibility": "hidden"
      }
     },
     "a8953f7eb4924c1f8bcee25ba9db394d": {
      "model_module": "@jupyter-widgets/base",
      "model_module_version": "2.0.0",
      "model_name": "LayoutModel",
      "state": {
       "visibility": "hidden"
      }
     },
     "a89b935709654e70988b03ba88fb09b6": {
      "model_module": "@jupyter-widgets/base",
      "model_module_version": "2.0.0",
      "model_name": "LayoutModel",
      "state": {}
     },
     "a8c68c84242c433bb25924e2a529c573": {
      "model_module": "@jupyter-widgets/controls",
      "model_module_version": "2.0.0",
      "model_name": "FloatProgressModel",
      "state": {
       "layout": "IPY_MODEL_117000e1a2d64a39a4be347c7d025a8c",
       "max": 744,
       "style": "IPY_MODEL_43a6611792db43b28577f3ebd65f70b6",
       "value": 744
      }
     },
     "a8e267486684461aaf2bd10b687656c0": {
      "model_module": "@jupyter-widgets/controls",
      "model_module_version": "2.0.0",
      "model_name": "HTMLStyleModel",
      "state": {
       "description_width": "",
       "font_size": null,
       "text_color": null
      }
     },
     "a902b46e318449a19d39508a57661f0a": {
      "model_module": "@jupyter-widgets/controls",
      "model_module_version": "2.0.0",
      "model_name": "FloatProgressModel",
      "state": {
       "layout": "IPY_MODEL_d634b87325d049829b6c547be8dc510d",
       "max": 744,
       "style": "IPY_MODEL_863786fa57564baa9ff03598d5832991",
       "value": 744
      }
     },
     "a90e8be9a5b74a1fadfc0ab2bbe53f18": {
      "model_module": "@jupyter-widgets/base",
      "model_module_version": "2.0.0",
      "model_name": "LayoutModel",
      "state": {}
     },
     "a9285bb1a9c849bd8c354c9d4e121f35": {
      "model_module": "@jupyter-widgets/controls",
      "model_module_version": "2.0.0",
      "model_name": "FloatProgressModel",
      "state": {
       "layout": "IPY_MODEL_41f58541bbe046b2aaeeb094cc905a87",
       "max": 744,
       "style": "IPY_MODEL_2b9592953f0543b1acf98efa84c4e8a3",
       "value": 744
      }
     },
     "a987d6dfb12345a4a11a66ad0ff1e0a7": {
      "model_module": "@jupyter-widgets/controls",
      "model_module_version": "2.0.0",
      "model_name": "HTMLModel",
      "state": {
       "layout": "IPY_MODEL_f9ff880ce90a4a4c8c70f424011fd3c0",
       "style": "IPY_MODEL_bf043a7a54a34d6a87e1b77337d264be",
       "value": "Processing CSVs: 100%"
      }
     },
     "a9973c79408841e598cb24a0d5c39c6f": {
      "model_module": "@jupyter-widgets/controls",
      "model_module_version": "2.0.0",
      "model_name": "ProgressStyleModel",
      "state": {
       "description_width": ""
      }
     },
     "aa01a32eeb524b1faa0d3295b7d8edea": {
      "model_module": "@jupyter-widgets/base",
      "model_module_version": "2.0.0",
      "model_name": "LayoutModel",
      "state": {
       "visibility": "hidden"
      }
     },
     "aa0cfbe9865e40f598c17730f05524b3": {
      "model_module": "@jupyter-widgets/controls",
      "model_module_version": "2.0.0",
      "model_name": "HTMLModel",
      "state": {
       "layout": "IPY_MODEL_459bc4597b5b44b9b69d87f8e5f40bc9",
       "style": "IPY_MODEL_cfd268baca1d405c9b54e59c6d2555bd",
       "value": " 736/744 [00:05&lt;00:00, 124.26it/s]"
      }
     },
     "aa18fa8bbdf54a3c9cfd7ad0b2ed98a2": {
      "model_module": "@jupyter-widgets/controls",
      "model_module_version": "2.0.0",
      "model_name": "ProgressStyleModel",
      "state": {
       "description_width": ""
      }
     },
     "aa366c383351433699c2ae4eb113460b": {
      "model_module": "@jupyter-widgets/controls",
      "model_module_version": "2.0.0",
      "model_name": "FloatProgressModel",
      "state": {
       "layout": "IPY_MODEL_54890be085d741d89d4c2db03b9a97ee",
       "max": 6,
       "style": "IPY_MODEL_65790d172b2f45218c4c24f87ced2ec2",
       "value": 6
      }
     },
     "aa4a4b584f5d4a51974447f87445b55d": {
      "model_module": "@jupyter-widgets/base",
      "model_module_version": "2.0.0",
      "model_name": "LayoutModel",
      "state": {}
     },
     "aa741e1fea8e4881a2f65dc7617ffde5": {
      "model_module": "@jupyter-widgets/base",
      "model_module_version": "2.0.0",
      "model_name": "LayoutModel",
      "state": {}
     },
     "aa78a62bfd414be5837e4e879b4c2d28": {
      "model_module": "@jupyter-widgets/controls",
      "model_module_version": "2.0.0",
      "model_name": "HTMLStyleModel",
      "state": {
       "description_width": "",
       "font_size": null,
       "text_color": null
      }
     },
     "aaaa8f52082f47c7bebc1a92e745187a": {
      "model_module": "@jupyter-widgets/controls",
      "model_module_version": "2.0.0",
      "model_name": "HTMLModel",
      "state": {
       "layout": "IPY_MODEL_a16a1c43bda74de49ae7fb23a189c8e7",
       "style": "IPY_MODEL_73a00724bec14c27af9f49b901e65a11",
       "value": " 741/744 [00:12&lt;00:00, 57.39it/s]"
      }
     },
     "aaefbc1e6be14d45ae2922e40291d2bd": {
      "model_module": "@jupyter-widgets/controls",
      "model_module_version": "2.0.0",
      "model_name": "HTMLStyleModel",
      "state": {
       "description_width": "",
       "font_size": null,
       "text_color": null
      }
     },
     "ab128cb0b5d44d649659599df3c4a426": {
      "model_module": "@jupyter-widgets/base",
      "model_module_version": "2.0.0",
      "model_name": "LayoutModel",
      "state": {}
     },
     "ab442d743b7b47dfbc7238754b4d9d16": {
      "model_module": "@jupyter-widgets/controls",
      "model_module_version": "2.0.0",
      "model_name": "HTMLModel",
      "state": {
       "layout": "IPY_MODEL_0e8fcdf201cb492da35e26629bb3e0a0",
       "style": "IPY_MODEL_0ff823b66860489790f4902d869d6b4b",
       "value": " 742/744 [00:05&lt;00:00, 123.90it/s]"
      }
     },
     "ab975b16e32349948c6017c43d90a67d": {
      "model_module": "@jupyter-widgets/controls",
      "model_module_version": "2.0.0",
      "model_name": "ProgressStyleModel",
      "state": {
       "description_width": ""
      }
     },
     "ac0d40b0b274433b9ab0936c596052ce": {
      "model_module": "@jupyter-widgets/base",
      "model_module_version": "2.0.0",
      "model_name": "LayoutModel",
      "state": {}
     },
     "ac8b9d382ab9431aaeda2cdb1212dd80": {
      "model_module": "@jupyter-widgets/controls",
      "model_module_version": "2.0.0",
      "model_name": "HTMLStyleModel",
      "state": {
       "description_width": "",
       "font_size": null,
       "text_color": null
      }
     },
     "ac92b69d9bf6495b8ebca93efd4bc89c": {
      "model_module": "@jupyter-widgets/controls",
      "model_module_version": "2.0.0",
      "model_name": "HTMLModel",
      "state": {
       "layout": "IPY_MODEL_5874c4994a9a409cad46e2f641692e6c",
       "style": "IPY_MODEL_7463192b42904db98bff6a1485568227",
       "value": "Processing Months:  33%"
      }
     },
     "acdaa9c5a57944ac839e781e01efe0e2": {
      "model_module": "@jupyter-widgets/base",
      "model_module_version": "2.0.0",
      "model_name": "LayoutModel",
      "state": {}
     },
     "acf722075e87441b834031cb89bcc7b4": {
      "model_module": "@jupyter-widgets/base",
      "model_module_version": "2.0.0",
      "model_name": "LayoutModel",
      "state": {}
     },
     "ad6971e60da9442a9dc316f7ba5a0144": {
      "model_module": "@jupyter-widgets/controls",
      "model_module_version": "2.0.0",
      "model_name": "ProgressStyleModel",
      "state": {
       "description_width": ""
      }
     },
     "adc1ea23633a45b0bf87049554dd9346": {
      "model_module": "@jupyter-widgets/controls",
      "model_module_version": "2.0.0",
      "model_name": "HTMLModel",
      "state": {
       "layout": "IPY_MODEL_579217186e70422982aa874092d32412",
       "style": "IPY_MODEL_c7604a18f0fa4449972f1444714bc027",
       "value": " 733/744 [00:05&lt;00:00, 125.66it/s]"
      }
     },
     "ae4f0eac21a947d387505c0ff229b935": {
      "model_module": "@jupyter-widgets/controls",
      "model_module_version": "2.0.0",
      "model_name": "HTMLModel",
      "state": {
       "layout": "IPY_MODEL_4b367e90dbc74967b1a4a6d619087a7c",
       "style": "IPY_MODEL_5cc3c2e8f8894963b1ec77f2fd63fff0",
       "value": "Processing CSVs:  99%"
      }
     },
     "ae751e0c63cd481e9d4560ca74e83cc7": {
      "model_module": "@jupyter-widgets/base",
      "model_module_version": "2.0.0",
      "model_name": "LayoutModel",
      "state": {
       "visibility": "hidden"
      }
     },
     "aef433689c1a405f8e2a5e26dc5268b3": {
      "model_module": "@jupyter-widgets/base",
      "model_module_version": "2.0.0",
      "model_name": "LayoutModel",
      "state": {}
     },
     "aff3c0bedd9341dea535d760d8bda8f6": {
      "model_module": "@jupyter-widgets/controls",
      "model_module_version": "2.0.0",
      "model_name": "ProgressStyleModel",
      "state": {
       "description_width": ""
      }
     },
     "b02b846649a54dabb73d1317ff5f30ce": {
      "model_module": "@jupyter-widgets/base",
      "model_module_version": "2.0.0",
      "model_name": "LayoutModel",
      "state": {
       "visibility": "hidden"
      }
     },
     "b0e7a626c766442d91277d5543863720": {
      "model_module": "@jupyter-widgets/controls",
      "model_module_version": "2.0.0",
      "model_name": "ProgressStyleModel",
      "state": {
       "description_width": ""
      }
     },
     "b1021bc833914eedad64f42d41ed54e3": {
      "model_module": "@jupyter-widgets/base",
      "model_module_version": "2.0.0",
      "model_name": "LayoutModel",
      "state": {}
     },
     "b21b0dbeba5a4c2683a52d6b14feda09": {
      "model_module": "@jupyter-widgets/controls",
      "model_module_version": "2.0.0",
      "model_name": "HTMLModel",
      "state": {
       "layout": "IPY_MODEL_7eb0109a8cb842bda4180e33d475258c",
       "style": "IPY_MODEL_8b6b6e91f65e4c2e97a419f44c04de19",
       "value": "Processing CSVs:  99%"
      }
     },
     "b2bd397dbfe14e8daa3bcd594e82050c": {
      "model_module": "@jupyter-widgets/controls",
      "model_module_version": "2.0.0",
      "model_name": "HTMLModel",
      "state": {
       "layout": "IPY_MODEL_bd29a576db314fdb8aa9733656a4e6e2",
       "style": "IPY_MODEL_71d990e02782496bac8619e1ae7def3c",
       "value": " 738/744 [00:06&lt;00:00, 98.49it/s]"
      }
     },
     "b2c1f9f16b6a4bd8b6fa8e583e5098e1": {
      "model_module": "@jupyter-widgets/controls",
      "model_module_version": "2.0.0",
      "model_name": "HTMLStyleModel",
      "state": {
       "description_width": "",
       "font_size": null,
       "text_color": null
      }
     },
     "b33032e62500485f8d0b9d03be8bbb6b": {
      "model_module": "@jupyter-widgets/controls",
      "model_module_version": "2.0.0",
      "model_name": "HTMLModel",
      "state": {
       "layout": "IPY_MODEL_b892af4640114db7aa887113bfabcdb0",
       "style": "IPY_MODEL_e713a37253b1469f95dd47d8b2c31937",
       "value": "Processing CSVs: 100%"
      }
     },
     "b33bd49d0e7a4b1d8a19db11493273ef": {
      "model_module": "@jupyter-widgets/base",
      "model_module_version": "2.0.0",
      "model_name": "LayoutModel",
      "state": {
       "visibility": "hidden"
      }
     },
     "b3ce4e8bc5c9432b910192133cc01f4b": {
      "model_module": "@jupyter-widgets/base",
      "model_module_version": "2.0.0",
      "model_name": "LayoutModel",
      "state": {}
     },
     "b3d57954db2b411eb88d0cb7920cc69b": {
      "model_module": "@jupyter-widgets/controls",
      "model_module_version": "2.0.0",
      "model_name": "HTMLStyleModel",
      "state": {
       "description_width": "",
       "font_size": null,
       "text_color": null
      }
     },
     "b4b99192bd3546af9556800587f623bf": {
      "model_module": "@jupyter-widgets/base",
      "model_module_version": "2.0.0",
      "model_name": "LayoutModel",
      "state": {}
     },
     "b4e36ee3b94f4421bf3340c437d3e3ab": {
      "model_module": "@jupyter-widgets/controls",
      "model_module_version": "2.0.0",
      "model_name": "HTMLModel",
      "state": {
       "layout": "IPY_MODEL_53d9893eb1e14bcc9551a2b97f424524",
       "style": "IPY_MODEL_ceef7155daa245a3b07830f45d3f42c8",
       "value": " 743/744 [00:05&lt;00:00, 133.89it/s]"
      }
     },
     "b53d695467744c23ad8aeea3d8db1f1e": {
      "model_module": "@jupyter-widgets/base",
      "model_module_version": "2.0.0",
      "model_name": "LayoutModel",
      "state": {}
     },
     "b56367c944a746d88c7e5628b3e9f2f5": {
      "model_module": "@jupyter-widgets/controls",
      "model_module_version": "2.0.0",
      "model_name": "FloatProgressModel",
      "state": {
       "layout": "IPY_MODEL_9a3d4a44424c42e78e4467d6a1adeef4",
       "max": 744,
       "style": "IPY_MODEL_c68ae854e7a04bafb5d13b2d8ea8023b",
       "value": 744
      }
     },
     "b57e6c1372d449e1adecd2ed4c338648": {
      "model_module": "@jupyter-widgets/controls",
      "model_module_version": "2.0.0",
      "model_name": "HTMLModel",
      "state": {
       "layout": "IPY_MODEL_53e06db8ec5642af8de771396d51dd1e",
       "style": "IPY_MODEL_3783ec0c54d349c7bb282dd1404a777e",
       "value": "Processing CSVs:  99%"
      }
     },
     "b5ae0ba55e594af88eff695a8c379766": {
      "model_module": "@jupyter-widgets/base",
      "model_module_version": "2.0.0",
      "model_name": "LayoutModel",
      "state": {}
     },
     "b5bd819df4f2465fa3eccb46b9eadbf2": {
      "model_module": "@jupyter-widgets/controls",
      "model_module_version": "2.0.0",
      "model_name": "HTMLStyleModel",
      "state": {
       "description_width": "",
       "font_size": null,
       "text_color": null
      }
     },
     "b5dc8907f4bc49738022759501448674": {
      "model_module": "@jupyter-widgets/base",
      "model_module_version": "2.0.0",
      "model_name": "LayoutModel",
      "state": {}
     },
     "b61c21728e584821a79dfd95e065099a": {
      "model_module": "@jupyter-widgets/controls",
      "model_module_version": "2.0.0",
      "model_name": "HTMLModel",
      "state": {
       "layout": "IPY_MODEL_9a50bae346d34aa58877c21d9a684c95",
       "style": "IPY_MODEL_14f0dba9d98947c7b763b1237bb90642",
       "value": " 712/720 [00:06&lt;00:00, 113.13it/s]"
      }
     },
     "b6b12164b7764cd7897e93c9c9b370d8": {
      "model_module": "@jupyter-widgets/base",
      "model_module_version": "2.0.0",
      "model_name": "LayoutModel",
      "state": {
       "visibility": "hidden"
      }
     },
     "b6bd9eeb481c4dbbb493374f9581bbf6": {
      "model_module": "@jupyter-widgets/controls",
      "model_module_version": "2.0.0",
      "model_name": "HTMLModel",
      "state": {
       "layout": "IPY_MODEL_c3b5f5b4edbe4420990b5d4c9f0c3cf9",
       "style": "IPY_MODEL_00efcf829ed64f45b428d82d5997e67f",
       "value": "Processing CSVs:  98%"
      }
     },
     "b78d81eff7d14b2b83fcb38f4cbb8d50": {
      "model_module": "@jupyter-widgets/controls",
      "model_module_version": "2.0.0",
      "model_name": "ProgressStyleModel",
      "state": {
       "description_width": ""
      }
     },
     "b7c3a2655ff64b8e84936a0b4c2f04ab": {
      "model_module": "@jupyter-widgets/base",
      "model_module_version": "2.0.0",
      "model_name": "LayoutModel",
      "state": {
       "visibility": "hidden"
      }
     },
     "b7e6045655b0490790b92cf3f3be3371": {
      "model_module": "@jupyter-widgets/base",
      "model_module_version": "2.0.0",
      "model_name": "LayoutModel",
      "state": {}
     },
     "b81eda88b86b4567a73a76d590995074": {
      "model_module": "@jupyter-widgets/controls",
      "model_module_version": "2.0.0",
      "model_name": "FloatProgressModel",
      "state": {
       "layout": "IPY_MODEL_93d04a4363424ecb8900aa465d59c71d",
       "max": 744,
       "style": "IPY_MODEL_24890f00867d4521ae572c1c379ecf9d",
       "value": 744
      }
     },
     "b848129dbf5341c8b8011a71c1dd37fa": {
      "model_module": "@jupyter-widgets/base",
      "model_module_version": "2.0.0",
      "model_name": "LayoutModel",
      "state": {
       "visibility": "hidden"
      }
     },
     "b860c575648d491cb3abd7df3797fc73": {
      "model_module": "@jupyter-widgets/controls",
      "model_module_version": "2.0.0",
      "model_name": "HTMLStyleModel",
      "state": {
       "description_width": "",
       "font_size": null,
       "text_color": null
      }
     },
     "b86fbf9fe3664e93bb936750a7c7d52c": {
      "model_module": "@jupyter-widgets/controls",
      "model_module_version": "2.0.0",
      "model_name": "HTMLModel",
      "state": {
       "layout": "IPY_MODEL_2d2144829f5544b39e813fd2fab5e670",
       "style": "IPY_MODEL_883cfbfaec9f49fca136c67231dc56e6",
       "value": " 743/744 [00:05&lt;00:00, 133.43it/s]"
      }
     },
     "b892af4640114db7aa887113bfabcdb0": {
      "model_module": "@jupyter-widgets/base",
      "model_module_version": "2.0.0",
      "model_name": "LayoutModel",
      "state": {}
     },
     "b8b70faecba048b68a2a998224e80cbf": {
      "model_module": "@jupyter-widgets/base",
      "model_module_version": "2.0.0",
      "model_name": "LayoutModel",
      "state": {}
     },
     "b8d16296d92e4c22bdac223d87c907c3": {
      "model_module": "@jupyter-widgets/base",
      "model_module_version": "2.0.0",
      "model_name": "LayoutModel",
      "state": {}
     },
     "b97fe7d591f841169cec158647c34897": {
      "model_module": "@jupyter-widgets/base",
      "model_module_version": "2.0.0",
      "model_name": "LayoutModel",
      "state": {}
     },
     "b9ca698410c04809b79b5303bd99d4ff": {
      "model_module": "@jupyter-widgets/base",
      "model_module_version": "2.0.0",
      "model_name": "LayoutModel",
      "state": {}
     },
     "b9d40fae56664b4baeafc46b0350080b": {
      "model_module": "@jupyter-widgets/controls",
      "model_module_version": "2.0.0",
      "model_name": "ProgressStyleModel",
      "state": {
       "description_width": ""
      }
     },
     "b9f80af8c36b4b90888efa426385a5ba": {
      "model_module": "@jupyter-widgets/controls",
      "model_module_version": "2.0.0",
      "model_name": "HTMLStyleModel",
      "state": {
       "description_width": "",
       "font_size": null,
       "text_color": null
      }
     },
     "ba01e9b687854233a740e2747a35cafb": {
      "model_module": "@jupyter-widgets/controls",
      "model_module_version": "2.0.0",
      "model_name": "HTMLModel",
      "state": {
       "layout": "IPY_MODEL_26ce2f71289943d3ab0c0d16e90ee6b4",
       "style": "IPY_MODEL_097429a50b6b426bbfec8e2ef77e8b3d",
       "value": "Processing CSVs:  99%"
      }
     },
     "ba14b82eb33b4aa7ad596c71a0894572": {
      "model_module": "@jupyter-widgets/base",
      "model_module_version": "2.0.0",
      "model_name": "LayoutModel",
      "state": {
       "visibility": "hidden"
      }
     },
     "ba4c63ae745447e999e5d9aa06c851bf": {
      "model_module": "@jupyter-widgets/controls",
      "model_module_version": "2.0.0",
      "model_name": "ProgressStyleModel",
      "state": {
       "description_width": ""
      }
     },
     "ba5ac7e7ad294e55b6d8ab8792b04e0f": {
      "model_module": "@jupyter-widgets/controls",
      "model_module_version": "2.0.0",
      "model_name": "FloatProgressModel",
      "state": {
       "layout": "IPY_MODEL_aa4a4b584f5d4a51974447f87445b55d",
       "max": 744,
       "style": "IPY_MODEL_4db83a3fcd47428f8ca7d967cd5df1bb",
       "value": 744
      }
     },
     "ba65aaeda41f4de6bd9c96306d64e86f": {
      "model_module": "@jupyter-widgets/base",
      "model_module_version": "2.0.0",
      "model_name": "LayoutModel",
      "state": {}
     },
     "ba6e536510744c8bb6d4c3c843f49034": {
      "model_module": "@jupyter-widgets/controls",
      "model_module_version": "2.0.0",
      "model_name": "ProgressStyleModel",
      "state": {
       "description_width": ""
      }
     },
     "babf5c24bf8044f6ba7e593cbf899ff2": {
      "model_module": "@jupyter-widgets/controls",
      "model_module_version": "2.0.0",
      "model_name": "FloatProgressModel",
      "state": {
       "layout": "IPY_MODEL_44bfa88211c44fca90d6f73795eb8001",
       "max": 744,
       "style": "IPY_MODEL_50ad10f89fe14f7281d91f5dd3718c1a",
       "value": 744
      }
     },
     "baea338e1f484c27aec1842e3d469907": {
      "model_module": "@jupyter-widgets/base",
      "model_module_version": "2.0.0",
      "model_name": "LayoutModel",
      "state": {}
     },
     "baed38910673424683ac7f5f5a5d4bb4": {
      "model_module": "@jupyter-widgets/base",
      "model_module_version": "2.0.0",
      "model_name": "LayoutModel",
      "state": {}
     },
     "bb688179f1054225a29fbea47ea2d412": {
      "model_module": "@jupyter-widgets/base",
      "model_module_version": "2.0.0",
      "model_name": "LayoutModel",
      "state": {}
     },
     "bb6d2e84bfea4ca5baa5e37156c4749d": {
      "model_module": "@jupyter-widgets/controls",
      "model_module_version": "2.0.0",
      "model_name": "HTMLStyleModel",
      "state": {
       "description_width": "",
       "font_size": null,
       "text_color": null
      }
     },
     "bbe82e0f62eb4d9fa8106ca460c4f3e5": {
      "model_module": "@jupyter-widgets/controls",
      "model_module_version": "2.0.0",
      "model_name": "FloatProgressModel",
      "state": {
       "layout": "IPY_MODEL_ff5b66309b564c76a1cd57b84e8f47a0",
       "max": 744,
       "style": "IPY_MODEL_fb2672c432e24264939936a0bda3d5ee",
       "value": 744
      }
     },
     "bc09d31978f74ad6ab5d7661abb79c5f": {
      "model_module": "@jupyter-widgets/controls",
      "model_module_version": "2.0.0",
      "model_name": "HTMLStyleModel",
      "state": {
       "description_width": "",
       "font_size": null,
       "text_color": null
      }
     },
     "bc240ec008ae438b9dc0eabf759630d5": {
      "model_module": "@jupyter-widgets/controls",
      "model_module_version": "2.0.0",
      "model_name": "HTMLModel",
      "state": {
       "layout": "IPY_MODEL_fa4feb9411d74b2aba038df4790057e0",
       "style": "IPY_MODEL_2961b55e65904d31a56c488c56252da8",
       "value": " 734/744 [00:06&lt;00:00, 107.06it/s]"
      }
     },
     "bc26325436604f499a4a789833377e12": {
      "model_module": "@jupyter-widgets/base",
      "model_module_version": "2.0.0",
      "model_name": "LayoutModel",
      "state": {}
     },
     "bd05b4b4755445998a3d156300ce8d83": {
      "model_module": "@jupyter-widgets/controls",
      "model_module_version": "2.0.0",
      "model_name": "HTMLStyleModel",
      "state": {
       "description_width": "",
       "font_size": null,
       "text_color": null
      }
     },
     "bd06e31001d14a6ba80da2ceba4ecfb8": {
      "model_module": "@jupyter-widgets/base",
      "model_module_version": "2.0.0",
      "model_name": "LayoutModel",
      "state": {}
     },
     "bd29a576db314fdb8aa9733656a4e6e2": {
      "model_module": "@jupyter-widgets/base",
      "model_module_version": "2.0.0",
      "model_name": "LayoutModel",
      "state": {}
     },
     "bd2e006454154ac7b4cb10ee2099564e": {
      "model_module": "@jupyter-widgets/controls",
      "model_module_version": "2.0.0",
      "model_name": "HTMLModel",
      "state": {
       "layout": "IPY_MODEL_382936c29e7c44558ce6012d39bc5f73",
       "style": "IPY_MODEL_1b063261d4234235ba4760d886579eba",
       "value": " 651/655 [00:10&lt;00:00, 63.60it/s]"
      }
     },
     "bd90bec3db6f493c9984b40cefc858b0": {
      "model_module": "@jupyter-widgets/controls",
      "model_module_version": "2.0.0",
      "model_name": "HTMLStyleModel",
      "state": {
       "description_width": "",
       "font_size": null,
       "text_color": null
      }
     },
     "bd9330cdf3be46f2818f03e7182175f6": {
      "model_module": "@jupyter-widgets/base",
      "model_module_version": "2.0.0",
      "model_name": "LayoutModel",
      "state": {}
     },
     "bdef6efc19594e2190add9bfc9c0fc51": {
      "model_module": "@jupyter-widgets/base",
      "model_module_version": "2.0.0",
      "model_name": "LayoutModel",
      "state": {}
     },
     "be10b6ab52694c4b9a4221b9b4d4c110": {
      "model_module": "@jupyter-widgets/controls",
      "model_module_version": "2.0.0",
      "model_name": "HTMLModel",
      "state": {
       "layout": "IPY_MODEL_5bcc1d0b098c403f870c5e5fc334e548",
       "style": "IPY_MODEL_80bf1f1a24b2415ab1089788dc047667",
       "value": "Processing CSVs: 100%"
      }
     },
     "be36b1d3759a40d3af0d70281ba57e36": {
      "model_module": "@jupyter-widgets/base",
      "model_module_version": "2.0.0",
      "model_name": "LayoutModel",
      "state": {}
     },
     "be3861b4be274b1a8583715e025524d1": {
      "model_module": "@jupyter-widgets/base",
      "model_module_version": "2.0.0",
      "model_name": "LayoutModel",
      "state": {}
     },
     "be8623eafa1f4801b8cc201b98332c8f": {
      "model_module": "@jupyter-widgets/base",
      "model_module_version": "2.0.0",
      "model_name": "LayoutModel",
      "state": {}
     },
     "bf043a7a54a34d6a87e1b77337d264be": {
      "model_module": "@jupyter-widgets/controls",
      "model_module_version": "2.0.0",
      "model_name": "HTMLStyleModel",
      "state": {
       "description_width": "",
       "font_size": null,
       "text_color": null
      }
     },
     "bf0c801040134217869d7acdc7e04ba2": {
      "model_module": "@jupyter-widgets/base",
      "model_module_version": "2.0.0",
      "model_name": "LayoutModel",
      "state": {}
     },
     "bf0ee36881004f0cae778846f71e27b6": {
      "model_module": "@jupyter-widgets/base",
      "model_module_version": "2.0.0",
      "model_name": "LayoutModel",
      "state": {}
     },
     "bf149c0ff1544207b7a21bd6500d6ac6": {
      "model_module": "@jupyter-widgets/base",
      "model_module_version": "2.0.0",
      "model_name": "LayoutModel",
      "state": {}
     },
     "bf2dbb271f2e473cb98e225f6fbdd82d": {
      "model_module": "@jupyter-widgets/controls",
      "model_module_version": "2.0.0",
      "model_name": "HTMLStyleModel",
      "state": {
       "description_width": "",
       "font_size": null,
       "text_color": null
      }
     },
     "bf320593ef2449c38806f3913365b449": {
      "model_module": "@jupyter-widgets/controls",
      "model_module_version": "2.0.0",
      "model_name": "ProgressStyleModel",
      "state": {
       "description_width": ""
      }
     },
     "bf6a377a98a54c1da84bdf29afc2de0a": {
      "model_module": "@jupyter-widgets/base",
      "model_module_version": "2.0.0",
      "model_name": "LayoutModel",
      "state": {}
     },
     "bfc88e0644384914b60d04a15c67fad1": {
      "model_module": "@jupyter-widgets/base",
      "model_module_version": "2.0.0",
      "model_name": "LayoutModel",
      "state": {}
     },
     "bfca43894c2c43898b191862b2cbc14b": {
      "model_module": "@jupyter-widgets/base",
      "model_module_version": "2.0.0",
      "model_name": "LayoutModel",
      "state": {}
     },
     "c00824d300cb4990aadc36cb0e965515": {
      "model_module": "@jupyter-widgets/controls",
      "model_module_version": "2.0.0",
      "model_name": "FloatProgressModel",
      "state": {
       "layout": "IPY_MODEL_2a66a0cb6699425285891f9467c2a102",
       "max": 720,
       "style": "IPY_MODEL_9c1032b2346e4eed9c290dba8424e36e",
       "value": 720
      }
     },
     "c04c4dac1b13428ba413477a36217969": {
      "model_module": "@jupyter-widgets/controls",
      "model_module_version": "2.0.0",
      "model_name": "HTMLModel",
      "state": {
       "layout": "IPY_MODEL_33ae2eccfd3f45f0a8642c1c4a3991f7",
       "style": "IPY_MODEL_68abc4370f7c4c3e861a9b46468719e3",
       "value": " 662/672 [00:05&lt;00:00, 110.27it/s]"
      }
     },
     "c08dbbb04ce140a19838a91c0d40e2ff": {
      "model_module": "@jupyter-widgets/base",
      "model_module_version": "2.0.0",
      "model_name": "LayoutModel",
      "state": {}
     },
     "c098e179dac84da7a0448f0108fd2797": {
      "model_module": "@jupyter-widgets/base",
      "model_module_version": "2.0.0",
      "model_name": "LayoutModel",
      "state": {
       "visibility": "hidden"
      }
     },
     "c0eb9f0f9a5e47279792bb99017809ac": {
      "model_module": "@jupyter-widgets/controls",
      "model_module_version": "2.0.0",
      "model_name": "HTMLModel",
      "state": {
       "layout": "IPY_MODEL_35ffc54accfc481d8dafdc46be63fd32",
       "style": "IPY_MODEL_1c045a9bd3eb4c0c811f73c32912df7b",
       "value": " 710/720 [00:06&lt;00:00, 122.76it/s]"
      }
     },
     "c0f0aedd8afa497f9c66aba59dc23c8f": {
      "model_module": "@jupyter-widgets/controls",
      "model_module_version": "2.0.0",
      "model_name": "ProgressStyleModel",
      "state": {
       "description_width": ""
      }
     },
     "c0f30df6ab5c4cb5a1c20d2fa1595f94": {
      "model_module": "@jupyter-widgets/base",
      "model_module_version": "2.0.0",
      "model_name": "LayoutModel",
      "state": {}
     },
     "c16276ad27724458be992f3c153d9b69": {
      "model_module": "@jupyter-widgets/base",
      "model_module_version": "2.0.0",
      "model_name": "LayoutModel",
      "state": {}
     },
     "c17df8cb5ac2431bb76ec0741040c339": {
      "model_module": "@jupyter-widgets/controls",
      "model_module_version": "2.0.0",
      "model_name": "ProgressStyleModel",
      "state": {
       "description_width": ""
      }
     },
     "c180c55edc1342a0aae791504ab011cc": {
      "model_module": "@jupyter-widgets/controls",
      "model_module_version": "2.0.0",
      "model_name": "ProgressStyleModel",
      "state": {
       "description_width": ""
      }
     },
     "c1919c5790ad46d9a334da15e857af36": {
      "model_module": "@jupyter-widgets/controls",
      "model_module_version": "2.0.0",
      "model_name": "HTMLStyleModel",
      "state": {
       "description_width": "",
       "font_size": null,
       "text_color": null
      }
     },
     "c1d6def928484cd4be81bc8a762937bc": {
      "model_module": "@jupyter-widgets/base",
      "model_module_version": "2.0.0",
      "model_name": "LayoutModel",
      "state": {}
     },
     "c1de90938889416fadbb0b9d43e49a58": {
      "model_module": "@jupyter-widgets/controls",
      "model_module_version": "2.0.0",
      "model_name": "HTMLModel",
      "state": {
       "layout": "IPY_MODEL_1efbb48ef99946e4b8e344f234dd7963",
       "style": "IPY_MODEL_16b2d9406bf04627b0c4ea43dfd878db",
       "value": " 718/720 [00:06&lt;00:00, 111.56it/s]"
      }
     },
     "c201f16ae8f047d981ad45e92727dd41": {
      "model_module": "@jupyter-widgets/controls",
      "model_module_version": "2.0.0",
      "model_name": "HTMLModel",
      "state": {
       "layout": "IPY_MODEL_3efc784e9b08477ca915f1e79a5bd84a",
       "style": "IPY_MODEL_a740640fe85d4b1cac49efa5fe3f3727",
       "value": "Processing CSVs: 100%"
      }
     },
     "c20636f29ded4c32b0a13cdab45cf8d8": {
      "model_module": "@jupyter-widgets/controls",
      "model_module_version": "2.0.0",
      "model_name": "ProgressStyleModel",
      "state": {
       "description_width": ""
      }
     },
     "c2444f295b4b48309f36e8f6cd20fe01": {
      "model_module": "@jupyter-widgets/base",
      "model_module_version": "2.0.0",
      "model_name": "LayoutModel",
      "state": {}
     },
     "c265fba52bc3406da143b6db19d95ccf": {
      "model_module": "@jupyter-widgets/controls",
      "model_module_version": "2.0.0",
      "model_name": "HTMLModel",
      "state": {
       "layout": "IPY_MODEL_43e58e5c603046f9b58d46a3162f33ce",
       "style": "IPY_MODEL_33141dea9b214afdb0a87a5897b6a2e1",
       "value": "Processing CSVs:  98%"
      }
     },
     "c27a03c6c212436c9f6247d9cdc230c8": {
      "model_module": "@jupyter-widgets/controls",
      "model_module_version": "2.0.0",
      "model_name": "FloatProgressModel",
      "state": {
       "layout": "IPY_MODEL_5651026f51ff49f6914568b4e10ab3cd",
       "max": 744,
       "style": "IPY_MODEL_4af69e7de33145cf85f45d37cdbb05d4",
       "value": 744
      }
     },
     "c297efc0eb9746e3b5ccc26a0e078657": {
      "model_module": "@jupyter-widgets/controls",
      "model_module_version": "2.0.0",
      "model_name": "HTMLStyleModel",
      "state": {
       "description_width": "",
       "font_size": null,
       "text_color": null
      }
     },
     "c2a82edc0f4249e1a0bd1a4cacf2c8b3": {
      "model_module": "@jupyter-widgets/base",
      "model_module_version": "2.0.0",
      "model_name": "LayoutModel",
      "state": {}
     },
     "c2a9a8e6016a47b4a8960ec5ab0192d6": {
      "model_module": "@jupyter-widgets/controls",
      "model_module_version": "2.0.0",
      "model_name": "HTMLModel",
      "state": {
       "layout": "IPY_MODEL_d700372c62014d9a89421b68327d9e0c",
       "style": "IPY_MODEL_34564540a4dd4aa19719ba7d8c4d574a",
       "value": "Processing CSVs:  99%"
      }
     },
     "c2b13be6ff6a49488c03537fdb1d3967": {
      "model_module": "@jupyter-widgets/controls",
      "model_module_version": "2.0.0",
      "model_name": "FloatProgressModel",
      "state": {
       "layout": "IPY_MODEL_ddb166c0d0d840fb8ca1b7df6da4f6c8",
       "max": 744,
       "style": "IPY_MODEL_14d7122de80f4698a9642e98e4bf7e48",
       "value": 744
      }
     },
     "c308095f19f54a198724ac395ac373a3": {
      "model_module": "@jupyter-widgets/controls",
      "model_module_version": "2.0.0",
      "model_name": "HTMLStyleModel",
      "state": {
       "description_width": "",
       "font_size": null,
       "text_color": null
      }
     },
     "c30afce47a034b8fb6fad61e2530fe16": {
      "model_module": "@jupyter-widgets/base",
      "model_module_version": "2.0.0",
      "model_name": "LayoutModel",
      "state": {}
     },
     "c30e7d5f7ff5406f96ad9e36dea1a3cc": {
      "model_module": "@jupyter-widgets/base",
      "model_module_version": "2.0.0",
      "model_name": "LayoutModel",
      "state": {
       "visibility": "hidden"
      }
     },
     "c321828d9f4b4f7091209feb11892c46": {
      "model_module": "@jupyter-widgets/base",
      "model_module_version": "2.0.0",
      "model_name": "LayoutModel",
      "state": {}
     },
     "c325825da627475fb06aff65048022f0": {
      "model_module": "@jupyter-widgets/base",
      "model_module_version": "2.0.0",
      "model_name": "LayoutModel",
      "state": {}
     },
     "c32e720a675e4706b88094e5c3858207": {
      "model_module": "@jupyter-widgets/base",
      "model_module_version": "2.0.0",
      "model_name": "LayoutModel",
      "state": {}
     },
     "c3302eaad94841699a82007f0377f0f0": {
      "model_module": "@jupyter-widgets/base",
      "model_module_version": "2.0.0",
      "model_name": "LayoutModel",
      "state": {
       "visibility": "hidden"
      }
     },
     "c3b03b7d86d549728eb6b3f52cd4a135": {
      "model_module": "@jupyter-widgets/controls",
      "model_module_version": "2.0.0",
      "model_name": "HTMLModel",
      "state": {
       "layout": "IPY_MODEL_7c545186653a48ce9355d14510544ce4",
       "style": "IPY_MODEL_9cec501df68c44fea92c2b3f4a00bc82",
       "value": " 744/744 [00:06&lt;00:00, 119.24it/s]"
      }
     },
     "c3b5f5b4edbe4420990b5d4c9f0c3cf9": {
      "model_module": "@jupyter-widgets/base",
      "model_module_version": "2.0.0",
      "model_name": "LayoutModel",
      "state": {}
     },
     "c3bac842eb1e48b08e3b6d71915c991e": {
      "model_module": "@jupyter-widgets/base",
      "model_module_version": "2.0.0",
      "model_name": "LayoutModel",
      "state": {}
     },
     "c3e30927dd56436198216bec3cac1cdf": {
      "model_module": "@jupyter-widgets/controls",
      "model_module_version": "2.0.0",
      "model_name": "HTMLModel",
      "state": {
       "layout": "IPY_MODEL_f8f4207ff5494490ad955146ea0cd526",
       "style": "IPY_MODEL_3371c5e0e9084a34914324cf1b1c483f",
       "value": "Processing CSVs: 100%"
      }
     },
     "c3f7a71d913a4699999c67c039fedf23": {
      "model_module": "@jupyter-widgets/controls",
      "model_module_version": "2.0.0",
      "model_name": "HTMLStyleModel",
      "state": {
       "description_width": "",
       "font_size": null,
       "text_color": null
      }
     },
     "c42f5e9a77fc40e88ec62de71fc03acd": {
      "model_module": "@jupyter-widgets/base",
      "model_module_version": "2.0.0",
      "model_name": "LayoutModel",
      "state": {
       "visibility": "hidden"
      }
     },
     "c46d015b1fae4a4fb2c0a5d404d8ee4a": {
      "model_module": "@jupyter-widgets/controls",
      "model_module_version": "2.0.0",
      "model_name": "FloatProgressModel",
      "state": {
       "layout": "IPY_MODEL_59420c866841414bbac84ce2e40e4e60",
       "max": 720,
       "style": "IPY_MODEL_c180c55edc1342a0aae791504ab011cc",
       "value": 720
      }
     },
     "c472030ee3cc4526ab49e37290fb7d36": {
      "model_module": "@jupyter-widgets/base",
      "model_module_version": "2.0.0",
      "model_name": "LayoutModel",
      "state": {}
     },
     "c478a07593b9452884a20d76ef316dc3": {
      "model_module": "@jupyter-widgets/controls",
      "model_module_version": "2.0.0",
      "model_name": "HTMLModel",
      "state": {
       "layout": "IPY_MODEL_ca6de943043d45e0a40454f3fb2cc0f2",
       "style": "IPY_MODEL_bd90bec3db6f493c9984b40cefc858b0",
       "value": " 744/744 [00:06&lt;00:00, 110.81it/s]"
      }
     },
     "c4a96e730d48475c8ab2394cef640fd6": {
      "model_module": "@jupyter-widgets/base",
      "model_module_version": "2.0.0",
      "model_name": "LayoutModel",
      "state": {}
     },
     "c4b6579792154effbcc2f97538248e2b": {
      "model_module": "@jupyter-widgets/base",
      "model_module_version": "2.0.0",
      "model_name": "LayoutModel",
      "state": {}
     },
     "c4da73005b824200a55aa0297304604b": {
      "model_module": "@jupyter-widgets/controls",
      "model_module_version": "2.0.0",
      "model_name": "HTMLModel",
      "state": {
       "layout": "IPY_MODEL_cfdd6f5e43014bc48ed56644edb05696",
       "style": "IPY_MODEL_498d9cfb08bb41948e3dcd97bcb3371c",
       "value": " 736/744 [00:05&lt;00:00, 140.07it/s]"
      }
     },
     "c4f7083df583443e91a55483d9d47726": {
      "model_module": "@jupyter-widgets/base",
      "model_module_version": "2.0.0",
      "model_name": "LayoutModel",
      "state": {
       "visibility": "hidden"
      }
     },
     "c56c9e17f5cf45c386bb8ad50a4aef38": {
      "model_module": "@jupyter-widgets/controls",
      "model_module_version": "2.0.0",
      "model_name": "HTMLModel",
      "state": {
       "layout": "IPY_MODEL_d773e9532e714953b840506c74ca25a8",
       "style": "IPY_MODEL_e0c9005b13d4410b9c839a4b630cf399",
       "value": "Processing CSVs: 100%"
      }
     },
     "c5c2a2ed412c4878acd08723d34d16da": {
      "model_module": "@jupyter-widgets/controls",
      "model_module_version": "2.0.0",
      "model_name": "HTMLModel",
      "state": {
       "layout": "IPY_MODEL_49c1fa74d70c4be7bb9a85cc55cc852e",
       "style": "IPY_MODEL_3c35dbdc97564f94ab7735886aa5794b",
       "value": "Processing CSVs:  99%"
      }
     },
     "c5d4abf6b32b44259f4e09723078dcd6": {
      "model_module": "@jupyter-widgets/controls",
      "model_module_version": "2.0.0",
      "model_name": "FloatProgressModel",
      "state": {
       "layout": "IPY_MODEL_f5b6ce32b10a4e7b82422305c52870c5",
       "max": 744,
       "style": "IPY_MODEL_83dd74311d734e8b94ce9224ab0b9317",
       "value": 744
      }
     },
     "c5ee9e80b78242d195176f8b8891d13c": {
      "model_module": "@jupyter-widgets/controls",
      "model_module_version": "2.0.0",
      "model_name": "HTMLStyleModel",
      "state": {
       "description_width": "",
       "font_size": null,
       "text_color": null
      }
     },
     "c611ec2386f7470aa41526a39e758bd5": {
      "model_module": "@jupyter-widgets/base",
      "model_module_version": "2.0.0",
      "model_name": "LayoutModel",
      "state": {}
     },
     "c621c81f9d7747f081f8b17233698d4a": {
      "model_module": "@jupyter-widgets/controls",
      "model_module_version": "2.0.0",
      "model_name": "HTMLModel",
      "state": {
       "layout": "IPY_MODEL_8386d053e10b4d548984ed22bd8d153b",
       "style": "IPY_MODEL_a2ee03b16d2a4d58a35a29e5c5ed7edf",
       "value": "Processing Months: 100%"
      }
     },
     "c62d879eb86e4c869aa61b0ef364634e": {
      "model_module": "@jupyter-widgets/controls",
      "model_module_version": "2.0.0",
      "model_name": "HTMLStyleModel",
      "state": {
       "description_width": "",
       "font_size": null,
       "text_color": null
      }
     },
     "c630ce3267e3436e8e251eba6387a8ac": {
      "model_module": "@jupyter-widgets/controls",
      "model_module_version": "2.0.0",
      "model_name": "HTMLModel",
      "state": {
       "layout": "IPY_MODEL_7396f75123ed40f6a22ef8ad264f33f4",
       "style": "IPY_MODEL_a6d1562d83924616bdbea4d907732c28",
       "value": "Processing CSVs:  99%"
      }
     },
     "c6507d7bb3154188a3bf4c26f8ad1846": {
      "model_module": "@jupyter-widgets/controls",
      "model_module_version": "2.0.0",
      "model_name": "ProgressStyleModel",
      "state": {
       "description_width": ""
      }
     },
     "c6607e94975441ddad8d74698a87bdd9": {
      "model_module": "@jupyter-widgets/controls",
      "model_module_version": "2.0.0",
      "model_name": "HTMLModel",
      "state": {
       "layout": "IPY_MODEL_658773233b1d471a85d906da2d065f88",
       "style": "IPY_MODEL_8498819f51a1431e97b00d1d8809b0ab",
       "value": "Processing CSVs:  99%"
      }
     },
     "c671c14e38db4cf194d0ba7919aceaa9": {
      "model_module": "@jupyter-widgets/controls",
      "model_module_version": "2.0.0",
      "model_name": "HTMLStyleModel",
      "state": {
       "description_width": "",
       "font_size": null,
       "text_color": null
      }
     },
     "c68ae854e7a04bafb5d13b2d8ea8023b": {
      "model_module": "@jupyter-widgets/controls",
      "model_module_version": "2.0.0",
      "model_name": "ProgressStyleModel",
      "state": {
       "description_width": ""
      }
     },
     "c69ca80e330d426ea55256069ef44fa4": {
      "model_module": "@jupyter-widgets/controls",
      "model_module_version": "2.0.0",
      "model_name": "HTMLModel",
      "state": {
       "layout": "IPY_MODEL_ec2eb22ba5134ad6bd20bf1d0776fdbe",
       "style": "IPY_MODEL_3a23bb0a7d16429baed7167c242db576",
       "value": " 6/6 [00:33&lt;00:00,  5.65s/it]"
      }
     },
     "c6a5b8221b074a2d82e2c3f679ac7eea": {
      "model_module": "@jupyter-widgets/controls",
      "model_module_version": "2.0.0",
      "model_name": "HTMLModel",
      "state": {
       "layout": "IPY_MODEL_a01343807c164726a09a6baf952df244",
       "style": "IPY_MODEL_d8e5d6696fe245a59fb528b0b8ce388e",
       "value": "Processing CSVs:  99%"
      }
     },
     "c6b48dba6ebd476eaf7c6856573fcdc9": {
      "model_module": "@jupyter-widgets/base",
      "model_module_version": "2.0.0",
      "model_name": "LayoutModel",
      "state": {}
     },
     "c71c337d471b48369d616180f65b5d68": {
      "model_module": "@jupyter-widgets/controls",
      "model_module_version": "2.0.0",
      "model_name": "HTMLModel",
      "state": {
       "layout": "IPY_MODEL_4dbda67f61f7462d8fcb0b55703947ba",
       "style": "IPY_MODEL_b2c1f9f16b6a4bd8b6fa8e583e5098e1",
       "value": "Processing CSVs:  99%"
      }
     },
     "c72c1afc9a2e4ab0820749fb4380b595": {
      "model_module": "@jupyter-widgets/controls",
      "model_module_version": "2.0.0",
      "model_name": "HTMLStyleModel",
      "state": {
       "description_width": "",
       "font_size": null,
       "text_color": null
      }
     },
     "c7604a18f0fa4449972f1444714bc027": {
      "model_module": "@jupyter-widgets/controls",
      "model_module_version": "2.0.0",
      "model_name": "HTMLStyleModel",
      "state": {
       "description_width": "",
       "font_size": null,
       "text_color": null
      }
     },
     "c767b68ab71344a095ec9f75a3e07b46": {
      "model_module": "@jupyter-widgets/base",
      "model_module_version": "2.0.0",
      "model_name": "LayoutModel",
      "state": {}
     },
     "c791582605ac495989e295392c75d174": {
      "model_module": "@jupyter-widgets/controls",
      "model_module_version": "2.0.0",
      "model_name": "ProgressStyleModel",
      "state": {
       "description_width": ""
      }
     },
     "c7a28874f7a64a54a6772a12dc4bfd45": {
      "model_module": "@jupyter-widgets/controls",
      "model_module_version": "2.0.0",
      "model_name": "ProgressStyleModel",
      "state": {
       "description_width": ""
      }
     },
     "c7be2c524f024c6c809d91ea2f7048bf": {
      "model_module": "@jupyter-widgets/controls",
      "model_module_version": "2.0.0",
      "model_name": "FloatProgressModel",
      "state": {
       "layout": "IPY_MODEL_6c3e73fefe5d47cc955917d9d353bf03",
       "max": 744,
       "style": "IPY_MODEL_6fca1c3135854b27b52d997f3ab8638a",
       "value": 744
      }
     },
     "c7c88ea6ae374ba7923de237d6b2831b": {
      "model_module": "@jupyter-widgets/controls",
      "model_module_version": "2.0.0",
      "model_name": "HTMLModel",
      "state": {
       "layout": "IPY_MODEL_aef433689c1a405f8e2a5e26dc5268b3",
       "style": "IPY_MODEL_3437f120b7b648f5b1bd982a97d54763",
       "value": "Processing CSVs:  99%"
      }
     },
     "c83f6790393a4558954aeb773bf11aa4": {
      "model_module": "@jupyter-widgets/base",
      "model_module_version": "2.0.0",
      "model_name": "LayoutModel",
      "state": {}
     },
     "c84621437a2247bfbbfdc7efa022d83b": {
      "model_module": "@jupyter-widgets/controls",
      "model_module_version": "2.0.0",
      "model_name": "FloatProgressModel",
      "state": {
       "layout": "IPY_MODEL_bd9330cdf3be46f2818f03e7182175f6",
       "max": 720,
       "style": "IPY_MODEL_dbdd2490415c42698b0f760e7cb39e4b",
       "value": 720
      }
     },
     "c899ad8aa55549b8b6243328d2308b61": {
      "model_module": "@jupyter-widgets/controls",
      "model_module_version": "2.0.0",
      "model_name": "HTMLStyleModel",
      "state": {
       "description_width": "",
       "font_size": null,
       "text_color": null
      }
     },
     "c8b03dbc078543118db6c1f8d0f15f2c": {
      "model_module": "@jupyter-widgets/controls",
      "model_module_version": "2.0.0",
      "model_name": "FloatProgressModel",
      "state": {
       "layout": "IPY_MODEL_9c35e92197ec405687fd8fd4789905ce",
       "max": 12,
       "style": "IPY_MODEL_f2ec8f4a78b142f3b2cb7f47ac6e56f1",
       "value": 12
      }
     },
     "c8b5da7e411d4815999aa87462a8baf9": {
      "model_module": "@jupyter-widgets/base",
      "model_module_version": "2.0.0",
      "model_name": "LayoutModel",
      "state": {}
     },
     "c8fc46820cf241aeaa24d9b8de27cb8f": {
      "model_module": "@jupyter-widgets/controls",
      "model_module_version": "2.0.0",
      "model_name": "HTMLStyleModel",
      "state": {
       "description_width": "",
       "font_size": null,
       "text_color": null
      }
     },
     "c916646c07f44cf2894be33bc53053c7": {
      "model_module": "@jupyter-widgets/base",
      "model_module_version": "2.0.0",
      "model_name": "LayoutModel",
      "state": {}
     },
     "c98563950b2e49f6923332214ac97c26": {
      "model_module": "@jupyter-widgets/controls",
      "model_module_version": "2.0.0",
      "model_name": "HTMLStyleModel",
      "state": {
       "description_width": "",
       "font_size": null,
       "text_color": null
      }
     },
     "c99ab626385e4711839ffdee4d1b7945": {
      "model_module": "@jupyter-widgets/controls",
      "model_module_version": "2.0.0",
      "model_name": "ProgressStyleModel",
      "state": {
       "description_width": ""
      }
     },
     "c99d7da09d514493a2f871ec683025ba": {
      "model_module": "@jupyter-widgets/controls",
      "model_module_version": "2.0.0",
      "model_name": "HTMLModel",
      "state": {
       "layout": "IPY_MODEL_1af54a15a3aa4b7baaa2c36c3e5c3e50",
       "style": "IPY_MODEL_2ffdc3b01135404f99c5aee19e82bf05",
       "value": "Processing CSVs:  99%"
      }
     },
     "c9c2935fb7704b5aab84c74317ae70f7": {
      "model_module": "@jupyter-widgets/controls",
      "model_module_version": "2.0.0",
      "model_name": "HTMLModel",
      "state": {
       "layout": "IPY_MODEL_88e72f5edd4f4b57ab2aab39df0ff1fe",
       "style": "IPY_MODEL_f309c8d3e4ef44519936f82bdd506e97",
       "value": "Processing CSVs:  99%"
      }
     },
     "c9dffb8f326c41d085a0253479d6ac7c": {
      "model_module": "@jupyter-widgets/controls",
      "model_module_version": "2.0.0",
      "model_name": "HTMLModel",
      "state": {
       "layout": "IPY_MODEL_3dd90828fad449489a6c70db49bfca1a",
       "style": "IPY_MODEL_36786d27e1044f39a633ffc5f9830a03",
       "value": "Processing CSVs:  98%"
      }
     },
     "ca05d46b60cd40a8848abaa3739e15fb": {
      "model_module": "@jupyter-widgets/controls",
      "model_module_version": "2.0.0",
      "model_name": "FloatProgressModel",
      "state": {
       "layout": "IPY_MODEL_eec950dbdaa34e60ab21fda5987004c5",
       "max": 744,
       "style": "IPY_MODEL_429a74bcf2264c2bacbcf99f256c5c46",
       "value": 744
      }
     },
     "ca6de943043d45e0a40454f3fb2cc0f2": {
      "model_module": "@jupyter-widgets/base",
      "model_module_version": "2.0.0",
      "model_name": "LayoutModel",
      "state": {}
     },
     "ca7eaa1bd58c4a2b92f1d8d115480a34": {
      "model_module": "@jupyter-widgets/controls",
      "model_module_version": "2.0.0",
      "model_name": "HTMLModel",
      "state": {
       "layout": "IPY_MODEL_bd06e31001d14a6ba80da2ceba4ecfb8",
       "style": "IPY_MODEL_3c6ab1f738ea49beaafeba693ecd6f77",
       "value": " 735/744 [00:05&lt;00:00, 136.20it/s]"
      }
     },
     "cac511e9cca04d01a765e75ce990e6fd": {
      "model_module": "@jupyter-widgets/controls",
      "model_module_version": "2.0.0",
      "model_name": "ProgressStyleModel",
      "state": {
       "description_width": ""
      }
     },
     "cacb5cd28d95489696eea2c4629e15ba": {
      "model_module": "@jupyter-widgets/controls",
      "model_module_version": "2.0.0",
      "model_name": "HTMLModel",
      "state": {
       "layout": "IPY_MODEL_ef0c8f7846f841a690f8bad07a30ba66",
       "style": "IPY_MODEL_4740b10a7d2746efb5271a1b63bffb96",
       "value": "Processing CSVs:  99%"
      }
     },
     "cacbd49b49cd4d34ad3a06922bf1e9da": {
      "model_module": "@jupyter-widgets/controls",
      "model_module_version": "2.0.0",
      "model_name": "FloatProgressModel",
      "state": {
       "layout": "IPY_MODEL_05a5d2b548504e9f84ba6fbb7753d1a9",
       "max": 12,
       "style": "IPY_MODEL_e062cbf20fa54809b3b630af969235a6",
       "value": 12
      }
     },
     "cad89304d60447759ae7ded40d4969c0": {
      "model_module": "@jupyter-widgets/controls",
      "model_module_version": "2.0.0",
      "model_name": "FloatProgressModel",
      "state": {
       "layout": "IPY_MODEL_8b4c44c881654218ba07e371b6f7eaa0",
       "max": 744,
       "style": "IPY_MODEL_bf320593ef2449c38806f3913365b449",
       "value": 744
      }
     },
     "cb677fecd42d4ad28c96c4741935319a": {
      "model_module": "@jupyter-widgets/controls",
      "model_module_version": "2.0.0",
      "model_name": "HTMLModel",
      "state": {
       "layout": "IPY_MODEL_7bc51327579645a0a21f7bfe419e0e3b",
       "style": "IPY_MODEL_e4c5b16168c64f37afd64e93b68eed50",
       "value": "Processing CSVs:  98%"
      }
     },
     "cbc3426f17fb4ec2b328cf0f54938692": {
      "model_module": "@jupyter-widgets/controls",
      "model_module_version": "2.0.0",
      "model_name": "HTMLStyleModel",
      "state": {
       "description_width": "",
       "font_size": null,
       "text_color": null
      }
     },
     "cc06e94e34b5430293896bf8cd8cf62d": {
      "model_module": "@jupyter-widgets/controls",
      "model_module_version": "2.0.0",
      "model_name": "HTMLModel",
      "state": {
       "layout": "IPY_MODEL_44db6b18e98a49398bcf9e93e7dd7f70",
       "style": "IPY_MODEL_cc103e69ec2542a685fc22063d25f3b6",
       "value": " 741/744 [00:05&lt;00:00, 125.19it/s]"
      }
     },
     "cc103e69ec2542a685fc22063d25f3b6": {
      "model_module": "@jupyter-widgets/controls",
      "model_module_version": "2.0.0",
      "model_name": "HTMLStyleModel",
      "state": {
       "description_width": "",
       "font_size": null,
       "text_color": null
      }
     },
     "cc557432c19b43dd8b67e0d811a358f0": {
      "model_module": "@jupyter-widgets/base",
      "model_module_version": "2.0.0",
      "model_name": "LayoutModel",
      "state": {}
     },
     "cca077f9c409461a985f2dffa1e96c29": {
      "model_module": "@jupyter-widgets/controls",
      "model_module_version": "2.0.0",
      "model_name": "HTMLStyleModel",
      "state": {
       "description_width": "",
       "font_size": null,
       "text_color": null
      }
     },
     "cccd4ad88b684a0ab52e79ce75a12274": {
      "model_module": "@jupyter-widgets/base",
      "model_module_version": "2.0.0",
      "model_name": "LayoutModel",
      "state": {}
     },
     "ccdf3c96cf8b42afae32877bdf216bbd": {
      "model_module": "@jupyter-widgets/controls",
      "model_module_version": "2.0.0",
      "model_name": "HTMLStyleModel",
      "state": {
       "description_width": "",
       "font_size": null,
       "text_color": null
      }
     },
     "cd30612b46bf41789efcfecf55b969c2": {
      "model_module": "@jupyter-widgets/controls",
      "model_module_version": "2.0.0",
      "model_name": "HTMLModel",
      "state": {
       "layout": "IPY_MODEL_cc557432c19b43dd8b67e0d811a358f0",
       "style": "IPY_MODEL_eb60e07217bf4995a322acf0f9866498",
       "value": " 715/720 [00:05&lt;00:00, 128.98it/s]"
      }
     },
     "cd8cf95956704e749745f38f6ea43807": {
      "model_module": "@jupyter-widgets/controls",
      "model_module_version": "2.0.0",
      "model_name": "HTMLStyleModel",
      "state": {
       "description_width": "",
       "font_size": null,
       "text_color": null
      }
     },
     "cdf83f32dc604eb2916d6fea3408cd0e": {
      "model_module": "@jupyter-widgets/base",
      "model_module_version": "2.0.0",
      "model_name": "LayoutModel",
      "state": {}
     },
     "ce083ea03b2e4c55ad35afed8a444e8e": {
      "model_module": "@jupyter-widgets/base",
      "model_module_version": "2.0.0",
      "model_name": "LayoutModel",
      "state": {}
     },
     "ce11983b60dd4781a46eb36ea864661c": {
      "model_module": "@jupyter-widgets/controls",
      "model_module_version": "2.0.0",
      "model_name": "HTMLModel",
      "state": {
       "layout": "IPY_MODEL_e3af08fd06f14eb1979c3755df661a71",
       "style": "IPY_MODEL_810dea162c91482fabad9db4fb264b3f",
       "value": "Processing CSVs:  99%"
      }
     },
     "ce16b887271a4feca1dfd5904388e049": {
      "model_module": "@jupyter-widgets/controls",
      "model_module_version": "2.0.0",
      "model_name": "HTMLModel",
      "state": {
       "layout": "IPY_MODEL_5ed3131c380a41c69bb3f9eb9460f351",
       "style": "IPY_MODEL_49b9e81d3f2744ae81f2897bb71fcec5",
       "value": " 744/744 [00:06&lt;00:00, 116.50it/s]"
      }
     },
     "ce7edc301d39485fb93e931d951afd0a": {
      "model_module": "@jupyter-widgets/base",
      "model_module_version": "2.0.0",
      "model_name": "LayoutModel",
      "state": {}
     },
     "ce96a8b89a1144b3acc7976ae223c1cc": {
      "model_module": "@jupyter-widgets/base",
      "model_module_version": "2.0.0",
      "model_name": "LayoutModel",
      "state": {
       "visibility": "hidden"
      }
     },
     "ceb7953d506b475096aeddca6e6a047a": {
      "model_module": "@jupyter-widgets/base",
      "model_module_version": "2.0.0",
      "model_name": "LayoutModel",
      "state": {}
     },
     "cedcfa16df6a4a13a96829d7b2ae5cef": {
      "model_module": "@jupyter-widgets/controls",
      "model_module_version": "2.0.0",
      "model_name": "HTMLStyleModel",
      "state": {
       "description_width": "",
       "font_size": null,
       "text_color": null
      }
     },
     "cee3f4b9a3574e4c87bfbad176cfa4b5": {
      "model_module": "@jupyter-widgets/base",
      "model_module_version": "2.0.0",
      "model_name": "LayoutModel",
      "state": {
       "visibility": "hidden"
      }
     },
     "ceef7155daa245a3b07830f45d3f42c8": {
      "model_module": "@jupyter-widgets/controls",
      "model_module_version": "2.0.0",
      "model_name": "HTMLStyleModel",
      "state": {
       "description_width": "",
       "font_size": null,
       "text_color": null
      }
     },
     "cf20912a9b0544edb5f625fa3c2fd374": {
      "model_module": "@jupyter-widgets/controls",
      "model_module_version": "2.0.0",
      "model_name": "HTMLStyleModel",
      "state": {
       "description_width": "",
       "font_size": null,
       "text_color": null
      }
     },
     "cf294a344446489091e5dfc208d66460": {
      "model_module": "@jupyter-widgets/base",
      "model_module_version": "2.0.0",
      "model_name": "LayoutModel",
      "state": {}
     },
     "cf3ac2c0237f43248515c8729f50b4a5": {
      "model_module": "@jupyter-widgets/controls",
      "model_module_version": "2.0.0",
      "model_name": "ProgressStyleModel",
      "state": {
       "description_width": ""
      }
     },
     "cf5580dc2c684083be4b70c502fbf06f": {
      "model_module": "@jupyter-widgets/controls",
      "model_module_version": "2.0.0",
      "model_name": "HTMLModel",
      "state": {
       "layout": "IPY_MODEL_e00d7ab3cf614c0a96d251bf441616b7",
       "style": "IPY_MODEL_8b03b94e06af411897c1de98657fe363",
       "value": " 735/744 [00:05&lt;00:00, 127.10it/s]"
      }
     },
     "cf6229e420dc4521abc816237ed3da1b": {
      "model_module": "@jupyter-widgets/base",
      "model_module_version": "2.0.0",
      "model_name": "LayoutModel",
      "state": {}
     },
     "cfd268baca1d405c9b54e59c6d2555bd": {
      "model_module": "@jupyter-widgets/controls",
      "model_module_version": "2.0.0",
      "model_name": "HTMLStyleModel",
      "state": {
       "description_width": "",
       "font_size": null,
       "text_color": null
      }
     },
     "cfdd6f5e43014bc48ed56644edb05696": {
      "model_module": "@jupyter-widgets/base",
      "model_module_version": "2.0.0",
      "model_name": "LayoutModel",
      "state": {}
     },
     "cffa33b3cac1429cbff147e72252ada1": {
      "model_module": "@jupyter-widgets/base",
      "model_module_version": "2.0.0",
      "model_name": "LayoutModel",
      "state": {}
     },
     "d0174534cf2e40ffa1ec3f7c18f96d7a": {
      "model_module": "@jupyter-widgets/controls",
      "model_module_version": "2.0.0",
      "model_name": "HTMLModel",
      "state": {
       "layout": "IPY_MODEL_0c35637f01114884ac4c7242c8d5adc4",
       "style": "IPY_MODEL_443fed3813ec4fb2850a299c1ad1dc7b",
       "value": " 710/720 [00:05&lt;00:00, 129.17it/s]"
      }
     },
     "d064fdf385d642ff88a87a6241824c59": {
      "model_module": "@jupyter-widgets/base",
      "model_module_version": "2.0.0",
      "model_name": "LayoutModel",
      "state": {}
     },
     "d0c9116b046d42f59cd400c9c8b29d9c": {
      "model_module": "@jupyter-widgets/controls",
      "model_module_version": "2.0.0",
      "model_name": "HTMLStyleModel",
      "state": {
       "description_width": "",
       "font_size": null,
       "text_color": null
      }
     },
     "d0d35d3829d843cb88b75baccbabb3ff": {
      "model_module": "@jupyter-widgets/base",
      "model_module_version": "2.0.0",
      "model_name": "LayoutModel",
      "state": {
       "visibility": "hidden"
      }
     },
     "d0d5239ec58d487b8e1b7ee38cf7c3b2": {
      "model_module": "@jupyter-widgets/base",
      "model_module_version": "2.0.0",
      "model_name": "LayoutModel",
      "state": {}
     },
     "d0f176df04e646e6b37f271df2249f2c": {
      "model_module": "@jupyter-widgets/base",
      "model_module_version": "2.0.0",
      "model_name": "LayoutModel",
      "state": {}
     },
     "d107c7a4353a41e5bf6fe97f6637b7c8": {
      "model_module": "@jupyter-widgets/controls",
      "model_module_version": "2.0.0",
      "model_name": "HTMLStyleModel",
      "state": {
       "description_width": "",
       "font_size": null,
       "text_color": null
      }
     },
     "d11b8b9af5b54693b64260dcd236ff39": {
      "model_module": "@jupyter-widgets/base",
      "model_module_version": "2.0.0",
      "model_name": "LayoutModel",
      "state": {}
     },
     "d1348fe16e15419e84d357dbbf06ec1e": {
      "model_module": "@jupyter-widgets/base",
      "model_module_version": "2.0.0",
      "model_name": "LayoutModel",
      "state": {}
     },
     "d14ee6e897514dc4a89951a4521194c7": {
      "model_module": "@jupyter-widgets/base",
      "model_module_version": "2.0.0",
      "model_name": "LayoutModel",
      "state": {}
     },
     "d15109e7239e42c6a8b780cd4d5888de": {
      "model_module": "@jupyter-widgets/base",
      "model_module_version": "2.0.0",
      "model_name": "LayoutModel",
      "state": {}
     },
     "d1543a1bfc7b426cb536656639e7f455": {
      "model_module": "@jupyter-widgets/base",
      "model_module_version": "2.0.0",
      "model_name": "LayoutModel",
      "state": {}
     },
     "d18de37b25be4f5980231895221df980": {
      "model_module": "@jupyter-widgets/base",
      "model_module_version": "2.0.0",
      "model_name": "LayoutModel",
      "state": {}
     },
     "d1d6769b5d954fac847364e2e570ba40": {
      "model_module": "@jupyter-widgets/controls",
      "model_module_version": "2.0.0",
      "model_name": "HTMLModel",
      "state": {
       "layout": "IPY_MODEL_bf0c801040134217869d7acdc7e04ba2",
       "style": "IPY_MODEL_827b995723eb4434897e6e26d6af3813",
       "value": " 741/744 [00:05&lt;00:00, 132.42it/s]"
      }
     },
     "d24c27a42a674f9caf3c78f819fb86a8": {
      "model_module": "@jupyter-widgets/controls",
      "model_module_version": "2.0.0",
      "model_name": "HTMLModel",
      "state": {
       "layout": "IPY_MODEL_3a4ddce8dba3481295ae563236bef265",
       "style": "IPY_MODEL_b9f80af8c36b4b90888efa426385a5ba",
       "value": " 12/12 [01:16&lt;00:00,  6.53s/it]"
      }
     },
     "d2604111b8d74bb88666bc457163e937": {
      "model_module": "@jupyter-widgets/base",
      "model_module_version": "2.0.0",
      "model_name": "LayoutModel",
      "state": {}
     },
     "d26f2ce769204dc6a632b02bd109e969": {
      "model_module": "@jupyter-widgets/base",
      "model_module_version": "2.0.0",
      "model_name": "LayoutModel",
      "state": {}
     },
     "d28f075c79c44360acb3480957568f01": {
      "model_module": "@jupyter-widgets/controls",
      "model_module_version": "2.0.0",
      "model_name": "HTMLModel",
      "state": {
       "layout": "IPY_MODEL_c3bac842eb1e48b08e3b6d71915c991e",
       "style": "IPY_MODEL_12a0a622acc64eb68c9b6a9ca65afe0c",
       "value": "Processing CSVs:  98%"
      }
     },
     "d30f07d9bce6403cb9f03bc80c032542": {
      "model_module": "@jupyter-widgets/controls",
      "model_module_version": "2.0.0",
      "model_name": "HTMLModel",
      "state": {
       "layout": "IPY_MODEL_8eded780092949b2bbe45785fe3c6fa4",
       "style": "IPY_MODEL_27f4e25642da422daff45b229ea57518",
       "value": "Processing Months: 100%"
      }
     },
     "d34bfbf06f76421d82e60d393accfea4": {
      "model_module": "@jupyter-widgets/controls",
      "model_module_version": "2.0.0",
      "model_name": "HTMLStyleModel",
      "state": {
       "description_width": "",
       "font_size": null,
       "text_color": null
      }
     },
     "d39010f30f584d3f8b00400133fc3206": {
      "model_module": "@jupyter-widgets/base",
      "model_module_version": "2.0.0",
      "model_name": "LayoutModel",
      "state": {}
     },
     "d3adb10f11464d2190a67b771390cbfd": {
      "model_module": "@jupyter-widgets/base",
      "model_module_version": "2.0.0",
      "model_name": "LayoutModel",
      "state": {}
     },
     "d3de3e17245648678100c74e549281e8": {
      "model_module": "@jupyter-widgets/base",
      "model_module_version": "2.0.0",
      "model_name": "LayoutModel",
      "state": {}
     },
     "d40255e7fc6548f99916e21aaaa4eedf": {
      "model_module": "@jupyter-widgets/controls",
      "model_module_version": "2.0.0",
      "model_name": "HTMLModel",
      "state": {
       "layout": "IPY_MODEL_cf6229e420dc4521abc816237ed3da1b",
       "style": "IPY_MODEL_1f78a3a926304665b7dd45929c9314d2",
       "value": "Processing CSVs:  99%"
      }
     },
     "d48a5591dd1245c49e94026cc147b423": {
      "model_module": "@jupyter-widgets/base",
      "model_module_version": "2.0.0",
      "model_name": "LayoutModel",
      "state": {}
     },
     "d4b38bae5a244197887a1cb1b83c743b": {
      "model_module": "@jupyter-widgets/base",
      "model_module_version": "2.0.0",
      "model_name": "LayoutModel",
      "state": {}
     },
     "d4ba9fa8a75144c5950dd718f3d781fb": {
      "model_module": "@jupyter-widgets/controls",
      "model_module_version": "2.0.0",
      "model_name": "HTMLModel",
      "state": {
       "layout": "IPY_MODEL_c1d6def928484cd4be81bc8a762937bc",
       "style": "IPY_MODEL_3c5d362c018e4b6894c00256008ff09b",
       "value": "Processing CSVs: 100%"
      }
     },
     "d4ec841877324c7da38d8dab6bd1d683": {
      "model_module": "@jupyter-widgets/controls",
      "model_module_version": "2.0.0",
      "model_name": "FloatProgressModel",
      "state": {
       "layout": "IPY_MODEL_8238ce0a23c840978d12821094f01856",
       "max": 12,
       "style": "IPY_MODEL_e1e37da0b5b846f2a66de1434bcc9639",
       "value": 12
      }
     },
     "d4fee8fae29347239de7afafc62f780a": {
      "model_module": "@jupyter-widgets/controls",
      "model_module_version": "2.0.0",
      "model_name": "HTMLModel",
      "state": {
       "layout": "IPY_MODEL_24babf6ebd094a1d950fe31e1f4c5054",
       "style": "IPY_MODEL_44b158374ff142e898b2dbb57332ad73",
       "value": " 717/720 [00:05&lt;00:00, 134.68it/s]"
      }
     },
     "d526819d80934eccaf2f843c84bed449": {
      "model_module": "@jupyter-widgets/controls",
      "model_module_version": "2.0.0",
      "model_name": "FloatProgressModel",
      "state": {
       "layout": "IPY_MODEL_09d68196b0514eeebfade35ffa131364",
       "max": 720,
       "style": "IPY_MODEL_538c83ba4bbc42de9fbc9a459ac902c5",
       "value": 720
      }
     },
     "d52b870757f347e088b2df192323f256": {
      "model_module": "@jupyter-widgets/controls",
      "model_module_version": "2.0.0",
      "model_name": "HTMLModel",
      "state": {
       "layout": "IPY_MODEL_0637c91f0a2a481c8690be73b9d67064",
       "style": "IPY_MODEL_6a256c9b1e6141f4aa7ed208ab0be55e",
       "value": " 741/744 [00:05&lt;00:00, 130.01it/s]"
      }
     },
     "d561f9667e1046b0bcce68b7d616256f": {
      "model_module": "@jupyter-widgets/controls",
      "model_module_version": "2.0.0",
      "model_name": "HTMLStyleModel",
      "state": {
       "description_width": "",
       "font_size": null,
       "text_color": null
      }
     },
     "d59c6664db774fdc8bce918e86edcda5": {
      "model_module": "@jupyter-widgets/controls",
      "model_module_version": "2.0.0",
      "model_name": "HTMLStyleModel",
      "state": {
       "description_width": "",
       "font_size": null,
       "text_color": null
      }
     },
     "d5fb29ea0e83456e9c68484313bc9dff": {
      "model_module": "@jupyter-widgets/base",
      "model_module_version": "2.0.0",
      "model_name": "LayoutModel",
      "state": {
       "visibility": "hidden"
      }
     },
     "d634b87325d049829b6c547be8dc510d": {
      "model_module": "@jupyter-widgets/base",
      "model_module_version": "2.0.0",
      "model_name": "LayoutModel",
      "state": {}
     },
     "d6358768c44c41749bb13f431f24f96d": {
      "model_module": "@jupyter-widgets/controls",
      "model_module_version": "2.0.0",
      "model_name": "HTMLStyleModel",
      "state": {
       "description_width": "",
       "font_size": null,
       "text_color": null
      }
     },
     "d64ffcbd6b1043da8494d52798fe58e5": {
      "model_module": "@jupyter-widgets/base",
      "model_module_version": "2.0.0",
      "model_name": "LayoutModel",
      "state": {}
     },
     "d682f2faf72942bb93af01fcecbdd794": {
      "model_module": "@jupyter-widgets/controls",
      "model_module_version": "2.0.0",
      "model_name": "ProgressStyleModel",
      "state": {
       "description_width": ""
      }
     },
     "d6a16dc8dc9f4ad790a4a30acf5a17ff": {
      "model_module": "@jupyter-widgets/controls",
      "model_module_version": "2.0.0",
      "model_name": "HTMLStyleModel",
      "state": {
       "description_width": "",
       "font_size": null,
       "text_color": null
      }
     },
     "d6d185c7d4e547e5bfede3e9d98f5d0a": {
      "model_module": "@jupyter-widgets/controls",
      "model_module_version": "2.0.0",
      "model_name": "HTMLStyleModel",
      "state": {
       "description_width": "",
       "font_size": null,
       "text_color": null
      }
     },
     "d6d4320230de42eca01fd19834618f57": {
      "model_module": "@jupyter-widgets/controls",
      "model_module_version": "2.0.0",
      "model_name": "HTMLStyleModel",
      "state": {
       "description_width": "",
       "font_size": null,
       "text_color": null
      }
     },
     "d700372c62014d9a89421b68327d9e0c": {
      "model_module": "@jupyter-widgets/base",
      "model_module_version": "2.0.0",
      "model_name": "LayoutModel",
      "state": {}
     },
     "d72b8ba96e0947c8b61a298e166d8744": {
      "model_module": "@jupyter-widgets/controls",
      "model_module_version": "2.0.0",
      "model_name": "HTMLStyleModel",
      "state": {
       "description_width": "",
       "font_size": null,
       "text_color": null
      }
     },
     "d72dd7d41a7e4e8da27f7aeefb45f14e": {
      "model_module": "@jupyter-widgets/controls",
      "model_module_version": "2.0.0",
      "model_name": "FloatProgressModel",
      "state": {
       "layout": "IPY_MODEL_7a79ebc2b15b44b8b4ec2e253fdcd34f",
       "max": 720,
       "style": "IPY_MODEL_86f53c228d604eaf848fb0f8a8bf92ce",
       "value": 720
      }
     },
     "d773e9532e714953b840506c74ca25a8": {
      "model_module": "@jupyter-widgets/base",
      "model_module_version": "2.0.0",
      "model_name": "LayoutModel",
      "state": {}
     },
     "d790a50914b54b8ab6ea13168285300e": {
      "model_module": "@jupyter-widgets/base",
      "model_module_version": "2.0.0",
      "model_name": "LayoutModel",
      "state": {}
     },
     "d7a5b69d93bb430ab3f7ec1971c21175": {
      "model_module": "@jupyter-widgets/controls",
      "model_module_version": "2.0.0",
      "model_name": "HTMLStyleModel",
      "state": {
       "description_width": "",
       "font_size": null,
       "text_color": null
      }
     },
     "d7a5e9fd2b904f6292f726f7c2c19ca5": {
      "model_module": "@jupyter-widgets/controls",
      "model_module_version": "2.0.0",
      "model_name": "FloatProgressModel",
      "state": {
       "layout": "IPY_MODEL_ec95de94c8f44a4a860316ac96d9c934",
       "max": 655,
       "style": "IPY_MODEL_5ca776891cd144b1ae1ac5bd64307862",
       "value": 655
      }
     },
     "d7b5fb31a729415cb1baf804c2bd383f": {
      "model_module": "@jupyter-widgets/controls",
      "model_module_version": "2.0.0",
      "model_name": "HTMLModel",
      "state": {
       "layout": "IPY_MODEL_6f9a990855be438da0a43f9b99a79480",
       "style": "IPY_MODEL_1c181c91d3784952a5231e8e43316074",
       "value": "Processing CSVs: 100%"
      }
     },
     "d7dd0b8da2594ef7afe4a2cb04283159": {
      "model_module": "@jupyter-widgets/base",
      "model_module_version": "2.0.0",
      "model_name": "LayoutModel",
      "state": {
       "visibility": "hidden"
      }
     },
     "d81cd92f536d4f40ade9f3909ecd0a98": {
      "model_module": "@jupyter-widgets/controls",
      "model_module_version": "2.0.0",
      "model_name": "HTMLModel",
      "state": {
       "layout": "IPY_MODEL_2727063787f2489bb0655e7f55946648",
       "style": "IPY_MODEL_fe503ab2476c40ebb0653be865e949ee",
       "value": " 739/744 [00:11&lt;00:00, 65.57it/s]"
      }
     },
     "d8267968177c4dc3a2407737f26932b6": {
      "model_module": "@jupyter-widgets/controls",
      "model_module_version": "2.0.0",
      "model_name": "HTMLModel",
      "state": {
       "layout": "IPY_MODEL_a2099cc3259f44c2986852800c6a77a5",
       "style": "IPY_MODEL_90cb8eae657d421db05763b08b9d1ebb",
       "value": "Processing CSVs:  99%"
      }
     },
     "d85c8622965447bfb76fd04cf8922348": {
      "model_module": "@jupyter-widgets/base",
      "model_module_version": "2.0.0",
      "model_name": "LayoutModel",
      "state": {}
     },
     "d877513bb9464b8daaea55a6c7f7bad4": {
      "model_module": "@jupyter-widgets/controls",
      "model_module_version": "2.0.0",
      "model_name": "HBoxModel",
      "state": {
       "children": [
        "IPY_MODEL_e8df013111364b789977ecf467cce5ef",
        "IPY_MODEL_4e87e83149ec4ab3a814fece6c055c2a",
        "IPY_MODEL_fcf7f846591a40a6bdeb28f549774a55"
       ],
       "layout": "IPY_MODEL_2508015ca2994330b80405aa35a1c6f3"
      }
     },
     "d8a705c2cb25457a81dbbe13d35a24a2": {
      "model_module": "@jupyter-widgets/base",
      "model_module_version": "2.0.0",
      "model_name": "LayoutModel",
      "state": {}
     },
     "d8d6ae85e52a40bd8ffcef316a444069": {
      "model_module": "@jupyter-widgets/base",
      "model_module_version": "2.0.0",
      "model_name": "LayoutModel",
      "state": {}
     },
     "d8e5d6696fe245a59fb528b0b8ce388e": {
      "model_module": "@jupyter-widgets/controls",
      "model_module_version": "2.0.0",
      "model_name": "HTMLStyleModel",
      "state": {
       "description_width": "",
       "font_size": null,
       "text_color": null
      }
     },
     "d99c4f500d904267ae9f489c981716fa": {
      "model_module": "@jupyter-widgets/controls",
      "model_module_version": "2.0.0",
      "model_name": "HTMLStyleModel",
      "state": {
       "description_width": "",
       "font_size": null,
       "text_color": null
      }
     },
     "d9aee41a57a649298d672d5e9181fa8e": {
      "model_module": "@jupyter-widgets/controls",
      "model_module_version": "2.0.0",
      "model_name": "HTMLModel",
      "state": {
       "layout": "IPY_MODEL_e7b0dba2a5444809af992f61b4c85bda",
       "style": "IPY_MODEL_a4d9eb5e582f420283cc6041af3686a5",
       "value": "Processing CSVs: 100%"
      }
     },
     "d9fa5dbec9c245dcbb1dfd29987243ed": {
      "model_module": "@jupyter-widgets/base",
      "model_module_version": "2.0.0",
      "model_name": "LayoutModel",
      "state": {}
     },
     "da0b2e54f03a482b93339f8163712a50": {
      "model_module": "@jupyter-widgets/controls",
      "model_module_version": "2.0.0",
      "model_name": "HTMLModel",
      "state": {
       "layout": "IPY_MODEL_16a6105f95a2460c958f09f93f28c75c",
       "style": "IPY_MODEL_dfeee46a8d14481cb614c666bc97b22b",
       "value": "Processing CSVs:  99%"
      }
     },
     "da0d639553df482bb4597938366c5eda": {
      "model_module": "@jupyter-widgets/controls",
      "model_module_version": "2.0.0",
      "model_name": "FloatProgressModel",
      "state": {
       "layout": "IPY_MODEL_fb28bf7ac9df42d88d14eae395396ca5",
       "max": 6,
       "style": "IPY_MODEL_5f252ed9f47b459596edab81f44790d0",
       "value": 6
      }
     },
     "da160768710b4c009f61c3c4c5d44b73": {
      "model_module": "@jupyter-widgets/controls",
      "model_module_version": "2.0.0",
      "model_name": "HTMLModel",
      "state": {
       "layout": "IPY_MODEL_8105a36b3bb4449f97c1d5381563e073",
       "style": "IPY_MODEL_8d26a2af451a4439be7c8b4df45f3230",
       "value": " 740/744 [00:12&lt;00:00, 60.76it/s]"
      }
     },
     "da3efdfe1bca4a0693fa006b85f36130": {
      "model_module": "@jupyter-widgets/controls",
      "model_module_version": "2.0.0",
      "model_name": "HTMLStyleModel",
      "state": {
       "description_width": "",
       "font_size": null,
       "text_color": null
      }
     },
     "da5eb8304b5248f3916fd7f2a1a1a2ed": {
      "model_module": "@jupyter-widgets/base",
      "model_module_version": "2.0.0",
      "model_name": "LayoutModel",
      "state": {
       "visibility": "hidden"
      }
     },
     "da7a29f8de764261892dc2babdf54323": {
      "model_module": "@jupyter-widgets/controls",
      "model_module_version": "2.0.0",
      "model_name": "HTMLStyleModel",
      "state": {
       "description_width": "",
       "font_size": null,
       "text_color": null
      }
     },
     "da91c44b25244d6c8913398708d377cc": {
      "model_module": "@jupyter-widgets/controls",
      "model_module_version": "2.0.0",
      "model_name": "FloatProgressModel",
      "state": {
       "bar_style": "danger",
       "layout": "IPY_MODEL_d64ffcbd6b1043da8494d52798fe58e5",
       "max": 3,
       "style": "IPY_MODEL_ad6971e60da9442a9dc316f7ba5a0144",
       "value": 2
      }
     },
     "daa5cc58d123422d8a96f1b4ee4637a0": {
      "model_module": "@jupyter-widgets/controls",
      "model_module_version": "2.0.0",
      "model_name": "HTMLModel",
      "state": {
       "layout": "IPY_MODEL_bc26325436604f499a4a789833377e12",
       "style": "IPY_MODEL_fe1f4b9ae4da471db36512aefa1b097c",
       "value": "Processing Months: 100%"
      }
     },
     "dacd7714caae417f93893120b0c24f6c": {
      "model_module": "@jupyter-widgets/controls",
      "model_module_version": "2.0.0",
      "model_name": "HTMLStyleModel",
      "state": {
       "description_width": "",
       "font_size": null,
       "text_color": null
      }
     },
     "db153c10d1fb42dcb38aa1fc7e926faf": {
      "model_module": "@jupyter-widgets/base",
      "model_module_version": "2.0.0",
      "model_name": "LayoutModel",
      "state": {}
     },
     "db23d8f66bf04fb1904152bb73abb4c8": {
      "model_module": "@jupyter-widgets/base",
      "model_module_version": "2.0.0",
      "model_name": "LayoutModel",
      "state": {}
     },
     "db2a08ff810a48ad9be1869055d66fa2": {
      "model_module": "@jupyter-widgets/controls",
      "model_module_version": "2.0.0",
      "model_name": "FloatProgressModel",
      "state": {
       "layout": "IPY_MODEL_ba65aaeda41f4de6bd9c96306d64e86f",
       "max": 744,
       "style": "IPY_MODEL_25baa17248d346009847233921d892a2",
       "value": 744
      }
     },
     "db2a8abf75934b0099208fd8262296f7": {
      "model_module": "@jupyter-widgets/controls",
      "model_module_version": "2.0.0",
      "model_name": "HTMLStyleModel",
      "state": {
       "description_width": "",
       "font_size": null,
       "text_color": null
      }
     },
     "db3418522c4b41ac973c7656abd66d3c": {
      "model_module": "@jupyter-widgets/controls",
      "model_module_version": "2.0.0",
      "model_name": "FloatProgressModel",
      "state": {
       "layout": "IPY_MODEL_e5171bf37bfb40cb804afd6a693044a1",
       "max": 744,
       "style": "IPY_MODEL_efcdfdf70d054126b5062c7e11f795b6",
       "value": 744
      }
     },
     "db6e1168750d4ff79f0ef156910742de": {
      "model_module": "@jupyter-widgets/base",
      "model_module_version": "2.0.0",
      "model_name": "LayoutModel",
      "state": {}
     },
     "dbdd2490415c42698b0f760e7cb39e4b": {
      "model_module": "@jupyter-widgets/controls",
      "model_module_version": "2.0.0",
      "model_name": "ProgressStyleModel",
      "state": {
       "description_width": ""
      }
     },
     "dbfe0a032884491ca7596734177f6d1b": {
      "model_module": "@jupyter-widgets/controls",
      "model_module_version": "2.0.0",
      "model_name": "HTMLModel",
      "state": {
       "layout": "IPY_MODEL_0175e28935d64e10b06ae769969d0e23",
       "style": "IPY_MODEL_d6d4320230de42eca01fd19834618f57",
       "value": "Processing CSVs:  99%"
      }
     },
     "dc44de686397404389f55c3ff4de289f": {
      "model_module": "@jupyter-widgets/base",
      "model_module_version": "2.0.0",
      "model_name": "LayoutModel",
      "state": {
       "visibility": "hidden"
      }
     },
     "dc4776063ebd44789fc24a2cc832234d": {
      "model_module": "@jupyter-widgets/controls",
      "model_module_version": "2.0.0",
      "model_name": "HTMLModel",
      "state": {
       "layout": "IPY_MODEL_baed38910673424683ac7f5f5a5d4bb4",
       "style": "IPY_MODEL_6e44229f8e644c7688e2c3fc8ebbd89f",
       "value": " 707/720 [00:05&lt;00:00, 132.42it/s]"
      }
     },
     "dc5f049791024ae1bb1bd731251e829c": {
      "model_module": "@jupyter-widgets/controls",
      "model_module_version": "2.0.0",
      "model_name": "FloatProgressModel",
      "state": {
       "layout": "IPY_MODEL_4421ecc87a584d6cb522453f203bb502",
       "max": 744,
       "style": "IPY_MODEL_52b9c51d21204b739de536bd6d3952fd",
       "value": 744
      }
     },
     "dc6a6d191c5145ad9cef44cade69abe6": {
      "model_module": "@jupyter-widgets/controls",
      "model_module_version": "2.0.0",
      "model_name": "HTMLStyleModel",
      "state": {
       "description_width": "",
       "font_size": null,
       "text_color": null
      }
     },
     "dccff966d9344372acf25005bfa65fa4": {
      "model_module": "@jupyter-widgets/base",
      "model_module_version": "2.0.0",
      "model_name": "LayoutModel",
      "state": {
       "visibility": "hidden"
      }
     },
     "dce3154d301e49ac8b7e39ad522d33e9": {
      "model_module": "@jupyter-widgets/controls",
      "model_module_version": "2.0.0",
      "model_name": "HTMLStyleModel",
      "state": {
       "description_width": "",
       "font_size": null,
       "text_color": null
      }
     },
     "dcf8ee5b58074fc9915fa92b40450509": {
      "model_module": "@jupyter-widgets/controls",
      "model_module_version": "2.0.0",
      "model_name": "HTMLStyleModel",
      "state": {
       "description_width": "",
       "font_size": null,
       "text_color": null
      }
     },
     "dd220120c32a4dec898ad7840dba43a1": {
      "model_module": "@jupyter-widgets/controls",
      "model_module_version": "2.0.0",
      "model_name": "FloatProgressModel",
      "state": {
       "layout": "IPY_MODEL_b5ae0ba55e594af88eff695a8c379766",
       "max": 720,
       "style": "IPY_MODEL_536f3076eb594518927f774a720fbce9",
       "value": 720
      }
     },
     "dd805445b56a42d28fa499ef82f5a4de": {
      "model_module": "@jupyter-widgets/controls",
      "model_module_version": "2.0.0",
      "model_name": "HTMLStyleModel",
      "state": {
       "description_width": "",
       "font_size": null,
       "text_color": null
      }
     },
     "dd895d36ed6c41439cbd74283fd41095": {
      "model_module": "@jupyter-widgets/controls",
      "model_module_version": "2.0.0",
      "model_name": "HTMLStyleModel",
      "state": {
       "description_width": "",
       "font_size": null,
       "text_color": null
      }
     },
     "dd9f051f5fcd468eb6a28d8a99fff488": {
      "model_module": "@jupyter-widgets/base",
      "model_module_version": "2.0.0",
      "model_name": "LayoutModel",
      "state": {}
     },
     "ddb166c0d0d840fb8ca1b7df6da4f6c8": {
      "model_module": "@jupyter-widgets/base",
      "model_module_version": "2.0.0",
      "model_name": "LayoutModel",
      "state": {}
     },
     "de0abdae9c0d4e089fd3fef5591dd8bc": {
      "model_module": "@jupyter-widgets/controls",
      "model_module_version": "2.0.0",
      "model_name": "FloatProgressModel",
      "state": {
       "layout": "IPY_MODEL_a5308f6af5d649c48245b33e47037113",
       "max": 720,
       "style": "IPY_MODEL_ef670030cbe845718440ec4cdba3c3b5",
       "value": 720
      }
     },
     "de264a1f41e04caf831b1d7af1cfcc42": {
      "model_module": "@jupyter-widgets/controls",
      "model_module_version": "2.0.0",
      "model_name": "HTMLModel",
      "state": {
       "layout": "IPY_MODEL_6a74d5dea7dd4ee185ac26a79eaf5f62",
       "style": "IPY_MODEL_5d8ec6e23fce413eae15dda66aeefb0d",
       "value": " 718/720 [00:05&lt;00:00, 130.41it/s]"
      }
     },
     "de48d0e2e1964543bb9d5113225db7ff": {
      "model_module": "@jupyter-widgets/controls",
      "model_module_version": "2.0.0",
      "model_name": "ProgressStyleModel",
      "state": {
       "description_width": ""
      }
     },
     "de4a672aec5b483bb8c90fccb6746b06": {
      "model_module": "@jupyter-widgets/base",
      "model_module_version": "2.0.0",
      "model_name": "LayoutModel",
      "state": {}
     },
     "de5f0475c8964573b283c0c84452f2f9": {
      "model_module": "@jupyter-widgets/base",
      "model_module_version": "2.0.0",
      "model_name": "LayoutModel",
      "state": {
       "visibility": "hidden"
      }
     },
     "de674b3a007b4c31a6c61d918b5b212c": {
      "model_module": "@jupyter-widgets/controls",
      "model_module_version": "2.0.0",
      "model_name": "HTMLModel",
      "state": {
       "layout": "IPY_MODEL_c472030ee3cc4526ab49e37290fb7d36",
       "style": "IPY_MODEL_6cc0d2ee520b4d80bc977c43124c1d7a",
       "value": "Processing CSVs: 100%"
      }
     },
     "de9e8ea489984663ab4a6f9a776976be": {
      "model_module": "@jupyter-widgets/controls",
      "model_module_version": "2.0.0",
      "model_name": "FloatProgressModel",
      "state": {
       "layout": "IPY_MODEL_93695b1d7d51432fb0afc86b6d89f154",
       "max": 720,
       "style": "IPY_MODEL_59281f5331f641588fdc6d0009110ad1",
       "value": 720
      }
     },
     "dea3da5838e246f6a3f5a56203d0e4c3": {
      "model_module": "@jupyter-widgets/controls",
      "model_module_version": "2.0.0",
      "model_name": "HTMLModel",
      "state": {
       "layout": "IPY_MODEL_d0d5239ec58d487b8e1b7ee38cf7c3b2",
       "style": "IPY_MODEL_ea77c51e450042daa1736c7da88da52c",
       "value": "Processing CSVs:  99%"
      }
     },
     "deb70c44903346f89fefecb782470c79": {
      "model_module": "@jupyter-widgets/controls",
      "model_module_version": "2.0.0",
      "model_name": "FloatProgressModel",
      "state": {
       "layout": "IPY_MODEL_9fce97b65063444587878b2b9d7f603b",
       "max": 744,
       "style": "IPY_MODEL_cac511e9cca04d01a765e75ce990e6fd",
       "value": 744
      }
     },
     "decdae4563f94db79e8d398f9655bb0d": {
      "model_module": "@jupyter-widgets/controls",
      "model_module_version": "2.0.0",
      "model_name": "HTMLModel",
      "state": {
       "layout": "IPY_MODEL_bb688179f1054225a29fbea47ea2d412",
       "style": "IPY_MODEL_f6f234d8c8ff4401991888ddbce9227a",
       "value": "Processing CSVs: 100%"
      }
     },
     "df2a20d44d4f4932a567a6acd7d160a4": {
      "model_module": "@jupyter-widgets/controls",
      "model_module_version": "2.0.0",
      "model_name": "ProgressStyleModel",
      "state": {
       "description_width": ""
      }
     },
     "df2a3e4dd8cf4b018b18a301ecab3006": {
      "model_module": "@jupyter-widgets/base",
      "model_module_version": "2.0.0",
      "model_name": "LayoutModel",
      "state": {
       "visibility": "hidden"
      }
     },
     "dfa5e571f62b4c378da246db59ddd21b": {
      "model_module": "@jupyter-widgets/controls",
      "model_module_version": "2.0.0",
      "model_name": "ProgressStyleModel",
      "state": {
       "description_width": ""
      }
     },
     "dfc817bdf7174337aac3ff5ee9c2f767": {
      "model_module": "@jupyter-widgets/base",
      "model_module_version": "2.0.0",
      "model_name": "LayoutModel",
      "state": {
       "visibility": "hidden"
      }
     },
     "dfd7c1133df44541b59066748e628de8": {
      "model_module": "@jupyter-widgets/base",
      "model_module_version": "2.0.0",
      "model_name": "LayoutModel",
      "state": {}
     },
     "dfeee46a8d14481cb614c666bc97b22b": {
      "model_module": "@jupyter-widgets/controls",
      "model_module_version": "2.0.0",
      "model_name": "HTMLStyleModel",
      "state": {
       "description_width": "",
       "font_size": null,
       "text_color": null
      }
     },
     "e00d7ab3cf614c0a96d251bf441616b7": {
      "model_module": "@jupyter-widgets/base",
      "model_module_version": "2.0.0",
      "model_name": "LayoutModel",
      "state": {}
     },
     "e062cbf20fa54809b3b630af969235a6": {
      "model_module": "@jupyter-widgets/controls",
      "model_module_version": "2.0.0",
      "model_name": "ProgressStyleModel",
      "state": {
       "description_width": ""
      }
     },
     "e0a584e038744a3db74c4d161694c5c1": {
      "model_module": "@jupyter-widgets/controls",
      "model_module_version": "2.0.0",
      "model_name": "HTMLStyleModel",
      "state": {
       "description_width": "",
       "font_size": null,
       "text_color": null
      }
     },
     "e0abb1e9c5c548be9f37bd0f3029af49": {
      "model_module": "@jupyter-widgets/base",
      "model_module_version": "2.0.0",
      "model_name": "LayoutModel",
      "state": {}
     },
     "e0c9005b13d4410b9c839a4b630cf399": {
      "model_module": "@jupyter-widgets/controls",
      "model_module_version": "2.0.0",
      "model_name": "HTMLStyleModel",
      "state": {
       "description_width": "",
       "font_size": null,
       "text_color": null
      }
     },
     "e0d2eba91dee4799920540cc66bbb5f6": {
      "model_module": "@jupyter-widgets/base",
      "model_module_version": "2.0.0",
      "model_name": "LayoutModel",
      "state": {}
     },
     "e0e81c5c4c8e4eaf8b72aff5b8fc87cb": {
      "model_module": "@jupyter-widgets/controls",
      "model_module_version": "2.0.0",
      "model_name": "HTMLModel",
      "state": {
       "layout": "IPY_MODEL_5466f585da8c4a80b68fd75d0c78be13",
       "style": "IPY_MODEL_a7179f2d74514913bf25d0649d08f99b",
       "value": "Processing CSVs:  98%"
      }
     },
     "e0f72979a26c41e7908c92af515a3515": {
      "model_module": "@jupyter-widgets/controls",
      "model_module_version": "2.0.0",
      "model_name": "FloatProgressModel",
      "state": {
       "layout": "IPY_MODEL_f79f8bb320f543a29f30a6280e7ba76d",
       "max": 744,
       "style": "IPY_MODEL_8cc1364e013a45e2b3453f44d8f98fa4",
       "value": 744
      }
     },
     "e16697f985644194839779ceae22c32b": {
      "model_module": "@jupyter-widgets/controls",
      "model_module_version": "2.0.0",
      "model_name": "HTMLStyleModel",
      "state": {
       "description_width": "",
       "font_size": null,
       "text_color": null
      }
     },
     "e184894802584ceb841eeb452cf6e37c": {
      "model_module": "@jupyter-widgets/base",
      "model_module_version": "2.0.0",
      "model_name": "LayoutModel",
      "state": {
       "visibility": "hidden"
      }
     },
     "e1c732a563fe4d57926dec93e7afa820": {
      "model_module": "@jupyter-widgets/controls",
      "model_module_version": "2.0.0",
      "model_name": "ProgressStyleModel",
      "state": {
       "description_width": ""
      }
     },
     "e1d1e328d8564d7faa63c0c81a461de0": {
      "model_module": "@jupyter-widgets/controls",
      "model_module_version": "2.0.0",
      "model_name": "FloatProgressModel",
      "state": {
       "layout": "IPY_MODEL_859f3c30bc4b4592bd59e3b1479fe1e8",
       "max": 720,
       "style": "IPY_MODEL_cf3ac2c0237f43248515c8729f50b4a5",
       "value": 720
      }
     },
     "e1e37da0b5b846f2a66de1434bcc9639": {
      "model_module": "@jupyter-widgets/controls",
      "model_module_version": "2.0.0",
      "model_name": "ProgressStyleModel",
      "state": {
       "description_width": ""
      }
     },
     "e21b499980cd4119b0687f7f61a51d8e": {
      "model_module": "@jupyter-widgets/controls",
      "model_module_version": "2.0.0",
      "model_name": "FloatProgressModel",
      "state": {
       "layout": "IPY_MODEL_73afb2cf5c8b4fc7b5183f05b9efe2df",
       "max": 720,
       "style": "IPY_MODEL_50779ce39e4c4ac1af11aa0788558f9e",
       "value": 720
      }
     },
     "e24e2b5392a746b4bdf8130ce7db8f64": {
      "model_module": "@jupyter-widgets/controls",
      "model_module_version": "2.0.0",
      "model_name": "ProgressStyleModel",
      "state": {
       "description_width": ""
      }
     },
     "e27b119f761f49e7a712820dccd7a1ff": {
      "model_module": "@jupyter-widgets/controls",
      "model_module_version": "2.0.0",
      "model_name": "HTMLModel",
      "state": {
       "layout": "IPY_MODEL_fae6089d64e341b0a053c06eeb1c83c6",
       "style": "IPY_MODEL_6528a95364de4caeb60f3f969a1fd97a",
       "value": "Processing CSVs:  99%"
      }
     },
     "e2d7fd2c28624ade8fafcb11bc6ea3e1": {
      "model_module": "@jupyter-widgets/base",
      "model_module_version": "2.0.0",
      "model_name": "LayoutModel",
      "state": {}
     },
     "e3493d2127b14f9fa1d4be0fb6cf454a": {
      "model_module": "@jupyter-widgets/base",
      "model_module_version": "2.0.0",
      "model_name": "LayoutModel",
      "state": {
       "visibility": "hidden"
      }
     },
     "e36a92ab96b84aa1a0b7688dceaf07bd": {
      "model_module": "@jupyter-widgets/controls",
      "model_module_version": "2.0.0",
      "model_name": "HTMLStyleModel",
      "state": {
       "description_width": "",
       "font_size": null,
       "text_color": null
      }
     },
     "e380a96ecb764291bc96751fa488f5cf": {
      "model_module": "@jupyter-widgets/base",
      "model_module_version": "2.0.0",
      "model_name": "LayoutModel",
      "state": {}
     },
     "e39f445c99a24e26a9a065abf9957287": {
      "model_module": "@jupyter-widgets/base",
      "model_module_version": "2.0.0",
      "model_name": "LayoutModel",
      "state": {}
     },
     "e3a0a969d2274ab8a2bc95cda3782c80": {
      "model_module": "@jupyter-widgets/controls",
      "model_module_version": "2.0.0",
      "model_name": "HTMLStyleModel",
      "state": {
       "description_width": "",
       "font_size": null,
       "text_color": null
      }
     },
     "e3a43b59757d4a74916304d124b35374": {
      "model_module": "@jupyter-widgets/base",
      "model_module_version": "2.0.0",
      "model_name": "LayoutModel",
      "state": {
       "visibility": "hidden"
      }
     },
     "e3af08fd06f14eb1979c3755df661a71": {
      "model_module": "@jupyter-widgets/base",
      "model_module_version": "2.0.0",
      "model_name": "LayoutModel",
      "state": {}
     },
     "e3cfcde12e454c4ab1599b7d43477913": {
      "model_module": "@jupyter-widgets/controls",
      "model_module_version": "2.0.0",
      "model_name": "HTMLStyleModel",
      "state": {
       "description_width": "",
       "font_size": null,
       "text_color": null
      }
     },
     "e3e16a63c3824e9f908d06ea3111f876": {
      "model_module": "@jupyter-widgets/base",
      "model_module_version": "2.0.0",
      "model_name": "LayoutModel",
      "state": {}
     },
     "e410cb7db44840d1901fe2de4817783a": {
      "model_module": "@jupyter-widgets/controls",
      "model_module_version": "2.0.0",
      "model_name": "HTMLModel",
      "state": {
       "layout": "IPY_MODEL_e9b39ba6219d4b668415fdf1311168c6",
       "style": "IPY_MODEL_e7d5354300d34bcea6f490c6626c1adb",
       "value": "Processing CSVs:  99%"
      }
     },
     "e45d67c560a44748b8be777156fbae1c": {
      "model_module": "@jupyter-widgets/base",
      "model_module_version": "2.0.0",
      "model_name": "LayoutModel",
      "state": {
       "visibility": "hidden"
      }
     },
     "e495d4fc9c5a4357b03fe090c38e97ce": {
      "model_module": "@jupyter-widgets/controls",
      "model_module_version": "2.0.0",
      "model_name": "ProgressStyleModel",
      "state": {
       "description_width": ""
      }
     },
     "e4c5b16168c64f37afd64e93b68eed50": {
      "model_module": "@jupyter-widgets/controls",
      "model_module_version": "2.0.0",
      "model_name": "HTMLStyleModel",
      "state": {
       "description_width": "",
       "font_size": null,
       "text_color": null
      }
     },
     "e4d3cc89b2af41c481093553cf57667e": {
      "model_module": "@jupyter-widgets/base",
      "model_module_version": "2.0.0",
      "model_name": "LayoutModel",
      "state": {}
     },
     "e5171bf37bfb40cb804afd6a693044a1": {
      "model_module": "@jupyter-widgets/base",
      "model_module_version": "2.0.0",
      "model_name": "LayoutModel",
      "state": {}
     },
     "e52670671a344557be0804f68146f55a": {
      "model_module": "@jupyter-widgets/base",
      "model_module_version": "2.0.0",
      "model_name": "LayoutModel",
      "state": {
       "visibility": "hidden"
      }
     },
     "e54f97b0638d44359808582250e3a7d8": {
      "model_module": "@jupyter-widgets/controls",
      "model_module_version": "2.0.0",
      "model_name": "HTMLModel",
      "state": {
       "layout": "IPY_MODEL_318cc0e9acbd4cc59b3576c46b78df28",
       "style": "IPY_MODEL_2acd53dc94044b08b5987594c65fd0f0",
       "value": " 733/744 [00:06&lt;00:00, 111.20it/s]"
      }
     },
     "e5547a2042204f26b52286fe07dc399c": {
      "model_module": "@jupyter-widgets/controls",
      "model_module_version": "2.0.0",
      "model_name": "FloatProgressModel",
      "state": {
       "layout": "IPY_MODEL_2c0787a465fb418ba3dd5a50c0b7997d",
       "max": 655,
       "style": "IPY_MODEL_c791582605ac495989e295392c75d174",
       "value": 655
      }
     },
     "e58ae5e197f04556ae41cf9e57a5b137": {
      "model_module": "@jupyter-widgets/controls",
      "model_module_version": "2.0.0",
      "model_name": "ProgressStyleModel",
      "state": {
       "description_width": ""
      }
     },
     "e5c254b3b6364088af752d62dc513553": {
      "model_module": "@jupyter-widgets/base",
      "model_module_version": "2.0.0",
      "model_name": "LayoutModel",
      "state": {
       "visibility": "hidden"
      }
     },
     "e5c5cd2fea644e298023b7f8317252b8": {
      "model_module": "@jupyter-widgets/controls",
      "model_module_version": "2.0.0",
      "model_name": "HTMLStyleModel",
      "state": {
       "description_width": "",
       "font_size": null,
       "text_color": null
      }
     },
     "e64ea36ce387493980f122b14b5c1eb9": {
      "model_module": "@jupyter-widgets/controls",
      "model_module_version": "2.0.0",
      "model_name": "HTMLModel",
      "state": {
       "layout": "IPY_MODEL_1e9cb23d9f794c6f911310cc7d76c913",
       "style": "IPY_MODEL_ed790e8468e6487bb3610e2523403bc2",
       "value": " 712/720 [00:05&lt;00:00, 111.27it/s]"
      }
     },
     "e6a9491faca84c5a99cf4bc8cc84673b": {
      "model_module": "@jupyter-widgets/controls",
      "model_module_version": "2.0.0",
      "model_name": "HTMLStyleModel",
      "state": {
       "description_width": "",
       "font_size": null,
       "text_color": null
      }
     },
     "e6cc2f6e9fc74ef889b786a19967680f": {
      "model_module": "@jupyter-widgets/controls",
      "model_module_version": "2.0.0",
      "model_name": "FloatProgressModel",
      "state": {
       "layout": "IPY_MODEL_567d425d380a4e86aa903828139f5cf4",
       "max": 744,
       "style": "IPY_MODEL_3cccde9b9aee4e2597324bf81a1edece",
       "value": 744
      }
     },
     "e6d2f3e1718642cd9870aa75d382157a": {
      "model_module": "@jupyter-widgets/controls",
      "model_module_version": "2.0.0",
      "model_name": "HTMLModel",
      "state": {
       "layout": "IPY_MODEL_c32e720a675e4706b88094e5c3858207",
       "style": "IPY_MODEL_b860c575648d491cb3abd7df3797fc73",
       "value": "Processing CSVs: 100%"
      }
     },
     "e6e741abb8154c138a2671cdc3f46591": {
      "model_module": "@jupyter-widgets/controls",
      "model_module_version": "2.0.0",
      "model_name": "HTMLModel",
      "state": {
       "layout": "IPY_MODEL_4ac3897159d04395a19a95ffdc221131",
       "style": "IPY_MODEL_6d1ef9255039485394f6384a845d5ae2",
       "value": "Processing CSVs:  99%"
      }
     },
     "e6fa8e5766604aa5a1e42af21efe30a8": {
      "model_module": "@jupyter-widgets/controls",
      "model_module_version": "2.0.0",
      "model_name": "HTMLModel",
      "state": {
       "layout": "IPY_MODEL_1520fa38e7ef4baeb1daf375ff15e21d",
       "style": "IPY_MODEL_8ebb312a26a44a6e894b0b857e18fa77",
       "value": " 731/744 [00:05&lt;00:00, 133.28it/s]"
      }
     },
     "e70e69e48f604bedbe2076fb4955af4f": {
      "model_module": "@jupyter-widgets/base",
      "model_module_version": "2.0.0",
      "model_name": "LayoutModel",
      "state": {}
     },
     "e713a37253b1469f95dd47d8b2c31937": {
      "model_module": "@jupyter-widgets/controls",
      "model_module_version": "2.0.0",
      "model_name": "HTMLStyleModel",
      "state": {
       "description_width": "",
       "font_size": null,
       "text_color": null
      }
     },
     "e7337e29c96040c78a7fe5a1c658f1b5": {
      "model_module": "@jupyter-widgets/controls",
      "model_module_version": "2.0.0",
      "model_name": "HTMLModel",
      "state": {
       "layout": "IPY_MODEL_82380fe9efac49539c95685fb60262a5",
       "style": "IPY_MODEL_292810da7cd04ef6aefac12e4d211afe",
       "value": "Processing CSVs: 100%"
      }
     },
     "e74a798d201d4fa1a3c79eea6790bcc6": {
      "model_module": "@jupyter-widgets/controls",
      "model_module_version": "2.0.0",
      "model_name": "HTMLModel",
      "state": {
       "layout": "IPY_MODEL_52a0a76ca49a40ee87ea49a551fa334a",
       "style": "IPY_MODEL_0d0076e9ce174931a096c80f82c3f886",
       "value": " 720/720 [00:05&lt;00:00, 131.29it/s]"
      }
     },
     "e77328a8775b459f84ff47222c1152df": {
      "model_module": "@jupyter-widgets/controls",
      "model_module_version": "2.0.0",
      "model_name": "FloatProgressModel",
      "state": {
       "layout": "IPY_MODEL_be8623eafa1f4801b8cc201b98332c8f",
       "max": 744,
       "style": "IPY_MODEL_98d16ac858b44b54ab2c99843248a189",
       "value": 744
      }
     },
     "e7b0dba2a5444809af992f61b4c85bda": {
      "model_module": "@jupyter-widgets/base",
      "model_module_version": "2.0.0",
      "model_name": "LayoutModel",
      "state": {}
     },
     "e7d5354300d34bcea6f490c6626c1adb": {
      "model_module": "@jupyter-widgets/controls",
      "model_module_version": "2.0.0",
      "model_name": "HTMLStyleModel",
      "state": {
       "description_width": "",
       "font_size": null,
       "text_color": null
      }
     },
     "e7f4c0848cdf430289eece72648568cd": {
      "model_module": "@jupyter-widgets/base",
      "model_module_version": "2.0.0",
      "model_name": "LayoutModel",
      "state": {
       "visibility": "hidden"
      }
     },
     "e874b995a5f24875b559c014c7d7873c": {
      "model_module": "@jupyter-widgets/base",
      "model_module_version": "2.0.0",
      "model_name": "LayoutModel",
      "state": {}
     },
     "e8c2ce1980744089aa43e502bc541428": {
      "model_module": "@jupyter-widgets/base",
      "model_module_version": "2.0.0",
      "model_name": "LayoutModel",
      "state": {}
     },
     "e8df013111364b789977ecf467cce5ef": {
      "model_module": "@jupyter-widgets/controls",
      "model_module_version": "2.0.0",
      "model_name": "HTMLModel",
      "state": {
       "layout": "IPY_MODEL_a5519971703344e9baa1122405f55711",
       "style": "IPY_MODEL_9b538fc470114d1ea3a159bf0330f3d5",
       "value": "Processing CSVs:  44%"
      }
     },
     "e931d16419d1443d832f42ec6788e268": {
      "model_module": "@jupyter-widgets/base",
      "model_module_version": "2.0.0",
      "model_name": "LayoutModel",
      "state": {}
     },
     "e972503928bf4a358341d82b5bba60a9": {
      "model_module": "@jupyter-widgets/controls",
      "model_module_version": "2.0.0",
      "model_name": "HTMLStyleModel",
      "state": {
       "description_width": "",
       "font_size": null,
       "text_color": null
      }
     },
     "e992847450aa4a3aacc1e1c91b9ecd89": {
      "model_module": "@jupyter-widgets/base",
      "model_module_version": "2.0.0",
      "model_name": "LayoutModel",
      "state": {}
     },
     "e9b39ba6219d4b668415fdf1311168c6": {
      "model_module": "@jupyter-widgets/base",
      "model_module_version": "2.0.0",
      "model_name": "LayoutModel",
      "state": {}
     },
     "e9d19143223544baa0cac2a2e019733a": {
      "model_module": "@jupyter-widgets/base",
      "model_module_version": "2.0.0",
      "model_name": "LayoutModel",
      "state": {
       "visibility": "hidden"
      }
     },
     "ea1fd009960c48e798462b78554ce300": {
      "model_module": "@jupyter-widgets/base",
      "model_module_version": "2.0.0",
      "model_name": "LayoutModel",
      "state": {}
     },
     "ea3fd81f8081491893f906d2f74f3bde": {
      "model_module": "@jupyter-widgets/controls",
      "model_module_version": "2.0.0",
      "model_name": "ProgressStyleModel",
      "state": {
       "description_width": ""
      }
     },
     "ea6f42a14ad04ed6913bea9b82724a9d": {
      "model_module": "@jupyter-widgets/base",
      "model_module_version": "2.0.0",
      "model_name": "LayoutModel",
      "state": {}
     },
     "ea77c51e450042daa1736c7da88da52c": {
      "model_module": "@jupyter-widgets/controls",
      "model_module_version": "2.0.0",
      "model_name": "HTMLStyleModel",
      "state": {
       "description_width": "",
       "font_size": null,
       "text_color": null
      }
     },
     "eb07b345ce1b4928bff201d5681c4adc": {
      "model_module": "@jupyter-widgets/controls",
      "model_module_version": "2.0.0",
      "model_name": "FloatProgressModel",
      "state": {
       "layout": "IPY_MODEL_49562333263444448217bd852714eae7",
       "max": 744,
       "style": "IPY_MODEL_896226819c964965b66a9d57c5f3c742",
       "value": 744
      }
     },
     "eb0e170b8764486681a280b53601d322": {
      "model_module": "@jupyter-widgets/controls",
      "model_module_version": "2.0.0",
      "model_name": "ProgressStyleModel",
      "state": {
       "description_width": ""
      }
     },
     "eb48eaf85ca144af9de36cfde389cd16": {
      "model_module": "@jupyter-widgets/controls",
      "model_module_version": "2.0.0",
      "model_name": "HTMLModel",
      "state": {
       "layout": "IPY_MODEL_e931d16419d1443d832f42ec6788e268",
       "style": "IPY_MODEL_5ae108275d234576b6d043336bf4e9c7",
       "value": " 716/720 [00:05&lt;00:00, 131.87it/s]"
      }
     },
     "eb60e07217bf4995a322acf0f9866498": {
      "model_module": "@jupyter-widgets/controls",
      "model_module_version": "2.0.0",
      "model_name": "HTMLStyleModel",
      "state": {
       "description_width": "",
       "font_size": null,
       "text_color": null
      }
     },
     "eb648e4d2e5e4bf49d3d2b75178a7ca4": {
      "model_module": "@jupyter-widgets/controls",
      "model_module_version": "2.0.0",
      "model_name": "FloatProgressModel",
      "state": {
       "layout": "IPY_MODEL_00f90959c2b54c8b8977a3d6fa14664d",
       "max": 720,
       "style": "IPY_MODEL_67a1329092dd44019f293b1f0f7e6653",
       "value": 720
      }
     },
     "eb97e7511bac4fd3b436396d6efeedcd": {
      "model_module": "@jupyter-widgets/base",
      "model_module_version": "2.0.0",
      "model_name": "LayoutModel",
      "state": {}
     },
     "eba44c8dd76d432d8638e21468d66cf6": {
      "model_module": "@jupyter-widgets/controls",
      "model_module_version": "2.0.0",
      "model_name": "HTMLStyleModel",
      "state": {
       "description_width": "",
       "font_size": null,
       "text_color": null
      }
     },
     "ec0082178f7945a28a877abe8aec7e2d": {
      "model_module": "@jupyter-widgets/base",
      "model_module_version": "2.0.0",
      "model_name": "LayoutModel",
      "state": {}
     },
     "ec0fc6d8d49f4001a712ba7bd7e37415": {
      "model_module": "@jupyter-widgets/controls",
      "model_module_version": "2.0.0",
      "model_name": "HTMLStyleModel",
      "state": {
       "description_width": "",
       "font_size": null,
       "text_color": null
      }
     },
     "ec27275b29e24f4e923d981fa81e709e": {
      "model_module": "@jupyter-widgets/base",
      "model_module_version": "2.0.0",
      "model_name": "LayoutModel",
      "state": {}
     },
     "ec2eb22ba5134ad6bd20bf1d0776fdbe": {
      "model_module": "@jupyter-widgets/base",
      "model_module_version": "2.0.0",
      "model_name": "LayoutModel",
      "state": {}
     },
     "ec656417b1d24cf6841e32644b53c036": {
      "model_module": "@jupyter-widgets/base",
      "model_module_version": "2.0.0",
      "model_name": "LayoutModel",
      "state": {}
     },
     "ec95de94c8f44a4a860316ac96d9c934": {
      "model_module": "@jupyter-widgets/base",
      "model_module_version": "2.0.0",
      "model_name": "LayoutModel",
      "state": {}
     },
     "ed790e8468e6487bb3610e2523403bc2": {
      "model_module": "@jupyter-widgets/controls",
      "model_module_version": "2.0.0",
      "model_name": "HTMLStyleModel",
      "state": {
       "description_width": "",
       "font_size": null,
       "text_color": null
      }
     },
     "ee210d15811949e2ac3cffcc362e2850": {
      "model_module": "@jupyter-widgets/controls",
      "model_module_version": "2.0.0",
      "model_name": "HTMLModel",
      "state": {
       "layout": "IPY_MODEL_26202e74f7e4421085eb3bd249c83677",
       "style": "IPY_MODEL_aaefbc1e6be14d45ae2922e40291d2bd",
       "value": " 708/720 [00:05&lt;00:00, 117.70it/s]"
      }
     },
     "ee2e7f46819a482e8da8cf9fb39f3c4b": {
      "model_module": "@jupyter-widgets/base",
      "model_module_version": "2.0.0",
      "model_name": "LayoutModel",
      "state": {
       "visibility": "hidden"
      }
     },
     "ee52553db8064be8a544ec8135f86104": {
      "model_module": "@jupyter-widgets/controls",
      "model_module_version": "2.0.0",
      "model_name": "HTMLModel",
      "state": {
       "layout": "IPY_MODEL_46962c6d51ea4b93b5f3ed91867c1d37",
       "style": "IPY_MODEL_4a0720c5346340738b17ec703241357c",
       "value": " 6/6 [00:31&lt;00:00,  5.36s/it]"
      }
     },
     "ee7d08d7d5fa4b6caf2cd4b1d2e18dd5": {
      "model_module": "@jupyter-widgets/controls",
      "model_module_version": "2.0.0",
      "model_name": "HTMLModel",
      "state": {
       "layout": "IPY_MODEL_a90e8be9a5b74a1fadfc0ab2bbe53f18",
       "style": "IPY_MODEL_1de290cf9ccb4b5f9cb8d142f7e2caf9",
       "value": " 739/744 [00:12&lt;00:00, 60.48it/s]"
      }
     },
     "ee81afd276c842c992e05afd3d6071ef": {
      "model_module": "@jupyter-widgets/controls",
      "model_module_version": "2.0.0",
      "model_name": "HTMLModel",
      "state": {
       "layout": "IPY_MODEL_64eb3217a147436a9fe3920972f45eaf",
       "style": "IPY_MODEL_674fcd9a698d45048569b8da358abd97",
       "value": "Processing CSVs: 100%"
      }
     },
     "ee96c82727544616b2ccc3bf9140eda8": {
      "model_module": "@jupyter-widgets/controls",
      "model_module_version": "2.0.0",
      "model_name": "FloatProgressModel",
      "state": {
       "layout": "IPY_MODEL_d85c8622965447bfb76fd04cf8922348",
       "max": 744,
       "style": "IPY_MODEL_567e3f6d9f274d94a2ff6ff1565bbe3d",
       "value": 744
      }
     },
     "eec49c086b234e02b4f66dabbf1b20bb": {
      "model_module": "@jupyter-widgets/controls",
      "model_module_version": "2.0.0",
      "model_name": "HTMLModel",
      "state": {
       "layout": "IPY_MODEL_482f6f0e39114ec09f22a2a9ed53bf2e",
       "style": "IPY_MODEL_34f70132fe884ff88c8a3512ceaf308c",
       "value": " 715/720 [00:06&lt;00:00, 102.71it/s]"
      }
     },
     "eec950dbdaa34e60ab21fda5987004c5": {
      "model_module": "@jupyter-widgets/base",
      "model_module_version": "2.0.0",
      "model_name": "LayoutModel",
      "state": {}
     },
     "eedc70c8ec6c48538b6a0475c7406e09": {
      "model_module": "@jupyter-widgets/controls",
      "model_module_version": "2.0.0",
      "model_name": "HBoxModel",
      "state": {
       "children": [
        "IPY_MODEL_ac92b69d9bf6495b8ebca93efd4bc89c",
        "IPY_MODEL_20998774ba8b479991fd259d7bdeb2eb",
        "IPY_MODEL_6004b5fd7bdb4be8a72f2c15561e7250"
       ],
       "layout": "IPY_MODEL_08d2a00516d04e58b4246c60cd9d7d10"
      }
     },
     "eef0d31f4874448fadfa7350abe3ae93": {
      "model_module": "@jupyter-widgets/controls",
      "model_module_version": "2.0.0",
      "model_name": "HTMLModel",
      "state": {
       "layout": "IPY_MODEL_78bf0f0c7c6f4f4bbff09f8f8ca6fc5c",
       "style": "IPY_MODEL_7da0250027e848bebaf1a2ccba5a15b3",
       "value": "Processing CSVs:  98%"
      }
     },
     "ef0c8f7846f841a690f8bad07a30ba66": {
      "model_module": "@jupyter-widgets/base",
      "model_module_version": "2.0.0",
      "model_name": "LayoutModel",
      "state": {}
     },
     "ef458b51699c48b9afbd68d82dd7672b": {
      "model_module": "@jupyter-widgets/base",
      "model_module_version": "2.0.0",
      "model_name": "LayoutModel",
      "state": {
       "visibility": "hidden"
      }
     },
     "ef5c66c30e154032aedc38504a51c8db": {
      "model_module": "@jupyter-widgets/controls",
      "model_module_version": "2.0.0",
      "model_name": "HTMLModel",
      "state": {
       "layout": "IPY_MODEL_e8c2ce1980744089aa43e502bc541428",
       "style": "IPY_MODEL_f9605f19c2a44fe0b733d751e28b3c8d",
       "value": "Processing CSVs:  98%"
      }
     },
     "ef60efa061af44398a89387fe66e7b10": {
      "model_module": "@jupyter-widgets/controls",
      "model_module_version": "2.0.0",
      "model_name": "HTMLModel",
      "state": {
       "layout": "IPY_MODEL_c08dbbb04ce140a19838a91c0d40e2ff",
       "style": "IPY_MODEL_da3efdfe1bca4a0693fa006b85f36130",
       "value": "Processing CSVs:  99%"
      }
     },
     "ef670030cbe845718440ec4cdba3c3b5": {
      "model_module": "@jupyter-widgets/controls",
      "model_module_version": "2.0.0",
      "model_name": "ProgressStyleModel",
      "state": {
       "description_width": ""
      }
     },
     "ef6e645060ea43d4b3cf4ed3469253d2": {
      "model_module": "@jupyter-widgets/controls",
      "model_module_version": "2.0.0",
      "model_name": "HTMLModel",
      "state": {
       "layout": "IPY_MODEL_7e56d33512bf4515b96afe07dcfbb3dd",
       "style": "IPY_MODEL_695faf530bee479eb0895ea399422935",
       "value": "Processing Years: 100%"
      }
     },
     "ef795252b7c148f9a406a2e1dc1ddc6f": {
      "model_module": "@jupyter-widgets/controls",
      "model_module_version": "2.0.0",
      "model_name": "HTMLModel",
      "state": {
       "layout": "IPY_MODEL_e0abb1e9c5c548be9f37bd0f3029af49",
       "style": "IPY_MODEL_9f26063264794d3fa4b36e45b05cd208",
       "value": " 741/744 [00:06&lt;00:00, 130.05it/s]"
      }
     },
     "ef949c92a0e2462d8f50ee9e4d3f447a": {
      "model_module": "@jupyter-widgets/controls",
      "model_module_version": "2.0.0",
      "model_name": "HTMLStyleModel",
      "state": {
       "description_width": "",
       "font_size": null,
       "text_color": null
      }
     },
     "ef9f0464e64348d9ab23e37a85acc67c": {
      "model_module": "@jupyter-widgets/base",
      "model_module_version": "2.0.0",
      "model_name": "LayoutModel",
      "state": {
       "visibility": "hidden"
      }
     },
     "efcdfdf70d054126b5062c7e11f795b6": {
      "model_module": "@jupyter-widgets/controls",
      "model_module_version": "2.0.0",
      "model_name": "ProgressStyleModel",
      "state": {
       "description_width": ""
      }
     },
     "efdb9a7402364f3fbe61c4f5bf6eda5a": {
      "model_module": "@jupyter-widgets/controls",
      "model_module_version": "2.0.0",
      "model_name": "FloatProgressModel",
      "state": {
       "layout": "IPY_MODEL_6b9a3c5a8b8348009085fb52a8ef330a",
       "max": 720,
       "style": "IPY_MODEL_ba4c63ae745447e999e5d9aa06c851bf",
       "value": 720
      }
     },
     "f00399b4e57d40719c5f7a4fb1915f68": {
      "model_module": "@jupyter-widgets/base",
      "model_module_version": "2.0.0",
      "model_name": "LayoutModel",
      "state": {}
     },
     "f03f852a006e47c3954472cb6e4c740f": {
      "model_module": "@jupyter-widgets/controls",
      "model_module_version": "2.0.0",
      "model_name": "HTMLStyleModel",
      "state": {
       "description_width": "",
       "font_size": null,
       "text_color": null
      }
     },
     "f04c7120cd2f4be19b008ea3297e36de": {
      "model_module": "@jupyter-widgets/base",
      "model_module_version": "2.0.0",
      "model_name": "LayoutModel",
      "state": {
       "visibility": "hidden"
      }
     },
     "f06a4c2e97b14a0991e1fa0d1eb6ec96": {
      "model_module": "@jupyter-widgets/controls",
      "model_module_version": "2.0.0",
      "model_name": "ProgressStyleModel",
      "state": {
       "description_width": ""
      }
     },
     "f09b263687ae4960bce8615db9d34cbb": {
      "model_module": "@jupyter-widgets/base",
      "model_module_version": "2.0.0",
      "model_name": "LayoutModel",
      "state": {
       "visibility": "hidden"
      }
     },
     "f113a09411d0453cb9d599d580c00599": {
      "model_module": "@jupyter-widgets/base",
      "model_module_version": "2.0.0",
      "model_name": "LayoutModel",
      "state": {}
     },
     "f1294388d57c47009a8e814c03939364": {
      "model_module": "@jupyter-widgets/controls",
      "model_module_version": "2.0.0",
      "model_name": "FloatProgressModel",
      "state": {
       "layout": "IPY_MODEL_9df33e0c26a54237ab2a00ee5100a6e9",
       "max": 720,
       "style": "IPY_MODEL_0c2b793d659c4bb683bda880421da8cd",
       "value": 720
      }
     },
     "f12c6a0e858d42739ee5d9dc8c8d68d9": {
      "model_module": "@jupyter-widgets/controls",
      "model_module_version": "2.0.0",
      "model_name": "HTMLStyleModel",
      "state": {
       "description_width": "",
       "font_size": null,
       "text_color": null
      }
     },
     "f12e925a63ff4ce4b8bad03a58a2becc": {
      "model_module": "@jupyter-widgets/controls",
      "model_module_version": "2.0.0",
      "model_name": "ProgressStyleModel",
      "state": {
       "description_width": ""
      }
     },
     "f1fe19a827254620aa52606c2817d358": {
      "model_module": "@jupyter-widgets/controls",
      "model_module_version": "2.0.0",
      "model_name": "HTMLModel",
      "state": {
       "layout": "IPY_MODEL_31cf6c4f95c147cdbb20a97c02514f34",
       "style": "IPY_MODEL_4568a027c5b3461a9164bebb13ee7be2",
       "value": "Processing CSVs: 100%"
      }
     },
     "f20093de83524c34889ad9b2fc4ff731": {
      "model_module": "@jupyter-widgets/controls",
      "model_module_version": "2.0.0",
      "model_name": "HTMLModel",
      "state": {
       "layout": "IPY_MODEL_5f6f597af16247d69d205220e314c4ad",
       "style": "IPY_MODEL_817d7597b2a44ea18ae0d1cdeaf5a02d",
       "value": "Processing CSVs:  99%"
      }
     },
     "f23c3d1ff2f8435285abddb42cd4dbf8": {
      "model_module": "@jupyter-widgets/controls",
      "model_module_version": "2.0.0",
      "model_name": "HTMLModel",
      "state": {
       "layout": "IPY_MODEL_8b34e25613c248b1a07c57e0589439a0",
       "style": "IPY_MODEL_b3d57954db2b411eb88d0cb7920cc69b",
       "value": " 652/655 [00:05&lt;00:00, 103.72it/s]"
      }
     },
     "f2656919abe341c4aec5209480e41986": {
      "model_module": "@jupyter-widgets/controls",
      "model_module_version": "2.0.0",
      "model_name": "ProgressStyleModel",
      "state": {
       "description_width": ""
      }
     },
     "f279f9518a1b42eb965acf6b7b71232c": {
      "model_module": "@jupyter-widgets/controls",
      "model_module_version": "2.0.0",
      "model_name": "HTMLStyleModel",
      "state": {
       "description_width": "",
       "font_size": null,
       "text_color": null
      }
     },
     "f2cbc0a06a7e4cdb833b17be37bbe6e6": {
      "model_module": "@jupyter-widgets/controls",
      "model_module_version": "2.0.0",
      "model_name": "HTMLModel",
      "state": {
       "layout": "IPY_MODEL_3da7f118bf0d4aae9d3ceeaae5f26e71",
       "style": "IPY_MODEL_a1b554e0072f46ec853e977de996839c",
       "value": "Processing CSVs: 100%"
      }
     },
     "f2e7820ca59842568500f7d7ed2b57a2": {
      "model_module": "@jupyter-widgets/controls",
      "model_module_version": "2.0.0",
      "model_name": "HTMLModel",
      "state": {
       "layout": "IPY_MODEL_1e5505d1862f4f5e8a232e543aa9690e",
       "style": "IPY_MODEL_e36a92ab96b84aa1a0b7688dceaf07bd",
       "value": " 669/672 [00:10&lt;00:00, 61.71it/s]"
      }
     },
     "f2ec8f4a78b142f3b2cb7f47ac6e56f1": {
      "model_module": "@jupyter-widgets/controls",
      "model_module_version": "2.0.0",
      "model_name": "ProgressStyleModel",
      "state": {
       "description_width": ""
      }
     },
     "f309c8d3e4ef44519936f82bdd506e97": {
      "model_module": "@jupyter-widgets/controls",
      "model_module_version": "2.0.0",
      "model_name": "HTMLStyleModel",
      "state": {
       "description_width": "",
       "font_size": null,
       "text_color": null
      }
     },
     "f331a709feb844168b57108238483206": {
      "model_module": "@jupyter-widgets/controls",
      "model_module_version": "2.0.0",
      "model_name": "FloatProgressModel",
      "state": {
       "layout": "IPY_MODEL_0356733359b94233b4b0c123c7352cd8",
       "max": 744,
       "style": "IPY_MODEL_8aea9925605f48d1a56bb4bfab09840c",
       "value": 744
      }
     },
     "f40b130b01e143c68b8b27e272b16246": {
      "model_module": "@jupyter-widgets/base",
      "model_module_version": "2.0.0",
      "model_name": "LayoutModel",
      "state": {
       "visibility": "hidden"
      }
     },
     "f47124e079b64482a8192965673a2ecf": {
      "model_module": "@jupyter-widgets/controls",
      "model_module_version": "2.0.0",
      "model_name": "HTMLModel",
      "state": {
       "layout": "IPY_MODEL_f781950964514354bffd59e81be425a5",
       "style": "IPY_MODEL_f95b95876e45489ba19f105a18002365",
       "value": " 743/744 [00:06&lt;00:00, 114.19it/s]"
      }
     },
     "f47993251b6747e5a3b98c46e43d02ec": {
      "model_module": "@jupyter-widgets/base",
      "model_module_version": "2.0.0",
      "model_name": "LayoutModel",
      "state": {
       "visibility": "hidden"
      }
     },
     "f49224abe9eb4492854526dfc8b858c5": {
      "model_module": "@jupyter-widgets/base",
      "model_module_version": "2.0.0",
      "model_name": "LayoutModel",
      "state": {}
     },
     "f4a2ffed1df04c8dbac176a980f9d72c": {
      "model_module": "@jupyter-widgets/controls",
      "model_module_version": "2.0.0",
      "model_name": "HTMLModel",
      "state": {
       "layout": "IPY_MODEL_fd791e9a65c044c281c8a006e34674d0",
       "style": "IPY_MODEL_6195491ae2934b64b05990667891a74e",
       "value": " 716/720 [00:11&lt;00:00, 62.62it/s]"
      }
     },
     "f4d4a6642fd5414abba63eabc6a48fbc": {
      "model_module": "@jupyter-widgets/controls",
      "model_module_version": "2.0.0",
      "model_name": "ProgressStyleModel",
      "state": {
       "description_width": ""
      }
     },
     "f55785a3995c4f7ab3b2c8583b152f17": {
      "model_module": "@jupyter-widgets/controls",
      "model_module_version": "2.0.0",
      "model_name": "HTMLStyleModel",
      "state": {
       "description_width": "",
       "font_size": null,
       "text_color": null
      }
     },
     "f55b979f3c2e45c3ae3a7b76e6a1dc5a": {
      "model_module": "@jupyter-widgets/base",
      "model_module_version": "2.0.0",
      "model_name": "LayoutModel",
      "state": {
       "visibility": "hidden"
      }
     },
     "f571afe8d63648578289b31508e7bba3": {
      "model_module": "@jupyter-widgets/controls",
      "model_module_version": "2.0.0",
      "model_name": "HTMLModel",
      "state": {
       "layout": "IPY_MODEL_ec27275b29e24f4e923d981fa81e709e",
       "style": "IPY_MODEL_09f586caa79c49baa29eee58dd0ae05d",
       "value": " 743/744 [00:11&lt;00:00, 64.32it/s]"
      }
     },
     "f5a9a5de1e61473c81ea5dd8a9aedea8": {
      "model_module": "@jupyter-widgets/controls",
      "model_module_version": "2.0.0",
      "model_name": "HTMLModel",
      "state": {
       "layout": "IPY_MODEL_106052e8e87a4a249571bf996cd0c27d",
       "style": "IPY_MODEL_9fd00731abf04f4c9920370858068306",
       "value": "Processing CSVs:  99%"
      }
     },
     "f5b6ce32b10a4e7b82422305c52870c5": {
      "model_module": "@jupyter-widgets/base",
      "model_module_version": "2.0.0",
      "model_name": "LayoutModel",
      "state": {}
     },
     "f5c57b13e9eb49adb1e47cd82569896e": {
      "model_module": "@jupyter-widgets/base",
      "model_module_version": "2.0.0",
      "model_name": "LayoutModel",
      "state": {
       "visibility": "hidden"
      }
     },
     "f5c68eb433cd414c81faf14e63fc1acd": {
      "model_module": "@jupyter-widgets/base",
      "model_module_version": "2.0.0",
      "model_name": "LayoutModel",
      "state": {
       "visibility": "hidden"
      }
     },
     "f5cf37e72180464ca07009ee8d9113c0": {
      "model_module": "@jupyter-widgets/controls",
      "model_module_version": "2.0.0",
      "model_name": "HTMLModel",
      "state": {
       "layout": "IPY_MODEL_ec0082178f7945a28a877abe8aec7e2d",
       "style": "IPY_MODEL_9fa41400abce49aba839867fe93ce92a",
       "value": "Processing CSVs:  99%"
      }
     },
     "f5dbfcd097bd4e278d3adbef850dac26": {
      "model_module": "@jupyter-widgets/controls",
      "model_module_version": "2.0.0",
      "model_name": "HTMLModel",
      "state": {
       "layout": "IPY_MODEL_b3ce4e8bc5c9432b910192133cc01f4b",
       "style": "IPY_MODEL_688ff40b164e4d039a0f78ce491142c6",
       "value": " 714/720 [00:05&lt;00:00, 128.69it/s]"
      }
     },
     "f6072eafa0c340b5b4de6998b5c71344": {
      "model_module": "@jupyter-widgets/base",
      "model_module_version": "2.0.0",
      "model_name": "LayoutModel",
      "state": {}
     },
     "f607b63de2264a80b93af7324489c183": {
      "model_module": "@jupyter-widgets/base",
      "model_module_version": "2.0.0",
      "model_name": "LayoutModel",
      "state": {
       "visibility": "hidden"
      }
     },
     "f62d0df91803465e8298be75ab8c8067": {
      "model_module": "@jupyter-widgets/controls",
      "model_module_version": "2.0.0",
      "model_name": "HTMLModel",
      "state": {
       "layout": "IPY_MODEL_3828f3423ee848c382b90b52623a10c9",
       "style": "IPY_MODEL_54c3bd326dc64ca6abaf0a2231ed37d1",
       "value": "Processing CSVs:  99%"
      }
     },
     "f664d8852d1e481e8feeabfc3f2a7914": {
      "model_module": "@jupyter-widgets/base",
      "model_module_version": "2.0.0",
      "model_name": "LayoutModel",
      "state": {}
     },
     "f6f234d8c8ff4401991888ddbce9227a": {
      "model_module": "@jupyter-widgets/controls",
      "model_module_version": "2.0.0",
      "model_name": "HTMLStyleModel",
      "state": {
       "description_width": "",
       "font_size": null,
       "text_color": null
      }
     },
     "f6fd7d0b476c417eb71704c24381a3f2": {
      "model_module": "@jupyter-widgets/base",
      "model_module_version": "2.0.0",
      "model_name": "LayoutModel",
      "state": {}
     },
     "f6fe4cd9db7a4e579dac93298f5f871e": {
      "model_module": "@jupyter-widgets/base",
      "model_module_version": "2.0.0",
      "model_name": "LayoutModel",
      "state": {
       "visibility": "hidden"
      }
     },
     "f76559a75e8e4c8a8e167647629410d2": {
      "model_module": "@jupyter-widgets/controls",
      "model_module_version": "2.0.0",
      "model_name": "FloatProgressModel",
      "state": {
       "layout": "IPY_MODEL_766b06bb3907407bb811aa4d1938712f",
       "max": 744,
       "style": "IPY_MODEL_c99ab626385e4711839ffdee4d1b7945",
       "value": 744
      }
     },
     "f77b48aa13624321af3ac2e09ac31285": {
      "model_module": "@jupyter-widgets/controls",
      "model_module_version": "2.0.0",
      "model_name": "HTMLStyleModel",
      "state": {
       "description_width": "",
       "font_size": null,
       "text_color": null
      }
     },
     "f781950964514354bffd59e81be425a5": {
      "model_module": "@jupyter-widgets/base",
      "model_module_version": "2.0.0",
      "model_name": "LayoutModel",
      "state": {}
     },
     "f79f8bb320f543a29f30a6280e7ba76d": {
      "model_module": "@jupyter-widgets/base",
      "model_module_version": "2.0.0",
      "model_name": "LayoutModel",
      "state": {}
     },
     "f80492107d924bf9a8943ab051fb3517": {
      "model_module": "@jupyter-widgets/controls",
      "model_module_version": "2.0.0",
      "model_name": "ProgressStyleModel",
      "state": {
       "description_width": ""
      }
     },
     "f819f55c4d7a412ca13dc66083d7a15a": {
      "model_module": "@jupyter-widgets/controls",
      "model_module_version": "2.0.0",
      "model_name": "ProgressStyleModel",
      "state": {
       "description_width": ""
      }
     },
     "f84e168d3c384f719aad69b811ac1051": {
      "model_module": "@jupyter-widgets/controls",
      "model_module_version": "2.0.0",
      "model_name": "HTMLModel",
      "state": {
       "layout": "IPY_MODEL_83e8fe48af734c7da1ab79a451819778",
       "style": "IPY_MODEL_3a7f438a5b694ca68ab6e8a478370cdf",
       "value": " 740/744 [00:11&lt;00:00, 60.42it/s]"
      }
     },
     "f8501c7c0fb54eeeb85d969da2efb7e0": {
      "model_module": "@jupyter-widgets/base",
      "model_module_version": "2.0.0",
      "model_name": "LayoutModel",
      "state": {}
     },
     "f859b4730f4a4b0da0959ddd18fcf31b": {
      "model_module": "@jupyter-widgets/controls",
      "model_module_version": "2.0.0",
      "model_name": "ProgressStyleModel",
      "state": {
       "description_width": ""
      }
     },
     "f88c2dfd149e401e815a848af5a6ce29": {
      "model_module": "@jupyter-widgets/controls",
      "model_module_version": "2.0.0",
      "model_name": "FloatProgressModel",
      "state": {
       "layout": "IPY_MODEL_cccd4ad88b684a0ab52e79ce75a12274",
       "max": 744,
       "style": "IPY_MODEL_22b740a6e57f480187dabc140d295bc8",
       "value": 744
      }
     },
     "f89cfddde8254f8db388871575592e9e": {
      "model_module": "@jupyter-widgets/base",
      "model_module_version": "2.0.0",
      "model_name": "LayoutModel",
      "state": {}
     },
     "f8c67dde1f2c4260a4298f084024833d": {
      "model_module": "@jupyter-widgets/controls",
      "model_module_version": "2.0.0",
      "model_name": "ProgressStyleModel",
      "state": {
       "description_width": ""
      }
     },
     "f8d80af52046448cbd64b49c32262ad3": {
      "model_module": "@jupyter-widgets/controls",
      "model_module_version": "2.0.0",
      "model_name": "HTMLStyleModel",
      "state": {
       "description_width": "",
       "font_size": null,
       "text_color": null
      }
     },
     "f8dfce16198d46ceaadcf456eb379d29": {
      "model_module": "@jupyter-widgets/controls",
      "model_module_version": "2.0.0",
      "model_name": "ProgressStyleModel",
      "state": {
       "description_width": ""
      }
     },
     "f8f4207ff5494490ad955146ea0cd526": {
      "model_module": "@jupyter-widgets/base",
      "model_module_version": "2.0.0",
      "model_name": "LayoutModel",
      "state": {}
     },
     "f9138d67eb6c49d4a8814df190dc067b": {
      "model_module": "@jupyter-widgets/controls",
      "model_module_version": "2.0.0",
      "model_name": "HTMLModel",
      "state": {
       "layout": "IPY_MODEL_a20d8eab3bbe4ced8cab78912b58b4b9",
       "style": "IPY_MODEL_5d1e213e2b884941904c6e91ac802bfc",
       "value": " 719/720 [00:05&lt;00:00, 113.14it/s]"
      }
     },
     "f93f11e4a5264228915f8bcbd4c2cdc8": {
      "model_module": "@jupyter-widgets/base",
      "model_module_version": "2.0.0",
      "model_name": "LayoutModel",
      "state": {
       "visibility": "hidden"
      }
     },
     "f94469699084410893686ebd1adb1151": {
      "model_module": "@jupyter-widgets/controls",
      "model_module_version": "2.0.0",
      "model_name": "ProgressStyleModel",
      "state": {
       "description_width": ""
      }
     },
     "f95b95876e45489ba19f105a18002365": {
      "model_module": "@jupyter-widgets/controls",
      "model_module_version": "2.0.0",
      "model_name": "HTMLStyleModel",
      "state": {
       "description_width": "",
       "font_size": null,
       "text_color": null
      }
     },
     "f9605f19c2a44fe0b733d751e28b3c8d": {
      "model_module": "@jupyter-widgets/controls",
      "model_module_version": "2.0.0",
      "model_name": "HTMLStyleModel",
      "state": {
       "description_width": "",
       "font_size": null,
       "text_color": null
      }
     },
     "f9743cf186dd4b369a545a9004205cd0": {
      "model_module": "@jupyter-widgets/base",
      "model_module_version": "2.0.0",
      "model_name": "LayoutModel",
      "state": {}
     },
     "f99563a21ef8445ea74401e47c0213c8": {
      "model_module": "@jupyter-widgets/controls",
      "model_module_version": "2.0.0",
      "model_name": "HTMLModel",
      "state": {
       "layout": "IPY_MODEL_1686117b28a14a358c43c7ed7bbe911a",
       "style": "IPY_MODEL_dce3154d301e49ac8b7e39ad522d33e9",
       "value": " 740/744 [00:05&lt;00:00, 133.91it/s]"
      }
     },
     "f999b7b9dfe1430e9ba86e3c0977637d": {
      "model_module": "@jupyter-widgets/controls",
      "model_module_version": "2.0.0",
      "model_name": "FloatProgressModel",
      "state": {
       "layout": "IPY_MODEL_1bf4659a48fe40e0b53d8457d4675c9a",
       "max": 720,
       "style": "IPY_MODEL_6b2b731facfc425ea82b15941e25be7f",
       "value": 720
      }
     },
     "f99fd69a6450402b9a517367da3f7810": {
      "model_module": "@jupyter-widgets/controls",
      "model_module_version": "2.0.0",
      "model_name": "FloatProgressModel",
      "state": {
       "layout": "IPY_MODEL_390a6e206569429f9ee58cc90b8d88f1",
       "max": 720,
       "style": "IPY_MODEL_b78d81eff7d14b2b83fcb38f4cbb8d50",
       "value": 720
      }
     },
     "f9ff880ce90a4a4c8c70f424011fd3c0": {
      "model_module": "@jupyter-widgets/base",
      "model_module_version": "2.0.0",
      "model_name": "LayoutModel",
      "state": {}
     },
     "fa4feb9411d74b2aba038df4790057e0": {
      "model_module": "@jupyter-widgets/base",
      "model_module_version": "2.0.0",
      "model_name": "LayoutModel",
      "state": {}
     },
     "fa583a0755e14e6da305a94be244207e": {
      "model_module": "@jupyter-widgets/controls",
      "model_module_version": "2.0.0",
      "model_name": "HTMLModel",
      "state": {
       "layout": "IPY_MODEL_63c33fa9dedc452abf41e1ffbbab6f6d",
       "style": "IPY_MODEL_317cc612550f48ebbe0ba9d5975c4104",
       "value": "Processing CSVs:  99%"
      }
     },
     "fa76e5715859440ba66ea650297900a0": {
      "model_module": "@jupyter-widgets/controls",
      "model_module_version": "2.0.0",
      "model_name": "FloatProgressModel",
      "state": {
       "layout": "IPY_MODEL_c83f6790393a4558954aeb773bf11aa4",
       "max": 655,
       "style": "IPY_MODEL_0f7684dbf499430094b84535fea501ca",
       "value": 655
      }
     },
     "fa9fab2a7c6f4e92b0d3eace06d158f1": {
      "model_module": "@jupyter-widgets/controls",
      "model_module_version": "2.0.0",
      "model_name": "FloatProgressModel",
      "state": {
       "layout": "IPY_MODEL_f664d8852d1e481e8feeabfc3f2a7914",
       "max": 744,
       "style": "IPY_MODEL_c6507d7bb3154188a3bf4c26f8ad1846",
       "value": 744
      }
     },
     "faba9061caef49d5ac639662a41027f0": {
      "model_module": "@jupyter-widgets/controls",
      "model_module_version": "2.0.0",
      "model_name": "HTMLModel",
      "state": {
       "layout": "IPY_MODEL_95c9b4e4e48a4ade987d6ee15f7caeaf",
       "style": "IPY_MODEL_8609847335f14fd895ff57f3b4b94bec",
       "value": " 743/744 [00:06&lt;00:00, 102.78it/s]"
      }
     },
     "fae6089d64e341b0a053c06eeb1c83c6": {
      "model_module": "@jupyter-widgets/base",
      "model_module_version": "2.0.0",
      "model_name": "LayoutModel",
      "state": {}
     },
     "fb0a37d288dc4f15a9c2890da44edb3e": {
      "model_module": "@jupyter-widgets/controls",
      "model_module_version": "2.0.0",
      "model_name": "ProgressStyleModel",
      "state": {
       "description_width": ""
      }
     },
     "fb2672c432e24264939936a0bda3d5ee": {
      "model_module": "@jupyter-widgets/controls",
      "model_module_version": "2.0.0",
      "model_name": "ProgressStyleModel",
      "state": {
       "description_width": ""
      }
     },
     "fb28bf7ac9df42d88d14eae395396ca5": {
      "model_module": "@jupyter-widgets/base",
      "model_module_version": "2.0.0",
      "model_name": "LayoutModel",
      "state": {}
     },
     "fb9ad4b23a404acca3ab72e9eb1f2d50": {
      "model_module": "@jupyter-widgets/controls",
      "model_module_version": "2.0.0",
      "model_name": "ProgressStyleModel",
      "state": {
       "description_width": ""
      }
     },
     "fbf414f204d64aac9ddd0ef7a1d822cb": {
      "model_module": "@jupyter-widgets/controls",
      "model_module_version": "2.0.0",
      "model_name": "HBoxModel",
      "state": {
       "children": [
        "IPY_MODEL_699ce5d8474a444b9225c3064a292272",
        "IPY_MODEL_da91c44b25244d6c8913398708d377cc",
        "IPY_MODEL_7426c869bbbf4fb8a3a20db38ec6b39f"
       ],
       "layout": "IPY_MODEL_016a99b21d3044098480996fee56bd1c"
      }
     },
     "fc06bab146b7455383d214815b7f2f7e": {
      "model_module": "@jupyter-widgets/controls",
      "model_module_version": "2.0.0",
      "model_name": "HTMLModel",
      "state": {
       "layout": "IPY_MODEL_c8b5da7e411d4815999aa87462a8baf9",
       "style": "IPY_MODEL_8b8d07bfbda548d585c5ff0307c3f42b",
       "value": "Processing CSVs:  99%"
      }
     },
     "fc11c8c2966842ee92f3552dc29a295e": {
      "model_module": "@jupyter-widgets/controls",
      "model_module_version": "2.0.0",
      "model_name": "HTMLModel",
      "state": {
       "layout": "IPY_MODEL_f89cfddde8254f8db388871575592e9e",
       "style": "IPY_MODEL_8934150c28534ef08471da479d8b107a",
       "value": "Processing CSVs:  99%"
      }
     },
     "fc4e17e1f5ef4ac99bdcd354eb68d235": {
      "model_module": "@jupyter-widgets/base",
      "model_module_version": "2.0.0",
      "model_name": "LayoutModel",
      "state": {}
     },
     "fc6e239ac3914e85a53bea0ee053d33d": {
      "model_module": "@jupyter-widgets/base",
      "model_module_version": "2.0.0",
      "model_name": "LayoutModel",
      "state": {
       "visibility": "hidden"
      }
     },
     "fc900e5df52747679550d4d19bf67487": {
      "model_module": "@jupyter-widgets/controls",
      "model_module_version": "2.0.0",
      "model_name": "HTMLStyleModel",
      "state": {
       "description_width": "",
       "font_size": null,
       "text_color": null
      }
     },
     "fcb6e01231034118846eae248835cf0f": {
      "model_module": "@jupyter-widgets/controls",
      "model_module_version": "2.0.0",
      "model_name": "HTMLModel",
      "state": {
       "layout": "IPY_MODEL_909b9e9bb39b418b8b32b096339556a9",
       "style": "IPY_MODEL_d7a5b69d93bb430ab3f7ec1971c21175",
       "value": " 718/720 [00:05&lt;00:00, 115.39it/s]"
      }
     },
     "fce571bf7881423699fc3d7e15028b2d": {
      "model_module": "@jupyter-widgets/controls",
      "model_module_version": "2.0.0",
      "model_name": "HTMLStyleModel",
      "state": {
       "description_width": "",
       "font_size": null,
       "text_color": null
      }
     },
     "fcf7f846591a40a6bdeb28f549774a55": {
      "model_module": "@jupyter-widgets/controls",
      "model_module_version": "2.0.0",
      "model_name": "HTMLModel",
      "state": {
       "layout": "IPY_MODEL_b7e6045655b0490790b92cf3f3be3371",
       "style": "IPY_MODEL_e5c5cd2fea644e298023b7f8317252b8",
       "value": " 330/744 [00:02&lt;00:03, 122.84it/s]"
      }
     },
     "fd62f0b929684527ad784bcfbf97bb59": {
      "model_module": "@jupyter-widgets/controls",
      "model_module_version": "2.0.0",
      "model_name": "HTMLStyleModel",
      "state": {
       "description_width": "",
       "font_size": null,
       "text_color": null
      }
     },
     "fd791e9a65c044c281c8a006e34674d0": {
      "model_module": "@jupyter-widgets/base",
      "model_module_version": "2.0.0",
      "model_name": "LayoutModel",
      "state": {}
     },
     "fe0f251c850d45bc953a241e8bdf9d9c": {
      "model_module": "@jupyter-widgets/controls",
      "model_module_version": "2.0.0",
      "model_name": "HTMLModel",
      "state": {
       "layout": "IPY_MODEL_81890f03fa3c4257b7015e640088adf2",
       "style": "IPY_MODEL_ec0fc6d8d49f4001a712ba7bd7e37415",
       "value": " 730/744 [00:05&lt;00:00, 143.32it/s]"
      }
     },
     "fe1f4b9ae4da471db36512aefa1b097c": {
      "model_module": "@jupyter-widgets/controls",
      "model_module_version": "2.0.0",
      "model_name": "HTMLStyleModel",
      "state": {
       "description_width": "",
       "font_size": null,
       "text_color": null
      }
     },
     "fe32ee6c671c4b60a0bece509e8e3392": {
      "model_module": "@jupyter-widgets/controls",
      "model_module_version": "2.0.0",
      "model_name": "HTMLModel",
      "state": {
       "layout": "IPY_MODEL_a4e3961df50047639e4f421d6a2a43b3",
       "style": "IPY_MODEL_572075c912524bd8bdcb8d32ee8a2ab1",
       "value": "Processing CSVs:  99%"
      }
     },
     "fe503ab2476c40ebb0653be865e949ee": {
      "model_module": "@jupyter-widgets/controls",
      "model_module_version": "2.0.0",
      "model_name": "HTMLStyleModel",
      "state": {
       "description_width": "",
       "font_size": null,
       "text_color": null
      }
     },
     "fe58536dd8a942ebbf7b206bcba6b37d": {
      "model_module": "@jupyter-widgets/base",
      "model_module_version": "2.0.0",
      "model_name": "LayoutModel",
      "state": {
       "visibility": "hidden"
      }
     },
     "fe70af1993af44d397d9f3787b5efc35": {
      "model_module": "@jupyter-widgets/base",
      "model_module_version": "2.0.0",
      "model_name": "LayoutModel",
      "state": {}
     },
     "fe9d902421194e27a58a5595b355e9d5": {
      "model_module": "@jupyter-widgets/controls",
      "model_module_version": "2.0.0",
      "model_name": "FloatProgressModel",
      "state": {
       "layout": "IPY_MODEL_1964ce498fe4448ea1fbecb819428ed7",
       "max": 720,
       "style": "IPY_MODEL_5df4d25b92bc462996f5bce7aa7d305d",
       "value": 720
      }
     },
     "ff1a4784c2bc461a807cc7ba069ed341": {
      "model_module": "@jupyter-widgets/controls",
      "model_module_version": "2.0.0",
      "model_name": "HTMLStyleModel",
      "state": {
       "description_width": "",
       "font_size": null,
       "text_color": null
      }
     },
     "ff4d67acd933462caed4599e9ca25ba4": {
      "model_module": "@jupyter-widgets/controls",
      "model_module_version": "2.0.0",
      "model_name": "HTMLModel",
      "state": {
       "layout": "IPY_MODEL_80770ee59ac0444499b83771695cb3da",
       "style": "IPY_MODEL_bd05b4b4755445998a3d156300ce8d83",
       "value": " 9/9 [01:47&lt;00:00, 12.17s/it]"
      }
     },
     "ff5b3437e9d84ac4b6066add6dd96e80": {
      "model_module": "@jupyter-widgets/base",
      "model_module_version": "2.0.0",
      "model_name": "LayoutModel",
      "state": {
       "visibility": "hidden"
      }
     },
     "ff5b66309b564c76a1cd57b84e8f47a0": {
      "model_module": "@jupyter-widgets/base",
      "model_module_version": "2.0.0",
      "model_name": "LayoutModel",
      "state": {}
     },
     "ff92b056704044cb903704ebea8ece7e": {
      "model_module": "@jupyter-widgets/base",
      "model_module_version": "2.0.0",
      "model_name": "LayoutModel",
      "state": {
       "visibility": "hidden"
      }
     },
     "ffbb2e0a475043e7adf44b806f716fbf": {
      "model_module": "@jupyter-widgets/base",
      "model_module_version": "2.0.0",
      "model_name": "LayoutModel",
      "state": {}
     }
    },
    "version_major": 2,
    "version_minor": 0
   }
  }
 },
 "nbformat": 4,
 "nbformat_minor": 5
}
