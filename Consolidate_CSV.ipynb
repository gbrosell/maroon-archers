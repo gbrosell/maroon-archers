{
 "cells": [
  {
   "cell_type": "code",
   "execution_count": 1,
   "id": "b6f6960c-8ff8-4a8e-8c25-d5467fe1e484",
   "metadata": {},
   "outputs": [],
   "source": [
    "import pandas as pd\n",
    "import os\n",
    "from tqdm.notebook import tqdm"
   ]
  },
  {
   "cell_type": "markdown",
   "id": "163f6cbc-d37b-4e2f-9a6e-fd09a6f81e66",
   "metadata": {
    "tags": []
   },
   "source": [
    "# Consolidate 1 Power Plant to 1 csv"
   ]
  },
  {
   "cell_type": "markdown",
   "id": "9ec228b0-72a0-4682-a355-c76aa2d7fabe",
   "metadata": {},
   "source": [
    "## Specify powerplant IDs"
   ]
  },
  {
   "cell_type": "code",
   "execution_count": 2,
   "id": "f15a47e9-fadd-4941-af55-6c11cb1ef8e9",
   "metadata": {},
   "outputs": [],
   "source": [
    "# Specify the IDs you're interested in\n",
    "# target_ids = ['01AMBUK_U01', '01AMBUK_U02', '01AMBUK_U03']\n",
    "target_ids = ['01SUAL_G01']\n",
    "# target_ids = ['06SACASL_G01']\n",
    "# target_ids = ['06SACSUN_G01']\n",
    "# target_ids = ['01ARAYSOL_G01', '01ARAYSOL_G02', '01ARMSOL_G01', '01BOSUNG_G01', '01BTNSOL_G01', '01BTSOLEN_G01', '01BULSOL_G01', '01BURGOS_G02', '01BURGOS_G03', '01CABSOL_G01', '01CLASOL_G01', '01CONSOL_G01', '01CURSOL_G02', '01DALSOL_G01', '01GIGSOL_G01', '01MAEC_G01', '01MARSOL_G01', '01PASQSOL_G01', '01PETSOL_G01', '01PETSOL_G02', '01RASLAG_G01', '01RASLAG_G02', '01RASLAG_G03', '01SPABUL_G01', '01SUBSOL_G01', '01TERASU_G01', '01TRUSTSOL_G01', '01YHGRN_G01', '01ZAMSOL_G01', '02ECOPRK_G01', '02ECOTAGA_G01', '02PNGYSOL_G01', '02SMNRTH_G01', '02VALSOL_G01', '03ADISOL_G01', '03CALSOL_G01', '03MEC_G01', '03SOLACE_G01', '04PHSOL_G01', '04SEPSOL_G01', '05TOLSOL_G01', '06CARSOL_G01', '06HELIOS_G01', '06MANSOL_G01', '06MNTSOL_G01', \n",
    "#  '06SACASL_G01', '06SACASL_G02', '06SACSUN_G01', '06SLYSOL_G01', '08COSMO_G01', '11KBSOL_G01', '11KIRAS_G01', '13DIGSOL_G01', '14ASTROSOL_G01', '14NVSOL_G01']"
   ]
  },
  {
   "cell_type": "markdown",
   "id": "bd1899e1-f7fb-4c04-a401-049982531203",
   "metadata": {},
   "source": [
    "## Specify the path to your base folder \"RTD Generation Offers\""
   ]
  },
  {
   "cell_type": "code",
   "execution_count": 3,
   "id": "793fda2d-1abe-4c27-a0e0-d9be3b8d01be",
   "metadata": {},
   "outputs": [],
   "source": [
    "# Specify the base folder\n",
    "base_folder = r'F:/WESM_data/RTD_Generation_Offers'"
   ]
  },
  {
   "cell_type": "markdown",
   "id": "e375885f-cfdf-4da9-83da-9cbf6ea2b084",
   "metadata": {},
   "source": [
    "## Begin for loop"
   ]
  },
  {
   "cell_type": "code",
   "execution_count": 4,
   "id": "303a360d-0e40-4022-9a5a-8f215a3c32b1",
   "metadata": {
    "tags": []
   },
   "outputs": [
    {
     "data": {
      "application/vnd.jupyter.widget-view+json": {
       "model_id": "",
       "version_major": 2,
       "version_minor": 0
      },
      "text/plain": [
       "Processing Years:   0%|          | 0/3 [00:00<?, ?it/s]"
      ]
     },
     "metadata": {},
     "output_type": "display_data"
    },
    {
     "data": {
      "application/vnd.jupyter.widget-view+json": {
       "model_id": "",
       "version_major": 2,
       "version_minor": 0
      },
      "text/plain": [
       "Processing Months:   0%|          | 0/6 [00:00<?, ?it/s]"
      ]
     },
     "metadata": {},
     "output_type": "display_data"
    },
    {
     "data": {
      "application/vnd.jupyter.widget-view+json": {
       "model_id": "",
       "version_major": 2,
       "version_minor": 0
      },
      "text/plain": [
       "Processing CSVs:   0%|          | 0/720 [00:00<?, ?it/s]"
      ]
     },
     "metadata": {},
     "output_type": "display_data"
    },
    {
     "data": {
      "application/vnd.jupyter.widget-view+json": {
       "model_id": "",
       "version_major": 2,
       "version_minor": 0
      },
      "text/plain": [
       "Processing CSVs:   0%|          | 0/744 [00:00<?, ?it/s]"
      ]
     },
     "metadata": {},
     "output_type": "display_data"
    },
    {
     "data": {
      "application/vnd.jupyter.widget-view+json": {
       "model_id": "",
       "version_major": 2,
       "version_minor": 0
      },
      "text/plain": [
       "Processing CSVs:   0%|          | 0/744 [00:00<?, ?it/s]"
      ]
     },
     "metadata": {},
     "output_type": "display_data"
    },
    {
     "data": {
      "application/vnd.jupyter.widget-view+json": {
       "model_id": "",
       "version_major": 2,
       "version_minor": 0
      },
      "text/plain": [
       "Processing CSVs:   0%|          | 0/720 [00:00<?, ?it/s]"
      ]
     },
     "metadata": {},
     "output_type": "display_data"
    },
    {
     "data": {
      "application/vnd.jupyter.widget-view+json": {
       "model_id": "",
       "version_major": 2,
       "version_minor": 0
      },
      "text/plain": [
       "Processing CSVs:   0%|          | 0/744 [00:00<?, ?it/s]"
      ]
     },
     "metadata": {},
     "output_type": "display_data"
    },
    {
     "data": {
      "application/vnd.jupyter.widget-view+json": {
       "model_id": "",
       "version_major": 2,
       "version_minor": 0
      },
      "text/plain": [
       "Processing CSVs:   0%|          | 0/720 [00:00<?, ?it/s]"
      ]
     },
     "metadata": {},
     "output_type": "display_data"
    },
    {
     "data": {
      "application/vnd.jupyter.widget-view+json": {
       "model_id": "",
       "version_major": 2,
       "version_minor": 0
      },
      "text/plain": [
       "Processing Months:   0%|          | 0/12 [00:00<?, ?it/s]"
      ]
     },
     "metadata": {},
     "output_type": "display_data"
    },
    {
     "data": {
      "application/vnd.jupyter.widget-view+json": {
       "model_id": "",
       "version_major": 2,
       "version_minor": 0
      },
      "text/plain": [
       "Processing CSVs:   0%|          | 0/744 [00:00<?, ?it/s]"
      ]
     },
     "metadata": {},
     "output_type": "display_data"
    },
    {
     "data": {
      "application/vnd.jupyter.widget-view+json": {
       "model_id": "",
       "version_major": 2,
       "version_minor": 0
      },
      "text/plain": [
       "Processing CSVs:   0%|          | 0/744 [00:00<?, ?it/s]"
      ]
     },
     "metadata": {},
     "output_type": "display_data"
    },
    {
     "data": {
      "application/vnd.jupyter.widget-view+json": {
       "model_id": "",
       "version_major": 2,
       "version_minor": 0
      },
      "text/plain": [
       "Processing CSVs:   0%|          | 0/672 [00:00<?, ?it/s]"
      ]
     },
     "metadata": {},
     "output_type": "display_data"
    },
    {
     "data": {
      "application/vnd.jupyter.widget-view+json": {
       "model_id": "",
       "version_major": 2,
       "version_minor": 0
      },
      "text/plain": [
       "Processing CSVs:   0%|          | 0/744 [00:00<?, ?it/s]"
      ]
     },
     "metadata": {},
     "output_type": "display_data"
    },
    {
     "data": {
      "application/vnd.jupyter.widget-view+json": {
       "model_id": "",
       "version_major": 2,
       "version_minor": 0
      },
      "text/plain": [
       "Processing CSVs:   0%|          | 0/720 [00:00<?, ?it/s]"
      ]
     },
     "metadata": {},
     "output_type": "display_data"
    },
    {
     "data": {
      "application/vnd.jupyter.widget-view+json": {
       "model_id": "",
       "version_major": 2,
       "version_minor": 0
      },
      "text/plain": [
       "Processing CSVs:   0%|          | 0/744 [00:00<?, ?it/s]"
      ]
     },
     "metadata": {},
     "output_type": "display_data"
    },
    {
     "data": {
      "application/vnd.jupyter.widget-view+json": {
       "model_id": "",
       "version_major": 2,
       "version_minor": 0
      },
      "text/plain": [
       "Processing CSVs:   0%|          | 0/720 [00:00<?, ?it/s]"
      ]
     },
     "metadata": {},
     "output_type": "display_data"
    },
    {
     "data": {
      "application/vnd.jupyter.widget-view+json": {
       "model_id": "",
       "version_major": 2,
       "version_minor": 0
      },
      "text/plain": [
       "Processing CSVs:   0%|          | 0/744 [00:00<?, ?it/s]"
      ]
     },
     "metadata": {},
     "output_type": "display_data"
    },
    {
     "data": {
      "application/vnd.jupyter.widget-view+json": {
       "model_id": "",
       "version_major": 2,
       "version_minor": 0
      },
      "text/plain": [
       "Processing CSVs:   0%|          | 0/744 [00:00<?, ?it/s]"
      ]
     },
     "metadata": {},
     "output_type": "display_data"
    },
    {
     "data": {
      "application/vnd.jupyter.widget-view+json": {
       "model_id": "",
       "version_major": 2,
       "version_minor": 0
      },
      "text/plain": [
       "Processing CSVs:   0%|          | 0/720 [00:00<?, ?it/s]"
      ]
     },
     "metadata": {},
     "output_type": "display_data"
    },
    {
     "data": {
      "application/vnd.jupyter.widget-view+json": {
       "model_id": "",
       "version_major": 2,
       "version_minor": 0
      },
      "text/plain": [
       "Processing CSVs:   0%|          | 0/744 [00:00<?, ?it/s]"
      ]
     },
     "metadata": {},
     "output_type": "display_data"
    },
    {
     "data": {
      "application/vnd.jupyter.widget-view+json": {
       "model_id": "",
       "version_major": 2,
       "version_minor": 0
      },
      "text/plain": [
       "Processing CSVs:   0%|          | 0/720 [00:00<?, ?it/s]"
      ]
     },
     "metadata": {},
     "output_type": "display_data"
    },
    {
     "data": {
      "application/vnd.jupyter.widget-view+json": {
       "model_id": "",
       "version_major": 2,
       "version_minor": 0
      },
      "text/plain": [
       "Processing Months:   0%|          | 0/9 [00:00<?, ?it/s]"
      ]
     },
     "metadata": {},
     "output_type": "display_data"
    },
    {
     "data": {
      "application/vnd.jupyter.widget-view+json": {
       "model_id": "",
       "version_major": 2,
       "version_minor": 0
      },
      "text/plain": [
       "Processing CSVs:   0%|          | 0/744 [00:00<?, ?it/s]"
      ]
     },
     "metadata": {},
     "output_type": "display_data"
    },
    {
     "data": {
      "application/vnd.jupyter.widget-view+json": {
       "model_id": "",
       "version_major": 2,
       "version_minor": 0
      },
      "text/plain": [
       "Processing CSVs:   0%|          | 0/744 [00:00<?, ?it/s]"
      ]
     },
     "metadata": {},
     "output_type": "display_data"
    },
    {
     "data": {
      "application/vnd.jupyter.widget-view+json": {
       "model_id": "",
       "version_major": 2,
       "version_minor": 0
      },
      "text/plain": [
       "Processing CSVs:   0%|          | 0/655 [00:00<?, ?it/s]"
      ]
     },
     "metadata": {},
     "output_type": "display_data"
    },
    {
     "data": {
      "application/vnd.jupyter.widget-view+json": {
       "model_id": "",
       "version_major": 2,
       "version_minor": 0
      },
      "text/plain": [
       "Processing CSVs:   0%|          | 0/744 [00:00<?, ?it/s]"
      ]
     },
     "metadata": {},
     "output_type": "display_data"
    },
    {
     "data": {
      "application/vnd.jupyter.widget-view+json": {
       "model_id": "",
       "version_major": 2,
       "version_minor": 0
      },
      "text/plain": [
       "Processing CSVs:   0%|          | 0/720 [00:00<?, ?it/s]"
      ]
     },
     "metadata": {},
     "output_type": "display_data"
    },
    {
     "data": {
      "application/vnd.jupyter.widget-view+json": {
       "model_id": "",
       "version_major": 2,
       "version_minor": 0
      },
      "text/plain": [
       "Processing CSVs:   0%|          | 0/744 [00:00<?, ?it/s]"
      ]
     },
     "metadata": {},
     "output_type": "display_data"
    },
    {
     "data": {
      "application/vnd.jupyter.widget-view+json": {
       "model_id": "",
       "version_major": 2,
       "version_minor": 0
      },
      "text/plain": [
       "Processing CSVs:   0%|          | 0/720 [00:00<?, ?it/s]"
      ]
     },
     "metadata": {},
     "output_type": "display_data"
    },
    {
     "data": {
      "application/vnd.jupyter.widget-view+json": {
       "model_id": "",
       "version_major": 2,
       "version_minor": 0
      },
      "text/plain": [
       "Processing CSVs:   0%|          | 0/744 [00:00<?, ?it/s]"
      ]
     },
     "metadata": {},
     "output_type": "display_data"
    },
    {
     "data": {
      "application/vnd.jupyter.widget-view+json": {
       "model_id": "",
       "version_major": 2,
       "version_minor": 0
      },
      "text/plain": [
       "Processing CSVs:   0%|          | 0/744 [00:00<?, ?it/s]"
      ]
     },
     "metadata": {},
     "output_type": "display_data"
    },
    {
     "name": "stdout",
     "output_type": "stream",
     "text": [
      "CPU times: total: 3min 8s\n",
      "Wall time: 5min 45s\n"
     ]
    },
    {
     "data": {
      "text/html": [
       "<div>\n",
       "<style scoped>\n",
       "    .dataframe tbody tr th:only-of-type {\n",
       "        vertical-align: middle;\n",
       "    }\n",
       "\n",
       "    .dataframe tbody tr th {\n",
       "        vertical-align: top;\n",
       "    }\n",
       "\n",
       "    .dataframe thead th {\n",
       "        text-align: right;\n",
       "    }\n",
       "</style>\n",
       "<table border=\"1\" class=\"dataframe\">\n",
       "  <thead>\n",
       "    <tr style=\"text-align: right;\">\n",
       "      <th></th>\n",
       "      <th>RUN_TIME</th>\n",
       "      <th>MKT_TYPE</th>\n",
       "      <th>REGION_NAME</th>\n",
       "      <th>ZONE_NAME</th>\n",
       "      <th>RESOURCE_NAME</th>\n",
       "      <th>TIME_INTERVAL</th>\n",
       "      <th>START_TIME</th>\n",
       "      <th>END_TIME</th>\n",
       "      <th>MP_NAME</th>\n",
       "      <th>PRICE1</th>\n",
       "      <th>...</th>\n",
       "      <th>RR_BREAK_QUANTITY3</th>\n",
       "      <th>RR_UP3</th>\n",
       "      <th>RR_DOWN3</th>\n",
       "      <th>RR_BREAK_QUANTITY4</th>\n",
       "      <th>RR_UP4</th>\n",
       "      <th>RR_DOWN4</th>\n",
       "      <th>RR_BREAK_QUANTITY5</th>\n",
       "      <th>RR_UP5</th>\n",
       "      <th>RR_DOWN5</th>\n",
       "      <th>Unnamed: 46</th>\n",
       "    </tr>\n",
       "  </thead>\n",
       "  <tbody>\n",
       "    <tr>\n",
       "      <th>0</th>\n",
       "      <td>06/26/2021</td>\n",
       "      <td>RTD</td>\n",
       "      <td>CLUZ</td>\n",
       "      <td>NLUZON</td>\n",
       "      <td>01SUAL_G01</td>\n",
       "      <td>06/26/2021 12:05:00 AM</td>\n",
       "      <td>06/26/2021</td>\n",
       "      <td>06/26/2021 12:05:00 AM</td>\n",
       "      <td>SMEC</td>\n",
       "      <td>-10000.0</td>\n",
       "      <td>...</td>\n",
       "      <td>647.0</td>\n",
       "      <td>2.0</td>\n",
       "      <td>2.0</td>\n",
       "      <td>NaN</td>\n",
       "      <td>NaN</td>\n",
       "      <td>NaN</td>\n",
       "      <td>NaN</td>\n",
       "      <td>NaN</td>\n",
       "      <td>NaN</td>\n",
       "      <td>NaN</td>\n",
       "    </tr>\n",
       "    <tr>\n",
       "      <th>1</th>\n",
       "      <td>06/26/2021 12:05:00 AM</td>\n",
       "      <td>RTD</td>\n",
       "      <td>CLUZ</td>\n",
       "      <td>NLUZON</td>\n",
       "      <td>01SUAL_G01</td>\n",
       "      <td>06/26/2021 12:10:00 AM</td>\n",
       "      <td>06/26/2021 12:05:00 AM</td>\n",
       "      <td>06/26/2021 12:10:00 AM</td>\n",
       "      <td>SMEC</td>\n",
       "      <td>-10000.0</td>\n",
       "      <td>...</td>\n",
       "      <td>647.0</td>\n",
       "      <td>2.0</td>\n",
       "      <td>2.0</td>\n",
       "      <td>NaN</td>\n",
       "      <td>NaN</td>\n",
       "      <td>NaN</td>\n",
       "      <td>NaN</td>\n",
       "      <td>NaN</td>\n",
       "      <td>NaN</td>\n",
       "      <td>NaN</td>\n",
       "    </tr>\n",
       "    <tr>\n",
       "      <th>2</th>\n",
       "      <td>06/26/2021 12:10:00 AM</td>\n",
       "      <td>RTD</td>\n",
       "      <td>CLUZ</td>\n",
       "      <td>NLUZON</td>\n",
       "      <td>01SUAL_G01</td>\n",
       "      <td>06/26/2021 12:15:00 AM</td>\n",
       "      <td>06/26/2021 12:10:00 AM</td>\n",
       "      <td>06/26/2021 12:15:00 AM</td>\n",
       "      <td>SMEC</td>\n",
       "      <td>-10000.0</td>\n",
       "      <td>...</td>\n",
       "      <td>647.0</td>\n",
       "      <td>2.0</td>\n",
       "      <td>2.0</td>\n",
       "      <td>NaN</td>\n",
       "      <td>NaN</td>\n",
       "      <td>NaN</td>\n",
       "      <td>NaN</td>\n",
       "      <td>NaN</td>\n",
       "      <td>NaN</td>\n",
       "      <td>NaN</td>\n",
       "    </tr>\n",
       "    <tr>\n",
       "      <th>3</th>\n",
       "      <td>06/26/2021 12:15:00 AM</td>\n",
       "      <td>RTD</td>\n",
       "      <td>CLUZ</td>\n",
       "      <td>NLUZON</td>\n",
       "      <td>01SUAL_G01</td>\n",
       "      <td>06/26/2021 12:20:00 AM</td>\n",
       "      <td>06/26/2021 12:15:00 AM</td>\n",
       "      <td>06/26/2021 12:20:00 AM</td>\n",
       "      <td>SMEC</td>\n",
       "      <td>-10000.0</td>\n",
       "      <td>...</td>\n",
       "      <td>647.0</td>\n",
       "      <td>2.0</td>\n",
       "      <td>2.0</td>\n",
       "      <td>NaN</td>\n",
       "      <td>NaN</td>\n",
       "      <td>NaN</td>\n",
       "      <td>NaN</td>\n",
       "      <td>NaN</td>\n",
       "      <td>NaN</td>\n",
       "      <td>NaN</td>\n",
       "    </tr>\n",
       "    <tr>\n",
       "      <th>4</th>\n",
       "      <td>06/26/2021 12:20:00 AM</td>\n",
       "      <td>RTD</td>\n",
       "      <td>CLUZ</td>\n",
       "      <td>NLUZON</td>\n",
       "      <td>01SUAL_G01</td>\n",
       "      <td>06/26/2021 12:25:00 AM</td>\n",
       "      <td>06/26/2021 12:20:00 AM</td>\n",
       "      <td>06/26/2021 12:25:00 AM</td>\n",
       "      <td>SMEC</td>\n",
       "      <td>-10000.0</td>\n",
       "      <td>...</td>\n",
       "      <td>647.0</td>\n",
       "      <td>2.0</td>\n",
       "      <td>2.0</td>\n",
       "      <td>NaN</td>\n",
       "      <td>NaN</td>\n",
       "      <td>NaN</td>\n",
       "      <td>NaN</td>\n",
       "      <td>NaN</td>\n",
       "      <td>NaN</td>\n",
       "      <td>NaN</td>\n",
       "    </tr>\n",
       "    <tr>\n",
       "      <th>...</th>\n",
       "      <td>...</td>\n",
       "      <td>...</td>\n",
       "      <td>...</td>\n",
       "      <td>...</td>\n",
       "      <td>...</td>\n",
       "      <td>...</td>\n",
       "      <td>...</td>\n",
       "      <td>...</td>\n",
       "      <td>...</td>\n",
       "      <td>...</td>\n",
       "      <td>...</td>\n",
       "      <td>...</td>\n",
       "      <td>...</td>\n",
       "      <td>...</td>\n",
       "      <td>...</td>\n",
       "      <td>...</td>\n",
       "      <td>...</td>\n",
       "      <td>...</td>\n",
       "      <td>...</td>\n",
       "      <td>...</td>\n",
       "      <td>...</td>\n",
       "    </tr>\n",
       "    <tr>\n",
       "      <th>207765</th>\n",
       "      <td>09/25/2023 11:35:00 PM</td>\n",
       "      <td>RTD</td>\n",
       "      <td>CLUZ</td>\n",
       "      <td>NLUZON</td>\n",
       "      <td>01SUAL_G01</td>\n",
       "      <td>09/25/2023 11:40:00 PM</td>\n",
       "      <td>09/25/2023 11:35:00 PM</td>\n",
       "      <td>09/25/2023 11:40:00 PM</td>\n",
       "      <td>SMEC</td>\n",
       "      <td>-10000.0</td>\n",
       "      <td>...</td>\n",
       "      <td>647.0</td>\n",
       "      <td>2.0</td>\n",
       "      <td>2.0</td>\n",
       "      <td>NaN</td>\n",
       "      <td>NaN</td>\n",
       "      <td>NaN</td>\n",
       "      <td>NaN</td>\n",
       "      <td>NaN</td>\n",
       "      <td>NaN</td>\n",
       "      <td>NaN</td>\n",
       "    </tr>\n",
       "    <tr>\n",
       "      <th>207766</th>\n",
       "      <td>09/25/2023 11:40:00 PM</td>\n",
       "      <td>RTD</td>\n",
       "      <td>CLUZ</td>\n",
       "      <td>NLUZON</td>\n",
       "      <td>01SUAL_G01</td>\n",
       "      <td>09/25/2023 11:45:00 PM</td>\n",
       "      <td>09/25/2023 11:40:00 PM</td>\n",
       "      <td>09/25/2023 11:45:00 PM</td>\n",
       "      <td>SMEC</td>\n",
       "      <td>-10000.0</td>\n",
       "      <td>...</td>\n",
       "      <td>647.0</td>\n",
       "      <td>2.0</td>\n",
       "      <td>2.0</td>\n",
       "      <td>NaN</td>\n",
       "      <td>NaN</td>\n",
       "      <td>NaN</td>\n",
       "      <td>NaN</td>\n",
       "      <td>NaN</td>\n",
       "      <td>NaN</td>\n",
       "      <td>NaN</td>\n",
       "    </tr>\n",
       "    <tr>\n",
       "      <th>207767</th>\n",
       "      <td>09/25/2023 11:45:00 PM</td>\n",
       "      <td>RTD</td>\n",
       "      <td>CLUZ</td>\n",
       "      <td>NLUZON</td>\n",
       "      <td>01SUAL_G01</td>\n",
       "      <td>09/25/2023 11:50:00 PM</td>\n",
       "      <td>09/25/2023 11:45:00 PM</td>\n",
       "      <td>09/25/2023 11:50:00 PM</td>\n",
       "      <td>SMEC</td>\n",
       "      <td>-10000.0</td>\n",
       "      <td>...</td>\n",
       "      <td>647.0</td>\n",
       "      <td>2.0</td>\n",
       "      <td>2.0</td>\n",
       "      <td>NaN</td>\n",
       "      <td>NaN</td>\n",
       "      <td>NaN</td>\n",
       "      <td>NaN</td>\n",
       "      <td>NaN</td>\n",
       "      <td>NaN</td>\n",
       "      <td>NaN</td>\n",
       "    </tr>\n",
       "    <tr>\n",
       "      <th>207768</th>\n",
       "      <td>09/25/2023 11:50:00 PM</td>\n",
       "      <td>RTD</td>\n",
       "      <td>CLUZ</td>\n",
       "      <td>NLUZON</td>\n",
       "      <td>01SUAL_G01</td>\n",
       "      <td>09/25/2023 11:55:00 PM</td>\n",
       "      <td>09/25/2023 11:50:00 PM</td>\n",
       "      <td>09/25/2023 11:55:00 PM</td>\n",
       "      <td>SMEC</td>\n",
       "      <td>-10000.0</td>\n",
       "      <td>...</td>\n",
       "      <td>647.0</td>\n",
       "      <td>2.0</td>\n",
       "      <td>2.0</td>\n",
       "      <td>NaN</td>\n",
       "      <td>NaN</td>\n",
       "      <td>NaN</td>\n",
       "      <td>NaN</td>\n",
       "      <td>NaN</td>\n",
       "      <td>NaN</td>\n",
       "      <td>NaN</td>\n",
       "    </tr>\n",
       "    <tr>\n",
       "      <th>207769</th>\n",
       "      <td>09/25/2023 11:55:00 PM</td>\n",
       "      <td>RTD</td>\n",
       "      <td>CLUZ</td>\n",
       "      <td>NLUZON</td>\n",
       "      <td>01SUAL_G01</td>\n",
       "      <td>09/26/2023</td>\n",
       "      <td>09/25/2023 11:55:00 PM</td>\n",
       "      <td>09/26/2023</td>\n",
       "      <td>SMEC</td>\n",
       "      <td>-10000.0</td>\n",
       "      <td>...</td>\n",
       "      <td>647.0</td>\n",
       "      <td>2.0</td>\n",
       "      <td>2.0</td>\n",
       "      <td>NaN</td>\n",
       "      <td>NaN</td>\n",
       "      <td>NaN</td>\n",
       "      <td>NaN</td>\n",
       "      <td>NaN</td>\n",
       "      <td>NaN</td>\n",
       "      <td>NaN</td>\n",
       "    </tr>\n",
       "  </tbody>\n",
       "</table>\n",
       "<p>207770 rows × 47 columns</p>\n",
       "</div>"
      ],
      "text/plain": [
       "                      RUN_TIME MKT_TYPE REGION_NAME ZONE_NAME RESOURCE_NAME  \\\n",
       "0                   06/26/2021      RTD        CLUZ    NLUZON    01SUAL_G01   \n",
       "1       06/26/2021 12:05:00 AM      RTD        CLUZ    NLUZON    01SUAL_G01   \n",
       "2       06/26/2021 12:10:00 AM      RTD        CLUZ    NLUZON    01SUAL_G01   \n",
       "3       06/26/2021 12:15:00 AM      RTD        CLUZ    NLUZON    01SUAL_G01   \n",
       "4       06/26/2021 12:20:00 AM      RTD        CLUZ    NLUZON    01SUAL_G01   \n",
       "...                        ...      ...         ...       ...           ...   \n",
       "207765  09/25/2023 11:35:00 PM      RTD        CLUZ    NLUZON    01SUAL_G01   \n",
       "207766  09/25/2023 11:40:00 PM      RTD        CLUZ    NLUZON    01SUAL_G01   \n",
       "207767  09/25/2023 11:45:00 PM      RTD        CLUZ    NLUZON    01SUAL_G01   \n",
       "207768  09/25/2023 11:50:00 PM      RTD        CLUZ    NLUZON    01SUAL_G01   \n",
       "207769  09/25/2023 11:55:00 PM      RTD        CLUZ    NLUZON    01SUAL_G01   \n",
       "\n",
       "                 TIME_INTERVAL              START_TIME  \\\n",
       "0       06/26/2021 12:05:00 AM              06/26/2021   \n",
       "1       06/26/2021 12:10:00 AM  06/26/2021 12:05:00 AM   \n",
       "2       06/26/2021 12:15:00 AM  06/26/2021 12:10:00 AM   \n",
       "3       06/26/2021 12:20:00 AM  06/26/2021 12:15:00 AM   \n",
       "4       06/26/2021 12:25:00 AM  06/26/2021 12:20:00 AM   \n",
       "...                        ...                     ...   \n",
       "207765  09/25/2023 11:40:00 PM  09/25/2023 11:35:00 PM   \n",
       "207766  09/25/2023 11:45:00 PM  09/25/2023 11:40:00 PM   \n",
       "207767  09/25/2023 11:50:00 PM  09/25/2023 11:45:00 PM   \n",
       "207768  09/25/2023 11:55:00 PM  09/25/2023 11:50:00 PM   \n",
       "207769              09/26/2023  09/25/2023 11:55:00 PM   \n",
       "\n",
       "                      END_TIME MP_NAME   PRICE1  ...  RR_BREAK_QUANTITY3  \\\n",
       "0       06/26/2021 12:05:00 AM    SMEC -10000.0  ...               647.0   \n",
       "1       06/26/2021 12:10:00 AM    SMEC -10000.0  ...               647.0   \n",
       "2       06/26/2021 12:15:00 AM    SMEC -10000.0  ...               647.0   \n",
       "3       06/26/2021 12:20:00 AM    SMEC -10000.0  ...               647.0   \n",
       "4       06/26/2021 12:25:00 AM    SMEC -10000.0  ...               647.0   \n",
       "...                        ...     ...      ...  ...                 ...   \n",
       "207765  09/25/2023 11:40:00 PM    SMEC -10000.0  ...               647.0   \n",
       "207766  09/25/2023 11:45:00 PM    SMEC -10000.0  ...               647.0   \n",
       "207767  09/25/2023 11:50:00 PM    SMEC -10000.0  ...               647.0   \n",
       "207768  09/25/2023 11:55:00 PM    SMEC -10000.0  ...               647.0   \n",
       "207769              09/26/2023    SMEC -10000.0  ...               647.0   \n",
       "\n",
       "        RR_UP3  RR_DOWN3  RR_BREAK_QUANTITY4  RR_UP4  RR_DOWN4  \\\n",
       "0          2.0       2.0                 NaN     NaN       NaN   \n",
       "1          2.0       2.0                 NaN     NaN       NaN   \n",
       "2          2.0       2.0                 NaN     NaN       NaN   \n",
       "3          2.0       2.0                 NaN     NaN       NaN   \n",
       "4          2.0       2.0                 NaN     NaN       NaN   \n",
       "...        ...       ...                 ...     ...       ...   \n",
       "207765     2.0       2.0                 NaN     NaN       NaN   \n",
       "207766     2.0       2.0                 NaN     NaN       NaN   \n",
       "207767     2.0       2.0                 NaN     NaN       NaN   \n",
       "207768     2.0       2.0                 NaN     NaN       NaN   \n",
       "207769     2.0       2.0                 NaN     NaN       NaN   \n",
       "\n",
       "        RR_BREAK_QUANTITY5  RR_UP5  RR_DOWN5  Unnamed: 46  \n",
       "0                      NaN     NaN       NaN          NaN  \n",
       "1                      NaN     NaN       NaN          NaN  \n",
       "2                      NaN     NaN       NaN          NaN  \n",
       "3                      NaN     NaN       NaN          NaN  \n",
       "4                      NaN     NaN       NaN          NaN  \n",
       "...                    ...     ...       ...          ...  \n",
       "207765                 NaN     NaN       NaN          NaN  \n",
       "207766                 NaN     NaN       NaN          NaN  \n",
       "207767                 NaN     NaN       NaN          NaN  \n",
       "207768                 NaN     NaN       NaN          NaN  \n",
       "207769                 NaN     NaN       NaN          NaN  \n",
       "\n",
       "[207770 rows x 47 columns]"
      ]
     },
     "execution_count": 4,
     "metadata": {},
     "output_type": "execute_result"
    }
   ],
   "source": [
    "%%time\n",
    "# Initialize an empty DataFrame to store the consolidated data\n",
    "consolidated_df = pd.DataFrame()\n",
    "\n",
    "# Loop through the overall folder, first year, and first month\n",
    "for year_folder in tqdm(os.listdir(base_folder), desc=\"Processing Years\", leave=False):\n",
    "    year_path = os.path.join(base_folder, year_folder)\n",
    "    \n",
    "    if os.path.isdir(year_path):\n",
    "        for month_folder in tqdm(os.listdir(year_path), desc=\"Processing Months\", leave=False):\n",
    "            month_path = os.path.join(year_path, month_folder)\n",
    "            \n",
    "            if os.path.isdir(month_path):\n",
    "                # Initialize an empty DataFrame for the current month\n",
    "                month_df = pd.DataFrame()\n",
    "\n",
    "                # Loop through hourly CSV files in the current month\n",
    "                for file_name in tqdm(os.listdir(month_path), desc=\"Processing CSVs\", leave=False):\n",
    "                    if file_name.endswith('.csv'):\n",
    "                        file_path = os.path.join(month_path, file_name)\n",
    "\n",
    "                        # Read the CSV file\n",
    "                        current_df = pd.read_csv(file_path)\n",
    "\n",
    "                        # Filter rows with specific IDs\n",
    "                        current_df = current_df[current_df['RESOURCE_NAME'].isin(target_ids)]\n",
    "\n",
    "                        # Concatenate with the month DataFrame\n",
    "                        month_df = pd.concat([month_df, current_df], ignore_index=True)\n",
    "\n",
    "                # Concatenate with the overall DataFrame\n",
    "                consolidated_df = pd.concat([consolidated_df, month_df], ignore_index=True)\n",
    "\n",
    "# Display or further process the consolidated DataFrame\n",
    "consolidated_df"
   ]
  },
  {
   "cell_type": "markdown",
   "id": "5e848330-3f46-483b-bf19-3217a207fd02",
   "metadata": {},
   "source": [
    "## Output to consolidated_data_{targetID}.csv"
   ]
  },
  {
   "cell_type": "code",
   "execution_count": 5,
   "id": "3216028b-0985-4564-826c-43225274311f",
   "metadata": {
    "tags": []
   },
   "outputs": [
    {
     "name": "stdout",
     "output_type": "stream",
     "text": [
      "Consolidated data has been exported to F:/WESM_data/RTD_Generation_Offers\\consolidated_csv_01SUAL_G01.csv\n"
     ]
    }
   ],
   "source": [
    "# Specify the output CSV file path\n",
    "output_csv_filename = f'consolidated_csv_{target_ids[0]}.csv'\n",
    "output_csv_path = os.path.join(base_folder, output_csv_filename)\n",
    "\n",
    "# Export the consolidated DataFrame to a CSV file\n",
    "consolidated_df.to_csv(output_csv_path, index=False)\n",
    "\n",
    "print(f\"Consolidated data has been exported to {output_csv_path}\")\n"
   ]
  },
  {
   "cell_type": "code",
   "execution_count": 6,
   "id": "8d568b47-dc16-420b-8061-f7a1a2a127be",
   "metadata": {},
   "outputs": [
    {
     "data": {
      "text/html": [
       "<div>\n",
       "<style scoped>\n",
       "    .dataframe tbody tr th:only-of-type {\n",
       "        vertical-align: middle;\n",
       "    }\n",
       "\n",
       "    .dataframe tbody tr th {\n",
       "        vertical-align: top;\n",
       "    }\n",
       "\n",
       "    .dataframe thead th {\n",
       "        text-align: right;\n",
       "    }\n",
       "</style>\n",
       "<table border=\"1\" class=\"dataframe\">\n",
       "  <thead>\n",
       "    <tr style=\"text-align: right;\">\n",
       "      <th></th>\n",
       "      <th>RUN_TIME</th>\n",
       "      <th>MKT_TYPE</th>\n",
       "      <th>REGION_NAME</th>\n",
       "      <th>ZONE_NAME</th>\n",
       "      <th>RESOURCE_NAME</th>\n",
       "      <th>TIME_INTERVAL</th>\n",
       "      <th>START_TIME</th>\n",
       "      <th>END_TIME</th>\n",
       "      <th>MP_NAME</th>\n",
       "      <th>PRICE1</th>\n",
       "      <th>...</th>\n",
       "      <th>RR_BREAK_QUANTITY3</th>\n",
       "      <th>RR_UP3</th>\n",
       "      <th>RR_DOWN3</th>\n",
       "      <th>RR_BREAK_QUANTITY4</th>\n",
       "      <th>RR_UP4</th>\n",
       "      <th>RR_DOWN4</th>\n",
       "      <th>RR_BREAK_QUANTITY5</th>\n",
       "      <th>RR_UP5</th>\n",
       "      <th>RR_DOWN5</th>\n",
       "      <th>Unnamed: 46</th>\n",
       "    </tr>\n",
       "  </thead>\n",
       "  <tbody>\n",
       "    <tr>\n",
       "      <th>0</th>\n",
       "      <td>06/26/2021</td>\n",
       "      <td>RTD</td>\n",
       "      <td>CLUZ</td>\n",
       "      <td>NLUZON</td>\n",
       "      <td>01SUAL_G01</td>\n",
       "      <td>06/26/2021 12:05:00 AM</td>\n",
       "      <td>06/26/2021</td>\n",
       "      <td>06/26/2021 12:05:00 AM</td>\n",
       "      <td>SMEC</td>\n",
       "      <td>-10000.0</td>\n",
       "      <td>...</td>\n",
       "      <td>647.0</td>\n",
       "      <td>2.0</td>\n",
       "      <td>2.0</td>\n",
       "      <td>NaN</td>\n",
       "      <td>NaN</td>\n",
       "      <td>NaN</td>\n",
       "      <td>NaN</td>\n",
       "      <td>NaN</td>\n",
       "      <td>NaN</td>\n",
       "      <td>NaN</td>\n",
       "    </tr>\n",
       "    <tr>\n",
       "      <th>1</th>\n",
       "      <td>06/26/2021 12:05:00 AM</td>\n",
       "      <td>RTD</td>\n",
       "      <td>CLUZ</td>\n",
       "      <td>NLUZON</td>\n",
       "      <td>01SUAL_G01</td>\n",
       "      <td>06/26/2021 12:10:00 AM</td>\n",
       "      <td>06/26/2021 12:05:00 AM</td>\n",
       "      <td>06/26/2021 12:10:00 AM</td>\n",
       "      <td>SMEC</td>\n",
       "      <td>-10000.0</td>\n",
       "      <td>...</td>\n",
       "      <td>647.0</td>\n",
       "      <td>2.0</td>\n",
       "      <td>2.0</td>\n",
       "      <td>NaN</td>\n",
       "      <td>NaN</td>\n",
       "      <td>NaN</td>\n",
       "      <td>NaN</td>\n",
       "      <td>NaN</td>\n",
       "      <td>NaN</td>\n",
       "      <td>NaN</td>\n",
       "    </tr>\n",
       "    <tr>\n",
       "      <th>2</th>\n",
       "      <td>06/26/2021 12:10:00 AM</td>\n",
       "      <td>RTD</td>\n",
       "      <td>CLUZ</td>\n",
       "      <td>NLUZON</td>\n",
       "      <td>01SUAL_G01</td>\n",
       "      <td>06/26/2021 12:15:00 AM</td>\n",
       "      <td>06/26/2021 12:10:00 AM</td>\n",
       "      <td>06/26/2021 12:15:00 AM</td>\n",
       "      <td>SMEC</td>\n",
       "      <td>-10000.0</td>\n",
       "      <td>...</td>\n",
       "      <td>647.0</td>\n",
       "      <td>2.0</td>\n",
       "      <td>2.0</td>\n",
       "      <td>NaN</td>\n",
       "      <td>NaN</td>\n",
       "      <td>NaN</td>\n",
       "      <td>NaN</td>\n",
       "      <td>NaN</td>\n",
       "      <td>NaN</td>\n",
       "      <td>NaN</td>\n",
       "    </tr>\n",
       "    <tr>\n",
       "      <th>3</th>\n",
       "      <td>06/26/2021 12:15:00 AM</td>\n",
       "      <td>RTD</td>\n",
       "      <td>CLUZ</td>\n",
       "      <td>NLUZON</td>\n",
       "      <td>01SUAL_G01</td>\n",
       "      <td>06/26/2021 12:20:00 AM</td>\n",
       "      <td>06/26/2021 12:15:00 AM</td>\n",
       "      <td>06/26/2021 12:20:00 AM</td>\n",
       "      <td>SMEC</td>\n",
       "      <td>-10000.0</td>\n",
       "      <td>...</td>\n",
       "      <td>647.0</td>\n",
       "      <td>2.0</td>\n",
       "      <td>2.0</td>\n",
       "      <td>NaN</td>\n",
       "      <td>NaN</td>\n",
       "      <td>NaN</td>\n",
       "      <td>NaN</td>\n",
       "      <td>NaN</td>\n",
       "      <td>NaN</td>\n",
       "      <td>NaN</td>\n",
       "    </tr>\n",
       "    <tr>\n",
       "      <th>4</th>\n",
       "      <td>06/26/2021 12:20:00 AM</td>\n",
       "      <td>RTD</td>\n",
       "      <td>CLUZ</td>\n",
       "      <td>NLUZON</td>\n",
       "      <td>01SUAL_G01</td>\n",
       "      <td>06/26/2021 12:25:00 AM</td>\n",
       "      <td>06/26/2021 12:20:00 AM</td>\n",
       "      <td>06/26/2021 12:25:00 AM</td>\n",
       "      <td>SMEC</td>\n",
       "      <td>-10000.0</td>\n",
       "      <td>...</td>\n",
       "      <td>647.0</td>\n",
       "      <td>2.0</td>\n",
       "      <td>2.0</td>\n",
       "      <td>NaN</td>\n",
       "      <td>NaN</td>\n",
       "      <td>NaN</td>\n",
       "      <td>NaN</td>\n",
       "      <td>NaN</td>\n",
       "      <td>NaN</td>\n",
       "      <td>NaN</td>\n",
       "    </tr>\n",
       "    <tr>\n",
       "      <th>...</th>\n",
       "      <td>...</td>\n",
       "      <td>...</td>\n",
       "      <td>...</td>\n",
       "      <td>...</td>\n",
       "      <td>...</td>\n",
       "      <td>...</td>\n",
       "      <td>...</td>\n",
       "      <td>...</td>\n",
       "      <td>...</td>\n",
       "      <td>...</td>\n",
       "      <td>...</td>\n",
       "      <td>...</td>\n",
       "      <td>...</td>\n",
       "      <td>...</td>\n",
       "      <td>...</td>\n",
       "      <td>...</td>\n",
       "      <td>...</td>\n",
       "      <td>...</td>\n",
       "      <td>...</td>\n",
       "      <td>...</td>\n",
       "      <td>...</td>\n",
       "    </tr>\n",
       "    <tr>\n",
       "      <th>207765</th>\n",
       "      <td>09/25/2023 11:35:00 PM</td>\n",
       "      <td>RTD</td>\n",
       "      <td>CLUZ</td>\n",
       "      <td>NLUZON</td>\n",
       "      <td>01SUAL_G01</td>\n",
       "      <td>09/25/2023 11:40:00 PM</td>\n",
       "      <td>09/25/2023 11:35:00 PM</td>\n",
       "      <td>09/25/2023 11:40:00 PM</td>\n",
       "      <td>SMEC</td>\n",
       "      <td>-10000.0</td>\n",
       "      <td>...</td>\n",
       "      <td>647.0</td>\n",
       "      <td>2.0</td>\n",
       "      <td>2.0</td>\n",
       "      <td>NaN</td>\n",
       "      <td>NaN</td>\n",
       "      <td>NaN</td>\n",
       "      <td>NaN</td>\n",
       "      <td>NaN</td>\n",
       "      <td>NaN</td>\n",
       "      <td>NaN</td>\n",
       "    </tr>\n",
       "    <tr>\n",
       "      <th>207766</th>\n",
       "      <td>09/25/2023 11:40:00 PM</td>\n",
       "      <td>RTD</td>\n",
       "      <td>CLUZ</td>\n",
       "      <td>NLUZON</td>\n",
       "      <td>01SUAL_G01</td>\n",
       "      <td>09/25/2023 11:45:00 PM</td>\n",
       "      <td>09/25/2023 11:40:00 PM</td>\n",
       "      <td>09/25/2023 11:45:00 PM</td>\n",
       "      <td>SMEC</td>\n",
       "      <td>-10000.0</td>\n",
       "      <td>...</td>\n",
       "      <td>647.0</td>\n",
       "      <td>2.0</td>\n",
       "      <td>2.0</td>\n",
       "      <td>NaN</td>\n",
       "      <td>NaN</td>\n",
       "      <td>NaN</td>\n",
       "      <td>NaN</td>\n",
       "      <td>NaN</td>\n",
       "      <td>NaN</td>\n",
       "      <td>NaN</td>\n",
       "    </tr>\n",
       "    <tr>\n",
       "      <th>207767</th>\n",
       "      <td>09/25/2023 11:45:00 PM</td>\n",
       "      <td>RTD</td>\n",
       "      <td>CLUZ</td>\n",
       "      <td>NLUZON</td>\n",
       "      <td>01SUAL_G01</td>\n",
       "      <td>09/25/2023 11:50:00 PM</td>\n",
       "      <td>09/25/2023 11:45:00 PM</td>\n",
       "      <td>09/25/2023 11:50:00 PM</td>\n",
       "      <td>SMEC</td>\n",
       "      <td>-10000.0</td>\n",
       "      <td>...</td>\n",
       "      <td>647.0</td>\n",
       "      <td>2.0</td>\n",
       "      <td>2.0</td>\n",
       "      <td>NaN</td>\n",
       "      <td>NaN</td>\n",
       "      <td>NaN</td>\n",
       "      <td>NaN</td>\n",
       "      <td>NaN</td>\n",
       "      <td>NaN</td>\n",
       "      <td>NaN</td>\n",
       "    </tr>\n",
       "    <tr>\n",
       "      <th>207768</th>\n",
       "      <td>09/25/2023 11:50:00 PM</td>\n",
       "      <td>RTD</td>\n",
       "      <td>CLUZ</td>\n",
       "      <td>NLUZON</td>\n",
       "      <td>01SUAL_G01</td>\n",
       "      <td>09/25/2023 11:55:00 PM</td>\n",
       "      <td>09/25/2023 11:50:00 PM</td>\n",
       "      <td>09/25/2023 11:55:00 PM</td>\n",
       "      <td>SMEC</td>\n",
       "      <td>-10000.0</td>\n",
       "      <td>...</td>\n",
       "      <td>647.0</td>\n",
       "      <td>2.0</td>\n",
       "      <td>2.0</td>\n",
       "      <td>NaN</td>\n",
       "      <td>NaN</td>\n",
       "      <td>NaN</td>\n",
       "      <td>NaN</td>\n",
       "      <td>NaN</td>\n",
       "      <td>NaN</td>\n",
       "      <td>NaN</td>\n",
       "    </tr>\n",
       "    <tr>\n",
       "      <th>207769</th>\n",
       "      <td>09/25/2023 11:55:00 PM</td>\n",
       "      <td>RTD</td>\n",
       "      <td>CLUZ</td>\n",
       "      <td>NLUZON</td>\n",
       "      <td>01SUAL_G01</td>\n",
       "      <td>09/26/2023</td>\n",
       "      <td>09/25/2023 11:55:00 PM</td>\n",
       "      <td>09/26/2023</td>\n",
       "      <td>SMEC</td>\n",
       "      <td>-10000.0</td>\n",
       "      <td>...</td>\n",
       "      <td>647.0</td>\n",
       "      <td>2.0</td>\n",
       "      <td>2.0</td>\n",
       "      <td>NaN</td>\n",
       "      <td>NaN</td>\n",
       "      <td>NaN</td>\n",
       "      <td>NaN</td>\n",
       "      <td>NaN</td>\n",
       "      <td>NaN</td>\n",
       "      <td>NaN</td>\n",
       "    </tr>\n",
       "  </tbody>\n",
       "</table>\n",
       "<p>207770 rows × 47 columns</p>\n",
       "</div>"
      ],
      "text/plain": [
       "                      RUN_TIME MKT_TYPE REGION_NAME ZONE_NAME RESOURCE_NAME  \\\n",
       "0                   06/26/2021      RTD        CLUZ    NLUZON    01SUAL_G01   \n",
       "1       06/26/2021 12:05:00 AM      RTD        CLUZ    NLUZON    01SUAL_G01   \n",
       "2       06/26/2021 12:10:00 AM      RTD        CLUZ    NLUZON    01SUAL_G01   \n",
       "3       06/26/2021 12:15:00 AM      RTD        CLUZ    NLUZON    01SUAL_G01   \n",
       "4       06/26/2021 12:20:00 AM      RTD        CLUZ    NLUZON    01SUAL_G01   \n",
       "...                        ...      ...         ...       ...           ...   \n",
       "207765  09/25/2023 11:35:00 PM      RTD        CLUZ    NLUZON    01SUAL_G01   \n",
       "207766  09/25/2023 11:40:00 PM      RTD        CLUZ    NLUZON    01SUAL_G01   \n",
       "207767  09/25/2023 11:45:00 PM      RTD        CLUZ    NLUZON    01SUAL_G01   \n",
       "207768  09/25/2023 11:50:00 PM      RTD        CLUZ    NLUZON    01SUAL_G01   \n",
       "207769  09/25/2023 11:55:00 PM      RTD        CLUZ    NLUZON    01SUAL_G01   \n",
       "\n",
       "                 TIME_INTERVAL              START_TIME  \\\n",
       "0       06/26/2021 12:05:00 AM              06/26/2021   \n",
       "1       06/26/2021 12:10:00 AM  06/26/2021 12:05:00 AM   \n",
       "2       06/26/2021 12:15:00 AM  06/26/2021 12:10:00 AM   \n",
       "3       06/26/2021 12:20:00 AM  06/26/2021 12:15:00 AM   \n",
       "4       06/26/2021 12:25:00 AM  06/26/2021 12:20:00 AM   \n",
       "...                        ...                     ...   \n",
       "207765  09/25/2023 11:40:00 PM  09/25/2023 11:35:00 PM   \n",
       "207766  09/25/2023 11:45:00 PM  09/25/2023 11:40:00 PM   \n",
       "207767  09/25/2023 11:50:00 PM  09/25/2023 11:45:00 PM   \n",
       "207768  09/25/2023 11:55:00 PM  09/25/2023 11:50:00 PM   \n",
       "207769              09/26/2023  09/25/2023 11:55:00 PM   \n",
       "\n",
       "                      END_TIME MP_NAME   PRICE1  ...  RR_BREAK_QUANTITY3  \\\n",
       "0       06/26/2021 12:05:00 AM    SMEC -10000.0  ...               647.0   \n",
       "1       06/26/2021 12:10:00 AM    SMEC -10000.0  ...               647.0   \n",
       "2       06/26/2021 12:15:00 AM    SMEC -10000.0  ...               647.0   \n",
       "3       06/26/2021 12:20:00 AM    SMEC -10000.0  ...               647.0   \n",
       "4       06/26/2021 12:25:00 AM    SMEC -10000.0  ...               647.0   \n",
       "...                        ...     ...      ...  ...                 ...   \n",
       "207765  09/25/2023 11:40:00 PM    SMEC -10000.0  ...               647.0   \n",
       "207766  09/25/2023 11:45:00 PM    SMEC -10000.0  ...               647.0   \n",
       "207767  09/25/2023 11:50:00 PM    SMEC -10000.0  ...               647.0   \n",
       "207768  09/25/2023 11:55:00 PM    SMEC -10000.0  ...               647.0   \n",
       "207769              09/26/2023    SMEC -10000.0  ...               647.0   \n",
       "\n",
       "        RR_UP3  RR_DOWN3  RR_BREAK_QUANTITY4  RR_UP4  RR_DOWN4  \\\n",
       "0          2.0       2.0                 NaN     NaN       NaN   \n",
       "1          2.0       2.0                 NaN     NaN       NaN   \n",
       "2          2.0       2.0                 NaN     NaN       NaN   \n",
       "3          2.0       2.0                 NaN     NaN       NaN   \n",
       "4          2.0       2.0                 NaN     NaN       NaN   \n",
       "...        ...       ...                 ...     ...       ...   \n",
       "207765     2.0       2.0                 NaN     NaN       NaN   \n",
       "207766     2.0       2.0                 NaN     NaN       NaN   \n",
       "207767     2.0       2.0                 NaN     NaN       NaN   \n",
       "207768     2.0       2.0                 NaN     NaN       NaN   \n",
       "207769     2.0       2.0                 NaN     NaN       NaN   \n",
       "\n",
       "        RR_BREAK_QUANTITY5  RR_UP5  RR_DOWN5  Unnamed: 46  \n",
       "0                      NaN     NaN       NaN          NaN  \n",
       "1                      NaN     NaN       NaN          NaN  \n",
       "2                      NaN     NaN       NaN          NaN  \n",
       "3                      NaN     NaN       NaN          NaN  \n",
       "4                      NaN     NaN       NaN          NaN  \n",
       "...                    ...     ...       ...          ...  \n",
       "207765                 NaN     NaN       NaN          NaN  \n",
       "207766                 NaN     NaN       NaN          NaN  \n",
       "207767                 NaN     NaN       NaN          NaN  \n",
       "207768                 NaN     NaN       NaN          NaN  \n",
       "207769                 NaN     NaN       NaN          NaN  \n",
       "\n",
       "[207770 rows x 47 columns]"
      ]
     },
     "execution_count": 6,
     "metadata": {},
     "output_type": "execute_result"
    }
   ],
   "source": [
    "consolidated_df"
   ]
  },
  {
   "cell_type": "markdown",
   "id": "e05687bb-6c17-4320-9d9e-ef4b6d9b3535",
   "metadata": {},
   "source": [
    "# List all unique resource ids across all *.csv"
   ]
  },
  {
   "cell_type": "code",
   "execution_count": 15,
   "id": "a6f4b8e3-97ba-4d58-afe2-3eab0612510b",
   "metadata": {
    "tags": []
   },
   "outputs": [
    {
     "data": {
      "application/vnd.jupyter.widget-view+json": {
       "model_id": "",
       "version_major": 2,
       "version_minor": 0
      },
      "text/plain": [
       "Processing Years:   0%|          | 0/3 [00:00<?, ?it/s]"
      ]
     },
     "metadata": {},
     "output_type": "display_data"
    },
    {
     "data": {
      "application/vnd.jupyter.widget-view+json": {
       "model_id": "",
       "version_major": 2,
       "version_minor": 0
      },
      "text/plain": [
       "Processing Months:   0%|          | 0/6 [00:00<?, ?it/s]"
      ]
     },
     "metadata": {},
     "output_type": "display_data"
    },
    {
     "data": {
      "application/vnd.jupyter.widget-view+json": {
       "model_id": "",
       "version_major": 2,
       "version_minor": 0
      },
      "text/plain": [
       "Processing CSVs:   0%|          | 0/720 [00:00<?, ?it/s]"
      ]
     },
     "metadata": {},
     "output_type": "display_data"
    },
    {
     "data": {
      "application/vnd.jupyter.widget-view+json": {
       "model_id": "",
       "version_major": 2,
       "version_minor": 0
      },
      "text/plain": [
       "Processing CSVs:   0%|          | 0/744 [00:00<?, ?it/s]"
      ]
     },
     "metadata": {},
     "output_type": "display_data"
    },
    {
     "data": {
      "application/vnd.jupyter.widget-view+json": {
       "model_id": "",
       "version_major": 2,
       "version_minor": 0
      },
      "text/plain": [
       "Processing CSVs:   0%|          | 0/744 [00:00<?, ?it/s]"
      ]
     },
     "metadata": {},
     "output_type": "display_data"
    },
    {
     "data": {
      "application/vnd.jupyter.widget-view+json": {
       "model_id": "",
       "version_major": 2,
       "version_minor": 0
      },
      "text/plain": [
       "Processing CSVs:   0%|          | 0/720 [00:00<?, ?it/s]"
      ]
     },
     "metadata": {},
     "output_type": "display_data"
    },
    {
     "data": {
      "application/vnd.jupyter.widget-view+json": {
       "model_id": "",
       "version_major": 2,
       "version_minor": 0
      },
      "text/plain": [
       "Processing CSVs:   0%|          | 0/744 [00:00<?, ?it/s]"
      ]
     },
     "metadata": {},
     "output_type": "display_data"
    },
    {
     "data": {
      "application/vnd.jupyter.widget-view+json": {
       "model_id": "",
       "version_major": 2,
       "version_minor": 0
      },
      "text/plain": [
       "Processing CSVs:   0%|          | 0/720 [00:00<?, ?it/s]"
      ]
     },
     "metadata": {},
     "output_type": "display_data"
    },
    {
     "data": {
      "application/vnd.jupyter.widget-view+json": {
       "model_id": "",
       "version_major": 2,
       "version_minor": 0
      },
      "text/plain": [
       "Processing Months:   0%|          | 0/12 [00:00<?, ?it/s]"
      ]
     },
     "metadata": {},
     "output_type": "display_data"
    },
    {
     "data": {
      "application/vnd.jupyter.widget-view+json": {
       "model_id": "",
       "version_major": 2,
       "version_minor": 0
      },
      "text/plain": [
       "Processing CSVs:   0%|          | 0/744 [00:00<?, ?it/s]"
      ]
     },
     "metadata": {},
     "output_type": "display_data"
    },
    {
     "data": {
      "application/vnd.jupyter.widget-view+json": {
       "model_id": "",
       "version_major": 2,
       "version_minor": 0
      },
      "text/plain": [
       "Processing CSVs:   0%|          | 0/744 [00:00<?, ?it/s]"
      ]
     },
     "metadata": {},
     "output_type": "display_data"
    },
    {
     "data": {
      "application/vnd.jupyter.widget-view+json": {
       "model_id": "",
       "version_major": 2,
       "version_minor": 0
      },
      "text/plain": [
       "Processing CSVs:   0%|          | 0/672 [00:00<?, ?it/s]"
      ]
     },
     "metadata": {},
     "output_type": "display_data"
    },
    {
     "data": {
      "application/vnd.jupyter.widget-view+json": {
       "model_id": "",
       "version_major": 2,
       "version_minor": 0
      },
      "text/plain": [
       "Processing CSVs:   0%|          | 0/744 [00:00<?, ?it/s]"
      ]
     },
     "metadata": {},
     "output_type": "display_data"
    },
    {
     "data": {
      "application/vnd.jupyter.widget-view+json": {
       "model_id": "",
       "version_major": 2,
       "version_minor": 0
      },
      "text/plain": [
       "Processing CSVs:   0%|          | 0/720 [00:00<?, ?it/s]"
      ]
     },
     "metadata": {},
     "output_type": "display_data"
    },
    {
     "data": {
      "application/vnd.jupyter.widget-view+json": {
       "model_id": "",
       "version_major": 2,
       "version_minor": 0
      },
      "text/plain": [
       "Processing CSVs:   0%|          | 0/744 [00:00<?, ?it/s]"
      ]
     },
     "metadata": {},
     "output_type": "display_data"
    },
    {
     "data": {
      "application/vnd.jupyter.widget-view+json": {
       "model_id": "",
       "version_major": 2,
       "version_minor": 0
      },
      "text/plain": [
       "Processing CSVs:   0%|          | 0/720 [00:00<?, ?it/s]"
      ]
     },
     "metadata": {},
     "output_type": "display_data"
    },
    {
     "data": {
      "application/vnd.jupyter.widget-view+json": {
       "model_id": "",
       "version_major": 2,
       "version_minor": 0
      },
      "text/plain": [
       "Processing CSVs:   0%|          | 0/744 [00:00<?, ?it/s]"
      ]
     },
     "metadata": {},
     "output_type": "display_data"
    },
    {
     "data": {
      "application/vnd.jupyter.widget-view+json": {
       "model_id": "",
       "version_major": 2,
       "version_minor": 0
      },
      "text/plain": [
       "Processing CSVs:   0%|          | 0/744 [00:00<?, ?it/s]"
      ]
     },
     "metadata": {},
     "output_type": "display_data"
    },
    {
     "data": {
      "application/vnd.jupyter.widget-view+json": {
       "model_id": "",
       "version_major": 2,
       "version_minor": 0
      },
      "text/plain": [
       "Processing CSVs:   0%|          | 0/720 [00:00<?, ?it/s]"
      ]
     },
     "metadata": {},
     "output_type": "display_data"
    },
    {
     "data": {
      "application/vnd.jupyter.widget-view+json": {
       "model_id": "",
       "version_major": 2,
       "version_minor": 0
      },
      "text/plain": [
       "Processing CSVs:   0%|          | 0/744 [00:00<?, ?it/s]"
      ]
     },
     "metadata": {},
     "output_type": "display_data"
    },
    {
     "data": {
      "application/vnd.jupyter.widget-view+json": {
       "model_id": "",
       "version_major": 2,
       "version_minor": 0
      },
      "text/plain": [
       "Processing CSVs:   0%|          | 0/720 [00:00<?, ?it/s]"
      ]
     },
     "metadata": {},
     "output_type": "display_data"
    },
    {
     "data": {
      "application/vnd.jupyter.widget-view+json": {
       "model_id": "",
       "version_major": 2,
       "version_minor": 0
      },
      "text/plain": [
       "Processing Months:   0%|          | 0/9 [00:00<?, ?it/s]"
      ]
     },
     "metadata": {},
     "output_type": "display_data"
    },
    {
     "data": {
      "application/vnd.jupyter.widget-view+json": {
       "model_id": "",
       "version_major": 2,
       "version_minor": 0
      },
      "text/plain": [
       "Processing CSVs:   0%|          | 0/744 [00:00<?, ?it/s]"
      ]
     },
     "metadata": {},
     "output_type": "display_data"
    },
    {
     "data": {
      "application/vnd.jupyter.widget-view+json": {
       "model_id": "",
       "version_major": 2,
       "version_minor": 0
      },
      "text/plain": [
       "Processing CSVs:   0%|          | 0/744 [00:00<?, ?it/s]"
      ]
     },
     "metadata": {},
     "output_type": "display_data"
    },
    {
     "data": {
      "application/vnd.jupyter.widget-view+json": {
       "model_id": "",
       "version_major": 2,
       "version_minor": 0
      },
      "text/plain": [
       "Processing CSVs:   0%|          | 0/655 [00:00<?, ?it/s]"
      ]
     },
     "metadata": {},
     "output_type": "display_data"
    },
    {
     "data": {
      "application/vnd.jupyter.widget-view+json": {
       "model_id": "",
       "version_major": 2,
       "version_minor": 0
      },
      "text/plain": [
       "Processing CSVs:   0%|          | 0/744 [00:00<?, ?it/s]"
      ]
     },
     "metadata": {},
     "output_type": "display_data"
    },
    {
     "data": {
      "application/vnd.jupyter.widget-view+json": {
       "model_id": "",
       "version_major": 2,
       "version_minor": 0
      },
      "text/plain": [
       "Processing CSVs:   0%|          | 0/720 [00:00<?, ?it/s]"
      ]
     },
     "metadata": {},
     "output_type": "display_data"
    },
    {
     "data": {
      "application/vnd.jupyter.widget-view+json": {
       "model_id": "",
       "version_major": 2,
       "version_minor": 0
      },
      "text/plain": [
       "Processing CSVs:   0%|          | 0/744 [00:00<?, ?it/s]"
      ]
     },
     "metadata": {},
     "output_type": "display_data"
    },
    {
     "data": {
      "application/vnd.jupyter.widget-view+json": {
       "model_id": "",
       "version_major": 2,
       "version_minor": 0
      },
      "text/plain": [
       "Processing CSVs:   0%|          | 0/720 [00:00<?, ?it/s]"
      ]
     },
     "metadata": {},
     "output_type": "display_data"
    },
    {
     "data": {
      "application/vnd.jupyter.widget-view+json": {
       "model_id": "",
       "version_major": 2,
       "version_minor": 0
      },
      "text/plain": [
       "Processing CSVs:   0%|          | 0/744 [00:00<?, ?it/s]"
      ]
     },
     "metadata": {},
     "output_type": "display_data"
    },
    {
     "data": {
      "application/vnd.jupyter.widget-view+json": {
       "model_id": "",
       "version_major": 2,
       "version_minor": 0
      },
      "text/plain": [
       "Processing CSVs:   0%|          | 0/744 [00:00<?, ?it/s]"
      ]
     },
     "metadata": {},
     "output_type": "display_data"
    },
    {
     "name": "stdout",
     "output_type": "stream",
     "text": [
      "{'13DCPP_U01', '11KEGMAR_G01', '07BDPP_U04', '03AVION_U01', '01CIP2_G01', '03MKBN_E', '01ANGAT_A', '10AGUS1_U01', '10GNPK_U04', '12KEGGIN_G01', '12PKSFRA_U01', '06PAL1A_G01', '09WMPC_U07', '08PDPP3_C', '07TPLPB4_U04', '01LIMAY_U06', '03RCBMI_G01', '03ORMAT_G01', '13SMCPC_U02', '01BINGA_U01', '03MKBN_A', '01ANGAT_M', '03MKBN_D', '01AMBUK_U02', '06PAL2A_U03', '03PAGBIL_G01', '03KAL_G04', '03STA-RI_G01', '11FDC_U01', '14PKPSOC_G01', '05TPVI_U01', '03INGRID_GS6', '07BDPP_U01', '03QPPL_G01', '13MAGDBNK_G01', '01MSINLO_G02', '09WMPC_U06', '01BAUANG_GS1', '01MAGAT_U01', '05EAUC_U02', '10AGUS4_U03', '04IASMOD_G03', '08STBPB1_U04', '01MSINLO_G03', '12TM2_U01', '01AMBUK_U01', '01SUAL_G02', '03SLPGC_G04', '08PPC_G02', '10AGUS4_U01', '01PNTBNG_U02', '03SNGAB_G01', '03PAGBIL_G03', '08PPC1_A', '01LIMAY_U05', '01LIMAY_U08', '01SNMAN_BAT', '09WMPC_U02', '10AGUS6_U05', '11STEAG_U02', '03CALACA_G02', '03ALMNOS_BAT', '06NASULO_G01', '09WMPC_U09', '11STEAG_U01', '01LIMAY_U02', '08PDPP3_G', '05CPPC_U02', '07TAPAL_PB4', '10AGUS4_U02', '02TMOBIL_G02', '11MNRGY_G02', '08STBPB1_U03', '05TPVI_U02', '03RCBMI_G02', '13DCPP_U02', '01MSINLO_BAT', '03MKBN_C', '02TMOBIL_G03', '01SMC_G02', '10AGUS5_U02', '03BACMAN_U01', '01SMC_G03', '12PKSFRA_G01', '10AGUS7_U01', '01LIMAY_U03', '05THVI_U02', '08PDPP3_G01', '09KEGJIM_G01', '05CPPC_U04', '04LGPP_G01', '14SARANG_U02', '03SBPL_G01', '03ALMNOS_BAT2', '01BINGA_U02', '03ILIJAN_G01', '05CPPC_G01', '11PULA4_U01', '07TPLPB4_U03', '05CPPC_U06', '05TPVI_U06', '01T_ASIA_G01', '04IASMOD_G05', '08PDPP_G01', '03STA-RI_G02', '14MTAPO_U02', '01LIMAY_U04', '01S_ENRO_G01', '03KAL_G02', '08PDPP1_U05', '09PANABNK_U02', '09WMPC_U10', '01MAGAT_U02', '03STA-RI_G05', '01SROQUE_U01', '03SLTEC_G02', '01SROQUE_U02', '09WMPC_U04', '03INGRID_GS1', '12NACSUR_G01', '11PULA4_U02', '03BACMAN_U02', '01SMC_G01', '08PDPP3_E', '05EAUC_U01', '14MTAPO_U01', '09WMPC_U08', '12TM2_U02', '03CALACA_G01', '01BAUANG_GS2', '01BAUANG_GS3', '09KEGPN_G01', '13TM1_U01', '05CEDC_U01', '05CEDC_U02', '10AGUS6_U03', '11NBPC_G01', '06SCBIOP_G01', '03SLPGC_G02', '02MILLEN_G01', '05CPPC_U01', '05TPC_G02', '01MAGAT_U04', '09WMPC_U01', '01MARVEL_G01', '05CPPC_U05', '03SLPGC_G01', '08PPC1_B', '13MATIBNK_G01', '01LAMAO_BAT', '11PULA4_U03', '03KAL_G03', '03BACMAN_U03', '05TPVI_U04', '10AGUS2_U01', '11FDC_U03', '01CASECN_G01', '07BDPP_U03', '06STNEGB_G01', '05CPPC_U08', '01LIMAY_BAT', '11FDC_U02', '05KSPC_G02', '07TPLPB4_U01', '10AGUS2_U03', '03INGRID_GS5', '14SUPKOR_G01', '13SMCPC_U01', '11PKBUK_G01', '10PPEI_U01', '09PANABNK_U01', '01LIMAY_U07', '08PEDC_U01', '08STBAR_PB', '10GNPK_U02', '03BOTOCA_G01', '03PAGBIL_G02', '08PEDC_U02', '06KABAN_BAT', '05EAUC_U03', '10AGUS6_U01', '05CEDC_U03', '13SMC_U01', '01SROQUE_U03', '07BDPP_U02', '10AGUS7_U02', '01HYPGRN_G01', '08STBPB1_U02', '08PDPP1_U03', '10GNPK_U03', '06NTNEGB_G01', '03STA-RI_G04', '06CENPRI_U02', '13MACO_BAT', '05EAUC_G01', '01ANDA_G01', '05TPVI_U05', '12KEGSUR_G01', '10AGUS6_U04', '04IASMOD_G04', '06CENPRI_U05', '03AVION_U02', '04LEYTE_A', '03KAL_G01', '03MGPP_G01', '11MINBAL_G01', '14MTAPO_U03', '08PEDC_U03', '01APEC_G01', '01BINGA_U03', '01PNTBNG_U01', '03TIWI_C', '05TPVI_U03', '01AMBUK_U03', '03STA-RI_G03', '14SARANG_U01', '09WMPC_U05', nan, '06CENPRI_U01', '01MASIWA_G01', '01GNPD_U01', '01SMC_G04', '03STA-RI_G06', '02TMOBIL_G04', '08PDPP3_H', '07BDPP_G01', '06CENPRI_U03', '05TOLEDO_BAT', '07TPLPB4_U02', '13TM1_U02', '05TPC_G01', '01BINGA_U04', '12PKSFRA_U02', '03ILIJAN_G02', '08GLOBAL_G01', '01PETRON_G01', '06PAL2A_U01', '03INGRID_GS3', '06CENPRI_U04', '05CPPC_U03', nan, '03MKBN_B', '03SLPGC_G03', '05THVI_U01', '10GNPK_U01', '04IASMOD_G01', '01MAGAT_U03', '01MSINLO_G01', '12KEGMIS_G01', '10MEGC_G01', '10AGUS2_U02', '05CPPC_U09', '05KSPC_G01', '10AGUS5_U01', '03INGRID_GS4', '10AGUS6_U02', '04IASMOD_G02', '03CALIRY_G01', '13SMC_U02', '08PALM_G01', '08STBPB1_U01', '08PDPP1_U02', '13MPCDIG_G01', '03ALMNOS_BAT1', '04IASMOD_G06', '01MARVEL_G02', '01GNPD_U02', '03INGRID_GS2', '05CPPC_U10', '01LIMAY_U01', '05EAUC_U04', '10IDPP_G01', '01SUAL_G01', '02TMOBIL_G01', '11MNRGY_G01', '03SLTEC_G01', '05CPPC_U07', '06PAL2A_U02', '09WMPC_U03', '11PACERM_G01', '12KEGTAN_G01', '03TIWI_A', '03MGI_G02', '10AGUS1_U02'}\n"
     ]
    }
   ],
   "source": [
    "# %%time\n",
    "# # Specify the base folder\n",
    "# base_folder = r'F:\\WESM_data\\RTD_Generation_Offers'\n",
    "\n",
    "# # Initialize an empty set to store unique RESOURCE_ID values\n",
    "# unique_resource_ids = set()\n",
    "\n",
    "# # Loop through the overall folder, first year, and first month\n",
    "# for year_folder in tqdm(os.listdir(base_folder), desc=\"Processing Years\", leave=False):\n",
    "#     year_path = os.path.join(base_folder, year_folder)\n",
    "    \n",
    "#     if os.path.isdir(year_path):\n",
    "#         for month_folder in tqdm(os.listdir(year_path), desc=\"Processing Months\", leave=False):\n",
    "#             month_path = os.path.join(year_path, month_folder)\n",
    "            \n",
    "#             if os.path.isdir(month_path):\n",
    "#                 # Loop through hourly CSV files in the current month\n",
    "#                 for file_name in tqdm(os.listdir(month_path), desc=\"Processing CSVs\", leave=False):\n",
    "#                     if file_name.endswith('.csv'):\n",
    "#                         file_path = os.path.join(month_path, file_name)\n",
    "\n",
    "#                         # Read the CSV file\n",
    "#                         current_df = pd.read_csv(file_path)\n",
    "\n",
    "#                         # Extract unique RESOURCE_ID values\n",
    "#                         unique_resource_ids.update(current_df['RESOURCE_NAME'].unique())\n",
    "\n",
    "# # Display or further process the unique RESOURCE_ID values\n",
    "# print(unique_resource_ids)"
   ]
  },
  {
   "cell_type": "code",
   "execution_count": 17,
   "id": "e95708ee-b74d-4baa-8417-2fef23dffa32",
   "metadata": {
    "tags": []
   },
   "outputs": [],
   "source": [
    "# Convert the set to a list and then to a pandas Series\n",
    "unique_resource_ids_series = pd.Series(list(unique_resource_ids), name='RESOURCE_ID', dtype=str)"
   ]
  },
  {
   "cell_type": "code",
   "execution_count": null,
   "id": "c44631dd-4ed3-4233-9100-6a4cbc0733ef",
   "metadata": {},
   "outputs": [],
   "source": [
    "unique_resource_ids_series.to_csv(unique_resource_ids_path, index=False)"
   ]
  },
  {
   "cell_type": "code",
   "execution_count": 18,
   "id": "cd510df4-cefd-47cd-81bf-4660808e8afe",
   "metadata": {
    "collapsed": true,
    "jupyter": {
     "outputs_hidden": true
    },
    "tags": []
   },
   "outputs": [
    {
     "ename": "NameError",
     "evalue": "name 'nan' is not defined",
     "output_type": "error",
     "traceback": [
      "\u001b[1;31m---------------------------------------------------------------------------\u001b[0m",
      "\u001b[1;31mNameError\u001b[0m                                 Traceback (most recent call last)",
      "Cell \u001b[1;32mIn[18], line 1\u001b[0m\n\u001b[1;32m----> 1\u001b[0m unique_resource_ids_list \u001b[38;5;241m=\u001b[39m [\u001b[38;5;124m'\u001b[39m\u001b[38;5;124m13DCPP_U01\u001b[39m\u001b[38;5;124m'\u001b[39m, \u001b[38;5;124m'\u001b[39m\u001b[38;5;124m11KEGMAR_G01\u001b[39m\u001b[38;5;124m'\u001b[39m, \u001b[38;5;124m'\u001b[39m\u001b[38;5;124m07BDPP_U04\u001b[39m\u001b[38;5;124m'\u001b[39m, \u001b[38;5;124m'\u001b[39m\u001b[38;5;124m03AVION_U01\u001b[39m\u001b[38;5;124m'\u001b[39m, \u001b[38;5;124m'\u001b[39m\u001b[38;5;124m01CIP2_G01\u001b[39m\u001b[38;5;124m'\u001b[39m, \u001b[38;5;124m'\u001b[39m\u001b[38;5;124m03MKBN_E\u001b[39m\u001b[38;5;124m'\u001b[39m, \u001b[38;5;124m'\u001b[39m\u001b[38;5;124m01ANGAT_A\u001b[39m\u001b[38;5;124m'\u001b[39m, \u001b[38;5;124m'\u001b[39m\u001b[38;5;124m10AGUS1_U01\u001b[39m\u001b[38;5;124m'\u001b[39m, \u001b[38;5;124m'\u001b[39m\u001b[38;5;124m10GNPK_U04\u001b[39m\u001b[38;5;124m'\u001b[39m, \u001b[38;5;124m'\u001b[39m\u001b[38;5;124m12KEGGIN_G01\u001b[39m\u001b[38;5;124m'\u001b[39m, \u001b[38;5;124m'\u001b[39m\u001b[38;5;124m12PKSFRA_U01\u001b[39m\u001b[38;5;124m'\u001b[39m, \u001b[38;5;124m'\u001b[39m\u001b[38;5;124m06PAL1A_G01\u001b[39m\u001b[38;5;124m'\u001b[39m, \u001b[38;5;124m'\u001b[39m\u001b[38;5;124m09WMPC_U07\u001b[39m\u001b[38;5;124m'\u001b[39m, \u001b[38;5;124m'\u001b[39m\u001b[38;5;124m08PDPP3_C\u001b[39m\u001b[38;5;124m'\u001b[39m, \u001b[38;5;124m'\u001b[39m\u001b[38;5;124m07TPLPB4_U04\u001b[39m\u001b[38;5;124m'\u001b[39m, \u001b[38;5;124m'\u001b[39m\u001b[38;5;124m01LIMAY_U06\u001b[39m\u001b[38;5;124m'\u001b[39m, \u001b[38;5;124m'\u001b[39m\u001b[38;5;124m03RCBMI_G01\u001b[39m\u001b[38;5;124m'\u001b[39m, \u001b[38;5;124m'\u001b[39m\u001b[38;5;124m03ORMAT_G01\u001b[39m\u001b[38;5;124m'\u001b[39m, \u001b[38;5;124m'\u001b[39m\u001b[38;5;124m13SMCPC_U02\u001b[39m\u001b[38;5;124m'\u001b[39m, \u001b[38;5;124m'\u001b[39m\u001b[38;5;124m01BINGA_U01\u001b[39m\u001b[38;5;124m'\u001b[39m, \u001b[38;5;124m'\u001b[39m\u001b[38;5;124m03MKBN_A\u001b[39m\u001b[38;5;124m'\u001b[39m, \u001b[38;5;124m'\u001b[39m\u001b[38;5;124m01ANGAT_M\u001b[39m\u001b[38;5;124m'\u001b[39m, \u001b[38;5;124m'\u001b[39m\u001b[38;5;124m03MKBN_D\u001b[39m\u001b[38;5;124m'\u001b[39m, \u001b[38;5;124m'\u001b[39m\u001b[38;5;124m01AMBUK_U02\u001b[39m\u001b[38;5;124m'\u001b[39m, \u001b[38;5;124m'\u001b[39m\u001b[38;5;124m06PAL2A_U03\u001b[39m\u001b[38;5;124m'\u001b[39m, \u001b[38;5;124m'\u001b[39m\u001b[38;5;124m03PAGBIL_G01\u001b[39m\u001b[38;5;124m'\u001b[39m, \u001b[38;5;124m'\u001b[39m\u001b[38;5;124m03KAL_G04\u001b[39m\u001b[38;5;124m'\u001b[39m, \u001b[38;5;124m'\u001b[39m\u001b[38;5;124m03STA-RI_G01\u001b[39m\u001b[38;5;124m'\u001b[39m, \u001b[38;5;124m'\u001b[39m\u001b[38;5;124m11FDC_U01\u001b[39m\u001b[38;5;124m'\u001b[39m, \u001b[38;5;124m'\u001b[39m\u001b[38;5;124m14PKPSOC_G01\u001b[39m\u001b[38;5;124m'\u001b[39m, \u001b[38;5;124m'\u001b[39m\u001b[38;5;124m05TPVI_U01\u001b[39m\u001b[38;5;124m'\u001b[39m, \u001b[38;5;124m'\u001b[39m\u001b[38;5;124m03INGRID_GS6\u001b[39m\u001b[38;5;124m'\u001b[39m, \u001b[38;5;124m'\u001b[39m\u001b[38;5;124m07BDPP_U01\u001b[39m\u001b[38;5;124m'\u001b[39m, \u001b[38;5;124m'\u001b[39m\u001b[38;5;124m03QPPL_G01\u001b[39m\u001b[38;5;124m'\u001b[39m, \u001b[38;5;124m'\u001b[39m\u001b[38;5;124m13MAGDBNK_G01\u001b[39m\u001b[38;5;124m'\u001b[39m, \u001b[38;5;124m'\u001b[39m\u001b[38;5;124m01MSINLO_G02\u001b[39m\u001b[38;5;124m'\u001b[39m, \u001b[38;5;124m'\u001b[39m\u001b[38;5;124m09WMPC_U06\u001b[39m\u001b[38;5;124m'\u001b[39m, \u001b[38;5;124m'\u001b[39m\u001b[38;5;124m01BAUANG_GS1\u001b[39m\u001b[38;5;124m'\u001b[39m, \u001b[38;5;124m'\u001b[39m\u001b[38;5;124m01MAGAT_U01\u001b[39m\u001b[38;5;124m'\u001b[39m, \u001b[38;5;124m'\u001b[39m\u001b[38;5;124m05EAUC_U02\u001b[39m\u001b[38;5;124m'\u001b[39m, \u001b[38;5;124m'\u001b[39m\u001b[38;5;124m10AGUS4_U03\u001b[39m\u001b[38;5;124m'\u001b[39m, \u001b[38;5;124m'\u001b[39m\u001b[38;5;124m04IASMOD_G03\u001b[39m\u001b[38;5;124m'\u001b[39m, \u001b[38;5;124m'\u001b[39m\u001b[38;5;124m08STBPB1_U04\u001b[39m\u001b[38;5;124m'\u001b[39m, \u001b[38;5;124m'\u001b[39m\u001b[38;5;124m01MSINLO_G03\u001b[39m\u001b[38;5;124m'\u001b[39m, \u001b[38;5;124m'\u001b[39m\u001b[38;5;124m12TM2_U01\u001b[39m\u001b[38;5;124m'\u001b[39m, \u001b[38;5;124m'\u001b[39m\u001b[38;5;124m01AMBUK_U01\u001b[39m\u001b[38;5;124m'\u001b[39m, \u001b[38;5;124m'\u001b[39m\u001b[38;5;124m01SUAL_G02\u001b[39m\u001b[38;5;124m'\u001b[39m, \u001b[38;5;124m'\u001b[39m\u001b[38;5;124m03SLPGC_G04\u001b[39m\u001b[38;5;124m'\u001b[39m, \u001b[38;5;124m'\u001b[39m\u001b[38;5;124m08PPC_G02\u001b[39m\u001b[38;5;124m'\u001b[39m, \u001b[38;5;124m'\u001b[39m\u001b[38;5;124m10AGUS4_U01\u001b[39m\u001b[38;5;124m'\u001b[39m, \u001b[38;5;124m'\u001b[39m\u001b[38;5;124m01PNTBNG_U02\u001b[39m\u001b[38;5;124m'\u001b[39m, \u001b[38;5;124m'\u001b[39m\u001b[38;5;124m03SNGAB_G01\u001b[39m\u001b[38;5;124m'\u001b[39m, \u001b[38;5;124m'\u001b[39m\u001b[38;5;124m03PAGBIL_G03\u001b[39m\u001b[38;5;124m'\u001b[39m, \u001b[38;5;124m'\u001b[39m\u001b[38;5;124m08PPC1_A\u001b[39m\u001b[38;5;124m'\u001b[39m, \u001b[38;5;124m'\u001b[39m\u001b[38;5;124m01LIMAY_U05\u001b[39m\u001b[38;5;124m'\u001b[39m, \u001b[38;5;124m'\u001b[39m\u001b[38;5;124m01LIMAY_U08\u001b[39m\u001b[38;5;124m'\u001b[39m, \u001b[38;5;124m'\u001b[39m\u001b[38;5;124m01SNMAN_BAT\u001b[39m\u001b[38;5;124m'\u001b[39m, \u001b[38;5;124m'\u001b[39m\u001b[38;5;124m09WMPC_U02\u001b[39m\u001b[38;5;124m'\u001b[39m, \u001b[38;5;124m'\u001b[39m\u001b[38;5;124m10AGUS6_U05\u001b[39m\u001b[38;5;124m'\u001b[39m, \u001b[38;5;124m'\u001b[39m\u001b[38;5;124m11STEAG_U02\u001b[39m\u001b[38;5;124m'\u001b[39m, \u001b[38;5;124m'\u001b[39m\u001b[38;5;124m03CALACA_G02\u001b[39m\u001b[38;5;124m'\u001b[39m, \u001b[38;5;124m'\u001b[39m\u001b[38;5;124m03ALMNOS_BAT\u001b[39m\u001b[38;5;124m'\u001b[39m, \u001b[38;5;124m'\u001b[39m\u001b[38;5;124m06NASULO_G01\u001b[39m\u001b[38;5;124m'\u001b[39m, \u001b[38;5;124m'\u001b[39m\u001b[38;5;124m09WMPC_U09\u001b[39m\u001b[38;5;124m'\u001b[39m, \u001b[38;5;124m'\u001b[39m\u001b[38;5;124m11STEAG_U01\u001b[39m\u001b[38;5;124m'\u001b[39m, \u001b[38;5;124m'\u001b[39m\u001b[38;5;124m01LIMAY_U02\u001b[39m\u001b[38;5;124m'\u001b[39m, \u001b[38;5;124m'\u001b[39m\u001b[38;5;124m08PDPP3_G\u001b[39m\u001b[38;5;124m'\u001b[39m, \u001b[38;5;124m'\u001b[39m\u001b[38;5;124m05CPPC_U02\u001b[39m\u001b[38;5;124m'\u001b[39m, \u001b[38;5;124m'\u001b[39m\u001b[38;5;124m07TAPAL_PB4\u001b[39m\u001b[38;5;124m'\u001b[39m, \u001b[38;5;124m'\u001b[39m\u001b[38;5;124m10AGUS4_U02\u001b[39m\u001b[38;5;124m'\u001b[39m, \u001b[38;5;124m'\u001b[39m\u001b[38;5;124m02TMOBIL_G02\u001b[39m\u001b[38;5;124m'\u001b[39m, \u001b[38;5;124m'\u001b[39m\u001b[38;5;124m11MNRGY_G02\u001b[39m\u001b[38;5;124m'\u001b[39m, \u001b[38;5;124m'\u001b[39m\u001b[38;5;124m08STBPB1_U03\u001b[39m\u001b[38;5;124m'\u001b[39m, \u001b[38;5;124m'\u001b[39m\u001b[38;5;124m05TPVI_U02\u001b[39m\u001b[38;5;124m'\u001b[39m, \u001b[38;5;124m'\u001b[39m\u001b[38;5;124m03RCBMI_G02\u001b[39m\u001b[38;5;124m'\u001b[39m, \u001b[38;5;124m'\u001b[39m\u001b[38;5;124m13DCPP_U02\u001b[39m\u001b[38;5;124m'\u001b[39m, \u001b[38;5;124m'\u001b[39m\u001b[38;5;124m01MSINLO_BAT\u001b[39m\u001b[38;5;124m'\u001b[39m, \u001b[38;5;124m'\u001b[39m\u001b[38;5;124m03MKBN_C\u001b[39m\u001b[38;5;124m'\u001b[39m, \u001b[38;5;124m'\u001b[39m\u001b[38;5;124m02TMOBIL_G03\u001b[39m\u001b[38;5;124m'\u001b[39m, \u001b[38;5;124m'\u001b[39m\u001b[38;5;124m01SMC_G02\u001b[39m\u001b[38;5;124m'\u001b[39m, \u001b[38;5;124m'\u001b[39m\u001b[38;5;124m10AGUS5_U02\u001b[39m\u001b[38;5;124m'\u001b[39m, \u001b[38;5;124m'\u001b[39m\u001b[38;5;124m03BACMAN_U01\u001b[39m\u001b[38;5;124m'\u001b[39m, \u001b[38;5;124m'\u001b[39m\u001b[38;5;124m01SMC_G03\u001b[39m\u001b[38;5;124m'\u001b[39m, \u001b[38;5;124m'\u001b[39m\u001b[38;5;124m12PKSFRA_G01\u001b[39m\u001b[38;5;124m'\u001b[39m, \u001b[38;5;124m'\u001b[39m\u001b[38;5;124m10AGUS7_U01\u001b[39m\u001b[38;5;124m'\u001b[39m, \u001b[38;5;124m'\u001b[39m\u001b[38;5;124m01LIMAY_U03\u001b[39m\u001b[38;5;124m'\u001b[39m, \u001b[38;5;124m'\u001b[39m\u001b[38;5;124m05THVI_U02\u001b[39m\u001b[38;5;124m'\u001b[39m, \u001b[38;5;124m'\u001b[39m\u001b[38;5;124m08PDPP3_G01\u001b[39m\u001b[38;5;124m'\u001b[39m, \u001b[38;5;124m'\u001b[39m\u001b[38;5;124m09KEGJIM_G01\u001b[39m\u001b[38;5;124m'\u001b[39m, \u001b[38;5;124m'\u001b[39m\u001b[38;5;124m05CPPC_U04\u001b[39m\u001b[38;5;124m'\u001b[39m, \u001b[38;5;124m'\u001b[39m\u001b[38;5;124m04LGPP_G01\u001b[39m\u001b[38;5;124m'\u001b[39m, \u001b[38;5;124m'\u001b[39m\u001b[38;5;124m14SARANG_U02\u001b[39m\u001b[38;5;124m'\u001b[39m, \u001b[38;5;124m'\u001b[39m\u001b[38;5;124m03SBPL_G01\u001b[39m\u001b[38;5;124m'\u001b[39m, \u001b[38;5;124m'\u001b[39m\u001b[38;5;124m03ALMNOS_BAT2\u001b[39m\u001b[38;5;124m'\u001b[39m, \u001b[38;5;124m'\u001b[39m\u001b[38;5;124m01BINGA_U02\u001b[39m\u001b[38;5;124m'\u001b[39m, \u001b[38;5;124m'\u001b[39m\u001b[38;5;124m03ILIJAN_G01\u001b[39m\u001b[38;5;124m'\u001b[39m, \u001b[38;5;124m'\u001b[39m\u001b[38;5;124m05CPPC_G01\u001b[39m\u001b[38;5;124m'\u001b[39m, \u001b[38;5;124m'\u001b[39m\u001b[38;5;124m11PULA4_U01\u001b[39m\u001b[38;5;124m'\u001b[39m, \u001b[38;5;124m'\u001b[39m\u001b[38;5;124m07TPLPB4_U03\u001b[39m\u001b[38;5;124m'\u001b[39m, \u001b[38;5;124m'\u001b[39m\u001b[38;5;124m05CPPC_U06\u001b[39m\u001b[38;5;124m'\u001b[39m, \u001b[38;5;124m'\u001b[39m\u001b[38;5;124m05TPVI_U06\u001b[39m\u001b[38;5;124m'\u001b[39m, \u001b[38;5;124m'\u001b[39m\u001b[38;5;124m01T_ASIA_G01\u001b[39m\u001b[38;5;124m'\u001b[39m, \u001b[38;5;124m'\u001b[39m\u001b[38;5;124m04IASMOD_G05\u001b[39m\u001b[38;5;124m'\u001b[39m, \u001b[38;5;124m'\u001b[39m\u001b[38;5;124m08PDPP_G01\u001b[39m\u001b[38;5;124m'\u001b[39m, \u001b[38;5;124m'\u001b[39m\u001b[38;5;124m03STA-RI_G02\u001b[39m\u001b[38;5;124m'\u001b[39m, \u001b[38;5;124m'\u001b[39m\u001b[38;5;124m14MTAPO_U02\u001b[39m\u001b[38;5;124m'\u001b[39m, \u001b[38;5;124m'\u001b[39m\u001b[38;5;124m01LIMAY_U04\u001b[39m\u001b[38;5;124m'\u001b[39m, \u001b[38;5;124m'\u001b[39m\u001b[38;5;124m01S_ENRO_G01\u001b[39m\u001b[38;5;124m'\u001b[39m, \u001b[38;5;124m'\u001b[39m\u001b[38;5;124m03KAL_G02\u001b[39m\u001b[38;5;124m'\u001b[39m, \u001b[38;5;124m'\u001b[39m\u001b[38;5;124m08PDPP1_U05\u001b[39m\u001b[38;5;124m'\u001b[39m, \u001b[38;5;124m'\u001b[39m\u001b[38;5;124m09PANABNK_U02\u001b[39m\u001b[38;5;124m'\u001b[39m, \u001b[38;5;124m'\u001b[39m\u001b[38;5;124m09WMPC_U10\u001b[39m\u001b[38;5;124m'\u001b[39m, \u001b[38;5;124m'\u001b[39m\u001b[38;5;124m01MAGAT_U02\u001b[39m\u001b[38;5;124m'\u001b[39m, \u001b[38;5;124m'\u001b[39m\u001b[38;5;124m03STA-RI_G05\u001b[39m\u001b[38;5;124m'\u001b[39m, \u001b[38;5;124m'\u001b[39m\u001b[38;5;124m01SROQUE_U01\u001b[39m\u001b[38;5;124m'\u001b[39m, \u001b[38;5;124m'\u001b[39m\u001b[38;5;124m03SLTEC_G02\u001b[39m\u001b[38;5;124m'\u001b[39m, \u001b[38;5;124m'\u001b[39m\u001b[38;5;124m01SROQUE_U02\u001b[39m\u001b[38;5;124m'\u001b[39m, \u001b[38;5;124m'\u001b[39m\u001b[38;5;124m09WMPC_U04\u001b[39m\u001b[38;5;124m'\u001b[39m, \u001b[38;5;124m'\u001b[39m\u001b[38;5;124m03INGRID_GS1\u001b[39m\u001b[38;5;124m'\u001b[39m, \u001b[38;5;124m'\u001b[39m\u001b[38;5;124m12NACSUR_G01\u001b[39m\u001b[38;5;124m'\u001b[39m, \u001b[38;5;124m'\u001b[39m\u001b[38;5;124m11PULA4_U02\u001b[39m\u001b[38;5;124m'\u001b[39m, \u001b[38;5;124m'\u001b[39m\u001b[38;5;124m03BACMAN_U02\u001b[39m\u001b[38;5;124m'\u001b[39m, \u001b[38;5;124m'\u001b[39m\u001b[38;5;124m01SMC_G01\u001b[39m\u001b[38;5;124m'\u001b[39m, \u001b[38;5;124m'\u001b[39m\u001b[38;5;124m08PDPP3_E\u001b[39m\u001b[38;5;124m'\u001b[39m, \u001b[38;5;124m'\u001b[39m\u001b[38;5;124m05EAUC_U01\u001b[39m\u001b[38;5;124m'\u001b[39m, \u001b[38;5;124m'\u001b[39m\u001b[38;5;124m14MTAPO_U01\u001b[39m\u001b[38;5;124m'\u001b[39m, \u001b[38;5;124m'\u001b[39m\u001b[38;5;124m09WMPC_U08\u001b[39m\u001b[38;5;124m'\u001b[39m, \u001b[38;5;124m'\u001b[39m\u001b[38;5;124m12TM2_U02\u001b[39m\u001b[38;5;124m'\u001b[39m, \u001b[38;5;124m'\u001b[39m\u001b[38;5;124m03CALACA_G01\u001b[39m\u001b[38;5;124m'\u001b[39m, \u001b[38;5;124m'\u001b[39m\u001b[38;5;124m01BAUANG_GS2\u001b[39m\u001b[38;5;124m'\u001b[39m, \u001b[38;5;124m'\u001b[39m\u001b[38;5;124m01BAUANG_GS3\u001b[39m\u001b[38;5;124m'\u001b[39m, \u001b[38;5;124m'\u001b[39m\u001b[38;5;124m09KEGPN_G01\u001b[39m\u001b[38;5;124m'\u001b[39m, \u001b[38;5;124m'\u001b[39m\u001b[38;5;124m13TM1_U01\u001b[39m\u001b[38;5;124m'\u001b[39m, \u001b[38;5;124m'\u001b[39m\u001b[38;5;124m05CEDC_U01\u001b[39m\u001b[38;5;124m'\u001b[39m, \u001b[38;5;124m'\u001b[39m\u001b[38;5;124m05CEDC_U02\u001b[39m\u001b[38;5;124m'\u001b[39m, \u001b[38;5;124m'\u001b[39m\u001b[38;5;124m10AGUS6_U03\u001b[39m\u001b[38;5;124m'\u001b[39m, \u001b[38;5;124m'\u001b[39m\u001b[38;5;124m11NBPC_G01\u001b[39m\u001b[38;5;124m'\u001b[39m, \u001b[38;5;124m'\u001b[39m\u001b[38;5;124m06SCBIOP_G01\u001b[39m\u001b[38;5;124m'\u001b[39m, \u001b[38;5;124m'\u001b[39m\u001b[38;5;124m03SLPGC_G02\u001b[39m\u001b[38;5;124m'\u001b[39m, \u001b[38;5;124m'\u001b[39m\u001b[38;5;124m02MILLEN_G01\u001b[39m\u001b[38;5;124m'\u001b[39m, \u001b[38;5;124m'\u001b[39m\u001b[38;5;124m05CPPC_U01\u001b[39m\u001b[38;5;124m'\u001b[39m, \u001b[38;5;124m'\u001b[39m\u001b[38;5;124m05TPC_G02\u001b[39m\u001b[38;5;124m'\u001b[39m, \u001b[38;5;124m'\u001b[39m\u001b[38;5;124m01MAGAT_U04\u001b[39m\u001b[38;5;124m'\u001b[39m, \u001b[38;5;124m'\u001b[39m\u001b[38;5;124m09WMPC_U01\u001b[39m\u001b[38;5;124m'\u001b[39m, \u001b[38;5;124m'\u001b[39m\u001b[38;5;124m01MARVEL_G01\u001b[39m\u001b[38;5;124m'\u001b[39m, \u001b[38;5;124m'\u001b[39m\u001b[38;5;124m05CPPC_U05\u001b[39m\u001b[38;5;124m'\u001b[39m, \u001b[38;5;124m'\u001b[39m\u001b[38;5;124m03SLPGC_G01\u001b[39m\u001b[38;5;124m'\u001b[39m, \u001b[38;5;124m'\u001b[39m\u001b[38;5;124m08PPC1_B\u001b[39m\u001b[38;5;124m'\u001b[39m, \u001b[38;5;124m'\u001b[39m\u001b[38;5;124m13MATIBNK_G01\u001b[39m\u001b[38;5;124m'\u001b[39m, \u001b[38;5;124m'\u001b[39m\u001b[38;5;124m01LAMAO_BAT\u001b[39m\u001b[38;5;124m'\u001b[39m, \u001b[38;5;124m'\u001b[39m\u001b[38;5;124m11PULA4_U03\u001b[39m\u001b[38;5;124m'\u001b[39m, \u001b[38;5;124m'\u001b[39m\u001b[38;5;124m03KAL_G03\u001b[39m\u001b[38;5;124m'\u001b[39m, \u001b[38;5;124m'\u001b[39m\u001b[38;5;124m03BACMAN_U03\u001b[39m\u001b[38;5;124m'\u001b[39m, \u001b[38;5;124m'\u001b[39m\u001b[38;5;124m05TPVI_U04\u001b[39m\u001b[38;5;124m'\u001b[39m, \u001b[38;5;124m'\u001b[39m\u001b[38;5;124m10AGUS2_U01\u001b[39m\u001b[38;5;124m'\u001b[39m, \u001b[38;5;124m'\u001b[39m\u001b[38;5;124m11FDC_U03\u001b[39m\u001b[38;5;124m'\u001b[39m, \u001b[38;5;124m'\u001b[39m\u001b[38;5;124m01CASECN_G01\u001b[39m\u001b[38;5;124m'\u001b[39m, \u001b[38;5;124m'\u001b[39m\u001b[38;5;124m07BDPP_U03\u001b[39m\u001b[38;5;124m'\u001b[39m, \u001b[38;5;124m'\u001b[39m\u001b[38;5;124m06STNEGB_G01\u001b[39m\u001b[38;5;124m'\u001b[39m, \u001b[38;5;124m'\u001b[39m\u001b[38;5;124m05CPPC_U08\u001b[39m\u001b[38;5;124m'\u001b[39m, \u001b[38;5;124m'\u001b[39m\u001b[38;5;124m01LIMAY_BAT\u001b[39m\u001b[38;5;124m'\u001b[39m, \u001b[38;5;124m'\u001b[39m\u001b[38;5;124m11FDC_U02\u001b[39m\u001b[38;5;124m'\u001b[39m, \u001b[38;5;124m'\u001b[39m\u001b[38;5;124m05KSPC_G02\u001b[39m\u001b[38;5;124m'\u001b[39m, \u001b[38;5;124m'\u001b[39m\u001b[38;5;124m07TPLPB4_U01\u001b[39m\u001b[38;5;124m'\u001b[39m, \u001b[38;5;124m'\u001b[39m\u001b[38;5;124m10AGUS2_U03\u001b[39m\u001b[38;5;124m'\u001b[39m, \u001b[38;5;124m'\u001b[39m\u001b[38;5;124m03INGRID_GS5\u001b[39m\u001b[38;5;124m'\u001b[39m, \u001b[38;5;124m'\u001b[39m\u001b[38;5;124m14SUPKOR_G01\u001b[39m\u001b[38;5;124m'\u001b[39m, \u001b[38;5;124m'\u001b[39m\u001b[38;5;124m13SMCPC_U01\u001b[39m\u001b[38;5;124m'\u001b[39m, \u001b[38;5;124m'\u001b[39m\u001b[38;5;124m11PKBUK_G01\u001b[39m\u001b[38;5;124m'\u001b[39m, \u001b[38;5;124m'\u001b[39m\u001b[38;5;124m10PPEI_U01\u001b[39m\u001b[38;5;124m'\u001b[39m, \u001b[38;5;124m'\u001b[39m\u001b[38;5;124m09PANABNK_U01\u001b[39m\u001b[38;5;124m'\u001b[39m, \u001b[38;5;124m'\u001b[39m\u001b[38;5;124m01LIMAY_U07\u001b[39m\u001b[38;5;124m'\u001b[39m, \u001b[38;5;124m'\u001b[39m\u001b[38;5;124m08PEDC_U01\u001b[39m\u001b[38;5;124m'\u001b[39m, \u001b[38;5;124m'\u001b[39m\u001b[38;5;124m08STBAR_PB\u001b[39m\u001b[38;5;124m'\u001b[39m, \u001b[38;5;124m'\u001b[39m\u001b[38;5;124m10GNPK_U02\u001b[39m\u001b[38;5;124m'\u001b[39m, \u001b[38;5;124m'\u001b[39m\u001b[38;5;124m03BOTOCA_G01\u001b[39m\u001b[38;5;124m'\u001b[39m, \u001b[38;5;124m'\u001b[39m\u001b[38;5;124m03PAGBIL_G02\u001b[39m\u001b[38;5;124m'\u001b[39m, \u001b[38;5;124m'\u001b[39m\u001b[38;5;124m08PEDC_U02\u001b[39m\u001b[38;5;124m'\u001b[39m, \u001b[38;5;124m'\u001b[39m\u001b[38;5;124m06KABAN_BAT\u001b[39m\u001b[38;5;124m'\u001b[39m, \u001b[38;5;124m'\u001b[39m\u001b[38;5;124m05EAUC_U03\u001b[39m\u001b[38;5;124m'\u001b[39m, \u001b[38;5;124m'\u001b[39m\u001b[38;5;124m10AGUS6_U01\u001b[39m\u001b[38;5;124m'\u001b[39m, \u001b[38;5;124m'\u001b[39m\u001b[38;5;124m05CEDC_U03\u001b[39m\u001b[38;5;124m'\u001b[39m, \u001b[38;5;124m'\u001b[39m\u001b[38;5;124m13SMC_U01\u001b[39m\u001b[38;5;124m'\u001b[39m, \u001b[38;5;124m'\u001b[39m\u001b[38;5;124m01SROQUE_U03\u001b[39m\u001b[38;5;124m'\u001b[39m, \u001b[38;5;124m'\u001b[39m\u001b[38;5;124m07BDPP_U02\u001b[39m\u001b[38;5;124m'\u001b[39m, \u001b[38;5;124m'\u001b[39m\u001b[38;5;124m10AGUS7_U02\u001b[39m\u001b[38;5;124m'\u001b[39m, \u001b[38;5;124m'\u001b[39m\u001b[38;5;124m01HYPGRN_G01\u001b[39m\u001b[38;5;124m'\u001b[39m, \u001b[38;5;124m'\u001b[39m\u001b[38;5;124m08STBPB1_U02\u001b[39m\u001b[38;5;124m'\u001b[39m, \u001b[38;5;124m'\u001b[39m\u001b[38;5;124m08PDPP1_U03\u001b[39m\u001b[38;5;124m'\u001b[39m, \u001b[38;5;124m'\u001b[39m\u001b[38;5;124m10GNPK_U03\u001b[39m\u001b[38;5;124m'\u001b[39m, \u001b[38;5;124m'\u001b[39m\u001b[38;5;124m06NTNEGB_G01\u001b[39m\u001b[38;5;124m'\u001b[39m, \u001b[38;5;124m'\u001b[39m\u001b[38;5;124m03STA-RI_G04\u001b[39m\u001b[38;5;124m'\u001b[39m, \u001b[38;5;124m'\u001b[39m\u001b[38;5;124m06CENPRI_U02\u001b[39m\u001b[38;5;124m'\u001b[39m, \u001b[38;5;124m'\u001b[39m\u001b[38;5;124m13MACO_BAT\u001b[39m\u001b[38;5;124m'\u001b[39m, \u001b[38;5;124m'\u001b[39m\u001b[38;5;124m05EAUC_G01\u001b[39m\u001b[38;5;124m'\u001b[39m, \u001b[38;5;124m'\u001b[39m\u001b[38;5;124m01ANDA_G01\u001b[39m\u001b[38;5;124m'\u001b[39m, \u001b[38;5;124m'\u001b[39m\u001b[38;5;124m05TPVI_U05\u001b[39m\u001b[38;5;124m'\u001b[39m, \u001b[38;5;124m'\u001b[39m\u001b[38;5;124m12KEGSUR_G01\u001b[39m\u001b[38;5;124m'\u001b[39m, \u001b[38;5;124m'\u001b[39m\u001b[38;5;124m10AGUS6_U04\u001b[39m\u001b[38;5;124m'\u001b[39m, \u001b[38;5;124m'\u001b[39m\u001b[38;5;124m04IASMOD_G04\u001b[39m\u001b[38;5;124m'\u001b[39m, \u001b[38;5;124m'\u001b[39m\u001b[38;5;124m06CENPRI_U05\u001b[39m\u001b[38;5;124m'\u001b[39m, \u001b[38;5;124m'\u001b[39m\u001b[38;5;124m03AVION_U02\u001b[39m\u001b[38;5;124m'\u001b[39m, \u001b[38;5;124m'\u001b[39m\u001b[38;5;124m04LEYTE_A\u001b[39m\u001b[38;5;124m'\u001b[39m, \u001b[38;5;124m'\u001b[39m\u001b[38;5;124m03KAL_G01\u001b[39m\u001b[38;5;124m'\u001b[39m, \u001b[38;5;124m'\u001b[39m\u001b[38;5;124m03MGPP_G01\u001b[39m\u001b[38;5;124m'\u001b[39m, \u001b[38;5;124m'\u001b[39m\u001b[38;5;124m11MINBAL_G01\u001b[39m\u001b[38;5;124m'\u001b[39m, \u001b[38;5;124m'\u001b[39m\u001b[38;5;124m14MTAPO_U03\u001b[39m\u001b[38;5;124m'\u001b[39m, \u001b[38;5;124m'\u001b[39m\u001b[38;5;124m08PEDC_U03\u001b[39m\u001b[38;5;124m'\u001b[39m, \u001b[38;5;124m'\u001b[39m\u001b[38;5;124m01APEC_G01\u001b[39m\u001b[38;5;124m'\u001b[39m, \u001b[38;5;124m'\u001b[39m\u001b[38;5;124m01BINGA_U03\u001b[39m\u001b[38;5;124m'\u001b[39m, \u001b[38;5;124m'\u001b[39m\u001b[38;5;124m01PNTBNG_U01\u001b[39m\u001b[38;5;124m'\u001b[39m, \u001b[38;5;124m'\u001b[39m\u001b[38;5;124m03TIWI_C\u001b[39m\u001b[38;5;124m'\u001b[39m, \u001b[38;5;124m'\u001b[39m\u001b[38;5;124m05TPVI_U03\u001b[39m\u001b[38;5;124m'\u001b[39m, \u001b[38;5;124m'\u001b[39m\u001b[38;5;124m01AMBUK_U03\u001b[39m\u001b[38;5;124m'\u001b[39m, \u001b[38;5;124m'\u001b[39m\u001b[38;5;124m03STA-RI_G03\u001b[39m\u001b[38;5;124m'\u001b[39m, \u001b[38;5;124m'\u001b[39m\u001b[38;5;124m14SARANG_U01\u001b[39m\u001b[38;5;124m'\u001b[39m, \u001b[38;5;124m'\u001b[39m\u001b[38;5;124m09WMPC_U05\u001b[39m\u001b[38;5;124m'\u001b[39m, nan, \u001b[38;5;124m'\u001b[39m\u001b[38;5;124m06CENPRI_U01\u001b[39m\u001b[38;5;124m'\u001b[39m, \u001b[38;5;124m'\u001b[39m\u001b[38;5;124m01MASIWA_G01\u001b[39m\u001b[38;5;124m'\u001b[39m, \u001b[38;5;124m'\u001b[39m\u001b[38;5;124m01GNPD_U01\u001b[39m\u001b[38;5;124m'\u001b[39m, \u001b[38;5;124m'\u001b[39m\u001b[38;5;124m01SMC_G04\u001b[39m\u001b[38;5;124m'\u001b[39m, \u001b[38;5;124m'\u001b[39m\u001b[38;5;124m03STA-RI_G06\u001b[39m\u001b[38;5;124m'\u001b[39m, \u001b[38;5;124m'\u001b[39m\u001b[38;5;124m02TMOBIL_G04\u001b[39m\u001b[38;5;124m'\u001b[39m, \u001b[38;5;124m'\u001b[39m\u001b[38;5;124m08PDPP3_H\u001b[39m\u001b[38;5;124m'\u001b[39m, \u001b[38;5;124m'\u001b[39m\u001b[38;5;124m07BDPP_G01\u001b[39m\u001b[38;5;124m'\u001b[39m, \u001b[38;5;124m'\u001b[39m\u001b[38;5;124m06CENPRI_U03\u001b[39m\u001b[38;5;124m'\u001b[39m, \u001b[38;5;124m'\u001b[39m\u001b[38;5;124m05TOLEDO_BAT\u001b[39m\u001b[38;5;124m'\u001b[39m, \u001b[38;5;124m'\u001b[39m\u001b[38;5;124m07TPLPB4_U02\u001b[39m\u001b[38;5;124m'\u001b[39m, \u001b[38;5;124m'\u001b[39m\u001b[38;5;124m13TM1_U02\u001b[39m\u001b[38;5;124m'\u001b[39m, \u001b[38;5;124m'\u001b[39m\u001b[38;5;124m05TPC_G01\u001b[39m\u001b[38;5;124m'\u001b[39m, \u001b[38;5;124m'\u001b[39m\u001b[38;5;124m01BINGA_U04\u001b[39m\u001b[38;5;124m'\u001b[39m, \u001b[38;5;124m'\u001b[39m\u001b[38;5;124m12PKSFRA_U02\u001b[39m\u001b[38;5;124m'\u001b[39m, \u001b[38;5;124m'\u001b[39m\u001b[38;5;124m03ILIJAN_G02\u001b[39m\u001b[38;5;124m'\u001b[39m, \u001b[38;5;124m'\u001b[39m\u001b[38;5;124m08GLOBAL_G01\u001b[39m\u001b[38;5;124m'\u001b[39m, \u001b[38;5;124m'\u001b[39m\u001b[38;5;124m01PETRON_G01\u001b[39m\u001b[38;5;124m'\u001b[39m, \u001b[38;5;124m'\u001b[39m\u001b[38;5;124m06PAL2A_U01\u001b[39m\u001b[38;5;124m'\u001b[39m, \u001b[38;5;124m'\u001b[39m\u001b[38;5;124m03INGRID_GS3\u001b[39m\u001b[38;5;124m'\u001b[39m, \u001b[38;5;124m'\u001b[39m\u001b[38;5;124m06CENPRI_U04\u001b[39m\u001b[38;5;124m'\u001b[39m, \u001b[38;5;124m'\u001b[39m\u001b[38;5;124m05CPPC_U03\u001b[39m\u001b[38;5;124m'\u001b[39m, nan, \u001b[38;5;124m'\u001b[39m\u001b[38;5;124m03MKBN_B\u001b[39m\u001b[38;5;124m'\u001b[39m, \u001b[38;5;124m'\u001b[39m\u001b[38;5;124m03SLPGC_G03\u001b[39m\u001b[38;5;124m'\u001b[39m, \u001b[38;5;124m'\u001b[39m\u001b[38;5;124m05THVI_U01\u001b[39m\u001b[38;5;124m'\u001b[39m, \u001b[38;5;124m'\u001b[39m\u001b[38;5;124m10GNPK_U01\u001b[39m\u001b[38;5;124m'\u001b[39m, \u001b[38;5;124m'\u001b[39m\u001b[38;5;124m04IASMOD_G01\u001b[39m\u001b[38;5;124m'\u001b[39m, \u001b[38;5;124m'\u001b[39m\u001b[38;5;124m01MAGAT_U03\u001b[39m\u001b[38;5;124m'\u001b[39m, \u001b[38;5;124m'\u001b[39m\u001b[38;5;124m01MSINLO_G01\u001b[39m\u001b[38;5;124m'\u001b[39m, \u001b[38;5;124m'\u001b[39m\u001b[38;5;124m12KEGMIS_G01\u001b[39m\u001b[38;5;124m'\u001b[39m, \u001b[38;5;124m'\u001b[39m\u001b[38;5;124m10MEGC_G01\u001b[39m\u001b[38;5;124m'\u001b[39m, \u001b[38;5;124m'\u001b[39m\u001b[38;5;124m10AGUS2_U02\u001b[39m\u001b[38;5;124m'\u001b[39m, \u001b[38;5;124m'\u001b[39m\u001b[38;5;124m05CPPC_U09\u001b[39m\u001b[38;5;124m'\u001b[39m, \u001b[38;5;124m'\u001b[39m\u001b[38;5;124m05KSPC_G01\u001b[39m\u001b[38;5;124m'\u001b[39m, \u001b[38;5;124m'\u001b[39m\u001b[38;5;124m10AGUS5_U01\u001b[39m\u001b[38;5;124m'\u001b[39m, \u001b[38;5;124m'\u001b[39m\u001b[38;5;124m03INGRID_GS4\u001b[39m\u001b[38;5;124m'\u001b[39m, \u001b[38;5;124m'\u001b[39m\u001b[38;5;124m10AGUS6_U02\u001b[39m\u001b[38;5;124m'\u001b[39m, \u001b[38;5;124m'\u001b[39m\u001b[38;5;124m04IASMOD_G02\u001b[39m\u001b[38;5;124m'\u001b[39m, \u001b[38;5;124m'\u001b[39m\u001b[38;5;124m03CALIRY_G01\u001b[39m\u001b[38;5;124m'\u001b[39m, \u001b[38;5;124m'\u001b[39m\u001b[38;5;124m13SMC_U02\u001b[39m\u001b[38;5;124m'\u001b[39m, \u001b[38;5;124m'\u001b[39m\u001b[38;5;124m08PALM_G01\u001b[39m\u001b[38;5;124m'\u001b[39m, \u001b[38;5;124m'\u001b[39m\u001b[38;5;124m08STBPB1_U01\u001b[39m\u001b[38;5;124m'\u001b[39m, \u001b[38;5;124m'\u001b[39m\u001b[38;5;124m08PDPP1_U02\u001b[39m\u001b[38;5;124m'\u001b[39m, \u001b[38;5;124m'\u001b[39m\u001b[38;5;124m13MPCDIG_G01\u001b[39m\u001b[38;5;124m'\u001b[39m, \u001b[38;5;124m'\u001b[39m\u001b[38;5;124m03ALMNOS_BAT1\u001b[39m\u001b[38;5;124m'\u001b[39m, \u001b[38;5;124m'\u001b[39m\u001b[38;5;124m04IASMOD_G06\u001b[39m\u001b[38;5;124m'\u001b[39m, \u001b[38;5;124m'\u001b[39m\u001b[38;5;124m01MARVEL_G02\u001b[39m\u001b[38;5;124m'\u001b[39m, \u001b[38;5;124m'\u001b[39m\u001b[38;5;124m01GNPD_U02\u001b[39m\u001b[38;5;124m'\u001b[39m, \u001b[38;5;124m'\u001b[39m\u001b[38;5;124m03INGRID_GS2\u001b[39m\u001b[38;5;124m'\u001b[39m, \u001b[38;5;124m'\u001b[39m\u001b[38;5;124m05CPPC_U10\u001b[39m\u001b[38;5;124m'\u001b[39m, \u001b[38;5;124m'\u001b[39m\u001b[38;5;124m01LIMAY_U01\u001b[39m\u001b[38;5;124m'\u001b[39m, \u001b[38;5;124m'\u001b[39m\u001b[38;5;124m05EAUC_U04\u001b[39m\u001b[38;5;124m'\u001b[39m, \u001b[38;5;124m'\u001b[39m\u001b[38;5;124m10IDPP_G01\u001b[39m\u001b[38;5;124m'\u001b[39m, \u001b[38;5;124m'\u001b[39m\u001b[38;5;124m01SUAL_G01\u001b[39m\u001b[38;5;124m'\u001b[39m, \u001b[38;5;124m'\u001b[39m\u001b[38;5;124m02TMOBIL_G01\u001b[39m\u001b[38;5;124m'\u001b[39m, \u001b[38;5;124m'\u001b[39m\u001b[38;5;124m11MNRGY_G01\u001b[39m\u001b[38;5;124m'\u001b[39m, \u001b[38;5;124m'\u001b[39m\u001b[38;5;124m03SLTEC_G01\u001b[39m\u001b[38;5;124m'\u001b[39m, \u001b[38;5;124m'\u001b[39m\u001b[38;5;124m05CPPC_U07\u001b[39m\u001b[38;5;124m'\u001b[39m, \u001b[38;5;124m'\u001b[39m\u001b[38;5;124m06PAL2A_U02\u001b[39m\u001b[38;5;124m'\u001b[39m, \u001b[38;5;124m'\u001b[39m\u001b[38;5;124m09WMPC_U03\u001b[39m\u001b[38;5;124m'\u001b[39m, \u001b[38;5;124m'\u001b[39m\u001b[38;5;124m11PACERM_G01\u001b[39m\u001b[38;5;124m'\u001b[39m, \u001b[38;5;124m'\u001b[39m\u001b[38;5;124m12KEGTAN_G01\u001b[39m\u001b[38;5;124m'\u001b[39m, \u001b[38;5;124m'\u001b[39m\u001b[38;5;124m03TIWI_A\u001b[39m\u001b[38;5;124m'\u001b[39m, \u001b[38;5;124m'\u001b[39m\u001b[38;5;124m03MGI_G02\u001b[39m\u001b[38;5;124m'\u001b[39m, \u001b[38;5;124m'\u001b[39m\u001b[38;5;124m10AGUS1_U02\u001b[39m\u001b[38;5;124m'\u001b[39m]\n",
      "\u001b[1;31mNameError\u001b[0m: name 'nan' is not defined"
     ]
    }
   ],
   "source": [
    "# unique_resource_ids_list = ['13DCPP_U01', '11KEGMAR_G01', '07BDPP_U04', '03AVION_U01', '01CIP2_G01', '03MKBN_E', '01ANGAT_A', '10AGUS1_U01', '10GNPK_U04', '12KEGGIN_G01', '12PKSFRA_U01', '06PAL1A_G01', '09WMPC_U07', '08PDPP3_C', '07TPLPB4_U04', '01LIMAY_U06', '03RCBMI_G01', '03ORMAT_G01', '13SMCPC_U02', '01BINGA_U01', '03MKBN_A', '01ANGAT_M', '03MKBN_D', '01AMBUK_U02', '06PAL2A_U03', '03PAGBIL_G01', '03KAL_G04', '03STA-RI_G01', '11FDC_U01', '14PKPSOC_G01', '05TPVI_U01', '03INGRID_GS6', '07BDPP_U01', '03QPPL_G01', '13MAGDBNK_G01', '01MSINLO_G02', '09WMPC_U06', '01BAUANG_GS1', '01MAGAT_U01', '05EAUC_U02', '10AGUS4_U03', '04IASMOD_G03', '08STBPB1_U04', '01MSINLO_G03', '12TM2_U01', '01AMBUK_U01', '01SUAL_G02', '03SLPGC_G04', '08PPC_G02', '10AGUS4_U01', '01PNTBNG_U02', '03SNGAB_G01', '03PAGBIL_G03', '08PPC1_A', '01LIMAY_U05', '01LIMAY_U08', '01SNMAN_BAT', '09WMPC_U02', '10AGUS6_U05', '11STEAG_U02', '03CALACA_G02', '03ALMNOS_BAT', '06NASULO_G01', '09WMPC_U09', '11STEAG_U01', '01LIMAY_U02', '08PDPP3_G', '05CPPC_U02', '07TAPAL_PB4', '10AGUS4_U02', '02TMOBIL_G02', '11MNRGY_G02', '08STBPB1_U03', '05TPVI_U02', '03RCBMI_G02', '13DCPP_U02', '01MSINLO_BAT', '03MKBN_C', '02TMOBIL_G03', '01SMC_G02', '10AGUS5_U02', '03BACMAN_U01', '01SMC_G03', '12PKSFRA_G01', '10AGUS7_U01', '01LIMAY_U03', '05THVI_U02', '08PDPP3_G01', '09KEGJIM_G01', '05CPPC_U04', '04LGPP_G01', '14SARANG_U02', '03SBPL_G01', '03ALMNOS_BAT2', '01BINGA_U02', '03ILIJAN_G01', '05CPPC_G01', '11PULA4_U01', '07TPLPB4_U03', '05CPPC_U06', '05TPVI_U06', '01T_ASIA_G01', '04IASMOD_G05', '08PDPP_G01', '03STA-RI_G02', '14MTAPO_U02', '01LIMAY_U04', '01S_ENRO_G01', '03KAL_G02', '08PDPP1_U05', '09PANABNK_U02', '09WMPC_U10', '01MAGAT_U02', '03STA-RI_G05', '01SROQUE_U01', '03SLTEC_G02', '01SROQUE_U02', '09WMPC_U04', '03INGRID_GS1', '12NACSUR_G01', '11PULA4_U02', '03BACMAN_U02', '01SMC_G01', '08PDPP3_E', '05EAUC_U01', '14MTAPO_U01', '09WMPC_U08', '12TM2_U02', '03CALACA_G01', '01BAUANG_GS2', '01BAUANG_GS3', '09KEGPN_G01', '13TM1_U01', '05CEDC_U01', '05CEDC_U02', '10AGUS6_U03', '11NBPC_G01', '06SCBIOP_G01', '03SLPGC_G02', '02MILLEN_G01', '05CPPC_U01', '05TPC_G02', '01MAGAT_U04', '09WMPC_U01', '01MARVEL_G01', '05CPPC_U05', '03SLPGC_G01', '08PPC1_B', '13MATIBNK_G01', '01LAMAO_BAT', '11PULA4_U03', '03KAL_G03', '03BACMAN_U03', '05TPVI_U04', '10AGUS2_U01', '11FDC_U03', '01CASECN_G01', '07BDPP_U03', '06STNEGB_G01', '05CPPC_U08', '01LIMAY_BAT', '11FDC_U02', '05KSPC_G02', '07TPLPB4_U01', '10AGUS2_U03', '03INGRID_GS5', '14SUPKOR_G01', '13SMCPC_U01', '11PKBUK_G01', '10PPEI_U01', '09PANABNK_U01', '01LIMAY_U07', '08PEDC_U01', '08STBAR_PB', '10GNPK_U02', '03BOTOCA_G01', '03PAGBIL_G02', '08PEDC_U02', '06KABAN_BAT', '05EAUC_U03', '10AGUS6_U01', '05CEDC_U03', '13SMC_U01', '01SROQUE_U03', '07BDPP_U02', '10AGUS7_U02', '01HYPGRN_G01', '08STBPB1_U02', '08PDPP1_U03', '10GNPK_U03', '06NTNEGB_G01', '03STA-RI_G04', '06CENPRI_U02', '13MACO_BAT', '05EAUC_G01', '01ANDA_G01', '05TPVI_U05', '12KEGSUR_G01', '10AGUS6_U04', '04IASMOD_G04', '06CENPRI_U05', '03AVION_U02', '04LEYTE_A', '03KAL_G01', '03MGPP_G01', '11MINBAL_G01', '14MTAPO_U03', '08PEDC_U03', '01APEC_G01', '01BINGA_U03', '01PNTBNG_U01', '03TIWI_C', '05TPVI_U03', '01AMBUK_U03', '03STA-RI_G03', '14SARANG_U01', '09WMPC_U05', nan, '06CENPRI_U01', '01MASIWA_G01', '01GNPD_U01', '01SMC_G04', '03STA-RI_G06', '02TMOBIL_G04', '08PDPP3_H', '07BDPP_G01', '06CENPRI_U03', '05TOLEDO_BAT', '07TPLPB4_U02', '13TM1_U02', '05TPC_G01', '01BINGA_U04', '12PKSFRA_U02', '03ILIJAN_G02', '08GLOBAL_G01', '01PETRON_G01', '06PAL2A_U01', '03INGRID_GS3', '06CENPRI_U04', '05CPPC_U03', nan, '03MKBN_B', '03SLPGC_G03', '05THVI_U01', '10GNPK_U01', '04IASMOD_G01', '01MAGAT_U03', '01MSINLO_G01', '12KEGMIS_G01', '10MEGC_G01', '10AGUS2_U02', '05CPPC_U09', '05KSPC_G01', '10AGUS5_U01', '03INGRID_GS4', '10AGUS6_U02', '04IASMOD_G02', '03CALIRY_G01', '13SMC_U02', '08PALM_G01', '08STBPB1_U01', '08PDPP1_U02', '13MPCDIG_G01', '03ALMNOS_BAT1', '04IASMOD_G06', '01MARVEL_G02', '01GNPD_U02', '03INGRID_GS2', '05CPPC_U10', '01LIMAY_U01', '05EAUC_U04', '10IDPP_G01', '01SUAL_G01', '02TMOBIL_G01', '11MNRGY_G01', '03SLTEC_G01', '05CPPC_U07', '06PAL2A_U02', '09WMPC_U03', '11PACERM_G01', '12KEGTAN_G01', '03TIWI_A', '03MGI_G02', '10AGUS1_U02']"
   ]
  },
  {
   "cell_type": "markdown",
   "id": "d3af086d-cd77-4074-84fb-33ad2a785fe2",
   "metadata": {},
   "source": [
    "# [Old code, non-tqdm]"
   ]
  },
  {
   "cell_type": "code",
   "execution_count": 5,
   "id": "c8451789-190c-4723-a0f9-01d41ce0e805",
   "metadata": {
    "tags": []
   },
   "outputs": [],
   "source": [
    "# %%time\n",
    "# # Initialize an empty DataFrame to store the consolidated data\n",
    "# consolidated_df = pd.DataFrame()\n",
    "\n",
    "# # Loop through the overall folder, first year, and first month\n",
    "# for year_folder in os.listdir(base_folder):\n",
    "#     year_path = os.path.join(base_folder, year_folder)\n",
    "    \n",
    "#     if os.path.isdir(year_path):\n",
    "#         for month_folder in os.listdir(year_path):\n",
    "#             month_path = os.path.join(year_path, month_folder)\n",
    "            \n",
    "#             if os.path.isdir(month_path):\n",
    "#                 # Initialize an empty DataFrame for the current month\n",
    "#                 month_df = pd.DataFrame()\n",
    "\n",
    "#                 # Loop through hourly CSV files in the current month\n",
    "#                 for file_name in os.listdir(month_path):\n",
    "#                     if file_name.endswith('.csv'):\n",
    "#                         file_path = os.path.join(month_path, file_name)\n",
    "\n",
    "#                         # Read the CSV file\n",
    "#                         current_df = pd.read_csv(file_path)\n",
    "\n",
    "#                         # Filter rows with specific IDs\n",
    "#                         current_df = current_df[current_df['RESOURCE_NAME'].isin(target_ids)]\n",
    "\n",
    "#                         # Concatenate with the month DataFrame\n",
    "#                         month_df = pd.concat([month_df, current_df], ignore_index=True)\n",
    "\n",
    "#                 # Concatenate with the overall DataFrame\n",
    "#                 consolidated_df = pd.concat([consolidated_df, month_df], ignore_index=True)\n",
    "\n",
    "# # Display or further process the consolidated DataFrame\n",
    "# consolidated_df"
   ]
  }
 ],
 "metadata": {
  "kernelspec": {
   "display_name": "Python 3 (ipykernel)",
   "language": "python",
   "name": "python3"
  },
  "language_info": {
   "codemirror_mode": {
    "name": "ipython",
    "version": 3
   },
   "file_extension": ".py",
   "mimetype": "text/x-python",
   "name": "python",
   "nbconvert_exporter": "python",
   "pygments_lexer": "ipython3",
   "version": "3.11.5"
  },
  "widgets": {
   "application/vnd.jupyter.widget-state+json": {
    "state": {
     "01ef2a2b2a81417f93a2ac1bb0cf696a": {
      "model_module": "@jupyter-widgets/base",
      "model_module_version": "2.0.0",
      "model_name": "LayoutModel",
      "state": {}
     },
     "0350cf80c96743de8364ce0b61539623": {
      "model_module": "@jupyter-widgets/controls",
      "model_module_version": "2.0.0",
      "model_name": "HTMLStyleModel",
      "state": {
       "description_width": "",
       "font_size": null,
       "text_color": null
      }
     },
     "03a2831f55554ec0a9d12d8e9e63f660": {
      "model_module": "@jupyter-widgets/controls",
      "model_module_version": "2.0.0",
      "model_name": "HTMLModel",
      "state": {
       "layout": "IPY_MODEL_f1c97fcfc09446e6b1d0a0ffee101109",
       "style": "IPY_MODEL_d0113a73760840a29c03ba5af051b865",
       "value": " 741/744 [00:12&lt;00:00, 56.72it/s]"
      }
     },
     "044b28c188474e33872f980cb25ddc6d": {
      "model_module": "@jupyter-widgets/controls",
      "model_module_version": "2.0.0",
      "model_name": "HTMLStyleModel",
      "state": {
       "description_width": "",
       "font_size": null,
       "text_color": null
      }
     },
     "05547beb131d4fd796d0ba867e577831": {
      "model_module": "@jupyter-widgets/base",
      "model_module_version": "2.0.0",
      "model_name": "LayoutModel",
      "state": {}
     },
     "05a9b92df8614954980d2f6df4f6bac4": {
      "model_module": "@jupyter-widgets/base",
      "model_module_version": "2.0.0",
      "model_name": "LayoutModel",
      "state": {}
     },
     "0602c620b81f440fb73221fe2b551cc3": {
      "model_module": "@jupyter-widgets/controls",
      "model_module_version": "2.0.0",
      "model_name": "HTMLModel",
      "state": {
       "layout": "IPY_MODEL_208ed64af76047628e0880a4db25bb94",
       "style": "IPY_MODEL_3b64dcf8d1e74478a5dae3cf39d11129",
       "value": "Processing CSVs: 100%"
      }
     },
     "06cf711929384f279c99254e5f2597b6": {
      "model_module": "@jupyter-widgets/base",
      "model_module_version": "2.0.0",
      "model_name": "LayoutModel",
      "state": {}
     },
     "07d6860b5b1242c8b5cb6084dfadceb7": {
      "model_module": "@jupyter-widgets/base",
      "model_module_version": "2.0.0",
      "model_name": "LayoutModel",
      "state": {}
     },
     "07e3c100f98f46fb80288a844a34baa6": {
      "model_module": "@jupyter-widgets/base",
      "model_module_version": "2.0.0",
      "model_name": "LayoutModel",
      "state": {}
     },
     "09d6ae843930490bb43a46343b3097e0": {
      "model_module": "@jupyter-widgets/controls",
      "model_module_version": "2.0.0",
      "model_name": "FloatProgressModel",
      "state": {
       "layout": "IPY_MODEL_1113eb9b3af747ae9d469c8d94ac92a2",
       "max": 744,
       "style": "IPY_MODEL_3fbcbc1f370b4e1886f12fc0daca0df1",
       "value": 744
      }
     },
     "09f09863a979430983816326d5e01930": {
      "model_module": "@jupyter-widgets/controls",
      "model_module_version": "2.0.0",
      "model_name": "HTMLStyleModel",
      "state": {
       "description_width": "",
       "font_size": null,
       "text_color": null
      }
     },
     "0a3183d7cc6542e893a9ba631961b67a": {
      "model_module": "@jupyter-widgets/controls",
      "model_module_version": "2.0.0",
      "model_name": "HTMLModel",
      "state": {
       "layout": "IPY_MODEL_b89f0870a48e4ddaa844e03c4274e45d",
       "style": "IPY_MODEL_effb1e9ad8304ac9aa240b45aa7bb7b4",
       "value": " 715/720 [00:12&lt;00:00, 54.71it/s]"
      }
     },
     "0a84851e99674709a2c4be6fd3050782": {
      "model_module": "@jupyter-widgets/controls",
      "model_module_version": "2.0.0",
      "model_name": "HTMLModel",
      "state": {
       "layout": "IPY_MODEL_dcc9b004b63a4de6bc66dd9894480629",
       "style": "IPY_MODEL_2eca7db3b2d34b0f8cb6d925d204f916",
       "value": "Processing CSVs: 100%"
      }
     },
     "0b6ddb6cc9b34452889d3e40fa5d71d7": {
      "model_module": "@jupyter-widgets/base",
      "model_module_version": "2.0.0",
      "model_name": "LayoutModel",
      "state": {
       "visibility": "hidden"
      }
     },
     "0c8ccfc59a274dca899d51330eb91fb5": {
      "model_module": "@jupyter-widgets/controls",
      "model_module_version": "2.0.0",
      "model_name": "HTMLModel",
      "state": {
       "layout": "IPY_MODEL_57fc9ceda9b54d1ea8ef8022f7303016",
       "style": "IPY_MODEL_d89d2da08b8f453ba0b6b36f1c65a1d7",
       "value": "Processing CSVs:  99%"
      }
     },
     "0ca4407b60e84f489cf0541e2df9a0b6": {
      "model_module": "@jupyter-widgets/controls",
      "model_module_version": "2.0.0",
      "model_name": "FloatProgressModel",
      "state": {
       "layout": "IPY_MODEL_b58000d7a11146f8992689f3d24d89fc",
       "max": 720,
       "style": "IPY_MODEL_970f88bbfe954f80adfccfb5694ccea1",
       "value": 720
      }
     },
     "0cd91406135a49b2a2698fc669bcc0bb": {
      "model_module": "@jupyter-widgets/controls",
      "model_module_version": "2.0.0",
      "model_name": "HTMLModel",
      "state": {
       "layout": "IPY_MODEL_30da7cfe8a31489f96292760a40ea086",
       "style": "IPY_MODEL_09f09863a979430983816326d5e01930",
       "value": " 3/3 [05:45&lt;00:00, 119.49s/it]"
      }
     },
     "0d426ee1f3fb4f25aaf43bb6bec8da6e": {
      "model_module": "@jupyter-widgets/base",
      "model_module_version": "2.0.0",
      "model_name": "LayoutModel",
      "state": {}
     },
     "0ddb0b50fac5466c88a39c89bc8a6723": {
      "model_module": "@jupyter-widgets/controls",
      "model_module_version": "2.0.0",
      "model_name": "HTMLModel",
      "state": {
       "layout": "IPY_MODEL_33a7120a14414d6a84f0e641f48b9d58",
       "style": "IPY_MODEL_a27e6af7ce944885be3abb206d4c8de4",
       "value": " 741/744 [00:12&lt;00:00, 56.05it/s]"
      }
     },
     "1113eb9b3af747ae9d469c8d94ac92a2": {
      "model_module": "@jupyter-widgets/base",
      "model_module_version": "2.0.0",
      "model_name": "LayoutModel",
      "state": {}
     },
     "1130d82b071d4e9d8acf41a032736298": {
      "model_module": "@jupyter-widgets/base",
      "model_module_version": "2.0.0",
      "model_name": "LayoutModel",
      "state": {}
     },
     "117f8bc909b5453c8f0084d7baf1b643": {
      "model_module": "@jupyter-widgets/controls",
      "model_module_version": "2.0.0",
      "model_name": "HTMLModel",
      "state": {
       "layout": "IPY_MODEL_9791609a5ab74d7894cab56c328ed559",
       "style": "IPY_MODEL_7bae3dca4fdd4214b20a33af3384c934",
       "value": " 741/744 [00:13&lt;00:00, 47.24it/s]"
      }
     },
     "12662e6f3b51417db7b3b57ce447bb77": {
      "model_module": "@jupyter-widgets/controls",
      "model_module_version": "2.0.0",
      "model_name": "HTMLStyleModel",
      "state": {
       "description_width": "",
       "font_size": null,
       "text_color": null
      }
     },
     "1345af84dee44f04abe161cd6990fe37": {
      "model_module": "@jupyter-widgets/base",
      "model_module_version": "2.0.0",
      "model_name": "LayoutModel",
      "state": {}
     },
     "1454f1402fa74cb3a722d5f00a47e909": {
      "model_module": "@jupyter-widgets/controls",
      "model_module_version": "2.0.0",
      "model_name": "HTMLStyleModel",
      "state": {
       "description_width": "",
       "font_size": null,
       "text_color": null
      }
     },
     "164bb77293cd4210957a316092c07102": {
      "model_module": "@jupyter-widgets/controls",
      "model_module_version": "2.0.0",
      "model_name": "HTMLModel",
      "state": {
       "layout": "IPY_MODEL_4083e677e0d54120b51ff98e936f2c6a",
       "style": "IPY_MODEL_5828b2fec3f249c78b5cb8fbef0d0b6c",
       "value": "Processing CSVs:  99%"
      }
     },
     "191210a386e54c949a9e9dde0fef3f52": {
      "model_module": "@jupyter-widgets/controls",
      "model_module_version": "2.0.0",
      "model_name": "HTMLModel",
      "state": {
       "layout": "IPY_MODEL_8ce9030fa653491f9d533f3db7f725a5",
       "style": "IPY_MODEL_e5a44080a87c491d98d78970b35f540a",
       "value": " 743/744 [00:12&lt;00:00, 56.58it/s]"
      }
     },
     "1a00d29d7170421ea1ff047e6aea34a4": {
      "model_module": "@jupyter-widgets/controls",
      "model_module_version": "2.0.0",
      "model_name": "ProgressStyleModel",
      "state": {
       "description_width": ""
      }
     },
     "1a1124e56fe440149408b44a626ba740": {
      "model_module": "@jupyter-widgets/controls",
      "model_module_version": "2.0.0",
      "model_name": "HTMLStyleModel",
      "state": {
       "description_width": "",
       "font_size": null,
       "text_color": null
      }
     },
     "1add704cf76040c7bc3e38c6cbb19c1c": {
      "model_module": "@jupyter-widgets/base",
      "model_module_version": "2.0.0",
      "model_name": "LayoutModel",
      "state": {
       "visibility": "hidden"
      }
     },
     "1c1715847ef44f8aba7a1f37fe5c0987": {
      "model_module": "@jupyter-widgets/controls",
      "model_module_version": "2.0.0",
      "model_name": "ProgressStyleModel",
      "state": {
       "description_width": ""
      }
     },
     "1c3764d9d1554f1fba428297b2fb337f": {
      "model_module": "@jupyter-widgets/base",
      "model_module_version": "2.0.0",
      "model_name": "LayoutModel",
      "state": {}
     },
     "1da04beff09b4e1b9a743dc45841526a": {
      "model_module": "@jupyter-widgets/controls",
      "model_module_version": "2.0.0",
      "model_name": "HTMLModel",
      "state": {
       "layout": "IPY_MODEL_cd5ff25e0ede47ebbfe3bcf09673ac71",
       "style": "IPY_MODEL_044b28c188474e33872f980cb25ddc6d",
       "value": "Processing CSVs: 100%"
      }
     },
     "1e419fc0fd884bb1b2d9001087642bf1": {
      "model_module": "@jupyter-widgets/controls",
      "model_module_version": "2.0.0",
      "model_name": "HTMLModel",
      "state": {
       "layout": "IPY_MODEL_c705c9c40f0f40338899620bfea64921",
       "style": "IPY_MODEL_12662e6f3b51417db7b3b57ce447bb77",
       "value": " 720/720 [00:12&lt;00:00, 54.92it/s]"
      }
     },
     "1e87ac580b6f40429529a7c35c53f4f0": {
      "model_module": "@jupyter-widgets/controls",
      "model_module_version": "2.0.0",
      "model_name": "FloatProgressModel",
      "state": {
       "layout": "IPY_MODEL_bc84fb37da9a44768a16450a512d9c31",
       "max": 744,
       "style": "IPY_MODEL_477cd8a705b54550ba729e5b81ce81e0",
       "value": 744
      }
     },
     "208ed64af76047628e0880a4db25bb94": {
      "model_module": "@jupyter-widgets/base",
      "model_module_version": "2.0.0",
      "model_name": "LayoutModel",
      "state": {}
     },
     "209e3075fe414dfa95514f3b1bf3d026": {
      "model_module": "@jupyter-widgets/controls",
      "model_module_version": "2.0.0",
      "model_name": "ProgressStyleModel",
      "state": {
       "description_width": ""
      }
     },
     "2155ee9aaeae4957a263d38737ec681f": {
      "model_module": "@jupyter-widgets/controls",
      "model_module_version": "2.0.0",
      "model_name": "HTMLStyleModel",
      "state": {
       "description_width": "",
       "font_size": null,
       "text_color": null
      }
     },
     "21cd10a9820e495895e8bfa1bf17765d": {
      "model_module": "@jupyter-widgets/controls",
      "model_module_version": "2.0.0",
      "model_name": "ProgressStyleModel",
      "state": {
       "description_width": ""
      }
     },
     "237f4ef2d4c7403f9c0a4ef62937c453": {
      "model_module": "@jupyter-widgets/controls",
      "model_module_version": "2.0.0",
      "model_name": "HTMLModel",
      "state": {
       "layout": "IPY_MODEL_62a6f79fb7004a2f841f60c37df3d8c7",
       "style": "IPY_MODEL_ace02cafbd8445f3a2a49fafd5232ecf",
       "value": " 740/744 [00:13&lt;00:00, 47.58it/s]"
      }
     },
     "2520bb98efff4b6c8638e438a7dd38a6": {
      "model_module": "@jupyter-widgets/base",
      "model_module_version": "2.0.0",
      "model_name": "LayoutModel",
      "state": {}
     },
     "25845f4840ba40d785ca808665797d51": {
      "model_module": "@jupyter-widgets/controls",
      "model_module_version": "2.0.0",
      "model_name": "HTMLModel",
      "state": {
       "layout": "IPY_MODEL_b0cda921f6994b489e5f9f5572c3aedf",
       "style": "IPY_MODEL_46452f94cf5c499098544fa58b2fa601",
       "value": " 714/720 [00:12&lt;00:00, 50.19it/s]"
      }
     },
     "259dbeffa58f468fae6d5859e2e2b88d": {
      "model_module": "@jupyter-widgets/controls",
      "model_module_version": "2.0.0",
      "model_name": "HTMLModel",
      "state": {
       "layout": "IPY_MODEL_f6cb6624014b40c88dc413fb8b2ae118",
       "style": "IPY_MODEL_f086a189089346429e7db4a4f891a8cf",
       "value": " 718/720 [00:12&lt;00:00, 54.66it/s]"
      }
     },
     "2847498b4fa448e2af37ff37b149674e": {
      "model_module": "@jupyter-widgets/controls",
      "model_module_version": "2.0.0",
      "model_name": "HTMLStyleModel",
      "state": {
       "description_width": "",
       "font_size": null,
       "text_color": null
      }
     },
     "28e13b595d1843c8b1e61741ce29cfdf": {
      "model_module": "@jupyter-widgets/controls",
      "model_module_version": "2.0.0",
      "model_name": "HTMLModel",
      "state": {
       "layout": "IPY_MODEL_fabae1e5667b48ec970526a8aa068487",
       "style": "IPY_MODEL_37dbb6588edd43829f1f04743c217e94",
       "value": " 715/720 [00:12&lt;00:00, 53.87it/s]"
      }
     },
     "29c9e5b5ab7f4feb87edfd9538b36db6": {
      "model_module": "@jupyter-widgets/controls",
      "model_module_version": "2.0.0",
      "model_name": "FloatProgressModel",
      "state": {
       "layout": "IPY_MODEL_3310d052176749fc97d98459bbf410c2",
       "max": 720,
       "style": "IPY_MODEL_5662a558dc224c75bb2475a56d3a60d5",
       "value": 720
      }
     },
     "2a4ace07cef6491984d9a89c9305f07f": {
      "model_module": "@jupyter-widgets/controls",
      "model_module_version": "2.0.0",
      "model_name": "HTMLModel",
      "state": {
       "layout": "IPY_MODEL_fa2cb0998f6d4b90a7b07539e61a0d96",
       "style": "IPY_MODEL_a3e06b67fc224909aa8d8f1d8b1e4fa5",
       "value": " 738/744 [00:12&lt;00:00, 60.90it/s]"
      }
     },
     "2a993a16844348a29659b3b5d726d825": {
      "model_module": "@jupyter-widgets/controls",
      "model_module_version": "2.0.0",
      "model_name": "FloatProgressModel",
      "state": {
       "layout": "IPY_MODEL_ceb318d701c54d46a208ae5c23dcfa7a",
       "max": 720,
       "style": "IPY_MODEL_b36675c060db496eb311d3c41d58eefb",
       "value": 720
      }
     },
     "2ad6482873394af68f3d649677e81482": {
      "model_module": "@jupyter-widgets/controls",
      "model_module_version": "2.0.0",
      "model_name": "HTMLModel",
      "state": {
       "layout": "IPY_MODEL_ab4dfaa58fff465887ed996f4724d72a",
       "style": "IPY_MODEL_dd5f3f07f98e49da8ebe532cbf95bc64",
       "value": "Processing CSVs:  99%"
      }
     },
     "2b31ca02a55e46b4bad7147b79ac2ed6": {
      "model_module": "@jupyter-widgets/controls",
      "model_module_version": "2.0.0",
      "model_name": "HTMLStyleModel",
      "state": {
       "description_width": "",
       "font_size": null,
       "text_color": null
      }
     },
     "2cee915075b04c1a8cd9ef43b7526f68": {
      "model_module": "@jupyter-widgets/base",
      "model_module_version": "2.0.0",
      "model_name": "LayoutModel",
      "state": {}
     },
     "2eca7db3b2d34b0f8cb6d925d204f916": {
      "model_module": "@jupyter-widgets/controls",
      "model_module_version": "2.0.0",
      "model_name": "HTMLStyleModel",
      "state": {
       "description_width": "",
       "font_size": null,
       "text_color": null
      }
     },
     "2f80b5eed26e42b6a5415d3fdae8a73d": {
      "model_module": "@jupyter-widgets/controls",
      "model_module_version": "2.0.0",
      "model_name": "HTMLModel",
      "state": {
       "layout": "IPY_MODEL_c9fc8d5cb1c940ed8bec9026e854ebc0",
       "style": "IPY_MODEL_6e83e9588c3f4ce9a1fb8e647ee1eabd",
       "value": " 743/744 [00:13&lt;00:00, 54.10it/s]"
      }
     },
     "3029a5e60ab846609a2e4dc831ddd1f0": {
      "model_module": "@jupyter-widgets/controls",
      "model_module_version": "2.0.0",
      "model_name": "HTMLStyleModel",
      "state": {
       "description_width": "",
       "font_size": null,
       "text_color": null
      }
     },
     "3094d600ab1d48f6976eed29f91b95ce": {
      "model_module": "@jupyter-widgets/controls",
      "model_module_version": "2.0.0",
      "model_name": "ProgressStyleModel",
      "state": {
       "description_width": ""
      }
     },
     "30bae3842e394aba8a2a587f78944a41": {
      "model_module": "@jupyter-widgets/base",
      "model_module_version": "2.0.0",
      "model_name": "LayoutModel",
      "state": {
       "visibility": "hidden"
      }
     },
     "30da7cfe8a31489f96292760a40ea086": {
      "model_module": "@jupyter-widgets/base",
      "model_module_version": "2.0.0",
      "model_name": "LayoutModel",
      "state": {}
     },
     "3310d052176749fc97d98459bbf410c2": {
      "model_module": "@jupyter-widgets/base",
      "model_module_version": "2.0.0",
      "model_name": "LayoutModel",
      "state": {}
     },
     "3313d67bad7642d6951c24bb04b8af96": {
      "model_module": "@jupyter-widgets/controls",
      "model_module_version": "2.0.0",
      "model_name": "ProgressStyleModel",
      "state": {
       "description_width": ""
      }
     },
     "336e1e55d0e04c27bdf4b6b849df7985": {
      "model_module": "@jupyter-widgets/controls",
      "model_module_version": "2.0.0",
      "model_name": "HTMLStyleModel",
      "state": {
       "description_width": "",
       "font_size": null,
       "text_color": null
      }
     },
     "337150e194124539a0330b4336ca4d5a": {
      "model_module": "@jupyter-widgets/base",
      "model_module_version": "2.0.0",
      "model_name": "LayoutModel",
      "state": {}
     },
     "33a7120a14414d6a84f0e641f48b9d58": {
      "model_module": "@jupyter-widgets/base",
      "model_module_version": "2.0.0",
      "model_name": "LayoutModel",
      "state": {}
     },
     "33cb0c54b18b43bf87733c421277dd2b": {
      "model_module": "@jupyter-widgets/base",
      "model_module_version": "2.0.0",
      "model_name": "LayoutModel",
      "state": {}
     },
     "3613d4d9d5cf47239589867ab9e30486": {
      "model_module": "@jupyter-widgets/base",
      "model_module_version": "2.0.0",
      "model_name": "LayoutModel",
      "state": {}
     },
     "36291794b3c5476db10b4ff27731b601": {
      "model_module": "@jupyter-widgets/controls",
      "model_module_version": "2.0.0",
      "model_name": "ProgressStyleModel",
      "state": {
       "description_width": ""
      }
     },
     "3795bf7d9a9041c99e19180e66ae477c": {
      "model_module": "@jupyter-widgets/base",
      "model_module_version": "2.0.0",
      "model_name": "LayoutModel",
      "state": {}
     },
     "37dbb6588edd43829f1f04743c217e94": {
      "model_module": "@jupyter-widgets/controls",
      "model_module_version": "2.0.0",
      "model_name": "HTMLStyleModel",
      "state": {
       "description_width": "",
       "font_size": null,
       "text_color": null
      }
     },
     "37f083ec8f0a4511a174696ede908c36": {
      "model_module": "@jupyter-widgets/controls",
      "model_module_version": "2.0.0",
      "model_name": "HTMLModel",
      "state": {
       "layout": "IPY_MODEL_5367a27224d74e7f8ab9fe6c75a896ab",
       "style": "IPY_MODEL_336e1e55d0e04c27bdf4b6b849df7985",
       "value": "Processing CSVs:  99%"
      }
     },
     "381909ec68d34cc2864420fcc2b21317": {
      "model_module": "@jupyter-widgets/base",
      "model_module_version": "2.0.0",
      "model_name": "LayoutModel",
      "state": {}
     },
     "396287b118be48a0b7f086c440092e71": {
      "model_module": "@jupyter-widgets/controls",
      "model_module_version": "2.0.0",
      "model_name": "HTMLModel",
      "state": {
       "layout": "IPY_MODEL_8498f7c5f82b4862bbd5691bf27e21fe",
       "style": "IPY_MODEL_b8447b8e35c44e83aab647f840bc310d",
       "value": " 744/744 [00:12&lt;00:00, 53.44it/s]"
      }
     },
     "39a22e4ca1274b738a0d60d12f6f779c": {
      "model_module": "@jupyter-widgets/base",
      "model_module_version": "2.0.0",
      "model_name": "LayoutModel",
      "state": {}
     },
     "3a1b908eff7b4b7caf04344ab904a7fe": {
      "model_module": "@jupyter-widgets/base",
      "model_module_version": "2.0.0",
      "model_name": "LayoutModel",
      "state": {
       "visibility": "hidden"
      }
     },
     "3aaf87dd028a4dfdb354c626fa23dcea": {
      "model_module": "@jupyter-widgets/controls",
      "model_module_version": "2.0.0",
      "model_name": "ProgressStyleModel",
      "state": {
       "description_width": ""
      }
     },
     "3b64dcf8d1e74478a5dae3cf39d11129": {
      "model_module": "@jupyter-widgets/controls",
      "model_module_version": "2.0.0",
      "model_name": "HTMLStyleModel",
      "state": {
       "description_width": "",
       "font_size": null,
       "text_color": null
      }
     },
     "3b69e2a365414c4bbab4e2869ceca3c9": {
      "model_module": "@jupyter-widgets/base",
      "model_module_version": "2.0.0",
      "model_name": "LayoutModel",
      "state": {}
     },
     "3d42d56dcafb4991800712befd3c9b2c": {
      "model_module": "@jupyter-widgets/controls",
      "model_module_version": "2.0.0",
      "model_name": "FloatProgressModel",
      "state": {
       "layout": "IPY_MODEL_a130e99ffe374ce1b56bc4dbbf37c88d",
       "max": 744,
       "style": "IPY_MODEL_42e237f0c0ac457595a60319e9c38188",
       "value": 744
      }
     },
     "3fb99110b0ad47f8ba623d6129fcf595": {
      "model_module": "@jupyter-widgets/base",
      "model_module_version": "2.0.0",
      "model_name": "LayoutModel",
      "state": {}
     },
     "3fbcbc1f370b4e1886f12fc0daca0df1": {
      "model_module": "@jupyter-widgets/controls",
      "model_module_version": "2.0.0",
      "model_name": "ProgressStyleModel",
      "state": {
       "description_width": ""
      }
     },
     "4073a2cce34240cb83dd1a32bdca5807": {
      "model_module": "@jupyter-widgets/controls",
      "model_module_version": "2.0.0",
      "model_name": "HTMLModel",
      "state": {
       "layout": "IPY_MODEL_b3fd00072a9c4cf5a2a572cd9b298173",
       "style": "IPY_MODEL_b57cedea571d44de9cbadf05fb218573",
       "value": " 741/744 [00:12&lt;00:00, 47.84it/s]"
      }
     },
     "4083e677e0d54120b51ff98e936f2c6a": {
      "model_module": "@jupyter-widgets/base",
      "model_module_version": "2.0.0",
      "model_name": "LayoutModel",
      "state": {}
     },
     "40e5fbbd73054691bf4130178925564b": {
      "model_module": "@jupyter-widgets/controls",
      "model_module_version": "2.0.0",
      "model_name": "HTMLStyleModel",
      "state": {
       "description_width": "",
       "font_size": null,
       "text_color": null
      }
     },
     "41ee913c71a344fdb29f96e968a565ba": {
      "model_module": "@jupyter-widgets/base",
      "model_module_version": "2.0.0",
      "model_name": "LayoutModel",
      "state": {}
     },
     "42e237f0c0ac457595a60319e9c38188": {
      "model_module": "@jupyter-widgets/controls",
      "model_module_version": "2.0.0",
      "model_name": "ProgressStyleModel",
      "state": {
       "description_width": ""
      }
     },
     "46452f94cf5c499098544fa58b2fa601": {
      "model_module": "@jupyter-widgets/controls",
      "model_module_version": "2.0.0",
      "model_name": "HTMLStyleModel",
      "state": {
       "description_width": "",
       "font_size": null,
       "text_color": null
      }
     },
     "46cf71bc376f437ba3c1d42a10d21060": {
      "model_module": "@jupyter-widgets/controls",
      "model_module_version": "2.0.0",
      "model_name": "HTMLModel",
      "state": {
       "layout": "IPY_MODEL_b4e50e3a472b4266bba216f3f4001e66",
       "style": "IPY_MODEL_1454f1402fa74cb3a722d5f00a47e909",
       "value": " 717/720 [00:12&lt;00:00, 60.32it/s]"
      }
     },
     "477cd8a705b54550ba729e5b81ce81e0": {
      "model_module": "@jupyter-widgets/controls",
      "model_module_version": "2.0.0",
      "model_name": "ProgressStyleModel",
      "state": {
       "description_width": ""
      }
     },
     "4796c9bff0034b99afad9f41058421a5": {
      "model_module": "@jupyter-widgets/base",
      "model_module_version": "2.0.0",
      "model_name": "LayoutModel",
      "state": {}
     },
     "48c4d0e9eabb4636ad0a38aa55fe6d98": {
      "model_module": "@jupyter-widgets/controls",
      "model_module_version": "2.0.0",
      "model_name": "HTMLModel",
      "state": {
       "layout": "IPY_MODEL_d06a05962757447ba26200013e334c1d",
       "style": "IPY_MODEL_fff32d4eb36f4e5a93cb08742a87b6c4",
       "value": "Processing CSVs: 100%"
      }
     },
     "49e609e1eb794261a9edfa2b637bd4ea": {
      "model_module": "@jupyter-widgets/controls",
      "model_module_version": "2.0.0",
      "model_name": "HTMLStyleModel",
      "state": {
       "description_width": "",
       "font_size": null,
       "text_color": null
      }
     },
     "4ba815ad57bc4fcb892e2660fabab1b6": {
      "model_module": "@jupyter-widgets/controls",
      "model_module_version": "2.0.0",
      "model_name": "FloatProgressModel",
      "state": {
       "layout": "IPY_MODEL_62fb4b3e8e5348c9b7968527674df454",
       "max": 744,
       "style": "IPY_MODEL_21cd10a9820e495895e8bfa1bf17765d",
       "value": 744
      }
     },
     "4ba92640e1da427a8208ef97f1a954fe": {
      "model_module": "@jupyter-widgets/controls",
      "model_module_version": "2.0.0",
      "model_name": "HTMLStyleModel",
      "state": {
       "description_width": "",
       "font_size": null,
       "text_color": null
      }
     },
     "4e92d7639cbf4f1aa8a001dc72970d9c": {
      "model_module": "@jupyter-widgets/controls",
      "model_module_version": "2.0.0",
      "model_name": "FloatProgressModel",
      "state": {
       "layout": "IPY_MODEL_d6a761aff40e46ec841d0f7038398c52",
       "max": 744,
       "style": "IPY_MODEL_5230c72d7a4045d28318a30a5c540173",
       "value": 744
      }
     },
     "4ea6922975934daa90eef2c06e842536": {
      "model_module": "@jupyter-widgets/controls",
      "model_module_version": "2.0.0",
      "model_name": "HTMLModel",
      "state": {
       "layout": "IPY_MODEL_f1eb7ca1cae04fc9b4737b6bdc52a272",
       "style": "IPY_MODEL_4ba92640e1da427a8208ef97f1a954fe",
       "value": "Processing Months: 100%"
      }
     },
     "4ed0ef5fa5804e2fbac52c9afce65a02": {
      "model_module": "@jupyter-widgets/controls",
      "model_module_version": "2.0.0",
      "model_name": "FloatProgressModel",
      "state": {
       "layout": "IPY_MODEL_39a22e4ca1274b738a0d60d12f6f779c",
       "max": 9,
       "style": "IPY_MODEL_b47aad21196f4bbf8211bcea485f9765",
       "value": 9
      }
     },
     "50cbc6f8227845ff837efd91b2689ad3": {
      "model_module": "@jupyter-widgets/base",
      "model_module_version": "2.0.0",
      "model_name": "LayoutModel",
      "state": {}
     },
     "51890183a7174e8ea7340a97f2575291": {
      "model_module": "@jupyter-widgets/controls",
      "model_module_version": "2.0.0",
      "model_name": "HTMLModel",
      "state": {
       "layout": "IPY_MODEL_05547beb131d4fd796d0ba867e577831",
       "style": "IPY_MODEL_8332981a2385468fad57fb8a5f9fc9e1",
       "value": " 716/720 [00:12&lt;00:00, 56.52it/s]"
      }
     },
     "5230c72d7a4045d28318a30a5c540173": {
      "model_module": "@jupyter-widgets/controls",
      "model_module_version": "2.0.0",
      "model_name": "ProgressStyleModel",
      "state": {
       "description_width": ""
      }
     },
     "5367a27224d74e7f8ab9fe6c75a896ab": {
      "model_module": "@jupyter-widgets/base",
      "model_module_version": "2.0.0",
      "model_name": "LayoutModel",
      "state": {}
     },
     "53eedb8dda22498a81191767bbb82523": {
      "model_module": "@jupyter-widgets/controls",
      "model_module_version": "2.0.0",
      "model_name": "HTMLModel",
      "state": {
       "layout": "IPY_MODEL_910ba6c426eb4850a7a9f053922efd27",
       "style": "IPY_MODEL_59ae891d01f24430b28e650f5b7a59d3",
       "value": " 9/9 [01:59&lt;00:00, 13.40s/it]"
      }
     },
     "55482e37cd4740e2be5ab3f037dd19a2": {
      "model_module": "@jupyter-widgets/controls",
      "model_module_version": "2.0.0",
      "model_name": "HTMLModel",
      "state": {
       "layout": "IPY_MODEL_83ef466febe647789c716950555637d8",
       "style": "IPY_MODEL_8344dd12d2964833ac62699b4c932cfd",
       "value": "Processing CSVs: 100%"
      }
     },
     "55a49ae1342e4ad2aa9e52217405d5ec": {
      "model_module": "@jupyter-widgets/base",
      "model_module_version": "2.0.0",
      "model_name": "LayoutModel",
      "state": {
       "visibility": "hidden"
      }
     },
     "55d5a928fb9d4ad0891fcc01c3c4d863": {
      "model_module": "@jupyter-widgets/base",
      "model_module_version": "2.0.0",
      "model_name": "LayoutModel",
      "state": {
       "visibility": "hidden"
      }
     },
     "5662a558dc224c75bb2475a56d3a60d5": {
      "model_module": "@jupyter-widgets/controls",
      "model_module_version": "2.0.0",
      "model_name": "ProgressStyleModel",
      "state": {
       "description_width": ""
      }
     },
     "5725b55a0cbc44adb5ef97114d0f9af4": {
      "model_module": "@jupyter-widgets/controls",
      "model_module_version": "2.0.0",
      "model_name": "HTMLStyleModel",
      "state": {
       "description_width": "",
       "font_size": null,
       "text_color": null
      }
     },
     "57f1330a85964004b88a1a38492f6723": {
      "model_module": "@jupyter-widgets/controls",
      "model_module_version": "2.0.0",
      "model_name": "HTMLModel",
      "state": {
       "layout": "IPY_MODEL_1130d82b071d4e9d8acf41a032736298",
       "style": "IPY_MODEL_40e5fbbd73054691bf4130178925564b",
       "value": "Processing CSVs:  99%"
      }
     },
     "57fc9ceda9b54d1ea8ef8022f7303016": {
      "model_module": "@jupyter-widgets/base",
      "model_module_version": "2.0.0",
      "model_name": "LayoutModel",
      "state": {}
     },
     "5814e9aa379a47d7b8d9b543e81937ff": {
      "model_module": "@jupyter-widgets/controls",
      "model_module_version": "2.0.0",
      "model_name": "HTMLModel",
      "state": {
       "layout": "IPY_MODEL_c8e4ad0ceddb47b7b8d1561a75f7cd88",
       "style": "IPY_MODEL_b874ea36ccc2405ea626cb17eb51387f",
       "value": "Processing Months: 100%"
      }
     },
     "5828b2fec3f249c78b5cb8fbef0d0b6c": {
      "model_module": "@jupyter-widgets/controls",
      "model_module_version": "2.0.0",
      "model_name": "HTMLStyleModel",
      "state": {
       "description_width": "",
       "font_size": null,
       "text_color": null
      }
     },
     "587bdfdb7e894051bd3678e677685eb6": {
      "model_module": "@jupyter-widgets/base",
      "model_module_version": "2.0.0",
      "model_name": "LayoutModel",
      "state": {
       "visibility": "hidden"
      }
     },
     "59ae891d01f24430b28e650f5b7a59d3": {
      "model_module": "@jupyter-widgets/controls",
      "model_module_version": "2.0.0",
      "model_name": "HTMLStyleModel",
      "state": {
       "description_width": "",
       "font_size": null,
       "text_color": null
      }
     },
     "5a27facbb97742849807b9258d087d91": {
      "model_module": "@jupyter-widgets/base",
      "model_module_version": "2.0.0",
      "model_name": "LayoutModel",
      "state": {}
     },
     "5aa7c2a45280438e84df245545be0f00": {
      "model_module": "@jupyter-widgets/base",
      "model_module_version": "2.0.0",
      "model_name": "LayoutModel",
      "state": {}
     },
     "5b851e67137444c383f7af5611bd42eb": {
      "model_module": "@jupyter-widgets/controls",
      "model_module_version": "2.0.0",
      "model_name": "HTMLModel",
      "state": {
       "layout": "IPY_MODEL_7c5ce1e90999423eb9b094e4fe020df9",
       "style": "IPY_MODEL_5cacae733c32436da19a7caccba70a9b",
       "value": "Processing CSVs: 100%"
      }
     },
     "5cacae733c32436da19a7caccba70a9b": {
      "model_module": "@jupyter-widgets/controls",
      "model_module_version": "2.0.0",
      "model_name": "HTMLStyleModel",
      "state": {
       "description_width": "",
       "font_size": null,
       "text_color": null
      }
     },
     "5db756d2c77f464a81d2ee02a699e57f": {
      "model_module": "@jupyter-widgets/base",
      "model_module_version": "2.0.0",
      "model_name": "LayoutModel",
      "state": {}
     },
     "617348fca95444ccae584d60cd9e9800": {
      "model_module": "@jupyter-widgets/base",
      "model_module_version": "2.0.0",
      "model_name": "LayoutModel",
      "state": {}
     },
     "62a6f79fb7004a2f841f60c37df3d8c7": {
      "model_module": "@jupyter-widgets/base",
      "model_module_version": "2.0.0",
      "model_name": "LayoutModel",
      "state": {}
     },
     "62fb4b3e8e5348c9b7968527674df454": {
      "model_module": "@jupyter-widgets/base",
      "model_module_version": "2.0.0",
      "model_name": "LayoutModel",
      "state": {}
     },
     "632b911ad2c6453084c576afd29faf51": {
      "model_module": "@jupyter-widgets/controls",
      "model_module_version": "2.0.0",
      "model_name": "HTMLStyleModel",
      "state": {
       "description_width": "",
       "font_size": null,
       "text_color": null
      }
     },
     "6585128acd0e492aa0cdff1061681a8e": {
      "model_module": "@jupyter-widgets/controls",
      "model_module_version": "2.0.0",
      "model_name": "FloatProgressModel",
      "state": {
       "layout": "IPY_MODEL_a9502774c1b84a8399fde1a24ef84d9c",
       "max": 6,
       "style": "IPY_MODEL_a156707718144c1e9b67e59438abdeea",
       "value": 6
      }
     },
     "65d13027a5314c9aaca416b13550fbe5": {
      "model_module": "@jupyter-widgets/controls",
      "model_module_version": "2.0.0",
      "model_name": "HTMLModel",
      "state": {
       "layout": "IPY_MODEL_617348fca95444ccae584d60cd9e9800",
       "style": "IPY_MODEL_a1ef21ebe7fe48acbdd1b4c1c16a555e",
       "value": " 741/744 [00:13&lt;00:00, 52.16it/s]"
      }
     },
     "6686b2e8743f4a43b0a79606517b13b6": {
      "model_module": "@jupyter-widgets/controls",
      "model_module_version": "2.0.0",
      "model_name": "HTMLModel",
      "state": {
       "layout": "IPY_MODEL_dcc64777da2d4346b4ca6afa303de483",
       "style": "IPY_MODEL_6a9805b488284ef08c58afc08fda8554",
       "value": "Processing CSVs:  99%"
      }
     },
     "699501e55f5b4e87951b17c9e1b49cf1": {
      "model_module": "@jupyter-widgets/controls",
      "model_module_version": "2.0.0",
      "model_name": "HTMLModel",
      "state": {
       "layout": "IPY_MODEL_d74cd5a6feca4988bae7f753e21f7bf6",
       "style": "IPY_MODEL_0350cf80c96743de8364ce0b61539623",
       "value": " 715/720 [00:12&lt;00:00, 49.83it/s]"
      }
     },
     "6a9805b488284ef08c58afc08fda8554": {
      "model_module": "@jupyter-widgets/controls",
      "model_module_version": "2.0.0",
      "model_name": "HTMLStyleModel",
      "state": {
       "description_width": "",
       "font_size": null,
       "text_color": null
      }
     },
     "6b78e7c19d624a14946f57846875801c": {
      "model_module": "@jupyter-widgets/controls",
      "model_module_version": "2.0.0",
      "model_name": "HTMLStyleModel",
      "state": {
       "description_width": "",
       "font_size": null,
       "text_color": null
      }
     },
     "6d56154b9b454ce498c399eab9d23070": {
      "model_module": "@jupyter-widgets/controls",
      "model_module_version": "2.0.0",
      "model_name": "HTMLStyleModel",
      "state": {
       "description_width": "",
       "font_size": null,
       "text_color": null
      }
     },
     "6d633ad982e14e48aceb8eb690c712a0": {
      "model_module": "@jupyter-widgets/base",
      "model_module_version": "2.0.0",
      "model_name": "LayoutModel",
      "state": {
       "visibility": "hidden"
      }
     },
     "6e83e9588c3f4ce9a1fb8e647ee1eabd": {
      "model_module": "@jupyter-widgets/controls",
      "model_module_version": "2.0.0",
      "model_name": "HTMLStyleModel",
      "state": {
       "description_width": "",
       "font_size": null,
       "text_color": null
      }
     },
     "70ac5adbe3544ac392369597ca6466a0": {
      "model_module": "@jupyter-widgets/base",
      "model_module_version": "2.0.0",
      "model_name": "LayoutModel",
      "state": {}
     },
     "723e1e5a88f343329c049a621a23f416": {
      "model_module": "@jupyter-widgets/base",
      "model_module_version": "2.0.0",
      "model_name": "LayoutModel",
      "state": {
       "visibility": "hidden"
      }
     },
     "736444f9a28742179b55a67596a1ed9e": {
      "model_module": "@jupyter-widgets/controls",
      "model_module_version": "2.0.0",
      "model_name": "HTMLModel",
      "state": {
       "layout": "IPY_MODEL_f765a43877c147a8a36a994891835fd8",
       "style": "IPY_MODEL_e2449ae241e44471a1e493b33a8b3d05",
       "value": "Processing CSVs: 100%"
      }
     },
     "74f8969f178b41deb055b96199e81cb4": {
      "model_module": "@jupyter-widgets/controls",
      "model_module_version": "2.0.0",
      "model_name": "HTMLModel",
      "state": {
       "layout": "IPY_MODEL_8708af7100bf4bba97bbfcc55bc5481a",
       "style": "IPY_MODEL_2b31ca02a55e46b4bad7147b79ac2ed6",
       "value": "Processing CSVs:  99%"
      }
     },
     "773d6a6fb7f842a5a2dde8a407ef3229": {
      "model_module": "@jupyter-widgets/controls",
      "model_module_version": "2.0.0",
      "model_name": "FloatProgressModel",
      "state": {
       "layout": "IPY_MODEL_8961ee8ca5ea4ac7a40397d72c162840",
       "max": 744,
       "style": "IPY_MODEL_7b90c747ad754be9bc0e1dd0a07d4d64",
       "value": 744
      }
     },
     "781c30dbebd64f56b08f615296eaf885": {
      "model_module": "@jupyter-widgets/controls",
      "model_module_version": "2.0.0",
      "model_name": "HTMLModel",
      "state": {
       "layout": "IPY_MODEL_fd4acdea28da49f5b373a8d6ee2e830c",
       "style": "IPY_MODEL_b5558085f2044d5e9ebbbeb4fa0fe7f2",
       "value": "Processing CSVs: 100%"
      }
     },
     "7b2ff61685024ec9926563e7703f98a5": {
      "model_module": "@jupyter-widgets/base",
      "model_module_version": "2.0.0",
      "model_name": "LayoutModel",
      "state": {}
     },
     "7b90c747ad754be9bc0e1dd0a07d4d64": {
      "model_module": "@jupyter-widgets/controls",
      "model_module_version": "2.0.0",
      "model_name": "ProgressStyleModel",
      "state": {
       "description_width": ""
      }
     },
     "7ba15f4e77ab46928d6e78aa8ee7a0da": {
      "model_module": "@jupyter-widgets/controls",
      "model_module_version": "2.0.0",
      "model_name": "HTMLModel",
      "state": {
       "layout": "IPY_MODEL_0d426ee1f3fb4f25aaf43bb6bec8da6e",
       "style": "IPY_MODEL_a9bd4dab46a54300816c853c05e3e591",
       "value": " 740/744 [00:12&lt;00:00, 57.55it/s]"
      }
     },
     "7bae3dca4fdd4214b20a33af3384c934": {
      "model_module": "@jupyter-widgets/controls",
      "model_module_version": "2.0.0",
      "model_name": "HTMLStyleModel",
      "state": {
       "description_width": "",
       "font_size": null,
       "text_color": null
      }
     },
     "7c5ce1e90999423eb9b094e4fe020df9": {
      "model_module": "@jupyter-widgets/base",
      "model_module_version": "2.0.0",
      "model_name": "LayoutModel",
      "state": {}
     },
     "80ed8b47b42b4d73b69f1bd66f8fc077": {
      "model_module": "@jupyter-widgets/controls",
      "model_module_version": "2.0.0",
      "model_name": "HTMLStyleModel",
      "state": {
       "description_width": "",
       "font_size": null,
       "text_color": null
      }
     },
     "8220d09cc3d74affa9e45b79f0c30817": {
      "model_module": "@jupyter-widgets/controls",
      "model_module_version": "2.0.0",
      "model_name": "FloatProgressModel",
      "state": {
       "layout": "IPY_MODEL_8e6f7c892d7849f5b458f4c79d259b52",
       "max": 744,
       "style": "IPY_MODEL_1a00d29d7170421ea1ff047e6aea34a4",
       "value": 744
      }
     },
     "8332981a2385468fad57fb8a5f9fc9e1": {
      "model_module": "@jupyter-widgets/controls",
      "model_module_version": "2.0.0",
      "model_name": "HTMLStyleModel",
      "state": {
       "description_width": "",
       "font_size": null,
       "text_color": null
      }
     },
     "8344dd12d2964833ac62699b4c932cfd": {
      "model_module": "@jupyter-widgets/controls",
      "model_module_version": "2.0.0",
      "model_name": "HTMLStyleModel",
      "state": {
       "description_width": "",
       "font_size": null,
       "text_color": null
      }
     },
     "83ef466febe647789c716950555637d8": {
      "model_module": "@jupyter-widgets/base",
      "model_module_version": "2.0.0",
      "model_name": "LayoutModel",
      "state": {}
     },
     "8498f7c5f82b4862bbd5691bf27e21fe": {
      "model_module": "@jupyter-widgets/base",
      "model_module_version": "2.0.0",
      "model_name": "LayoutModel",
      "state": {}
     },
     "86baa88d1f0a4d77b7c17c9b1d56fe40": {
      "model_module": "@jupyter-widgets/controls",
      "model_module_version": "2.0.0",
      "model_name": "FloatProgressModel",
      "state": {
       "layout": "IPY_MODEL_be9e14532999465c8b5eb8795ea855d8",
       "max": 720,
       "style": "IPY_MODEL_96388302a4234eb69488a08607ed6238",
       "value": 720
      }
     },
     "86d83334eb6e4790affe9ea604c75eb0": {
      "model_module": "@jupyter-widgets/base",
      "model_module_version": "2.0.0",
      "model_name": "LayoutModel",
      "state": {}
     },
     "8708af7100bf4bba97bbfcc55bc5481a": {
      "model_module": "@jupyter-widgets/base",
      "model_module_version": "2.0.0",
      "model_name": "LayoutModel",
      "state": {}
     },
     "87ae5405de594c5b9f313ffbd52158d0": {
      "model_module": "@jupyter-widgets/base",
      "model_module_version": "2.0.0",
      "model_name": "LayoutModel",
      "state": {
       "visibility": "hidden"
      }
     },
     "87bc842829f545bf858c37ad752e0044": {
      "model_module": "@jupyter-widgets/controls",
      "model_module_version": "2.0.0",
      "model_name": "HTMLModel",
      "state": {
       "layout": "IPY_MODEL_9673bb89c2b247e3bb5e3ee98c7e82a0",
       "style": "IPY_MODEL_3029a5e60ab846609a2e4dc831ddd1f0",
       "value": "Processing CSVs: 100%"
      }
     },
     "88b9d712e9984beaabb29488cc1e795e": {
      "model_module": "@jupyter-widgets/controls",
      "model_module_version": "2.0.0",
      "model_name": "ProgressStyleModel",
      "state": {
       "description_width": ""
      }
     },
     "8961ee8ca5ea4ac7a40397d72c162840": {
      "model_module": "@jupyter-widgets/base",
      "model_module_version": "2.0.0",
      "model_name": "LayoutModel",
      "state": {}
     },
     "8981d81920e54164b72b9ff74e9d47e4": {
      "model_module": "@jupyter-widgets/base",
      "model_module_version": "2.0.0",
      "model_name": "LayoutModel",
      "state": {
       "visibility": "hidden"
      }
     },
     "8a467a9040984ed5abff20e7961000aa": {
      "model_module": "@jupyter-widgets/controls",
      "model_module_version": "2.0.0",
      "model_name": "HTMLModel",
      "state": {
       "layout": "IPY_MODEL_5a27facbb97742849807b9258d087d91",
       "style": "IPY_MODEL_9fc8d07dfbdc461080a2350be4c7d7f0",
       "value": " 654/655 [00:11&lt;00:00, 56.75it/s]"
      }
     },
     "8bfdef1688da4743a89d34d85d18b7b0": {
      "model_module": "@jupyter-widgets/controls",
      "model_module_version": "2.0.0",
      "model_name": "HTMLModel",
      "state": {
       "layout": "IPY_MODEL_4796c9bff0034b99afad9f41058421a5",
       "style": "IPY_MODEL_ec6c958b7f4d46b1bafc8cb41bc9dc4e",
       "value": "Processing CSVs:  99%"
      }
     },
     "8ce9030fa653491f9d533f3db7f725a5": {
      "model_module": "@jupyter-widgets/base",
      "model_module_version": "2.0.0",
      "model_name": "LayoutModel",
      "state": {}
     },
     "8e6f7c892d7849f5b458f4c79d259b52": {
      "model_module": "@jupyter-widgets/base",
      "model_module_version": "2.0.0",
      "model_name": "LayoutModel",
      "state": {}
     },
     "8f10fd771cb842a5be46c3743a5fb38e": {
      "model_module": "@jupyter-widgets/controls",
      "model_module_version": "2.0.0",
      "model_name": "ProgressStyleModel",
      "state": {
       "description_width": ""
      }
     },
     "8fbd8372caf24f699623b8c300b0352d": {
      "model_module": "@jupyter-widgets/controls",
      "model_module_version": "2.0.0",
      "model_name": "ProgressStyleModel",
      "state": {
       "description_width": ""
      }
     },
     "910ba6c426eb4850a7a9f053922efd27": {
      "model_module": "@jupyter-widgets/base",
      "model_module_version": "2.0.0",
      "model_name": "LayoutModel",
      "state": {}
     },
     "91f7256c3e26443c84935cc7e07ab964": {
      "model_module": "@jupyter-widgets/controls",
      "model_module_version": "2.0.0",
      "model_name": "FloatProgressModel",
      "state": {
       "layout": "IPY_MODEL_07e3c100f98f46fb80288a844a34baa6",
       "max": 720,
       "style": "IPY_MODEL_1c1715847ef44f8aba7a1f37fe5c0987",
       "value": 720
      }
     },
     "929b35b5f4d54be582ad9b2835f3f982": {
      "model_module": "@jupyter-widgets/base",
      "model_module_version": "2.0.0",
      "model_name": "LayoutModel",
      "state": {}
     },
     "9327c73d0d3b4a6296d26c8fe01d14bf": {
      "model_module": "@jupyter-widgets/base",
      "model_module_version": "2.0.0",
      "model_name": "LayoutModel",
      "state": {}
     },
     "948c00ec9fec42cd912f152acb3583c8": {
      "model_module": "@jupyter-widgets/controls",
      "model_module_version": "2.0.0",
      "model_name": "ProgressStyleModel",
      "state": {
       "description_width": ""
      }
     },
     "94b8e3c76882498c963858a981b5add0": {
      "model_module": "@jupyter-widgets/controls",
      "model_module_version": "2.0.0",
      "model_name": "FloatProgressModel",
      "state": {
       "layout": "IPY_MODEL_b5ed094d4c4e4d83b3067ebeff9053ef",
       "max": 744,
       "style": "IPY_MODEL_d2da3f35c61f4db0b5e674e48c35ad58",
       "value": 744
      }
     },
     "956c7d87ba974a3088920c22fb3ce1b4": {
      "model_module": "@jupyter-widgets/controls",
      "model_module_version": "2.0.0",
      "model_name": "HTMLModel",
      "state": {
       "layout": "IPY_MODEL_d18f6daf34fc42a6930c5d6ec0de7f6f",
       "style": "IPY_MODEL_1a1124e56fe440149408b44a626ba740",
       "value": " 666/672 [00:11&lt;00:00, 55.30it/s]"
      }
     },
     "96388302a4234eb69488a08607ed6238": {
      "model_module": "@jupyter-widgets/controls",
      "model_module_version": "2.0.0",
      "model_name": "ProgressStyleModel",
      "state": {
       "description_width": ""
      }
     },
     "964cb9d115904491af1d8ec6aa0644b1": {
      "model_module": "@jupyter-widgets/base",
      "model_module_version": "2.0.0",
      "model_name": "LayoutModel",
      "state": {
       "visibility": "hidden"
      }
     },
     "9673bb89c2b247e3bb5e3ee98c7e82a0": {
      "model_module": "@jupyter-widgets/base",
      "model_module_version": "2.0.0",
      "model_name": "LayoutModel",
      "state": {}
     },
     "970f88bbfe954f80adfccfb5694ccea1": {
      "model_module": "@jupyter-widgets/controls",
      "model_module_version": "2.0.0",
      "model_name": "ProgressStyleModel",
      "state": {
       "description_width": ""
      }
     },
     "97274c585d4f439482bb21744a9dc5c0": {
      "model_module": "@jupyter-widgets/base",
      "model_module_version": "2.0.0",
      "model_name": "LayoutModel",
      "state": {
       "visibility": "hidden"
      }
     },
     "9791609a5ab74d7894cab56c328ed559": {
      "model_module": "@jupyter-widgets/base",
      "model_module_version": "2.0.0",
      "model_name": "LayoutModel",
      "state": {}
     },
     "97961348cd4b4a04891cd22fc8b6666f": {
      "model_module": "@jupyter-widgets/controls",
      "model_module_version": "2.0.0",
      "model_name": "HTMLStyleModel",
      "state": {
       "description_width": "",
       "font_size": null,
       "text_color": null
      }
     },
     "9814b05779b4449a940a8ba560bf18c2": {
      "model_module": "@jupyter-widgets/controls",
      "model_module_version": "2.0.0",
      "model_name": "ProgressStyleModel",
      "state": {
       "description_width": ""
      }
     },
     "98743e6247bf4ac79b7e7404d7307fa5": {
      "model_module": "@jupyter-widgets/base",
      "model_module_version": "2.0.0",
      "model_name": "LayoutModel",
      "state": {}
     },
     "9966c4bac47945f99a977c41fed40e0a": {
      "model_module": "@jupyter-widgets/base",
      "model_module_version": "2.0.0",
      "model_name": "LayoutModel",
      "state": {}
     },
     "9a297606fe0a42a68d3b11d94eef4971": {
      "model_module": "@jupyter-widgets/controls",
      "model_module_version": "2.0.0",
      "model_name": "HTMLModel",
      "state": {
       "layout": "IPY_MODEL_2cee915075b04c1a8cd9ef43b7526f68",
       "style": "IPY_MODEL_df8b76f4e5c848b69bb45cfe7462335e",
       "value": "Processing CSVs: 100%"
      }
     },
     "9c7e584f5cde4eedb8af32e9f33193c7": {
      "model_module": "@jupyter-widgets/controls",
      "model_module_version": "2.0.0",
      "model_name": "HTMLModel",
      "state": {
       "layout": "IPY_MODEL_41ee913c71a344fdb29f96e968a565ba",
       "style": "IPY_MODEL_e72bd2906049410faf592d0e52efce9d",
       "value": " 6/6 [01:14&lt;00:00, 12.24s/it]"
      }
     },
     "9d10bf5a52b74cf9b1793ae5579c7a30": {
      "model_module": "@jupyter-widgets/controls",
      "model_module_version": "2.0.0",
      "model_name": "FloatProgressModel",
      "state": {
       "layout": "IPY_MODEL_aaf02f101c5240a9ba3e32c9a1028b70",
       "max": 744,
       "style": "IPY_MODEL_3094d600ab1d48f6976eed29f91b95ce",
       "value": 744
      }
     },
     "9f4ffcffa36440fab4dfefd89bc9a8ff": {
      "model_module": "@jupyter-widgets/controls",
      "model_module_version": "2.0.0",
      "model_name": "FloatProgressModel",
      "state": {
       "layout": "IPY_MODEL_f9215a122c4f41c280ed2116fac9edb6",
       "max": 744,
       "style": "IPY_MODEL_36291794b3c5476db10b4ff27731b601",
       "value": 744
      }
     },
     "9fc8d07dfbdc461080a2350be4c7d7f0": {
      "model_module": "@jupyter-widgets/controls",
      "model_module_version": "2.0.0",
      "model_name": "HTMLStyleModel",
      "state": {
       "description_width": "",
       "font_size": null,
       "text_color": null
      }
     },
     "a007f99c04ad41e0b85d6ac6ceaf7c4c": {
      "model_module": "@jupyter-widgets/controls",
      "model_module_version": "2.0.0",
      "model_name": "HTMLStyleModel",
      "state": {
       "description_width": "",
       "font_size": null,
       "text_color": null
      }
     },
     "a010db7bb22648029550fe51d56726bb": {
      "model_module": "@jupyter-widgets/base",
      "model_module_version": "2.0.0",
      "model_name": "LayoutModel",
      "state": {
       "visibility": "hidden"
      }
     },
     "a0ce1232a8e44aea92a796fc9c65305e": {
      "model_module": "@jupyter-widgets/controls",
      "model_module_version": "2.0.0",
      "model_name": "HTMLModel",
      "state": {
       "layout": "IPY_MODEL_337150e194124539a0330b4336ca4d5a",
       "style": "IPY_MODEL_b49bd8f254e3408794c8020e29c43fcb",
       "value": "Processing CSVs: 100%"
      }
     },
     "a130e99ffe374ce1b56bc4dbbf37c88d": {
      "model_module": "@jupyter-widgets/base",
      "model_module_version": "2.0.0",
      "model_name": "LayoutModel",
      "state": {}
     },
     "a13405b59aa14e23ada6c85953154976": {
      "model_module": "@jupyter-widgets/controls",
      "model_module_version": "2.0.0",
      "model_name": "FloatProgressModel",
      "state": {
       "layout": "IPY_MODEL_06cf711929384f279c99254e5f2597b6",
       "max": 744,
       "style": "IPY_MODEL_88b9d712e9984beaabb29488cc1e795e",
       "value": 744
      }
     },
     "a156707718144c1e9b67e59438abdeea": {
      "model_module": "@jupyter-widgets/controls",
      "model_module_version": "2.0.0",
      "model_name": "ProgressStyleModel",
      "state": {
       "description_width": ""
      }
     },
     "a1ef21ebe7fe48acbdd1b4c1c16a555e": {
      "model_module": "@jupyter-widgets/controls",
      "model_module_version": "2.0.0",
      "model_name": "HTMLStyleModel",
      "state": {
       "description_width": "",
       "font_size": null,
       "text_color": null
      }
     },
     "a27e6af7ce944885be3abb206d4c8de4": {
      "model_module": "@jupyter-widgets/controls",
      "model_module_version": "2.0.0",
      "model_name": "HTMLStyleModel",
      "state": {
       "description_width": "",
       "font_size": null,
       "text_color": null
      }
     },
     "a3e06b67fc224909aa8d8f1d8b1e4fa5": {
      "model_module": "@jupyter-widgets/controls",
      "model_module_version": "2.0.0",
      "model_name": "HTMLStyleModel",
      "state": {
       "description_width": "",
       "font_size": null,
       "text_color": null
      }
     },
     "a613c720e80d421b89e65bdbd619ddf5": {
      "model_module": "@jupyter-widgets/controls",
      "model_module_version": "2.0.0",
      "model_name": "FloatProgressModel",
      "state": {
       "layout": "IPY_MODEL_5db756d2c77f464a81d2ee02a699e57f",
       "max": 655,
       "style": "IPY_MODEL_e99b1474d02d449ca72d974cd0ac0d18",
       "value": 655
      }
     },
     "a6f56ec03a00474990a8e732b8c059fe": {
      "model_module": "@jupyter-widgets/base",
      "model_module_version": "2.0.0",
      "model_name": "LayoutModel",
      "state": {
       "visibility": "hidden"
      }
     },
     "a7c633cc6c4c4bd9a29f124e244b0265": {
      "model_module": "@jupyter-widgets/base",
      "model_module_version": "2.0.0",
      "model_name": "LayoutModel",
      "state": {
       "visibility": "hidden"
      }
     },
     "a7cfda8dc84a43638d19ab02920a8c31": {
      "model_module": "@jupyter-widgets/base",
      "model_module_version": "2.0.0",
      "model_name": "LayoutModel",
      "state": {
       "visibility": "hidden"
      }
     },
     "a7f2ed4bf4d24bdfbc11df1e967edab3": {
      "model_module": "@jupyter-widgets/controls",
      "model_module_version": "2.0.0",
      "model_name": "ProgressStyleModel",
      "state": {
       "description_width": ""
      }
     },
     "a8f9b72e142c43f39badcc370529af47": {
      "model_module": "@jupyter-widgets/base",
      "model_module_version": "2.0.0",
      "model_name": "LayoutModel",
      "state": {}
     },
     "a9502774c1b84a8399fde1a24ef84d9c": {
      "model_module": "@jupyter-widgets/base",
      "model_module_version": "2.0.0",
      "model_name": "LayoutModel",
      "state": {}
     },
     "a9bb0067aa8f437895672184414b6514": {
      "model_module": "@jupyter-widgets/controls",
      "model_module_version": "2.0.0",
      "model_name": "HTMLModel",
      "state": {
       "layout": "IPY_MODEL_05a9b92df8614954980d2f6df4f6bac4",
       "style": "IPY_MODEL_e184731fe6d444daa73073f0c33ea8ac",
       "value": "Processing Years: 100%"
      }
     },
     "a9bd4dab46a54300816c853c05e3e591": {
      "model_module": "@jupyter-widgets/controls",
      "model_module_version": "2.0.0",
      "model_name": "HTMLStyleModel",
      "state": {
       "description_width": "",
       "font_size": null,
       "text_color": null
      }
     },
     "aaf02f101c5240a9ba3e32c9a1028b70": {
      "model_module": "@jupyter-widgets/base",
      "model_module_version": "2.0.0",
      "model_name": "LayoutModel",
      "state": {}
     },
     "ab39a88fd672442f9feef7ba2855d8b8": {
      "model_module": "@jupyter-widgets/base",
      "model_module_version": "2.0.0",
      "model_name": "LayoutModel",
      "state": {
       "visibility": "hidden"
      }
     },
     "ab4dfaa58fff465887ed996f4724d72a": {
      "model_module": "@jupyter-widgets/base",
      "model_module_version": "2.0.0",
      "model_name": "LayoutModel",
      "state": {}
     },
     "abf6540f786d4eb79756a3cc78cfb7fa": {
      "model_module": "@jupyter-widgets/base",
      "model_module_version": "2.0.0",
      "model_name": "LayoutModel",
      "state": {
       "visibility": "hidden"
      }
     },
     "ace02cafbd8445f3a2a49fafd5232ecf": {
      "model_module": "@jupyter-widgets/controls",
      "model_module_version": "2.0.0",
      "model_name": "HTMLStyleModel",
      "state": {
       "description_width": "",
       "font_size": null,
       "text_color": null
      }
     },
     "ae5525bdc15248dcbea0ffd273bd85cd": {
      "model_module": "@jupyter-widgets/controls",
      "model_module_version": "2.0.0",
      "model_name": "HTMLModel",
      "state": {
       "layout": "IPY_MODEL_9966c4bac47945f99a977c41fed40e0a",
       "style": "IPY_MODEL_a007f99c04ad41e0b85d6ac6ceaf7c4c",
       "value": "Processing CSVs: 100%"
      }
     },
     "af79f0628100450bbf470724ae0371be": {
      "model_module": "@jupyter-widgets/controls",
      "model_module_version": "2.0.0",
      "model_name": "FloatProgressModel",
      "state": {
       "layout": "IPY_MODEL_c2507a74f4b94e84a2c50e01ef56f00e",
       "max": 744,
       "style": "IPY_MODEL_ef5b5941764a451cb2eef0b17865838c",
       "value": 744
      }
     },
     "b0cda921f6994b489e5f9f5572c3aedf": {
      "model_module": "@jupyter-widgets/base",
      "model_module_version": "2.0.0",
      "model_name": "LayoutModel",
      "state": {}
     },
     "b181e6c0a092485886871801805125b5": {
      "model_module": "@jupyter-widgets/base",
      "model_module_version": "2.0.0",
      "model_name": "LayoutModel",
      "state": {
       "visibility": "hidden"
      }
     },
     "b36675c060db496eb311d3c41d58eefb": {
      "model_module": "@jupyter-widgets/controls",
      "model_module_version": "2.0.0",
      "model_name": "ProgressStyleModel",
      "state": {
       "description_width": ""
      }
     },
     "b3fd00072a9c4cf5a2a572cd9b298173": {
      "model_module": "@jupyter-widgets/base",
      "model_module_version": "2.0.0",
      "model_name": "LayoutModel",
      "state": {}
     },
     "b47aad21196f4bbf8211bcea485f9765": {
      "model_module": "@jupyter-widgets/controls",
      "model_module_version": "2.0.0",
      "model_name": "ProgressStyleModel",
      "state": {
       "description_width": ""
      }
     },
     "b49bd8f254e3408794c8020e29c43fcb": {
      "model_module": "@jupyter-widgets/controls",
      "model_module_version": "2.0.0",
      "model_name": "HTMLStyleModel",
      "state": {
       "description_width": "",
       "font_size": null,
       "text_color": null
      }
     },
     "b4e50e3a472b4266bba216f3f4001e66": {
      "model_module": "@jupyter-widgets/base",
      "model_module_version": "2.0.0",
      "model_name": "LayoutModel",
      "state": {}
     },
     "b532d719d722407fa4031cfcc0d0bb96": {
      "model_module": "@jupyter-widgets/base",
      "model_module_version": "2.0.0",
      "model_name": "LayoutModel",
      "state": {}
     },
     "b5558085f2044d5e9ebbbeb4fa0fe7f2": {
      "model_module": "@jupyter-widgets/controls",
      "model_module_version": "2.0.0",
      "model_name": "HTMLStyleModel",
      "state": {
       "description_width": "",
       "font_size": null,
       "text_color": null
      }
     },
     "b57cedea571d44de9cbadf05fb218573": {
      "model_module": "@jupyter-widgets/controls",
      "model_module_version": "2.0.0",
      "model_name": "HTMLStyleModel",
      "state": {
       "description_width": "",
       "font_size": null,
       "text_color": null
      }
     },
     "b58000d7a11146f8992689f3d24d89fc": {
      "model_module": "@jupyter-widgets/base",
      "model_module_version": "2.0.0",
      "model_name": "LayoutModel",
      "state": {}
     },
     "b5ed094d4c4e4d83b3067ebeff9053ef": {
      "model_module": "@jupyter-widgets/base",
      "model_module_version": "2.0.0",
      "model_name": "LayoutModel",
      "state": {}
     },
     "b76ee14af0ef4e0692975913d43c76ef": {
      "model_module": "@jupyter-widgets/controls",
      "model_module_version": "2.0.0",
      "model_name": "HTMLModel",
      "state": {
       "layout": "IPY_MODEL_98743e6247bf4ac79b7e7404d7307fa5",
       "style": "IPY_MODEL_632b911ad2c6453084c576afd29faf51",
       "value": "Processing CSVs: 100%"
      }
     },
     "b8447b8e35c44e83aab647f840bc310d": {
      "model_module": "@jupyter-widgets/controls",
      "model_module_version": "2.0.0",
      "model_name": "HTMLStyleModel",
      "state": {
       "description_width": "",
       "font_size": null,
       "text_color": null
      }
     },
     "b874ea36ccc2405ea626cb17eb51387f": {
      "model_module": "@jupyter-widgets/controls",
      "model_module_version": "2.0.0",
      "model_name": "HTMLStyleModel",
      "state": {
       "description_width": "",
       "font_size": null,
       "text_color": null
      }
     },
     "b89235d0a0734c49aa161115fc9e4fe7": {
      "model_module": "@jupyter-widgets/base",
      "model_module_version": "2.0.0",
      "model_name": "LayoutModel",
      "state": {
       "visibility": "hidden"
      }
     },
     "b89f0870a48e4ddaa844e03c4274e45d": {
      "model_module": "@jupyter-widgets/base",
      "model_module_version": "2.0.0",
      "model_name": "LayoutModel",
      "state": {}
     },
     "b8a5960f560f4afa86671dc2ad573aa5": {
      "model_module": "@jupyter-widgets/controls",
      "model_module_version": "2.0.0",
      "model_name": "HTMLModel",
      "state": {
       "layout": "IPY_MODEL_3795bf7d9a9041c99e19180e66ae477c",
       "style": "IPY_MODEL_97961348cd4b4a04891cd22fc8b6666f",
       "value": "Processing CSVs: 100%"
      }
     },
     "ba812c45180d45dab571ee5620c28906": {
      "model_module": "@jupyter-widgets/base",
      "model_module_version": "2.0.0",
      "model_name": "LayoutModel",
      "state": {
       "visibility": "hidden"
      }
     },
     "bbc2e47826b447ef9e8c1e9e8b6f2e0f": {
      "model_module": "@jupyter-widgets/controls",
      "model_module_version": "2.0.0",
      "model_name": "FloatProgressModel",
      "state": {
       "layout": "IPY_MODEL_2520bb98efff4b6c8638e438a7dd38a6",
       "max": 720,
       "style": "IPY_MODEL_a7f2ed4bf4d24bdfbc11df1e967edab3",
       "value": 720
      }
     },
     "bc430f18f1624d439e2f67e8c7362eb9": {
      "model_module": "@jupyter-widgets/controls",
      "model_module_version": "2.0.0",
      "model_name": "HTMLModel",
      "state": {
       "layout": "IPY_MODEL_1c3764d9d1554f1fba428297b2fb337f",
       "style": "IPY_MODEL_f7b9cde730284e7283d06a6751fc6750",
       "value": " 739/744 [00:13&lt;00:00, 52.25it/s]"
      }
     },
     "bc474b09d0db44b08d9466e590ddee16": {
      "model_module": "@jupyter-widgets/base",
      "model_module_version": "2.0.0",
      "model_name": "LayoutModel",
      "state": {
       "visibility": "hidden"
      }
     },
     "bc84fb37da9a44768a16450a512d9c31": {
      "model_module": "@jupyter-widgets/base",
      "model_module_version": "2.0.0",
      "model_name": "LayoutModel",
      "state": {}
     },
     "bd9fafc404dd4f89a3857f8da8372e42": {
      "model_module": "@jupyter-widgets/controls",
      "model_module_version": "2.0.0",
      "model_name": "ProgressStyleModel",
      "state": {
       "description_width": ""
      }
     },
     "be8c13e506ff4563bbebfcb7c9012760": {
      "model_module": "@jupyter-widgets/controls",
      "model_module_version": "2.0.0",
      "model_name": "ProgressStyleModel",
      "state": {
       "description_width": ""
      }
     },
     "be9e14532999465c8b5eb8795ea855d8": {
      "model_module": "@jupyter-widgets/base",
      "model_module_version": "2.0.0",
      "model_name": "LayoutModel",
      "state": {}
     },
     "bfe962d2f18344a98b28ba2d0300fb88": {
      "model_module": "@jupyter-widgets/controls",
      "model_module_version": "2.0.0",
      "model_name": "FloatProgressModel",
      "state": {
       "layout": "IPY_MODEL_50cbc6f8227845ff837efd91b2689ad3",
       "max": 744,
       "style": "IPY_MODEL_8f10fd771cb842a5be46c3743a5fb38e",
       "value": 744
      }
     },
     "c2507a74f4b94e84a2c50e01ef56f00e": {
      "model_module": "@jupyter-widgets/base",
      "model_module_version": "2.0.0",
      "model_name": "LayoutModel",
      "state": {}
     },
     "c705c9c40f0f40338899620bfea64921": {
      "model_module": "@jupyter-widgets/base",
      "model_module_version": "2.0.0",
      "model_name": "LayoutModel",
      "state": {}
     },
     "c7e6e913590a431daf3760ca7e668b4f": {
      "model_module": "@jupyter-widgets/base",
      "model_module_version": "2.0.0",
      "model_name": "LayoutModel",
      "state": {}
     },
     "c8e4ad0ceddb47b7b8d1561a75f7cd88": {
      "model_module": "@jupyter-widgets/base",
      "model_module_version": "2.0.0",
      "model_name": "LayoutModel",
      "state": {}
     },
     "c9fc8d5cb1c940ed8bec9026e854ebc0": {
      "model_module": "@jupyter-widgets/base",
      "model_module_version": "2.0.0",
      "model_name": "LayoutModel",
      "state": {}
     },
     "ccd8af93562040c7afd8272dbcedc1e1": {
      "model_module": "@jupyter-widgets/controls",
      "model_module_version": "2.0.0",
      "model_name": "HTMLModel",
      "state": {
       "layout": "IPY_MODEL_70ac5adbe3544ac392369597ca6466a0",
       "style": "IPY_MODEL_d5525bcc7a8b46fabb72cdaf7344af89",
       "value": "Processing CSVs:  99%"
      }
     },
     "cd5ff25e0ede47ebbfe3bcf09673ac71": {
      "model_module": "@jupyter-widgets/base",
      "model_module_version": "2.0.0",
      "model_name": "LayoutModel",
      "state": {}
     },
     "ceb318d701c54d46a208ae5c23dcfa7a": {
      "model_module": "@jupyter-widgets/base",
      "model_module_version": "2.0.0",
      "model_name": "LayoutModel",
      "state": {}
     },
     "cee2606739674f3a8531bff9777a7bf7": {
      "model_module": "@jupyter-widgets/controls",
      "model_module_version": "2.0.0",
      "model_name": "HTMLModel",
      "state": {
       "layout": "IPY_MODEL_3613d4d9d5cf47239589867ab9e30486",
       "style": "IPY_MODEL_5725b55a0cbc44adb5ef97114d0f9af4",
       "value": " 743/744 [00:12&lt;00:00, 55.51it/s]"
      }
     },
     "d0113a73760840a29c03ba5af051b865": {
      "model_module": "@jupyter-widgets/controls",
      "model_module_version": "2.0.0",
      "model_name": "HTMLStyleModel",
      "state": {
       "description_width": "",
       "font_size": null,
       "text_color": null
      }
     },
     "d06a05962757447ba26200013e334c1d": {
      "model_module": "@jupyter-widgets/base",
      "model_module_version": "2.0.0",
      "model_name": "LayoutModel",
      "state": {}
     },
     "d0f3f9f4e6fa4056a43dbc8ee0de6362": {
      "model_module": "@jupyter-widgets/controls",
      "model_module_version": "2.0.0",
      "model_name": "FloatProgressModel",
      "state": {
       "layout": "IPY_MODEL_e4a95e87eb304ed0a807e20996acc4cd",
       "max": 720,
       "style": "IPY_MODEL_bd9fafc404dd4f89a3857f8da8372e42",
       "value": 720
      }
     },
     "d18f6daf34fc42a6930c5d6ec0de7f6f": {
      "model_module": "@jupyter-widgets/base",
      "model_module_version": "2.0.0",
      "model_name": "LayoutModel",
      "state": {}
     },
     "d2b01be1fd1549499a281ea81574999c": {
      "model_module": "@jupyter-widgets/controls",
      "model_module_version": "2.0.0",
      "model_name": "ProgressStyleModel",
      "state": {
       "description_width": ""
      }
     },
     "d2da3f35c61f4db0b5e674e48c35ad58": {
      "model_module": "@jupyter-widgets/controls",
      "model_module_version": "2.0.0",
      "model_name": "ProgressStyleModel",
      "state": {
       "description_width": ""
      }
     },
     "d530456f73134f2ebb3ab8925b536da1": {
      "model_module": "@jupyter-widgets/base",
      "model_module_version": "2.0.0",
      "model_name": "LayoutModel",
      "state": {}
     },
     "d5525bcc7a8b46fabb72cdaf7344af89": {
      "model_module": "@jupyter-widgets/controls",
      "model_module_version": "2.0.0",
      "model_name": "HTMLStyleModel",
      "state": {
       "description_width": "",
       "font_size": null,
       "text_color": null
      }
     },
     "d6a761aff40e46ec841d0f7038398c52": {
      "model_module": "@jupyter-widgets/base",
      "model_module_version": "2.0.0",
      "model_name": "LayoutModel",
      "state": {}
     },
     "d6a8ee0741254983a7f91acc4af39d13": {
      "model_module": "@jupyter-widgets/controls",
      "model_module_version": "2.0.0",
      "model_name": "FloatProgressModel",
      "state": {
       "layout": "IPY_MODEL_5aa7c2a45280438e84df245545be0f00",
       "max": 744,
       "style": "IPY_MODEL_9814b05779b4449a940a8ba560bf18c2",
       "value": 744
      }
     },
     "d74cd5a6feca4988bae7f753e21f7bf6": {
      "model_module": "@jupyter-widgets/base",
      "model_module_version": "2.0.0",
      "model_name": "LayoutModel",
      "state": {}
     },
     "d787bbdd195b4ff3b62dd222a462da1a": {
      "model_module": "@jupyter-widgets/controls",
      "model_module_version": "2.0.0",
      "model_name": "FloatProgressModel",
      "state": {
       "layout": "IPY_MODEL_86d83334eb6e4790affe9ea604c75eb0",
       "max": 3,
       "style": "IPY_MODEL_8fbd8372caf24f699623b8c300b0352d",
       "value": 3
      }
     },
     "d89d2da08b8f453ba0b6b36f1c65a1d7": {
      "model_module": "@jupyter-widgets/controls",
      "model_module_version": "2.0.0",
      "model_name": "HTMLStyleModel",
      "state": {
       "description_width": "",
       "font_size": null,
       "text_color": null
      }
     },
     "d9f09ee42b1c47639f24fa83964d2beb": {
      "model_module": "@jupyter-widgets/controls",
      "model_module_version": "2.0.0",
      "model_name": "FloatProgressModel",
      "state": {
       "layout": "IPY_MODEL_07d6860b5b1242c8b5cb6084dfadceb7",
       "max": 672,
       "style": "IPY_MODEL_d2b01be1fd1549499a281ea81574999c",
       "value": 672
      }
     },
     "da8eb69949aa4bc5b9ddf4bd42c0c19d": {
      "model_module": "@jupyter-widgets/base",
      "model_module_version": "2.0.0",
      "model_name": "LayoutModel",
      "state": {
       "visibility": "hidden"
      }
     },
     "da9b2f46529b44278ce63f1f4f0a9697": {
      "model_module": "@jupyter-widgets/base",
      "model_module_version": "2.0.0",
      "model_name": "LayoutModel",
      "state": {
       "visibility": "hidden"
      }
     },
     "db6420b4fb9949dfac3ede2718f8a979": {
      "model_module": "@jupyter-widgets/base",
      "model_module_version": "2.0.0",
      "model_name": "LayoutModel",
      "state": {}
     },
     "dc199a60da214bd199c30711b7b8af79": {
      "model_module": "@jupyter-widgets/controls",
      "model_module_version": "2.0.0",
      "model_name": "HTMLModel",
      "state": {
       "layout": "IPY_MODEL_c7e6e913590a431daf3760ca7e668b4f",
       "style": "IPY_MODEL_f64c80acc7284ef6aa580ede302c61a9",
       "value": "Processing CSVs: 100%"
      }
     },
     "dcc64777da2d4346b4ca6afa303de483": {
      "model_module": "@jupyter-widgets/base",
      "model_module_version": "2.0.0",
      "model_name": "LayoutModel",
      "state": {}
     },
     "dcc9b004b63a4de6bc66dd9894480629": {
      "model_module": "@jupyter-widgets/base",
      "model_module_version": "2.0.0",
      "model_name": "LayoutModel",
      "state": {}
     },
     "dd5f3f07f98e49da8ebe532cbf95bc64": {
      "model_module": "@jupyter-widgets/controls",
      "model_module_version": "2.0.0",
      "model_name": "HTMLStyleModel",
      "state": {
       "description_width": "",
       "font_size": null,
       "text_color": null
      }
     },
     "de690ddff4c8415aa01b8868334a0dde": {
      "model_module": "@jupyter-widgets/controls",
      "model_module_version": "2.0.0",
      "model_name": "HTMLModel",
      "state": {
       "layout": "IPY_MODEL_7b2ff61685024ec9926563e7703f98a5",
       "style": "IPY_MODEL_49e609e1eb794261a9edfa2b637bd4ea",
       "value": " 743/744 [00:12&lt;00:00, 56.34it/s]"
      }
     },
     "dea3b1e1f1f54136a7bdae4d6830adb5": {
      "model_module": "@jupyter-widgets/controls",
      "model_module_version": "2.0.0",
      "model_name": "HTMLModel",
      "state": {
       "layout": "IPY_MODEL_3fb99110b0ad47f8ba623d6129fcf595",
       "style": "IPY_MODEL_e6a501b674d746cab592e45042be6baf",
       "value": " 12/12 [02:31&lt;00:00, 12.92s/it]"
      }
     },
     "df8b76f4e5c848b69bb45cfe7462335e": {
      "model_module": "@jupyter-widgets/controls",
      "model_module_version": "2.0.0",
      "model_name": "HTMLStyleModel",
      "state": {
       "description_width": "",
       "font_size": null,
       "text_color": null
      }
     },
     "e184731fe6d444daa73073f0c33ea8ac": {
      "model_module": "@jupyter-widgets/controls",
      "model_module_version": "2.0.0",
      "model_name": "HTMLStyleModel",
      "state": {
       "description_width": "",
       "font_size": null,
       "text_color": null
      }
     },
     "e1d4f6e31c1c40c3bd6d22d8f0b95dd5": {
      "model_module": "@jupyter-widgets/base",
      "model_module_version": "2.0.0",
      "model_name": "LayoutModel",
      "state": {
       "visibility": "hidden"
      }
     },
     "e2449ae241e44471a1e493b33a8b3d05": {
      "model_module": "@jupyter-widgets/controls",
      "model_module_version": "2.0.0",
      "model_name": "HTMLStyleModel",
      "state": {
       "description_width": "",
       "font_size": null,
       "text_color": null
      }
     },
     "e29d71a5137249e89243a23930b5b997": {
      "model_module": "@jupyter-widgets/controls",
      "model_module_version": "2.0.0",
      "model_name": "HTMLModel",
      "state": {
       "layout": "IPY_MODEL_b532d719d722407fa4031cfcc0d0bb96",
       "style": "IPY_MODEL_2847498b4fa448e2af37ff37b149674e",
       "value": "Processing CSVs:  99%"
      }
     },
     "e3119aba284242f5b7ae7478502543a6": {
      "model_module": "@jupyter-widgets/controls",
      "model_module_version": "2.0.0",
      "model_name": "HTMLModel",
      "state": {
       "layout": "IPY_MODEL_381909ec68d34cc2864420fcc2b21317",
       "style": "IPY_MODEL_e87dc1d3387d454d991e04799d4bc367",
       "value": " 743/744 [00:13&lt;00:00, 51.18it/s]"
      }
     },
     "e4105630471c44cc972cbe3377c9b7ff": {
      "model_module": "@jupyter-widgets/controls",
      "model_module_version": "2.0.0",
      "model_name": "HTMLModel",
      "state": {
       "layout": "IPY_MODEL_33cb0c54b18b43bf87733c421277dd2b",
       "style": "IPY_MODEL_2155ee9aaeae4957a263d38737ec681f",
       "value": " 741/744 [00:12&lt;00:00, 55.14it/s]"
      }
     },
     "e4a95e87eb304ed0a807e20996acc4cd": {
      "model_module": "@jupyter-widgets/base",
      "model_module_version": "2.0.0",
      "model_name": "LayoutModel",
      "state": {}
     },
     "e5a44080a87c491d98d78970b35f540a": {
      "model_module": "@jupyter-widgets/controls",
      "model_module_version": "2.0.0",
      "model_name": "HTMLStyleModel",
      "state": {
       "description_width": "",
       "font_size": null,
       "text_color": null
      }
     },
     "e6a501b674d746cab592e45042be6baf": {
      "model_module": "@jupyter-widgets/controls",
      "model_module_version": "2.0.0",
      "model_name": "HTMLStyleModel",
      "state": {
       "description_width": "",
       "font_size": null,
       "text_color": null
      }
     },
     "e72bd2906049410faf592d0e52efce9d": {
      "model_module": "@jupyter-widgets/controls",
      "model_module_version": "2.0.0",
      "model_name": "HTMLStyleModel",
      "state": {
       "description_width": "",
       "font_size": null,
       "text_color": null
      }
     },
     "e84f572fa5294973b1e31b9eb3555619": {
      "model_module": "@jupyter-widgets/controls",
      "model_module_version": "2.0.0",
      "model_name": "FloatProgressModel",
      "state": {
       "layout": "IPY_MODEL_f8fbe213e51645ea8e0aa235f9983708",
       "max": 744,
       "style": "IPY_MODEL_948c00ec9fec42cd912f152acb3583c8",
       "value": 744
      }
     },
     "e87dc1d3387d454d991e04799d4bc367": {
      "model_module": "@jupyter-widgets/controls",
      "model_module_version": "2.0.0",
      "model_name": "HTMLStyleModel",
      "state": {
       "description_width": "",
       "font_size": null,
       "text_color": null
      }
     },
     "e924628a0ceb40668c75ad83ce217785": {
      "model_module": "@jupyter-widgets/controls",
      "model_module_version": "2.0.0",
      "model_name": "FloatProgressModel",
      "state": {
       "layout": "IPY_MODEL_db6420b4fb9949dfac3ede2718f8a979",
       "max": 720,
       "style": "IPY_MODEL_be8c13e506ff4563bbebfcb7c9012760",
       "value": 720
      }
     },
     "e958fed950c240e494de1f35c6ac7c14": {
      "model_module": "@jupyter-widgets/controls",
      "model_module_version": "2.0.0",
      "model_name": "HTMLModel",
      "state": {
       "layout": "IPY_MODEL_9327c73d0d3b4a6296d26c8fe01d14bf",
       "style": "IPY_MODEL_6d56154b9b454ce498c399eab9d23070",
       "value": " 718/720 [00:11&lt;00:00, 61.04it/s]"
      }
     },
     "e99b1474d02d449ca72d974cd0ac0d18": {
      "model_module": "@jupyter-widgets/controls",
      "model_module_version": "2.0.0",
      "model_name": "ProgressStyleModel",
      "state": {
       "description_width": ""
      }
     },
     "e9f39ec656fb4264b565e59f9d2405f3": {
      "model_module": "@jupyter-widgets/controls",
      "model_module_version": "2.0.0",
      "model_name": "HTMLModel",
      "state": {
       "layout": "IPY_MODEL_1345af84dee44f04abe161cd6990fe37",
       "style": "IPY_MODEL_80ed8b47b42b4d73b69f1bd66f8fc077",
       "value": "Processing Months: 100%"
      }
     },
     "ec62d7a037b54bcb8099d1df53f70726": {
      "model_module": "@jupyter-widgets/controls",
      "model_module_version": "2.0.0",
      "model_name": "FloatProgressModel",
      "state": {
       "layout": "IPY_MODEL_01ef2a2b2a81417f93a2ac1bb0cf696a",
       "max": 744,
       "style": "IPY_MODEL_3313d67bad7642d6951c24bb04b8af96",
       "value": 744
      }
     },
     "ec6c958b7f4d46b1bafc8cb41bc9dc4e": {
      "model_module": "@jupyter-widgets/controls",
      "model_module_version": "2.0.0",
      "model_name": "HTMLStyleModel",
      "state": {
       "description_width": "",
       "font_size": null,
       "text_color": null
      }
     },
     "ed6ea52f15734949a82a5b109e69b38f": {
      "model_module": "@jupyter-widgets/base",
      "model_module_version": "2.0.0",
      "model_name": "LayoutModel",
      "state": {
       "visibility": "hidden"
      }
     },
     "ef5b5941764a451cb2eef0b17865838c": {
      "model_module": "@jupyter-widgets/controls",
      "model_module_version": "2.0.0",
      "model_name": "ProgressStyleModel",
      "state": {
       "description_width": ""
      }
     },
     "effb1e9ad8304ac9aa240b45aa7bb7b4": {
      "model_module": "@jupyter-widgets/controls",
      "model_module_version": "2.0.0",
      "model_name": "HTMLStyleModel",
      "state": {
       "description_width": "",
       "font_size": null,
       "text_color": null
      }
     },
     "f086a189089346429e7db4a4f891a8cf": {
      "model_module": "@jupyter-widgets/controls",
      "model_module_version": "2.0.0",
      "model_name": "HTMLStyleModel",
      "state": {
       "description_width": "",
       "font_size": null,
       "text_color": null
      }
     },
     "f1b451b3ca054b9c9a8e633cf694eae2": {
      "model_module": "@jupyter-widgets/controls",
      "model_module_version": "2.0.0",
      "model_name": "HTMLModel",
      "state": {
       "layout": "IPY_MODEL_3b69e2a365414c4bbab4e2869ceca3c9",
       "style": "IPY_MODEL_6b78e7c19d624a14946f57846875801c",
       "value": "Processing CSVs: 100%"
      }
     },
     "f1c97fcfc09446e6b1d0a0ffee101109": {
      "model_module": "@jupyter-widgets/base",
      "model_module_version": "2.0.0",
      "model_name": "LayoutModel",
      "state": {}
     },
     "f1eb7ca1cae04fc9b4737b6bdc52a272": {
      "model_module": "@jupyter-widgets/base",
      "model_module_version": "2.0.0",
      "model_name": "LayoutModel",
      "state": {}
     },
     "f3015a7c91864e8b848abc5a1dc02a80": {
      "model_module": "@jupyter-widgets/controls",
      "model_module_version": "2.0.0",
      "model_name": "FloatProgressModel",
      "state": {
       "layout": "IPY_MODEL_929b35b5f4d54be582ad9b2835f3f982",
       "max": 12,
       "style": "IPY_MODEL_3aaf87dd028a4dfdb354c626fa23dcea",
       "value": 12
      }
     },
     "f5627abbf896455a83b1f166e99f49aa": {
      "model_module": "@jupyter-widgets/controls",
      "model_module_version": "2.0.0",
      "model_name": "HTMLModel",
      "state": {
       "layout": "IPY_MODEL_d530456f73134f2ebb3ab8925b536da1",
       "style": "IPY_MODEL_fe622dc20bbe4f33a6ea1d769b4c7efa",
       "value": "Processing CSVs: 100%"
      }
     },
     "f64c80acc7284ef6aa580ede302c61a9": {
      "model_module": "@jupyter-widgets/controls",
      "model_module_version": "2.0.0",
      "model_name": "HTMLStyleModel",
      "state": {
       "description_width": "",
       "font_size": null,
       "text_color": null
      }
     },
     "f6cb6624014b40c88dc413fb8b2ae118": {
      "model_module": "@jupyter-widgets/base",
      "model_module_version": "2.0.0",
      "model_name": "LayoutModel",
      "state": {}
     },
     "f765a43877c147a8a36a994891835fd8": {
      "model_module": "@jupyter-widgets/base",
      "model_module_version": "2.0.0",
      "model_name": "LayoutModel",
      "state": {}
     },
     "f7b9cde730284e7283d06a6751fc6750": {
      "model_module": "@jupyter-widgets/controls",
      "model_module_version": "2.0.0",
      "model_name": "HTMLStyleModel",
      "state": {
       "description_width": "",
       "font_size": null,
       "text_color": null
      }
     },
     "f89c012a543944a69d6b304e35b6ffe4": {
      "model_module": "@jupyter-widgets/base",
      "model_module_version": "2.0.0",
      "model_name": "LayoutModel",
      "state": {
       "visibility": "hidden"
      }
     },
     "f8fbe213e51645ea8e0aa235f9983708": {
      "model_module": "@jupyter-widgets/base",
      "model_module_version": "2.0.0",
      "model_name": "LayoutModel",
      "state": {}
     },
     "f9215a122c4f41c280ed2116fac9edb6": {
      "model_module": "@jupyter-widgets/base",
      "model_module_version": "2.0.0",
      "model_name": "LayoutModel",
      "state": {}
     },
     "fa2cb0998f6d4b90a7b07539e61a0d96": {
      "model_module": "@jupyter-widgets/base",
      "model_module_version": "2.0.0",
      "model_name": "LayoutModel",
      "state": {}
     },
     "fabae1e5667b48ec970526a8aa068487": {
      "model_module": "@jupyter-widgets/base",
      "model_module_version": "2.0.0",
      "model_name": "LayoutModel",
      "state": {}
     },
     "fbaa8c0bf5da4fd68d12ea570e7b1b0e": {
      "model_module": "@jupyter-widgets/base",
      "model_module_version": "2.0.0",
      "model_name": "LayoutModel",
      "state": {
       "visibility": "hidden"
      }
     },
     "fd4acdea28da49f5b373a8d6ee2e830c": {
      "model_module": "@jupyter-widgets/base",
      "model_module_version": "2.0.0",
      "model_name": "LayoutModel",
      "state": {}
     },
     "fd6b89f4094c45acbb7d31c04ebeea76": {
      "model_module": "@jupyter-widgets/base",
      "model_module_version": "2.0.0",
      "model_name": "LayoutModel",
      "state": {
       "visibility": "hidden"
      }
     },
     "fe622dc20bbe4f33a6ea1d769b4c7efa": {
      "model_module": "@jupyter-widgets/controls",
      "model_module_version": "2.0.0",
      "model_name": "HTMLStyleModel",
      "state": {
       "description_width": "",
       "font_size": null,
       "text_color": null
      }
     },
     "fe721694b86348a191177c5baeb24547": {
      "model_module": "@jupyter-widgets/controls",
      "model_module_version": "2.0.0",
      "model_name": "FloatProgressModel",
      "state": {
       "layout": "IPY_MODEL_a8f9b72e142c43f39badcc370529af47",
       "max": 720,
       "style": "IPY_MODEL_209e3075fe414dfa95514f3b1bf3d026",
       "value": 720
      }
     },
     "ff06f3b9616942fe87ee625c0d4282fb": {
      "model_module": "@jupyter-widgets/base",
      "model_module_version": "2.0.0",
      "model_name": "LayoutModel",
      "state": {
       "visibility": "hidden"
      }
     },
     "fff32d4eb36f4e5a93cb08742a87b6c4": {
      "model_module": "@jupyter-widgets/controls",
      "model_module_version": "2.0.0",
      "model_name": "HTMLStyleModel",
      "state": {
       "description_width": "",
       "font_size": null,
       "text_color": null
      }
     }
    },
    "version_major": 2,
    "version_minor": 0
   }
  }
 },
 "nbformat": 4,
 "nbformat_minor": 5
}
